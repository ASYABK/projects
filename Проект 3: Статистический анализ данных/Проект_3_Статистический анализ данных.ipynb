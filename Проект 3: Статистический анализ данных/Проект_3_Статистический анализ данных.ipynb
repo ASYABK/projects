{
 "cells": [
  {
   "cell_type": "markdown",
   "id": "40e3da17",
   "metadata": {},
   "source": [
    " # Исследование сервиса аренды самокатов GoFast\n",
    "\n",
    "Для анализа были предаставлены данные о некоторых пользователях из нескольких городов, а также об их поездках. Необходимо проанализировать данные и проверить некоторые гипотезы, которые могут помочь бизнесу вырасти.\n",
    "Чтобы совершать поездки по городу, пользователи сервиса GoFast пользуются мобильным приложением. Сервисом можно пользоваться:\n",
    "    \n",
    "- без подписки\n",
    "    - абонентская плата отсутствует;\n",
    "    - стоимость одной минуты поездки — 8 рублей;\n",
    "    - стоимость старта (начала поездки) — 50 рублей;\n",
    "- с подпиской Ultra\n",
    "    - абонентская плата — 199 рублей в месяц;\n",
    "    - стоимость одной минуты поездки — 6 рублей;\n",
    "    - стоимость старта — бесплатно."
   ]
  },
  {
   "cell_type": "markdown",
   "id": "0659e96d",
   "metadata": {},
   "source": [
    "**Описание данных**\n",
    "\n",
    "В основных данных есть информация о пользователях, их поездках и подписках.\n",
    "Таблица пользователи — data_users\n",
    "    \n",
    "- user_id - уникальный идентификатор пользователя\n",
    "- name - имя пользователя\n",
    "- age - возраст\n",
    "- city - город\n",
    "- subscription_type - тип подписки (free, ultra)\n",
    "    \n",
    "Таблица поездки — data_rides\n",
    "    \n",
    "- user_id - уникальный идентификатор пользователя\n",
    "- distance - расстояние, которое пользователь проехал в текущей сессии (в метрах)\n",
    "- duration - продолжительность сессии (в минутах) — время с того момента, как пользователь нажал кнопку «Начать поездку» до момента, как он нажал кнопку «Завершить поездку»\n",
    "- date - дата совершения поездки\n",
    "    \n",
    "Таблица подписки — data_subscriptions\n",
    "    \n",
    "- subscription_type - тип подписки\n",
    "- minute_price - стоимость одной минуты поездки по данной подписке\n",
    "- start_ride_price - стоимость начала поездки\n",
    "- subscription_fee - стоимость ежемесячного платежа\n",
    "    "
   ]
  },
  {
   "cell_type": "code",
   "execution_count": 1,
   "id": "72576667",
   "metadata": {},
   "outputs": [],
   "source": [
    "import pandas as pd\n",
    "import matplotlib.pyplot as plt\n",
    "import numpy as np\n",
    "from scipy import stats as st\n",
    "from math import sqrt\n",
    "from math import factorial\n",
    "from scipy.stats import binom, norm"
   ]
  },
  {
   "cell_type": "markdown",
   "id": "c42cbe00",
   "metadata": {},
   "source": [
    "#### Шаг 1. Загрузка данных"
   ]
  },
  {
   "cell_type": "code",
   "execution_count": 2,
   "id": "eff9f206",
   "metadata": {},
   "outputs": [],
   "source": [
    "#Откроем файлы users_go.csv, rides_go.csv, subscriptions_go.csv\n",
    "\n",
    "try:\n",
    "    data_users = pd.read_csv('/datasets/users_go.csv')\n",
    "    data_rides = pd.read_csv('/datasets/rides_go.csv')\n",
    "    data_subscriptions = pd.read_csv('/datasets/subscriptions_go.csv')\n",
    "except:\n",
    "    data_users = pd.read_csv('users_go.csv')\n",
    "    data_rides = pd.read_csv('rides_go.csv')\n",
    "    data_subscriptions = pd.read_csv('subscriptions_go.csv')"
   ]
  },
  {
   "cell_type": "markdown",
   "id": "a072f4d5",
   "metadata": {},
   "source": [
    "##### Открытие таблицы data_users"
   ]
  },
  {
   "cell_type": "code",
   "execution_count": 3,
   "id": "881ec8d5",
   "metadata": {},
   "outputs": [
    {
     "data": {
      "text/html": [
       "<div>\n",
       "<style scoped>\n",
       "    .dataframe tbody tr th:only-of-type {\n",
       "        vertical-align: middle;\n",
       "    }\n",
       "\n",
       "    .dataframe tbody tr th {\n",
       "        vertical-align: top;\n",
       "    }\n",
       "\n",
       "    .dataframe thead th {\n",
       "        text-align: right;\n",
       "    }\n",
       "</style>\n",
       "<table border=\"1\" class=\"dataframe\">\n",
       "  <thead>\n",
       "    <tr style=\"text-align: right;\">\n",
       "      <th></th>\n",
       "      <th>user_id</th>\n",
       "      <th>name</th>\n",
       "      <th>age</th>\n",
       "      <th>city</th>\n",
       "      <th>subscription_type</th>\n",
       "    </tr>\n",
       "  </thead>\n",
       "  <tbody>\n",
       "    <tr>\n",
       "      <th>0</th>\n",
       "      <td>1</td>\n",
       "      <td>Кира</td>\n",
       "      <td>22</td>\n",
       "      <td>Тюмень</td>\n",
       "      <td>ultra</td>\n",
       "    </tr>\n",
       "    <tr>\n",
       "      <th>1</th>\n",
       "      <td>2</td>\n",
       "      <td>Станислав</td>\n",
       "      <td>31</td>\n",
       "      <td>Омск</td>\n",
       "      <td>ultra</td>\n",
       "    </tr>\n",
       "    <tr>\n",
       "      <th>2</th>\n",
       "      <td>3</td>\n",
       "      <td>Алексей</td>\n",
       "      <td>20</td>\n",
       "      <td>Москва</td>\n",
       "      <td>ultra</td>\n",
       "    </tr>\n",
       "    <tr>\n",
       "      <th>3</th>\n",
       "      <td>4</td>\n",
       "      <td>Константин</td>\n",
       "      <td>26</td>\n",
       "      <td>Ростов-на-Дону</td>\n",
       "      <td>ultra</td>\n",
       "    </tr>\n",
       "    <tr>\n",
       "      <th>4</th>\n",
       "      <td>5</td>\n",
       "      <td>Адель</td>\n",
       "      <td>28</td>\n",
       "      <td>Омск</td>\n",
       "      <td>ultra</td>\n",
       "    </tr>\n",
       "  </tbody>\n",
       "</table>\n",
       "</div>"
      ],
      "text/plain": [
       "   user_id        name  age            city subscription_type\n",
       "0        1        Кира   22          Тюмень             ultra\n",
       "1        2   Станислав   31            Омск             ultra\n",
       "2        3     Алексей   20          Москва             ultra\n",
       "3        4  Константин   26  Ростов-на-Дону             ultra\n",
       "4        5       Адель   28            Омск             ultra"
      ]
     },
     "metadata": {},
     "output_type": "display_data"
    }
   ],
   "source": [
    "#Выведем первые строки датафрейма data_users\n",
    "display(data_users.head())"
   ]
  },
  {
   "cell_type": "code",
   "execution_count": 4,
   "id": "8e4ffec4",
   "metadata": {},
   "outputs": [
    {
     "name": "stdout",
     "output_type": "stream",
     "text": [
      "<class 'pandas.core.frame.DataFrame'>\n",
      "RangeIndex: 1565 entries, 0 to 1564\n",
      "Data columns (total 5 columns):\n",
      " #   Column             Non-Null Count  Dtype \n",
      "---  ------             --------------  ----- \n",
      " 0   user_id            1565 non-null   int64 \n",
      " 1   name               1565 non-null   object\n",
      " 2   age                1565 non-null   int64 \n",
      " 3   city               1565 non-null   object\n",
      " 4   subscription_type  1565 non-null   object\n",
      "dtypes: int64(2), object(3)\n",
      "memory usage: 61.3+ KB\n"
     ]
    }
   ],
   "source": [
    "#Рассмотрм основную информацию\n",
    "data_users.info()"
   ]
  },
  {
   "cell_type": "markdown",
   "id": "e22956e7",
   "metadata": {},
   "source": [
    "Пустых значений в данной таблице нет, типы данных соответствуют категориям значений, наименования приведены к змеиному регистру."
   ]
  },
  {
   "cell_type": "code",
   "execution_count": 5,
   "id": "be1bbe90",
   "metadata": {
    "scrolled": false
   },
   "outputs": [
    {
     "data": {
      "image/png": "[encoded data removed]",
      "text/plain": [
       "<Figure size 640x480 with 1 Axes>"
      ]
     },
     "metadata": {},
     "output_type": "display_data"
    }
   ],
   "source": [
    "#Построим гистограмму для столбца user_id\n",
    "plt.title(label='Частота перечисления ID пользователя в таблице data_users')\n",
    "plt.xlabel('ID пользователя')\n",
    "plt.ylabel('Частота')\n",
    "plt.grid(True)\n",
    "plt.hist(x=data_users['user_id'], bins=50, density=True);"
   ]
  },
  {
   "cell_type": "code",
   "execution_count": 6,
   "id": "84eae9ae",
   "metadata": {
    "scrolled": false
   },
   "outputs": [
    {
     "data": {
      "image/png": "[encoded data removed]",
      "text/plain": [
       "<Figure size 640x480 with 1 Axes>"
      ]
     },
     "metadata": {},
     "output_type": "display_data"
    }
   ],
   "source": [
    "#Построим гистограмму для столбца age\n",
    "plt.title(label='Данные о пользователях сервиса по возрастному критерию')\n",
    "plt.xlabel('Возраст пользователя')\n",
    "plt.ylabel('Частота')\n",
    "plt.grid(True)\n",
    "plt.hist(x=data_users['age'], bins=30, density=True);"
   ]
  },
  {
   "cell_type": "markdown",
   "id": "fb7946a1",
   "metadata": {},
   "source": [
    "Первый график свидетельствует о равномерном распределении id пользователей. Второй график показывает, что данными поездками пользуются пользователи разных возрастов, но чаще всего люди 25-26 лет."
   ]
  },
  {
   "cell_type": "markdown",
   "id": "b56c8826",
   "metadata": {},
   "source": [
    "##### Открытие таблицы data_rides"
   ]
  },
  {
   "cell_type": "code",
   "execution_count": 7,
   "id": "d242a216",
   "metadata": {},
   "outputs": [
    {
     "data": {
      "text/html": [
       "<div>\n",
       "<style scoped>\n",
       "    .dataframe tbody tr th:only-of-type {\n",
       "        vertical-align: middle;\n",
       "    }\n",
       "\n",
       "    .dataframe tbody tr th {\n",
       "        vertical-align: top;\n",
       "    }\n",
       "\n",
       "    .dataframe thead th {\n",
       "        text-align: right;\n",
       "    }\n",
       "</style>\n",
       "<table border=\"1\" class=\"dataframe\">\n",
       "  <thead>\n",
       "    <tr style=\"text-align: right;\">\n",
       "      <th></th>\n",
       "      <th>user_id</th>\n",
       "      <th>distance</th>\n",
       "      <th>duration</th>\n",
       "      <th>date</th>\n",
       "    </tr>\n",
       "  </thead>\n",
       "  <tbody>\n",
       "    <tr>\n",
       "      <th>0</th>\n",
       "      <td>1</td>\n",
       "      <td>4409.919140</td>\n",
       "      <td>25.599769</td>\n",
       "      <td>2021-01-01</td>\n",
       "    </tr>\n",
       "    <tr>\n",
       "      <th>1</th>\n",
       "      <td>1</td>\n",
       "      <td>2617.592153</td>\n",
       "      <td>15.816871</td>\n",
       "      <td>2021-01-18</td>\n",
       "    </tr>\n",
       "    <tr>\n",
       "      <th>2</th>\n",
       "      <td>1</td>\n",
       "      <td>754.159807</td>\n",
       "      <td>6.232113</td>\n",
       "      <td>2021-04-20</td>\n",
       "    </tr>\n",
       "    <tr>\n",
       "      <th>3</th>\n",
       "      <td>1</td>\n",
       "      <td>2694.783254</td>\n",
       "      <td>18.511000</td>\n",
       "      <td>2021-08-11</td>\n",
       "    </tr>\n",
       "    <tr>\n",
       "      <th>4</th>\n",
       "      <td>1</td>\n",
       "      <td>4028.687306</td>\n",
       "      <td>26.265803</td>\n",
       "      <td>2021-08-28</td>\n",
       "    </tr>\n",
       "  </tbody>\n",
       "</table>\n",
       "</div>"
      ],
      "text/plain": [
       "   user_id     distance   duration        date\n",
       "0        1  4409.919140  25.599769  2021-01-01\n",
       "1        1  2617.592153  15.816871  2021-01-18\n",
       "2        1   754.159807   6.232113  2021-04-20\n",
       "3        1  2694.783254  18.511000  2021-08-11\n",
       "4        1  4028.687306  26.265803  2021-08-28"
      ]
     },
     "metadata": {},
     "output_type": "display_data"
    }
   ],
   "source": [
    "#Выведем первые строки датафрейма data_rides\n",
    "display(data_rides.head())"
   ]
  },
  {
   "cell_type": "code",
   "execution_count": 8,
   "id": "608a346a",
   "metadata": {},
   "outputs": [
    {
     "name": "stdout",
     "output_type": "stream",
     "text": [
      "<class 'pandas.core.frame.DataFrame'>\n",
      "RangeIndex: 18068 entries, 0 to 18067\n",
      "Data columns (total 4 columns):\n",
      " #   Column    Non-Null Count  Dtype  \n",
      "---  ------    --------------  -----  \n",
      " 0   user_id   18068 non-null  int64  \n",
      " 1   distance  18068 non-null  float64\n",
      " 2   duration  18068 non-null  float64\n",
      " 3   date      18068 non-null  object \n",
      "dtypes: float64(2), int64(1), object(1)\n",
      "memory usage: 564.8+ KB\n"
     ]
    }
   ],
   "source": [
    "#Рассмотрм основную информацию\n",
    "data_rides.info()"
   ]
  },
  {
   "cell_type": "markdown",
   "id": "7362c332",
   "metadata": {},
   "source": [
    "Нет пустых значений, типы данных соответствуют категориям значений, наименования приведены к змеиному регистру, необходимо преобразовать столбец с датами к типу даты."
   ]
  },
  {
   "cell_type": "code",
   "execution_count": 9,
   "id": "7a902d88",
   "metadata": {
    "scrolled": true
   },
   "outputs": [
    {
     "data": {
      "image/png": "[encoded data removed]",
      "text/plain": [
       "<Figure size 640x480 with 1 Axes>"
      ]
     },
     "metadata": {},
     "output_type": "display_data"
    }
   ],
   "source": [
    "#Построим гистограмму для столбца user_id\n",
    "plt.title(label='Соотношение ID пользователя и количество поездок на самокате')\n",
    "plt.xlabel('ID пользователя')\n",
    "plt.ylabel('Частота использования самоката')\n",
    "plt.grid(True)\n",
    "plt.hist(x=data_rides['user_id'], bins=30, density=True);"
   ]
  },
  {
   "cell_type": "code",
   "execution_count": 10,
   "id": "1e68deb8",
   "metadata": {
    "scrolled": false
   },
   "outputs": [
    {
     "data": {
      "image/png": "[encoded data removed]",
      "text/plain": [
       "<Figure size 640x480 with 1 Axes>"
      ]
     },
     "metadata": {},
     "output_type": "display_data"
    }
   ],
   "source": [
    "#Построим гистограмму для столбца distance\n",
    "plt.title(label='Распределение поездок по их расстоянию')\n",
    "plt.xlabel('Дистаниция, м')\n",
    "plt.ylabel('Частота дистанций')\n",
    "plt.grid(True)\n",
    "plt.hist(x=data_rides['distance'], bins=30, density=True);"
   ]
  },
  {
   "cell_type": "code",
   "execution_count": 11,
   "id": "e68959d6",
   "metadata": {
    "scrolled": false
   },
   "outputs": [
    {
     "data": {
      "image/png": "[encoded data removed]",
      "text/plain": [
       "<Figure size 640x480 with 1 Axes>"
      ]
     },
     "metadata": {},
     "output_type": "display_data"
    }
   ],
   "source": [
    "#Построим гистограмму для столбца duration\n",
    "plt.title(label='Распределение поездок по их длительности')\n",
    "plt.xlabel('Продолжительность, мин.')\n",
    "plt.ylabel('Частота встречающегося времени')\n",
    "plt.grid(True)\n",
    "plt.hist(x=data_rides['duration'], bins=30, density=True);"
   ]
  },
  {
   "cell_type": "markdown",
   "id": "c563e635",
   "metadata": {},
   "source": [
    "На первой гистограмме показано распределение частоты поездок каждого пользователя. \n",
    "Вторая гистограмма показывает для каких дистанций чаще всего используют самокаты (2900-3600м).\n",
    "Третья гистограмма отображает продолжительность поездок, чаще всего это 16-20 минут. "
   ]
  },
  {
   "cell_type": "markdown",
   "id": "ca66f48d",
   "metadata": {},
   "source": [
    "##### Открытие таблицы data_subscriptions"
   ]
  },
  {
   "cell_type": "code",
   "execution_count": 12,
   "id": "bfd2a37d",
   "metadata": {},
   "outputs": [
    {
     "data": {
      "text/html": [
       "<div>\n",
       "<style scoped>\n",
       "    .dataframe tbody tr th:only-of-type {\n",
       "        vertical-align: middle;\n",
       "    }\n",
       "\n",
       "    .dataframe tbody tr th {\n",
       "        vertical-align: top;\n",
       "    }\n",
       "\n",
       "    .dataframe thead th {\n",
       "        text-align: right;\n",
       "    }\n",
       "</style>\n",
       "<table border=\"1\" class=\"dataframe\">\n",
       "  <thead>\n",
       "    <tr style=\"text-align: right;\">\n",
       "      <th></th>\n",
       "      <th>subscription_type</th>\n",
       "      <th>minute_price</th>\n",
       "      <th>start_ride_price</th>\n",
       "      <th>subscription_fee</th>\n",
       "    </tr>\n",
       "  </thead>\n",
       "  <tbody>\n",
       "    <tr>\n",
       "      <th>0</th>\n",
       "      <td>free</td>\n",
       "      <td>8</td>\n",
       "      <td>50</td>\n",
       "      <td>0</td>\n",
       "    </tr>\n",
       "    <tr>\n",
       "      <th>1</th>\n",
       "      <td>ultra</td>\n",
       "      <td>6</td>\n",
       "      <td>0</td>\n",
       "      <td>199</td>\n",
       "    </tr>\n",
       "  </tbody>\n",
       "</table>\n",
       "</div>"
      ],
      "text/plain": [
       "  subscription_type  minute_price  start_ride_price  subscription_fee\n",
       "0              free             8                50                 0\n",
       "1             ultra             6                 0               199"
      ]
     },
     "metadata": {},
     "output_type": "display_data"
    }
   ],
   "source": [
    "#Выведем первые строки датафрейма data_subscriptions\n",
    "display(data_subscriptions.head())"
   ]
  },
  {
   "cell_type": "code",
   "execution_count": 13,
   "id": "b0bb2d72",
   "metadata": {},
   "outputs": [
    {
     "name": "stdout",
     "output_type": "stream",
     "text": [
      "<class 'pandas.core.frame.DataFrame'>\n",
      "RangeIndex: 2 entries, 0 to 1\n",
      "Data columns (total 4 columns):\n",
      " #   Column             Non-Null Count  Dtype \n",
      "---  ------             --------------  ----- \n",
      " 0   subscription_type  2 non-null      object\n",
      " 1   minute_price       2 non-null      int64 \n",
      " 2   start_ride_price   2 non-null      int64 \n",
      " 3   subscription_fee   2 non-null      int64 \n",
      "dtypes: int64(3), object(1)\n",
      "memory usage: 192.0+ bytes\n"
     ]
    }
   ],
   "source": [
    "#Рассмотрм основную информацию\n",
    "data_subscriptions.info()"
   ]
  },
  {
   "cell_type": "markdown",
   "id": "665e2032",
   "metadata": {},
   "source": [
    "Пустые значения в таблице обоснованы нулевой ценой, типы данных соответствуют категориям значений, наименования приведены к змеиному регистру, данные соответствуют заявленному описанию."
   ]
  },
  {
   "cell_type": "code",
   "execution_count": 14,
   "id": "c61dc9e6",
   "metadata": {},
   "outputs": [
    {
     "data": {
      "image/png": "[encoded data removed]",
      "text/plain": [
       "<Figure size 640x480 with 1 Axes>"
      ]
     },
     "metadata": {},
     "output_type": "display_data"
    }
   ],
   "source": [
    "#Построим гистограмму для столбца minute_price\n",
    "plt.title(label='Распределение по стоимости минуты поездки в зависимости от тарифа')\n",
    "plt.xlabel('Цена за минуту')\n",
    "plt.ylabel('Частота')\n",
    "plt.grid(True)\n",
    "plt.hist(x=data_subscriptions['minute_price'], bins=3, density=True);"
   ]
  },
  {
   "cell_type": "code",
   "execution_count": 15,
   "id": "62aeb280",
   "metadata": {},
   "outputs": [
    {
     "data": {
      "image/png": "[encoded data removed]",
      "text/plain": [
       "<Figure size 640x480 with 1 Axes>"
      ]
     },
     "metadata": {},
     "output_type": "display_data"
    }
   ],
   "source": [
    "#Построим гистограмму для столбца start_ride_price\n",
    "plt.title(label='Распределение по стоимости старта поездки в зависимости от тарифа')\n",
    "plt.xlabel('Цена старта поездки')\n",
    "plt.ylabel('Частота')\n",
    "plt.grid(True)\n",
    "plt.hist(x=data_subscriptions['start_ride_price'], bins=3, density=True);"
   ]
  },
  {
   "cell_type": "code",
   "execution_count": 16,
   "id": "0d552987",
   "metadata": {},
   "outputs": [
    {
     "data": {
      "image/png": "[encoded data removed]",
      "text/plain": [
       "<Figure size 640x480 with 1 Axes>"
      ]
     },
     "metadata": {},
     "output_type": "display_data"
    }
   ],
   "source": [
    "#Построим гистограмму для столбца subscription_fee\n",
    "plt.title(label='Распределение цены подписки в зависимости от тарифа')\n",
    "plt.xlabel('Цена подписки')\n",
    "plt.ylabel('Частота')\n",
    "plt.grid(True)\n",
    "plt.hist(x=data_subscriptions['subscription_fee'], bins=3, density=True);"
   ]
  },
  {
   "cell_type": "markdown",
   "id": "b2821912",
   "metadata": {},
   "source": [
    "Все представленные гистограммы отражают значения двух тарифов: ultra и free, поэтому график приобретает значение с двумя горизонтальными линиями."
   ]
  },
  {
   "cell_type": "markdown",
   "id": "e95ebca7",
   "metadata": {},
   "source": [
    "#### Шаг 2. Предобработка данных"
   ]
  },
  {
   "cell_type": "markdown",
   "id": "414765ee",
   "metadata": {},
   "source": [
    "##### Рассмотрение и преобразование таблицы data_users"
   ]
  },
  {
   "cell_type": "code",
   "execution_count": 17,
   "id": "af6d202c",
   "metadata": {},
   "outputs": [
    {
     "data": {
      "text/plain": [
       "user_id              0\n",
       "name                 0\n",
       "age                  0\n",
       "city                 0\n",
       "subscription_type    0\n",
       "dtype: int64"
      ]
     },
     "execution_count": 17,
     "metadata": {},
     "output_type": "execute_result"
    }
   ],
   "source": [
    "#Рассмотрим общее количество пропусков по таблице data_users\n",
    "data_users.isna().sum()"
   ]
  },
  {
   "cell_type": "code",
   "execution_count": 18,
   "id": "91d7b68d",
   "metadata": {},
   "outputs": [
    {
     "data": {
      "text/plain": [
       "31"
      ]
     },
     "execution_count": 18,
     "metadata": {},
     "output_type": "execute_result"
    }
   ],
   "source": [
    "#Проверим таблицу data_users на наличие дубликатов на начальном этапе\n",
    "data_users.duplicated().sum()"
   ]
  },
  {
   "cell_type": "code",
   "execution_count": 19,
   "id": "2e70c1d0",
   "metadata": {
    "scrolled": true
   },
   "outputs": [
    {
     "data": {
      "text/html": [
       "<div>\n",
       "<style scoped>\n",
       "    .dataframe tbody tr th:only-of-type {\n",
       "        vertical-align: middle;\n",
       "    }\n",
       "\n",
       "    .dataframe tbody tr th {\n",
       "        vertical-align: top;\n",
       "    }\n",
       "\n",
       "    .dataframe thead th {\n",
       "        text-align: right;\n",
       "    }\n",
       "</style>\n",
       "<table border=\"1\" class=\"dataframe\">\n",
       "  <thead>\n",
       "    <tr style=\"text-align: right;\">\n",
       "      <th></th>\n",
       "      <th>user_id</th>\n",
       "      <th>name</th>\n",
       "      <th>age</th>\n",
       "      <th>city</th>\n",
       "      <th>subscription_type</th>\n",
       "    </tr>\n",
       "  </thead>\n",
       "  <tbody>\n",
       "    <tr>\n",
       "      <th>1534</th>\n",
       "      <td>293</td>\n",
       "      <td>Агата</td>\n",
       "      <td>26</td>\n",
       "      <td>Краснодар</td>\n",
       "      <td>ultra</td>\n",
       "    </tr>\n",
       "    <tr>\n",
       "      <th>1535</th>\n",
       "      <td>16</td>\n",
       "      <td>Амалия</td>\n",
       "      <td>27</td>\n",
       "      <td>Краснодар</td>\n",
       "      <td>ultra</td>\n",
       "    </tr>\n",
       "    <tr>\n",
       "      <th>1536</th>\n",
       "      <td>909</td>\n",
       "      <td>Константин</td>\n",
       "      <td>20</td>\n",
       "      <td>Екатеринбург</td>\n",
       "      <td>free</td>\n",
       "    </tr>\n",
       "    <tr>\n",
       "      <th>1537</th>\n",
       "      <td>403</td>\n",
       "      <td>Полина</td>\n",
       "      <td>19</td>\n",
       "      <td>Сочи</td>\n",
       "      <td>ultra</td>\n",
       "    </tr>\n",
       "    <tr>\n",
       "      <th>1538</th>\n",
       "      <td>908</td>\n",
       "      <td>Рустам</td>\n",
       "      <td>30</td>\n",
       "      <td>Тюмень</td>\n",
       "      <td>free</td>\n",
       "    </tr>\n",
       "    <tr>\n",
       "      <th>1539</th>\n",
       "      <td>43</td>\n",
       "      <td>Стефания</td>\n",
       "      <td>22</td>\n",
       "      <td>Омск</td>\n",
       "      <td>ultra</td>\n",
       "    </tr>\n",
       "    <tr>\n",
       "      <th>1540</th>\n",
       "      <td>127</td>\n",
       "      <td>Павел</td>\n",
       "      <td>25</td>\n",
       "      <td>Пятигорск</td>\n",
       "      <td>ultra</td>\n",
       "    </tr>\n",
       "    <tr>\n",
       "      <th>1541</th>\n",
       "      <td>659</td>\n",
       "      <td>Злата</td>\n",
       "      <td>27</td>\n",
       "      <td>Ростов-на-Дону</td>\n",
       "      <td>ultra</td>\n",
       "    </tr>\n",
       "    <tr>\n",
       "      <th>1542</th>\n",
       "      <td>204</td>\n",
       "      <td>Руслан</td>\n",
       "      <td>30</td>\n",
       "      <td>Пятигорск</td>\n",
       "      <td>ultra</td>\n",
       "    </tr>\n",
       "    <tr>\n",
       "      <th>1543</th>\n",
       "      <td>153</td>\n",
       "      <td>Герман</td>\n",
       "      <td>23</td>\n",
       "      <td>Москва</td>\n",
       "      <td>ultra</td>\n",
       "    </tr>\n",
       "    <tr>\n",
       "      <th>1544</th>\n",
       "      <td>1245</td>\n",
       "      <td>Регина</td>\n",
       "      <td>27</td>\n",
       "      <td>Пятигорск</td>\n",
       "      <td>free</td>\n",
       "    </tr>\n",
       "    <tr>\n",
       "      <th>1545</th>\n",
       "      <td>807</td>\n",
       "      <td>Александр</td>\n",
       "      <td>28</td>\n",
       "      <td>Екатеринбург</td>\n",
       "      <td>free</td>\n",
       "    </tr>\n",
       "    <tr>\n",
       "      <th>1546</th>\n",
       "      <td>924</td>\n",
       "      <td>Мария</td>\n",
       "      <td>23</td>\n",
       "      <td>Пятигорск</td>\n",
       "      <td>free</td>\n",
       "    </tr>\n",
       "    <tr>\n",
       "      <th>1547</th>\n",
       "      <td>635</td>\n",
       "      <td>Герман</td>\n",
       "      <td>21</td>\n",
       "      <td>Москва</td>\n",
       "      <td>ultra</td>\n",
       "    </tr>\n",
       "    <tr>\n",
       "      <th>1548</th>\n",
       "      <td>136</td>\n",
       "      <td>Марсель</td>\n",
       "      <td>25</td>\n",
       "      <td>Тюмень</td>\n",
       "      <td>ultra</td>\n",
       "    </tr>\n",
       "    <tr>\n",
       "      <th>1549</th>\n",
       "      <td>108</td>\n",
       "      <td>Влада</td>\n",
       "      <td>29</td>\n",
       "      <td>Тюмень</td>\n",
       "      <td>ultra</td>\n",
       "    </tr>\n",
       "    <tr>\n",
       "      <th>1550</th>\n",
       "      <td>737</td>\n",
       "      <td>Мелания</td>\n",
       "      <td>27</td>\n",
       "      <td>Ростов-на-Дону</td>\n",
       "      <td>free</td>\n",
       "    </tr>\n",
       "    <tr>\n",
       "      <th>1551</th>\n",
       "      <td>666</td>\n",
       "      <td>Зарина</td>\n",
       "      <td>29</td>\n",
       "      <td>Москва</td>\n",
       "      <td>ultra</td>\n",
       "    </tr>\n",
       "    <tr>\n",
       "      <th>1552</th>\n",
       "      <td>297</td>\n",
       "      <td>Егор</td>\n",
       "      <td>33</td>\n",
       "      <td>Пятигорск</td>\n",
       "      <td>ultra</td>\n",
       "    </tr>\n",
       "    <tr>\n",
       "      <th>1553</th>\n",
       "      <td>121</td>\n",
       "      <td>Алина</td>\n",
       "      <td>25</td>\n",
       "      <td>Пятигорск</td>\n",
       "      <td>ultra</td>\n",
       "    </tr>\n",
       "    <tr>\n",
       "      <th>1554</th>\n",
       "      <td>1198</td>\n",
       "      <td>Демид</td>\n",
       "      <td>29</td>\n",
       "      <td>Ростов-на-Дону</td>\n",
       "      <td>free</td>\n",
       "    </tr>\n",
       "    <tr>\n",
       "      <th>1555</th>\n",
       "      <td>72</td>\n",
       "      <td>Никита</td>\n",
       "      <td>25</td>\n",
       "      <td>Москва</td>\n",
       "      <td>ultra</td>\n",
       "    </tr>\n",
       "    <tr>\n",
       "      <th>1556</th>\n",
       "      <td>422</td>\n",
       "      <td>Кирилл</td>\n",
       "      <td>27</td>\n",
       "      <td>Сочи</td>\n",
       "      <td>ultra</td>\n",
       "    </tr>\n",
       "    <tr>\n",
       "      <th>1557</th>\n",
       "      <td>611</td>\n",
       "      <td>Владимир</td>\n",
       "      <td>28</td>\n",
       "      <td>Омск</td>\n",
       "      <td>ultra</td>\n",
       "    </tr>\n",
       "    <tr>\n",
       "      <th>1558</th>\n",
       "      <td>1237</td>\n",
       "      <td>Евгения</td>\n",
       "      <td>23</td>\n",
       "      <td>Тюмень</td>\n",
       "      <td>free</td>\n",
       "    </tr>\n",
       "    <tr>\n",
       "      <th>1559</th>\n",
       "      <td>209</td>\n",
       "      <td>Андрей</td>\n",
       "      <td>23</td>\n",
       "      <td>Омск</td>\n",
       "      <td>ultra</td>\n",
       "    </tr>\n",
       "    <tr>\n",
       "      <th>1560</th>\n",
       "      <td>829</td>\n",
       "      <td>Федор</td>\n",
       "      <td>29</td>\n",
       "      <td>Пятигорск</td>\n",
       "      <td>free</td>\n",
       "    </tr>\n",
       "    <tr>\n",
       "      <th>1561</th>\n",
       "      <td>809</td>\n",
       "      <td>Юрий</td>\n",
       "      <td>26</td>\n",
       "      <td>Сочи</td>\n",
       "      <td>free</td>\n",
       "    </tr>\n",
       "    <tr>\n",
       "      <th>1562</th>\n",
       "      <td>307</td>\n",
       "      <td>Ясмина</td>\n",
       "      <td>19</td>\n",
       "      <td>Краснодар</td>\n",
       "      <td>ultra</td>\n",
       "    </tr>\n",
       "    <tr>\n",
       "      <th>1563</th>\n",
       "      <td>47</td>\n",
       "      <td>Юрий</td>\n",
       "      <td>28</td>\n",
       "      <td>Тюмень</td>\n",
       "      <td>ultra</td>\n",
       "    </tr>\n",
       "    <tr>\n",
       "      <th>1564</th>\n",
       "      <td>1045</td>\n",
       "      <td>Артемий</td>\n",
       "      <td>28</td>\n",
       "      <td>Ростов-на-Дону</td>\n",
       "      <td>free</td>\n",
       "    </tr>\n",
       "  </tbody>\n",
       "</table>\n",
       "</div>"
      ],
      "text/plain": [
       "      user_id        name  age            city subscription_type\n",
       "1534      293       Агата   26       Краснодар             ultra\n",
       "1535       16      Амалия   27       Краснодар             ultra\n",
       "1536      909  Константин   20    Екатеринбург              free\n",
       "1537      403      Полина   19            Сочи             ultra\n",
       "1538      908      Рустам   30          Тюмень              free\n",
       "1539       43    Стефания   22            Омск             ultra\n",
       "1540      127       Павел   25       Пятигорск             ultra\n",
       "1541      659       Злата   27  Ростов-на-Дону             ultra\n",
       "1542      204      Руслан   30       Пятигорск             ultra\n",
       "1543      153      Герман   23          Москва             ultra\n",
       "1544     1245      Регина   27       Пятигорск              free\n",
       "1545      807   Александр   28    Екатеринбург              free\n",
       "1546      924       Мария   23       Пятигорск              free\n",
       "1547      635      Герман   21          Москва             ultra\n",
       "1548      136     Марсель   25          Тюмень             ultra\n",
       "1549      108       Влада   29          Тюмень             ultra\n",
       "1550      737     Мелания   27  Ростов-на-Дону              free\n",
       "1551      666      Зарина   29          Москва             ultra\n",
       "1552      297        Егор   33       Пятигорск             ultra\n",
       "1553      121       Алина   25       Пятигорск             ultra\n",
       "1554     1198       Демид   29  Ростов-на-Дону              free\n",
       "1555       72      Никита   25          Москва             ultra\n",
       "1556      422      Кирилл   27            Сочи             ultra\n",
       "1557      611    Владимир   28            Омск             ultra\n",
       "1558     1237     Евгения   23          Тюмень              free\n",
       "1559      209      Андрей   23            Омск             ultra\n",
       "1560      829       Федор   29       Пятигорск              free\n",
       "1561      809        Юрий   26            Сочи              free\n",
       "1562      307      Ясмина   19       Краснодар             ultra\n",
       "1563       47        Юрий   28          Тюмень             ultra\n",
       "1564     1045     Артемий   28  Ростов-на-Дону              free"
      ]
     },
     "execution_count": 19,
     "metadata": {},
     "output_type": "execute_result"
    }
   ],
   "source": [
    "#Выведем выявленные дубликаты в таблице data_users\n",
    "data_users[data_users.duplicated()]"
   ]
  },
  {
   "cell_type": "code",
   "execution_count": 20,
   "id": "adf010fd",
   "metadata": {},
   "outputs": [],
   "source": [
    "#Исключим дубликаты из выборки\n",
    "data_users = data_users.drop_duplicates()\n",
    "data_users = data_users.reset_index(drop=True)"
   ]
  },
  {
   "cell_type": "code",
   "execution_count": 21,
   "id": "b3d0ec67",
   "metadata": {},
   "outputs": [
    {
     "data": {
      "text/plain": [
       "0"
      ]
     },
     "execution_count": 21,
     "metadata": {},
     "output_type": "execute_result"
    }
   ],
   "source": [
    "#Проверим таблицу на наличие дубликатов после проведенных действий\n",
    "data_users.duplicated().sum()"
   ]
  },
  {
   "cell_type": "code",
   "execution_count": 22,
   "id": "58bd29ad",
   "metadata": {},
   "outputs": [
    {
     "data": {
      "text/plain": [
       "25    145\n",
       "24    132\n",
       "26    131\n",
       "23    129\n",
       "22    119\n",
       "27    119\n",
       "28    112\n",
       "21     93\n",
       "20     71\n",
       "30     68\n",
       "29     68\n",
       "31     48\n",
       "19     47\n",
       "18     46\n",
       "32     41\n",
       "33     39\n",
       "17     26\n",
       "16     19\n",
       "34     19\n",
       "35     15\n",
       "15     13\n",
       "14      9\n",
       "13      8\n",
       "36      6\n",
       "12      4\n",
       "38      3\n",
       "37      2\n",
       "39      1\n",
       "43      1\n",
       "Name: age, dtype: int64"
      ]
     },
     "execution_count": 22,
     "metadata": {},
     "output_type": "execute_result"
    }
   ],
   "source": [
    "#Рассмотрм разброс значений в таблице data_users\n",
    "data_users['age'].value_counts()"
   ]
  },
  {
   "cell_type": "markdown",
   "id": "415e132a",
   "metadata": {},
   "source": [
    "Категоризируем данные для более наглядной работы в последующем\n",
    "- 0–20 — 'младше 21';\n",
    "- 21–25 — '21-25';\n",
    "- 26–30 — '26-30';\n",
    "- 31 и старше — 'старше 30'."
   ]
  },
  {
   "cell_type": "code",
   "execution_count": 23,
   "id": "c59742c0",
   "metadata": {},
   "outputs": [],
   "source": [
    "#Категоризируем данные по возрасту пользователей\n",
    "def categorize_age(row):\n",
    "    try:\n",
    "        if 0 <= row <= 20:\n",
    "            return 'младше 21'\n",
    "        elif 21 <= row <= 25:\n",
    "            return '21-25'\n",
    "        elif 26 <= row <= 30:\n",
    "            return '26-30'\n",
    "        elif row >= 31:\n",
    "            return 'старше 30'\n",
    "    except:\n",
    "        pass"
   ]
  },
  {
   "cell_type": "code",
   "execution_count": 24,
   "id": "3156158f",
   "metadata": {},
   "outputs": [],
   "source": [
    "#Применим функцию к таблице и запишем категории для каждой строки\n",
    "data_users['categorize_age'] = data_users['age'].apply(categorize_age)"
   ]
  },
  {
   "cell_type": "code",
   "execution_count": 25,
   "id": "2b79eeab",
   "metadata": {},
   "outputs": [
    {
     "data": {
      "text/html": [
       "<div>\n",
       "<style scoped>\n",
       "    .dataframe tbody tr th:only-of-type {\n",
       "        vertical-align: middle;\n",
       "    }\n",
       "\n",
       "    .dataframe tbody tr th {\n",
       "        vertical-align: top;\n",
       "    }\n",
       "\n",
       "    .dataframe thead th {\n",
       "        text-align: right;\n",
       "    }\n",
       "</style>\n",
       "<table border=\"1\" class=\"dataframe\">\n",
       "  <thead>\n",
       "    <tr style=\"text-align: right;\">\n",
       "      <th></th>\n",
       "      <th>user_id</th>\n",
       "      <th>name</th>\n",
       "      <th>age</th>\n",
       "      <th>city</th>\n",
       "      <th>subscription_type</th>\n",
       "      <th>categorize_age</th>\n",
       "    </tr>\n",
       "  </thead>\n",
       "  <tbody>\n",
       "    <tr>\n",
       "      <th>0</th>\n",
       "      <td>1</td>\n",
       "      <td>Кира</td>\n",
       "      <td>22</td>\n",
       "      <td>Тюмень</td>\n",
       "      <td>ultra</td>\n",
       "      <td>21-25</td>\n",
       "    </tr>\n",
       "    <tr>\n",
       "      <th>1</th>\n",
       "      <td>2</td>\n",
       "      <td>Станислав</td>\n",
       "      <td>31</td>\n",
       "      <td>Омск</td>\n",
       "      <td>ultra</td>\n",
       "      <td>старше 30</td>\n",
       "    </tr>\n",
       "    <tr>\n",
       "      <th>2</th>\n",
       "      <td>3</td>\n",
       "      <td>Алексей</td>\n",
       "      <td>20</td>\n",
       "      <td>Москва</td>\n",
       "      <td>ultra</td>\n",
       "      <td>младше 21</td>\n",
       "    </tr>\n",
       "    <tr>\n",
       "      <th>3</th>\n",
       "      <td>4</td>\n",
       "      <td>Константин</td>\n",
       "      <td>26</td>\n",
       "      <td>Ростов-на-Дону</td>\n",
       "      <td>ultra</td>\n",
       "      <td>26-30</td>\n",
       "    </tr>\n",
       "    <tr>\n",
       "      <th>4</th>\n",
       "      <td>5</td>\n",
       "      <td>Адель</td>\n",
       "      <td>28</td>\n",
       "      <td>Омск</td>\n",
       "      <td>ultra</td>\n",
       "      <td>26-30</td>\n",
       "    </tr>\n",
       "  </tbody>\n",
       "</table>\n",
       "</div>"
      ],
      "text/plain": [
       "   user_id        name  age            city subscription_type categorize_age\n",
       "0        1        Кира   22          Тюмень             ultra          21-25\n",
       "1        2   Станислав   31            Омск             ultra      старше 30\n",
       "2        3     Алексей   20          Москва             ultra      младше 21\n",
       "3        4  Константин   26  Ростов-на-Дону             ultra          26-30\n",
       "4        5       Адель   28            Омск             ultra          26-30"
      ]
     },
     "execution_count": 25,
     "metadata": {},
     "output_type": "execute_result"
    }
   ],
   "source": [
    "data_users.head()"
   ]
  },
  {
   "cell_type": "code",
   "execution_count": 26,
   "id": "121770f4",
   "metadata": {},
   "outputs": [
    {
     "data": {
      "text/plain": [
       "21-25        618\n",
       "26-30        498\n",
       "младше 21    243\n",
       "старше 30    175\n",
       "Name: categorize_age, dtype: int64"
      ]
     },
     "execution_count": 26,
     "metadata": {},
     "output_type": "execute_result"
    }
   ],
   "source": [
    "#Рассмотрим полученные возрастные категории \n",
    "data_users['categorize_age'].value_counts()"
   ]
  },
  {
   "cell_type": "markdown",
   "id": "a306a2c3",
   "metadata": {},
   "source": [
    "**Промежуточный вывод:** \n",
    "   \n",
    "Если рассматривать частоту возрастов пользователей, как нормальное распределение (х - возраст, у - частота), то левый и правый края графика будут ближе всего к оси х, это возраста младше 21 и старше 30 лет соответственно. Возможными причинами могут быть для категории младше 21 - отсутствие необходимости в дальних передвижениях или отсутствие достаточной финансовой составляющей, для категории страше 30 - возможное наличие своего транспорта.\n",
    "    \n",
    "Чаще всего арендой самокатов пользуются молодые люди в возрасте от 21 до 30 лет."
   ]
  },
  {
   "cell_type": "markdown",
   "id": "dc02ca1d",
   "metadata": {},
   "source": [
    "##### Рассмотрение и преобразование таблицы data_rides"
   ]
  },
  {
   "cell_type": "code",
   "execution_count": 27,
   "id": "caa7387b",
   "metadata": {},
   "outputs": [
    {
     "data": {
      "text/plain": [
       "user_id     0\n",
       "distance    0\n",
       "duration    0\n",
       "date        0\n",
       "dtype: int64"
      ]
     },
     "execution_count": 27,
     "metadata": {},
     "output_type": "execute_result"
    }
   ],
   "source": [
    "#Рассмотрим общее количество пропусков по таблице data_rides\n",
    "data_rides.isna().sum()"
   ]
  },
  {
   "cell_type": "code",
   "execution_count": 28,
   "id": "1f3e58d5",
   "metadata": {},
   "outputs": [
    {
     "data": {
      "text/plain": [
       "0"
      ]
     },
     "execution_count": 28,
     "metadata": {},
     "output_type": "execute_result"
    }
   ],
   "source": [
    "#Проверим таблицу data_rides на наличие дубликатов на начальном этапе\n",
    "data_rides.duplicated().sum()"
   ]
  },
  {
   "cell_type": "code",
   "execution_count": 29,
   "id": "d710702f",
   "metadata": {},
   "outputs": [],
   "source": [
    "#Приведем даты в таблице data_rides к формату даты\n",
    "data_rides['date_datetime'] = pd.to_datetime(\n",
    "    data_rides['date'], format='%Y.%m.%d'\n",
    ")"
   ]
  },
  {
   "cell_type": "code",
   "execution_count": 30,
   "id": "670982c6",
   "metadata": {},
   "outputs": [
    {
     "data": {
      "text/plain": [
       "0   2021-01-01\n",
       "1   2021-01-18\n",
       "2   2021-04-20\n",
       "3   2021-08-11\n",
       "4   2021-08-28\n",
       "Name: date_datetime, dtype: datetime64[ns]"
      ]
     },
     "execution_count": 30,
     "metadata": {},
     "output_type": "execute_result"
    }
   ],
   "source": [
    "#Проверим формат \n",
    "data_rides['date_datetime'].head()"
   ]
  },
  {
   "cell_type": "markdown",
   "id": "292af7e3",
   "metadata": {},
   "source": [
    "Дата приведена к формату datetime64."
   ]
  },
  {
   "cell_type": "code",
   "execution_count": 31,
   "id": "2cfa2696",
   "metadata": {},
   "outputs": [],
   "source": [
    "#Запишем в таблицу месяц, когда самокат находился в аренде у пользователя\n",
    "data_rides['month'] = data_rides['date_datetime'].dt.month"
   ]
  },
  {
   "cell_type": "markdown",
   "id": "0ac7989f",
   "metadata": {},
   "source": [
    "Категоризируем данные по рассмтоянию, для наглядности работы в последующем:\n",
    "- 0–2000 — 'до 2001м'; \n",
    "- 2001–3000 — '2001–3000м'; \n",
    "- 3001–4000 — '3001–4000м'; \n",
    "- 4001 и более — 'более 4000м'."
   ]
  },
  {
   "cell_type": "code",
   "execution_count": 32,
   "id": "3a459767",
   "metadata": {},
   "outputs": [],
   "source": [
    "#Категоризируем данные по дистанциям\n",
    "def categorize_distance(row):\n",
    "    try:\n",
    "        if 0 <= round(row) <= 2000:\n",
    "            return 'до 2000м'\n",
    "        elif 2001 <= round(row) <= 3000:\n",
    "            return '2001–3000м'\n",
    "        elif 3001 <= round(row) <= 4000:\n",
    "            return '3001–4000м'\n",
    "        elif round(row) >= 4001:\n",
    "            return 'более 4001м'\n",
    "    except:\n",
    "        pass"
   ]
  },
  {
   "cell_type": "code",
   "execution_count": 33,
   "id": "ba7a9fcd",
   "metadata": {},
   "outputs": [],
   "source": [
    "#Применим функцию к таблице и запишем категории для каждой строки\n",
    "data_rides['categorize_distance'] = data_rides['distance'].apply(categorize_distance)"
   ]
  },
  {
   "cell_type": "markdown",
   "id": "4f5a31fe",
   "metadata": {},
   "source": [
    "Категоризируем данные по времени поездки, для наглядности работы в последующем:\n",
    "- 0–10 — 'менее 11 мин.'; \n",
    "- 11–15 — '11–15 мин.'; \n",
    "- 16–20 — '16–20 мин.'; \n",
    "- 21–25 — '21–25 мин.';\n",
    "- 25 и более — 'более 25 мин.'."
   ]
  },
  {
   "cell_type": "code",
   "execution_count": 34,
   "id": "73ea74e0",
   "metadata": {},
   "outputs": [],
   "source": [
    "#Категоризируем данные по времени поездки\n",
    "def categorize_duration(row):\n",
    "    try:\n",
    "        if 0 <= round(row) <= 10:\n",
    "            return 'менее 11 мин.'\n",
    "        elif 11 <= round(row) <= 15:\n",
    "            return '11–15 мин.'\n",
    "        elif 16 <= round(row) <= 20:\n",
    "            return '16–20 мин.'\n",
    "        elif 21 <= round(row) <= 25:\n",
    "            return '21–25 мин.'\n",
    "        elif round(row) >= 26:\n",
    "            return 'более 25 мин.'\n",
    "    except:\n",
    "        pass"
   ]
  },
  {
   "cell_type": "code",
   "execution_count": 35,
   "id": "3e70d4da",
   "metadata": {},
   "outputs": [],
   "source": [
    "#Применим функцию к таблице и запишем категории для каждой строки\n",
    "data_rides['categorize_duration'] = data_rides['duration'].apply(categorize_duration)"
   ]
  },
  {
   "cell_type": "code",
   "execution_count": 36,
   "id": "7188ca44",
   "metadata": {},
   "outputs": [
    {
     "data": {
      "text/html": [
       "<div>\n",
       "<style scoped>\n",
       "    .dataframe tbody tr th:only-of-type {\n",
       "        vertical-align: middle;\n",
       "    }\n",
       "\n",
       "    .dataframe tbody tr th {\n",
       "        vertical-align: top;\n",
       "    }\n",
       "\n",
       "    .dataframe thead th {\n",
       "        text-align: right;\n",
       "    }\n",
       "</style>\n",
       "<table border=\"1\" class=\"dataframe\">\n",
       "  <thead>\n",
       "    <tr style=\"text-align: right;\">\n",
       "      <th></th>\n",
       "      <th>user_id</th>\n",
       "      <th>distance</th>\n",
       "      <th>duration</th>\n",
       "      <th>date</th>\n",
       "      <th>date_datetime</th>\n",
       "      <th>month</th>\n",
       "      <th>categorize_distance</th>\n",
       "      <th>categorize_duration</th>\n",
       "    </tr>\n",
       "  </thead>\n",
       "  <tbody>\n",
       "    <tr>\n",
       "      <th>0</th>\n",
       "      <td>1</td>\n",
       "      <td>4409.919140</td>\n",
       "      <td>25.599769</td>\n",
       "      <td>2021-01-01</td>\n",
       "      <td>2021-01-01</td>\n",
       "      <td>1</td>\n",
       "      <td>более 4001м</td>\n",
       "      <td>более 25 мин.</td>\n",
       "    </tr>\n",
       "    <tr>\n",
       "      <th>1</th>\n",
       "      <td>1</td>\n",
       "      <td>2617.592153</td>\n",
       "      <td>15.816871</td>\n",
       "      <td>2021-01-18</td>\n",
       "      <td>2021-01-18</td>\n",
       "      <td>1</td>\n",
       "      <td>2001–3000м</td>\n",
       "      <td>16–20 мин.</td>\n",
       "    </tr>\n",
       "    <tr>\n",
       "      <th>2</th>\n",
       "      <td>1</td>\n",
       "      <td>754.159807</td>\n",
       "      <td>6.232113</td>\n",
       "      <td>2021-04-20</td>\n",
       "      <td>2021-04-20</td>\n",
       "      <td>4</td>\n",
       "      <td>до 2000м</td>\n",
       "      <td>менее 11 мин.</td>\n",
       "    </tr>\n",
       "    <tr>\n",
       "      <th>3</th>\n",
       "      <td>1</td>\n",
       "      <td>2694.783254</td>\n",
       "      <td>18.511000</td>\n",
       "      <td>2021-08-11</td>\n",
       "      <td>2021-08-11</td>\n",
       "      <td>8</td>\n",
       "      <td>2001–3000м</td>\n",
       "      <td>16–20 мин.</td>\n",
       "    </tr>\n",
       "    <tr>\n",
       "      <th>4</th>\n",
       "      <td>1</td>\n",
       "      <td>4028.687306</td>\n",
       "      <td>26.265803</td>\n",
       "      <td>2021-08-28</td>\n",
       "      <td>2021-08-28</td>\n",
       "      <td>8</td>\n",
       "      <td>более 4001м</td>\n",
       "      <td>более 25 мин.</td>\n",
       "    </tr>\n",
       "  </tbody>\n",
       "</table>\n",
       "</div>"
      ],
      "text/plain": [
       "   user_id     distance   duration        date date_datetime  month  \\\n",
       "0        1  4409.919140  25.599769  2021-01-01    2021-01-01      1   \n",
       "1        1  2617.592153  15.816871  2021-01-18    2021-01-18      1   \n",
       "2        1   754.159807   6.232113  2021-04-20    2021-04-20      4   \n",
       "3        1  2694.783254  18.511000  2021-08-11    2021-08-11      8   \n",
       "4        1  4028.687306  26.265803  2021-08-28    2021-08-28      8   \n",
       "\n",
       "  categorize_distance categorize_duration  \n",
       "0         более 4001м       более 25 мин.  \n",
       "1          2001–3000м          16–20 мин.  \n",
       "2            до 2000м       менее 11 мин.  \n",
       "3          2001–3000м          16–20 мин.  \n",
       "4         более 4001м       более 25 мин.  "
      ]
     },
     "execution_count": 36,
     "metadata": {},
     "output_type": "execute_result"
    }
   ],
   "source": [
    "#Проверим результат \n",
    "data_rides.head()"
   ]
  },
  {
   "cell_type": "markdown",
   "id": "454c0dff",
   "metadata": {},
   "source": [
    "**Промежуточный вывод:** \n",
    " \n",
    "Меньше всего пользуются спросом поездки предельно кароткие или предельно длинные менее 11 минут или более 25 минут сответственно. Поедки продолжительностью от 11 до 25 минут являются более востребованными. Чаще всего поездка длится 17-20 минут.\n",
    " \n",
    "- менее 11 мин.    1904\n",
    "- 11–15 мин.       4627\n",
    "- 16–20 мин.       5778\n",
    "- 21–25 мин.       3822\n",
    "- более 25 мин.    1937\n",
    "\n",
    "Для поездки на расстояние менее 2 км и более 4 км пользователи чаще прибегают к альтернативным методам передвижения. Самые часто встречающиестся по метрожу поезки это от 2 км до 4 км. Если рассматривать детальнее самокаты арендуют чаще всего для поездок на расстояние 3 - 3,5 км.\n",
    "   \n",
    "- до 2000м       2352\n",
    "- 2001–3000м     5546\n",
    "- 3001–4000м     6692\n",
    "- более 4001м    3478"
   ]
  },
  {
   "cell_type": "markdown",
   "id": "5fd979d1",
   "metadata": {},
   "source": [
    "##### Рассмотрение таблицы data_subscriptions"
   ]
  },
  {
   "cell_type": "code",
   "execution_count": 37,
   "id": "2dff14f9",
   "metadata": {},
   "outputs": [
    {
     "data": {
      "text/plain": [
       "subscription_type    0\n",
       "minute_price         0\n",
       "start_ride_price     0\n",
       "subscription_fee     0\n",
       "dtype: int64"
      ]
     },
     "execution_count": 37,
     "metadata": {},
     "output_type": "execute_result"
    }
   ],
   "source": [
    "#Рассмотрим общее количество пропусков по таблице data_subscriptions\n",
    "data_subscriptions.isna().sum()"
   ]
  },
  {
   "cell_type": "code",
   "execution_count": 38,
   "id": "6743f21e",
   "metadata": {},
   "outputs": [
    {
     "data": {
      "text/plain": [
       "0"
      ]
     },
     "execution_count": 38,
     "metadata": {},
     "output_type": "execute_result"
    }
   ],
   "source": [
    "#Проверим таблицу data_subscriptions на наличие дубликатов на начальном этапе \n",
    "#так как имеется 2 тарифа, на данном этапе зафиксируем отсутствие дубликатов\n",
    "data_subscriptions.duplicated().sum()"
   ]
  },
  {
   "cell_type": "markdown",
   "id": "ce6b271a",
   "metadata": {},
   "source": [
    "**Промежуточный вывод:** \n",
    "   \n",
    "Данные этой таблицы не имеют пропусков, так как описывают всего 2 тарифа: ultra и free.\n",
    "Нулевые значения в случае с таблицей data_subscriptions означают нулевую стоимость."
   ]
  },
  {
   "cell_type": "markdown",
   "id": "212593c7",
   "metadata": {},
   "source": [
    "#### Шаг 3. Исследовательский анализ данных"
   ]
  },
  {
   "cell_type": "markdown",
   "id": "f02ed44b",
   "metadata": {},
   "source": [
    "##### Частота встречаемости городов"
   ]
  },
  {
   "cell_type": "code",
   "execution_count": 39,
   "id": "f8fac55f",
   "metadata": {},
   "outputs": [
    {
     "data": {
      "text/plain": [
       "Пятигорск         219\n",
       "Екатеринбург      204\n",
       "Ростов-на-Дону    198\n",
       "Краснодар         193\n",
       "Сочи              189\n",
       "Омск              183\n",
       "Тюмень            180\n",
       "Москва            168\n",
       "Name: city, dtype: int64"
      ]
     },
     "execution_count": 39,
     "metadata": {},
     "output_type": "execute_result"
    }
   ],
   "source": [
    "#Посчитаем количество пользователей из разных городов\n",
    "data_city = data_users['city'].value_counts()\n",
    "data_city"
   ]
  },
  {
   "cell_type": "code",
   "execution_count": 40,
   "id": "155eaa0e",
   "metadata": {},
   "outputs": [
    {
     "data": {
      "image/png": "[encoded data removed]",
      "text/plain": [
       "<Figure size 640x480 with 1 Axes>"
      ]
     },
     "metadata": {},
     "output_type": "display_data"
    }
   ],
   "source": [
    "#Построим гистограмму частоты встречаемости городов\n",
    "plt.title(label='Сегментация пользователей по географическому положению')\n",
    "data_city = pd.DataFrame({'city':['Пятигорск', 'Екатеринбург', \n",
    "                                  'Ростов-на-Дону', 'Краснодар', \n",
    "                                  'Сочи', 'Омск', 'Тюмень', 'Москва'],\n",
    "                          'frequency':[219, 204, 198, 193, 189, 183, 180, 168]})\n",
    "plt.barh(y=data_city['city'], width=data_city['frequency'])\n",
    "plt.ylabel('Город')\n",
    "plt.xlabel('Частота');"
   ]
  },
  {
   "cell_type": "markdown",
   "id": "f1ef8097",
   "metadata": {},
   "source": [
    "Больше всего пользователей, пользующихся арендой самокатов находится в Пятигорске, меньше всего в Москве, это может быть обосновано отдаленностью пунктов отправления и назначения, поэтому в Москве может быть не выгодно арендовать самокат для такого расстояния."
   ]
  },
  {
   "cell_type": "markdown",
   "id": "0d8263c2",
   "metadata": {},
   "source": [
    "##### Соотношение пользователей с подпиской и без подписки"
   ]
  },
  {
   "cell_type": "code",
   "execution_count": 41,
   "id": "68075fd1",
   "metadata": {},
   "outputs": [
    {
     "data": {
      "text/plain": [
       "free     835\n",
       "ultra    699\n",
       "Name: subscription_type, dtype: int64"
      ]
     },
     "execution_count": 41,
     "metadata": {},
     "output_type": "execute_result"
    }
   ],
   "source": [
    "#Выведем количество пользователей, использующих разные тарифы\n",
    "data_users['subscription_type'].value_counts()"
   ]
  },
  {
   "cell_type": "code",
   "execution_count": 42,
   "id": "3d404a6a",
   "metadata": {},
   "outputs": [],
   "source": [
    "data_type = pd.DataFrame({'type':['Без подписки', 'С подпиской'],\n",
    "                          'frequency':[835, 699]})"
   ]
  },
  {
   "cell_type": "code",
   "execution_count": 43,
   "id": "1777a612",
   "metadata": {},
   "outputs": [
    {
     "data": {
      "image/png": "[encoded data removed]",
      "text/plain": [
       "<Figure size 640x480 with 1 Axes>"
      ]
     },
     "metadata": {},
     "output_type": "display_data"
    }
   ],
   "source": [
    "#Построим гистограмму для столбца subscription_type\n",
    "plt.title(label='Сегментация пользователей сервиса по типу тарифа')\n",
    "plt.bar(x=data_type['type'], height=data_type['frequency'])\n",
    "plt.xlabel('Тип тарифа')\n",
    "plt.ylabel('Частота')\n",
    "plt.grid(True);"
   ]
  },
  {
   "cell_type": "code",
   "execution_count": 44,
   "id": "ce236f73",
   "metadata": {},
   "outputs": [
    {
     "data": {
      "image/png": "[encoded data removed]",
      "text/plain": [
       "<Figure size 640x480 with 1 Axes>"
      ]
     },
     "metadata": {},
     "output_type": "display_data"
    }
   ],
   "source": [
    "#Построим гистограмму для столбца subscription_type\n",
    "plt.title(label='Сегментация пользователей сервиса по типу тарифа')\n",
    "plt.pie(x=data_type['frequency'], labels=data_type['type']);"
   ]
  },
  {
   "cell_type": "markdown",
   "id": "dc538787",
   "metadata": {},
   "source": [
    "Согласно гистограмме и круговой диаграмме пользователей без подписки больше. Это может быть обусловлено отсутствием необходимости покупки подписки при разовой аренде самоката, или же невыгодным соотношением дистанций и ценой за эту дистанцию."
   ]
  },
  {
   "cell_type": "markdown",
   "id": "4e585356",
   "metadata": {},
   "source": [
    "##### Возраст пользователей"
   ]
  },
  {
   "cell_type": "code",
   "execution_count": 45,
   "id": "ece12013",
   "metadata": {},
   "outputs": [
    {
     "data": {
      "text/plain": [
       "25    145\n",
       "24    132\n",
       "26    131\n",
       "23    129\n",
       "22    119\n",
       "27    119\n",
       "28    112\n",
       "21     93\n",
       "20     71\n",
       "30     68\n",
       "29     68\n",
       "31     48\n",
       "19     47\n",
       "18     46\n",
       "32     41\n",
       "33     39\n",
       "17     26\n",
       "16     19\n",
       "34     19\n",
       "35     15\n",
       "15     13\n",
       "14      9\n",
       "13      8\n",
       "36      6\n",
       "12      4\n",
       "38      3\n",
       "37      2\n",
       "39      1\n",
       "43      1\n",
       "Name: age, dtype: int64"
      ]
     },
     "execution_count": 45,
     "metadata": {},
     "output_type": "execute_result"
    }
   ],
   "source": [
    "#Выведем количество пользователей разных возрастов\n",
    "data_users['age'].value_counts()"
   ]
  },
  {
   "cell_type": "code",
   "execution_count": 46,
   "id": "503448d3",
   "metadata": {},
   "outputs": [
    {
     "data": {
      "image/png": "[encoded data removed]",
      "text/plain": [
       "<Figure size 2500x1000 with 1 Axes>"
      ]
     },
     "metadata": {},
     "output_type": "display_data"
    }
   ],
   "source": [
    "#Построим гистограмму\n",
    "plt.title(label='Сегментация пользователей сервиса по возрасту')\n",
    "data_users['age'].hist(bins=30, figsize=(25, 10), rwidth= .9);\n",
    "plt.xlabel('Возраст')\n",
    "plt.ylabel('Частота')\n",
    "plt.grid(True);"
   ]
  },
  {
   "cell_type": "code",
   "execution_count": 47,
   "id": "d5fbbeda",
   "metadata": {},
   "outputs": [
    {
     "data": {
      "text/plain": [
       "21-25        618\n",
       "26-30        498\n",
       "младше 21    243\n",
       "старше 30    175\n",
       "Name: categorize_age, dtype: int64"
      ]
     },
     "execution_count": 47,
     "metadata": {},
     "output_type": "execute_result"
    }
   ],
   "source": [
    "#Выведем количество пользователей разных возрастов категоризированных данных\n",
    "data_users['categorize_age'].value_counts(ascending=False)"
   ]
  },
  {
   "cell_type": "code",
   "execution_count": 48,
   "id": "c105f3c6",
   "metadata": {},
   "outputs": [
    {
     "data": {
      "image/png": "[encoded data removed]",
      "text/plain": [
       "<Figure size 640x480 with 1 Axes>"
      ]
     },
     "metadata": {},
     "output_type": "display_data"
    }
   ],
   "source": [
    "#Построим гистограмму\n",
    "plt.title(label='Сегментация пользователей сервиса по возрастному критерию')\n",
    "data_age = pd.DataFrame({'age':['младше 21', '21-25', '26-30', 'старше 30'],\n",
    "                         'frequency':[243, 618, 498, 175]})\n",
    "plt.bar(x=data_age['age'], height=data_age['frequency'])\n",
    "plt.xlabel('Возраст')\n",
    "plt.ylabel('Частота')\n",
    "plt.grid(True);"
   ]
  },
  {
   "cell_type": "markdown",
   "id": "2f552549",
   "metadata": {},
   "source": [
    "Чаще всего услугой аренды самокатов ползуются молодые люди в возрасте от 21 до 25 лет. Меньше всего пользователи от 30 лет. Возможной причиной может быть наличчие своего транспорта."
   ]
  },
  {
   "cell_type": "markdown",
   "id": "3fdcee1d",
   "metadata": {},
   "source": [
    "##### Расстояние, которое пользователь преодолел за одну поездку"
   ]
  },
  {
   "cell_type": "code",
   "execution_count": 49,
   "id": "8885fe1e",
   "metadata": {},
   "outputs": [
    {
     "data": {
      "image/png": "[encoded data removed]",
      "text/plain": [
       "<Figure size 2000x1000 with 1 Axes>"
      ]
     },
     "metadata": {},
     "output_type": "display_data"
    }
   ],
   "source": [
    "#Построим гистограмму по имеющимся данным\n",
    "plt.title(label='Сегментация пользователей сервиса по расстоянию поездок')\n",
    "data_rides['distance'].hist(figsize=(20, 10), rwidth= .9)\n",
    "plt.xlabel('Дистанция')\n",
    "plt.ylabel('Частота')\n",
    "plt.grid(True);"
   ]
  },
  {
   "cell_type": "code",
   "execution_count": 50,
   "id": "2d6f3f99",
   "metadata": {},
   "outputs": [
    {
     "data": {
      "text/plain": [
       "3001–4000м     6692\n",
       "2001–3000м     5546\n",
       "более 4001м    3478\n",
       "до 2000м       2352\n",
       "Name: categorize_distance, dtype: int64"
      ]
     },
     "execution_count": 50,
     "metadata": {},
     "output_type": "execute_result"
    }
   ],
   "source": [
    "#Выведем ранее сформированные категоризированные данные\n",
    "data_rides['categorize_distance'].value_counts(ascending=False)"
   ]
  },
  {
   "cell_type": "code",
   "execution_count": 51,
   "id": "ef0cf135",
   "metadata": {},
   "outputs": [
    {
     "data": {
      "image/png": "[encoded data removed]",
      "text/plain": [
       "<Figure size 640x480 with 1 Axes>"
      ]
     },
     "metadata": {},
     "output_type": "display_data"
    }
   ],
   "source": [
    "#Построим гистограмму\n",
    "plt.title(label='Категоризированная сегментация пользователей сервиса по растоянию поездок')\n",
    "data_distance = pd.DataFrame({'distance':['до 2000м', '2001–3000м', '3001–4000м', 'более 4001м'],\n",
    "                         'frequency':[2352, 5546, 6692, 3478]})\n",
    "plt.bar(x=data_distance['distance'], height=data_distance['frequency'])\n",
    "plt.xlabel('Дистанция')\n",
    "plt.ylabel('Частота')\n",
    "plt.grid(True);"
   ]
  },
  {
   "cell_type": "markdown",
   "id": "fd6823ef",
   "metadata": {},
   "source": [
    "Чаще всего самокаты арендуют для передвижения на расстояние от 3 до 4 км."
   ]
  },
  {
   "cell_type": "markdown",
   "id": "cc92e2cb",
   "metadata": {},
   "source": [
    "##### Продолжительность поездок"
   ]
  },
  {
   "cell_type": "code",
   "execution_count": 52,
   "id": "04c77d2b",
   "metadata": {},
   "outputs": [
    {
     "data": {
      "image/png": "[encoded data removed]",
      "text/plain": [
       "<Figure size 2000x1000 with 1 Axes>"
      ]
     },
     "metadata": {},
     "output_type": "display_data"
    }
   ],
   "source": [
    "#Построим гистограмму по имеющимся данным\n",
    "plt.title(label='Сегментация пользователей сервиса по продолжительности поездок')\n",
    "data_rides['duration'].hist(figsize=(20, 10), rwidth= .9)\n",
    "plt.xlabel('Продолжительность')\n",
    "plt.ylabel('Частота')\n",
    "plt.grid(True);"
   ]
  },
  {
   "cell_type": "code",
   "execution_count": 53,
   "id": "a25d4987",
   "metadata": {},
   "outputs": [
    {
     "data": {
      "text/plain": [
       "16–20 мин.       5778\n",
       "11–15 мин.       4627\n",
       "21–25 мин.       3822\n",
       "более 25 мин.    1937\n",
       "менее 11 мин.    1904\n",
       "Name: categorize_duration, dtype: int64"
      ]
     },
     "execution_count": 53,
     "metadata": {},
     "output_type": "execute_result"
    }
   ],
   "source": [
    "#Выведем ранее сформированные категоризированные данные\n",
    "data_rides['categorize_duration'].value_counts(ascending=False)"
   ]
  },
  {
   "cell_type": "code",
   "execution_count": 54,
   "id": "6abbd988",
   "metadata": {},
   "outputs": [
    {
     "data": {
      "image/png": "[encoded data removed]",
      "text/plain": [
       "<Figure size 640x480 with 1 Axes>"
      ]
     },
     "metadata": {},
     "output_type": "display_data"
    }
   ],
   "source": [
    "#Построим гистограмму\n",
    "plt.title(label='Категоризированная сегментация пользователей по продожительности поездок')\n",
    "data_duration = pd.DataFrame({'duration':['менее 11 мин.', '11–15 мин.', '16–20 мин.', '21–25 мин.', 'более 25 мин.'],\n",
    "                         'frequency':[1904, 4627, 5778, 3822, 1937]})\n",
    "plt.bar(x=data_duration['duration'], height=data_duration['frequency'])\n",
    "plt.xlabel('Продолжительность')\n",
    "plt.ylabel('Частота')\n",
    "plt.grid(True);"
   ]
  },
  {
   "cell_type": "markdown",
   "id": "375c098a",
   "metadata": {},
   "source": [
    "Чаще всего поездка длиться от 16 до 20 минут. Самыми же редкими стали поездки менее 11 минут и более 25. Что может обуславливаться либо слишком коротким расстоянием, либо же слишком длинным."
   ]
  },
  {
   "cell_type": "markdown",
   "id": "4ef51331",
   "metadata": {},
   "source": [
    "#### Шаг 4. Объединение данных"
   ]
  },
  {
   "cell_type": "markdown",
   "id": "fa34f75c",
   "metadata": {},
   "source": [
    "##### Создание общей таблицы"
   ]
  },
  {
   "cell_type": "code",
   "execution_count": 55,
   "id": "6bf288b5",
   "metadata": {},
   "outputs": [],
   "source": [
    "#Объединим данные таблиц data_users и data_rides\n",
    "data = data_rides.merge(data_users, on='user_id', how='left')"
   ]
  },
  {
   "cell_type": "code",
   "execution_count": 56,
   "id": "b6647af2",
   "metadata": {},
   "outputs": [],
   "source": [
    "#Объединим данные таблиц data и data_subscriptions\n",
    "data = data.merge(data_subscriptions, on='subscription_type', how='left')"
   ]
  },
  {
   "cell_type": "code",
   "execution_count": 57,
   "id": "3857f3b2",
   "metadata": {},
   "outputs": [
    {
     "data": {
      "text/html": [
       "<div>\n",
       "<style scoped>\n",
       "    .dataframe tbody tr th:only-of-type {\n",
       "        vertical-align: middle;\n",
       "    }\n",
       "\n",
       "    .dataframe tbody tr th {\n",
       "        vertical-align: top;\n",
       "    }\n",
       "\n",
       "    .dataframe thead th {\n",
       "        text-align: right;\n",
       "    }\n",
       "</style>\n",
       "<table border=\"1\" class=\"dataframe\">\n",
       "  <thead>\n",
       "    <tr style=\"text-align: right;\">\n",
       "      <th></th>\n",
       "      <th>user_id</th>\n",
       "      <th>distance</th>\n",
       "      <th>duration</th>\n",
       "      <th>date</th>\n",
       "      <th>date_datetime</th>\n",
       "      <th>month</th>\n",
       "      <th>categorize_distance</th>\n",
       "      <th>categorize_duration</th>\n",
       "      <th>name</th>\n",
       "      <th>age</th>\n",
       "      <th>city</th>\n",
       "      <th>subscription_type</th>\n",
       "      <th>categorize_age</th>\n",
       "      <th>minute_price</th>\n",
       "      <th>start_ride_price</th>\n",
       "      <th>subscription_fee</th>\n",
       "    </tr>\n",
       "  </thead>\n",
       "  <tbody>\n",
       "    <tr>\n",
       "      <th>0</th>\n",
       "      <td>1</td>\n",
       "      <td>4409.919140</td>\n",
       "      <td>25.599769</td>\n",
       "      <td>2021-01-01</td>\n",
       "      <td>2021-01-01</td>\n",
       "      <td>1</td>\n",
       "      <td>более 4001м</td>\n",
       "      <td>более 25 мин.</td>\n",
       "      <td>Кира</td>\n",
       "      <td>22</td>\n",
       "      <td>Тюмень</td>\n",
       "      <td>ultra</td>\n",
       "      <td>21-25</td>\n",
       "      <td>6</td>\n",
       "      <td>0</td>\n",
       "      <td>199</td>\n",
       "    </tr>\n",
       "    <tr>\n",
       "      <th>1</th>\n",
       "      <td>1</td>\n",
       "      <td>2617.592153</td>\n",
       "      <td>15.816871</td>\n",
       "      <td>2021-01-18</td>\n",
       "      <td>2021-01-18</td>\n",
       "      <td>1</td>\n",
       "      <td>2001–3000м</td>\n",
       "      <td>16–20 мин.</td>\n",
       "      <td>Кира</td>\n",
       "      <td>22</td>\n",
       "      <td>Тюмень</td>\n",
       "      <td>ultra</td>\n",
       "      <td>21-25</td>\n",
       "      <td>6</td>\n",
       "      <td>0</td>\n",
       "      <td>199</td>\n",
       "    </tr>\n",
       "    <tr>\n",
       "      <th>2</th>\n",
       "      <td>1</td>\n",
       "      <td>754.159807</td>\n",
       "      <td>6.232113</td>\n",
       "      <td>2021-04-20</td>\n",
       "      <td>2021-04-20</td>\n",
       "      <td>4</td>\n",
       "      <td>до 2000м</td>\n",
       "      <td>менее 11 мин.</td>\n",
       "      <td>Кира</td>\n",
       "      <td>22</td>\n",
       "      <td>Тюмень</td>\n",
       "      <td>ultra</td>\n",
       "      <td>21-25</td>\n",
       "      <td>6</td>\n",
       "      <td>0</td>\n",
       "      <td>199</td>\n",
       "    </tr>\n",
       "    <tr>\n",
       "      <th>3</th>\n",
       "      <td>1</td>\n",
       "      <td>2694.783254</td>\n",
       "      <td>18.511000</td>\n",
       "      <td>2021-08-11</td>\n",
       "      <td>2021-08-11</td>\n",
       "      <td>8</td>\n",
       "      <td>2001–3000м</td>\n",
       "      <td>16–20 мин.</td>\n",
       "      <td>Кира</td>\n",
       "      <td>22</td>\n",
       "      <td>Тюмень</td>\n",
       "      <td>ultra</td>\n",
       "      <td>21-25</td>\n",
       "      <td>6</td>\n",
       "      <td>0</td>\n",
       "      <td>199</td>\n",
       "    </tr>\n",
       "    <tr>\n",
       "      <th>4</th>\n",
       "      <td>1</td>\n",
       "      <td>4028.687306</td>\n",
       "      <td>26.265803</td>\n",
       "      <td>2021-08-28</td>\n",
       "      <td>2021-08-28</td>\n",
       "      <td>8</td>\n",
       "      <td>более 4001м</td>\n",
       "      <td>более 25 мин.</td>\n",
       "      <td>Кира</td>\n",
       "      <td>22</td>\n",
       "      <td>Тюмень</td>\n",
       "      <td>ultra</td>\n",
       "      <td>21-25</td>\n",
       "      <td>6</td>\n",
       "      <td>0</td>\n",
       "      <td>199</td>\n",
       "    </tr>\n",
       "  </tbody>\n",
       "</table>\n",
       "</div>"
      ],
      "text/plain": [
       "   user_id     distance   duration        date date_datetime  month  \\\n",
       "0        1  4409.919140  25.599769  2021-01-01    2021-01-01      1   \n",
       "1        1  2617.592153  15.816871  2021-01-18    2021-01-18      1   \n",
       "2        1   754.159807   6.232113  2021-04-20    2021-04-20      4   \n",
       "3        1  2694.783254  18.511000  2021-08-11    2021-08-11      8   \n",
       "4        1  4028.687306  26.265803  2021-08-28    2021-08-28      8   \n",
       "\n",
       "  categorize_distance categorize_duration  name  age    city  \\\n",
       "0         более 4001м       более 25 мин.  Кира   22  Тюмень   \n",
       "1          2001–3000м          16–20 мин.  Кира   22  Тюмень   \n",
       "2            до 2000м       менее 11 мин.  Кира   22  Тюмень   \n",
       "3          2001–3000м          16–20 мин.  Кира   22  Тюмень   \n",
       "4         более 4001м       более 25 мин.  Кира   22  Тюмень   \n",
       "\n",
       "  subscription_type categorize_age  minute_price  start_ride_price  \\\n",
       "0             ultra          21-25             6                 0   \n",
       "1             ultra          21-25             6                 0   \n",
       "2             ultra          21-25             6                 0   \n",
       "3             ultra          21-25             6                 0   \n",
       "4             ultra          21-25             6                 0   \n",
       "\n",
       "   subscription_fee  \n",
       "0               199  \n",
       "1               199  \n",
       "2               199  \n",
       "3               199  \n",
       "4               199  "
      ]
     },
     "execution_count": 57,
     "metadata": {},
     "output_type": "execute_result"
    }
   ],
   "source": [
    "#Проверим результат\n",
    "data.head()"
   ]
  },
  {
   "cell_type": "code",
   "execution_count": 58,
   "id": "e4ac7f7b",
   "metadata": {},
   "outputs": [
    {
     "data": {
      "text/plain": [
       "(18068, 16)"
      ]
     },
     "execution_count": 58,
     "metadata": {},
     "output_type": "execute_result"
    }
   ],
   "source": [
    "#Проверим размерность получившейся таблицы\n",
    "data.shape"
   ]
  },
  {
   "cell_type": "markdown",
   "id": "8fb12d53",
   "metadata": {},
   "source": [
    "##### Создание таблицы с данными пользователей с подпиской"
   ]
  },
  {
   "cell_type": "code",
   "execution_count": 59,
   "id": "7cb1ee88",
   "metadata": {},
   "outputs": [],
   "source": [
    "#Создадим новый датафрейм на основе имеющегося\n",
    "data_ultra = data[data['subscription_type'] == 'ultra']"
   ]
  },
  {
   "cell_type": "code",
   "execution_count": 60,
   "id": "a0a44b5d",
   "metadata": {},
   "outputs": [
    {
     "data": {
      "text/plain": [
       "(6500, 16)"
      ]
     },
     "execution_count": 60,
     "metadata": {},
     "output_type": "execute_result"
    }
   ],
   "source": [
    "#Проверим размерность получившейся таблицы\n",
    "data_ultra.shape"
   ]
  },
  {
   "cell_type": "markdown",
   "id": "ba78d0bb",
   "metadata": {},
   "source": [
    "##### Создание таблицы с данными пользователей без подписки"
   ]
  },
  {
   "cell_type": "code",
   "execution_count": 61,
   "id": "6aa45602",
   "metadata": {},
   "outputs": [],
   "source": [
    "#Создадим новый датафрейм на основе имеющегося\n",
    "data_free = data[data['subscription_type'] == 'free']"
   ]
  },
  {
   "cell_type": "code",
   "execution_count": 62,
   "id": "50ac7988",
   "metadata": {},
   "outputs": [
    {
     "data": {
      "text/plain": [
       "(11568, 16)"
      ]
     },
     "execution_count": 62,
     "metadata": {},
     "output_type": "execute_result"
    }
   ],
   "source": [
    "#Проверим размерность получившейся таблицы\n",
    "data_free.shape"
   ]
  },
  {
   "cell_type": "code",
   "execution_count": 63,
   "id": "2f7925d9",
   "metadata": {},
   "outputs": [
    {
     "data": {
      "text/plain": [
       "18068"
      ]
     },
     "execution_count": 63,
     "metadata": {},
     "output_type": "execute_result"
    }
   ],
   "source": [
    "#Проверим корректность данных (18068)\n",
    "6500 + 11568"
   ]
  },
  {
   "cell_type": "markdown",
   "id": "63ab560a",
   "metadata": {},
   "source": [
    "##### Создание графиков с данными двух таблиц по графе distance"
   ]
  },
  {
   "cell_type": "code",
   "execution_count": 64,
   "id": "39e0d0b6",
   "metadata": {},
   "outputs": [
    {
     "data": {
      "image/png": "[encoded data removed]",
      "text/plain": [
       "<Figure size 640x480 with 1 Axes>"
      ]
     },
     "metadata": {},
     "output_type": "display_data"
    }
   ],
   "source": [
    "#Построим график, сравнивающий дистанции указанные в каждой из 2х таблиц (data_ultra и data_free) \n",
    "\n",
    "ax_1 = data_ultra.plot(\n",
    "    kind='hist',\n",
    "    y='distance',\n",
    "    histtype='step',\n",
    "    range=(0, 8000),\n",
    "    bins=25,\n",
    "    linewidth=5,\n",
    "    alpha=0.7,\n",
    "    label='ultra',\n",
    ")\n",
    "data_free.plot(\n",
    "    kind='hist',\n",
    "    y='distance',\n",
    "    histtype='step',\n",
    "    range=(0, 8000),\n",
    "    bins=25,\n",
    "    linewidth=5,\n",
    "    alpha=0.7,\n",
    "    label='free',\n",
    "    ax=ax_1,\n",
    "    grid=True,\n",
    "    legend=True,\n",
    ")\n",
    "plt.title(label='Соотношение дистанций поездок по типу подписки')\n",
    "plt.xlabel('Дистанция')\n",
    "plt.ylabel('Частота')\n",
    "plt.grid(True)\n",
    "plt.legend(['с подпиской', 'без подписки']);"
   ]
  },
  {
   "cell_type": "markdown",
   "id": "65d2ddb0",
   "metadata": {},
   "source": [
    "На графике видно, что пользователи с подпиской чаще совершают более длинные поездки."
   ]
  },
  {
   "cell_type": "markdown",
   "id": "d5b170dc",
   "metadata": {},
   "source": [
    "##### Создание графиков с данными двух таблиц по графе duration"
   ]
  },
  {
   "cell_type": "code",
   "execution_count": 65,
   "id": "297dc4e8",
   "metadata": {},
   "outputs": [
    {
     "data": {
      "image/png": "[encoded data removed]",
      "text/plain": [
       "<Figure size 640x480 with 1 Axes>"
      ]
     },
     "metadata": {},
     "output_type": "display_data"
    }
   ],
   "source": [
    "#Построим график, сравнивающий продолжительность поездок, \n",
    "#указанных в каждой из 2х таблиц (data_ultra и data_free) \n",
    "ax_2 = data_ultra.plot(\n",
    "    kind='hist',\n",
    "    y='duration',\n",
    "    histtype='step',\n",
    "    range=(0, 40),\n",
    "    bins=25,\n",
    "    linewidth=5,\n",
    "    alpha=0.7,\n",
    "    label='ultra',\n",
    ")\n",
    "data_free.plot(\n",
    "    kind='hist',\n",
    "    y='duration',\n",
    "    histtype='step',\n",
    "    range=(0, 40),\n",
    "    bins=25,\n",
    "    linewidth=5,\n",
    "    alpha=0.7,\n",
    "    label='free',\n",
    "    ax=ax_2,\n",
    "    grid=True,\n",
    "    legend=True,\n",
    ")\n",
    "plt.title(label='Соотношение продолжительности поездок по типу подписки')\n",
    "plt.xlabel('Продолжительность')\n",
    "plt.ylabel('Частота')\n",
    "plt.grid(True)\n",
    "plt.legend(['с подпиской', 'без подписки']);"
   ]
  },
  {
   "cell_type": "markdown",
   "id": "e77f8452",
   "metadata": {},
   "source": [
    "По графику можно сказать, что пользователи без подписки используют самокат дольше, чем позователи с подпиской. Так как растояние поездок у пользователей без подписки меньше, возможной причиной такого соответствия может быть использование разных скоростных режимов, что в свою очередь может быть следствием малого опыта вождения самоката."
   ]
  },
  {
   "cell_type": "markdown",
   "id": "402d620f",
   "metadata": {},
   "source": [
    "#### Шаг 5. Подсчёт выручки"
   ]
  },
  {
   "cell_type": "markdown",
   "id": "2b1f1f43",
   "metadata": {},
   "source": [
    "##### Создание общей таблицы с выручкой"
   ]
  },
  {
   "cell_type": "code",
   "execution_count": 66,
   "id": "53049e0a",
   "metadata": {},
   "outputs": [],
   "source": [
    "#Создаем сводную таблицу с данными о поездке\n",
    "data_new = data.pivot_table(index=['user_id', 'month'], \n",
    "                            values=['distance', 'duration'], \n",
    "                            aggfunc='sum')"
   ]
  },
  {
   "cell_type": "code",
   "execution_count": 67,
   "id": "bb21466f",
   "metadata": {},
   "outputs": [],
   "source": [
    "#Создаем сводную таблицу с данными о подписке\n",
    "data_pivot = data.pivot_table(index=['user_id', 'month'], \n",
    "                              values=['subscription_type'], \n",
    "                              aggfunc='count')"
   ]
  },
  {
   "cell_type": "code",
   "execution_count": 68,
   "id": "921cae03",
   "metadata": {},
   "outputs": [],
   "source": [
    "#Соединяем полученные данные в общую таблицу с даннми о пользователях по месяцам\n",
    "data_new = data_new.merge(data_pivot, on=['user_id', 'month'], how='left')\n",
    "data_new = data_new.rename(columns={'subscription_type': 'count'})"
   ]
  },
  {
   "cell_type": "code",
   "execution_count": 69,
   "id": "81315041",
   "metadata": {},
   "outputs": [],
   "source": [
    "#Приводим значение продолжительности поездки к нужному формату\n",
    "data_new['duration'] = np.ceil(data_new['duration'])"
   ]
  },
  {
   "cell_type": "code",
   "execution_count": 70,
   "id": "ae936575",
   "metadata": {},
   "outputs": [],
   "source": [
    "#Перезапишем индексы\n",
    "data_new = data_new.reset_index()"
   ]
  },
  {
   "cell_type": "code",
   "execution_count": 71,
   "id": "c9837f08",
   "metadata": {},
   "outputs": [
    {
     "data": {
      "text/html": [
       "<div>\n",
       "<style scoped>\n",
       "    .dataframe tbody tr th:only-of-type {\n",
       "        vertical-align: middle;\n",
       "    }\n",
       "\n",
       "    .dataframe tbody tr th {\n",
       "        vertical-align: top;\n",
       "    }\n",
       "\n",
       "    .dataframe thead th {\n",
       "        text-align: right;\n",
       "    }\n",
       "</style>\n",
       "<table border=\"1\" class=\"dataframe\">\n",
       "  <thead>\n",
       "    <tr style=\"text-align: right;\">\n",
       "      <th></th>\n",
       "      <th>user_id</th>\n",
       "      <th>month</th>\n",
       "      <th>distance</th>\n",
       "      <th>duration</th>\n",
       "      <th>count</th>\n",
       "    </tr>\n",
       "  </thead>\n",
       "  <tbody>\n",
       "    <tr>\n",
       "      <th>0</th>\n",
       "      <td>1</td>\n",
       "      <td>1</td>\n",
       "      <td>7027.511294</td>\n",
       "      <td>42.0</td>\n",
       "      <td>2</td>\n",
       "    </tr>\n",
       "    <tr>\n",
       "      <th>1</th>\n",
       "      <td>1</td>\n",
       "      <td>4</td>\n",
       "      <td>754.159807</td>\n",
       "      <td>7.0</td>\n",
       "      <td>1</td>\n",
       "    </tr>\n",
       "    <tr>\n",
       "      <th>2</th>\n",
       "      <td>1</td>\n",
       "      <td>8</td>\n",
       "      <td>6723.470560</td>\n",
       "      <td>45.0</td>\n",
       "      <td>2</td>\n",
       "    </tr>\n",
       "    <tr>\n",
       "      <th>3</th>\n",
       "      <td>1</td>\n",
       "      <td>10</td>\n",
       "      <td>5809.911100</td>\n",
       "      <td>32.0</td>\n",
       "      <td>2</td>\n",
       "    </tr>\n",
       "    <tr>\n",
       "      <th>4</th>\n",
       "      <td>1</td>\n",
       "      <td>11</td>\n",
       "      <td>7003.499363</td>\n",
       "      <td>54.0</td>\n",
       "      <td>3</td>\n",
       "    </tr>\n",
       "  </tbody>\n",
       "</table>\n",
       "</div>"
      ],
      "text/plain": [
       "   user_id  month     distance  duration  count\n",
       "0        1      1  7027.511294      42.0      2\n",
       "1        1      4   754.159807       7.0      1\n",
       "2        1      8  6723.470560      45.0      2\n",
       "3        1     10  5809.911100      32.0      2\n",
       "4        1     11  7003.499363      54.0      3"
      ]
     },
     "execution_count": 71,
     "metadata": {},
     "output_type": "execute_result"
    }
   ],
   "source": [
    "#Проверим получившуюся таблицу\n",
    "data_new.head()"
   ]
  },
  {
   "cell_type": "code",
   "execution_count": 72,
   "id": "2881371b",
   "metadata": {},
   "outputs": [
    {
     "data": {
      "text/plain": [
       "(11331, 5)"
      ]
     },
     "execution_count": 72,
     "metadata": {},
     "output_type": "execute_result"
    }
   ],
   "source": [
    "#Рассмотрим размерность таблицы\n",
    "data_new.shape"
   ]
  },
  {
   "cell_type": "code",
   "execution_count": 73,
   "id": "a7273a94",
   "metadata": {},
   "outputs": [],
   "source": [
    "#Создадим аналогичную таблицу с даннми по подписке\n",
    "data_new_copy = data.pivot_table(index=['user_id', 'month'], \n",
    "                                 values=['distance', 'duration'], \n",
    "                                 aggfunc='sum')"
   ]
  },
  {
   "cell_type": "code",
   "execution_count": 74,
   "id": "8ea76a52",
   "metadata": {},
   "outputs": [],
   "source": [
    "#Добавим столбец с количеством поездок за месяц\n",
    "data_pivot_copy = data.pivot_table(index=['user_id','month'], values=['city'], aggfunc='count')"
   ]
  },
  {
   "cell_type": "code",
   "execution_count": 75,
   "id": "0aab73e3",
   "metadata": {},
   "outputs": [],
   "source": [
    "#Сформируем данные о подписке\n",
    "data_pivot_type = data.pivot_table(index=['subscription_type', 'user_id'], \n",
    "                                   values=['minute_price', 'start_ride_price', 'subscription_fee'])\n",
    "data_pivot_type = data_pivot_type.reset_index()"
   ]
  },
  {
   "cell_type": "code",
   "execution_count": 76,
   "id": "ef0e5720",
   "metadata": {},
   "outputs": [],
   "source": [
    "#Соединим таблицы\n",
    "data_new_copy = data_new_copy.merge(data_pivot_copy, on=['user_id', 'month'], how='left')\n",
    "data_new_copy = data_new_copy.rename(columns={'city': 'count'})\n",
    "data_new_copy['duration'] = np.ceil(data_new_copy['duration'])"
   ]
  },
  {
   "cell_type": "code",
   "execution_count": 77,
   "id": "3a0baac7",
   "metadata": {},
   "outputs": [],
   "source": [
    "#Добавим данные о подписке\n",
    "data_new_copy = data_new_copy.merge(data_pivot_type, on=['user_id'], how='left')"
   ]
  },
  {
   "cell_type": "code",
   "execution_count": 78,
   "id": "ac3ca400",
   "metadata": {},
   "outputs": [
    {
     "data": {
      "text/html": [
       "<div>\n",
       "<style scoped>\n",
       "    .dataframe tbody tr th:only-of-type {\n",
       "        vertical-align: middle;\n",
       "    }\n",
       "\n",
       "    .dataframe tbody tr th {\n",
       "        vertical-align: top;\n",
       "    }\n",
       "\n",
       "    .dataframe thead th {\n",
       "        text-align: right;\n",
       "    }\n",
       "</style>\n",
       "<table border=\"1\" class=\"dataframe\">\n",
       "  <thead>\n",
       "    <tr style=\"text-align: right;\">\n",
       "      <th></th>\n",
       "      <th>user_id</th>\n",
       "      <th>distance</th>\n",
       "      <th>duration</th>\n",
       "      <th>count</th>\n",
       "      <th>subscription_type</th>\n",
       "      <th>minute_price</th>\n",
       "      <th>start_ride_price</th>\n",
       "      <th>subscription_fee</th>\n",
       "    </tr>\n",
       "  </thead>\n",
       "  <tbody>\n",
       "    <tr>\n",
       "      <th>0</th>\n",
       "      <td>1</td>\n",
       "      <td>7027.511294</td>\n",
       "      <td>42.0</td>\n",
       "      <td>2</td>\n",
       "      <td>ultra</td>\n",
       "      <td>6</td>\n",
       "      <td>0</td>\n",
       "      <td>199</td>\n",
       "    </tr>\n",
       "    <tr>\n",
       "      <th>1</th>\n",
       "      <td>1</td>\n",
       "      <td>754.159807</td>\n",
       "      <td>7.0</td>\n",
       "      <td>1</td>\n",
       "      <td>ultra</td>\n",
       "      <td>6</td>\n",
       "      <td>0</td>\n",
       "      <td>199</td>\n",
       "    </tr>\n",
       "    <tr>\n",
       "      <th>2</th>\n",
       "      <td>1</td>\n",
       "      <td>6723.470560</td>\n",
       "      <td>45.0</td>\n",
       "      <td>2</td>\n",
       "      <td>ultra</td>\n",
       "      <td>6</td>\n",
       "      <td>0</td>\n",
       "      <td>199</td>\n",
       "    </tr>\n",
       "    <tr>\n",
       "      <th>3</th>\n",
       "      <td>1</td>\n",
       "      <td>5809.911100</td>\n",
       "      <td>32.0</td>\n",
       "      <td>2</td>\n",
       "      <td>ultra</td>\n",
       "      <td>6</td>\n",
       "      <td>0</td>\n",
       "      <td>199</td>\n",
       "    </tr>\n",
       "    <tr>\n",
       "      <th>4</th>\n",
       "      <td>1</td>\n",
       "      <td>7003.499363</td>\n",
       "      <td>54.0</td>\n",
       "      <td>3</td>\n",
       "      <td>ultra</td>\n",
       "      <td>6</td>\n",
       "      <td>0</td>\n",
       "      <td>199</td>\n",
       "    </tr>\n",
       "  </tbody>\n",
       "</table>\n",
       "</div>"
      ],
      "text/plain": [
       "   user_id     distance  duration  count subscription_type  minute_price  \\\n",
       "0        1  7027.511294      42.0      2             ultra             6   \n",
       "1        1   754.159807       7.0      1             ultra             6   \n",
       "2        1  6723.470560      45.0      2             ultra             6   \n",
       "3        1  5809.911100      32.0      2             ultra             6   \n",
       "4        1  7003.499363      54.0      3             ultra             6   \n",
       "\n",
       "   start_ride_price  subscription_fee  \n",
       "0                 0               199  \n",
       "1                 0               199  \n",
       "2                 0               199  \n",
       "3                 0               199  \n",
       "4                 0               199  "
      ]
     },
     "execution_count": 78,
     "metadata": {},
     "output_type": "execute_result"
    }
   ],
   "source": [
    "#Проверим получившуюся таблицу\n",
    "data_new_copy.head()"
   ]
  },
  {
   "cell_type": "code",
   "execution_count": 79,
   "id": "67f0184f",
   "metadata": {},
   "outputs": [
    {
     "data": {
      "text/plain": [
       "(11331, 8)"
      ]
     },
     "execution_count": 79,
     "metadata": {},
     "output_type": "execute_result"
    }
   ],
   "source": [
    "#Рассмотрим размерность таблицы\n",
    "data_new_copy.shape"
   ]
  },
  {
   "cell_type": "markdown",
   "id": "f5087d54",
   "metadata": {},
   "source": [
    "Размерность сохранена."
   ]
  },
  {
   "cell_type": "code",
   "execution_count": 80,
   "id": "04fac28b",
   "metadata": {},
   "outputs": [],
   "source": [
    "#Вычислим выручку\n",
    "data_new_copy['revenue'] = (data_new_copy['start_ride_price'] \n",
    "                            * data_new_copy['count']) + (data_new_copy['minute_price'] \n",
    "                                                         * data_new_copy['duration']) + data_new_copy['subscription_fee']"
   ]
  },
  {
   "cell_type": "code",
   "execution_count": 81,
   "id": "ec22dc3d",
   "metadata": {},
   "outputs": [],
   "source": [
    "#Присвоим значения выручки таблице data_new\n",
    "data_new['revenue'] = data_new_copy['revenue']"
   ]
  },
  {
   "cell_type": "markdown",
   "id": "fd2e4635",
   "metadata": {},
   "source": [
    "##### Создание таблицы с выручкой для пользователй с подпиской"
   ]
  },
  {
   "cell_type": "code",
   "execution_count": 82,
   "id": "78c3466d",
   "metadata": {},
   "outputs": [],
   "source": [
    "#Создание таблицы с данными пользователей с подпиской \n",
    "data_revenue_ultra = data_new_copy[data_new_copy['subscription_type'] == 'ultra']"
   ]
  },
  {
   "cell_type": "code",
   "execution_count": 83,
   "id": "83579798",
   "metadata": {},
   "outputs": [
    {
     "data": {
      "text/html": [
       "<div>\n",
       "<style scoped>\n",
       "    .dataframe tbody tr th:only-of-type {\n",
       "        vertical-align: middle;\n",
       "    }\n",
       "\n",
       "    .dataframe tbody tr th {\n",
       "        vertical-align: top;\n",
       "    }\n",
       "\n",
       "    .dataframe thead th {\n",
       "        text-align: right;\n",
       "    }\n",
       "</style>\n",
       "<table border=\"1\" class=\"dataframe\">\n",
       "  <thead>\n",
       "    <tr style=\"text-align: right;\">\n",
       "      <th></th>\n",
       "      <th>user_id</th>\n",
       "      <th>distance</th>\n",
       "      <th>duration</th>\n",
       "      <th>count</th>\n",
       "      <th>subscription_type</th>\n",
       "      <th>minute_price</th>\n",
       "      <th>start_ride_price</th>\n",
       "      <th>subscription_fee</th>\n",
       "      <th>revenue</th>\n",
       "    </tr>\n",
       "  </thead>\n",
       "  <tbody>\n",
       "    <tr>\n",
       "      <th>0</th>\n",
       "      <td>1</td>\n",
       "      <td>7027.511294</td>\n",
       "      <td>42.0</td>\n",
       "      <td>2</td>\n",
       "      <td>ultra</td>\n",
       "      <td>6</td>\n",
       "      <td>0</td>\n",
       "      <td>199</td>\n",
       "      <td>451.0</td>\n",
       "    </tr>\n",
       "    <tr>\n",
       "      <th>1</th>\n",
       "      <td>1</td>\n",
       "      <td>754.159807</td>\n",
       "      <td>7.0</td>\n",
       "      <td>1</td>\n",
       "      <td>ultra</td>\n",
       "      <td>6</td>\n",
       "      <td>0</td>\n",
       "      <td>199</td>\n",
       "      <td>241.0</td>\n",
       "    </tr>\n",
       "    <tr>\n",
       "      <th>2</th>\n",
       "      <td>1</td>\n",
       "      <td>6723.470560</td>\n",
       "      <td>45.0</td>\n",
       "      <td>2</td>\n",
       "      <td>ultra</td>\n",
       "      <td>6</td>\n",
       "      <td>0</td>\n",
       "      <td>199</td>\n",
       "      <td>469.0</td>\n",
       "    </tr>\n",
       "    <tr>\n",
       "      <th>3</th>\n",
       "      <td>1</td>\n",
       "      <td>5809.911100</td>\n",
       "      <td>32.0</td>\n",
       "      <td>2</td>\n",
       "      <td>ultra</td>\n",
       "      <td>6</td>\n",
       "      <td>0</td>\n",
       "      <td>199</td>\n",
       "      <td>391.0</td>\n",
       "    </tr>\n",
       "    <tr>\n",
       "      <th>4</th>\n",
       "      <td>1</td>\n",
       "      <td>7003.499363</td>\n",
       "      <td>54.0</td>\n",
       "      <td>3</td>\n",
       "      <td>ultra</td>\n",
       "      <td>6</td>\n",
       "      <td>0</td>\n",
       "      <td>199</td>\n",
       "      <td>523.0</td>\n",
       "    </tr>\n",
       "  </tbody>\n",
       "</table>\n",
       "</div>"
      ],
      "text/plain": [
       "   user_id     distance  duration  count subscription_type  minute_price  \\\n",
       "0        1  7027.511294      42.0      2             ultra             6   \n",
       "1        1   754.159807       7.0      1             ultra             6   \n",
       "2        1  6723.470560      45.0      2             ultra             6   \n",
       "3        1  5809.911100      32.0      2             ultra             6   \n",
       "4        1  7003.499363      54.0      3             ultra             6   \n",
       "\n",
       "   start_ride_price  subscription_fee  revenue  \n",
       "0                 0               199    451.0  \n",
       "1                 0               199    241.0  \n",
       "2                 0               199    469.0  \n",
       "3                 0               199    391.0  \n",
       "4                 0               199    523.0  "
      ]
     },
     "execution_count": 83,
     "metadata": {},
     "output_type": "execute_result"
    }
   ],
   "source": [
    "#Проверим получившуюся таблицу\n",
    "data_revenue_ultra.head()"
   ]
  },
  {
   "cell_type": "code",
   "execution_count": 84,
   "id": "9eb7bc1b",
   "metadata": {},
   "outputs": [
    {
     "data": {
      "text/plain": [
       "(4533, 9)"
      ]
     },
     "execution_count": 84,
     "metadata": {},
     "output_type": "execute_result"
    }
   ],
   "source": [
    "#Рассмотрим размерность таблицы\n",
    "data_revenue_ultra.shape"
   ]
  },
  {
   "cell_type": "markdown",
   "id": "6fe4d30c",
   "metadata": {},
   "source": [
    "##### Создание таблицы с выручкой для пользователй без подписки"
   ]
  },
  {
   "cell_type": "code",
   "execution_count": 85,
   "id": "d9f0eefc",
   "metadata": {},
   "outputs": [],
   "source": [
    "#Создание таблицы с данными пользователей без подписки \n",
    "data_revenue_free = data_new_copy[data_new_copy['subscription_type'] == 'free']"
   ]
  },
  {
   "cell_type": "code",
   "execution_count": 86,
   "id": "bd75a68f",
   "metadata": {},
   "outputs": [
    {
     "data": {
      "text/html": [
       "<div>\n",
       "<style scoped>\n",
       "    .dataframe tbody tr th:only-of-type {\n",
       "        vertical-align: middle;\n",
       "    }\n",
       "\n",
       "    .dataframe tbody tr th {\n",
       "        vertical-align: top;\n",
       "    }\n",
       "\n",
       "    .dataframe thead th {\n",
       "        text-align: right;\n",
       "    }\n",
       "</style>\n",
       "<table border=\"1\" class=\"dataframe\">\n",
       "  <thead>\n",
       "    <tr style=\"text-align: right;\">\n",
       "      <th></th>\n",
       "      <th>user_id</th>\n",
       "      <th>distance</th>\n",
       "      <th>duration</th>\n",
       "      <th>count</th>\n",
       "      <th>subscription_type</th>\n",
       "      <th>minute_price</th>\n",
       "      <th>start_ride_price</th>\n",
       "      <th>subscription_fee</th>\n",
       "      <th>revenue</th>\n",
       "    </tr>\n",
       "  </thead>\n",
       "  <tbody>\n",
       "    <tr>\n",
       "      <th>4533</th>\n",
       "      <td>700</td>\n",
       "      <td>2515.690719</td>\n",
       "      <td>15.0</td>\n",
       "      <td>1</td>\n",
       "      <td>free</td>\n",
       "      <td>8</td>\n",
       "      <td>50</td>\n",
       "      <td>0</td>\n",
       "      <td>170.0</td>\n",
       "    </tr>\n",
       "    <tr>\n",
       "      <th>4534</th>\n",
       "      <td>700</td>\n",
       "      <td>13446.659764</td>\n",
       "      <td>86.0</td>\n",
       "      <td>5</td>\n",
       "      <td>free</td>\n",
       "      <td>8</td>\n",
       "      <td>50</td>\n",
       "      <td>0</td>\n",
       "      <td>938.0</td>\n",
       "    </tr>\n",
       "    <tr>\n",
       "      <th>4535</th>\n",
       "      <td>700</td>\n",
       "      <td>3798.334905</td>\n",
       "      <td>19.0</td>\n",
       "      <td>1</td>\n",
       "      <td>free</td>\n",
       "      <td>8</td>\n",
       "      <td>50</td>\n",
       "      <td>0</td>\n",
       "      <td>202.0</td>\n",
       "    </tr>\n",
       "    <tr>\n",
       "      <th>4536</th>\n",
       "      <td>700</td>\n",
       "      <td>2984.551206</td>\n",
       "      <td>16.0</td>\n",
       "      <td>1</td>\n",
       "      <td>free</td>\n",
       "      <td>8</td>\n",
       "      <td>50</td>\n",
       "      <td>0</td>\n",
       "      <td>178.0</td>\n",
       "    </tr>\n",
       "    <tr>\n",
       "      <th>4537</th>\n",
       "      <td>700</td>\n",
       "      <td>5927.650988</td>\n",
       "      <td>29.0</td>\n",
       "      <td>2</td>\n",
       "      <td>free</td>\n",
       "      <td>8</td>\n",
       "      <td>50</td>\n",
       "      <td>0</td>\n",
       "      <td>332.0</td>\n",
       "    </tr>\n",
       "  </tbody>\n",
       "</table>\n",
       "</div>"
      ],
      "text/plain": [
       "      user_id      distance  duration  count subscription_type  minute_price  \\\n",
       "4533      700   2515.690719      15.0      1              free             8   \n",
       "4534      700  13446.659764      86.0      5              free             8   \n",
       "4535      700   3798.334905      19.0      1              free             8   \n",
       "4536      700   2984.551206      16.0      1              free             8   \n",
       "4537      700   5927.650988      29.0      2              free             8   \n",
       "\n",
       "      start_ride_price  subscription_fee  revenue  \n",
       "4533                50                 0    170.0  \n",
       "4534                50                 0    938.0  \n",
       "4535                50                 0    202.0  \n",
       "4536                50                 0    178.0  \n",
       "4537                50                 0    332.0  "
      ]
     },
     "execution_count": 86,
     "metadata": {},
     "output_type": "execute_result"
    }
   ],
   "source": [
    "#Проверим получившуюся таблицу\n",
    "data_revenue_free.head()"
   ]
  },
  {
   "cell_type": "code",
   "execution_count": 87,
   "id": "09312a58",
   "metadata": {},
   "outputs": [
    {
     "data": {
      "text/plain": [
       "(6798, 9)"
      ]
     },
     "execution_count": 87,
     "metadata": {},
     "output_type": "execute_result"
    }
   ],
   "source": [
    "#Рассмотрим размерность таблицы\n",
    "data_revenue_free.shape"
   ]
  },
  {
   "cell_type": "code",
   "execution_count": 88,
   "id": "5d0ff8f6",
   "metadata": {},
   "outputs": [
    {
     "data": {
      "text/plain": [
       "11331"
      ]
     },
     "execution_count": 88,
     "metadata": {},
     "output_type": "execute_result"
    }
   ],
   "source": [
    "#Проверим корректность данных (18068)\n",
    "4533 + 6798"
   ]
  },
  {
   "cell_type": "markdown",
   "id": "4d45131f",
   "metadata": {},
   "source": [
    "Размерность сохранена"
   ]
  },
  {
   "cell_type": "code",
   "execution_count": 89,
   "id": "d1e53f16",
   "metadata": {},
   "outputs": [],
   "source": [
    "#Выручка, которую принес пользователь за год \n",
    "data_revenue = data_new.pivot_table(index=['user_id'], values=['revenue'], aggfunc='sum')"
   ]
  },
  {
   "cell_type": "code",
   "execution_count": 90,
   "id": "87d7caed",
   "metadata": {},
   "outputs": [
    {
     "data": {
      "text/html": [
       "<div>\n",
       "<style scoped>\n",
       "    .dataframe tbody tr th:only-of-type {\n",
       "        vertical-align: middle;\n",
       "    }\n",
       "\n",
       "    .dataframe tbody tr th {\n",
       "        vertical-align: top;\n",
       "    }\n",
       "\n",
       "    .dataframe thead th {\n",
       "        text-align: right;\n",
       "    }\n",
       "</style>\n",
       "<table border=\"1\" class=\"dataframe\">\n",
       "  <thead>\n",
       "    <tr style=\"text-align: right;\">\n",
       "      <th></th>\n",
       "      <th>revenue</th>\n",
       "    </tr>\n",
       "    <tr>\n",
       "      <th>user_id</th>\n",
       "      <th></th>\n",
       "    </tr>\n",
       "  </thead>\n",
       "  <tbody>\n",
       "    <tr>\n",
       "      <th>1</th>\n",
       "      <td>2442.0</td>\n",
       "    </tr>\n",
       "    <tr>\n",
       "      <th>2</th>\n",
       "      <td>2593.0</td>\n",
       "    </tr>\n",
       "    <tr>\n",
       "      <th>3</th>\n",
       "      <td>2809.0</td>\n",
       "    </tr>\n",
       "    <tr>\n",
       "      <th>4</th>\n",
       "      <td>2940.0</td>\n",
       "    </tr>\n",
       "    <tr>\n",
       "      <th>5</th>\n",
       "      <td>2660.0</td>\n",
       "    </tr>\n",
       "  </tbody>\n",
       "</table>\n",
       "</div>"
      ],
      "text/plain": [
       "         revenue\n",
       "user_id         \n",
       "1         2442.0\n",
       "2         2593.0\n",
       "3         2809.0\n",
       "4         2940.0\n",
       "5         2660.0"
      ]
     },
     "execution_count": 90,
     "metadata": {},
     "output_type": "execute_result"
    }
   ],
   "source": [
    "data_revenue.head()"
   ]
  },
  {
   "cell_type": "markdown",
   "id": "41545ac0",
   "metadata": {},
   "source": [
    "#### Шаг 6. Проверка гипотез"
   ]
  },
  {
   "cell_type": "markdown",
   "id": "df247a16",
   "metadata": {},
   "source": [
    "##### Проверка гипотезы\n",
    "Важно понять, тратят ли пользователи с подпиской больше времени на поездки? Если да, то пользователи с подпиской могут быть «выгоднее» для компании. Проверьте гипотезу. Используйте исходные данные о продолжительности каждой сессии — отдельно для подписчиков и тех, у кого нет подписки.\n",
    "\n",
    "- H0 - средняя продолжительность 2-х выборок равна \n",
    "- H1 - средняя продолжительность поездки пользователей с подпиской больше, чем средняя продолжительность поездки пользователей без подписки"
   ]
  },
  {
   "cell_type": "code",
   "execution_count": 91,
   "id": "057456d9",
   "metadata": {},
   "outputs": [
    {
     "name": "stdout",
     "output_type": "stream",
     "text": [
      "p-value: 1.2804098316645618e-34\n",
      "Отвергаем нулевую гипотезу\n"
     ]
    }
   ],
   "source": [
    "#Задаем уровень стат. значимости\n",
    "alpha = 0.05\n",
    "\n",
    "# проводим ttest для двух выборок, в качестве альтернативной используем одностороннюю гипотезу \"больше\"\n",
    "results = st.ttest_ind(data_ultra['duration'], data_free['duration'], alternative='greater')\n",
    "\n",
    "print(f'p-value: {results.pvalue}')\n",
    "\n",
    "# проверяем p-value\n",
    "if results.pvalue < alpha:\n",
    "    print('Отвергаем нулевую гипотезу')\n",
    "else:\n",
    "    print('Нет оснований отвергнуть нулевую гипотезу')"
   ]
  },
  {
   "cell_type": "markdown",
   "id": "96ddb46e",
   "metadata": {},
   "source": [
    "Полученное значение p-value (~ 1.2804098316645618e-34) меньше заданного уровня значимости, поэтому можно отвергнуть нулевую гипотезу. Есть основания говорить, что средняя продолжительность поездки пользователей с подпиской больше."
   ]
  },
  {
   "cell_type": "markdown",
   "id": "7aa02604",
   "metadata": {},
   "source": [
    "##### Проверка гипотезы\n",
    "Расстояние одной поездки в 3130 метров — оптимальное с точки зрения износа самоката. Можно ли сказать, что расстояние, которое проезжают пользователи с подпиской за одну поездку, не превышает 3130 метров? Проверьте гипотезу и сделайте выводы.\n",
    "\n",
    "- H0 - среднее расстояние, которое проезжают пользователи с подпиской за одну поездку равно 3130 \n",
    "- H1 - среднее расстояние, которое проезжают пользователи с подпиской за одну поездку меньше 3130"
   ]
  },
  {
   "cell_type": "code",
   "execution_count": 92,
   "id": "c4660b4f",
   "metadata": {},
   "outputs": [
    {
     "name": "stdout",
     "output_type": "stream",
     "text": [
      "p-значение: 0.08046311521502146\n",
      "Не отвергаем нулевую гипотезу\n"
     ]
    }
   ],
   "source": [
    "# значение с которым сравниваем\n",
    "value = 3130\n",
    "\n",
    "# уровень статистической значимости\n",
    "alpha = 0.05 \n",
    "\n",
    "results = st.ttest_1samp(\n",
    "    data_ultra['distance'], \n",
    "    value,\n",
    "    alternative='less')\n",
    "\n",
    "print('p-значение:', results.pvalue)\n",
    "\n",
    "if (results.pvalue < alpha):\n",
    "    print('Отвергаем нулевую гипотезу')\n",
    "else:\n",
    "    print('Не отвергаем нулевую гипотезу') "
   ]
  },
  {
   "cell_type": "code",
   "execution_count": 93,
   "id": "92c2854d",
   "metadata": {},
   "outputs": [
    {
     "data": {
      "text/plain": [
       "3115.4453880370247"
      ]
     },
     "execution_count": 93,
     "metadata": {},
     "output_type": "execute_result"
    }
   ],
   "source": [
    "# Проверим среднюю для данной выборки\n",
    "data_ultra['distance'].mean()"
   ]
  },
  {
   "cell_type": "markdown",
   "id": "60d09602",
   "metadata": {},
   "source": [
    "По данным анализа среднее расстояние может быть как меньше, так и равно 3130м."
   ]
  },
  {
   "cell_type": "markdown",
   "id": "7e8f6d2a",
   "metadata": {},
   "source": [
    "##### Проверка гипотезы\n",
    "Проверьте гипотезу о том, будет ли помесячная выручка от пользователей с подпиской по месяцам выше, чем выручка от пользователей без подписки. Сделайте вывод.\n",
    "\n",
    "- H0 - помесячная выручка от пользователей с подпиской равна помесячной выручке от пользователей без подписки\n",
    "- H1 - помесячная выручка от пользователей с подпиской больше помесячной выручки от пользователей без подписки"
   ]
  },
  {
   "cell_type": "code",
   "execution_count": 94,
   "id": "6d1582a9",
   "metadata": {},
   "outputs": [
    {
     "name": "stdout",
     "output_type": "stream",
     "text": [
      "p-value: 2.8130926188487286e-35\n",
      "Отвергаем нулевую гипотезу\n"
     ]
    }
   ],
   "source": [
    "# задаем уровень стат. значимости\n",
    "alpha = 0.05\n",
    "\n",
    "# проводим ttest для двух выборок, в качестве альтернативной используем одностороннюю гипотезу \"больше\"\n",
    "results = st.ttest_ind(data_revenue_ultra['revenue'], \n",
    "                       data_revenue_free['revenue'], \n",
    "                       alternative='greater')\n",
    "\n",
    "print(f'p-value: {results.pvalue}')\n",
    "\n",
    "# проверяем p-value\n",
    "if results.pvalue < alpha:\n",
    "    print('Отвергаем нулевую гипотезу')\n",
    "else:\n",
    "    print('Нет оснований отвергнуть нулевую гипотезу')"
   ]
  },
  {
   "cell_type": "markdown",
   "id": "97f78358",
   "metadata": {},
   "source": [
    "Полученное значение p-value (~ 2.8130926188487286e-35) меньше заданного уровня значимости, поэтому можно отвергнуть нулевую гипотезу. Есть основания говорить, что помесячная выручка от пользователей с подпиской больше помесячной выручки от пользователей без подписки."
   ]
  },
  {
   "cell_type": "markdown",
   "id": "f2ef965a",
   "metadata": {},
   "source": [
    "##### Проверка гипотезы\n",
    "Представьте такую ситуацию: техническая команда сервиса обновила сервера, с которыми взаимодействует мобильное приложение. Она надеется, что из-за этого количество обращений в техподдержку значимо снизилось. Некоторый файл содержит для каждого пользователя данные о количестве обращений до обновления и после него. Какой тест вам понадобился бы для проверки этой гипотезы?"
   ]
  },
  {
   "cell_type": "markdown",
   "id": "2c52db52",
   "metadata": {},
   "source": [
    "Гипотеза о равенстве средних для зависимых (парных) выборок\n",
    "\n",
    "Необходимы будут имеющиеся данные до и после обновления сервера, которые станут первой и второй выборкой соответственно.\n",
    "\n",
    "- H0 - количество обращений в поддержку не изменилось\n",
    "- H1 - количество обращений в поддержку изменилось\n",
    "\n",
    "Определить уровень значимости\n",
    "\n",
    "alpha = 0.05\n",
    "\n",
    "Проведите тест и посчитать p-значение\n",
    "\n",
    "results = st.ttest_rel(before, after)\n",
    "\n",
    "Если pvalue будет меньше установленного уровня значимости, мы отвергнем нулевую гипотезу о равенстве количества обращений до и после обновления. Если же нет, то нулевая гипотеза не может быть отвергнута, что значит возможное изменение количества обращений после обновления."
   ]
  },
  {
   "cell_type": "markdown",
   "id": "61213c5e",
   "metadata": {},
   "source": [
    "#### Шаг 7. Распределения"
   ]
  },
  {
   "cell_type": "markdown",
   "id": "a44ab17d",
   "metadata": {},
   "source": [
    "#####  Задача"
   ]
  },
  {
   "cell_type": "code",
   "execution_count": 95,
   "id": "2f87bc00",
   "metadata": {},
   "outputs": [
    {
     "data": {
      "image/png": "[encoded data removed]",
      "text/plain": [
       "<Figure size 640x480 with 1 Axes>"
      ]
     },
     "metadata": {},
     "output_type": "display_data"
    }
   ],
   "source": [
    "#Общее количество попыток нам не известно, если необходимо, \n",
    "#чтобы вероятность не выполнить план была примерно 5 %, укажеем 100 как мат.ожидание\n",
    "mu = 100\n",
    "p = 0.1\n",
    "\n",
    "# тогда общее число попыток будет\n",
    "n = int(mu / p)\n",
    "\n",
    "distr_bar = []\n",
    "\n",
    "for k in range(0, n + 1):\n",
    "    choose = factorial(n) / (factorial(k) * factorial(n - k))\n",
    "    prob = choose * p**k * (1 - p)**(n - k) \n",
    "    distr_bar.append(prob)\n",
    "    \n",
    "# построим график  \n",
    "plt.bar(range(0, n + 1), distr_bar)\n",
    "plt.title(label='График распределения')\n",
    "plt.xlabel('Частота события')\n",
    "plt.ylabel('Вероятность')\n",
    "plt.grid(True);"
   ]
  },
  {
   "cell_type": "code",
   "execution_count": 96,
   "id": "f9c082a3",
   "metadata": {},
   "outputs": [
    {
     "data": {
      "image/png": "[encoded data removed]",
      "text/plain": [
       "<Figure size 640x480 with 1 Axes>"
      ]
     },
     "metadata": {},
     "output_type": "display_data"
    }
   ],
   "source": [
    "# построим график для диапазона (0, 200)\n",
    "distr_bar = []\n",
    "\n",
    "for k in range(0, 200):\n",
    "    choose = factorial(n) / (factorial(k) * factorial(n - k))\n",
    "    prob = choose * p**k * (1 - p)**(n - k) \n",
    "    distr_bar.append(prob)\n",
    "    \n",
    "\n",
    "plt.bar(range(0, 200), distr_bar)\n",
    "plt.title(label='Укрупненный график распределения')\n",
    "plt.xlabel('Частота события')\n",
    "plt.ylabel('Вероятность')\n",
    "plt.grid(True);"
   ]
  },
  {
   "cell_type": "code",
   "execution_count": 97,
   "id": "1ce30aaa",
   "metadata": {},
   "outputs": [
    {
     "name": "stdout",
     "output_type": "stream",
     "text": [
      "0.5\n"
     ]
    }
   ],
   "source": [
    "#Проверим вероятность не выполнить план при данных параметрах\n",
    "# дисперсия нормального распределения\n",
    "sigma = sqrt(n * p * (1 - p))\n",
    "\n",
    "# задаем нормальное распределение\n",
    "distr = st.norm(mu, sigma) \n",
    "\n",
    "# находим вероятность\n",
    "result = 1-(distr.cdf(100))\n",
    "print(result)"
   ]
  },
  {
   "cell_type": "markdown",
   "id": "02feee88",
   "metadata": {},
   "source": [
    "Минимальным количеством промокодов, которое нужно разослать равно 1000. С вероятностью в 10% после проведения акции компания получит 100 новых пользователей, что будет являться мат. ожиданием, вероятность не выполнить план с данном случае равна 5%."
   ]
  },
  {
   "cell_type": "markdown",
   "id": "560a98e8",
   "metadata": {},
   "source": [
    "#####  Задача"
   ]
  },
  {
   "cell_type": "code",
   "execution_count": 98,
   "id": "6fc56750",
   "metadata": {},
   "outputs": [
    {
     "data": {
      "image/png": "[encoded data removed]",
      "text/plain": [
       "<Figure size 640x480 with 1 Axes>"
      ]
     },
     "metadata": {},
     "output_type": "display_data"
    }
   ],
   "source": [
    "# задаём параметры биномиального распределения\n",
    "n = 1000000\n",
    "p = 0.4\n",
    "    \n",
    "# зададим функцию, которая выдаёт <num> чисел,\n",
    "# равномерно распределённых от <start> до <stop>\n",
    "# (понадобится для визуализации нормального распределения)\n",
    "def linspace(start, stop, num):\n",
    "    step = (stop - start) / (num - 1)\n",
    "    result = []\n",
    "    for i in range(num):\n",
    "        result.append(start + step * i)\n",
    "    return result\n",
    " \n",
    "# границы промежутка, в котором будем строить аппроксимацию -\n",
    "# от n*p минус 4 ст.отклонения бином.распределения\n",
    "# до n*p плюс 4 ст.отклонения бином.распределения\n",
    "# (там, где вероятности значений почти не равны нулю)\n",
    "left = int(n * p - 4 * sqrt(n * p * (1 - p)))\n",
    "right = int(n * p + 4 * sqrt(n * p * (1 - p)))\n",
    " \n",
    "# зададим набор значений биномиальной величины на выбранном промежутке:\n",
    "# все неотрицательные целые числа от left до right\n",
    "x = list(range(max(0, left), right))\n",
    "# рисуем график биномиального распределения\n",
    "ax = plt.subplot()\n",
    "# используем синие о-образные маркеры и размер маркера 5\n",
    "ax.plot(x, binom.pmf(x, n, p), 'bo', ms=5,\n",
    "label='вероятности биномиального распределения')\n",
    "\n",
    "# зададим параметры нормального распределения равными\n",
    "# мат.ожиданию и дисперсии биномиального распределения\n",
    "mu = n * p\n",
    "sigma = sqrt(n * p * (1 - p))\n",
    " \n",
    "# рисуем график нормального распределения:\n",
    "# получим список из 1000000 чисел от left до right\n",
    "x = linspace(left, right, 1000000)\n",
    "# используем красную линию ширины 3 и прозрачности 0.3\n",
    "ax.plot(x, norm.pdf(x, mu, sigma), 'r-', lw=3, alpha=0.3, label='плотность вероятности нормального распределения')\n",
    " \n",
    "# зададим подписи по оси x в пределах ± 3 ст.отклонений от мат.ожидания\n",
    "# (последний аргумент в методе range - интервал между подписями)\n",
    "x_ticks = list(range(int(mu - 3 * sigma), int(mu + 3 * sigma), 1))\n",
    "ax.set_xticks(x_ticks)\n",
    "\n",
    "# настраиваем оптимальное расположение легенды и выводим график\n",
    "ax.legend(loc='best')\n",
    "plt.title(label='График распределения')\n",
    "plt.xlabel('Частота события')\n",
    "plt.ylabel('Вероятность')\n",
    "plt.grid(True)\n",
    "plt.show()"
   ]
  },
  {
   "cell_type": "markdown",
   "id": "58570b80",
   "metadata": {},
   "source": [
    "В связи с большим количеством экспериментов, апроксимация биномиального распределения нормальным в данном случае подходит."
   ]
  },
  {
   "cell_type": "code",
   "execution_count": 99,
   "id": "edae3d8e",
   "metadata": {},
   "outputs": [
    {
     "name": "stdout",
     "output_type": "stream",
     "text": [
      "0.8462829170363023\n"
     ]
    }
   ],
   "source": [
    "# задаём параметры нормального распределения равными\n",
    "# мат.ожиданию и дисперсии биномиального распределения\n",
    "mu = n * p\n",
    "sigma = sqrt(n * p * (1 - p))\n",
    "\n",
    "# задаём нормальное распределение\n",
    "distr = st.norm(mu, sigma) \n",
    "\n",
    "# считаем вероятность хвоста слева от 399.5 тысяч\n",
    "result = 1-(distr.cdf(399500))\n",
    "print(result)"
   ]
  },
  {
   "cell_type": "markdown",
   "id": "3e55e22c",
   "metadata": {},
   "source": [
    "С вероятность 85% после рассылки 1 млн. уведомлений, уведомление откроют не более 399,5 тыс. пользователей."
   ]
  },
  {
   "cell_type": "markdown",
   "id": "2d2b17be",
   "metadata": {},
   "source": [
    "####  Общий вывод"
   ]
  },
  {
   "cell_type": "markdown",
   "id": "9d8aea6c",
   "metadata": {},
   "source": [
    "В результате проведенного анализа, были выполнеы следующие этапы:\n",
    "- предобработка данных (были выявлены дубликаты, удалены и заполнены пустые значения)\n",
    "- на основе обработанных данных были добавлены необходимые для дальнейшего анализа графы\n",
    "- был проведен анализ как данных по отдельности, так и в совокупности\n",
    "\n",
    "На основе полученных данных были проверены гипотезы. Для этого выдвигалась основаня и альтернативная гипотезы, выбирались уровни значимости, а также вид проводимого теста.\n",
    "\n",
    "Были сформулированы следующие выводы:\n",
    "- средняя продолжительность поездки пользователей с подпиской больше, чем пользователей без подписки\n",
    "(p-value: 1.2804098316645618e-34)\n",
    "\n",
    "- среднее расстояние для пользователей с подпиской может быть как меньше, так и равно 3130\n",
    "(p-value: 0.08046311521502146)\n",
    "\n",
    "- помесячная выручка от пользователей с подпиской больше помесячной выручки от пользователей без подписки\n",
    "(p-value: 2.8130926188487286e-35)\n"
   ]
  }
 ],
 "metadata": {
  "ExecuteTimeLog": [
   {
    "duration": 1306,
    "start_time": "2023-06-04T08:15:35.027Z"
   },
   {
    "duration": 304,
    "start_time": "2023-06-04T08:16:30.619Z"
   },
   {
    "duration": 14,
    "start_time": "2023-06-04T08:17:02.772Z"
   },
   {
    "duration": 11,
    "start_time": "2023-06-04T08:17:51.139Z"
   },
   {
    "duration": 316,
    "start_time": "2023-06-04T08:20:04.510Z"
   },
   {
    "duration": 9,
    "start_time": "2023-06-04T08:24:31.336Z"
   },
   {
    "duration": 13,
    "start_time": "2023-06-04T08:24:38.168Z"
   },
   {
    "duration": 395,
    "start_time": "2023-06-04T08:27:41.946Z"
   },
   {
    "duration": 8,
    "start_time": "2023-06-04T08:32:51.467Z"
   },
   {
    "duration": 13,
    "start_time": "2023-06-04T08:32:57.940Z"
   },
   {
    "duration": 391,
    "start_time": "2023-06-04T08:34:12.093Z"
   },
   {
    "duration": 6,
    "start_time": "2023-06-04T08:36:45.221Z"
   },
   {
    "duration": 7,
    "start_time": "2023-06-04T08:36:56.625Z"
   },
   {
    "duration": 6,
    "start_time": "2023-06-04T08:37:10.738Z"
   },
   {
    "duration": 6,
    "start_time": "2023-06-04T08:37:31.980Z"
   },
   {
    "duration": 9,
    "start_time": "2023-06-04T08:37:46.170Z"
   },
   {
    "duration": 5,
    "start_time": "2023-06-04T08:40:06.079Z"
   },
   {
    "duration": 20,
    "start_time": "2023-06-04T08:40:41.143Z"
   },
   {
    "duration": 6,
    "start_time": "2023-06-04T08:41:38.555Z"
   },
   {
    "duration": 7,
    "start_time": "2023-06-04T08:42:10.021Z"
   },
   {
    "duration": 5,
    "start_time": "2023-06-04T08:43:34.708Z"
   },
   {
    "duration": 3,
    "start_time": "2023-06-04T08:45:04.642Z"
   },
   {
    "duration": 4,
    "start_time": "2023-06-04T08:45:19.549Z"
   },
   {
    "duration": 9,
    "start_time": "2023-06-04T08:45:34.655Z"
   },
   {
    "duration": 3,
    "start_time": "2023-06-04T08:46:58.368Z"
   },
   {
    "duration": 4,
    "start_time": "2023-06-04T08:47:00.355Z"
   },
   {
    "duration": 4,
    "start_time": "2023-06-04T08:47:01.168Z"
   },
   {
    "duration": 9,
    "start_time": "2023-06-04T08:47:01.744Z"
   },
   {
    "duration": 6,
    "start_time": "2023-06-04T08:47:49.817Z"
   },
   {
    "duration": 2,
    "start_time": "2023-06-04T08:48:51.242Z"
   },
   {
    "duration": 8,
    "start_time": "2023-06-04T08:49:37.514Z"
   },
   {
    "duration": 6,
    "start_time": "2023-06-04T08:50:13.533Z"
   },
   {
    "duration": 5,
    "start_time": "2023-06-04T08:51:25.069Z"
   },
   {
    "duration": 5,
    "start_time": "2023-06-04T08:53:19.117Z"
   },
   {
    "duration": 11,
    "start_time": "2023-06-04T08:53:32.247Z"
   },
   {
    "duration": 4,
    "start_time": "2023-06-04T08:57:00.137Z"
   },
   {
    "duration": 12,
    "start_time": "2023-06-04T08:57:08.692Z"
   },
   {
    "duration": 11,
    "start_time": "2023-06-04T08:57:45.665Z"
   },
   {
    "duration": 1115,
    "start_time": "2023-06-04T09:09:14.911Z"
   },
   {
    "duration": 77,
    "start_time": "2023-06-04T09:09:16.028Z"
   },
   {
    "duration": 13,
    "start_time": "2023-06-04T09:09:16.107Z"
   },
   {
    "duration": 61,
    "start_time": "2023-06-04T09:09:16.123Z"
   },
   {
    "duration": 368,
    "start_time": "2023-06-04T09:09:16.193Z"
   },
   {
    "duration": 20,
    "start_time": "2023-06-04T09:09:16.563Z"
   },
   {
    "duration": 45,
    "start_time": "2023-06-04T09:09:16.585Z"
   },
   {
    "duration": 465,
    "start_time": "2023-06-04T09:09:16.632Z"
   },
   {
    "duration": 7,
    "start_time": "2023-06-04T09:09:17.099Z"
   },
   {
    "duration": 26,
    "start_time": "2023-06-04T09:09:17.109Z"
   },
   {
    "duration": 461,
    "start_time": "2023-06-04T09:09:17.136Z"
   },
   {
    "duration": 10,
    "start_time": "2023-06-04T09:09:17.599Z"
   },
   {
    "duration": 33,
    "start_time": "2023-06-04T09:09:17.611Z"
   },
   {
    "duration": 24,
    "start_time": "2023-06-04T09:09:17.646Z"
   },
   {
    "duration": 27,
    "start_time": "2023-06-04T09:09:17.672Z"
   },
   {
    "duration": 8,
    "start_time": "2023-06-04T09:09:17.702Z"
   },
   {
    "duration": 22,
    "start_time": "2023-06-04T09:09:17.712Z"
   },
   {
    "duration": 15,
    "start_time": "2023-06-04T09:09:17.736Z"
   },
   {
    "duration": 11,
    "start_time": "2023-06-04T09:09:17.753Z"
   },
   {
    "duration": 22,
    "start_time": "2023-06-04T09:09:17.766Z"
   },
   {
    "duration": 27,
    "start_time": "2023-06-04T09:09:17.790Z"
   },
   {
    "duration": 20,
    "start_time": "2023-06-04T09:09:17.819Z"
   },
   {
    "duration": 29,
    "start_time": "2023-06-04T09:09:17.841Z"
   },
   {
    "duration": 22,
    "start_time": "2023-06-04T09:09:17.872Z"
   },
   {
    "duration": 16,
    "start_time": "2023-06-04T09:09:17.896Z"
   },
   {
    "duration": 7,
    "start_time": "2023-06-04T09:09:17.914Z"
   },
   {
    "duration": 16,
    "start_time": "2023-06-04T09:09:17.926Z"
   },
   {
    "duration": 27,
    "start_time": "2023-06-04T09:09:17.945Z"
   },
   {
    "duration": 25,
    "start_time": "2023-06-04T09:09:17.973Z"
   },
   {
    "duration": 22,
    "start_time": "2023-06-04T09:09:18.000Z"
   },
   {
    "duration": 13,
    "start_time": "2023-06-04T09:09:18.024Z"
   },
   {
    "duration": 33,
    "start_time": "2023-06-04T09:09:18.039Z"
   },
   {
    "duration": 25,
    "start_time": "2023-06-04T09:09:18.074Z"
   },
   {
    "duration": 31,
    "start_time": "2023-06-04T09:09:18.101Z"
   },
   {
    "duration": 177,
    "start_time": "2023-06-04T09:12:40.440Z"
   },
   {
    "duration": 3,
    "start_time": "2023-06-04T09:16:03.412Z"
   },
   {
    "duration": 6,
    "start_time": "2023-06-04T09:17:01.321Z"
   },
   {
    "duration": 103,
    "start_time": "2023-06-04T09:17:37.025Z"
   },
   {
    "duration": 6,
    "start_time": "2023-06-04T09:20:59.520Z"
   },
   {
    "duration": 260,
    "start_time": "2023-06-04T09:21:14.795Z"
   },
   {
    "duration": 7,
    "start_time": "2023-06-04T09:21:46.260Z"
   },
   {
    "duration": 133,
    "start_time": "2023-06-04T09:22:00.371Z"
   },
   {
    "duration": 383,
    "start_time": "2023-06-04T09:24:59.953Z"
   },
   {
    "duration": 35,
    "start_time": "2023-06-04T09:25:49.170Z"
   },
   {
    "duration": 176,
    "start_time": "2023-06-04T09:26:03.390Z"
   },
   {
    "duration": 294,
    "start_time": "2023-06-04T09:28:01.751Z"
   },
   {
    "duration": 12,
    "start_time": "2023-06-04T09:28:19.416Z"
   },
   {
    "duration": 151,
    "start_time": "2023-06-04T09:28:37.104Z"
   },
   {
    "duration": 32,
    "start_time": "2023-06-04T09:30:59.270Z"
   },
   {
    "duration": 17,
    "start_time": "2023-06-04T09:32:19.210Z"
   },
   {
    "duration": 30,
    "start_time": "2023-06-04T09:32:48.904Z"
   },
   {
    "duration": 7,
    "start_time": "2023-06-04T09:33:14.919Z"
   },
   {
    "duration": 10,
    "start_time": "2023-06-04T09:35:38.033Z"
   },
   {
    "duration": 9,
    "start_time": "2023-06-04T09:35:59.374Z"
   },
   {
    "duration": 9,
    "start_time": "2023-06-04T09:37:05.677Z"
   },
   {
    "duration": 4,
    "start_time": "2023-06-04T09:37:26.442Z"
   },
   {
    "duration": 6,
    "start_time": "2023-06-04T09:38:17.817Z"
   },
   {
    "duration": 196,
    "start_time": "2023-06-04T09:41:08.270Z"
   },
   {
    "duration": 261,
    "start_time": "2023-06-04T09:43:44.481Z"
   },
   {
    "duration": 25,
    "start_time": "2023-06-04T09:58:46.709Z"
   },
   {
    "duration": 12,
    "start_time": "2023-06-04T10:00:43.754Z"
   },
   {
    "duration": 13,
    "start_time": "2023-06-04T10:00:45.465Z"
   },
   {
    "duration": 4,
    "start_time": "2023-06-04T10:01:32.853Z"
   },
   {
    "duration": 4,
    "start_time": "2023-06-04T10:01:52.822Z"
   },
   {
    "duration": 12,
    "start_time": "2023-06-04T10:02:30.060Z"
   },
   {
    "duration": 3,
    "start_time": "2023-06-04T10:03:53.746Z"
   },
   {
    "duration": 13,
    "start_time": "2023-06-04T10:05:07.856Z"
   },
   {
    "duration": 15,
    "start_time": "2023-06-04T10:06:06.496Z"
   },
   {
    "duration": 17,
    "start_time": "2023-06-04T10:06:37.853Z"
   },
   {
    "duration": 21,
    "start_time": "2023-06-04T10:08:20.882Z"
   },
   {
    "duration": 8,
    "start_time": "2023-06-04T10:08:22.520Z"
   },
   {
    "duration": 11,
    "start_time": "2023-06-04T10:08:42.339Z"
   },
   {
    "duration": 10,
    "start_time": "2023-06-04T10:08:59.302Z"
   },
   {
    "duration": 7,
    "start_time": "2023-06-04T10:10:29.470Z"
   },
   {
    "duration": 5,
    "start_time": "2023-06-04T10:11:01.957Z"
   },
   {
    "duration": 4,
    "start_time": "2023-06-04T10:12:07.242Z"
   },
   {
    "duration": 6,
    "start_time": "2023-06-04T10:16:21.011Z"
   },
   {
    "duration": 16,
    "start_time": "2023-06-04T10:16:47.739Z"
   },
   {
    "duration": 7,
    "start_time": "2023-06-04T10:16:49.606Z"
   },
   {
    "duration": 10,
    "start_time": "2023-06-04T10:17:34.076Z"
   },
   {
    "duration": 15,
    "start_time": "2023-06-04T10:17:58.452Z"
   },
   {
    "duration": 5,
    "start_time": "2023-06-04T10:18:00.256Z"
   },
   {
    "duration": 4,
    "start_time": "2023-06-04T10:18:38.120Z"
   },
   {
    "duration": 15,
    "start_time": "2023-06-04T10:19:51.100Z"
   },
   {
    "duration": 10,
    "start_time": "2023-06-04T10:20:09.371Z"
   },
   {
    "duration": 6,
    "start_time": "2023-06-04T10:22:29.167Z"
   },
   {
    "duration": 5,
    "start_time": "2023-06-04T10:24:12.843Z"
   },
   {
    "duration": 11,
    "start_time": "2023-06-04T10:24:43.300Z"
   },
   {
    "duration": 8,
    "start_time": "2023-06-04T10:27:02.898Z"
   },
   {
    "duration": 1649,
    "start_time": "2023-06-04T10:38:01.365Z"
   },
   {
    "duration": 54,
    "start_time": "2023-06-04T10:38:57.414Z"
   },
   {
    "duration": 401,
    "start_time": "2023-06-04T10:39:24.931Z"
   },
   {
    "duration": 5,
    "start_time": "2023-06-04T10:41:43.656Z"
   },
   {
    "duration": 42615,
    "start_time": "2023-06-04T10:46:37.415Z"
   },
   {
    "duration": 9,
    "start_time": "2023-06-04T10:51:27.192Z"
   },
   {
    "duration": 1228,
    "start_time": "2023-06-04T11:13:49.298Z"
   },
   {
    "duration": 87,
    "start_time": "2023-06-04T11:13:50.528Z"
   },
   {
    "duration": 13,
    "start_time": "2023-06-04T11:13:50.617Z"
   },
   {
    "duration": 17,
    "start_time": "2023-06-04T11:13:50.632Z"
   },
   {
    "duration": 387,
    "start_time": "2023-06-04T11:13:50.651Z"
   },
   {
    "duration": 12,
    "start_time": "2023-06-04T11:13:51.040Z"
   },
   {
    "duration": 38,
    "start_time": "2023-06-04T11:13:51.053Z"
   },
   {
    "duration": 481,
    "start_time": "2023-06-04T11:13:51.094Z"
   },
   {
    "duration": 16,
    "start_time": "2023-06-04T11:13:51.581Z"
   },
   {
    "duration": 13,
    "start_time": "2023-06-04T11:13:51.606Z"
   },
   {
    "duration": 520,
    "start_time": "2023-06-04T11:13:51.621Z"
   },
   {
    "duration": 7,
    "start_time": "2023-06-04T11:13:52.142Z"
   },
   {
    "duration": 10,
    "start_time": "2023-06-04T11:13:52.151Z"
   },
   {
    "duration": 36,
    "start_time": "2023-06-04T11:13:52.163Z"
   },
   {
    "duration": 9,
    "start_time": "2023-06-04T11:13:52.202Z"
   },
   {
    "duration": 8,
    "start_time": "2023-06-04T11:13:52.213Z"
   },
   {
    "duration": 16,
    "start_time": "2023-06-04T11:13:52.223Z"
   },
   {
    "duration": 4,
    "start_time": "2023-06-04T11:13:52.241Z"
   },
   {
    "duration": 9,
    "start_time": "2023-06-04T11:13:52.246Z"
   },
   {
    "duration": 40,
    "start_time": "2023-06-04T11:13:52.257Z"
   },
   {
    "duration": 9,
    "start_time": "2023-06-04T11:13:52.299Z"
   },
   {
    "duration": 22,
    "start_time": "2023-06-04T11:13:52.310Z"
   },
   {
    "duration": 9,
    "start_time": "2023-06-04T11:13:52.334Z"
   },
   {
    "duration": 7,
    "start_time": "2023-06-04T11:13:52.345Z"
   },
   {
    "duration": 40,
    "start_time": "2023-06-04T11:13:52.354Z"
   },
   {
    "duration": 31,
    "start_time": "2023-06-04T11:13:52.395Z"
   },
   {
    "duration": 14,
    "start_time": "2023-06-04T11:13:52.428Z"
   },
   {
    "duration": 14,
    "start_time": "2023-06-04T11:13:52.447Z"
   },
   {
    "duration": 4,
    "start_time": "2023-06-04T11:13:52.463Z"
   },
   {
    "duration": 31,
    "start_time": "2023-06-04T11:13:52.469Z"
   },
   {
    "duration": 14,
    "start_time": "2023-06-04T11:13:52.502Z"
   },
   {
    "duration": 6,
    "start_time": "2023-06-04T11:13:52.517Z"
   },
   {
    "duration": 13,
    "start_time": "2023-06-04T11:13:52.525Z"
   },
   {
    "duration": 7,
    "start_time": "2023-06-04T11:13:52.540Z"
   },
   {
    "duration": 185,
    "start_time": "2023-06-04T11:13:52.549Z"
   },
   {
    "duration": 7,
    "start_time": "2023-06-04T11:13:52.735Z"
   },
   {
    "duration": 124,
    "start_time": "2023-06-04T11:13:52.744Z"
   },
   {
    "duration": 21,
    "start_time": "2023-06-04T11:13:52.870Z"
   },
   {
    "duration": 321,
    "start_time": "2023-06-04T11:13:52.893Z"
   },
   {
    "duration": 7,
    "start_time": "2023-06-04T11:13:53.216Z"
   },
   {
    "duration": 141,
    "start_time": "2023-06-04T11:13:53.225Z"
   },
   {
    "duration": 341,
    "start_time": "2023-06-04T11:13:53.368Z"
   },
   {
    "duration": 7,
    "start_time": "2023-06-04T11:13:53.711Z"
   },
   {
    "duration": 148,
    "start_time": "2023-06-04T11:13:53.719Z"
   },
   {
    "duration": 252,
    "start_time": "2023-06-04T11:13:53.868Z"
   },
   {
    "duration": 7,
    "start_time": "2023-06-04T11:13:54.122Z"
   },
   {
    "duration": 153,
    "start_time": "2023-06-04T11:13:54.130Z"
   },
   {
    "duration": 21,
    "start_time": "2023-06-04T11:13:54.284Z"
   },
   {
    "duration": 11,
    "start_time": "2023-06-04T11:13:54.310Z"
   },
   {
    "duration": 14,
    "start_time": "2023-06-04T11:13:54.322Z"
   },
   {
    "duration": 17,
    "start_time": "2023-06-04T11:13:54.338Z"
   },
   {
    "duration": 10,
    "start_time": "2023-06-04T11:13:54.358Z"
   },
   {
    "duration": 14,
    "start_time": "2023-06-04T11:13:54.370Z"
   },
   {
    "duration": 11,
    "start_time": "2023-06-04T11:13:54.389Z"
   },
   {
    "duration": 3,
    "start_time": "2023-06-04T11:13:54.403Z"
   },
   {
    "duration": 6,
    "start_time": "2023-06-04T11:13:54.408Z"
   },
   {
    "duration": 196,
    "start_time": "2023-06-04T11:13:54.416Z"
   },
   {
    "duration": 186,
    "start_time": "2023-06-04T11:13:54.614Z"
   },
   {
    "duration": 18,
    "start_time": "2023-06-04T11:13:54.802Z"
   },
   {
    "duration": 10,
    "start_time": "2023-06-04T11:13:54.822Z"
   },
   {
    "duration": 11,
    "start_time": "2023-06-04T11:13:54.834Z"
   },
   {
    "duration": 3,
    "start_time": "2023-06-04T11:13:54.847Z"
   },
   {
    "duration": 14,
    "start_time": "2023-06-04T11:13:54.851Z"
   },
   {
    "duration": 34,
    "start_time": "2023-06-04T11:13:54.866Z"
   },
   {
    "duration": 6,
    "start_time": "2023-06-04T11:13:54.906Z"
   },
   {
    "duration": 15,
    "start_time": "2023-06-04T11:13:54.913Z"
   },
   {
    "duration": 12,
    "start_time": "2023-06-04T11:13:54.930Z"
   },
   {
    "duration": 18,
    "start_time": "2023-06-04T11:13:54.944Z"
   },
   {
    "duration": 31,
    "start_time": "2023-06-04T11:13:54.964Z"
   },
   {
    "duration": 12,
    "start_time": "2023-06-04T11:13:54.997Z"
   },
   {
    "duration": 15,
    "start_time": "2023-06-04T11:13:55.013Z"
   },
   {
    "duration": 5,
    "start_time": "2023-06-04T11:13:55.030Z"
   },
   {
    "duration": 7,
    "start_time": "2023-06-04T11:13:55.037Z"
   },
   {
    "duration": 9,
    "start_time": "2023-06-04T11:13:55.046Z"
   },
   {
    "duration": 30,
    "start_time": "2023-06-04T11:13:55.057Z"
   },
   {
    "duration": 13,
    "start_time": "2023-06-04T11:13:55.094Z"
   },
   {
    "duration": 6,
    "start_time": "2023-06-04T11:13:55.112Z"
   },
   {
    "duration": 9,
    "start_time": "2023-06-04T11:13:55.119Z"
   },
   {
    "duration": 14,
    "start_time": "2023-06-04T11:13:55.129Z"
   },
   {
    "duration": 4,
    "start_time": "2023-06-04T11:13:55.145Z"
   },
   {
    "duration": 12,
    "start_time": "2023-06-04T11:13:55.150Z"
   },
   {
    "duration": 21,
    "start_time": "2023-06-04T11:13:55.168Z"
   },
   {
    "duration": 13,
    "start_time": "2023-06-04T11:13:55.190Z"
   },
   {
    "duration": 8,
    "start_time": "2023-06-04T11:13:55.206Z"
   },
   {
    "duration": 6,
    "start_time": "2023-06-04T11:13:55.216Z"
   },
   {
    "duration": 10,
    "start_time": "2023-06-04T11:13:55.224Z"
   },
   {
    "duration": 7,
    "start_time": "2023-06-04T11:13:55.236Z"
   },
   {
    "duration": 1727,
    "start_time": "2023-06-04T11:13:55.245Z"
   },
   {
    "duration": 489,
    "start_time": "2023-06-04T11:13:56.974Z"
   },
   {
    "duration": 8,
    "start_time": "2023-06-04T11:13:57.465Z"
   },
   {
    "duration": 39128,
    "start_time": "2023-06-04T11:13:57.487Z"
   },
   {
    "duration": 6,
    "start_time": "2023-06-04T11:14:36.617Z"
   },
   {
    "duration": 48,
    "start_time": "2023-06-04T21:57:39.139Z"
   },
   {
    "duration": 1124,
    "start_time": "2023-06-04T21:57:51.716Z"
   },
   {
    "duration": 66,
    "start_time": "2023-06-04T21:57:52.842Z"
   },
   {
    "duration": 12,
    "start_time": "2023-06-04T21:57:52.909Z"
   },
   {
    "duration": 11,
    "start_time": "2023-06-04T21:57:52.923Z"
   },
   {
    "duration": 287,
    "start_time": "2023-06-04T21:57:52.936Z"
   },
   {
    "duration": 9,
    "start_time": "2023-06-04T21:57:53.225Z"
   },
   {
    "duration": 19,
    "start_time": "2023-06-04T21:57:53.235Z"
   },
   {
    "duration": 419,
    "start_time": "2023-06-04T21:57:53.256Z"
   },
   {
    "duration": 9,
    "start_time": "2023-06-04T21:57:53.677Z"
   },
   {
    "duration": 10,
    "start_time": "2023-06-04T21:57:53.689Z"
   },
   {
    "duration": 479,
    "start_time": "2023-06-04T21:57:53.701Z"
   },
   {
    "duration": 7,
    "start_time": "2023-06-04T21:57:54.181Z"
   },
   {
    "duration": 10,
    "start_time": "2023-06-04T21:57:54.189Z"
   },
   {
    "duration": 13,
    "start_time": "2023-06-04T21:57:54.201Z"
   },
   {
    "duration": 5,
    "start_time": "2023-06-04T21:57:54.216Z"
   },
   {
    "duration": 9,
    "start_time": "2023-06-04T21:57:54.222Z"
   },
   {
    "duration": 8,
    "start_time": "2023-06-04T21:57:54.232Z"
   },
   {
    "duration": 35,
    "start_time": "2023-06-04T21:57:54.241Z"
   },
   {
    "duration": 9,
    "start_time": "2023-06-04T21:57:54.278Z"
   },
   {
    "duration": 24,
    "start_time": "2023-06-04T21:57:54.288Z"
   },
   {
    "duration": 15,
    "start_time": "2023-06-04T21:57:54.314Z"
   },
   {
    "duration": 9,
    "start_time": "2023-06-04T21:57:54.331Z"
   },
   {
    "duration": 17,
    "start_time": "2023-06-04T21:57:54.342Z"
   },
   {
    "duration": 7,
    "start_time": "2023-06-04T21:57:54.361Z"
   },
   {
    "duration": 8,
    "start_time": "2023-06-04T21:57:54.369Z"
   },
   {
    "duration": 9,
    "start_time": "2023-06-04T21:57:54.378Z"
   },
   {
    "duration": 4,
    "start_time": "2023-06-04T21:57:54.388Z"
   },
   {
    "duration": 15,
    "start_time": "2023-06-04T21:57:54.397Z"
   },
   {
    "duration": 5,
    "start_time": "2023-06-04T21:57:54.414Z"
   },
   {
    "duration": 18,
    "start_time": "2023-06-04T21:57:54.420Z"
   },
   {
    "duration": 11,
    "start_time": "2023-06-04T21:57:54.439Z"
   },
   {
    "duration": 26,
    "start_time": "2023-06-04T21:57:54.451Z"
   },
   {
    "duration": 15,
    "start_time": "2023-06-04T21:57:54.478Z"
   },
   {
    "duration": 8,
    "start_time": "2023-06-04T21:57:54.495Z"
   },
   {
    "duration": 159,
    "start_time": "2023-06-04T21:57:54.504Z"
   },
   {
    "duration": 13,
    "start_time": "2023-06-04T21:57:54.665Z"
   },
   {
    "duration": 99,
    "start_time": "2023-06-04T21:57:54.679Z"
   },
   {
    "duration": 6,
    "start_time": "2023-06-04T21:57:54.780Z"
   },
   {
    "duration": 265,
    "start_time": "2023-06-04T21:57:54.787Z"
   },
   {
    "duration": 6,
    "start_time": "2023-06-04T21:57:55.054Z"
   },
   {
    "duration": 138,
    "start_time": "2023-06-04T21:57:55.061Z"
   },
   {
    "duration": 308,
    "start_time": "2023-06-04T21:57:55.201Z"
   },
   {
    "duration": 8,
    "start_time": "2023-06-04T21:57:55.511Z"
   },
   {
    "duration": 135,
    "start_time": "2023-06-04T21:57:55.521Z"
   },
   {
    "duration": 202,
    "start_time": "2023-06-04T21:57:55.658Z"
   },
   {
    "duration": 6,
    "start_time": "2023-06-04T21:57:55.862Z"
   },
   {
    "duration": 124,
    "start_time": "2023-06-04T21:57:55.875Z"
   },
   {
    "duration": 11,
    "start_time": "2023-06-04T21:57:56.000Z"
   },
   {
    "duration": 9,
    "start_time": "2023-06-04T21:57:56.013Z"
   },
   {
    "duration": 14,
    "start_time": "2023-06-04T21:57:56.024Z"
   },
   {
    "duration": 8,
    "start_time": "2023-06-04T21:57:56.039Z"
   },
   {
    "duration": 29,
    "start_time": "2023-06-04T21:57:56.048Z"
   },
   {
    "duration": 4,
    "start_time": "2023-06-04T21:57:56.079Z"
   },
   {
    "duration": 8,
    "start_time": "2023-06-04T21:57:56.085Z"
   },
   {
    "duration": 6,
    "start_time": "2023-06-04T21:57:56.094Z"
   },
   {
    "duration": 17,
    "start_time": "2023-06-04T21:57:56.101Z"
   },
   {
    "duration": 206,
    "start_time": "2023-06-04T21:57:56.119Z"
   },
   {
    "duration": 160,
    "start_time": "2023-06-04T21:57:56.327Z"
   },
   {
    "duration": 14,
    "start_time": "2023-06-04T21:57:56.490Z"
   },
   {
    "duration": 12,
    "start_time": "2023-06-04T21:57:56.506Z"
   },
   {
    "duration": 12,
    "start_time": "2023-06-04T21:57:56.520Z"
   },
   {
    "duration": 4,
    "start_time": "2023-06-04T21:57:56.533Z"
   },
   {
    "duration": 4,
    "start_time": "2023-06-04T21:57:56.539Z"
   },
   {
    "duration": 8,
    "start_time": "2023-06-04T21:57:56.576Z"
   },
   {
    "duration": 5,
    "start_time": "2023-06-04T21:57:56.586Z"
   },
   {
    "duration": 18,
    "start_time": "2023-06-04T21:57:56.593Z"
   },
   {
    "duration": 12,
    "start_time": "2023-06-04T21:57:56.613Z"
   },
   {
    "duration": 13,
    "start_time": "2023-06-04T21:57:56.627Z"
   },
   {
    "duration": 43,
    "start_time": "2023-06-04T21:57:56.642Z"
   },
   {
    "duration": 9,
    "start_time": "2023-06-04T21:57:56.687Z"
   },
   {
    "duration": 10,
    "start_time": "2023-06-04T21:57:56.697Z"
   },
   {
    "duration": 4,
    "start_time": "2023-06-04T21:57:56.709Z"
   },
   {
    "duration": 5,
    "start_time": "2023-06-04T21:57:56.715Z"
   },
   {
    "duration": 4,
    "start_time": "2023-06-04T21:57:56.722Z"
   },
   {
    "duration": 5,
    "start_time": "2023-06-04T21:57:56.727Z"
   },
   {
    "duration": 50,
    "start_time": "2023-06-04T21:57:56.734Z"
   },
   {
    "duration": 4,
    "start_time": "2023-06-04T21:57:56.786Z"
   },
   {
    "duration": 10,
    "start_time": "2023-06-04T21:57:56.792Z"
   },
   {
    "duration": 9,
    "start_time": "2023-06-04T21:57:56.804Z"
   },
   {
    "duration": 9,
    "start_time": "2023-06-04T21:57:56.815Z"
   },
   {
    "duration": 4,
    "start_time": "2023-06-04T21:57:56.826Z"
   },
   {
    "duration": 40,
    "start_time": "2023-06-04T21:57:56.835Z"
   },
   {
    "duration": 6,
    "start_time": "2023-06-04T21:57:56.877Z"
   },
   {
    "duration": 6,
    "start_time": "2023-06-04T21:57:56.885Z"
   },
   {
    "duration": 6,
    "start_time": "2023-06-04T21:57:56.892Z"
   },
   {
    "duration": 5,
    "start_time": "2023-06-04T21:57:56.899Z"
   },
   {
    "duration": 5,
    "start_time": "2023-06-04T21:57:56.906Z"
   },
   {
    "duration": 5,
    "start_time": "2023-06-04T21:57:56.913Z"
   },
   {
    "duration": 1458,
    "start_time": "2023-06-04T21:57:56.920Z"
   },
   {
    "duration": 400,
    "start_time": "2023-06-04T21:57:58.379Z"
   },
   {
    "duration": 4,
    "start_time": "2023-06-04T21:57:58.781Z"
   },
   {
    "duration": 37702,
    "start_time": "2023-06-04T21:57:58.787Z"
   },
   {
    "duration": 5,
    "start_time": "2023-06-04T21:58:36.491Z"
   },
   {
    "duration": 10,
    "start_time": "2023-06-04T21:58:36.498Z"
   },
   {
    "duration": 1174,
    "start_time": "2023-06-05T17:33:15.059Z"
   },
   {
    "duration": 188,
    "start_time": "2023-06-05T17:33:18.347Z"
   },
   {
    "duration": 12,
    "start_time": "2023-06-05T17:33:20.643Z"
   },
   {
    "duration": 11,
    "start_time": "2023-06-05T17:33:22.786Z"
   },
   {
    "duration": 314,
    "start_time": "2023-06-05T17:33:27.294Z"
   },
   {
    "duration": 213,
    "start_time": "2023-06-05T17:33:49.242Z"
   },
   {
    "duration": 245,
    "start_time": "2023-06-05T17:35:21.502Z"
   },
   {
    "duration": 11,
    "start_time": "2023-06-05T17:38:21.038Z"
   },
   {
    "duration": 7,
    "start_time": "2023-06-05T17:38:38.194Z"
   },
   {
    "duration": 170,
    "start_time": "2023-06-05T17:41:51.648Z"
   },
   {
    "duration": 155,
    "start_time": "2023-06-05T17:41:58.431Z"
   },
   {
    "duration": 143,
    "start_time": "2023-06-05T17:45:20.749Z"
   },
   {
    "duration": 118,
    "start_time": "2023-06-05T17:45:27.390Z"
   },
   {
    "duration": 8,
    "start_time": "2023-06-05T17:46:17.190Z"
   },
   {
    "duration": 9,
    "start_time": "2023-06-05T17:46:18.898Z"
   },
   {
    "duration": 173,
    "start_time": "2023-06-05T17:46:53.515Z"
   },
   {
    "duration": 219,
    "start_time": "2023-06-05T17:48:21.136Z"
   },
   {
    "duration": 123,
    "start_time": "2023-06-05T17:48:28.948Z"
   },
   {
    "duration": 158,
    "start_time": "2023-06-05T17:49:52.513Z"
   },
   {
    "duration": 123,
    "start_time": "2023-06-05T17:51:07.151Z"
   },
   {
    "duration": 139,
    "start_time": "2023-06-05T17:52:05.152Z"
   },
   {
    "duration": 141,
    "start_time": "2023-06-05T17:52:15.700Z"
   },
   {
    "duration": 6,
    "start_time": "2023-06-05T17:54:06.886Z"
   },
   {
    "duration": 9,
    "start_time": "2023-06-05T17:54:08.525Z"
   },
   {
    "duration": 134,
    "start_time": "2023-06-05T17:54:14.054Z"
   },
   {
    "duration": 122,
    "start_time": "2023-06-05T17:54:19.790Z"
   },
   {
    "duration": 124,
    "start_time": "2023-06-05T17:54:24.194Z"
   },
   {
    "duration": 123,
    "start_time": "2023-06-05T17:55:01.156Z"
   },
   {
    "duration": 123,
    "start_time": "2023-06-05T17:55:05.187Z"
   },
   {
    "duration": 189,
    "start_time": "2023-06-05T17:55:50.448Z"
   },
   {
    "duration": 122,
    "start_time": "2023-06-05T17:56:34.186Z"
   },
   {
    "duration": 6,
    "start_time": "2023-06-05T17:56:49.786Z"
   },
   {
    "duration": 5,
    "start_time": "2023-06-05T17:56:51.351Z"
   },
   {
    "duration": 11,
    "start_time": "2023-06-05T17:56:52.688Z"
   },
   {
    "duration": 5,
    "start_time": "2023-06-05T17:56:54.812Z"
   },
   {
    "duration": 6,
    "start_time": "2023-06-05T17:56:56.528Z"
   },
   {
    "duration": 6,
    "start_time": "2023-06-05T17:56:58.507Z"
   },
   {
    "duration": 3,
    "start_time": "2023-06-05T17:57:01.050Z"
   },
   {
    "duration": 4,
    "start_time": "2023-06-05T17:57:03.192Z"
   },
   {
    "duration": 8,
    "start_time": "2023-06-05T17:57:04.196Z"
   },
   {
    "duration": 6,
    "start_time": "2023-06-05T17:57:05.402Z"
   },
   {
    "duration": 7,
    "start_time": "2023-06-05T18:10:45.851Z"
   },
   {
    "duration": 8,
    "start_time": "2023-06-05T18:10:47.440Z"
   },
   {
    "duration": 7,
    "start_time": "2023-06-05T18:10:48.209Z"
   },
   {
    "duration": 5,
    "start_time": "2023-06-05T18:10:48.940Z"
   },
   {
    "duration": 4,
    "start_time": "2023-06-05T18:10:50.455Z"
   },
   {
    "duration": 3,
    "start_time": "2023-06-05T18:10:51.603Z"
   },
   {
    "duration": 11,
    "start_time": "2023-06-05T18:10:52.618Z"
   },
   {
    "duration": 10,
    "start_time": "2023-06-05T18:10:53.973Z"
   },
   {
    "duration": 3,
    "start_time": "2023-06-05T18:11:08.543Z"
   },
   {
    "duration": 11,
    "start_time": "2023-06-05T18:11:10.050Z"
   },
   {
    "duration": 10,
    "start_time": "2023-06-05T18:11:11.206Z"
   },
   {
    "duration": 6,
    "start_time": "2023-06-05T18:37:18.505Z"
   },
   {
    "duration": 5,
    "start_time": "2023-06-05T18:37:20.493Z"
   },
   {
    "duration": 6,
    "start_time": "2023-06-05T18:37:22.650Z"
   },
   {
    "duration": 153,
    "start_time": "2023-06-05T18:37:30.537Z"
   },
   {
    "duration": 215,
    "start_time": "2023-06-05T18:37:59.776Z"
   },
   {
    "duration": 318,
    "start_time": "2023-06-05T18:38:30.876Z"
   },
   {
    "duration": 224,
    "start_time": "2023-06-05T18:38:47.203Z"
   },
   {
    "duration": 153,
    "start_time": "2023-06-05T18:38:53.933Z"
   },
   {
    "duration": 251,
    "start_time": "2023-06-05T18:40:09.078Z"
   },
   {
    "duration": 169,
    "start_time": "2023-06-05T18:40:38.944Z"
   },
   {
    "duration": 198,
    "start_time": "2023-06-05T18:40:53.426Z"
   },
   {
    "duration": 197,
    "start_time": "2023-06-05T18:41:24.809Z"
   },
   {
    "duration": 135,
    "start_time": "2023-06-05T18:42:37.205Z"
   },
   {
    "duration": 163,
    "start_time": "2023-06-05T18:43:15.692Z"
   },
   {
    "duration": 126,
    "start_time": "2023-06-05T18:43:31.255Z"
   },
   {
    "duration": 109,
    "start_time": "2023-06-05T18:43:42.709Z"
   },
   {
    "duration": 3,
    "start_time": "2023-06-05T18:46:20.602Z"
   },
   {
    "duration": 5,
    "start_time": "2023-06-05T18:46:27.859Z"
   },
   {
    "duration": 162,
    "start_time": "2023-06-05T18:46:40.476Z"
   },
   {
    "duration": 182,
    "start_time": "2023-06-05T18:53:38.047Z"
   },
   {
    "duration": 281,
    "start_time": "2023-06-05T18:53:49.050Z"
   },
   {
    "duration": 268,
    "start_time": "2023-06-05T18:54:19.178Z"
   },
   {
    "duration": 272,
    "start_time": "2023-06-05T18:54:48.346Z"
   },
   {
    "duration": 366,
    "start_time": "2023-06-05T18:55:01.703Z"
   },
   {
    "duration": 205,
    "start_time": "2023-06-05T18:55:13.861Z"
   },
   {
    "duration": 204,
    "start_time": "2023-06-05T18:55:18.519Z"
   },
   {
    "duration": 120,
    "start_time": "2023-06-05T18:55:23.243Z"
   },
   {
    "duration": 129,
    "start_time": "2023-06-05T18:55:34.839Z"
   },
   {
    "duration": 6,
    "start_time": "2023-06-05T18:56:18.178Z"
   },
   {
    "duration": 80,
    "start_time": "2023-06-05T18:56:19.544Z"
   },
   {
    "duration": 318,
    "start_time": "2023-06-05T18:58:36.193Z"
   },
   {
    "duration": 56,
    "start_time": "2023-06-05T18:59:08.256Z"
   },
   {
    "duration": 84,
    "start_time": "2023-06-05T19:01:10.854Z"
   },
   {
    "duration": 76,
    "start_time": "2023-06-05T19:05:22.438Z"
   },
   {
    "duration": 60,
    "start_time": "2023-06-05T19:05:40.587Z"
   },
   {
    "duration": 53,
    "start_time": "2023-06-05T19:06:07.439Z"
   },
   {
    "duration": 54,
    "start_time": "2023-06-05T19:06:11.601Z"
   },
   {
    "duration": 85,
    "start_time": "2023-06-05T19:06:48.534Z"
   },
   {
    "duration": 75,
    "start_time": "2023-06-05T19:06:57.319Z"
   },
   {
    "duration": 149,
    "start_time": "2023-06-05T19:07:05.476Z"
   },
   {
    "duration": 172,
    "start_time": "2023-06-05T19:10:06.674Z"
   },
   {
    "duration": 1166,
    "start_time": "2023-06-05T19:13:09.286Z"
   },
   {
    "duration": 67,
    "start_time": "2023-06-05T19:13:10.454Z"
   },
   {
    "duration": 15,
    "start_time": "2023-06-05T19:13:10.522Z"
   },
   {
    "duration": 18,
    "start_time": "2023-06-05T19:13:10.539Z"
   },
   {
    "duration": 244,
    "start_time": "2023-06-05T19:13:10.560Z"
   },
   {
    "duration": 131,
    "start_time": "2023-06-05T19:13:10.805Z"
   },
   {
    "duration": 11,
    "start_time": "2023-06-05T19:13:10.938Z"
   },
   {
    "duration": 49,
    "start_time": "2023-06-05T19:13:10.951Z"
   },
   {
    "duration": 213,
    "start_time": "2023-06-05T19:13:11.001Z"
   },
   {
    "duration": 203,
    "start_time": "2023-06-05T19:13:11.216Z"
   },
   {
    "duration": 169,
    "start_time": "2023-06-05T19:13:11.420Z"
   },
   {
    "duration": 9,
    "start_time": "2023-06-05T19:13:11.591Z"
   },
   {
    "duration": 16,
    "start_time": "2023-06-05T19:13:11.615Z"
   },
   {
    "duration": 185,
    "start_time": "2023-06-05T19:13:11.636Z"
   },
   {
    "duration": 127,
    "start_time": "2023-06-05T19:13:11.823Z"
   },
   {
    "duration": 137,
    "start_time": "2023-06-05T19:13:11.952Z"
   },
   {
    "duration": 6,
    "start_time": "2023-06-05T19:13:12.090Z"
   },
   {
    "duration": 37,
    "start_time": "2023-06-05T19:13:12.097Z"
   },
   {
    "duration": 31,
    "start_time": "2023-06-05T19:13:12.136Z"
   },
   {
    "duration": 12,
    "start_time": "2023-06-05T19:13:12.168Z"
   },
   {
    "duration": 24,
    "start_time": "2023-06-05T19:13:12.181Z"
   },
   {
    "duration": 6,
    "start_time": "2023-06-05T19:13:12.207Z"
   },
   {
    "duration": 30,
    "start_time": "2023-06-05T19:13:12.215Z"
   },
   {
    "duration": 17,
    "start_time": "2023-06-05T19:13:12.247Z"
   },
   {
    "duration": 26,
    "start_time": "2023-06-05T19:13:12.266Z"
   },
   {
    "duration": 31,
    "start_time": "2023-06-05T19:13:12.294Z"
   },
   {
    "duration": 20,
    "start_time": "2023-06-05T19:13:12.327Z"
   },
   {
    "duration": 26,
    "start_time": "2023-06-05T19:13:12.349Z"
   },
   {
    "duration": 9,
    "start_time": "2023-06-05T19:13:12.377Z"
   },
   {
    "duration": 19,
    "start_time": "2023-06-05T19:13:12.388Z"
   },
   {
    "duration": 39,
    "start_time": "2023-06-05T19:13:12.408Z"
   },
   {
    "duration": 37,
    "start_time": "2023-06-05T19:13:12.449Z"
   },
   {
    "duration": 22,
    "start_time": "2023-06-05T19:13:12.488Z"
   },
   {
    "duration": 4,
    "start_time": "2023-06-05T19:13:12.512Z"
   },
   {
    "duration": 34,
    "start_time": "2023-06-05T19:13:12.518Z"
   },
   {
    "duration": 39,
    "start_time": "2023-06-05T19:13:12.554Z"
   },
   {
    "duration": 21,
    "start_time": "2023-06-05T19:13:12.594Z"
   },
   {
    "duration": 21,
    "start_time": "2023-06-05T19:13:12.616Z"
   },
   {
    "duration": 37,
    "start_time": "2023-06-05T19:13:12.638Z"
   },
   {
    "duration": 162,
    "start_time": "2023-06-05T19:13:12.677Z"
   },
   {
    "duration": 6,
    "start_time": "2023-06-05T19:13:12.843Z"
   },
   {
    "duration": 153,
    "start_time": "2023-06-05T19:13:12.851Z"
   },
   {
    "duration": 71,
    "start_time": "2023-06-05T19:13:13.006Z"
   },
   {
    "duration": 6,
    "start_time": "2023-06-05T19:13:13.078Z"
   },
   {
    "duration": 251,
    "start_time": "2023-06-05T19:13:13.085Z"
   },
   {
    "duration": 6,
    "start_time": "2023-06-05T19:13:13.338Z"
   },
   {
    "duration": 126,
    "start_time": "2023-06-05T19:13:13.352Z"
   },
   {
    "duration": 200,
    "start_time": "2023-06-05T19:13:13.479Z"
   },
   {
    "duration": 7,
    "start_time": "2023-06-05T19:13:13.680Z"
   },
   {
    "duration": 130,
    "start_time": "2023-06-05T19:13:13.689Z"
   },
   {
    "duration": 211,
    "start_time": "2023-06-05T19:13:13.820Z"
   },
   {
    "duration": 6,
    "start_time": "2023-06-05T19:13:14.032Z"
   },
   {
    "duration": 183,
    "start_time": "2023-06-05T19:13:14.040Z"
   },
   {
    "duration": 13,
    "start_time": "2023-06-05T19:13:14.225Z"
   },
   {
    "duration": 23,
    "start_time": "2023-06-05T19:13:14.240Z"
   },
   {
    "duration": 45,
    "start_time": "2023-06-05T19:13:14.265Z"
   },
   {
    "duration": 41,
    "start_time": "2023-06-05T19:13:14.311Z"
   },
   {
    "duration": 13,
    "start_time": "2023-06-05T19:13:14.353Z"
   },
   {
    "duration": 13,
    "start_time": "2023-06-05T19:13:14.367Z"
   },
   {
    "duration": 12,
    "start_time": "2023-06-05T19:13:14.381Z"
   },
   {
    "duration": 39,
    "start_time": "2023-06-05T19:13:14.395Z"
   },
   {
    "duration": 28,
    "start_time": "2023-06-05T19:13:14.435Z"
   },
   {
    "duration": 159,
    "start_time": "2023-06-05T19:13:14.464Z"
   },
   {
    "duration": 146,
    "start_time": "2023-06-05T19:13:14.624Z"
   },
   {
    "duration": 10,
    "start_time": "2023-06-05T19:13:14.772Z"
   },
   {
    "duration": 15,
    "start_time": "2023-06-05T19:13:14.783Z"
   },
   {
    "duration": 33,
    "start_time": "2023-06-05T19:13:14.799Z"
   },
   {
    "duration": 4,
    "start_time": "2023-06-05T19:13:14.833Z"
   },
   {
    "duration": 22,
    "start_time": "2023-06-05T19:13:14.839Z"
   },
   {
    "duration": 26,
    "start_time": "2023-06-05T19:13:14.863Z"
   },
   {
    "duration": 23,
    "start_time": "2023-06-05T19:13:14.891Z"
   },
   {
    "duration": 49,
    "start_time": "2023-06-05T19:13:14.916Z"
   },
   {
    "duration": 17,
    "start_time": "2023-06-05T19:13:14.967Z"
   },
   {
    "duration": 19,
    "start_time": "2023-06-05T19:13:14.986Z"
   },
   {
    "duration": 34,
    "start_time": "2023-06-05T19:13:15.007Z"
   },
   {
    "duration": 15,
    "start_time": "2023-06-05T19:13:15.043Z"
   },
   {
    "duration": 13,
    "start_time": "2023-06-05T19:13:15.059Z"
   },
   {
    "duration": 16,
    "start_time": "2023-06-05T19:13:15.073Z"
   },
   {
    "duration": 15,
    "start_time": "2023-06-05T19:13:15.091Z"
   },
   {
    "duration": 26,
    "start_time": "2023-06-05T19:13:15.107Z"
   },
   {
    "duration": 24,
    "start_time": "2023-06-05T19:13:15.135Z"
   },
   {
    "duration": 28,
    "start_time": "2023-06-05T19:13:15.161Z"
   },
   {
    "duration": 22,
    "start_time": "2023-06-05T19:13:15.191Z"
   },
   {
    "duration": 61,
    "start_time": "2023-06-05T19:13:15.215Z"
   },
   {
    "duration": 36,
    "start_time": "2023-06-05T19:13:15.278Z"
   },
   {
    "duration": 39,
    "start_time": "2023-06-05T19:13:15.316Z"
   },
   {
    "duration": 28,
    "start_time": "2023-06-05T19:13:15.358Z"
   },
   {
    "duration": 26,
    "start_time": "2023-06-05T19:13:15.388Z"
   },
   {
    "duration": 20,
    "start_time": "2023-06-05T19:13:15.416Z"
   },
   {
    "duration": 44,
    "start_time": "2023-06-05T19:13:15.438Z"
   },
   {
    "duration": 28,
    "start_time": "2023-06-05T19:13:15.484Z"
   },
   {
    "duration": 33,
    "start_time": "2023-06-05T19:13:15.514Z"
   },
   {
    "duration": 15,
    "start_time": "2023-06-05T19:13:15.549Z"
   },
   {
    "duration": 1204,
    "start_time": "2023-06-05T19:13:15.566Z"
   },
   {
    "duration": 460,
    "start_time": "2023-06-05T19:13:16.772Z"
   },
   {
    "duration": 4,
    "start_time": "2023-06-05T19:13:17.234Z"
   },
   {
    "duration": 32633,
    "start_time": "2023-06-05T19:13:17.240Z"
   },
   {
    "duration": 6,
    "start_time": "2023-06-05T19:13:49.875Z"
   },
   {
    "duration": 1008,
    "start_time": "2023-06-06T13:12:37.726Z"
   },
   {
    "duration": 63,
    "start_time": "2023-06-06T13:12:38.736Z"
   },
   {
    "duration": 11,
    "start_time": "2023-06-06T13:12:38.800Z"
   },
   {
    "duration": 9,
    "start_time": "2023-06-06T13:12:38.812Z"
   },
   {
    "duration": 199,
    "start_time": "2023-06-06T13:12:38.823Z"
   },
   {
    "duration": 144,
    "start_time": "2023-06-06T13:12:39.024Z"
   },
   {
    "duration": 16,
    "start_time": "2023-06-06T13:12:39.169Z"
   },
   {
    "duration": 27,
    "start_time": "2023-06-06T13:12:39.187Z"
   },
   {
    "duration": 168,
    "start_time": "2023-06-06T13:12:39.215Z"
   },
   {
    "duration": 163,
    "start_time": "2023-06-06T13:12:39.385Z"
   },
   {
    "duration": 170,
    "start_time": "2023-06-06T13:12:39.550Z"
   },
   {
    "duration": 8,
    "start_time": "2023-06-06T13:12:39.721Z"
   },
   {
    "duration": 19,
    "start_time": "2023-06-06T13:12:39.730Z"
   },
   {
    "duration": 144,
    "start_time": "2023-06-06T13:12:39.752Z"
   },
   {
    "duration": 126,
    "start_time": "2023-06-06T13:12:39.898Z"
   },
   {
    "duration": 138,
    "start_time": "2023-06-06T13:12:40.025Z"
   },
   {
    "duration": 7,
    "start_time": "2023-06-06T13:12:40.164Z"
   },
   {
    "duration": 5,
    "start_time": "2023-06-06T13:12:40.178Z"
   },
   {
    "duration": 15,
    "start_time": "2023-06-06T13:12:40.184Z"
   },
   {
    "duration": 6,
    "start_time": "2023-06-06T13:12:40.201Z"
   },
   {
    "duration": 5,
    "start_time": "2023-06-06T13:12:40.209Z"
   },
   {
    "duration": 6,
    "start_time": "2023-06-06T13:12:40.216Z"
   },
   {
    "duration": 23,
    "start_time": "2023-06-06T13:12:40.223Z"
   },
   {
    "duration": 14,
    "start_time": "2023-06-06T13:12:40.248Z"
   },
   {
    "duration": 22,
    "start_time": "2023-06-06T13:12:40.264Z"
   },
   {
    "duration": 6,
    "start_time": "2023-06-06T13:12:40.288Z"
   },
   {
    "duration": 11,
    "start_time": "2023-06-06T13:12:40.296Z"
   },
   {
    "duration": 11,
    "start_time": "2023-06-06T13:12:40.308Z"
   },
   {
    "duration": 7,
    "start_time": "2023-06-06T13:12:40.321Z"
   },
   {
    "duration": 5,
    "start_time": "2023-06-06T13:12:40.330Z"
   },
   {
    "duration": 43,
    "start_time": "2023-06-06T13:12:40.337Z"
   },
   {
    "duration": 6,
    "start_time": "2023-06-06T13:12:40.381Z"
   },
   {
    "duration": 20,
    "start_time": "2023-06-06T13:12:40.388Z"
   },
   {
    "duration": 4,
    "start_time": "2023-06-06T13:12:40.410Z"
   },
   {
    "duration": 13,
    "start_time": "2023-06-06T13:12:40.415Z"
   },
   {
    "duration": 11,
    "start_time": "2023-06-06T13:12:40.430Z"
   },
   {
    "duration": 7,
    "start_time": "2023-06-06T13:12:40.443Z"
   },
   {
    "duration": 6,
    "start_time": "2023-06-06T13:12:40.479Z"
   },
   {
    "duration": 13,
    "start_time": "2023-06-06T13:12:40.486Z"
   },
   {
    "duration": 168,
    "start_time": "2023-06-06T13:12:40.500Z"
   },
   {
    "duration": 8,
    "start_time": "2023-06-06T13:12:40.673Z"
   },
   {
    "duration": 186,
    "start_time": "2023-06-06T13:12:40.682Z"
   },
   {
    "duration": 74,
    "start_time": "2023-06-06T13:12:40.869Z"
   },
   {
    "duration": 6,
    "start_time": "2023-06-06T13:12:40.945Z"
   },
   {
    "duration": 255,
    "start_time": "2023-06-06T13:12:40.953Z"
   },
   {
    "duration": 7,
    "start_time": "2023-06-06T13:12:41.210Z"
   },
   {
    "duration": 133,
    "start_time": "2023-06-06T13:12:41.219Z"
   },
   {
    "duration": 203,
    "start_time": "2023-06-06T13:12:41.353Z"
   },
   {
    "duration": 6,
    "start_time": "2023-06-06T13:12:41.557Z"
   },
   {
    "duration": 134,
    "start_time": "2023-06-06T13:12:41.565Z"
   },
   {
    "duration": 197,
    "start_time": "2023-06-06T13:12:41.700Z"
   },
   {
    "duration": 6,
    "start_time": "2023-06-06T13:12:41.899Z"
   },
   {
    "duration": 129,
    "start_time": "2023-06-06T13:12:41.906Z"
   },
   {
    "duration": 11,
    "start_time": "2023-06-06T13:12:42.037Z"
   },
   {
    "duration": 9,
    "start_time": "2023-06-06T13:12:42.050Z"
   },
   {
    "duration": 27,
    "start_time": "2023-06-06T13:12:42.061Z"
   },
   {
    "duration": 5,
    "start_time": "2023-06-06T13:12:42.090Z"
   },
   {
    "duration": 15,
    "start_time": "2023-06-06T13:12:42.096Z"
   },
   {
    "duration": 3,
    "start_time": "2023-06-06T13:12:42.113Z"
   },
   {
    "duration": 8,
    "start_time": "2023-06-06T13:12:42.117Z"
   },
   {
    "duration": 13,
    "start_time": "2023-06-06T13:12:42.126Z"
   },
   {
    "duration": 4,
    "start_time": "2023-06-06T13:12:42.140Z"
   },
   {
    "duration": 172,
    "start_time": "2023-06-06T13:12:42.145Z"
   },
   {
    "duration": 143,
    "start_time": "2023-06-06T13:12:42.319Z"
   },
   {
    "duration": 20,
    "start_time": "2023-06-06T13:12:42.463Z"
   },
   {
    "duration": 10,
    "start_time": "2023-06-06T13:12:42.484Z"
   },
   {
    "duration": 14,
    "start_time": "2023-06-06T13:12:42.496Z"
   },
   {
    "duration": 3,
    "start_time": "2023-06-06T13:12:42.512Z"
   },
   {
    "duration": 10,
    "start_time": "2023-06-06T13:12:42.516Z"
   },
   {
    "duration": 13,
    "start_time": "2023-06-06T13:12:42.527Z"
   },
   {
    "duration": 16,
    "start_time": "2023-06-06T13:12:42.542Z"
   },
   {
    "duration": 17,
    "start_time": "2023-06-06T13:12:42.560Z"
   },
   {
    "duration": 10,
    "start_time": "2023-06-06T13:12:42.579Z"
   },
   {
    "duration": 13,
    "start_time": "2023-06-06T13:12:42.590Z"
   },
   {
    "duration": 13,
    "start_time": "2023-06-06T13:12:42.605Z"
   },
   {
    "duration": 6,
    "start_time": "2023-06-06T13:12:42.620Z"
   },
   {
    "duration": 8,
    "start_time": "2023-06-06T13:12:42.627Z"
   },
   {
    "duration": 4,
    "start_time": "2023-06-06T13:12:42.637Z"
   },
   {
    "duration": 5,
    "start_time": "2023-06-06T13:12:42.642Z"
   },
   {
    "duration": 30,
    "start_time": "2023-06-06T13:12:42.648Z"
   },
   {
    "duration": 10,
    "start_time": "2023-06-06T13:12:42.679Z"
   },
   {
    "duration": 12,
    "start_time": "2023-06-06T13:12:42.690Z"
   },
   {
    "duration": 8,
    "start_time": "2023-06-06T13:12:42.703Z"
   },
   {
    "duration": 7,
    "start_time": "2023-06-06T13:12:42.712Z"
   },
   {
    "duration": 16,
    "start_time": "2023-06-06T13:12:42.720Z"
   },
   {
    "duration": 5,
    "start_time": "2023-06-06T13:12:42.737Z"
   },
   {
    "duration": 6,
    "start_time": "2023-06-06T13:12:42.744Z"
   },
   {
    "duration": 26,
    "start_time": "2023-06-06T13:12:42.752Z"
   },
   {
    "duration": 7,
    "start_time": "2023-06-06T13:12:42.780Z"
   },
   {
    "duration": 5,
    "start_time": "2023-06-06T13:12:42.789Z"
   },
   {
    "duration": 9,
    "start_time": "2023-06-06T13:12:42.796Z"
   },
   {
    "duration": 4,
    "start_time": "2023-06-06T13:12:42.807Z"
   },
   {
    "duration": 5,
    "start_time": "2023-06-06T13:12:42.813Z"
   },
   {
    "duration": 1303,
    "start_time": "2023-06-06T13:12:42.819Z"
   },
   {
    "duration": 457,
    "start_time": "2023-06-06T13:12:44.124Z"
   },
   {
    "duration": 4,
    "start_time": "2023-06-06T13:12:44.583Z"
   },
   {
    "duration": 35335,
    "start_time": "2023-06-06T13:12:44.589Z"
   },
   {
    "duration": 5,
    "start_time": "2023-06-06T13:13:19.926Z"
   },
   {
    "duration": 1386,
    "start_time": "2023-06-06T17:52:22.434Z"
   },
   {
    "duration": 378,
    "start_time": "2023-06-06T17:52:23.822Z"
   },
   {
    "duration": 14,
    "start_time": "2023-06-06T17:52:24.202Z"
   },
   {
    "duration": 16,
    "start_time": "2023-06-06T17:52:24.218Z"
   },
   {
    "duration": 229,
    "start_time": "2023-06-06T17:52:24.237Z"
   },
   {
    "duration": 201,
    "start_time": "2023-06-06T17:52:24.468Z"
   },
   {
    "duration": 9,
    "start_time": "2023-06-06T17:52:24.670Z"
   },
   {
    "duration": 29,
    "start_time": "2023-06-06T17:52:24.681Z"
   },
   {
    "duration": 206,
    "start_time": "2023-06-06T17:52:24.712Z"
   },
   {
    "duration": 197,
    "start_time": "2023-06-06T17:52:24.923Z"
   },
   {
    "duration": 184,
    "start_time": "2023-06-06T17:52:25.122Z"
   },
   {
    "duration": 8,
    "start_time": "2023-06-06T17:52:25.308Z"
   },
   {
    "duration": 13,
    "start_time": "2023-06-06T17:52:25.318Z"
   },
   {
    "duration": 163,
    "start_time": "2023-06-06T17:52:25.334Z"
   },
   {
    "duration": 140,
    "start_time": "2023-06-06T17:52:25.499Z"
   },
   {
    "duration": 167,
    "start_time": "2023-06-06T17:52:25.640Z"
   },
   {
    "duration": 6,
    "start_time": "2023-06-06T17:52:25.809Z"
   },
   {
    "duration": 52,
    "start_time": "2023-06-06T17:52:25.817Z"
   },
   {
    "duration": 19,
    "start_time": "2023-06-06T17:52:25.871Z"
   },
   {
    "duration": 16,
    "start_time": "2023-06-06T17:52:25.892Z"
   },
   {
    "duration": 15,
    "start_time": "2023-06-06T17:52:25.910Z"
   },
   {
    "duration": 8,
    "start_time": "2023-06-06T17:52:25.927Z"
   },
   {
    "duration": 6,
    "start_time": "2023-06-06T17:52:25.937Z"
   },
   {
    "duration": 12,
    "start_time": "2023-06-06T17:52:25.945Z"
   },
   {
    "duration": 20,
    "start_time": "2023-06-06T17:52:25.960Z"
   },
   {
    "duration": 14,
    "start_time": "2023-06-06T17:52:25.982Z"
   },
   {
    "duration": 26,
    "start_time": "2023-06-06T17:52:25.998Z"
   },
   {
    "duration": 12,
    "start_time": "2023-06-06T17:52:26.028Z"
   },
   {
    "duration": 8,
    "start_time": "2023-06-06T17:52:26.042Z"
   },
   {
    "duration": 12,
    "start_time": "2023-06-06T17:52:26.051Z"
   },
   {
    "duration": 23,
    "start_time": "2023-06-06T17:52:26.065Z"
   },
   {
    "duration": 11,
    "start_time": "2023-06-06T17:52:26.090Z"
   },
   {
    "duration": 27,
    "start_time": "2023-06-06T17:52:26.103Z"
   },
   {
    "duration": 6,
    "start_time": "2023-06-06T17:52:26.132Z"
   },
   {
    "duration": 13,
    "start_time": "2023-06-06T17:52:26.140Z"
   },
   {
    "duration": 12,
    "start_time": "2023-06-06T17:52:26.156Z"
   },
   {
    "duration": 14,
    "start_time": "2023-06-06T17:52:26.171Z"
   },
   {
    "duration": 7,
    "start_time": "2023-06-06T17:52:26.187Z"
   },
   {
    "duration": 6,
    "start_time": "2023-06-06T17:52:26.196Z"
   },
   {
    "duration": 250,
    "start_time": "2023-06-06T17:58:29.341Z"
   },
   {
    "duration": 210,
    "start_time": "2023-06-06T17:58:42.761Z"
   },
   {
    "duration": 46,
    "start_time": "2023-06-06T18:03:17.552Z"
   },
   {
    "duration": 45,
    "start_time": "2023-06-06T18:03:44.814Z"
   },
   {
    "duration": 54,
    "start_time": "2023-06-06T18:03:55.088Z"
   },
   {
    "duration": 134,
    "start_time": "2023-06-06T18:07:42.406Z"
   },
   {
    "duration": 160,
    "start_time": "2023-06-06T18:09:57.863Z"
   },
   {
    "duration": 145,
    "start_time": "2023-06-06T18:11:22.837Z"
   },
   {
    "duration": 135,
    "start_time": "2023-06-06T18:11:31.424Z"
   },
   {
    "duration": 133,
    "start_time": "2023-06-06T18:11:39.254Z"
   },
   {
    "duration": 130,
    "start_time": "2023-06-06T18:15:07.084Z"
   },
   {
    "duration": 136,
    "start_time": "2023-06-06T18:17:06.943Z"
   },
   {
    "duration": 159,
    "start_time": "2023-06-06T18:17:11.620Z"
   },
   {
    "duration": 136,
    "start_time": "2023-06-06T18:17:24.876Z"
   },
   {
    "duration": 124,
    "start_time": "2023-06-06T18:18:08.528Z"
   },
   {
    "duration": 144,
    "start_time": "2023-06-06T18:18:30.457Z"
   },
   {
    "duration": 144,
    "start_time": "2023-06-06T18:19:10.522Z"
   },
   {
    "duration": 279,
    "start_time": "2023-06-06T18:22:17.644Z"
   },
   {
    "duration": 97,
    "start_time": "2023-06-06T18:22:40.732Z"
   },
   {
    "duration": 197,
    "start_time": "2023-06-06T18:27:12.407Z"
   },
   {
    "duration": 143,
    "start_time": "2023-06-06T18:28:10.606Z"
   },
   {
    "duration": 218,
    "start_time": "2023-06-06T18:28:19.703Z"
   },
   {
    "duration": 177,
    "start_time": "2023-06-06T18:29:01.298Z"
   },
   {
    "duration": 168,
    "start_time": "2023-06-06T18:29:18.151Z"
   },
   {
    "duration": 135,
    "start_time": "2023-06-06T18:30:24.772Z"
   },
   {
    "duration": 116,
    "start_time": "2023-06-06T18:35:53.131Z"
   },
   {
    "duration": 192,
    "start_time": "2023-06-06T18:36:15.609Z"
   },
   {
    "duration": 184,
    "start_time": "2023-06-06T18:36:33.612Z"
   },
   {
    "duration": 223,
    "start_time": "2023-06-06T18:36:40.507Z"
   },
   {
    "duration": 334,
    "start_time": "2023-06-06T18:36:47.936Z"
   },
   {
    "duration": 120,
    "start_time": "2023-06-06T18:37:23.398Z"
   },
   {
    "duration": 179,
    "start_time": "2023-06-06T18:37:39.940Z"
   },
   {
    "duration": 147,
    "start_time": "2023-06-06T18:37:45.825Z"
   },
   {
    "duration": 14,
    "start_time": "2023-06-06T18:40:55.324Z"
   },
   {
    "duration": 13,
    "start_time": "2023-06-06T18:41:46.696Z"
   },
   {
    "duration": 205,
    "start_time": "2023-06-06T18:42:02.076Z"
   },
   {
    "duration": 11,
    "start_time": "2023-06-06T18:45:35.810Z"
   },
   {
    "duration": 13,
    "start_time": "2023-06-06T18:45:54.334Z"
   },
   {
    "duration": 190,
    "start_time": "2023-06-06T18:46:04.208Z"
   },
   {
    "duration": 166,
    "start_time": "2023-06-06T18:46:22.090Z"
   },
   {
    "duration": 174,
    "start_time": "2023-06-06T18:46:32.388Z"
   },
   {
    "duration": 131,
    "start_time": "2023-06-06T18:46:41.919Z"
   },
   {
    "duration": 140,
    "start_time": "2023-06-06T18:49:07.549Z"
   },
   {
    "duration": 157,
    "start_time": "2023-06-06T18:51:11.736Z"
   },
   {
    "duration": 129,
    "start_time": "2023-06-06T18:51:38.463Z"
   },
   {
    "duration": 52,
    "start_time": "2023-06-06T18:51:52.676Z"
   },
   {
    "duration": 48,
    "start_time": "2023-06-06T18:51:59.710Z"
   },
   {
    "duration": 205,
    "start_time": "2023-06-06T18:52:10.816Z"
   },
   {
    "duration": 155,
    "start_time": "2023-06-06T18:53:19.178Z"
   },
   {
    "duration": 131,
    "start_time": "2023-06-06T18:53:31.346Z"
   },
   {
    "duration": 139,
    "start_time": "2023-06-06T18:56:06.381Z"
   },
   {
    "duration": 139,
    "start_time": "2023-06-06T18:57:36.350Z"
   },
   {
    "duration": 203,
    "start_time": "2023-06-06T18:58:57.135Z"
   },
   {
    "duration": 169,
    "start_time": "2023-06-06T19:00:11.198Z"
   },
   {
    "duration": 4,
    "start_time": "2023-06-06T19:03:30.501Z"
   },
   {
    "duration": 142,
    "start_time": "2023-06-06T19:03:31.486Z"
   },
   {
    "duration": 100,
    "start_time": "2023-06-06T19:04:25.034Z"
   },
   {
    "duration": 104,
    "start_time": "2023-06-06T19:04:38.497Z"
   },
   {
    "duration": 132,
    "start_time": "2023-06-06T19:04:48.731Z"
   },
   {
    "duration": 111,
    "start_time": "2023-06-06T19:04:57.980Z"
   },
   {
    "duration": 108,
    "start_time": "2023-06-06T19:05:40.900Z"
   },
   {
    "duration": 100,
    "start_time": "2023-06-06T19:05:45.279Z"
   },
   {
    "duration": 208,
    "start_time": "2023-06-06T19:05:51.924Z"
   },
   {
    "duration": 93,
    "start_time": "2023-06-06T19:06:07.948Z"
   },
   {
    "duration": 107,
    "start_time": "2023-06-06T19:06:15.909Z"
   },
   {
    "duration": 122,
    "start_time": "2023-06-06T19:06:56.494Z"
   },
   {
    "duration": 147,
    "start_time": "2023-06-06T19:07:04.205Z"
   },
   {
    "duration": 187,
    "start_time": "2023-06-06T19:07:30.087Z"
   },
   {
    "duration": 106,
    "start_time": "2023-06-06T19:07:35.643Z"
   },
   {
    "duration": 16,
    "start_time": "2023-06-06T19:08:44.142Z"
   },
   {
    "duration": 119,
    "start_time": "2023-06-06T19:08:56.943Z"
   },
   {
    "duration": 164,
    "start_time": "2023-06-06T19:09:32.900Z"
   },
   {
    "duration": 10,
    "start_time": "2023-06-06T19:10:11.926Z"
   },
   {
    "duration": 9,
    "start_time": "2023-06-06T19:10:43.627Z"
   },
   {
    "duration": 112,
    "start_time": "2023-06-06T19:11:16.836Z"
   },
   {
    "duration": 83,
    "start_time": "2023-06-06T19:11:38.258Z"
   },
   {
    "duration": 75,
    "start_time": "2023-06-06T19:11:46.421Z"
   },
   {
    "duration": 89,
    "start_time": "2023-06-06T19:12:25.483Z"
   },
   {
    "duration": 70,
    "start_time": "2023-06-06T19:13:13.718Z"
   },
   {
    "duration": 73,
    "start_time": "2023-06-06T19:14:11.381Z"
   },
   {
    "duration": 85,
    "start_time": "2023-06-06T19:14:20.849Z"
   },
   {
    "duration": 4,
    "start_time": "2023-06-06T19:17:44.084Z"
   },
   {
    "duration": 89,
    "start_time": "2023-06-06T19:17:44.091Z"
   },
   {
    "duration": 13,
    "start_time": "2023-06-06T19:17:44.183Z"
   },
   {
    "duration": 43,
    "start_time": "2023-06-06T19:17:44.198Z"
   },
   {
    "duration": 378,
    "start_time": "2023-06-06T19:17:44.245Z"
   },
   {
    "duration": 170,
    "start_time": "2023-06-06T19:17:44.624Z"
   },
   {
    "duration": 8,
    "start_time": "2023-06-06T19:17:44.796Z"
   },
   {
    "duration": 16,
    "start_time": "2023-06-06T19:17:44.806Z"
   },
   {
    "duration": 253,
    "start_time": "2023-06-06T19:17:44.824Z"
   },
   {
    "duration": 169,
    "start_time": "2023-06-06T19:17:45.079Z"
   },
   {
    "duration": 185,
    "start_time": "2023-06-06T19:17:45.250Z"
   },
   {
    "duration": 8,
    "start_time": "2023-06-06T19:17:45.437Z"
   },
   {
    "duration": 17,
    "start_time": "2023-06-06T19:17:45.458Z"
   },
   {
    "duration": 160,
    "start_time": "2023-06-06T19:17:45.477Z"
   },
   {
    "duration": 217,
    "start_time": "2023-06-06T19:17:45.639Z"
   },
   {
    "duration": 188,
    "start_time": "2023-06-06T19:17:45.863Z"
   },
   {
    "duration": 14,
    "start_time": "2023-06-06T19:17:46.052Z"
   },
   {
    "duration": 11,
    "start_time": "2023-06-06T19:17:46.074Z"
   },
   {
    "duration": 21,
    "start_time": "2023-06-06T19:17:46.088Z"
   },
   {
    "duration": 8,
    "start_time": "2023-06-06T19:17:46.111Z"
   },
   {
    "duration": 11,
    "start_time": "2023-06-06T19:17:46.121Z"
   },
   {
    "duration": 47,
    "start_time": "2023-06-06T19:17:46.134Z"
   },
   {
    "duration": 5,
    "start_time": "2023-06-06T19:17:46.183Z"
   },
   {
    "duration": 5,
    "start_time": "2023-06-06T19:17:46.190Z"
   },
   {
    "duration": 13,
    "start_time": "2023-06-06T19:17:46.197Z"
   },
   {
    "duration": 7,
    "start_time": "2023-06-06T19:17:46.212Z"
   },
   {
    "duration": 9,
    "start_time": "2023-06-06T19:17:46.221Z"
   },
   {
    "duration": 11,
    "start_time": "2023-06-06T19:17:46.259Z"
   },
   {
    "duration": 24,
    "start_time": "2023-06-06T19:17:46.272Z"
   },
   {
    "duration": 7,
    "start_time": "2023-06-06T19:17:46.298Z"
   },
   {
    "duration": 7,
    "start_time": "2023-06-06T19:17:46.307Z"
   },
   {
    "duration": 4,
    "start_time": "2023-06-06T19:17:46.316Z"
   },
   {
    "duration": 42,
    "start_time": "2023-06-06T19:17:46.322Z"
   },
   {
    "duration": 13,
    "start_time": "2023-06-06T19:17:46.366Z"
   },
   {
    "duration": 17,
    "start_time": "2023-06-06T19:17:46.381Z"
   },
   {
    "duration": 22,
    "start_time": "2023-06-06T19:17:46.400Z"
   },
   {
    "duration": 57,
    "start_time": "2023-06-06T19:17:46.426Z"
   },
   {
    "duration": 46,
    "start_time": "2023-06-06T19:17:46.486Z"
   },
   {
    "duration": 8,
    "start_time": "2023-06-06T19:17:46.533Z"
   },
   {
    "duration": 162,
    "start_time": "2023-06-06T19:17:46.543Z"
   },
   {
    "duration": 7,
    "start_time": "2023-06-06T19:17:46.707Z"
   },
   {
    "duration": 17,
    "start_time": "2023-06-06T19:17:46.715Z"
   },
   {
    "duration": 143,
    "start_time": "2023-06-06T19:17:46.734Z"
   },
   {
    "duration": 106,
    "start_time": "2023-06-06T19:17:46.884Z"
   },
   {
    "duration": 6,
    "start_time": "2023-06-06T19:17:46.994Z"
   },
   {
    "duration": 448,
    "start_time": "2023-06-06T19:18:21.716Z"
   },
   {
    "duration": 387,
    "start_time": "2023-06-06T19:18:23.993Z"
   },
   {
    "duration": 286,
    "start_time": "2023-06-06T19:18:45.834Z"
   },
   {
    "duration": 356,
    "start_time": "2023-06-06T19:19:25.336Z"
   },
   {
    "duration": 258,
    "start_time": "2023-06-06T19:19:48.392Z"
   },
   {
    "duration": 6,
    "start_time": "2023-06-06T19:19:56.143Z"
   },
   {
    "duration": 205,
    "start_time": "2023-06-06T19:20:45.499Z"
   },
   {
    "duration": 196,
    "start_time": "2023-06-06T19:20:53.203Z"
   },
   {
    "duration": 16,
    "start_time": "2023-06-06T19:21:50.643Z"
   },
   {
    "duration": 178,
    "start_time": "2023-06-06T19:22:04.968Z"
   },
   {
    "duration": 233,
    "start_time": "2023-06-06T19:22:17.753Z"
   },
   {
    "duration": 212,
    "start_time": "2023-06-06T19:23:09.011Z"
   },
   {
    "duration": 3852,
    "start_time": "2023-06-06T19:24:16.515Z"
   },
   {
    "duration": 203,
    "start_time": "2023-06-06T19:27:11.184Z"
   },
   {
    "duration": 73,
    "start_time": "2023-06-06T19:27:22.619Z"
   },
   {
    "duration": 230,
    "start_time": "2023-06-06T19:27:26.750Z"
   },
   {
    "duration": 382,
    "start_time": "2023-06-06T19:28:22.193Z"
   },
   {
    "duration": 274,
    "start_time": "2023-06-06T19:28:35.437Z"
   },
   {
    "duration": 316,
    "start_time": "2023-06-06T19:28:56.615Z"
   },
   {
    "duration": 332,
    "start_time": "2023-06-06T19:29:04.207Z"
   },
   {
    "duration": 514,
    "start_time": "2023-06-06T19:29:12.107Z"
   },
   {
    "duration": 23,
    "start_time": "2023-06-06T19:29:24.323Z"
   },
   {
    "duration": 193,
    "start_time": "2023-06-06T19:31:00.015Z"
   },
   {
    "duration": 221,
    "start_time": "2023-06-06T19:31:14.527Z"
   },
   {
    "duration": 341,
    "start_time": "2023-06-06T19:31:51.388Z"
   },
   {
    "duration": 345,
    "start_time": "2023-06-06T19:31:56.855Z"
   },
   {
    "duration": 222,
    "start_time": "2023-06-06T19:34:11.329Z"
   },
   {
    "duration": 17,
    "start_time": "2023-06-06T19:34:28.416Z"
   },
   {
    "duration": 17,
    "start_time": "2023-06-06T19:34:29.224Z"
   },
   {
    "duration": 42,
    "start_time": "2023-06-06T19:34:30.582Z"
   },
   {
    "duration": 5,
    "start_time": "2023-06-06T19:34:32.513Z"
   },
   {
    "duration": 19,
    "start_time": "2023-06-06T19:34:34.316Z"
   },
   {
    "duration": 5,
    "start_time": "2023-06-06T19:34:35.144Z"
   },
   {
    "duration": 12,
    "start_time": "2023-06-06T19:34:36.209Z"
   },
   {
    "duration": 10,
    "start_time": "2023-06-06T19:34:37.367Z"
   },
   {
    "duration": 5,
    "start_time": "2023-06-06T19:34:38.835Z"
   },
   {
    "duration": 276,
    "start_time": "2023-06-06T19:34:41.050Z"
   },
   {
    "duration": 231,
    "start_time": "2023-06-06T19:38:20.751Z"
   },
   {
    "duration": 297,
    "start_time": "2023-06-06T19:38:29.099Z"
   },
   {
    "duration": 283,
    "start_time": "2023-06-06T19:39:03.844Z"
   },
   {
    "duration": 268,
    "start_time": "2023-06-06T19:39:37.828Z"
   },
   {
    "duration": 323,
    "start_time": "2023-06-06T19:40:14.260Z"
   },
   {
    "duration": 25,
    "start_time": "2023-06-06T19:40:21.200Z"
   },
   {
    "duration": 20,
    "start_time": "2023-06-06T19:40:22.819Z"
   },
   {
    "duration": 16,
    "start_time": "2023-06-06T19:40:24.012Z"
   },
   {
    "duration": 7,
    "start_time": "2023-06-06T19:40:25.166Z"
   },
   {
    "duration": 7,
    "start_time": "2023-06-06T19:40:26.258Z"
   },
   {
    "duration": 15,
    "start_time": "2023-06-06T19:40:29.730Z"
   },
   {
    "duration": 5,
    "start_time": "2023-06-06T19:40:31.041Z"
   },
   {
    "duration": 27,
    "start_time": "2023-06-06T19:40:32.146Z"
   },
   {
    "duration": 19,
    "start_time": "2023-06-06T19:40:33.388Z"
   },
   {
    "duration": 26,
    "start_time": "2023-06-06T19:40:36.790Z"
   },
   {
    "duration": 19,
    "start_time": "2023-06-06T19:40:37.988Z"
   },
   {
    "duration": 12,
    "start_time": "2023-06-06T19:40:38.896Z"
   },
   {
    "duration": 16,
    "start_time": "2023-06-06T19:40:39.816Z"
   },
   {
    "duration": 8,
    "start_time": "2023-06-06T19:40:41.397Z"
   },
   {
    "duration": 8,
    "start_time": "2023-06-06T19:40:44.737Z"
   },
   {
    "duration": 5,
    "start_time": "2023-06-06T19:40:45.812Z"
   },
   {
    "duration": 7,
    "start_time": "2023-06-06T19:40:47.945Z"
   },
   {
    "duration": 12,
    "start_time": "2023-06-06T19:40:49.114Z"
   },
   {
    "duration": 5,
    "start_time": "2023-06-06T19:40:53.214Z"
   },
   {
    "duration": 6,
    "start_time": "2023-06-06T19:40:54.702Z"
   },
   {
    "duration": 14,
    "start_time": "2023-06-06T19:40:56.399Z"
   },
   {
    "duration": 7,
    "start_time": "2023-06-06T19:40:59.229Z"
   },
   {
    "duration": 4,
    "start_time": "2023-06-06T19:41:01.804Z"
   },
   {
    "duration": 15,
    "start_time": "2023-06-06T19:41:03.685Z"
   },
   {
    "duration": 15,
    "start_time": "2023-06-06T19:41:07.454Z"
   },
   {
    "duration": 6,
    "start_time": "2023-06-06T19:41:15.633Z"
   },
   {
    "duration": 7,
    "start_time": "2023-06-06T19:41:20.441Z"
   },
   {
    "duration": 6,
    "start_time": "2023-06-06T19:41:23.615Z"
   },
   {
    "duration": 8,
    "start_time": "2023-06-06T19:41:29.588Z"
   },
   {
    "duration": 2231,
    "start_time": "2023-06-06T19:42:39.621Z"
   },
   {
    "duration": 817,
    "start_time": "2023-06-06T19:42:55.142Z"
   },
   {
    "duration": 7,
    "start_time": "2023-06-06T19:43:23.606Z"
   },
   {
    "duration": 65583,
    "start_time": "2023-06-06T19:43:48.255Z"
   },
   {
    "duration": 303,
    "start_time": "2023-06-06T19:51:29.614Z"
   },
   {
    "duration": 352,
    "start_time": "2023-06-06T19:52:39.548Z"
   },
   {
    "duration": 268,
    "start_time": "2023-06-06T19:57:36.710Z"
   },
   {
    "duration": 282,
    "start_time": "2023-06-06T19:58:05.654Z"
   },
   {
    "duration": 388,
    "start_time": "2023-06-06T19:59:50.551Z"
   },
   {
    "duration": 321,
    "start_time": "2023-06-06T20:01:03.015Z"
   },
   {
    "duration": 373,
    "start_time": "2023-06-06T20:01:27.709Z"
   },
   {
    "duration": 277,
    "start_time": "2023-06-06T20:03:05.478Z"
   },
   {
    "duration": 190,
    "start_time": "2023-06-06T20:03:49.297Z"
   },
   {
    "duration": 252,
    "start_time": "2023-06-06T20:04:26.219Z"
   },
   {
    "duration": 248,
    "start_time": "2023-06-06T20:05:41.417Z"
   },
   {
    "duration": 256,
    "start_time": "2023-06-06T20:06:14.547Z"
   },
   {
    "duration": 138,
    "start_time": "2023-06-06T20:06:35.091Z"
   },
   {
    "duration": 124,
    "start_time": "2023-06-06T20:06:45.190Z"
   },
   {
    "duration": 135,
    "start_time": "2023-06-06T20:06:55.352Z"
   },
   {
    "duration": 424,
    "start_time": "2023-06-06T20:07:23.339Z"
   },
   {
    "duration": 158,
    "start_time": "2023-06-06T20:07:41.704Z"
   },
   {
    "duration": 351,
    "start_time": "2023-06-06T20:08:03.238Z"
   },
   {
    "duration": 264,
    "start_time": "2023-06-06T20:08:57.633Z"
   },
   {
    "duration": 365,
    "start_time": "2023-06-06T20:09:19.341Z"
   },
   {
    "duration": 218,
    "start_time": "2023-06-06T20:09:55.899Z"
   },
   {
    "duration": 757,
    "start_time": "2023-06-06T20:11:14.153Z"
   },
   {
    "duration": 516,
    "start_time": "2023-06-06T20:11:27.232Z"
   },
   {
    "duration": 316,
    "start_time": "2023-06-06T20:11:54.439Z"
   },
   {
    "duration": 3021,
    "start_time": "2023-06-06T20:12:29.426Z"
   },
   {
    "duration": 683,
    "start_time": "2023-06-06T20:12:48.894Z"
   },
   {
    "duration": 2134,
    "start_time": "2023-06-06T20:13:14.947Z"
   },
   {
    "duration": 154,
    "start_time": "2023-06-06T20:13:17.087Z"
   },
   {
    "duration": 23,
    "start_time": "2023-06-06T20:13:17.247Z"
   },
   {
    "duration": 25,
    "start_time": "2023-06-06T20:13:17.276Z"
   },
   {
    "duration": 426,
    "start_time": "2023-06-06T20:13:17.307Z"
   },
   {
    "duration": 225,
    "start_time": "2023-06-06T20:13:17.742Z"
   },
   {
    "duration": 13,
    "start_time": "2023-06-06T20:13:17.969Z"
   },
   {
    "duration": 31,
    "start_time": "2023-06-06T20:13:17.984Z"
   },
   {
    "duration": 351,
    "start_time": "2023-06-06T20:13:18.017Z"
   },
   {
    "duration": 376,
    "start_time": "2023-06-06T20:13:18.389Z"
   },
   {
    "duration": 339,
    "start_time": "2023-06-06T20:13:18.777Z"
   },
   {
    "duration": 25,
    "start_time": "2023-06-06T20:13:19.127Z"
   },
   {
    "duration": 29,
    "start_time": "2023-06-06T20:13:19.154Z"
   },
   {
    "duration": 271,
    "start_time": "2023-06-06T20:13:19.189Z"
   },
   {
    "duration": 218,
    "start_time": "2023-06-06T20:13:19.467Z"
   },
   {
    "duration": 233,
    "start_time": "2023-06-06T20:13:19.691Z"
   },
   {
    "duration": 20,
    "start_time": "2023-06-06T20:13:19.926Z"
   },
   {
    "duration": 34,
    "start_time": "2023-06-06T20:13:19.948Z"
   },
   {
    "duration": 48,
    "start_time": "2023-06-06T20:13:19.984Z"
   },
   {
    "duration": 9,
    "start_time": "2023-06-06T20:13:20.043Z"
   },
   {
    "duration": 12,
    "start_time": "2023-06-06T20:13:20.062Z"
   },
   {
    "duration": 14,
    "start_time": "2023-06-06T20:13:20.080Z"
   },
   {
    "duration": 14,
    "start_time": "2023-06-06T20:13:20.100Z"
   },
   {
    "duration": 22,
    "start_time": "2023-06-06T20:13:20.130Z"
   },
   {
    "duration": 21,
    "start_time": "2023-06-06T20:13:20.154Z"
   },
   {
    "duration": 8,
    "start_time": "2023-06-06T20:13:20.180Z"
   },
   {
    "duration": 11,
    "start_time": "2023-06-06T20:13:20.190Z"
   },
   {
    "duration": 39,
    "start_time": "2023-06-06T20:13:20.211Z"
   },
   {
    "duration": 16,
    "start_time": "2023-06-06T20:13:20.254Z"
   },
   {
    "duration": 12,
    "start_time": "2023-06-06T20:13:20.276Z"
   },
   {
    "duration": 9,
    "start_time": "2023-06-06T20:13:20.295Z"
   },
   {
    "duration": 10,
    "start_time": "2023-06-06T20:13:20.310Z"
   },
   {
    "duration": 25,
    "start_time": "2023-06-06T20:13:20.327Z"
   },
   {
    "duration": 9,
    "start_time": "2023-06-06T20:13:20.357Z"
   },
   {
    "duration": 24,
    "start_time": "2023-06-06T20:13:20.373Z"
   },
   {
    "duration": 28,
    "start_time": "2023-06-06T20:13:20.410Z"
   },
   {
    "duration": 18,
    "start_time": "2023-06-06T20:13:20.444Z"
   },
   {
    "duration": 38,
    "start_time": "2023-06-06T20:13:20.464Z"
   },
   {
    "duration": 15,
    "start_time": "2023-06-06T20:13:20.515Z"
   },
   {
    "duration": 303,
    "start_time": "2023-06-06T20:13:20.535Z"
   },
   {
    "duration": 11,
    "start_time": "2023-06-06T20:13:20.839Z"
   },
   {
    "duration": 19,
    "start_time": "2023-06-06T20:13:20.852Z"
   },
   {
    "duration": 397,
    "start_time": "2023-06-06T20:13:20.874Z"
   },
   {
    "duration": 111,
    "start_time": "2023-06-06T20:13:21.274Z"
   },
   {
    "duration": 11,
    "start_time": "2023-06-06T20:13:21.395Z"
   },
   {
    "duration": 427,
    "start_time": "2023-06-06T20:13:21.408Z"
   },
   {
    "duration": 34,
    "start_time": "2023-06-06T20:13:21.836Z"
   },
   {
    "duration": 228,
    "start_time": "2023-06-06T20:13:21.880Z"
   },
   {
    "duration": 325,
    "start_time": "2023-06-06T20:13:22.115Z"
   },
   {
    "duration": 29,
    "start_time": "2023-06-06T20:13:22.442Z"
   },
   {
    "duration": 212,
    "start_time": "2023-06-06T20:13:22.473Z"
   },
   {
    "duration": 349,
    "start_time": "2023-06-06T20:13:22.688Z"
   },
   {
    "duration": 28,
    "start_time": "2023-06-06T20:13:23.046Z"
   },
   {
    "duration": 244,
    "start_time": "2023-06-06T20:13:23.080Z"
   },
   {
    "duration": 16,
    "start_time": "2023-06-06T20:13:23.326Z"
   },
   {
    "duration": 17,
    "start_time": "2023-06-06T20:13:23.344Z"
   },
   {
    "duration": 23,
    "start_time": "2023-06-06T20:13:23.363Z"
   },
   {
    "duration": 4,
    "start_time": "2023-06-06T20:13:23.399Z"
   },
   {
    "duration": 25,
    "start_time": "2023-06-06T20:13:23.405Z"
   },
   {
    "duration": 4,
    "start_time": "2023-06-06T20:13:23.432Z"
   },
   {
    "duration": 12,
    "start_time": "2023-06-06T20:13:23.437Z"
   },
   {
    "duration": 6,
    "start_time": "2023-06-06T20:13:23.452Z"
   },
   {
    "duration": 13,
    "start_time": "2023-06-06T20:13:23.460Z"
   },
   {
    "duration": 333,
    "start_time": "2023-06-06T20:13:23.475Z"
   },
   {
    "duration": 301,
    "start_time": "2023-06-06T20:13:23.812Z"
   },
   {
    "duration": 22,
    "start_time": "2023-06-06T20:13:24.119Z"
   },
   {
    "duration": 26,
    "start_time": "2023-06-06T20:13:24.147Z"
   },
   {
    "duration": 20,
    "start_time": "2023-06-06T20:13:24.179Z"
   },
   {
    "duration": 6,
    "start_time": "2023-06-06T20:13:24.212Z"
   },
   {
    "duration": 6,
    "start_time": "2023-06-06T20:13:24.223Z"
   },
   {
    "duration": 21,
    "start_time": "2023-06-06T20:13:24.235Z"
   },
   {
    "duration": 9,
    "start_time": "2023-06-06T20:13:24.266Z"
   },
   {
    "duration": 21,
    "start_time": "2023-06-06T20:13:24.288Z"
   },
   {
    "duration": 17,
    "start_time": "2023-06-06T20:13:24.316Z"
   },
   {
    "duration": 18,
    "start_time": "2023-06-06T20:13:24.339Z"
   },
   {
    "duration": 17,
    "start_time": "2023-06-06T20:13:24.363Z"
   },
   {
    "duration": 14,
    "start_time": "2023-06-06T20:13:24.388Z"
   },
   {
    "duration": 17,
    "start_time": "2023-06-06T20:13:24.408Z"
   },
   {
    "duration": 7,
    "start_time": "2023-06-06T20:13:24.431Z"
   },
   {
    "duration": 9,
    "start_time": "2023-06-06T20:13:24.444Z"
   },
   {
    "duration": 6,
    "start_time": "2023-06-06T20:13:24.459Z"
   },
   {
    "duration": 16,
    "start_time": "2023-06-06T20:13:24.478Z"
   },
   {
    "duration": 24,
    "start_time": "2023-06-06T20:13:24.502Z"
   },
   {
    "duration": 11,
    "start_time": "2023-06-06T20:13:24.542Z"
   },
   {
    "duration": 6,
    "start_time": "2023-06-06T20:13:24.559Z"
   },
   {
    "duration": 31,
    "start_time": "2023-06-06T20:13:24.572Z"
   },
   {
    "duration": 12,
    "start_time": "2023-06-06T20:13:24.612Z"
   },
   {
    "duration": 28,
    "start_time": "2023-06-06T20:13:24.635Z"
   },
   {
    "duration": 21,
    "start_time": "2023-06-06T20:13:24.668Z"
   },
   {
    "duration": 18,
    "start_time": "2023-06-06T20:13:24.699Z"
   },
   {
    "duration": 15,
    "start_time": "2023-06-06T20:13:24.725Z"
   },
   {
    "duration": 12,
    "start_time": "2023-06-06T20:13:24.747Z"
   },
   {
    "duration": 7,
    "start_time": "2023-06-06T20:13:24.765Z"
   },
   {
    "duration": 14,
    "start_time": "2023-06-06T20:13:24.782Z"
   },
   {
    "duration": 2427,
    "start_time": "2023-06-06T20:13:24.806Z"
   },
   {
    "duration": 905,
    "start_time": "2023-06-06T20:13:27.235Z"
   },
   {
    "duration": 14,
    "start_time": "2023-06-06T20:13:28.146Z"
   },
   {
    "duration": 59212,
    "start_time": "2023-06-06T20:13:28.166Z"
   },
   {
    "duration": 17,
    "start_time": "2023-06-06T20:14:27.385Z"
   },
   {
    "duration": 182,
    "start_time": "2023-06-06T20:18:22.749Z"
   },
   {
    "duration": 1389,
    "start_time": "2023-06-06T20:18:41.524Z"
   },
   {
    "duration": 101,
    "start_time": "2023-06-06T20:18:42.920Z"
   },
   {
    "duration": 16,
    "start_time": "2023-06-06T20:18:43.025Z"
   },
   {
    "duration": 34,
    "start_time": "2023-06-06T20:18:43.043Z"
   },
   {
    "duration": 397,
    "start_time": "2023-06-06T20:18:43.080Z"
   },
   {
    "duration": 222,
    "start_time": "2023-06-06T20:18:43.482Z"
   },
   {
    "duration": 16,
    "start_time": "2023-06-06T20:18:43.712Z"
   },
   {
    "duration": 16,
    "start_time": "2023-06-06T20:18:43.732Z"
   },
   {
    "duration": 280,
    "start_time": "2023-06-06T20:18:43.751Z"
   },
   {
    "duration": 282,
    "start_time": "2023-06-06T20:18:44.034Z"
   },
   {
    "duration": 294,
    "start_time": "2023-06-06T20:18:44.318Z"
   },
   {
    "duration": 16,
    "start_time": "2023-06-06T20:18:44.615Z"
   },
   {
    "duration": 18,
    "start_time": "2023-06-06T20:18:44.636Z"
   },
   {
    "duration": 234,
    "start_time": "2023-06-06T20:18:44.662Z"
   },
   {
    "duration": 191,
    "start_time": "2023-06-06T20:18:44.902Z"
   },
   {
    "duration": 239,
    "start_time": "2023-06-06T20:18:45.103Z"
   },
   {
    "duration": 23,
    "start_time": "2023-06-06T20:18:45.344Z"
   },
   {
    "duration": 32,
    "start_time": "2023-06-06T20:18:45.371Z"
   },
   {
    "duration": 25,
    "start_time": "2023-06-06T20:18:45.406Z"
   },
   {
    "duration": 10,
    "start_time": "2023-06-06T20:18:45.436Z"
   },
   {
    "duration": 13,
    "start_time": "2023-06-06T20:18:45.452Z"
   },
   {
    "duration": 16,
    "start_time": "2023-06-06T20:18:45.469Z"
   },
   {
    "duration": 29,
    "start_time": "2023-06-06T20:18:45.490Z"
   },
   {
    "duration": 23,
    "start_time": "2023-06-06T20:18:45.523Z"
   },
   {
    "duration": 21,
    "start_time": "2023-06-06T20:18:45.554Z"
   },
   {
    "duration": 10,
    "start_time": "2023-06-06T20:18:45.583Z"
   },
   {
    "duration": 30,
    "start_time": "2023-06-06T20:18:45.600Z"
   },
   {
    "duration": 9,
    "start_time": "2023-06-06T20:18:45.633Z"
   },
   {
    "duration": 19,
    "start_time": "2023-06-06T20:18:45.647Z"
   },
   {
    "duration": 11,
    "start_time": "2023-06-06T20:18:45.683Z"
   },
   {
    "duration": 15,
    "start_time": "2023-06-06T20:18:45.696Z"
   },
   {
    "duration": 6,
    "start_time": "2023-06-06T20:18:45.715Z"
   },
   {
    "duration": 23,
    "start_time": "2023-06-06T20:18:45.725Z"
   },
   {
    "duration": 5,
    "start_time": "2023-06-06T20:18:45.750Z"
   },
   {
    "duration": 55,
    "start_time": "2023-06-06T20:18:45.762Z"
   },
   {
    "duration": 21,
    "start_time": "2023-06-06T20:18:45.820Z"
   },
   {
    "duration": 19,
    "start_time": "2023-06-06T20:18:45.847Z"
   },
   {
    "duration": 11,
    "start_time": "2023-06-06T20:18:45.868Z"
   },
   {
    "duration": 17,
    "start_time": "2023-06-06T20:18:45.881Z"
   },
   {
    "duration": 248,
    "start_time": "2023-06-06T20:18:45.902Z"
   },
   {
    "duration": 9,
    "start_time": "2023-06-06T20:18:46.160Z"
   },
   {
    "duration": 112,
    "start_time": "2023-06-06T20:18:46.174Z"
   },
   {
    "duration": 168,
    "start_time": "2023-06-06T20:18:46.293Z"
   },
   {
    "duration": 92,
    "start_time": "2023-06-06T20:18:46.462Z"
   },
   {
    "duration": 23,
    "start_time": "2023-06-06T20:18:46.556Z"
   },
   {
    "duration": 358,
    "start_time": "2023-06-06T20:18:46.587Z"
   },
   {
    "duration": 8,
    "start_time": "2023-06-06T20:18:46.948Z"
   },
   {
    "duration": 187,
    "start_time": "2023-06-06T20:18:46.958Z"
   },
   {
    "duration": 293,
    "start_time": "2023-06-06T20:18:47.151Z"
   },
   {
    "duration": 6,
    "start_time": "2023-06-06T20:18:47.446Z"
   },
   {
    "duration": 186,
    "start_time": "2023-06-06T20:18:47.454Z"
   },
   {
    "duration": 288,
    "start_time": "2023-06-06T20:18:47.642Z"
   },
   {
    "duration": 26,
    "start_time": "2023-06-06T20:18:47.957Z"
   },
   {
    "duration": 367,
    "start_time": "2023-06-06T20:18:47.985Z"
   },
   {
    "duration": 24,
    "start_time": "2023-06-06T20:18:48.353Z"
   },
   {
    "duration": 22,
    "start_time": "2023-06-06T20:18:48.379Z"
   },
   {
    "duration": 19,
    "start_time": "2023-06-06T20:18:48.408Z"
   },
   {
    "duration": 4,
    "start_time": "2023-06-06T20:18:48.429Z"
   },
   {
    "duration": 19,
    "start_time": "2023-06-06T20:18:48.437Z"
   },
   {
    "duration": 9,
    "start_time": "2023-06-06T20:18:48.463Z"
   },
   {
    "duration": 22,
    "start_time": "2023-06-06T20:18:48.477Z"
   },
   {
    "duration": 16,
    "start_time": "2023-06-06T20:18:48.501Z"
   },
   {
    "duration": 4,
    "start_time": "2023-06-06T20:18:48.519Z"
   },
   {
    "duration": 350,
    "start_time": "2023-06-06T20:18:48.525Z"
   },
   {
    "duration": 298,
    "start_time": "2023-06-06T20:18:48.877Z"
   },
   {
    "duration": 30,
    "start_time": "2023-06-06T20:18:49.177Z"
   },
   {
    "duration": 50,
    "start_time": "2023-06-06T20:18:49.212Z"
   },
   {
    "duration": 27,
    "start_time": "2023-06-06T20:18:49.267Z"
   },
   {
    "duration": 12,
    "start_time": "2023-06-06T20:18:49.308Z"
   },
   {
    "duration": 8,
    "start_time": "2023-06-06T20:18:49.334Z"
   },
   {
    "duration": 22,
    "start_time": "2023-06-06T20:18:49.344Z"
   },
   {
    "duration": 11,
    "start_time": "2023-06-06T20:18:49.368Z"
   },
   {
    "duration": 25,
    "start_time": "2023-06-06T20:18:49.381Z"
   },
   {
    "duration": 19,
    "start_time": "2023-06-06T20:18:49.409Z"
   },
   {
    "duration": 24,
    "start_time": "2023-06-06T20:18:49.433Z"
   },
   {
    "duration": 27,
    "start_time": "2023-06-06T20:18:49.461Z"
   },
   {
    "duration": 13,
    "start_time": "2023-06-06T20:18:49.491Z"
   },
   {
    "duration": 33,
    "start_time": "2023-06-06T20:18:49.506Z"
   },
   {
    "duration": 4,
    "start_time": "2023-06-06T20:18:49.550Z"
   },
   {
    "duration": 15,
    "start_time": "2023-06-06T20:18:49.555Z"
   },
   {
    "duration": 5,
    "start_time": "2023-06-06T20:18:49.572Z"
   },
   {
    "duration": 12,
    "start_time": "2023-06-06T20:18:49.579Z"
   },
   {
    "duration": 17,
    "start_time": "2023-06-06T20:18:49.593Z"
   },
   {
    "duration": 10,
    "start_time": "2023-06-06T20:18:49.612Z"
   },
   {
    "duration": 11,
    "start_time": "2023-06-06T20:18:49.624Z"
   },
   {
    "duration": 17,
    "start_time": "2023-06-06T20:18:49.637Z"
   },
   {
    "duration": 14,
    "start_time": "2023-06-06T20:18:49.663Z"
   },
   {
    "duration": 4,
    "start_time": "2023-06-06T20:18:49.680Z"
   },
   {
    "duration": 17,
    "start_time": "2023-06-06T20:18:49.687Z"
   },
   {
    "duration": 28,
    "start_time": "2023-06-06T20:18:49.707Z"
   },
   {
    "duration": 10,
    "start_time": "2023-06-06T20:18:49.738Z"
   },
   {
    "duration": 7,
    "start_time": "2023-06-06T20:18:49.750Z"
   },
   {
    "duration": 15,
    "start_time": "2023-06-06T20:18:49.759Z"
   },
   {
    "duration": 10,
    "start_time": "2023-06-06T20:18:49.778Z"
   },
   {
    "duration": 2293,
    "start_time": "2023-06-06T20:18:49.790Z"
   },
   {
    "duration": 753,
    "start_time": "2023-06-06T20:18:52.090Z"
   },
   {
    "duration": 15,
    "start_time": "2023-06-06T20:18:52.844Z"
   },
   {
    "duration": 50406,
    "start_time": "2023-06-06T20:18:52.862Z"
   },
   {
    "duration": 16,
    "start_time": "2023-06-06T20:19:43.273Z"
   },
   {
    "duration": 1690,
    "start_time": "2023-06-06T20:21:06.999Z"
   },
   {
    "duration": 146,
    "start_time": "2023-06-06T20:21:08.691Z"
   },
   {
    "duration": 16,
    "start_time": "2023-06-06T20:21:08.839Z"
   },
   {
    "duration": 24,
    "start_time": "2023-06-06T20:21:08.869Z"
   },
   {
    "duration": 311,
    "start_time": "2023-06-06T20:21:08.899Z"
   },
   {
    "duration": 253,
    "start_time": "2023-06-06T20:21:09.214Z"
   },
   {
    "duration": 38,
    "start_time": "2023-06-06T20:21:09.476Z"
   },
   {
    "duration": 26,
    "start_time": "2023-06-06T20:21:09.522Z"
   },
   {
    "duration": 351,
    "start_time": "2023-06-06T20:21:09.550Z"
   },
   {
    "duration": 255,
    "start_time": "2023-06-06T20:21:09.911Z"
   },
   {
    "duration": 265,
    "start_time": "2023-06-06T20:21:10.168Z"
   },
   {
    "duration": 11,
    "start_time": "2023-06-06T20:21:10.434Z"
   },
   {
    "duration": 19,
    "start_time": "2023-06-06T20:21:10.447Z"
   },
   {
    "duration": 243,
    "start_time": "2023-06-06T20:21:10.476Z"
   },
   {
    "duration": 185,
    "start_time": "2023-06-06T20:21:10.724Z"
   },
   {
    "duration": 199,
    "start_time": "2023-06-06T20:21:10.915Z"
   },
   {
    "duration": 9,
    "start_time": "2023-06-06T20:21:11.117Z"
   },
   {
    "duration": 12,
    "start_time": "2023-06-06T20:21:11.127Z"
   },
   {
    "duration": 25,
    "start_time": "2023-06-06T20:21:11.141Z"
   },
   {
    "duration": 9,
    "start_time": "2023-06-06T20:21:11.174Z"
   },
   {
    "duration": 10,
    "start_time": "2023-06-06T20:21:11.185Z"
   },
   {
    "duration": 21,
    "start_time": "2023-06-06T20:21:11.199Z"
   },
   {
    "duration": 12,
    "start_time": "2023-06-06T20:21:11.221Z"
   },
   {
    "duration": 6,
    "start_time": "2023-06-06T20:21:11.237Z"
   },
   {
    "duration": 55,
    "start_time": "2023-06-06T20:21:11.246Z"
   },
   {
    "duration": 10,
    "start_time": "2023-06-06T20:21:11.315Z"
   },
   {
    "duration": 13,
    "start_time": "2023-06-06T20:21:11.327Z"
   },
   {
    "duration": 23,
    "start_time": "2023-06-06T20:21:11.342Z"
   },
   {
    "duration": 18,
    "start_time": "2023-06-06T20:21:11.368Z"
   },
   {
    "duration": 8,
    "start_time": "2023-06-06T20:21:11.393Z"
   },
   {
    "duration": 22,
    "start_time": "2023-06-06T20:21:11.403Z"
   },
   {
    "duration": 14,
    "start_time": "2023-06-06T20:21:11.428Z"
   },
   {
    "duration": 36,
    "start_time": "2023-06-06T20:21:11.444Z"
   },
   {
    "duration": 7,
    "start_time": "2023-06-06T20:21:11.482Z"
   },
   {
    "duration": 26,
    "start_time": "2023-06-06T20:21:11.491Z"
   },
   {
    "duration": 13,
    "start_time": "2023-06-06T20:21:11.520Z"
   },
   {
    "duration": 9,
    "start_time": "2023-06-06T20:21:11.537Z"
   },
   {
    "duration": 14,
    "start_time": "2023-06-06T20:21:11.548Z"
   },
   {
    "duration": 16,
    "start_time": "2023-06-06T20:21:11.572Z"
   },
   {
    "duration": 237,
    "start_time": "2023-06-06T20:21:11.590Z"
   },
   {
    "duration": 10,
    "start_time": "2023-06-06T20:21:11.837Z"
   },
   {
    "duration": 190,
    "start_time": "2023-06-06T20:21:11.851Z"
   },
   {
    "duration": 214,
    "start_time": "2023-06-06T20:21:12.044Z"
   },
   {
    "duration": 133,
    "start_time": "2023-06-06T20:21:12.261Z"
   },
   {
    "duration": 19,
    "start_time": "2023-06-06T20:21:12.398Z"
   },
   {
    "duration": 340,
    "start_time": "2023-06-06T20:21:12.423Z"
   },
   {
    "duration": 9,
    "start_time": "2023-06-06T20:21:12.767Z"
   },
   {
    "duration": 237,
    "start_time": "2023-06-06T20:21:12.779Z"
   },
   {
    "duration": 368,
    "start_time": "2023-06-06T20:21:13.019Z"
   },
   {
    "duration": 10,
    "start_time": "2023-06-06T20:21:13.389Z"
   },
   {
    "duration": 203,
    "start_time": "2023-06-06T20:21:13.401Z"
   },
   {
    "duration": 254,
    "start_time": "2023-06-06T20:21:13.609Z"
   },
   {
    "duration": 26,
    "start_time": "2023-06-06T20:21:13.865Z"
   },
   {
    "duration": 212,
    "start_time": "2023-06-06T20:21:13.893Z"
   },
   {
    "duration": 18,
    "start_time": "2023-06-06T20:21:14.107Z"
   },
   {
    "duration": 14,
    "start_time": "2023-06-06T20:21:14.127Z"
   },
   {
    "duration": 34,
    "start_time": "2023-06-06T20:21:14.143Z"
   },
   {
    "duration": 4,
    "start_time": "2023-06-06T20:21:14.180Z"
   },
   {
    "duration": 12,
    "start_time": "2023-06-06T20:21:14.186Z"
   },
   {
    "duration": 6,
    "start_time": "2023-06-06T20:21:14.201Z"
   },
   {
    "duration": 23,
    "start_time": "2023-06-06T20:21:14.208Z"
   },
   {
    "duration": 4,
    "start_time": "2023-06-06T20:21:14.233Z"
   },
   {
    "duration": 19,
    "start_time": "2023-06-06T20:21:14.239Z"
   },
   {
    "duration": 339,
    "start_time": "2023-06-06T20:21:14.259Z"
   },
   {
    "duration": 292,
    "start_time": "2023-06-06T20:21:14.601Z"
   },
   {
    "duration": 24,
    "start_time": "2023-06-06T20:21:14.895Z"
   },
   {
    "duration": 23,
    "start_time": "2023-06-06T20:21:14.924Z"
   },
   {
    "duration": 32,
    "start_time": "2023-06-06T20:21:14.954Z"
   },
   {
    "duration": 6,
    "start_time": "2023-06-06T20:21:14.997Z"
   },
   {
    "duration": 9,
    "start_time": "2023-06-06T20:21:15.010Z"
   },
   {
    "duration": 58,
    "start_time": "2023-06-06T20:21:15.025Z"
   },
   {
    "duration": 9,
    "start_time": "2023-06-06T20:21:15.090Z"
   },
   {
    "duration": 29,
    "start_time": "2023-06-06T20:21:15.105Z"
   },
   {
    "duration": 28,
    "start_time": "2023-06-06T20:21:15.140Z"
   },
   {
    "duration": 26,
    "start_time": "2023-06-06T20:21:15.175Z"
   },
   {
    "duration": 21,
    "start_time": "2023-06-06T20:21:15.207Z"
   },
   {
    "duration": 16,
    "start_time": "2023-06-06T20:21:15.234Z"
   },
   {
    "duration": 23,
    "start_time": "2023-06-06T20:21:15.257Z"
   },
   {
    "duration": 8,
    "start_time": "2023-06-06T20:21:15.287Z"
   },
   {
    "duration": 9,
    "start_time": "2023-06-06T20:21:15.303Z"
   },
   {
    "duration": 10,
    "start_time": "2023-06-06T20:21:15.319Z"
   },
   {
    "duration": 13,
    "start_time": "2023-06-06T20:21:15.338Z"
   },
   {
    "duration": 22,
    "start_time": "2023-06-06T20:21:15.359Z"
   },
   {
    "duration": 8,
    "start_time": "2023-06-06T20:21:15.388Z"
   },
   {
    "duration": 15,
    "start_time": "2023-06-06T20:21:15.403Z"
   },
   {
    "duration": 24,
    "start_time": "2023-06-06T20:21:15.428Z"
   },
   {
    "duration": 9,
    "start_time": "2023-06-06T20:21:15.458Z"
   },
   {
    "duration": 18,
    "start_time": "2023-06-06T20:21:15.474Z"
   },
   {
    "duration": 31,
    "start_time": "2023-06-06T20:21:15.502Z"
   },
   {
    "duration": 14,
    "start_time": "2023-06-06T20:21:15.545Z"
   },
   {
    "duration": 15,
    "start_time": "2023-06-06T20:21:15.566Z"
   },
   {
    "duration": 12,
    "start_time": "2023-06-06T20:21:15.588Z"
   },
   {
    "duration": 9,
    "start_time": "2023-06-06T20:21:15.607Z"
   },
   {
    "duration": 12,
    "start_time": "2023-06-06T20:21:15.623Z"
   },
   {
    "duration": 2314,
    "start_time": "2023-06-06T20:21:15.642Z"
   },
   {
    "duration": 791,
    "start_time": "2023-06-06T20:21:17.964Z"
   },
   {
    "duration": 12,
    "start_time": "2023-06-06T20:21:18.757Z"
   },
   {
    "duration": 56676,
    "start_time": "2023-06-06T20:21:18.772Z"
   },
   {
    "duration": 10,
    "start_time": "2023-06-06T20:22:15.450Z"
   }
  ],
  "kernelspec": {
   "display_name": "Python 3 (ipykernel)",
   "language": "python",
   "name": "python3"
  },
  "language_info": {
   "codemirror_mode": {
    "name": "ipython",
    "version": 3
   },
   "file_extension": ".py",
   "mimetype": "text/x-python",
   "name": "python",
   "nbconvert_exporter": "python",
   "pygments_lexer": "ipython3",
   "version": "3.10.9"
  },
  "toc": {
   "base_numbering": 1,
   "nav_menu": {},
   "number_sections": true,
   "sideBar": true,
   "skip_h1_title": true,
   "title_cell": "Table of Contents",
   "title_sidebar": "Contents",
   "toc_cell": false,
   "toc_position": {
    "height": "calc(100% - 180px)",
    "left": "10px",
    "top": "150px",
    "width": "458.806px"
   },
   "toc_section_display": true,
   "toc_window_display": true
  }
 },
 "nbformat": 4,
 "nbformat_minor": 5
}
