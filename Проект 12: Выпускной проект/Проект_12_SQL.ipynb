{
 "cells": [
  {
   "cell_type": "markdown",
   "metadata": {},
   "source": [
    "# Проект по SQL"
   ]
  },
  {
   "cell_type": "markdown",
   "metadata": {},
   "source": [
    "Коронавирус застал мир врасплох, изменив привычный порядок вещей. В свободное время жители городов больше не выходят на улицу, не посещают кафе и торговые центры. Зато стало больше времени для книг. Это заметили стартаперы — и бросились создавать приложения для тех, кто любит читать.\n",
    "Ваша компания решила быть на волне и купила крупный сервис для чтения книг по подписке. Ваша первая задача как аналитика — проанализировать базу данных.\n",
    "В ней — информация о книгах, издательствах, авторах, а также пользовательские обзоры книг. Эти данные помогут сформулировать ценностное предложение для нового продукта."
   ]
  },
  {
   "cell_type": "markdown",
   "metadata": {},
   "source": [
    "**Описание данных**\n",
    "\n",
    "1. Таблица books\n",
    "Содержит данные о книгах:\n",
    "- book_id — идентификатор книги;\n",
    "- author_id — идентификатор автора;\n",
    "- title — название книги;\n",
    "- num_pages — количество страниц;\n",
    "- publication_date — дата публикации книги;\n",
    "- publisher_id — идентификатор издателя.\n",
    "2. Таблица authors\n",
    "Содержит данные об авторах:\n",
    "- author_id — идентификатор автора;\n",
    "- author — имя автора.\n",
    "3. Таблица publishers\n",
    "Содержит данные об издательствах:\n",
    "- publisher_id — идентификатор издательства;\n",
    "- publisher — название издательства;\n",
    "4. Таблица ratings\n",
    "Содержит данные о пользовательских оценках книг:\n",
    "- rating_id — идентификатор оценки;\n",
    "- book_id — идентификатор книги;\n",
    "- username — имя пользователя, оставившего оценку;\n",
    "- rating — оценка книги.\n",
    "5. Таблица reviews\n",
    "Содержит данные о пользовательских обзорах:\n",
    "- review_id — идентификатор обзора;\n",
    "- book_id — идентификатор книги;\n",
    "- username — имя автора обзора;\n",
    "- text — текст обзора."
   ]
  },
  {
   "cell_type": "markdown",
   "metadata": {},
   "source": [
    "Цели исследования: \n",
    "\n",
    "1. Провести анализ данных приобретенного сервиса для чтения книг по подписке\n",
    "2. Сформулировать возможные рекомендации по продвижению стартапа"
   ]
  },
  {
   "cell_type": "code",
   "execution_count": 1,
   "metadata": {},
   "outputs": [],
   "source": [
    "# импортируем библиотеки\n",
    "import pandas as pd\n",
    "from sqlalchemy import text, create_engine\n",
    "from IPython.display import Image\n",
    "from IPython.core.display import HTML\n",
    "pd.set_option('display.max_rows', None)"
   ]
  },
  {
   "cell_type": "code",
   "execution_count": 2,
   "metadata": {},
   "outputs": [],
   "source": [
    "# устанавливаем параметры\n",
    "db_config = {'user': 'praktikum_student', # имя пользователя\n",
    "'pwd': 'Sdf4$2;d-d30pp', # пароль\n",
    "'host': 'rc1b-wcoijxj3yxfsf3fs.mdb.yandexcloud.net',\n",
    "'port': 6432, # порт подключения\n",
    "'db': 'data-analyst-final-project-db'} # название базы данных\n",
    "connection_string = 'postgresql://{user}:{pwd}@{host}:{port}/{db}'.format(**db_config)\n",
    "# сохраняем коннектор\n",
    "engine = create_engine(connection_string, connect_args={'sslmode':'require'})"
   ]
  },
  {
   "cell_type": "code",
   "execution_count": 3,
   "metadata": {},
   "outputs": [],
   "source": [
    "#Функция для просмотра данных\n",
    "def show(table):\n",
    "    return pd.io.sql.read_sql(sql=text(table), con = engine)"
   ]
  },
  {
   "cell_type": "code",
   "execution_count": 4,
   "metadata": {},
   "outputs": [
    {
     "data": {
      "text/html": [
       "<img src=\"https://pictures.s3.yandex.net/resources/scheme_1589269096.png\"/>"
      ],
      "text/plain": [
       "<IPython.core.display.Image object>"
      ]
     },
     "execution_count": 4,
     "metadata": {},
     "output_type": "execute_result"
    }
   ],
   "source": [
    "#Добавим схему данных для удобства\n",
    "Image(url= \"https://pictures.s3.yandex.net/resources/scheme_1589269096.png\")"
   ]
  },
  {
   "cell_type": "code",
   "execution_count": 5,
   "metadata": {},
   "outputs": [
    {
     "data": {
      "text/html": [
       "<div>\n",
       "<style scoped>\n",
       "    .dataframe tbody tr th:only-of-type {\n",
       "        vertical-align: middle;\n",
       "    }\n",
       "\n",
       "    .dataframe tbody tr th {\n",
       "        vertical-align: top;\n",
       "    }\n",
       "\n",
       "    .dataframe thead th {\n",
       "        text-align: right;\n",
       "    }\n",
       "</style>\n",
       "<table border=\"1\" class=\"dataframe\">\n",
       "  <thead>\n",
       "    <tr style=\"text-align: right;\">\n",
       "      <th></th>\n",
       "      <th>book_id</th>\n",
       "      <th>author_id</th>\n",
       "      <th>title</th>\n",
       "      <th>num_pages</th>\n",
       "      <th>publication_date</th>\n",
       "      <th>publisher_id</th>\n",
       "    </tr>\n",
       "  </thead>\n",
       "  <tbody>\n",
       "    <tr>\n",
       "      <th>0</th>\n",
       "      <td>1</td>\n",
       "      <td>546</td>\n",
       "      <td>'Salem's Lot</td>\n",
       "      <td>594</td>\n",
       "      <td>2005-11-01</td>\n",
       "      <td>93</td>\n",
       "    </tr>\n",
       "    <tr>\n",
       "      <th>1</th>\n",
       "      <td>2</td>\n",
       "      <td>465</td>\n",
       "      <td>1 000 Places to See Before You Die</td>\n",
       "      <td>992</td>\n",
       "      <td>2003-05-22</td>\n",
       "      <td>336</td>\n",
       "    </tr>\n",
       "    <tr>\n",
       "      <th>2</th>\n",
       "      <td>3</td>\n",
       "      <td>407</td>\n",
       "      <td>13 Little Blue Envelopes (Little Blue Envelope...</td>\n",
       "      <td>322</td>\n",
       "      <td>2010-12-21</td>\n",
       "      <td>135</td>\n",
       "    </tr>\n",
       "    <tr>\n",
       "      <th>3</th>\n",
       "      <td>4</td>\n",
       "      <td>82</td>\n",
       "      <td>1491: New Revelations of the Americas Before C...</td>\n",
       "      <td>541</td>\n",
       "      <td>2006-10-10</td>\n",
       "      <td>309</td>\n",
       "    </tr>\n",
       "    <tr>\n",
       "      <th>4</th>\n",
       "      <td>5</td>\n",
       "      <td>125</td>\n",
       "      <td>1776</td>\n",
       "      <td>386</td>\n",
       "      <td>2006-07-04</td>\n",
       "      <td>268</td>\n",
       "    </tr>\n",
       "  </tbody>\n",
       "</table>\n",
       "</div>"
      ],
      "text/plain": [
       "   book_id  author_id                                              title  \\\n",
       "0        1        546                                       'Salem's Lot   \n",
       "1        2        465                 1 000 Places to See Before You Die   \n",
       "2        3        407  13 Little Blue Envelopes (Little Blue Envelope...   \n",
       "3        4         82  1491: New Revelations of the Americas Before C...   \n",
       "4        5        125                                               1776   \n",
       "\n",
       "   num_pages publication_date  publisher_id  \n",
       "0        594       2005-11-01            93  \n",
       "1        992       2003-05-22           336  \n",
       "2        322       2010-12-21           135  \n",
       "3        541       2006-10-10           309  \n",
       "4        386       2006-07-04           268  "
      ]
     },
     "execution_count": 5,
     "metadata": {},
     "output_type": "execute_result"
    }
   ],
   "source": [
    "#Вывод таблицы books\n",
    "query_books = '''\n",
    "    SELECT * \n",
    "    FROM books \n",
    "    LIMIT 5'''\n",
    "show(query_books)"
   ]
  },
  {
   "cell_type": "code",
   "execution_count": 6,
   "metadata": {},
   "outputs": [
    {
     "data": {
      "text/html": [
       "<div>\n",
       "<style scoped>\n",
       "    .dataframe tbody tr th:only-of-type {\n",
       "        vertical-align: middle;\n",
       "    }\n",
       "\n",
       "    .dataframe tbody tr th {\n",
       "        vertical-align: top;\n",
       "    }\n",
       "\n",
       "    .dataframe thead th {\n",
       "        text-align: right;\n",
       "    }\n",
       "</style>\n",
       "<table border=\"1\" class=\"dataframe\">\n",
       "  <thead>\n",
       "    <tr style=\"text-align: right;\">\n",
       "      <th></th>\n",
       "      <th>author_id</th>\n",
       "      <th>author</th>\n",
       "    </tr>\n",
       "  </thead>\n",
       "  <tbody>\n",
       "    <tr>\n",
       "      <th>0</th>\n",
       "      <td>1</td>\n",
       "      <td>A.S. Byatt</td>\n",
       "    </tr>\n",
       "    <tr>\n",
       "      <th>1</th>\n",
       "      <td>2</td>\n",
       "      <td>Aesop/Laura Harris/Laura Gibbs</td>\n",
       "    </tr>\n",
       "    <tr>\n",
       "      <th>2</th>\n",
       "      <td>3</td>\n",
       "      <td>Agatha Christie</td>\n",
       "    </tr>\n",
       "    <tr>\n",
       "      <th>3</th>\n",
       "      <td>4</td>\n",
       "      <td>Alan Brennert</td>\n",
       "    </tr>\n",
       "    <tr>\n",
       "      <th>4</th>\n",
       "      <td>5</td>\n",
       "      <td>Alan Moore/David   Lloyd</td>\n",
       "    </tr>\n",
       "  </tbody>\n",
       "</table>\n",
       "</div>"
      ],
      "text/plain": [
       "   author_id                          author\n",
       "0          1                      A.S. Byatt\n",
       "1          2  Aesop/Laura Harris/Laura Gibbs\n",
       "2          3                 Agatha Christie\n",
       "3          4                   Alan Brennert\n",
       "4          5        Alan Moore/David   Lloyd"
      ]
     },
     "execution_count": 6,
     "metadata": {},
     "output_type": "execute_result"
    }
   ],
   "source": [
    "#Вывод таблицы authors\n",
    "query_books = '''\n",
    "    SELECT * \n",
    "    FROM authors \n",
    "    LIMIT 5'''\n",
    "show(query_books)"
   ]
  },
  {
   "cell_type": "code",
   "execution_count": 7,
   "metadata": {},
   "outputs": [
    {
     "data": {
      "text/html": [
       "<div>\n",
       "<style scoped>\n",
       "    .dataframe tbody tr th:only-of-type {\n",
       "        vertical-align: middle;\n",
       "    }\n",
       "\n",
       "    .dataframe tbody tr th {\n",
       "        vertical-align: top;\n",
       "    }\n",
       "\n",
       "    .dataframe thead th {\n",
       "        text-align: right;\n",
       "    }\n",
       "</style>\n",
       "<table border=\"1\" class=\"dataframe\">\n",
       "  <thead>\n",
       "    <tr style=\"text-align: right;\">\n",
       "      <th></th>\n",
       "      <th>rating_id</th>\n",
       "      <th>book_id</th>\n",
       "      <th>username</th>\n",
       "      <th>rating</th>\n",
       "    </tr>\n",
       "  </thead>\n",
       "  <tbody>\n",
       "    <tr>\n",
       "      <th>0</th>\n",
       "      <td>1</td>\n",
       "      <td>1</td>\n",
       "      <td>ryanfranco</td>\n",
       "      <td>4</td>\n",
       "    </tr>\n",
       "    <tr>\n",
       "      <th>1</th>\n",
       "      <td>2</td>\n",
       "      <td>1</td>\n",
       "      <td>grantpatricia</td>\n",
       "      <td>2</td>\n",
       "    </tr>\n",
       "    <tr>\n",
       "      <th>2</th>\n",
       "      <td>3</td>\n",
       "      <td>1</td>\n",
       "      <td>brandtandrea</td>\n",
       "      <td>5</td>\n",
       "    </tr>\n",
       "    <tr>\n",
       "      <th>3</th>\n",
       "      <td>4</td>\n",
       "      <td>2</td>\n",
       "      <td>lorichen</td>\n",
       "      <td>3</td>\n",
       "    </tr>\n",
       "    <tr>\n",
       "      <th>4</th>\n",
       "      <td>5</td>\n",
       "      <td>2</td>\n",
       "      <td>mariokeller</td>\n",
       "      <td>2</td>\n",
       "    </tr>\n",
       "  </tbody>\n",
       "</table>\n",
       "</div>"
      ],
      "text/plain": [
       "   rating_id  book_id       username  rating\n",
       "0          1        1     ryanfranco       4\n",
       "1          2        1  grantpatricia       2\n",
       "2          3        1   brandtandrea       5\n",
       "3          4        2       lorichen       3\n",
       "4          5        2    mariokeller       2"
      ]
     },
     "execution_count": 7,
     "metadata": {},
     "output_type": "execute_result"
    }
   ],
   "source": [
    "#Вывод таблицы ratings\n",
    "query_books = '''\n",
    "    SELECT * \n",
    "    FROM ratings \n",
    "    LIMIT 5'''\n",
    "show(query_books)"
   ]
  },
  {
   "cell_type": "code",
   "execution_count": 8,
   "metadata": {},
   "outputs": [
    {
     "data": {
      "text/html": [
       "<div>\n",
       "<style scoped>\n",
       "    .dataframe tbody tr th:only-of-type {\n",
       "        vertical-align: middle;\n",
       "    }\n",
       "\n",
       "    .dataframe tbody tr th {\n",
       "        vertical-align: top;\n",
       "    }\n",
       "\n",
       "    .dataframe thead th {\n",
       "        text-align: right;\n",
       "    }\n",
       "</style>\n",
       "<table border=\"1\" class=\"dataframe\">\n",
       "  <thead>\n",
       "    <tr style=\"text-align: right;\">\n",
       "      <th></th>\n",
       "      <th>review_id</th>\n",
       "      <th>book_id</th>\n",
       "      <th>username</th>\n",
       "      <th>text</th>\n",
       "    </tr>\n",
       "  </thead>\n",
       "  <tbody>\n",
       "    <tr>\n",
       "      <th>0</th>\n",
       "      <td>1</td>\n",
       "      <td>1</td>\n",
       "      <td>brandtandrea</td>\n",
       "      <td>Mention society tell send professor analysis. ...</td>\n",
       "    </tr>\n",
       "    <tr>\n",
       "      <th>1</th>\n",
       "      <td>2</td>\n",
       "      <td>1</td>\n",
       "      <td>ryanfranco</td>\n",
       "      <td>Foot glass pretty audience hit themselves. Amo...</td>\n",
       "    </tr>\n",
       "    <tr>\n",
       "      <th>2</th>\n",
       "      <td>3</td>\n",
       "      <td>2</td>\n",
       "      <td>lorichen</td>\n",
       "      <td>Listen treat keep worry. Miss husband tax but ...</td>\n",
       "    </tr>\n",
       "    <tr>\n",
       "      <th>3</th>\n",
       "      <td>4</td>\n",
       "      <td>3</td>\n",
       "      <td>johnsonamanda</td>\n",
       "      <td>Finally month interesting blue could nature cu...</td>\n",
       "    </tr>\n",
       "    <tr>\n",
       "      <th>4</th>\n",
       "      <td>5</td>\n",
       "      <td>3</td>\n",
       "      <td>scotttamara</td>\n",
       "      <td>Nation purpose heavy give wait song will. List...</td>\n",
       "    </tr>\n",
       "  </tbody>\n",
       "</table>\n",
       "</div>"
      ],
      "text/plain": [
       "   review_id  book_id       username  \\\n",
       "0          1        1   brandtandrea   \n",
       "1          2        1     ryanfranco   \n",
       "2          3        2       lorichen   \n",
       "3          4        3  johnsonamanda   \n",
       "4          5        3    scotttamara   \n",
       "\n",
       "                                                text  \n",
       "0  Mention society tell send professor analysis. ...  \n",
       "1  Foot glass pretty audience hit themselves. Amo...  \n",
       "2  Listen treat keep worry. Miss husband tax but ...  \n",
       "3  Finally month interesting blue could nature cu...  \n",
       "4  Nation purpose heavy give wait song will. List...  "
      ]
     },
     "execution_count": 8,
     "metadata": {},
     "output_type": "execute_result"
    }
   ],
   "source": [
    "#Вывод таблицы reviews\n",
    "query_books = '''\n",
    "    SELECT * \n",
    "    FROM reviews \n",
    "    LIMIT 5'''\n",
    "show(query_books)"
   ]
  },
  {
   "cell_type": "code",
   "execution_count": 9,
   "metadata": {
    "scrolled": true
   },
   "outputs": [
    {
     "data": {
      "text/html": [
       "<div>\n",
       "<style scoped>\n",
       "    .dataframe tbody tr th:only-of-type {\n",
       "        vertical-align: middle;\n",
       "    }\n",
       "\n",
       "    .dataframe tbody tr th {\n",
       "        vertical-align: top;\n",
       "    }\n",
       "\n",
       "    .dataframe thead th {\n",
       "        text-align: right;\n",
       "    }\n",
       "</style>\n",
       "<table border=\"1\" class=\"dataframe\">\n",
       "  <thead>\n",
       "    <tr style=\"text-align: right;\">\n",
       "      <th></th>\n",
       "      <th>publisher_id</th>\n",
       "      <th>publisher</th>\n",
       "    </tr>\n",
       "  </thead>\n",
       "  <tbody>\n",
       "    <tr>\n",
       "      <th>0</th>\n",
       "      <td>1</td>\n",
       "      <td>Ace</td>\n",
       "    </tr>\n",
       "    <tr>\n",
       "      <th>1</th>\n",
       "      <td>2</td>\n",
       "      <td>Ace Book</td>\n",
       "    </tr>\n",
       "    <tr>\n",
       "      <th>2</th>\n",
       "      <td>3</td>\n",
       "      <td>Ace Books</td>\n",
       "    </tr>\n",
       "    <tr>\n",
       "      <th>3</th>\n",
       "      <td>4</td>\n",
       "      <td>Ace Hardcover</td>\n",
       "    </tr>\n",
       "    <tr>\n",
       "      <th>4</th>\n",
       "      <td>5</td>\n",
       "      <td>Addison Wesley Publishing Company</td>\n",
       "    </tr>\n",
       "  </tbody>\n",
       "</table>\n",
       "</div>"
      ],
      "text/plain": [
       "   publisher_id                          publisher\n",
       "0             1                                Ace\n",
       "1             2                           Ace Book\n",
       "2             3                          Ace Books\n",
       "3             4                      Ace Hardcover\n",
       "4             5  Addison Wesley Publishing Company"
      ]
     },
     "execution_count": 9,
     "metadata": {},
     "output_type": "execute_result"
    }
   ],
   "source": [
    "#Вывод таблицы publishers\n",
    "query_books = '''\n",
    "    SELECT * \n",
    "    FROM publishers \n",
    "    LIMIT 5'''\n",
    "show(query_books)"
   ]
  },
  {
   "cell_type": "markdown",
   "metadata": {},
   "source": [
    "Данные по таблицам вывелись корректно. Также название столбцов таблицы соответствует их содержанию."
   ]
  },
  {
   "cell_type": "markdown",
   "metadata": {},
   "source": [
    "## Задания"
   ]
  },
  {
   "cell_type": "markdown",
   "metadata": {},
   "source": [
    "### Посчитайте, сколько книг вышло после 1 января 2000 года;"
   ]
  },
  {
   "cell_type": "code",
   "execution_count": 10,
   "metadata": {},
   "outputs": [
    {
     "data": {
      "text/html": [
       "<div>\n",
       "<style scoped>\n",
       "    .dataframe tbody tr th:only-of-type {\n",
       "        vertical-align: middle;\n",
       "    }\n",
       "\n",
       "    .dataframe tbody tr th {\n",
       "        vertical-align: top;\n",
       "    }\n",
       "\n",
       "    .dataframe thead th {\n",
       "        text-align: right;\n",
       "    }\n",
       "</style>\n",
       "<table border=\"1\" class=\"dataframe\">\n",
       "  <thead>\n",
       "    <tr style=\"text-align: right;\">\n",
       "      <th></th>\n",
       "      <th>books_cnt</th>\n",
       "    </tr>\n",
       "  </thead>\n",
       "  <tbody>\n",
       "    <tr>\n",
       "      <th>0</th>\n",
       "      <td>819</td>\n",
       "    </tr>\n",
       "  </tbody>\n",
       "</table>\n",
       "</div>"
      ],
      "text/plain": [
       "   books_cnt\n",
       "0        819"
      ]
     },
     "execution_count": 10,
     "metadata": {},
     "output_type": "execute_result"
    }
   ],
   "source": [
    "books_count = '''\n",
    "    SELECT COUNT(book_id) AS books_cnt \n",
    "    FROM books \n",
    "    WHERE publication_date > '2000-01-01'\n",
    "'''\n",
    "show(books_count)"
   ]
  },
  {
   "cell_type": "markdown",
   "metadata": {},
   "source": [
    "По предоставленным данным количество книг, вышедших после 01.01.2000 составило 819."
   ]
  },
  {
   "cell_type": "markdown",
   "metadata": {},
   "source": [
    "### Для каждой книги посчитайте количество обзоров и среднюю оценку;"
   ]
  },
  {
   "cell_type": "code",
   "execution_count": 11,
   "metadata": {
    "scrolled": false
   },
   "outputs": [
    {
     "data": {
      "text/html": [
       "<div>\n",
       "<style scoped>\n",
       "    .dataframe tbody tr th:only-of-type {\n",
       "        vertical-align: middle;\n",
       "    }\n",
       "\n",
       "    .dataframe tbody tr th {\n",
       "        vertical-align: top;\n",
       "    }\n",
       "\n",
       "    .dataframe thead th {\n",
       "        text-align: right;\n",
       "    }\n",
       "</style>\n",
       "<table border=\"1\" class=\"dataframe\">\n",
       "  <thead>\n",
       "    <tr style=\"text-align: right;\">\n",
       "      <th></th>\n",
       "      <th>book_id</th>\n",
       "      <th>title</th>\n",
       "      <th>cnt_review</th>\n",
       "      <th>avg_rating</th>\n",
       "    </tr>\n",
       "  </thead>\n",
       "  <tbody>\n",
       "    <tr>\n",
       "      <th>0</th>\n",
       "      <td>948</td>\n",
       "      <td>Twilight (Twilight  #1)</td>\n",
       "      <td>7</td>\n",
       "      <td>3.662500</td>\n",
       "    </tr>\n",
       "    <tr>\n",
       "      <th>1</th>\n",
       "      <td>302</td>\n",
       "      <td>Harry Potter and the Prisoner of Azkaban (Harr...</td>\n",
       "      <td>6</td>\n",
       "      <td>4.414634</td>\n",
       "    </tr>\n",
       "    <tr>\n",
       "      <th>2</th>\n",
       "      <td>299</td>\n",
       "      <td>Harry Potter and the Chamber of Secrets (Harry...</td>\n",
       "      <td>6</td>\n",
       "      <td>4.287500</td>\n",
       "    </tr>\n",
       "    <tr>\n",
       "      <th>3</th>\n",
       "      <td>656</td>\n",
       "      <td>The Book Thief</td>\n",
       "      <td>6</td>\n",
       "      <td>4.264151</td>\n",
       "    </tr>\n",
       "    <tr>\n",
       "      <th>4</th>\n",
       "      <td>734</td>\n",
       "      <td>The Glass Castle</td>\n",
       "      <td>6</td>\n",
       "      <td>4.206897</td>\n",
       "    </tr>\n",
       "    <tr>\n",
       "      <th>5</th>\n",
       "      <td>497</td>\n",
       "      <td>Outlander (Outlander  #1)</td>\n",
       "      <td>6</td>\n",
       "      <td>4.125000</td>\n",
       "    </tr>\n",
       "    <tr>\n",
       "      <th>6</th>\n",
       "      <td>750</td>\n",
       "      <td>The Hobbit  or There and Back Again</td>\n",
       "      <td>6</td>\n",
       "      <td>4.125000</td>\n",
       "    </tr>\n",
       "    <tr>\n",
       "      <th>7</th>\n",
       "      <td>695</td>\n",
       "      <td>The Curious Incident of the Dog in the Night-Time</td>\n",
       "      <td>6</td>\n",
       "      <td>4.081081</td>\n",
       "    </tr>\n",
       "    <tr>\n",
       "      <th>8</th>\n",
       "      <td>779</td>\n",
       "      <td>The Lightning Thief (Percy Jackson and the Oly...</td>\n",
       "      <td>6</td>\n",
       "      <td>4.080645</td>\n",
       "    </tr>\n",
       "    <tr>\n",
       "      <th>9</th>\n",
       "      <td>963</td>\n",
       "      <td>Water for Elephants</td>\n",
       "      <td>6</td>\n",
       "      <td>3.977273</td>\n",
       "    </tr>\n",
       "    <tr>\n",
       "      <th>10</th>\n",
       "      <td>696</td>\n",
       "      <td>The Da Vinci Code (Robert Langdon  #2)</td>\n",
       "      <td>6</td>\n",
       "      <td>3.830508</td>\n",
       "    </tr>\n",
       "    <tr>\n",
       "      <th>11</th>\n",
       "      <td>673</td>\n",
       "      <td>The Catcher in the Rye</td>\n",
       "      <td>6</td>\n",
       "      <td>3.825581</td>\n",
       "    </tr>\n",
       "    <tr>\n",
       "      <th>12</th>\n",
       "      <td>627</td>\n",
       "      <td>The Alchemist</td>\n",
       "      <td>6</td>\n",
       "      <td>3.789474</td>\n",
       "    </tr>\n",
       "    <tr>\n",
       "      <th>13</th>\n",
       "      <td>854</td>\n",
       "      <td>The Road</td>\n",
       "      <td>6</td>\n",
       "      <td>3.772727</td>\n",
       "    </tr>\n",
       "    <tr>\n",
       "      <th>14</th>\n",
       "      <td>733</td>\n",
       "      <td>The Giver (The Giver  #1)</td>\n",
       "      <td>6</td>\n",
       "      <td>3.750000</td>\n",
       "    </tr>\n",
       "  </tbody>\n",
       "</table>\n",
       "</div>"
      ],
      "text/plain": [
       "    book_id                                              title  cnt_review  \\\n",
       "0       948                            Twilight (Twilight  #1)           7   \n",
       "1       302  Harry Potter and the Prisoner of Azkaban (Harr...           6   \n",
       "2       299  Harry Potter and the Chamber of Secrets (Harry...           6   \n",
       "3       656                                     The Book Thief           6   \n",
       "4       734                                   The Glass Castle           6   \n",
       "5       497                          Outlander (Outlander  #1)           6   \n",
       "6       750                The Hobbit  or There and Back Again           6   \n",
       "7       695  The Curious Incident of the Dog in the Night-Time           6   \n",
       "8       779  The Lightning Thief (Percy Jackson and the Oly...           6   \n",
       "9       963                                Water for Elephants           6   \n",
       "10      696             The Da Vinci Code (Robert Langdon  #2)           6   \n",
       "11      673                             The Catcher in the Rye           6   \n",
       "12      627                                      The Alchemist           6   \n",
       "13      854                                           The Road           6   \n",
       "14      733                          The Giver (The Giver  #1)           6   \n",
       "\n",
       "    avg_rating  \n",
       "0     3.662500  \n",
       "1     4.414634  \n",
       "2     4.287500  \n",
       "3     4.264151  \n",
       "4     4.206897  \n",
       "5     4.125000  \n",
       "6     4.125000  \n",
       "7     4.081081  \n",
       "8     4.080645  \n",
       "9     3.977273  \n",
       "10    3.830508  \n",
       "11    3.825581  \n",
       "12    3.789474  \n",
       "13    3.772727  \n",
       "14    3.750000  "
      ]
     },
     "execution_count": 11,
     "metadata": {},
     "output_type": "execute_result"
    }
   ],
   "source": [
    "books_rv_rt = '''\n",
    "    SELECT b.book_id,\n",
    "        b.title,\n",
    "        COUNT(DISTINCT rv.review_id) AS cnt_review,\n",
    "        AVG(rt.rating) AS avg_rating\n",
    "    FROM books b LEFT JOIN reviews rv ON b.book_id = rv.book_id\n",
    "        LEFT JOIN ratings rt ON b.book_id = rt.book_id\n",
    "    GROUP BY b.book_id, b.title\n",
    "    ORDER BY cnt_review DESC, \n",
    "    avg_rating DESC\n",
    "    LIMIT 15\n",
    "\n",
    "'''\n",
    "show(books_rv_rt)"
   ]
  },
  {
   "cell_type": "markdown",
   "metadata": {},
   "source": [
    "С увеличением числа обзоров, рейтинг книг становится все более неравномерным. \n",
    "- Книга с наибольшим количеством обзоров - Twilight (Twilight #1) (Количество обзоров: 7, Средний рейтинг: 3.662500). \n",
    "- Книги с наивысшим рейтингом, такие как:  Arrows of the Queen (Heralds of Valdemar #1), Alas Babylon, Angels Fall и др. имеют рейтинг 5.0, хотя обзоров у них только 2. \n",
    "- Имеются книги без обзоров, например, Anne Rice's The Vampire Lestat: A Graphic Novel, The Natural Way to Draw. \n",
    "- Книга с самым наименьшим рейтингом - Harvesting the Heart (Средний рейтинг: 1.50)."
   ]
  },
  {
   "cell_type": "markdown",
   "metadata": {},
   "source": [
    "### Определите издательство, которое выпустило наибольшее число книг толще 50 страниц — так вы исключите из анализа брошюры;"
   ]
  },
  {
   "cell_type": "code",
   "execution_count": 12,
   "metadata": {},
   "outputs": [
    {
     "data": {
      "text/html": [
       "<div>\n",
       "<style scoped>\n",
       "    .dataframe tbody tr th:only-of-type {\n",
       "        vertical-align: middle;\n",
       "    }\n",
       "\n",
       "    .dataframe tbody tr th {\n",
       "        vertical-align: top;\n",
       "    }\n",
       "\n",
       "    .dataframe thead th {\n",
       "        text-align: right;\n",
       "    }\n",
       "</style>\n",
       "<table border=\"1\" class=\"dataframe\">\n",
       "  <thead>\n",
       "    <tr style=\"text-align: right;\">\n",
       "      <th></th>\n",
       "      <th>publisher</th>\n",
       "      <th>cnt_books</th>\n",
       "    </tr>\n",
       "  </thead>\n",
       "  <tbody>\n",
       "    <tr>\n",
       "      <th>0</th>\n",
       "      <td>Penguin Books</td>\n",
       "      <td>42</td>\n",
       "    </tr>\n",
       "  </tbody>\n",
       "</table>\n",
       "</div>"
      ],
      "text/plain": [
       "       publisher  cnt_books\n",
       "0  Penguin Books         42"
      ]
     },
     "execution_count": 12,
     "metadata": {},
     "output_type": "execute_result"
    }
   ],
   "source": [
    "publish = '''\n",
    "    SELECT p.publisher,\n",
    "        COUNT(b.book_id) AS cnt_books\n",
    "    FROM books b LEFT JOIN publishers p ON b.publisher_id = p.publisher_id\n",
    "    WHERE b.num_pages > 50\n",
    "    GROUP BY p.publisher\n",
    "    ORDER BY cnt_books DESC\n",
    "    LIMIT 1\n",
    "'''\n",
    "show(publish)"
   ]
  },
  {
   "cell_type": "markdown",
   "metadata": {},
   "source": [
    "Издательство выпустившее наибольшее количество книг (не включая брошюры менее 50 стр.) - Penguin Books. \n",
    "\n",
    "Количество выпущенных книг: 42."
   ]
  },
  {
   "cell_type": "markdown",
   "metadata": {},
   "source": [
    "### Определите автора с самой высокой средней оценкой книг — учитывайте только книги с 50 и более оценками;"
   ]
  },
  {
   "cell_type": "code",
   "execution_count": 13,
   "metadata": {},
   "outputs": [
    {
     "data": {
      "text/html": [
       "<div>\n",
       "<style scoped>\n",
       "    .dataframe tbody tr th:only-of-type {\n",
       "        vertical-align: middle;\n",
       "    }\n",
       "\n",
       "    .dataframe tbody tr th {\n",
       "        vertical-align: top;\n",
       "    }\n",
       "\n",
       "    .dataframe thead th {\n",
       "        text-align: right;\n",
       "    }\n",
       "</style>\n",
       "<table border=\"1\" class=\"dataframe\">\n",
       "  <thead>\n",
       "    <tr style=\"text-align: right;\">\n",
       "      <th></th>\n",
       "      <th>author</th>\n",
       "      <th>avg_rating</th>\n",
       "    </tr>\n",
       "  </thead>\n",
       "  <tbody>\n",
       "    <tr>\n",
       "      <th>0</th>\n",
       "      <td>J.K. Rowling/Mary GrandPré</td>\n",
       "      <td>4.283844</td>\n",
       "    </tr>\n",
       "  </tbody>\n",
       "</table>\n",
       "</div>"
      ],
      "text/plain": [
       "                       author  avg_rating\n",
       "0  J.K. Rowling/Mary GrandPré    4.283844"
      ]
     },
     "execution_count": 13,
     "metadata": {},
     "output_type": "execute_result"
    }
   ],
   "source": [
    "author = '''\n",
    "    WITH book_rat AS (SELECT a.author,\n",
    "                        b.title,\n",
    "                        COUNT(rt.rating_id) AS cnt_ratings,\n",
    "                        AVG(rt.rating) AS avg_rating\n",
    "                        \n",
    "                    FROM authors a LEFT JOIN books b ON a.author_id = b.author_id\n",
    "                        LEFT JOIN ratings rt ON b.book_id = rt.book_id\n",
    "                    GROUP BY b.title, a.author\n",
    "                    HAVING COUNT(rt.rating_id) >= 50\n",
    "                    ORDER BY cnt_ratings DESC)\n",
    "    \n",
    "    SELECT br.author,\n",
    "        AVG(br.avg_rating) AS avg_rating\n",
    "    FROM book_rat br\n",
    "    GROUP BY br.author\n",
    "    ORDER BY avg_rating DESC\n",
    "    LIMIT 1\n",
    "                        \n",
    "'''\n",
    "show(author)"
   ]
  },
  {
   "cell_type": "markdown",
   "metadata": {},
   "source": [
    "Автором с самой высокой средней оценкой книг является J.K. Rowling/Mary GrandPré. Средняя оценка книг 4.28."
   ]
  },
  {
   "cell_type": "markdown",
   "metadata": {},
   "source": [
    "### Посчитайте среднее количество обзоров от пользователей, которые поставили больше 48 оценок."
   ]
  },
  {
   "cell_type": "code",
   "execution_count": 14,
   "metadata": {},
   "outputs": [
    {
     "data": {
      "text/html": [
       "<div>\n",
       "<style scoped>\n",
       "    .dataframe tbody tr th:only-of-type {\n",
       "        vertical-align: middle;\n",
       "    }\n",
       "\n",
       "    .dataframe tbody tr th {\n",
       "        vertical-align: top;\n",
       "    }\n",
       "\n",
       "    .dataframe thead th {\n",
       "        text-align: right;\n",
       "    }\n",
       "</style>\n",
       "<table border=\"1\" class=\"dataframe\">\n",
       "  <thead>\n",
       "    <tr style=\"text-align: right;\">\n",
       "      <th></th>\n",
       "      <th>avg_review</th>\n",
       "    </tr>\n",
       "  </thead>\n",
       "  <tbody>\n",
       "    <tr>\n",
       "      <th>0</th>\n",
       "      <td>24.0</td>\n",
       "    </tr>\n",
       "  </tbody>\n",
       "</table>\n",
       "</div>"
      ],
      "text/plain": [
       "   avg_review\n",
       "0        24.0"
      ]
     },
     "execution_count": 14,
     "metadata": {},
     "output_type": "execute_result"
    }
   ],
   "source": [
    "review = '''\n",
    "    WITH review_rat AS (SELECT rt.username,\n",
    "                            COUNT(rt.rating_id) AS cnt_ratings\n",
    "                        FROM ratings rt \n",
    "                        GROUP BY rt.username\n",
    "                        HAVING COUNT(rt.rating_id) > 48\n",
    "                        ORDER BY cnt_ratings DESC)\n",
    "    SELECT AVG(cnt_review) AS avg_review\n",
    "    FROM (SELECT RV.username,\n",
    "                COUNT(rv.review_id) AS cnt_review\n",
    "            FROM review_rat rr JOIN reviews rv ON rr.username = rv.username\n",
    "            GROUP BY rv.username) AS avg_data    \n",
    "    \n",
    "'''\n",
    "show(review)"
   ]
  },
  {
   "cell_type": "markdown",
   "metadata": {},
   "source": [
    "Среднее количество обзоров пользователей, которые поставили более чем по 50 оценок равно 24."
   ]
  },
  {
   "cell_type": "markdown",
   "metadata": {},
   "source": [
    "## Дополнительные задания"
   ]
  },
  {
   "cell_type": "code",
   "execution_count": 15,
   "metadata": {},
   "outputs": [
    {
     "data": {
      "text/html": [
       "<img src=\"https://pictures.s3.yandex.net/resources/scheme_1589269096.png\"/>"
      ],
      "text/plain": [
       "<IPython.core.display.Image object>"
      ]
     },
     "execution_count": 15,
     "metadata": {},
     "output_type": "execute_result"
    }
   ],
   "source": [
    "Image(url= \"https://pictures.s3.yandex.net/resources/scheme_1589269096.png\")"
   ]
  },
  {
   "cell_type": "markdown",
   "metadata": {},
   "source": [
    "Выведите таблицу, которая будет содержать по году публикации:\n",
    "\n",
    "- количество издательств,\n",
    "- выпущенных книг и\n",
    "- сколько всего тысяч страниц было в изданных книгах\n",
    "\n",
    "(отобразить только те года, в которых издано более 30 книг)"
   ]
  },
  {
   "cell_type": "code",
   "execution_count": 16,
   "metadata": {
    "scrolled": true
   },
   "outputs": [
    {
     "data": {
      "text/html": [
       "<div>\n",
       "<style scoped>\n",
       "    .dataframe tbody tr th:only-of-type {\n",
       "        vertical-align: middle;\n",
       "    }\n",
       "\n",
       "    .dataframe tbody tr th {\n",
       "        vertical-align: top;\n",
       "    }\n",
       "\n",
       "    .dataframe thead th {\n",
       "        text-align: right;\n",
       "    }\n",
       "</style>\n",
       "<table border=\"1\" class=\"dataframe\">\n",
       "  <thead>\n",
       "    <tr style=\"text-align: right;\">\n",
       "      <th></th>\n",
       "      <th>year</th>\n",
       "      <th>cnt_publishers</th>\n",
       "      <th>cnt_books</th>\n",
       "      <th>sum_pages_1000</th>\n",
       "    </tr>\n",
       "  </thead>\n",
       "  <tbody>\n",
       "    <tr>\n",
       "      <th>0</th>\n",
       "      <td>1999</td>\n",
       "      <td>26</td>\n",
       "      <td>41</td>\n",
       "      <td>15.763</td>\n",
       "    </tr>\n",
       "    <tr>\n",
       "      <th>1</th>\n",
       "      <td>2000</td>\n",
       "      <td>35</td>\n",
       "      <td>38</td>\n",
       "      <td>13.328</td>\n",
       "    </tr>\n",
       "    <tr>\n",
       "      <th>2</th>\n",
       "      <td>2001</td>\n",
       "      <td>41</td>\n",
       "      <td>60</td>\n",
       "      <td>21.758</td>\n",
       "    </tr>\n",
       "    <tr>\n",
       "      <th>3</th>\n",
       "      <td>2002</td>\n",
       "      <td>62</td>\n",
       "      <td>94</td>\n",
       "      <td>38.597</td>\n",
       "    </tr>\n",
       "    <tr>\n",
       "      <th>4</th>\n",
       "      <td>2003</td>\n",
       "      <td>65</td>\n",
       "      <td>105</td>\n",
       "      <td>41.423</td>\n",
       "    </tr>\n",
       "    <tr>\n",
       "      <th>5</th>\n",
       "      <td>2004</td>\n",
       "      <td>88</td>\n",
       "      <td>124</td>\n",
       "      <td>46.779</td>\n",
       "    </tr>\n",
       "    <tr>\n",
       "      <th>6</th>\n",
       "      <td>2005</td>\n",
       "      <td>89</td>\n",
       "      <td>139</td>\n",
       "      <td>55.967</td>\n",
       "    </tr>\n",
       "    <tr>\n",
       "      <th>7</th>\n",
       "      <td>2006</td>\n",
       "      <td>109</td>\n",
       "      <td>184</td>\n",
       "      <td>68.302</td>\n",
       "    </tr>\n",
       "    <tr>\n",
       "      <th>8</th>\n",
       "      <td>2007</td>\n",
       "      <td>38</td>\n",
       "      <td>50</td>\n",
       "      <td>18.258</td>\n",
       "    </tr>\n",
       "  </tbody>\n",
       "</table>\n",
       "</div>"
      ],
      "text/plain": [
       "   year  cnt_publishers  cnt_books  sum_pages_1000\n",
       "0  1999              26         41          15.763\n",
       "1  2000              35         38          13.328\n",
       "2  2001              41         60          21.758\n",
       "3  2002              62         94          38.597\n",
       "4  2003              65        105          41.423\n",
       "5  2004              88        124          46.779\n",
       "6  2005              89        139          55.967\n",
       "7  2006             109        184          68.302\n",
       "8  2007              38         50          18.258"
      ]
     },
     "execution_count": 16,
     "metadata": {},
     "output_type": "execute_result"
    }
   ],
   "source": [
    "dop = '''\n",
    "    SELECT EXTRACT(YEAR FROM b.publication_date)::int AS year,\n",
    "            COUNT(DISTINCT p.publisher_id) AS cnt_publishers,\n",
    "            COUNT(b.book_id) AS cnt_books,\n",
    "            (SUM(b.num_pages))/1000.0 AS sum_pages_1000\n",
    "    FROM books b LEFT JOIN publishers p ON b.publisher_id = p.publisher_id\n",
    "    GROUP BY EXTRACT(YEAR FROM b.publication_date)\n",
    "    HAVING COUNT(b.book_id) > 30\n",
    "    ORDER BY year\n",
    "                        \n",
    "'''\n",
    "show(dop)"
   ]
  },
  {
   "cell_type": "markdown",
   "metadata": {},
   "source": [
    "В полученной таблице представлено 9 лет, период которых соствил с 1999 по 2007, в которых издано более 30 книг. Больше всего разных издательств, выпустивших книг в один год было в 2006 - 109 издательств, количество книг выпущенных в этот год составило 184 штуки, суммарное количество страниц в этих книгах превыстило 68 тысяч."
   ]
  },
  {
   "cell_type": "markdown",
   "metadata": {},
   "source": [
    "**Вывод:** \n",
    "\n",
    "Среди самых востребованных произведений представлены книги, ставшие за последние десятилетия классикой жанров (такие как Сумерки и Гарри Поттер). Популярность книги поддерживается большим количеством обзоров/отзывов на нее. Также стоит отметить, что самыми популярными авторами являются или писатели бестселлеров, или классики.\n",
    "\n",
    "**Рекомендации для стартапа:** \n",
    "\n",
    "- Проанализировать более актуальные данные. \n",
    "- Сделать акцент на самых популярных произваедениях. При этом не стоит забывать о создании запоминающегося образа сервиса, возможно следует также провести анализ востребованности новых книг, имеющих высокие рейтинги, но у которых недостаточно отзывов.\n",
    "- Для получения популярности у пользователей можно организовать акции. Для постоянных пользователей можно сделать бонусы за отзывы о произведениях. В свою очередь отзывы помогут другим пользователям определиться с желанием приобрести книги именно на этом сервисе.\n",
    "\n",
    "**Действия, которые смогут повысить интерес пользвователей к сервису (доп.анализ для стартапа):**\n",
    "\n",
    "- Рассмотреть популярность в разрезе одиночных книг и серий.\n",
    "- Определить, какие жанры более востребованы, и на основе этого обратить внимание на издательства, с которыми можно организовать дальнейшее взаимодействие."
   ]
  }
 ],
 "metadata": {
  "ExecuteTimeLog": [
   {
    "duration": 13123,
    "start_time": "2023-10-19T16:48:28.658Z"
   },
   {
    "duration": 3,
    "start_time": "2023-10-19T16:51:53.255Z"
   },
   {
    "duration": 279,
    "start_time": "2023-10-19T16:54:51.836Z"
   },
   {
    "duration": 131,
    "start_time": "2023-10-19T16:56:01.563Z"
   },
   {
    "duration": 8,
    "start_time": "2023-10-19T16:57:21.346Z"
   },
   {
    "duration": 73,
    "start_time": "2023-10-19T16:57:27.853Z"
   },
   {
    "duration": 73,
    "start_time": "2023-10-19T16:59:23.714Z"
   },
   {
    "duration": 70,
    "start_time": "2023-10-19T16:59:58.682Z"
   },
   {
    "duration": 76,
    "start_time": "2023-10-19T17:00:18.512Z"
   },
   {
    "duration": 73,
    "start_time": "2023-10-19T17:00:46.338Z"
   },
   {
    "duration": 72,
    "start_time": "2023-10-19T17:01:02.067Z"
   },
   {
    "duration": 72,
    "start_time": "2023-10-19T17:08:10.479Z"
   },
   {
    "duration": 83,
    "start_time": "2023-10-19T17:09:21.727Z"
   },
   {
    "duration": 83,
    "start_time": "2023-10-19T17:13:22.764Z"
   },
   {
    "duration": 84,
    "start_time": "2023-10-19T17:13:58.773Z"
   },
   {
    "duration": 84,
    "start_time": "2023-10-19T17:15:54.083Z"
   },
   {
    "duration": 84,
    "start_time": "2023-10-19T17:16:04.751Z"
   },
   {
    "duration": 83,
    "start_time": "2023-10-19T17:17:20.604Z"
   },
   {
    "duration": 84,
    "start_time": "2023-10-19T17:17:58.498Z"
   },
   {
    "duration": 84,
    "start_time": "2023-10-19T17:18:11.264Z"
   },
   {
    "duration": 72,
    "start_time": "2023-10-19T17:19:02.355Z"
   },
   {
    "duration": 78,
    "start_time": "2023-10-19T17:21:04.823Z"
   },
   {
    "duration": 219,
    "start_time": "2023-10-19T17:25:30.139Z"
   },
   {
    "duration": 329,
    "start_time": "2023-10-19T17:26:05.530Z"
   },
   {
    "duration": 79,
    "start_time": "2023-10-19T17:26:25.099Z"
   },
   {
    "duration": 183,
    "start_time": "2023-10-19T17:28:44.707Z"
   },
   {
    "duration": 172,
    "start_time": "2023-10-19T17:28:50.405Z"
   },
   {
    "duration": 82,
    "start_time": "2023-10-19T17:28:59.114Z"
   },
   {
    "duration": 84,
    "start_time": "2023-10-19T17:29:53.826Z"
   },
   {
    "duration": 83,
    "start_time": "2023-10-19T17:32:11.513Z"
   },
   {
    "duration": 86,
    "start_time": "2023-10-19T17:33:35.738Z"
   },
   {
    "duration": 75,
    "start_time": "2023-10-19T17:34:15.012Z"
   },
   {
    "duration": 76,
    "start_time": "2023-10-19T17:34:40.469Z"
   },
   {
    "duration": 75,
    "start_time": "2023-10-19T17:36:05.513Z"
   },
   {
    "duration": 183,
    "start_time": "2023-10-19T17:37:45.174Z"
   },
   {
    "duration": 74,
    "start_time": "2023-10-19T17:37:54.380Z"
   },
   {
    "duration": 74,
    "start_time": "2023-10-19T17:40:50.592Z"
   },
   {
    "duration": 75,
    "start_time": "2023-10-19T17:42:28.854Z"
   },
   {
    "duration": 75,
    "start_time": "2023-10-19T17:43:05.626Z"
   },
   {
    "duration": 74,
    "start_time": "2023-10-19T17:43:45.233Z"
   },
   {
    "duration": 75,
    "start_time": "2023-10-19T17:47:34.793Z"
   },
   {
    "duration": 74,
    "start_time": "2023-10-19T17:48:26.520Z"
   },
   {
    "duration": 72,
    "start_time": "2023-10-19T17:48:49.134Z"
   },
   {
    "duration": 73,
    "start_time": "2023-10-19T17:49:06.144Z"
   },
   {
    "duration": 74,
    "start_time": "2023-10-19T17:49:14.608Z"
   },
   {
    "duration": 74,
    "start_time": "2023-10-19T17:49:40.549Z"
   },
   {
    "duration": 74,
    "start_time": "2023-10-19T17:50:32.741Z"
   },
   {
    "duration": 186,
    "start_time": "2023-10-19T17:53:22.742Z"
   },
   {
    "duration": 168,
    "start_time": "2023-10-19T17:53:54.200Z"
   },
   {
    "duration": 482,
    "start_time": "2023-10-19T17:54:25.594Z"
   },
   {
    "duration": 173,
    "start_time": "2023-10-19T17:54:43.486Z"
   },
   {
    "duration": 73,
    "start_time": "2023-10-19T17:55:04.038Z"
   },
   {
    "duration": 4,
    "start_time": "2023-10-19T17:59:50.210Z"
   },
   {
    "duration": 5,
    "start_time": "2023-10-19T18:00:00.951Z"
   },
   {
    "duration": 4,
    "start_time": "2023-10-19T18:00:37.767Z"
   },
   {
    "duration": 257,
    "start_time": "2023-10-19T18:31:22.067Z"
   },
   {
    "duration": 79,
    "start_time": "2023-10-19T18:31:32.799Z"
   },
   {
    "duration": 10581,
    "start_time": "2023-10-19T18:34:23.542Z"
   },
   {
    "duration": 3,
    "start_time": "2023-10-19T18:34:34.125Z"
   },
   {
    "duration": 26,
    "start_time": "2023-10-19T18:34:34.129Z"
   },
   {
    "duration": 254,
    "start_time": "2023-10-19T18:34:34.156Z"
   },
   {
    "duration": 72,
    "start_time": "2023-10-19T18:34:34.412Z"
   },
   {
    "duration": 71,
    "start_time": "2023-10-19T18:34:34.486Z"
   },
   {
    "duration": 72,
    "start_time": "2023-10-19T18:34:34.559Z"
   },
   {
    "duration": 72,
    "start_time": "2023-10-19T18:34:34.632Z"
   },
   {
    "duration": 70,
    "start_time": "2023-10-19T18:34:34.705Z"
   },
   {
    "duration": 83,
    "start_time": "2023-10-19T18:34:34.777Z"
   },
   {
    "duration": 72,
    "start_time": "2023-10-19T18:34:34.862Z"
   },
   {
    "duration": 77,
    "start_time": "2023-10-19T18:34:34.936Z"
   },
   {
    "duration": 74,
    "start_time": "2023-10-19T18:34:35.014Z"
   },
   {
    "duration": 18633,
    "start_time": "2023-10-20T04:36:53.837Z"
   },
   {
    "duration": 3,
    "start_time": "2023-10-20T04:37:12.472Z"
   },
   {
    "duration": 68,
    "start_time": "2023-10-20T04:37:12.477Z"
   },
   {
    "duration": 309,
    "start_time": "2023-10-20T04:37:12.548Z"
   },
   {
    "duration": 74,
    "start_time": "2023-10-20T04:37:12.860Z"
   },
   {
    "duration": 79,
    "start_time": "2023-10-20T04:37:12.935Z"
   },
   {
    "duration": 77,
    "start_time": "2023-10-20T04:37:13.017Z"
   },
   {
    "duration": 72,
    "start_time": "2023-10-20T04:37:13.096Z"
   },
   {
    "duration": 74,
    "start_time": "2023-10-20T04:37:13.170Z"
   },
   {
    "duration": 89,
    "start_time": "2023-10-20T04:37:13.246Z"
   },
   {
    "duration": 83,
    "start_time": "2023-10-20T04:37:13.337Z"
   },
   {
    "duration": 83,
    "start_time": "2023-10-20T04:37:13.423Z"
   },
   {
    "duration": 77,
    "start_time": "2023-10-20T04:37:13.509Z"
   },
   {
    "duration": 112,
    "start_time": "2023-10-20T04:40:55.583Z"
   },
   {
    "duration": 84,
    "start_time": "2023-10-20T04:40:57.776Z"
   },
   {
    "duration": 81,
    "start_time": "2023-10-20T04:41:51.721Z"
   },
   {
    "duration": 80,
    "start_time": "2023-10-20T04:41:58.338Z"
   },
   {
    "duration": 80,
    "start_time": "2023-10-20T04:42:01.873Z"
   },
   {
    "duration": 79,
    "start_time": "2023-10-20T04:42:05.985Z"
   },
   {
    "duration": 550,
    "start_time": "2023-10-20T04:52:28.465Z"
   },
   {
    "duration": 11030,
    "start_time": "2023-10-20T04:52:35.775Z"
   },
   {
    "duration": 5,
    "start_time": "2023-10-20T04:53:35.086Z"
   },
   {
    "duration": 74,
    "start_time": "2023-10-20T04:53:37.720Z"
   },
   {
    "duration": 3,
    "start_time": "2023-10-20T04:54:26.470Z"
   },
   {
    "duration": 8,
    "start_time": "2023-10-20T04:54:29.559Z"
   },
   {
    "duration": 268,
    "start_time": "2023-10-20T04:54:31.990Z"
   },
   {
    "duration": 77,
    "start_time": "2023-10-20T04:54:33.607Z"
   },
   {
    "duration": 75,
    "start_time": "2023-10-20T04:54:36.286Z"
   },
   {
    "duration": 87,
    "start_time": "2023-10-20T04:54:38.210Z"
   },
   {
    "duration": 78,
    "start_time": "2023-10-20T04:54:39.655Z"
   },
   {
    "duration": 73,
    "start_time": "2023-10-20T04:54:46.493Z"
   },
   {
    "duration": 114,
    "start_time": "2023-10-20T04:55:00.038Z"
   },
   {
    "duration": 83,
    "start_time": "2023-10-20T04:57:30.278Z"
   },
   {
    "duration": 78,
    "start_time": "2023-10-20T04:57:38.477Z"
   },
   {
    "duration": 4,
    "start_time": "2023-10-20T05:00:38.863Z"
   },
   {
    "duration": 233,
    "start_time": "2023-10-20T05:04:36.284Z"
   },
   {
    "duration": 185,
    "start_time": "2023-10-20T05:04:58.660Z"
   },
   {
    "duration": 87,
    "start_time": "2023-10-20T05:05:08.556Z"
   },
   {
    "duration": 81,
    "start_time": "2023-10-20T05:07:01.439Z"
   },
   {
    "duration": 77,
    "start_time": "2023-10-20T05:11:04.716Z"
   },
   {
    "duration": 180,
    "start_time": "2023-10-20T05:11:46.266Z"
   },
   {
    "duration": 77,
    "start_time": "2023-10-20T05:11:56.586Z"
   },
   {
    "duration": 76,
    "start_time": "2023-10-20T05:12:19.673Z"
   },
   {
    "duration": 173,
    "start_time": "2023-10-20T05:15:24.997Z"
   },
   {
    "duration": 76,
    "start_time": "2023-10-20T05:15:33.977Z"
   },
   {
    "duration": 169,
    "start_time": "2023-10-20T05:16:23.121Z"
   },
   {
    "duration": 78,
    "start_time": "2023-10-20T05:16:33.201Z"
   },
   {
    "duration": 79,
    "start_time": "2023-10-20T05:16:54.497Z"
   },
   {
    "duration": 78,
    "start_time": "2023-10-20T05:18:07.000Z"
   },
   {
    "duration": 75,
    "start_time": "2023-10-20T05:20:28.374Z"
   },
   {
    "duration": 183,
    "start_time": "2023-10-20T05:28:56.495Z"
   },
   {
    "duration": 80,
    "start_time": "2023-10-20T05:29:21.831Z"
   },
   {
    "duration": 76,
    "start_time": "2023-10-20T05:35:19.766Z"
   },
   {
    "duration": 76,
    "start_time": "2023-10-20T05:37:05.030Z"
   },
   {
    "duration": 77,
    "start_time": "2023-10-20T05:37:16.557Z"
   },
   {
    "duration": 82,
    "start_time": "2023-10-20T05:37:28.629Z"
   },
   {
    "duration": 216,
    "start_time": "2023-10-20T05:37:57.397Z"
   },
   {
    "duration": 78,
    "start_time": "2023-10-20T05:38:12.646Z"
   },
   {
    "duration": 77,
    "start_time": "2023-10-20T05:39:07.325Z"
   },
   {
    "duration": 77,
    "start_time": "2023-10-20T05:39:17.573Z"
   },
   {
    "duration": 78,
    "start_time": "2023-10-20T05:42:56.261Z"
   },
   {
    "duration": 78,
    "start_time": "2023-10-20T05:46:48.204Z"
   },
   {
    "duration": 174,
    "start_time": "2023-10-20T05:54:56.122Z"
   },
   {
    "duration": 79,
    "start_time": "2023-10-20T05:55:01.922Z"
   },
   {
    "duration": 169,
    "start_time": "2023-10-20T06:04:34.011Z"
   },
   {
    "duration": 193,
    "start_time": "2023-10-20T06:07:03.346Z"
   },
   {
    "duration": 156,
    "start_time": "2023-10-20T06:08:06.188Z"
   },
   {
    "duration": 168,
    "start_time": "2023-10-20T06:08:28.132Z"
   },
   {
    "duration": 77,
    "start_time": "2023-10-20T06:08:51.651Z"
   },
   {
    "duration": 181,
    "start_time": "2023-10-20T06:09:21.506Z"
   },
   {
    "duration": 222,
    "start_time": "2023-10-20T06:09:31.389Z"
   },
   {
    "duration": 80,
    "start_time": "2023-10-20T06:09:59.099Z"
   },
   {
    "duration": 227,
    "start_time": "2023-10-20T06:11:37.507Z"
   },
   {
    "duration": 164,
    "start_time": "2023-10-20T06:12:03.267Z"
   },
   {
    "duration": 237,
    "start_time": "2023-10-20T06:12:15.170Z"
   },
   {
    "duration": 78,
    "start_time": "2023-10-20T06:12:56.167Z"
   },
   {
    "duration": 3,
    "start_time": "2023-10-20T06:25:31.927Z"
   },
   {
    "duration": 3,
    "start_time": "2023-10-20T06:25:33.440Z"
   },
   {
    "duration": 382,
    "start_time": "2023-10-20T06:25:38.984Z"
   },
   {
    "duration": 507,
    "start_time": "2023-10-20T06:58:39.533Z"
   },
   {
    "duration": 9352,
    "start_time": "2023-10-20T06:58:40.042Z"
   },
   {
    "duration": 4,
    "start_time": "2023-10-20T06:58:49.396Z"
   },
   {
    "duration": 37,
    "start_time": "2023-10-20T06:58:49.403Z"
   },
   {
    "duration": 297,
    "start_time": "2023-10-20T06:58:49.442Z"
   },
   {
    "duration": 75,
    "start_time": "2023-10-20T06:58:49.741Z"
   },
   {
    "duration": 74,
    "start_time": "2023-10-20T06:58:49.818Z"
   },
   {
    "duration": 74,
    "start_time": "2023-10-20T06:58:49.894Z"
   },
   {
    "duration": 75,
    "start_time": "2023-10-20T06:58:49.970Z"
   },
   {
    "duration": 73,
    "start_time": "2023-10-20T06:58:50.047Z"
   },
   {
    "duration": 200,
    "start_time": "2023-10-20T06:58:50.122Z"
   },
   {
    "duration": 74,
    "start_time": "2023-10-20T06:58:50.324Z"
   },
   {
    "duration": 81,
    "start_time": "2023-10-20T06:58:50.400Z"
   },
   {
    "duration": 77,
    "start_time": "2023-10-20T06:58:50.482Z"
   },
   {
    "duration": 4,
    "start_time": "2023-10-20T06:58:50.560Z"
   },
   {
    "duration": 136,
    "start_time": "2023-10-20T06:58:50.566Z"
   },
   {
    "duration": 547,
    "start_time": "2023-10-20T11:48:52.365Z"
   },
   {
    "duration": 12099,
    "start_time": "2023-10-20T11:48:52.914Z"
   },
   {
    "duration": 3,
    "start_time": "2023-10-20T11:49:05.015Z"
   },
   {
    "duration": 37,
    "start_time": "2023-10-20T11:49:05.021Z"
   },
   {
    "duration": 62,
    "start_time": "2023-10-20T11:49:05.061Z"
   },
   {
    "duration": 10,
    "start_time": "2023-10-20T11:49:05.125Z"
   },
   {
    "duration": 32,
    "start_time": "2023-10-20T11:49:05.136Z"
   },
   {
    "duration": 17,
    "start_time": "2023-10-20T11:49:05.170Z"
   },
   {
    "duration": 28,
    "start_time": "2023-10-20T11:49:05.189Z"
   },
   {
    "duration": 11,
    "start_time": "2023-10-20T11:49:05.219Z"
   },
   {
    "duration": 157,
    "start_time": "2023-10-20T11:49:05.231Z"
   },
   {
    "duration": 13,
    "start_time": "2023-10-20T11:49:05.390Z"
   },
   {
    "duration": 17,
    "start_time": "2023-10-20T11:49:05.405Z"
   },
   {
    "duration": 12,
    "start_time": "2023-10-20T11:49:05.424Z"
   },
   {
    "duration": 15,
    "start_time": "2023-10-20T11:49:05.444Z"
   },
   {
    "duration": 27,
    "start_time": "2023-10-20T11:49:05.461Z"
   },
   {
    "duration": 14,
    "start_time": "2023-10-20T11:51:03.158Z"
   }
  ],
  "kernelspec": {
   "display_name": "Python 3 (ipykernel)",
   "language": "python",
   "name": "python3"
  },
  "language_info": {
   "codemirror_mode": {
    "name": "ipython",
    "version": 3
   },
   "file_extension": ".py",
   "mimetype": "text/x-python",
   "name": "python",
   "nbconvert_exporter": "python",
   "pygments_lexer": "ipython3",
   "version": "3.10.9"
  },
  "toc": {
   "base_numbering": 1,
   "nav_menu": {},
   "number_sections": true,
   "sideBar": true,
   "skip_h1_title": true,
   "title_cell": "Table of Contents",
   "title_sidebar": "Contents",
   "toc_cell": false,
   "toc_position": {},
   "toc_section_display": true,
   "toc_window_display": false
  }
 },
 "nbformat": 4,
 "nbformat_minor": 2
}
