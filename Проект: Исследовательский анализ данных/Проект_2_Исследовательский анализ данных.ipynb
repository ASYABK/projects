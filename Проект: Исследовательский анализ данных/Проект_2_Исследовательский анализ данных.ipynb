{
 "cells": [
  {
   "cell_type": "markdown",
   "metadata": {},
   "source": [
    "# Исследование объявлений о продаже квартир\n",
    "\n",
    "Для анализа имеется архив объявлений о продаже квартир в Санкт-Петербурге и соседних населённых пунктов за несколько лет. Нужно научиться определять рыночную стоимость объектов недвижимости. Основная задача — установить параметры. Это позволит построить автоматизированную систему: она отследит аномалии и мошенническую деятельность. \n",
    "\n",
    "По каждой квартире на продажу доступны два вида данных. Первые вписаны пользователем, вторые — получены автоматически на основе картографических данных. Например, расстояние до центра, аэропорта, ближайшего парка и водоёма. "
   ]
  },
  {
   "cell_type": "markdown",
   "metadata": {},
   "source": [
    "### Откроем файл с данными и изучим общую информацию. "
   ]
  },
  {
   "cell_type": "code",
   "execution_count": 1,
   "metadata": {},
   "outputs": [],
   "source": [
    "#Импортируем библиотеки\n",
    "import pandas as pd"
   ]
  },
  {
   "cell_type": "code",
   "execution_count": 2,
   "metadata": {},
   "outputs": [
    {
     "ename": "FileNotFoundError",
     "evalue": "[Errno 2] No such file or directory: 'real_estate_data.csv'",
     "output_type": "error",
     "traceback": [
      "\u001b[1;31m---------------------------------------------------------------------------\u001b[0m",
      "\u001b[1;31mFileNotFoundError\u001b[0m                         Traceback (most recent call last)",
      "Cell \u001b[1;32mIn[2], line 3\u001b[0m\n\u001b[0;32m      2\u001b[0m \u001b[38;5;28;01mtry\u001b[39;00m:\n\u001b[1;32m----> 3\u001b[0m     data \u001b[38;5;241m=\u001b[39m \u001b[43mpd\u001b[49m\u001b[38;5;241;43m.\u001b[39;49m\u001b[43mread_csv\u001b[49m\u001b[43m(\u001b[49m\u001b[38;5;124;43m'\u001b[39;49m\u001b[38;5;124;43m/datasets/real_estate_data.csv\u001b[39;49m\u001b[38;5;124;43m'\u001b[39;49m\u001b[43m,\u001b[49m\u001b[43m \u001b[49m\u001b[43msep\u001b[49m\u001b[38;5;241;43m=\u001b[39;49m\u001b[38;5;124;43m'\u001b[39;49m\u001b[38;5;130;43;01m\\t\u001b[39;49;00m\u001b[38;5;124;43m'\u001b[39;49m\u001b[43m)\u001b[49m\n\u001b[0;32m      4\u001b[0m \u001b[38;5;28;01mexcept\u001b[39;00m:\n",
      "File \u001b[1;32mE:\\anaconda jupyter\\conda\\lib\\site-packages\\pandas\\util\\_decorators.py:211\u001b[0m, in \u001b[0;36mdeprecate_kwarg.<locals>._deprecate_kwarg.<locals>.wrapper\u001b[1;34m(*args, **kwargs)\u001b[0m\n\u001b[0;32m    210\u001b[0m         kwargs[new_arg_name] \u001b[38;5;241m=\u001b[39m new_arg_value\n\u001b[1;32m--> 211\u001b[0m \u001b[38;5;28;01mreturn\u001b[39;00m func(\u001b[38;5;241m*\u001b[39margs, \u001b[38;5;241m*\u001b[39m\u001b[38;5;241m*\u001b[39mkwargs)\n",
      "File \u001b[1;32mE:\\anaconda jupyter\\conda\\lib\\site-packages\\pandas\\util\\_decorators.py:331\u001b[0m, in \u001b[0;36mdeprecate_nonkeyword_arguments.<locals>.decorate.<locals>.wrapper\u001b[1;34m(*args, **kwargs)\u001b[0m\n\u001b[0;32m    326\u001b[0m     warnings\u001b[38;5;241m.\u001b[39mwarn(\n\u001b[0;32m    327\u001b[0m         msg\u001b[38;5;241m.\u001b[39mformat(arguments\u001b[38;5;241m=\u001b[39m_format_argument_list(allow_args)),\n\u001b[0;32m    328\u001b[0m         \u001b[38;5;167;01mFutureWarning\u001b[39;00m,\n\u001b[0;32m    329\u001b[0m         stacklevel\u001b[38;5;241m=\u001b[39mfind_stack_level(),\n\u001b[0;32m    330\u001b[0m     )\n\u001b[1;32m--> 331\u001b[0m \u001b[38;5;28;01mreturn\u001b[39;00m func(\u001b[38;5;241m*\u001b[39margs, \u001b[38;5;241m*\u001b[39m\u001b[38;5;241m*\u001b[39mkwargs)\n",
      "File \u001b[1;32mE:\\anaconda jupyter\\conda\\lib\\site-packages\\pandas\\io\\parsers\\readers.py:950\u001b[0m, in \u001b[0;36mread_csv\u001b[1;34m(filepath_or_buffer, sep, delimiter, header, names, index_col, usecols, squeeze, prefix, mangle_dupe_cols, dtype, engine, converters, true_values, false_values, skipinitialspace, skiprows, skipfooter, nrows, na_values, keep_default_na, na_filter, verbose, skip_blank_lines, parse_dates, infer_datetime_format, keep_date_col, date_parser, dayfirst, cache_dates, iterator, chunksize, compression, thousands, decimal, lineterminator, quotechar, quoting, doublequote, escapechar, comment, encoding, encoding_errors, dialect, error_bad_lines, warn_bad_lines, on_bad_lines, delim_whitespace, low_memory, memory_map, float_precision, storage_options)\u001b[0m\n\u001b[0;32m    948\u001b[0m kwds\u001b[38;5;241m.\u001b[39mupdate(kwds_defaults)\n\u001b[1;32m--> 950\u001b[0m \u001b[38;5;28;01mreturn\u001b[39;00m \u001b[43m_read\u001b[49m\u001b[43m(\u001b[49m\u001b[43mfilepath_or_buffer\u001b[49m\u001b[43m,\u001b[49m\u001b[43m \u001b[49m\u001b[43mkwds\u001b[49m\u001b[43m)\u001b[49m\n",
      "File \u001b[1;32mE:\\anaconda jupyter\\conda\\lib\\site-packages\\pandas\\io\\parsers\\readers.py:605\u001b[0m, in \u001b[0;36m_read\u001b[1;34m(filepath_or_buffer, kwds)\u001b[0m\n\u001b[0;32m    604\u001b[0m \u001b[38;5;66;03m# Create the parser.\u001b[39;00m\n\u001b[1;32m--> 605\u001b[0m parser \u001b[38;5;241m=\u001b[39m TextFileReader(filepath_or_buffer, \u001b[38;5;241m*\u001b[39m\u001b[38;5;241m*\u001b[39mkwds)\n\u001b[0;32m    607\u001b[0m \u001b[38;5;28;01mif\u001b[39;00m chunksize \u001b[38;5;129;01mor\u001b[39;00m iterator:\n",
      "File \u001b[1;32mE:\\anaconda jupyter\\conda\\lib\\site-packages\\pandas\\io\\parsers\\readers.py:1442\u001b[0m, in \u001b[0;36mTextFileReader.__init__\u001b[1;34m(self, f, engine, **kwds)\u001b[0m\n\u001b[0;32m   1441\u001b[0m \u001b[38;5;28mself\u001b[39m\u001b[38;5;241m.\u001b[39mhandles: IOHandles \u001b[38;5;241m|\u001b[39m \u001b[38;5;28;01mNone\u001b[39;00m \u001b[38;5;241m=\u001b[39m \u001b[38;5;28;01mNone\u001b[39;00m\n\u001b[1;32m-> 1442\u001b[0m \u001b[38;5;28mself\u001b[39m\u001b[38;5;241m.\u001b[39m_engine \u001b[38;5;241m=\u001b[39m \u001b[38;5;28;43mself\u001b[39;49m\u001b[38;5;241;43m.\u001b[39;49m\u001b[43m_make_engine\u001b[49m\u001b[43m(\u001b[49m\u001b[43mf\u001b[49m\u001b[43m,\u001b[49m\u001b[43m \u001b[49m\u001b[38;5;28;43mself\u001b[39;49m\u001b[38;5;241;43m.\u001b[39;49m\u001b[43mengine\u001b[49m\u001b[43m)\u001b[49m\n",
      "File \u001b[1;32mE:\\anaconda jupyter\\conda\\lib\\site-packages\\pandas\\io\\parsers\\readers.py:1735\u001b[0m, in \u001b[0;36mTextFileReader._make_engine\u001b[1;34m(self, f, engine)\u001b[0m\n\u001b[0;32m   1734\u001b[0m         mode \u001b[38;5;241m+\u001b[39m\u001b[38;5;241m=\u001b[39m \u001b[38;5;124m\"\u001b[39m\u001b[38;5;124mb\u001b[39m\u001b[38;5;124m\"\u001b[39m\n\u001b[1;32m-> 1735\u001b[0m \u001b[38;5;28mself\u001b[39m\u001b[38;5;241m.\u001b[39mhandles \u001b[38;5;241m=\u001b[39m \u001b[43mget_handle\u001b[49m\u001b[43m(\u001b[49m\n\u001b[0;32m   1736\u001b[0m \u001b[43m    \u001b[49m\u001b[43mf\u001b[49m\u001b[43m,\u001b[49m\n\u001b[0;32m   1737\u001b[0m \u001b[43m    \u001b[49m\u001b[43mmode\u001b[49m\u001b[43m,\u001b[49m\n\u001b[0;32m   1738\u001b[0m \u001b[43m    \u001b[49m\u001b[43mencoding\u001b[49m\u001b[38;5;241;43m=\u001b[39;49m\u001b[38;5;28;43mself\u001b[39;49m\u001b[38;5;241;43m.\u001b[39;49m\u001b[43moptions\u001b[49m\u001b[38;5;241;43m.\u001b[39;49m\u001b[43mget\u001b[49m\u001b[43m(\u001b[49m\u001b[38;5;124;43m\"\u001b[39;49m\u001b[38;5;124;43mencoding\u001b[39;49m\u001b[38;5;124;43m\"\u001b[39;49m\u001b[43m,\u001b[49m\u001b[43m \u001b[49m\u001b[38;5;28;43;01mNone\u001b[39;49;00m\u001b[43m)\u001b[49m\u001b[43m,\u001b[49m\n\u001b[0;32m   1739\u001b[0m \u001b[43m    \u001b[49m\u001b[43mcompression\u001b[49m\u001b[38;5;241;43m=\u001b[39;49m\u001b[38;5;28;43mself\u001b[39;49m\u001b[38;5;241;43m.\u001b[39;49m\u001b[43moptions\u001b[49m\u001b[38;5;241;43m.\u001b[39;49m\u001b[43mget\u001b[49m\u001b[43m(\u001b[49m\u001b[38;5;124;43m\"\u001b[39;49m\u001b[38;5;124;43mcompression\u001b[39;49m\u001b[38;5;124;43m\"\u001b[39;49m\u001b[43m,\u001b[49m\u001b[43m \u001b[49m\u001b[38;5;28;43;01mNone\u001b[39;49;00m\u001b[43m)\u001b[49m\u001b[43m,\u001b[49m\n\u001b[0;32m   1740\u001b[0m \u001b[43m    \u001b[49m\u001b[43mmemory_map\u001b[49m\u001b[38;5;241;43m=\u001b[39;49m\u001b[38;5;28;43mself\u001b[39;49m\u001b[38;5;241;43m.\u001b[39;49m\u001b[43moptions\u001b[49m\u001b[38;5;241;43m.\u001b[39;49m\u001b[43mget\u001b[49m\u001b[43m(\u001b[49m\u001b[38;5;124;43m\"\u001b[39;49m\u001b[38;5;124;43mmemory_map\u001b[39;49m\u001b[38;5;124;43m\"\u001b[39;49m\u001b[43m,\u001b[49m\u001b[43m \u001b[49m\u001b[38;5;28;43;01mFalse\u001b[39;49;00m\u001b[43m)\u001b[49m\u001b[43m,\u001b[49m\n\u001b[0;32m   1741\u001b[0m \u001b[43m    \u001b[49m\u001b[43mis_text\u001b[49m\u001b[38;5;241;43m=\u001b[39;49m\u001b[43mis_text\u001b[49m\u001b[43m,\u001b[49m\n\u001b[0;32m   1742\u001b[0m \u001b[43m    \u001b[49m\u001b[43merrors\u001b[49m\u001b[38;5;241;43m=\u001b[39;49m\u001b[38;5;28;43mself\u001b[39;49m\u001b[38;5;241;43m.\u001b[39;49m\u001b[43moptions\u001b[49m\u001b[38;5;241;43m.\u001b[39;49m\u001b[43mget\u001b[49m\u001b[43m(\u001b[49m\u001b[38;5;124;43m\"\u001b[39;49m\u001b[38;5;124;43mencoding_errors\u001b[39;49m\u001b[38;5;124;43m\"\u001b[39;49m\u001b[43m,\u001b[49m\u001b[43m \u001b[49m\u001b[38;5;124;43m\"\u001b[39;49m\u001b[38;5;124;43mstrict\u001b[39;49m\u001b[38;5;124;43m\"\u001b[39;49m\u001b[43m)\u001b[49m\u001b[43m,\u001b[49m\n\u001b[0;32m   1743\u001b[0m \u001b[43m    \u001b[49m\u001b[43mstorage_options\u001b[49m\u001b[38;5;241;43m=\u001b[39;49m\u001b[38;5;28;43mself\u001b[39;49m\u001b[38;5;241;43m.\u001b[39;49m\u001b[43moptions\u001b[49m\u001b[38;5;241;43m.\u001b[39;49m\u001b[43mget\u001b[49m\u001b[43m(\u001b[49m\u001b[38;5;124;43m\"\u001b[39;49m\u001b[38;5;124;43mstorage_options\u001b[39;49m\u001b[38;5;124;43m\"\u001b[39;49m\u001b[43m,\u001b[49m\u001b[43m \u001b[49m\u001b[38;5;28;43;01mNone\u001b[39;49;00m\u001b[43m)\u001b[49m\u001b[43m,\u001b[49m\n\u001b[0;32m   1744\u001b[0m \u001b[43m\u001b[49m\u001b[43m)\u001b[49m\n\u001b[0;32m   1745\u001b[0m \u001b[38;5;28;01massert\u001b[39;00m \u001b[38;5;28mself\u001b[39m\u001b[38;5;241m.\u001b[39mhandles \u001b[38;5;129;01mis\u001b[39;00m \u001b[38;5;129;01mnot\u001b[39;00m \u001b[38;5;28;01mNone\u001b[39;00m\n",
      "File \u001b[1;32mE:\\anaconda jupyter\\conda\\lib\\site-packages\\pandas\\io\\common.py:856\u001b[0m, in \u001b[0;36mget_handle\u001b[1;34m(path_or_buf, mode, encoding, compression, memory_map, is_text, errors, storage_options)\u001b[0m\n\u001b[0;32m    854\u001b[0m \u001b[38;5;28;01mif\u001b[39;00m ioargs\u001b[38;5;241m.\u001b[39mencoding \u001b[38;5;129;01mand\u001b[39;00m \u001b[38;5;124m\"\u001b[39m\u001b[38;5;124mb\u001b[39m\u001b[38;5;124m\"\u001b[39m \u001b[38;5;129;01mnot\u001b[39;00m \u001b[38;5;129;01min\u001b[39;00m ioargs\u001b[38;5;241m.\u001b[39mmode:\n\u001b[0;32m    855\u001b[0m     \u001b[38;5;66;03m# Encoding\u001b[39;00m\n\u001b[1;32m--> 856\u001b[0m     handle \u001b[38;5;241m=\u001b[39m \u001b[38;5;28;43mopen\u001b[39;49m\u001b[43m(\u001b[49m\n\u001b[0;32m    857\u001b[0m \u001b[43m        \u001b[49m\u001b[43mhandle\u001b[49m\u001b[43m,\u001b[49m\n\u001b[0;32m    858\u001b[0m \u001b[43m        \u001b[49m\u001b[43mioargs\u001b[49m\u001b[38;5;241;43m.\u001b[39;49m\u001b[43mmode\u001b[49m\u001b[43m,\u001b[49m\n\u001b[0;32m    859\u001b[0m \u001b[43m        \u001b[49m\u001b[43mencoding\u001b[49m\u001b[38;5;241;43m=\u001b[39;49m\u001b[43mioargs\u001b[49m\u001b[38;5;241;43m.\u001b[39;49m\u001b[43mencoding\u001b[49m\u001b[43m,\u001b[49m\n\u001b[0;32m    860\u001b[0m \u001b[43m        \u001b[49m\u001b[43merrors\u001b[49m\u001b[38;5;241;43m=\u001b[39;49m\u001b[43merrors\u001b[49m\u001b[43m,\u001b[49m\n\u001b[0;32m    861\u001b[0m \u001b[43m        \u001b[49m\u001b[43mnewline\u001b[49m\u001b[38;5;241;43m=\u001b[39;49m\u001b[38;5;124;43m\"\u001b[39;49m\u001b[38;5;124;43m\"\u001b[39;49m\u001b[43m,\u001b[49m\n\u001b[0;32m    862\u001b[0m \u001b[43m    \u001b[49m\u001b[43m)\u001b[49m\n\u001b[0;32m    863\u001b[0m \u001b[38;5;28;01melse\u001b[39;00m:\n\u001b[0;32m    864\u001b[0m     \u001b[38;5;66;03m# Binary mode\u001b[39;00m\n",
      "\u001b[1;31mFileNotFoundError\u001b[0m: [Errno 2] No such file or directory: '/datasets/real_estate_data.csv'",
      "\nDuring handling of the above exception, another exception occurred:\n",
      "\u001b[1;31mFileNotFoundError\u001b[0m                         Traceback (most recent call last)",
      "Cell \u001b[1;32mIn[2], line 5\u001b[0m\n\u001b[0;32m      3\u001b[0m     data \u001b[38;5;241m=\u001b[39m pd\u001b[38;5;241m.\u001b[39mread_csv(\u001b[38;5;124m'\u001b[39m\u001b[38;5;124m/datasets/real_estate_data.csv\u001b[39m\u001b[38;5;124m'\u001b[39m, sep\u001b[38;5;241m=\u001b[39m\u001b[38;5;124m'\u001b[39m\u001b[38;5;130;01m\\t\u001b[39;00m\u001b[38;5;124m'\u001b[39m)\n\u001b[0;32m      4\u001b[0m \u001b[38;5;28;01mexcept\u001b[39;00m:\n\u001b[1;32m----> 5\u001b[0m     data \u001b[38;5;241m=\u001b[39m \u001b[43mpd\u001b[49m\u001b[38;5;241;43m.\u001b[39;49m\u001b[43mread_csv\u001b[49m\u001b[43m(\u001b[49m\u001b[38;5;124;43m'\u001b[39;49m\u001b[38;5;124;43mreal_estate_data.csv\u001b[39;49m\u001b[38;5;124;43m'\u001b[39;49m\u001b[43m,\u001b[49m\u001b[43m \u001b[49m\u001b[43msep\u001b[49m\u001b[38;5;241;43m=\u001b[39;49m\u001b[38;5;124;43m'\u001b[39;49m\u001b[38;5;130;43;01m\\t\u001b[39;49;00m\u001b[38;5;124;43m'\u001b[39;49m\u001b[43m)\u001b[49m\n",
      "File \u001b[1;32mE:\\anaconda jupyter\\conda\\lib\\site-packages\\pandas\\util\\_decorators.py:211\u001b[0m, in \u001b[0;36mdeprecate_kwarg.<locals>._deprecate_kwarg.<locals>.wrapper\u001b[1;34m(*args, **kwargs)\u001b[0m\n\u001b[0;32m    209\u001b[0m     \u001b[38;5;28;01melse\u001b[39;00m:\n\u001b[0;32m    210\u001b[0m         kwargs[new_arg_name] \u001b[38;5;241m=\u001b[39m new_arg_value\n\u001b[1;32m--> 211\u001b[0m \u001b[38;5;28;01mreturn\u001b[39;00m func(\u001b[38;5;241m*\u001b[39margs, \u001b[38;5;241m*\u001b[39m\u001b[38;5;241m*\u001b[39mkwargs)\n",
      "File \u001b[1;32mE:\\anaconda jupyter\\conda\\lib\\site-packages\\pandas\\util\\_decorators.py:331\u001b[0m, in \u001b[0;36mdeprecate_nonkeyword_arguments.<locals>.decorate.<locals>.wrapper\u001b[1;34m(*args, **kwargs)\u001b[0m\n\u001b[0;32m    325\u001b[0m \u001b[38;5;28;01mif\u001b[39;00m \u001b[38;5;28mlen\u001b[39m(args) \u001b[38;5;241m>\u001b[39m num_allow_args:\n\u001b[0;32m    326\u001b[0m     warnings\u001b[38;5;241m.\u001b[39mwarn(\n\u001b[0;32m    327\u001b[0m         msg\u001b[38;5;241m.\u001b[39mformat(arguments\u001b[38;5;241m=\u001b[39m_format_argument_list(allow_args)),\n\u001b[0;32m    328\u001b[0m         \u001b[38;5;167;01mFutureWarning\u001b[39;00m,\n\u001b[0;32m    329\u001b[0m         stacklevel\u001b[38;5;241m=\u001b[39mfind_stack_level(),\n\u001b[0;32m    330\u001b[0m     )\n\u001b[1;32m--> 331\u001b[0m \u001b[38;5;28;01mreturn\u001b[39;00m func(\u001b[38;5;241m*\u001b[39margs, \u001b[38;5;241m*\u001b[39m\u001b[38;5;241m*\u001b[39mkwargs)\n",
      "File \u001b[1;32mE:\\anaconda jupyter\\conda\\lib\\site-packages\\pandas\\io\\parsers\\readers.py:950\u001b[0m, in \u001b[0;36mread_csv\u001b[1;34m(filepath_or_buffer, sep, delimiter, header, names, index_col, usecols, squeeze, prefix, mangle_dupe_cols, dtype, engine, converters, true_values, false_values, skipinitialspace, skiprows, skipfooter, nrows, na_values, keep_default_na, na_filter, verbose, skip_blank_lines, parse_dates, infer_datetime_format, keep_date_col, date_parser, dayfirst, cache_dates, iterator, chunksize, compression, thousands, decimal, lineterminator, quotechar, quoting, doublequote, escapechar, comment, encoding, encoding_errors, dialect, error_bad_lines, warn_bad_lines, on_bad_lines, delim_whitespace, low_memory, memory_map, float_precision, storage_options)\u001b[0m\n\u001b[0;32m    935\u001b[0m kwds_defaults \u001b[38;5;241m=\u001b[39m _refine_defaults_read(\n\u001b[0;32m    936\u001b[0m     dialect,\n\u001b[0;32m    937\u001b[0m     delimiter,\n\u001b[1;32m   (...)\u001b[0m\n\u001b[0;32m    946\u001b[0m     defaults\u001b[38;5;241m=\u001b[39m{\u001b[38;5;124m\"\u001b[39m\u001b[38;5;124mdelimiter\u001b[39m\u001b[38;5;124m\"\u001b[39m: \u001b[38;5;124m\"\u001b[39m\u001b[38;5;124m,\u001b[39m\u001b[38;5;124m\"\u001b[39m},\n\u001b[0;32m    947\u001b[0m )\n\u001b[0;32m    948\u001b[0m kwds\u001b[38;5;241m.\u001b[39mupdate(kwds_defaults)\n\u001b[1;32m--> 950\u001b[0m \u001b[38;5;28;01mreturn\u001b[39;00m \u001b[43m_read\u001b[49m\u001b[43m(\u001b[49m\u001b[43mfilepath_or_buffer\u001b[49m\u001b[43m,\u001b[49m\u001b[43m \u001b[49m\u001b[43mkwds\u001b[49m\u001b[43m)\u001b[49m\n",
      "File \u001b[1;32mE:\\anaconda jupyter\\conda\\lib\\site-packages\\pandas\\io\\parsers\\readers.py:605\u001b[0m, in \u001b[0;36m_read\u001b[1;34m(filepath_or_buffer, kwds)\u001b[0m\n\u001b[0;32m    602\u001b[0m _validate_names(kwds\u001b[38;5;241m.\u001b[39mget(\u001b[38;5;124m\"\u001b[39m\u001b[38;5;124mnames\u001b[39m\u001b[38;5;124m\"\u001b[39m, \u001b[38;5;28;01mNone\u001b[39;00m))\n\u001b[0;32m    604\u001b[0m \u001b[38;5;66;03m# Create the parser.\u001b[39;00m\n\u001b[1;32m--> 605\u001b[0m parser \u001b[38;5;241m=\u001b[39m TextFileReader(filepath_or_buffer, \u001b[38;5;241m*\u001b[39m\u001b[38;5;241m*\u001b[39mkwds)\n\u001b[0;32m    607\u001b[0m \u001b[38;5;28;01mif\u001b[39;00m chunksize \u001b[38;5;129;01mor\u001b[39;00m iterator:\n\u001b[0;32m    608\u001b[0m     \u001b[38;5;28;01mreturn\u001b[39;00m parser\n",
      "File \u001b[1;32mE:\\anaconda jupyter\\conda\\lib\\site-packages\\pandas\\io\\parsers\\readers.py:1442\u001b[0m, in \u001b[0;36mTextFileReader.__init__\u001b[1;34m(self, f, engine, **kwds)\u001b[0m\n\u001b[0;32m   1439\u001b[0m     \u001b[38;5;28mself\u001b[39m\u001b[38;5;241m.\u001b[39moptions[\u001b[38;5;124m\"\u001b[39m\u001b[38;5;124mhas_index_names\u001b[39m\u001b[38;5;124m\"\u001b[39m] \u001b[38;5;241m=\u001b[39m kwds[\u001b[38;5;124m\"\u001b[39m\u001b[38;5;124mhas_index_names\u001b[39m\u001b[38;5;124m\"\u001b[39m]\n\u001b[0;32m   1441\u001b[0m \u001b[38;5;28mself\u001b[39m\u001b[38;5;241m.\u001b[39mhandles: IOHandles \u001b[38;5;241m|\u001b[39m \u001b[38;5;28;01mNone\u001b[39;00m \u001b[38;5;241m=\u001b[39m \u001b[38;5;28;01mNone\u001b[39;00m\n\u001b[1;32m-> 1442\u001b[0m \u001b[38;5;28mself\u001b[39m\u001b[38;5;241m.\u001b[39m_engine \u001b[38;5;241m=\u001b[39m \u001b[38;5;28;43mself\u001b[39;49m\u001b[38;5;241;43m.\u001b[39;49m\u001b[43m_make_engine\u001b[49m\u001b[43m(\u001b[49m\u001b[43mf\u001b[49m\u001b[43m,\u001b[49m\u001b[43m \u001b[49m\u001b[38;5;28;43mself\u001b[39;49m\u001b[38;5;241;43m.\u001b[39;49m\u001b[43mengine\u001b[49m\u001b[43m)\u001b[49m\n",
      "File \u001b[1;32mE:\\anaconda jupyter\\conda\\lib\\site-packages\\pandas\\io\\parsers\\readers.py:1735\u001b[0m, in \u001b[0;36mTextFileReader._make_engine\u001b[1;34m(self, f, engine)\u001b[0m\n\u001b[0;32m   1733\u001b[0m     \u001b[38;5;28;01mif\u001b[39;00m \u001b[38;5;124m\"\u001b[39m\u001b[38;5;124mb\u001b[39m\u001b[38;5;124m\"\u001b[39m \u001b[38;5;129;01mnot\u001b[39;00m \u001b[38;5;129;01min\u001b[39;00m mode:\n\u001b[0;32m   1734\u001b[0m         mode \u001b[38;5;241m+\u001b[39m\u001b[38;5;241m=\u001b[39m \u001b[38;5;124m\"\u001b[39m\u001b[38;5;124mb\u001b[39m\u001b[38;5;124m\"\u001b[39m\n\u001b[1;32m-> 1735\u001b[0m \u001b[38;5;28mself\u001b[39m\u001b[38;5;241m.\u001b[39mhandles \u001b[38;5;241m=\u001b[39m \u001b[43mget_handle\u001b[49m\u001b[43m(\u001b[49m\n\u001b[0;32m   1736\u001b[0m \u001b[43m    \u001b[49m\u001b[43mf\u001b[49m\u001b[43m,\u001b[49m\n\u001b[0;32m   1737\u001b[0m \u001b[43m    \u001b[49m\u001b[43mmode\u001b[49m\u001b[43m,\u001b[49m\n\u001b[0;32m   1738\u001b[0m \u001b[43m    \u001b[49m\u001b[43mencoding\u001b[49m\u001b[38;5;241;43m=\u001b[39;49m\u001b[38;5;28;43mself\u001b[39;49m\u001b[38;5;241;43m.\u001b[39;49m\u001b[43moptions\u001b[49m\u001b[38;5;241;43m.\u001b[39;49m\u001b[43mget\u001b[49m\u001b[43m(\u001b[49m\u001b[38;5;124;43m\"\u001b[39;49m\u001b[38;5;124;43mencoding\u001b[39;49m\u001b[38;5;124;43m\"\u001b[39;49m\u001b[43m,\u001b[49m\u001b[43m \u001b[49m\u001b[38;5;28;43;01mNone\u001b[39;49;00m\u001b[43m)\u001b[49m\u001b[43m,\u001b[49m\n\u001b[0;32m   1739\u001b[0m \u001b[43m    \u001b[49m\u001b[43mcompression\u001b[49m\u001b[38;5;241;43m=\u001b[39;49m\u001b[38;5;28;43mself\u001b[39;49m\u001b[38;5;241;43m.\u001b[39;49m\u001b[43moptions\u001b[49m\u001b[38;5;241;43m.\u001b[39;49m\u001b[43mget\u001b[49m\u001b[43m(\u001b[49m\u001b[38;5;124;43m\"\u001b[39;49m\u001b[38;5;124;43mcompression\u001b[39;49m\u001b[38;5;124;43m\"\u001b[39;49m\u001b[43m,\u001b[49m\u001b[43m \u001b[49m\u001b[38;5;28;43;01mNone\u001b[39;49;00m\u001b[43m)\u001b[49m\u001b[43m,\u001b[49m\n\u001b[0;32m   1740\u001b[0m \u001b[43m    \u001b[49m\u001b[43mmemory_map\u001b[49m\u001b[38;5;241;43m=\u001b[39;49m\u001b[38;5;28;43mself\u001b[39;49m\u001b[38;5;241;43m.\u001b[39;49m\u001b[43moptions\u001b[49m\u001b[38;5;241;43m.\u001b[39;49m\u001b[43mget\u001b[49m\u001b[43m(\u001b[49m\u001b[38;5;124;43m\"\u001b[39;49m\u001b[38;5;124;43mmemory_map\u001b[39;49m\u001b[38;5;124;43m\"\u001b[39;49m\u001b[43m,\u001b[49m\u001b[43m \u001b[49m\u001b[38;5;28;43;01mFalse\u001b[39;49;00m\u001b[43m)\u001b[49m\u001b[43m,\u001b[49m\n\u001b[0;32m   1741\u001b[0m \u001b[43m    \u001b[49m\u001b[43mis_text\u001b[49m\u001b[38;5;241;43m=\u001b[39;49m\u001b[43mis_text\u001b[49m\u001b[43m,\u001b[49m\n\u001b[0;32m   1742\u001b[0m \u001b[43m    \u001b[49m\u001b[43merrors\u001b[49m\u001b[38;5;241;43m=\u001b[39;49m\u001b[38;5;28;43mself\u001b[39;49m\u001b[38;5;241;43m.\u001b[39;49m\u001b[43moptions\u001b[49m\u001b[38;5;241;43m.\u001b[39;49m\u001b[43mget\u001b[49m\u001b[43m(\u001b[49m\u001b[38;5;124;43m\"\u001b[39;49m\u001b[38;5;124;43mencoding_errors\u001b[39;49m\u001b[38;5;124;43m\"\u001b[39;49m\u001b[43m,\u001b[49m\u001b[43m \u001b[49m\u001b[38;5;124;43m\"\u001b[39;49m\u001b[38;5;124;43mstrict\u001b[39;49m\u001b[38;5;124;43m\"\u001b[39;49m\u001b[43m)\u001b[49m\u001b[43m,\u001b[49m\n\u001b[0;32m   1743\u001b[0m \u001b[43m    \u001b[49m\u001b[43mstorage_options\u001b[49m\u001b[38;5;241;43m=\u001b[39;49m\u001b[38;5;28;43mself\u001b[39;49m\u001b[38;5;241;43m.\u001b[39;49m\u001b[43moptions\u001b[49m\u001b[38;5;241;43m.\u001b[39;49m\u001b[43mget\u001b[49m\u001b[43m(\u001b[49m\u001b[38;5;124;43m\"\u001b[39;49m\u001b[38;5;124;43mstorage_options\u001b[39;49m\u001b[38;5;124;43m\"\u001b[39;49m\u001b[43m,\u001b[49m\u001b[43m \u001b[49m\u001b[38;5;28;43;01mNone\u001b[39;49;00m\u001b[43m)\u001b[49m\u001b[43m,\u001b[49m\n\u001b[0;32m   1744\u001b[0m \u001b[43m\u001b[49m\u001b[43m)\u001b[49m\n\u001b[0;32m   1745\u001b[0m \u001b[38;5;28;01massert\u001b[39;00m \u001b[38;5;28mself\u001b[39m\u001b[38;5;241m.\u001b[39mhandles \u001b[38;5;129;01mis\u001b[39;00m \u001b[38;5;129;01mnot\u001b[39;00m \u001b[38;5;28;01mNone\u001b[39;00m\n\u001b[0;32m   1746\u001b[0m f \u001b[38;5;241m=\u001b[39m \u001b[38;5;28mself\u001b[39m\u001b[38;5;241m.\u001b[39mhandles\u001b[38;5;241m.\u001b[39mhandle\n",
      "File \u001b[1;32mE:\\anaconda jupyter\\conda\\lib\\site-packages\\pandas\\io\\common.py:856\u001b[0m, in \u001b[0;36mget_handle\u001b[1;34m(path_or_buf, mode, encoding, compression, memory_map, is_text, errors, storage_options)\u001b[0m\n\u001b[0;32m    851\u001b[0m \u001b[38;5;28;01melif\u001b[39;00m \u001b[38;5;28misinstance\u001b[39m(handle, \u001b[38;5;28mstr\u001b[39m):\n\u001b[0;32m    852\u001b[0m     \u001b[38;5;66;03m# Check whether the filename is to be opened in binary mode.\u001b[39;00m\n\u001b[0;32m    853\u001b[0m     \u001b[38;5;66;03m# Binary mode does not support 'encoding' and 'newline'.\u001b[39;00m\n\u001b[0;32m    854\u001b[0m     \u001b[38;5;28;01mif\u001b[39;00m ioargs\u001b[38;5;241m.\u001b[39mencoding \u001b[38;5;129;01mand\u001b[39;00m \u001b[38;5;124m\"\u001b[39m\u001b[38;5;124mb\u001b[39m\u001b[38;5;124m\"\u001b[39m \u001b[38;5;129;01mnot\u001b[39;00m \u001b[38;5;129;01min\u001b[39;00m ioargs\u001b[38;5;241m.\u001b[39mmode:\n\u001b[0;32m    855\u001b[0m         \u001b[38;5;66;03m# Encoding\u001b[39;00m\n\u001b[1;32m--> 856\u001b[0m         handle \u001b[38;5;241m=\u001b[39m \u001b[38;5;28;43mopen\u001b[39;49m\u001b[43m(\u001b[49m\n\u001b[0;32m    857\u001b[0m \u001b[43m            \u001b[49m\u001b[43mhandle\u001b[49m\u001b[43m,\u001b[49m\n\u001b[0;32m    858\u001b[0m \u001b[43m            \u001b[49m\u001b[43mioargs\u001b[49m\u001b[38;5;241;43m.\u001b[39;49m\u001b[43mmode\u001b[49m\u001b[43m,\u001b[49m\n\u001b[0;32m    859\u001b[0m \u001b[43m            \u001b[49m\u001b[43mencoding\u001b[49m\u001b[38;5;241;43m=\u001b[39;49m\u001b[43mioargs\u001b[49m\u001b[38;5;241;43m.\u001b[39;49m\u001b[43mencoding\u001b[49m\u001b[43m,\u001b[49m\n\u001b[0;32m    860\u001b[0m \u001b[43m            \u001b[49m\u001b[43merrors\u001b[49m\u001b[38;5;241;43m=\u001b[39;49m\u001b[43merrors\u001b[49m\u001b[43m,\u001b[49m\n\u001b[0;32m    861\u001b[0m \u001b[43m            \u001b[49m\u001b[43mnewline\u001b[49m\u001b[38;5;241;43m=\u001b[39;49m\u001b[38;5;124;43m\"\u001b[39;49m\u001b[38;5;124;43m\"\u001b[39;49m\u001b[43m,\u001b[49m\n\u001b[0;32m    862\u001b[0m \u001b[43m        \u001b[49m\u001b[43m)\u001b[49m\n\u001b[0;32m    863\u001b[0m     \u001b[38;5;28;01melse\u001b[39;00m:\n\u001b[0;32m    864\u001b[0m         \u001b[38;5;66;03m# Binary mode\u001b[39;00m\n\u001b[0;32m    865\u001b[0m         handle \u001b[38;5;241m=\u001b[39m \u001b[38;5;28mopen\u001b[39m(handle, ioargs\u001b[38;5;241m.\u001b[39mmode)\n",
      "\u001b[1;31mFileNotFoundError\u001b[0m: [Errno 2] No such file or directory: 'real_estate_data.csv'"
     ]
    }
   ],
   "source": [
    "#Откроем файл real_estate_data.csv\n",
    "try:\n",
    "    data = pd.read_csv('Проект: Исследовательский анализ данных/real_estate_data.csv', sep='\\t')\n",
    "except:\n",
    "    data = pd.read_csv('real_estate_data.csv', sep='\\t')"
   ]
  },
  {
   "cell_type": "code",
   "execution_count": null,
   "metadata": {},
   "outputs": [],
   "source": [
    "#Выведем первые 5 строк анализируемой таблицы\n",
    "pd.set_option('display.max_columns', None)\n",
    "data.head()"
   ]
  },
  {
   "cell_type": "code",
   "execution_count": null,
   "metadata": {},
   "outputs": [],
   "source": [
    "#Рассмотрм основную информацию\n",
    "data.info()"
   ]
  },
  {
   "cell_type": "markdown",
   "metadata": {},
   "source": [
    "На данный момент в таблице 23699 строк. \n",
    "По полученной информации можно сказать\n",
    "\n",
    "- is_apartment нужно преобразовать в тип bool, так как по нему отражена информация яляется ли недвижимость апартаментами\n",
    "- floors_total нужно преобразовать в int64\n",
    "- balcony нужно преобразовать в int64\n",
    "- parks_around3000 нужно преобразовать в тип int64\n",
    "- ponds_around3000 нужно преобразовать в тип int64\n",
    "- days_exposition нужно преобразовать в тип int64, так как количество не может быть вещественным типом данных"
   ]
  },
  {
   "cell_type": "code",
   "execution_count": null,
   "metadata": {},
   "outputs": [],
   "source": [
    "#Рассмотрим графы таблицы\n",
    "data.columns"
   ]
  },
  {
   "cell_type": "markdown",
   "metadata": {},
   "source": [
    "Расшифровка наименований граф\n",
    "\n",
    "0)   total_images -         всего изображений (фото)\n",
    "\n",
    "1)   last_price -           последняя цена\n",
    "\n",
    "2)  total_area -           общая площадь\n",
    "\n",
    "3)   first_day_exposition - день выставления на продажу\n",
    "\n",
    "4)   rooms -                количество комнат\n",
    "\n",
    "5)   ceiling_height -       высота потолка\n",
    "\n",
    "6)   floors_total -         количество этажей\n",
    "\n",
    "7)   living_area -          жилая площадь \n",
    "\n",
    "8)   floor -                этаж\n",
    "\n",
    "9)  is_apartment -         апартаменты\n",
    "\n",
    "10)  studio -               студия  \n",
    "\n",
    "11)  open_plan -            свободная планировка\n",
    "\n",
    "12)  kitchen_area -         площадь кухни\n",
    "\n",
    "13)  balcony -              число балконов\n",
    "\n",
    "14)  locality_name -        где находится \n",
    "\n",
    "15)  airports_nearest -     ближайший аэропорт (м)\n",
    "\n",
    "16)  cityCenters_nearest -  расстояние до центра (м)\n",
    "\n",
    "17)  parks_around3000 -     количество парков рядом (в пределах 3000м)\n",
    "\n",
    "18)  parks_nearest -        расстояние до парка (м)\n",
    "\n",
    "19)  ponds_around3000 -    количество озер/прудов рядом (в пределах 3000м)\n",
    "\n",
    "20)  ponds_nearest -        расстояние до озера/пруда (м)\n",
    "\n",
    "21)  days_exposition -      сколько дней висит объявление\n"
   ]
  },
  {
   "cell_type": "code",
   "execution_count": null,
   "metadata": {},
   "outputs": [],
   "source": [
    "#Построим гистограммы для всех столбцов\n",
    "data.hist(figsize=(15, 20));"
   ]
  },
  {
   "cell_type": "markdown",
   "metadata": {},
   "source": [
    "### Предобработка данных"
   ]
  },
  {
   "cell_type": "markdown",
   "metadata": {},
   "source": [
    "#### Общие сведения"
   ]
  },
  {
   "cell_type": "code",
   "execution_count": null,
   "metadata": {},
   "outputs": [],
   "source": [
    "#Переименуем графы в соответствии с правилами\n",
    "data = data.rename(columns={'cityCenters_nearest': 'city_centers_nearest'}) "
   ]
  },
  {
   "cell_type": "code",
   "execution_count": null,
   "metadata": {},
   "outputs": [],
   "source": [
    "#Рассмотрим общее количество пропусков по таблице в целом\n",
    "data.isna().sum()"
   ]
  },
  {
   "cell_type": "markdown",
   "metadata": {},
   "source": [
    "#### Удаление дубликатов"
   ]
  },
  {
   "cell_type": "code",
   "execution_count": null,
   "metadata": {},
   "outputs": [],
   "source": [
    "#Проверим таблицу на наличие дубликатов на начальном этапе\n",
    "data.duplicated().sum()"
   ]
  },
  {
   "cell_type": "markdown",
   "metadata": {},
   "source": [
    "Рассмотрим значения граф на наличие аномалий и дубликатов, ниже представлены данные по графам, где были обнаружны аномалии или дубликаты."
   ]
  },
  {
   "cell_type": "code",
   "execution_count": null,
   "metadata": {},
   "outputs": [],
   "source": [
    "#Рассмотрим уникальные значения графы ceiling_height\n",
    "data['ceiling_height'].unique()"
   ]
  },
  {
   "cell_type": "markdown",
   "metadata": {},
   "source": [
    "В значениях присутствуют неправдоподобные данные, такие как 25.0, 32.0, 27.0, 24.0, 26.0, 14.0, 20.0, 22.6, 27.5, 100.0 метров."
   ]
  },
  {
   "cell_type": "code",
   "execution_count": null,
   "metadata": {},
   "outputs": [],
   "source": [
    "#Заменим аномалии на предполагаемы значения\n",
    "data = data.replace({'ceiling_height':\n",
    "                     {25.:2.5, 32.:3.2, 27.:2.7, \n",
    "                      24.:2.4, 26.:2.6, 14.:1.4, \n",
    "                      20.:2.0, 22.6:2.26, 27.5:2.75, \n",
    "                      100.:10.0}})"
   ]
  },
  {
   "cell_type": "code",
   "execution_count": null,
   "metadata": {},
   "outputs": [],
   "source": [
    "#Проверим данные после замены\n",
    "data['ceiling_height'].unique()"
   ]
  },
  {
   "cell_type": "code",
   "execution_count": null,
   "metadata": {
    "scrolled": false
   },
   "outputs": [],
   "source": [
    "#Рассмотрим значения столбца locality_name\n",
    "data['locality_name'].unique()"
   ]
  },
  {
   "cell_type": "markdown",
   "metadata": {},
   "source": [
    "При рассмотрении значений были выявлены неявные дубликаты, такие как поселок/посёлок и другие."
   ]
  },
  {
   "cell_type": "code",
   "execution_count": null,
   "metadata": {},
   "outputs": [],
   "source": [
    "#Рассмотрим изначальное количество значений по каждому населенному пункту\n",
    "data['locality_name'].value_counts().head(10)"
   ]
  },
  {
   "cell_type": "code",
   "execution_count": null,
   "metadata": {},
   "outputs": [],
   "source": [
    "#Проведем замену найденных дубликатов\n",
    "data['locality_name'] = (\n",
    "    data['locality_name'].str.replace('поселок', 'посёлок')\n",
    ")\n",
    "data['locality_name'] = (\n",
    "    data['locality_name'].str.replace('городской посёлок', \n",
    "                                      'посёлок городского типа')\n",
    ")\n",
    "data['locality_name'] = (\n",
    "    data['locality_name'].str.replace('садоводческое некоммерческое товарищество', \n",
    "                                      'садовое товарищество')\n",
    ")\n",
    "data['locality_name'] = (\n",
    "    data['locality_name'].str.replace('посёлок при железнодорожной станции', \n",
    "                                      'посёлок станции')\n",
    ")\n",
    "data['locality_name'] = (\n",
    "    data['locality_name'].str.replace('посёлок при железнодорожной станции',\n",
    "                                      'посёлок')\n",
    ")\n",
    "data['locality_name'] = (\n",
    "    data['locality_name'].str.replace('посёлок станции', 'посёлок')\n",
    ")\n",
    "data['locality_name'] = (\n",
    "    data['locality_name'].str.replace('коттеджный посёлок', 'посёлок')\n",
    ")"
   ]
  },
  {
   "cell_type": "code",
   "execution_count": null,
   "metadata": {},
   "outputs": [],
   "source": [
    "#Проведем замену найденных дубликатов в процессе анализа пропущенных значенй\n",
    "data['locality_name'] = (\n",
    "    data['locality_name'].str.replace('посёлок Мурино', 'Мурино')\n",
    ")\n",
    "data['locality_name'] = (\n",
    "    data['locality_name'].str.replace('село Никольское', 'Никольское')\n",
    ")\n",
    "data['locality_name'] = (\n",
    "    data['locality_name'].str.replace('деревня Рабитицы', 'посёлок Рабитицы')\n",
    ")"
   ]
  },
  {
   "cell_type": "code",
   "execution_count": null,
   "metadata": {
    "scrolled": false
   },
   "outputs": [],
   "source": [
    "#Выведем результат\n",
    "data['locality_name'].unique()"
   ]
  },
  {
   "cell_type": "code",
   "execution_count": null,
   "metadata": {},
   "outputs": [],
   "source": [
    "#Проверим количесто значений по каждому населенному пункту после проведенных изменений\n",
    "data['locality_name'].value_counts().head(10)"
   ]
  },
  {
   "cell_type": "markdown",
   "metadata": {},
   "source": [
    "Количество населенных пунктов увеличилось, за счет переименовывания дубликатов.\n",
    "Например:\n",
    "1. до посёлок Мурино         522\n",
    "2. после Мурино                 590"
   ]
  },
  {
   "cell_type": "markdown",
   "metadata": {},
   "source": [
    "Проанализируем, возможно ли избавиться от пропусков: необходимо на их место прописать значение или удалить эти строки целиком."
   ]
  },
  {
   "cell_type": "markdown",
   "metadata": {},
   "source": [
    "Графы floors_total(86), locality_name(49) содержат пропуски, которые невозможно логически заполнить. Количество данных пропусков составляет менее 1%, поэтому строки без данных по этим графам можно удалить, на общую статистику данное действие не будет иметь существенного влияния."
   ]
  },
  {
   "cell_type": "code",
   "execution_count": null,
   "metadata": {},
   "outputs": [],
   "source": [
    "#Удалим строки с пропусками в данных по графам floors_total, locality_name и \n",
    "#переведем столбец floors_total к целочисленному типу данных \n",
    "data = data.dropna(subset=['floors_total', 'locality_name']) \n",
    "data['floors_total'] = data['floors_total'].astype('int')\n",
    "data = data.reset_index(drop=True)"
   ]
  },
  {
   "cell_type": "markdown",
   "metadata": {},
   "source": [
    "#### Преобразование is_apartment и balcony"
   ]
  },
  {
   "cell_type": "markdown",
   "metadata": {},
   "source": [
    "Будем считать, что отсутствие значений в графах is_apartment и balcony означает, что данные просто оставили пустыми, так как подразумевалось отсутствие информации. Поэтому на место пустых значений можно поставить 0."
   ]
  },
  {
   "cell_type": "code",
   "execution_count": null,
   "metadata": {},
   "outputs": [],
   "source": [
    "#Заменим пустые значения в графах is_apartment и balcony на 0,\n",
    "#также преобразуем is_apartment к типу bool\n",
    "#balcony к типу int\n",
    "data['is_apartment'] = data['is_apartment'].fillna(value=0)\n",
    "data['balcony'] = data['balcony'].fillna(value=0)\n",
    "\n",
    "data['is_apartment'] = data['is_apartment'].astype('bool')\n",
    "data['balcony'] = data['balcony'].astype('int')"
   ]
  },
  {
   "cell_type": "markdown",
   "metadata": {},
   "source": [
    "Мы преобразовали is_apartment к булевому типу данных, так как в данной графе указано или Да, или Нет, то есть является ли квартира апартаментами, других вариаций ответа в графе быть не может.\n",
    "Также количество балконом не может быть вещественным типом данных."
   ]
  },
  {
   "cell_type": "code",
   "execution_count": null,
   "metadata": {},
   "outputs": [],
   "source": [
    "#Проверим в каких графах остались еще пропуски\n",
    "data.isna().sum()"
   ]
  },
  {
   "cell_type": "markdown",
   "metadata": {},
   "source": [
    "#### Преобразование ceiling_height"
   ]
  },
  {
   "cell_type": "markdown",
   "metadata": {},
   "source": [
    "В графе ceiling_height имеются пропуски, заполним их медианным значением по этому населенному пункту."
   ]
  },
  {
   "cell_type": "code",
   "execution_count": null,
   "metadata": {},
   "outputs": [],
   "source": [
    "#Выведем медианные значения по высоте потолков по населенным пунктам \n",
    "data_pivot_hight = (\n",
    "    data\n",
    "    .pivot_table(index=(data[~data['ceiling_height'].isna()]['locality_name']), values='ceiling_height', aggfunc='median')\n",
    "    .reset_index()\n",
    ")\n",
    "display(data_pivot_hight.head(10))"
   ]
  },
  {
   "cell_type": "code",
   "execution_count": null,
   "metadata": {},
   "outputs": [],
   "source": [
    "#Сопоставим значения по всем строкам\n",
    "ceiling_height = data.merge(data_pivot_hight, on='locality_name', how='left')"
   ]
  },
  {
   "cell_type": "code",
   "execution_count": null,
   "metadata": {},
   "outputs": [],
   "source": [
    "#Запишем полученные значения в пустые ячейки\n",
    "data['ceiling_height'] = data['ceiling_height'].fillna(ceiling_height['ceiling_height_y'])"
   ]
  },
  {
   "cell_type": "code",
   "execution_count": null,
   "metadata": {},
   "outputs": [],
   "source": [
    "#Проверим есть ли данные по которым не определена медиана\n",
    "data[data['ceiling_height'].isna()]['locality_name'].value_counts()"
   ]
  },
  {
   "cell_type": "code",
   "execution_count": null,
   "metadata": {},
   "outputs": [],
   "source": [
    "#Для населенных пунктов, где не была определена \n",
    "#медиана из-за отсутствия данных запишем данные по санпину\n",
    "data['ceiling_height'] = data['ceiling_height'].fillna(2.50)\n",
    "data[data['ceiling_height'].isna()]"
   ]
  },
  {
   "cell_type": "markdown",
   "metadata": {},
   "source": [
    "#### Преобразование kitchen_area"
   ]
  },
  {
   "cell_type": "code",
   "execution_count": null,
   "metadata": {},
   "outputs": [],
   "source": [
    "#Выведем медианные значения по площади кухни в зависимлсти от населенного пункта \n",
    "data_pivot_kitchen_area = (\n",
    "    data\n",
    "    .pivot_table(index=(data[~data['kitchen_area'].isna()]['locality_name']), values=['kitchen_area','total_area'], aggfunc='mean')\n",
    "    .reset_index()\n",
    ")\n",
    "display(data_pivot_kitchen_area)"
   ]
  },
  {
   "cell_type": "code",
   "execution_count": null,
   "metadata": {},
   "outputs": [],
   "source": [
    "#Расситаем соотношение площадей (соотношение площади кухни к общей) по населенному пункту\n",
    "data_pivot_kitchen_area['relation'] = data_pivot_kitchen_area['kitchen_area'] / data_pivot_kitchen_area['total_area']"
   ]
  },
  {
   "cell_type": "code",
   "execution_count": null,
   "metadata": {},
   "outputs": [],
   "source": [
    "#Сопоставим значения\n",
    "kitchen_area = data.merge(data_pivot_kitchen_area, on='locality_name', how='left')"
   ]
  },
  {
   "cell_type": "code",
   "execution_count": null,
   "metadata": {},
   "outputs": [],
   "source": [
    "#Запишем полученные значения в пустые ячейки\n",
    "data['kitchen_area'] = data['kitchen_area'].fillna(kitchen_area['relation'] * data['total_area'])"
   ]
  },
  {
   "cell_type": "code",
   "execution_count": null,
   "metadata": {},
   "outputs": [],
   "source": [
    "#Проверим наличие пропусков\n",
    "data[data['kitchen_area'].isna()]['locality_name'].value_counts()"
   ]
  },
  {
   "cell_type": "code",
   "execution_count": null,
   "metadata": {},
   "outputs": [],
   "source": [
    "#Для данных населенных пунктов нет среднего, так как нет данных\n",
    "#присвоим им среднее соотношение кухни к общей площади \n",
    "data['kitchen_area'] = data['kitchen_area'].fillna(kitchen_area['relation'].mean())"
   ]
  },
  {
   "cell_type": "code",
   "execution_count": null,
   "metadata": {},
   "outputs": [],
   "source": [
    "#Проверим наличие пропусков\n",
    "data[data['kitchen_area'].isna()]"
   ]
  },
  {
   "cell_type": "markdown",
   "metadata": {},
   "source": [
    "#### Преобразование living_area"
   ]
  },
  {
   "cell_type": "code",
   "execution_count": null,
   "metadata": {},
   "outputs": [],
   "source": [
    "#Выведем медианные значения по жилой площади в зависимлсти от населенного пункта \n",
    "data_pivot_living_area = (\n",
    "    data\n",
    "    .pivot_table(index=(data[~data['living_area'].isna()]['locality_name']), values='living_area', aggfunc='mean')\n",
    "    .reset_index()\n",
    ")\n",
    "display(data_pivot_living_area)"
   ]
  },
  {
   "cell_type": "code",
   "execution_count": null,
   "metadata": {},
   "outputs": [],
   "source": [
    "#проверим данные на логическую корректность, есть ли квартиры, \n",
    "#в которых жил.площадь больше разницы площадей других помещений\n",
    "data[data['living_area'] > (data['total_area'] - data['balcony'] - data['kitchen_area'])]"
   ]
  },
  {
   "cell_type": "markdown",
   "metadata": {},
   "source": [
    "К жилой площади относятся только те помещения, которые пригодны для проживания: гостиная, спальня, детская. Сюда не относятся: кухня, санузлы, коридор, кладовые и гардеробные. В полезную площадь включают все используемые помещения. Сюда могут войти балкон и терраса с отоплением, которые не вошли в общую площадь.\n",
    "\n",
    "Возможно в данных была ошибка."
   ]
  },
  {
   "cell_type": "code",
   "execution_count": null,
   "metadata": {},
   "outputs": [],
   "source": [
    "#Сопоставим значения\n",
    "living_area = data.merge(data_pivot_living_area, on='locality_name', how='left')"
   ]
  },
  {
   "cell_type": "code",
   "execution_count": null,
   "metadata": {},
   "outputs": [],
   "source": [
    "#Запишем полученные значения в пустые ячейки\n",
    "data['living_area'] = data['living_area'].fillna(living_area['living_area_y'])"
   ]
  },
  {
   "cell_type": "code",
   "execution_count": null,
   "metadata": {},
   "outputs": [],
   "source": [
    "#Проверим наличие пропусков\n",
    "data[data['living_area'].isna()]['locality_name'].value_counts()"
   ]
  },
  {
   "cell_type": "code",
   "execution_count": null,
   "metadata": {},
   "outputs": [],
   "source": [
    "#Заполним данные разницей полщадей\n",
    "data['living_area'] = (\n",
    "    data['living_area']\n",
    "    .fillna(data['total_area'] - data['balcony'] - data['kitchen_area'])\n",
    ")"
   ]
  },
  {
   "cell_type": "code",
   "execution_count": null,
   "metadata": {},
   "outputs": [],
   "source": [
    "#Проверим наличие пропусков\n",
    "data[data['living_area'].isna()]"
   ]
  },
  {
   "cell_type": "code",
   "execution_count": null,
   "metadata": {},
   "outputs": [],
   "source": [
    "#Проверим наличие пропусков в других графах\n",
    "data.isna().sum()"
   ]
  },
  {
   "cell_type": "markdown",
   "metadata": {},
   "source": [
    "#### Преобразование airports_nearest, city_centers_nearest, parks_nearest и parks_around3000, ponds_nearest и ponds_around3000"
   ]
  },
  {
   "cell_type": "markdown",
   "metadata": {},
   "source": [
    "Картографические данные не могут быть заполнены нами с достаточной точностью, поэтому оставим пропуски в графах."
   ]
  },
  {
   "cell_type": "markdown",
   "metadata": {},
   "source": [
    "Парков в радиусе 3000м нет. Значение до ближайшего парка (parks_nearest) мы не можем проставить 0, так как расстояние до парка наоборот больше 3000м; как среднюю также не можем заполнить, потому что имеется большое значение неизвестных картографических параметров (5500), что будет влиять на достоверность данных."
   ]
  },
  {
   "cell_type": "markdown",
   "metadata": {},
   "source": [
    "Озер/прудов в радиусе 3000м нет. Значение до ближайшего озера (ponds_nearest) мы не можем проставить 0, так как расстояние до озера наоборот больше 3000м; как среднюю также не можем заполнить, потому что имеется большое значение неизвестных картографических параметров (5500), что будет влиять на достоверность данных."
   ]
  },
  {
   "cell_type": "markdown",
   "metadata": {},
   "source": [
    "#### Преобразование days_exposition"
   ]
  },
  {
   "cell_type": "markdown",
   "metadata": {},
   "source": [
    "Отсутствие значения по графе days_exposition означает активное объявление, квартира не была продана. Поэтому данные не преобразуем."
   ]
  },
  {
   "cell_type": "markdown",
   "metadata": {},
   "source": [
    "#### Проведем анализ аномальных значений по цене квартиры"
   ]
  },
  {
   "cell_type": "code",
   "execution_count": null,
   "metadata": {},
   "outputs": [],
   "source": [
    "#Посторим диаграмму размаха по цене квартиры\n",
    "data.boxplot('last_price');"
   ]
  },
  {
   "cell_type": "markdown",
   "metadata": {},
   "source": [
    "На диаграмме видны аномальные значения."
   ]
  },
  {
   "cell_type": "code",
   "execution_count": null,
   "metadata": {},
   "outputs": [],
   "source": [
    "#выведем цены квартир по убыванию\n",
    "data.sort_values('last_price', ascending=False)['last_price'].head(20)"
   ]
  },
  {
   "cell_type": "code",
   "execution_count": null,
   "metadata": {},
   "outputs": [],
   "source": [
    "#количество записей непреобразованной таблицы\n",
    "data.shape[0]"
   ]
  },
  {
   "cell_type": "code",
   "execution_count": null,
   "metadata": {},
   "outputs": [],
   "source": [
    "#перезапишем в таблицу значения, цена квартиры которых меньше 200000000\n",
    "data = data[data['last_price'] < 200000000]"
   ]
  },
  {
   "cell_type": "code",
   "execution_count": null,
   "metadata": {},
   "outputs": [],
   "source": [
    "#количество записей преобразованной таблицы\n",
    "data.shape[0]"
   ]
  },
  {
   "cell_type": "code",
   "execution_count": null,
   "metadata": {},
   "outputs": [],
   "source": [
    "#процент исключенных записей менее 1%\n",
    "(23565 - 23556) / 23565"
   ]
  },
  {
   "cell_type": "markdown",
   "metadata": {},
   "source": [
    "#### Проведем анализ аномальных значений по количеству комнат"
   ]
  },
  {
   "cell_type": "code",
   "execution_count": null,
   "metadata": {},
   "outputs": [],
   "source": [
    "#рассмотрим количество записей для квартир на разных этажах\n",
    "data['rooms'].value_counts()"
   ]
  },
  {
   "cell_type": "code",
   "execution_count": null,
   "metadata": {},
   "outputs": [],
   "source": [
    "#для квартир выше 7 этажа слишком маленькая выборка, исключим данные значеения\n",
    "data = data[data['rooms'] < 7]"
   ]
  },
  {
   "cell_type": "code",
   "execution_count": null,
   "metadata": {},
   "outputs": [],
   "source": [
    "#количество записей преобразованной таблицы\n",
    "data.shape[0]"
   ]
  },
  {
   "cell_type": "code",
   "execution_count": null,
   "metadata": {},
   "outputs": [],
   "source": [
    "#процент исключенных записей менее 1%\n",
    "(23556 - 23469) / 23556"
   ]
  },
  {
   "cell_type": "markdown",
   "metadata": {},
   "source": [
    "#### Проведем анализ аномальных значений по общей площади квартиры"
   ]
  },
  {
   "cell_type": "code",
   "execution_count": null,
   "metadata": {},
   "outputs": [],
   "source": [
    "#Посторим диаграмму размаха\n",
    "data.boxplot('total_area');"
   ]
  },
  {
   "cell_type": "code",
   "execution_count": null,
   "metadata": {},
   "outputs": [],
   "source": [
    "#выведем данные по общим площадям квартир по убыванию\n",
    "data.sort_values('total_area', ascending=False)['total_area'].head(40)"
   ]
  },
  {
   "cell_type": "code",
   "execution_count": null,
   "metadata": {},
   "outputs": [],
   "source": [
    "#исключитм значения по площадям меньше 350 м2\n",
    "data = data[data['total_area'] < 350.0]"
   ]
  },
  {
   "cell_type": "code",
   "execution_count": null,
   "metadata": {},
   "outputs": [],
   "source": [
    "#количество записей преобразованной таблицы\n",
    "data.shape[0]"
   ]
  },
  {
   "cell_type": "code",
   "execution_count": null,
   "metadata": {},
   "outputs": [],
   "source": [
    "#процент исключенных записей менее 1%\n",
    "(23469 - 23453) / 23469"
   ]
  },
  {
   "cell_type": "markdown",
   "metadata": {},
   "source": [
    "#### Итоги по результатам предобработки данных"
   ]
  },
  {
   "cell_type": "code",
   "execution_count": null,
   "metadata": {},
   "outputs": [],
   "source": [
    "#Проверим количество значений\n",
    "data.shape"
   ]
  },
  {
   "cell_type": "code",
   "execution_count": null,
   "metadata": {},
   "outputs": [],
   "source": [
    "#Проверим количество пропусков\n",
    "data.isna().sum()"
   ]
  },
  {
   "cell_type": "code",
   "execution_count": null,
   "metadata": {},
   "outputs": [],
   "source": [
    "data.info()"
   ]
  },
  {
   "cell_type": "markdown",
   "metadata": {},
   "source": [
    "После преобразований, количество трок сократилось на 246 строк\n",
    "- с 23699 строк\n",
    "- до 23453 строк\n",
    "\n",
    "По полученной информации можно сказать\n",
    "\n",
    "- is_apartment преобразован в тип bool\n",
    "\n",
    "- floors_total преобразован в int64 \n",
    "\n",
    "- balcony преобразован в тип int64 \n",
    "\n",
    "- parks_around3000 - не преобразован, так как в столбце все еще присутствуют незаполненные данные, которые не могут быль заполнены числовыми значеними\n",
    "\n",
    "- ponds_around3000 - не преобразован, так как в столбце все еще присутствуют незаполненные данные, которые не могут быль заполнены числовыми значеними\n",
    "\n",
    "- days_exposition - не преобразован, так как в столбце все еще присутствуют незаполненные данные, которые не могут быль заполнены числовыми значеними"
   ]
  },
  {
   "cell_type": "markdown",
   "metadata": {},
   "source": [
    "### Посчитайте и добавьте в таблицу новые столбцы"
   ]
  },
  {
   "cell_type": "code",
   "execution_count": null,
   "metadata": {},
   "outputs": [],
   "source": [
    "#Расситаем стоимость одного квадратного метра и \n",
    "#запишем данные в таблицу\n",
    "data['price_metr'] = data['last_price'] / data['total_area']"
   ]
  },
  {
   "cell_type": "code",
   "execution_count": null,
   "metadata": {},
   "outputs": [],
   "source": [
    "#Запишем в таблицу день недели размещения объявления\n",
    "#Так как время не указано, выведем только день публикации\n",
    "data['first_day_exposition'] = pd.to_datetime(data['first_day_exposition'], format='%Y-%m-%d')\n",
    "data['weekday'] = data['first_day_exposition'].dt.weekday"
   ]
  },
  {
   "cell_type": "code",
   "execution_count": null,
   "metadata": {},
   "outputs": [],
   "source": [
    "#Рассмотрим полученны данные\n",
    "data.head()"
   ]
  },
  {
   "cell_type": "markdown",
   "metadata": {},
   "source": [
    "Проверим 2019-03-07 - четверг (3) расчет верен"
   ]
  },
  {
   "cell_type": "code",
   "execution_count": null,
   "metadata": {},
   "outputs": [],
   "source": [
    "#Запишем в таблицу месяц первого размещения\n",
    "data['month'] = data['first_day_exposition'].dt.month"
   ]
  },
  {
   "cell_type": "code",
   "execution_count": null,
   "metadata": {},
   "outputs": [],
   "source": [
    "#Запишем в таблицу год первого размещения\n",
    "data['year'] = data['first_day_exposition'].dt.year"
   ]
  },
  {
   "cell_type": "code",
   "execution_count": null,
   "metadata": {},
   "outputs": [],
   "source": [
    "#Категоризируем данные по размещению квартиры относительно всех этажей дома\n",
    "def categorize_floor(row):\n",
    "    floor = row['floor']\n",
    "    floors_total = row['floors_total']\n",
    "    try:\n",
    "        if floor == floors_total:\n",
    "            return 'последний'\n",
    "        elif floor == 1:\n",
    "            return 'первый'\n",
    "        elif 1 < floor < floors_total:\n",
    "            return 'другой'\n",
    "    except:\n",
    "        pass"
   ]
  },
  {
   "cell_type": "code",
   "execution_count": null,
   "metadata": {},
   "outputs": [],
   "source": [
    "#Применим функцию к таблице и запишем категории для каждой строки\n",
    "data['category_floor'] = data.apply(categorize_floor, axis=1)"
   ]
  },
  {
   "cell_type": "code",
   "execution_count": null,
   "metadata": {},
   "outputs": [],
   "source": [
    "#Переведем расстояние до центра из метров в километры\n",
    "data['city_centers_nearest_km'] = round(data['city_centers_nearest'] / 1000)"
   ]
  },
  {
   "cell_type": "code",
   "execution_count": null,
   "metadata": {},
   "outputs": [],
   "source": [
    "#Проверим данные\n",
    "data.head()"
   ]
  },
  {
   "cell_type": "code",
   "execution_count": null,
   "metadata": {},
   "outputs": [],
   "source": [
    "#Выведем основную информацию по таблице\n",
    "data.info()"
   ]
  },
  {
   "cell_type": "markdown",
   "metadata": {},
   "source": [
    "На основе данных были рассчитаны и добавлены следующие столбцы:\n",
    "\n",
    "- price_metr - цена за квадратный метр\n",
    "- weekday - день недели размещения объявления\n",
    "- month - месяц размещения объявления\n",
    "- year - год размещения объявления\n",
    "- category_floor - категории этажей\n",
    "- city_centers_nearest_km - удаленность от центра в км"
   ]
  },
  {
   "cell_type": "markdown",
   "metadata": {},
   "source": [
    "### Проведите исследовательский анализ данных"
   ]
  },
  {
   "cell_type": "markdown",
   "metadata": {},
   "source": [
    "#### Изучение параметров"
   ]
  },
  {
   "cell_type": "code",
   "execution_count": null,
   "metadata": {},
   "outputs": [],
   "source": [
    "#Построекние гистограммы для общей площади\n",
    "data['total_area'].hist(range=(0, 300));"
   ]
  },
  {
   "cell_type": "markdown",
   "metadata": {},
   "source": [
    "По полученным данным можно сказать, что площадь квартиры подчинена распределению Пуассона. \n",
    "Чаще всего встречаются квартиры в промежутке от 45 до 75 метров квадратных.\n",
    "При увеличении площади квартиры уменьшается количество предложений, что справедиво для промежутка от 75 м2."
   ]
  },
  {
   "cell_type": "code",
   "execution_count": null,
   "metadata": {},
   "outputs": [],
   "source": [
    "#Построекние гистограммы для жилой площади\n",
    "data['living_area'].hist(range=(0, 200));"
   ]
  },
  {
   "cell_type": "markdown",
   "metadata": {},
   "source": [
    "Жилая площадь квартиры подчинена распределению Пуассона. \n",
    "Чаще всего встречаются квартиры с жилой площадью в промежутке от 25 до 40 метров квадратных. При увеличении жилой площади квартиры уменьшается количество предложений, что справедиво для промежутка от 40 м2."
   ]
  },
  {
   "cell_type": "code",
   "execution_count": null,
   "metadata": {},
   "outputs": [],
   "source": [
    "#Построекние гистограммы для площади кухни\n",
    "data['kitchen_area'].hist(range=(0, 50));"
   ]
  },
  {
   "cell_type": "markdown",
   "metadata": {},
   "source": [
    "Площадь кухни, также как и полщади других территорий квартиры, подчинена распределению Пуассона. Чаще всего встречаются квартиры с площадью кухни в промежутке от 8 до 10 метров квадратных. При увеличении площади кухни уменьшается количество предложений, что справедиво для промежутка от 10 м2."
   ]
  },
  {
   "cell_type": "code",
   "execution_count": null,
   "metadata": {
    "scrolled": true
   },
   "outputs": [],
   "source": [
    "#Построекние гистограммы по цене\n",
    "data['last_price'].hist(range=(0, 35000000), bins=100);"
   ]
  },
  {
   "cell_type": "markdown",
   "metadata": {},
   "source": [
    "Чаще всего в представленных данных встречается цена на квартиры от 3 до 4 млн.р. При дальнейшем увеличении цены предложение резко уменьшается."
   ]
  },
  {
   "cell_type": "code",
   "execution_count": null,
   "metadata": {},
   "outputs": [],
   "source": [
    "#Построекние гистограммы по количеству комнат\n",
    "data['rooms'].hist(range=(0, 8), bins=8);"
   ]
  },
  {
   "cell_type": "markdown",
   "metadata": {},
   "source": [
    "По полученным данным можно сказать, чаще всего встречаются квартиры с 1-3 комнатами. При увеличении количества комнат в квартире уменьшается количество предложений."
   ]
  },
  {
   "cell_type": "code",
   "execution_count": null,
   "metadata": {},
   "outputs": [],
   "source": [
    "#Построекние гистограммы по высоте потолков\n",
    "data['ceiling_height'].hist(range=(2, 4.5));"
   ]
  },
  {
   "cell_type": "markdown",
   "metadata": {},
   "source": [
    "Чаще всего в предложениях встречаются квартиры с высотой потолка от 2,5 до 2,75 метров. Что соответствует данным санпина."
   ]
  },
  {
   "cell_type": "code",
   "execution_count": null,
   "metadata": {},
   "outputs": [],
   "source": [
    "#Построекние гистограммы по этажу квартиры\n",
    "data['floor'].hist(range=(0, 30), bins=30);"
   ]
  },
  {
   "cell_type": "markdown",
   "metadata": {},
   "source": [
    "По данным можно сделать вывод, что чаще всего продают квартиры первых этажей. Также по графику видно резкое снижение предложений на квартиры, находящиеся выше 5 этажа. Данный факт может быть результатом большого количества небольших городов, представленных в выборке, в которых не часто распространены здания выше 5 этажей."
   ]
  },
  {
   "cell_type": "code",
   "execution_count": null,
   "metadata": {},
   "outputs": [],
   "source": [
    "#Построекние гистограммы по категории этажей\n",
    "data['category_floor'].hist(bins=3);"
   ]
  },
  {
   "cell_type": "markdown",
   "metadata": {},
   "source": [
    "По данным графика можно отметить, что чаще всего продаются квартиры находящиеся не на первом, и не на последнем этажах. Возможными причинами могут быть бытовые факторы."
   ]
  },
  {
   "cell_type": "code",
   "execution_count": null,
   "metadata": {},
   "outputs": [],
   "source": [
    "#Построекние гистограммы по количеству этаженй дома\n",
    "data['floors_total'].hist(range=(0, 40));"
   ]
  },
  {
   "cell_type": "markdown",
   "metadata": {},
   "source": [
    "В выборке чаще всего встречались здания по 5 этажей и меньше всего зданий высотой от 30 этажей, которые присущи большим городам."
   ]
  },
  {
   "cell_type": "code",
   "execution_count": null,
   "metadata": {},
   "outputs": [],
   "source": [
    "#Построекние гистограммы по удаленности от центра\n",
    "data['city_centers_nearest'].hist();"
   ]
  },
  {
   "cell_type": "markdown",
   "metadata": {},
   "source": [
    "Большую часть предложений составляют квартиры, которые отдалены от центра более чем на 10-20 км, по мере удаления предложение снижается."
   ]
  },
  {
   "cell_type": "code",
   "execution_count": null,
   "metadata": {},
   "outputs": [],
   "source": [
    "#Построекние гистограммы по расстоянию до аэропорта\n",
    "data['airports_nearest'].hist();"
   ]
  },
  {
   "cell_type": "markdown",
   "metadata": {},
   "source": [
    "Чаще всего продаются квартиры отдаленные от аэропорта на расстояние 20-25км."
   ]
  },
  {
   "cell_type": "code",
   "execution_count": null,
   "metadata": {},
   "outputs": [],
   "source": [
    "#Построекние гистограммы по расстоянию до парка\n",
    "data['parks_nearest'].hist(range=(0, 3000), bins=20);"
   ]
  },
  {
   "cell_type": "markdown",
   "metadata": {},
   "source": [
    "Для представленных в выборке квартир распространена характеристика - отдаленность от парка 400-600 метров."
   ]
  },
  {
   "cell_type": "code",
   "execution_count": null,
   "metadata": {},
   "outputs": [],
   "source": [
    "#Построекние гистограммы по дням недели регистрации объявления\n",
    "data['weekday'].hist(bins=7);"
   ]
  },
  {
   "cell_type": "markdown",
   "metadata": {},
   "source": [
    "Квартиры чаще всего выставляются на продажу в течение рабочей недели. Причиной этого может быть большой процент таких  пользователей, как агенства недвижимости."
   ]
  },
  {
   "cell_type": "code",
   "execution_count": null,
   "metadata": {},
   "outputs": [],
   "source": [
    "#Построекние гистограммы по месяцам регистрации объявления\n",
    "data['month'].hist(bins=12);"
   ]
  },
  {
   "cell_type": "markdown",
   "metadata": {},
   "source": [
    "Большая активность пользователей наблюдается в периоды с февраля по май и с июня по ноябрь, в месяцах: май, декабрь и январь отмечается спад активности, возможной причиной могут быть праздничные дни."
   ]
  },
  {
   "cell_type": "markdown",
   "metadata": {},
   "source": [
    "#### Анализ графы days_exposition"
   ]
  },
  {
   "cell_type": "code",
   "execution_count": null,
   "metadata": {},
   "outputs": [],
   "source": [
    "#Построекние гистограммы по количеству дней активности объявления\n",
    "data['days_exposition'].hist(range=(0, 1750), bins=50);"
   ]
  },
  {
   "cell_type": "code",
   "execution_count": null,
   "metadata": {},
   "outputs": [],
   "source": [
    "#Построекние гистограммы по количеству дней активности объявления\n",
    "data['days_exposition'].hist(range=(0, 100), bins=100);"
   ]
  },
  {
   "cell_type": "markdown",
   "metadata": {},
   "source": [
    "На графике за 100 дней ярко выражены пики активности, по приблизительным подсчетам, частота повторений  данных периодов активности равна 1-2 неделям."
   ]
  },
  {
   "cell_type": "code",
   "execution_count": null,
   "metadata": {},
   "outputs": [],
   "source": [
    "#Выведем описание для данной графы\n",
    "data['days_exposition'].describe()"
   ]
  },
  {
   "cell_type": "markdown",
   "metadata": {},
   "source": [
    "Как мы можем заметить: \n",
    "- среднее количество дней составило 180.380685\n",
    "- медианное количество дней 95.000000\n",
    "\n",
    "Можно сделать вывод, что для анализируемой выборки характерно нестабильное время активности объявления. Наблюдается большое среднеквадратическое отклонение, равное 219.328653.\n",
    "Причиной может служить большой разброс по населенным пунктам, с разной степенью удаленности от административных центров и с разным количеством жителей.\n",
    "\n",
    "- Самая быстрая сделака состоялась через 1 день.\n",
    "- Квартира находившаяся на продаже дольше всего не покупалась 1580 дней. "
   ]
  },
  {
   "cell_type": "markdown",
   "metadata": {},
   "source": [
    "#### Анализ зависимости общей стоимости объекта от разных факторов"
   ]
  },
  {
   "cell_type": "markdown",
   "metadata": {},
   "source": [
    "##### Анализ зависимости общей стоимости объекта от общей площади квартиры"
   ]
  },
  {
   "cell_type": "code",
   "execution_count": null,
   "metadata": {},
   "outputs": [],
   "source": [
    "#отношение общей стоимости к общей площади квартиры\n",
    "data_pivot_total_area = (\n",
    "    data\n",
    "    .pivot_table(index=(data['total_area']), values='last_price', aggfunc='median')\n",
    "    .reset_index()\n",
    ")\n",
    "display(data_pivot_total_area.sort_values('total_area', ascending=False))"
   ]
  },
  {
   "cell_type": "code",
   "execution_count": null,
   "metadata": {},
   "outputs": [],
   "source": [
    "#построим диаграмму рассеяния\n",
    "data_pivot_total_area.plot(x='total_area', y='last_price', kind='scatter', grid=True, alpha=0.3);"
   ]
  },
  {
   "cell_type": "code",
   "execution_count": null,
   "metadata": {},
   "outputs": [],
   "source": [
    "#рассчитаем коэффициент корреляции\n",
    "data_pivot_total_area['last_price'].corr(data_pivot_total_area['total_area'])"
   ]
  },
  {
   "cell_type": "markdown",
   "metadata": {},
   "source": [
    "Согласно полученным данным наблюдается прямая зависимость между общей стоимостью и общей площадью квартиры. Об этом свидетельствует положение точек на графике, которые в свою очередь образуют размытую восходящую линию. Также коэффициент корреляции (74%) свидетельствует о достаточно сильной линейной зависимости. "
   ]
  },
  {
   "cell_type": "markdown",
   "metadata": {},
   "source": [
    "##### Анализ зависимости общей стоимости объекта от жилой площади квартиры"
   ]
  },
  {
   "cell_type": "code",
   "execution_count": null,
   "metadata": {},
   "outputs": [],
   "source": [
    "#отношение общей стоимости к жилой площади квартиры\n",
    "data_pivot_living_area = (\n",
    "    data\n",
    "    .pivot_table(index=(data['living_area']), values='last_price', aggfunc='median')\n",
    "    .reset_index()\n",
    ")\n",
    "display(data_pivot_living_area.sort_values('living_area', ascending=False))"
   ]
  },
  {
   "cell_type": "code",
   "execution_count": null,
   "metadata": {},
   "outputs": [],
   "source": [
    "#построим диаграмму рассеяния\n",
    "data_pivot_living_area.plot(x='living_area', y='last_price', kind='scatter', grid=True, alpha=0.3);"
   ]
  },
  {
   "cell_type": "code",
   "execution_count": null,
   "metadata": {},
   "outputs": [],
   "source": [
    "#рассчитаем коэффициент корреляции\n",
    "data_pivot_living_area['last_price'].corr(data_pivot_living_area['living_area'])"
   ]
  },
  {
   "cell_type": "markdown",
   "metadata": {},
   "source": [
    "Согласно полученным данным наблюдается умеренная зависимость между общей стоимостью и жилой площадью квартиры. Точки на диаграмме рассеяны в большей степени, чем в предыдущей зависимости.\n",
    "Коэффициент корреляции (69%) свидетельствует о умеренной линейной зависимости. Данное соотношение говорит о том, что имеются сторонние факторы влияющие на переменные."
   ]
  },
  {
   "cell_type": "markdown",
   "metadata": {},
   "source": [
    "##### Анализ зависимости общей стоимости объекта от площади кухни"
   ]
  },
  {
   "cell_type": "code",
   "execution_count": null,
   "metadata": {},
   "outputs": [],
   "source": [
    "#отношение общей стоимости к площади кухни квартиры\n",
    "data_pivot_kitchen_area = (\n",
    "    data\n",
    "    .pivot_table(index=(data['kitchen_area']), values='last_price', aggfunc='median')\n",
    "    .reset_index()\n",
    ")\n",
    "display(data_pivot_kitchen_area.sort_values('kitchen_area', ascending=False))"
   ]
  },
  {
   "cell_type": "code",
   "execution_count": null,
   "metadata": {},
   "outputs": [],
   "source": [
    "#построим диаграмму рассеяния\n",
    "data_pivot_kitchen_area.plot(x='kitchen_area', y='last_price', kind='scatter', grid=True, alpha=0.3);"
   ]
  },
  {
   "cell_type": "code",
   "execution_count": null,
   "metadata": {},
   "outputs": [],
   "source": [
    "#рассчитаем коэффициент корреляции\n",
    "data_pivot_kitchen_area['last_price'].corr(data_pivot_kitchen_area['kitchen_area'])"
   ]
  },
  {
   "cell_type": "markdown",
   "metadata": {},
   "source": [
    "Данные взаимосвязи площади кухни и общей стоимости квартиры аналогичны отношению жилой площади и общей стоимости квартиры. На диаграмме наблюдается большая степень рассеивания данных с увеличением площади кухни. Коэффициент корреляции (70%) свидетельствует о сильной линейной зависимости."
   ]
  },
  {
   "cell_type": "markdown",
   "metadata": {},
   "source": [
    "##### Анализ зависимости общей стоимости объекта от количества комнат квартиры"
   ]
  },
  {
   "cell_type": "code",
   "execution_count": null,
   "metadata": {},
   "outputs": [],
   "source": [
    "#отношение общей стоимости к количеству комнат квартиры\n",
    "data_pivot_rooms = (\n",
    "    data\n",
    "    .pivot_table(index=(data['rooms']), values='last_price', aggfunc='median')\n",
    "    .reset_index()\n",
    ")\n",
    "display(data_pivot_rooms.sort_values('rooms', ascending=False))"
   ]
  },
  {
   "cell_type": "code",
   "execution_count": null,
   "metadata": {},
   "outputs": [],
   "source": [
    "#построим диаграмму\n",
    "data_pivot_rooms.plot(x='rooms', y='last_price', grid=True, alpha=0.7);"
   ]
  },
  {
   "cell_type": "code",
   "execution_count": null,
   "metadata": {},
   "outputs": [],
   "source": [
    "#рассчитаем коэффициент корреляции\n",
    "data_pivot_rooms['last_price'].corr(data_pivot_rooms['rooms'])"
   ]
  },
  {
   "cell_type": "markdown",
   "metadata": {},
   "source": [
    "Данные взаимосвязи количества комнат и общей стоимости на диаграмме представлены плавной возрастающей. Коэффициент корреляции (95%) свидетельствует о практически абсолютной линейной зависимости цены квартиры от количества комнат."
   ]
  },
  {
   "cell_type": "markdown",
   "metadata": {},
   "source": [
    "##### Анализ зависимости общей стоимости объекта от этажа"
   ]
  },
  {
   "cell_type": "code",
   "execution_count": null,
   "metadata": {},
   "outputs": [],
   "source": [
    "#отношение общей стоимости к этажу квартиры\n",
    "data_pivot_category_floor = (\n",
    "    data\n",
    "    .pivot_table(index=(data['category_floor']), values='last_price', aggfunc='median')\n",
    "    .reset_index()\n",
    ")\n",
    "display(data_pivot_category_floor.sort_values('category_floor', ascending=False))"
   ]
  },
  {
   "cell_type": "code",
   "execution_count": null,
   "metadata": {},
   "outputs": [],
   "source": [
    "#построим диаграмму\n",
    "data_pivot_category_floor.plot(x='category_floor', y='last_price', grid=True, alpha=0.7);"
   ]
  },
  {
   "cell_type": "markdown",
   "metadata": {},
   "source": [
    "По полученным данным можно сделать вывод, что первые и последние этажи чаще всего имеют стоимоть ниже, чем квартиры на других этажах. Возможными причинами могут быть бытовые особенности."
   ]
  },
  {
   "cell_type": "markdown",
   "metadata": {},
   "source": [
    "##### Анализ зависимости общей стоимости объекта от дня недели размещения объявления"
   ]
  },
  {
   "cell_type": "code",
   "execution_count": null,
   "metadata": {},
   "outputs": [],
   "source": [
    "#отношение общей стоимости к дню недели размещения объявления\n",
    "data_pivot_weekday = (\n",
    "    data\n",
    "    .pivot_table(index=(data['weekday']), values='last_price', aggfunc='median')\n",
    "    .reset_index()\n",
    ")\n",
    "display(data_pivot_weekday.sort_values('weekday', ascending=False))"
   ]
  },
  {
   "cell_type": "code",
   "execution_count": null,
   "metadata": {},
   "outputs": [],
   "source": [
    "#построим диаграмму\n",
    "data_pivot_weekday.plot(x='weekday', y='last_price', grid=True, alpha=0.7);"
   ]
  },
  {
   "cell_type": "markdown",
   "metadata": {},
   "source": [
    "Согласно диаграмме стоимость квартиры выставлялась выше в рабочие дни, для выходных, стоимость квартир указывалась ниже. Возможной причиной может быть использование ресурса агентами по недвижимости."
   ]
  },
  {
   "cell_type": "markdown",
   "metadata": {},
   "source": [
    "##### Анализ зависимости общей стоимости объекта от месяца размещения объявления"
   ]
  },
  {
   "cell_type": "code",
   "execution_count": null,
   "metadata": {},
   "outputs": [],
   "source": [
    "#отношение общей стоимости к месяцу размещения объявления\n",
    "data_pivot_month = (\n",
    "    data\n",
    "    .pivot_table(index=(data['month']), values='last_price', aggfunc='median')\n",
    "    .reset_index()\n",
    ")\n",
    "display(data_pivot_month.sort_values('month', ascending=False))"
   ]
  },
  {
   "cell_type": "code",
   "execution_count": null,
   "metadata": {},
   "outputs": [],
   "source": [
    "#построим диаграмму\n",
    "data_pivot_month.plot(x='month', y='last_price', grid=True, alpha=0.7);"
   ]
  },
  {
   "cell_type": "markdown",
   "metadata": {},
   "source": [
    "По полученным данным сделаем вывод, что общая стоимость квартиры слабо зависит от месяца регистрации объявления. Стоимость в данном случае зависит от сторонних факторов. "
   ]
  },
  {
   "cell_type": "markdown",
   "metadata": {},
   "source": [
    "##### Анализ зависимости общей стоимости объекта от года размещения объявления"
   ]
  },
  {
   "cell_type": "code",
   "execution_count": null,
   "metadata": {},
   "outputs": [],
   "source": [
    "#отношение общей стоимости к году размещения объявления\n",
    "data_pivot_year = (\n",
    "    data\n",
    "    .pivot_table(index=(data['year']), values='last_price', aggfunc='median')\n",
    "    .reset_index()\n",
    ")\n",
    "display(data_pivot_year.sort_values('year', ascending=False))"
   ]
  },
  {
   "cell_type": "code",
   "execution_count": null,
   "metadata": {},
   "outputs": [],
   "source": [
    "#построим диаграмму\n",
    "data_pivot_year.plot(x='year', y='last_price', grid=True, alpha=0.7);"
   ]
  },
  {
   "cell_type": "markdown",
   "metadata": {},
   "source": [
    "Согласно графику, стоимость квартир с 2014 года по 2017 падала, в 2017 году замечено восходящее движение графика. Возможной причиной могут быть сторонние факторы, такие как инфляция и ситуация в стране."
   ]
  },
  {
   "cell_type": "markdown",
   "metadata": {},
   "source": [
    "#### Анализ 10 населенных пунктов с наибольшим количеством объявлений"
   ]
  },
  {
   "cell_type": "code",
   "execution_count": null,
   "metadata": {},
   "outputs": [],
   "source": [
    "#Выведем 10 населенных пунктов с наибольшим количеством объявлений\n",
    "data['locality_name'].value_counts().head(10)"
   ]
  },
  {
   "cell_type": "code",
   "execution_count": null,
   "metadata": {},
   "outputs": [],
   "source": [
    "#Сохраним данные в DataFrame\n",
    "good_data = data.loc[data['locality_name'].isin(['Санкт-Петербург', 'Мурино', 'посёлок Шушары', 'Всеволожск', \n",
    "                                'Пушкин', 'Колпино', 'посёлок Парголово', 'Гатчина', 'деревня Кудрово', 'Выборг'])]"
   ]
  },
  {
   "cell_type": "code",
   "execution_count": null,
   "metadata": {},
   "outputs": [],
   "source": [
    "#Проверим полученную таблицу\n",
    "good_data.head()"
   ]
  },
  {
   "cell_type": "code",
   "execution_count": null,
   "metadata": {},
   "outputs": [],
   "source": [
    "#Создадим выборку данных, отсортируем данные по уменьшению цены за кв.метр\n",
    "data_pivot_price_metr = (\n",
    "    good_data\n",
    "    .pivot_table(index=(good_data['locality_name']), values='price_metr', aggfunc='median')\n",
    "    .reset_index()\n",
    ")\n",
    "display(data_pivot_price_metr.sort_values('price_metr', ascending=False))"
   ]
  },
  {
   "cell_type": "markdown",
   "metadata": {},
   "source": [
    "По полученным данным, самым дорогим по стоимости квадратного метра стал Санкт-Петербург, медианная стоимость составила  104761.90р.\n",
    "Самым дешевым из представленных стал квадратный метр в Выборге, его стоимость составила 58158.32р."
   ]
  },
  {
   "cell_type": "markdown",
   "metadata": {},
   "source": [
    "#### Анализ зависимости расстояния от центра на стоимость квартиры"
   ]
  },
  {
   "cell_type": "code",
   "execution_count": null,
   "metadata": {},
   "outputs": [],
   "source": [
    "#Создадим DF для данных по Санкт-Петербургу\n",
    "data_spb = data.loc[data['locality_name'] == 'Санкт-Петербург'].copy()\n",
    "data_spb['center_km_price'] = \"\""
   ]
  },
  {
   "cell_type": "code",
   "execution_count": null,
   "metadata": {},
   "outputs": [],
   "source": [
    "#Рассчитаем цену километра до центра\n",
    "def def_center_km_price(row):\n",
    "    city_centers_nearest_km = row['city_centers_nearest_km']\n",
    "    center_km_price = row['center_km_price']\n",
    "    last_price = row['last_price']\n",
    "    try:\n",
    "        center_km_price = last_price / city_centers_nearest_km\n",
    "    except ZeroDivisionError:\n",
    "        center_km_price = last_price\n",
    "    return center_km_price"
   ]
  },
  {
   "cell_type": "code",
   "execution_count": null,
   "metadata": {},
   "outputs": [],
   "source": [
    "#Применим функцию к таблице и запишем категории для каждой строки\n",
    "data_spb['center_km_price'] = data_spb.apply(def_center_km_price, axis=1)"
   ]
  },
  {
   "cell_type": "code",
   "execution_count": null,
   "metadata": {},
   "outputs": [],
   "source": [
    "#Выведем медианные значения по расстоянию до центра \n",
    "data_pivot_spb_median = (\n",
    "    data_spb\n",
    "    .pivot_table(index=['city_centers_nearest_km'], values='center_km_price', aggfunc='median')\n",
    "    .reset_index()\n",
    ")\n",
    "\n",
    "display(data_pivot_spb_median)"
   ]
  },
  {
   "cell_type": "code",
   "execution_count": null,
   "metadata": {},
   "outputs": [],
   "source": [
    "#Построим диаграмму рассеяния\n",
    "data_pivot_spb_median.plot(x='city_centers_nearest_km', \n",
    "                           y='center_km_price',  \n",
    "                           grid=True, \n",
    "                           alpha=0.7, \n",
    "                           figsize=(20, 10),\n",
    "                           marker='o');"
   ]
  },
  {
   "cell_type": "code",
   "execution_count": null,
   "metadata": {},
   "outputs": [],
   "source": [
    "#Рассчитаем коэффициент корреляции\n",
    "data_pivot_spb_median['city_centers_nearest_km'].corr(data_pivot_spb_median['center_km_price'])"
   ]
  },
  {
   "cell_type": "code",
   "execution_count": null,
   "metadata": {},
   "outputs": [],
   "source": [
    "#Посторим диаграмму размаха\n",
    "data_pivot_spb_median.boxplot('center_km_price');"
   ]
  },
  {
   "cell_type": "code",
   "execution_count": null,
   "metadata": {},
   "outputs": [],
   "source": [
    "#Выведем средние значения по расстоянию до центра \n",
    "data_pivot_spb_mean = (\n",
    "    data_spb\n",
    "    .pivot_table(index=['city_centers_nearest_km'], values='center_km_price', aggfunc='mean')\n",
    "    .reset_index()\n",
    ")\n",
    "display(data_pivot_spb_mean)"
   ]
  },
  {
   "cell_type": "code",
   "execution_count": null,
   "metadata": {},
   "outputs": [],
   "source": [
    "#Построим диаграмму рассеяния\n",
    "data_pivot_spb_mean.plot(x='city_centers_nearest_km', \n",
    "                         y='center_km_price', \n",
    "                         grid=True, \n",
    "                         alpha=0.7, \n",
    "                         figsize=(20, 10),\n",
    "                         marker='o');"
   ]
  },
  {
   "cell_type": "code",
   "execution_count": null,
   "metadata": {},
   "outputs": [],
   "source": [
    "#Рассчитаем коэффициент корреляции\n",
    "data_pivot_spb_mean['city_centers_nearest_km'].corr(data_pivot_spb_mean['center_km_price'])"
   ]
  },
  {
   "cell_type": "code",
   "execution_count": null,
   "metadata": {},
   "outputs": [],
   "source": [
    "#Посторим диаграмму размаха\n",
    "data_pivot_spb_mean.boxplot('center_km_price');"
   ]
  },
  {
   "cell_type": "markdown",
   "metadata": {},
   "source": [
    "По данным представленным на диаграммах можно сказать, что вид данной зависимости обратный, так как на графике можно рассмотреть убывающую гиперболу. На диаграмме видно, что при приближении к нулю по оси Х, цена для большинства квартир возрастает в несколько раз. То есть наблюдается обратно пропорциональная зависимость. Коэффициент корреляции показывает умеренную зависимость. \n",
    "Сренее и медианное значения имеют небольшое отклонение друг от друга в масштабах выборки."
   ]
  },
  {
   "cell_type": "markdown",
   "metadata": {},
   "source": [
    "Можно сделать вывод, что удаленность от центра является одним из значительных факторов, в совокупности с другими, влияющими на стоимость квартиры."
   ]
  },
  {
   "cell_type": "markdown",
   "metadata": {},
   "source": [
    "### Общий вывод"
   ]
  },
  {
   "cell_type": "markdown",
   "metadata": {},
   "source": [
    "В результате проведенного анализа, были выполнеы следующие этапы:\n",
    "- предобработка данных (были выявлены дубликаты, удалены и заполнены пустые значения, выявлены и исправлены аномалии)\n",
    "- на основе обработанных данных были добавлены необходимые для дальнейшего анализа графы\n",
    "- был проведен анализ как данных по отдельности, так и в совокупности\n",
    "\n",
    "По отдельности на гистограммах можно было проследить, что все количественные параметры подчиняются закону растределения Пуассона.\n",
    "\n",
    "По результатам анализа отношений различных факторов к цене квартиры можно утверждать следующее: \n",
    "\n",
    "1. цена прямо пропорциональна площади квартиры, также как площади отдельных частей квартиры\n",
    "\n",
    "Коэффициент коррекляции составляет 74% для зависимости цены квартиры от общей площади, что свидетельствует о достаточно сильной линейной зависимости.\n",
    "\n",
    "2. цена прямо пропорциональна количеству комнат\n",
    "\n",
    "Коэффициент корреляции составил 95%, что свидетельствует о практически абсолютной линейной зависимости.\n",
    "\n",
    "3. цена напрямую зависит от этажа, на котором находится\n",
    "\n",
    "Первые и последние этажи чаще всего имеют стоимоть ниже, чем квартиры на других этажах. Возможными причинами могут быть бытовые особенности.\n",
    "\n",
    "4. цена на квартиру указывается выше в будние дни\n",
    "\n",
    "Согласно диаграмме стоимость квартиры выставлялась выше в рабочие дни, для выходных, стоимость квартир граничит с нижним порогом. Возможной причиной может быть использование ресурса агентами по недвижимости.\n",
    "\n",
    "5.  цена слабо взаимосвязана с месяцем, в который было размещено объявление \n",
    "\n",
    "Общая стоимость квартиры слабо зависит от месяца регистрации объявления. Стоимость в данном случае зависит от сторонних факторов.\n",
    "\n",
    "6. цена на квартиры с 2017 года начла расти\n",
    "\n",
    "Стоимость квартир с 2014 года по 2017 уменьшалась, в 2017 году замечено восходящее движение графика. Возможной причиной могут быть сторонние факторы, такие как инфляция и ситуация в стране.\n",
    "\n",
    "7. цена обратно пропорциональна расстоянию до центра населенного пункта\n",
    "\n",
    "Ближе к центру наблюдаются аномально высокие цены на недвижимость. Коэффициент корреляции составил -60%. Возможные причины близость культурного центра, близость располоения необходимых инстанций.\n",
    "\n",
    "Из полученых результатов можно заключить, что на формирование цены на рынке недвижимости влияют различные факторы в совокупности, начиная от количественных  характеристик до картографических данных. Для выявления более точных возможных факторов ценообразования необходимо проводить точечный анализ требуемых величин."
   ]
  }
 ],
 "metadata": {
  "ExecuteTimeLog": [
   {
    "duration": 1302,
    "start_time": "2023-05-21T15:02:30.846Z"
   },
   {
    "duration": 31,
    "start_time": "2023-05-21T15:02:40.901Z"
   },
   {
    "duration": 4,
    "start_time": "2023-05-21T15:02:59.345Z"
   },
   {
    "duration": 17,
    "start_time": "2023-05-21T15:05:44.581Z"
   },
   {
    "duration": 4,
    "start_time": "2023-05-21T15:07:51.844Z"
   },
   {
    "duration": 1887,
    "start_time": "2023-05-21T15:08:02.470Z"
   },
   {
    "duration": 6,
    "start_time": "2023-05-21T15:08:38.230Z"
   },
   {
    "duration": 9,
    "start_time": "2023-05-21T15:08:49.000Z"
   },
   {
    "duration": 27,
    "start_time": "2023-05-21T15:08:57.961Z"
   },
   {
    "duration": 5,
    "start_time": "2023-05-21T15:09:41.459Z"
   },
   {
    "duration": 8,
    "start_time": "2023-05-21T15:10:19.960Z"
   },
   {
    "duration": 7,
    "start_time": "2023-05-21T15:10:27.565Z"
   },
   {
    "duration": 7,
    "start_time": "2023-05-21T15:10:40.895Z"
   },
   {
    "duration": 7,
    "start_time": "2023-05-21T15:11:33.737Z"
   },
   {
    "duration": 89,
    "start_time": "2023-05-21T15:13:37.750Z"
   },
   {
    "duration": 44,
    "start_time": "2023-05-21T15:14:22.145Z"
   },
   {
    "duration": 6,
    "start_time": "2023-05-21T15:14:36.051Z"
   },
   {
    "duration": 7,
    "start_time": "2023-05-21T15:14:56.063Z"
   },
   {
    "duration": 35,
    "start_time": "2023-05-21T15:20:21.853Z"
   },
   {
    "duration": 14,
    "start_time": "2023-05-21T15:21:49.685Z"
   },
   {
    "duration": 10,
    "start_time": "2023-05-21T15:23:02.362Z"
   },
   {
    "duration": 22,
    "start_time": "2023-05-21T15:23:34.149Z"
   },
   {
    "duration": 20,
    "start_time": "2023-05-21T15:23:59.806Z"
   },
   {
    "duration": 4,
    "start_time": "2023-05-21T15:24:05.737Z"
   },
   {
    "duration": 33,
    "start_time": "2023-05-21T15:24:16.244Z"
   },
   {
    "duration": 7,
    "start_time": "2023-05-21T15:25:11.509Z"
   },
   {
    "duration": 12,
    "start_time": "2023-05-21T15:25:43.353Z"
   },
   {
    "duration": 20,
    "start_time": "2023-05-21T15:28:24.883Z"
   },
   {
    "duration": 6,
    "start_time": "2023-05-21T15:29:50.552Z"
   },
   {
    "duration": 3,
    "start_time": "2023-05-21T15:30:06.373Z"
   },
   {
    "duration": 81,
    "start_time": "2023-05-21T15:30:37.681Z"
   },
   {
    "duration": 3,
    "start_time": "2023-05-21T15:30:43.313Z"
   },
   {
    "duration": 3,
    "start_time": "2023-05-21T15:31:28.762Z"
   },
   {
    "duration": 16,
    "start_time": "2023-05-21T15:34:31.873Z"
   },
   {
    "duration": 4,
    "start_time": "2023-05-21T15:34:33.049Z"
   },
   {
    "duration": 33,
    "start_time": "2023-05-21T15:35:02.061Z"
   },
   {
    "duration": 6,
    "start_time": "2023-05-21T15:36:08.161Z"
   },
   {
    "duration": 4,
    "start_time": "2023-05-21T15:37:51.973Z"
   },
   {
    "duration": 13,
    "start_time": "2023-05-21T15:37:55.350Z"
   },
   {
    "duration": 20,
    "start_time": "2023-05-21T15:40:05.361Z"
   },
   {
    "duration": 39,
    "start_time": "2023-05-21T15:40:18.308Z"
   },
   {
    "duration": 15,
    "start_time": "2023-05-21T15:42:28.562Z"
   },
   {
    "duration": 14,
    "start_time": "2023-05-21T15:42:29.814Z"
   },
   {
    "duration": 42,
    "start_time": "2023-05-21T15:42:30.411Z"
   },
   {
    "duration": 6,
    "start_time": "2023-05-21T15:43:19.953Z"
   },
   {
    "duration": 5,
    "start_time": "2023-05-21T15:44:19.956Z"
   },
   {
    "duration": 13,
    "start_time": "2023-05-21T15:44:32.556Z"
   },
   {
    "duration": 9,
    "start_time": "2023-05-21T15:45:05.529Z"
   },
   {
    "duration": 22,
    "start_time": "2023-05-21T15:46:36.971Z"
   },
   {
    "duration": 51,
    "start_time": "2023-05-21T15:47:44.430Z"
   },
   {
    "duration": 18,
    "start_time": "2023-05-21T15:49:24.410Z"
   },
   {
    "duration": 4,
    "start_time": "2023-05-21T15:49:30.061Z"
   },
   {
    "duration": 5,
    "start_time": "2023-05-21T15:50:56.994Z"
   },
   {
    "duration": 4,
    "start_time": "2023-05-21T15:51:56.931Z"
   },
   {
    "duration": 4,
    "start_time": "2023-05-21T15:52:27.892Z"
   },
   {
    "duration": 28,
    "start_time": "2023-05-21T15:52:39.161Z"
   },
   {
    "duration": 21,
    "start_time": "2023-05-21T15:53:33.192Z"
   },
   {
    "duration": 22,
    "start_time": "2023-05-21T15:55:38.198Z"
   },
   {
    "duration": 17,
    "start_time": "2023-05-21T15:55:51.580Z"
   },
   {
    "duration": 19,
    "start_time": "2023-05-21T15:56:31.770Z"
   },
   {
    "duration": 6,
    "start_time": "2023-05-21T15:59:38.569Z"
   },
   {
    "duration": 12,
    "start_time": "2023-05-21T15:59:39.152Z"
   },
   {
    "duration": 3,
    "start_time": "2023-05-21T16:00:46.746Z"
   },
   {
    "duration": 4,
    "start_time": "2023-05-21T16:00:47.873Z"
   },
   {
    "duration": 33,
    "start_time": "2023-05-21T16:01:07.265Z"
   },
   {
    "duration": 8,
    "start_time": "2023-05-21T16:01:47.661Z"
   },
   {
    "duration": 8,
    "start_time": "2023-05-21T16:03:07.392Z"
   },
   {
    "duration": 9,
    "start_time": "2023-05-21T16:04:04.904Z"
   },
   {
    "duration": 9,
    "start_time": "2023-05-21T16:05:14.045Z"
   },
   {
    "duration": 20,
    "start_time": "2023-05-21T16:08:56.343Z"
   },
   {
    "duration": 15,
    "start_time": "2023-05-21T16:09:31.064Z"
   },
   {
    "duration": 4,
    "start_time": "2023-05-21T16:10:52.807Z"
   },
   {
    "duration": 5,
    "start_time": "2023-05-21T16:11:35.599Z"
   },
   {
    "duration": 7,
    "start_time": "2023-05-21T16:12:19.473Z"
   },
   {
    "duration": 9,
    "start_time": "2023-05-21T16:14:18.675Z"
   },
   {
    "duration": 4,
    "start_time": "2023-05-21T16:14:20.144Z"
   },
   {
    "duration": 8,
    "start_time": "2023-05-21T16:14:22.037Z"
   },
   {
    "duration": 14,
    "start_time": "2023-05-21T16:15:03.741Z"
   },
   {
    "duration": 3,
    "start_time": "2023-05-21T16:25:13.802Z"
   },
   {
    "duration": 3,
    "start_time": "2023-05-21T16:25:14.792Z"
   },
   {
    "duration": 4,
    "start_time": "2023-05-21T16:35:59.880Z"
   },
   {
    "duration": 14,
    "start_time": "2023-05-21T16:36:01.450Z"
   },
   {
    "duration": 30,
    "start_time": "2023-05-21T16:36:18.627Z"
   },
   {
    "duration": 5,
    "start_time": "2023-05-21T16:37:01.772Z"
   },
   {
    "duration": 4,
    "start_time": "2023-05-21T16:37:10.249Z"
   },
   {
    "duration": 5,
    "start_time": "2023-05-21T16:38:19.949Z"
   },
   {
    "duration": 349,
    "start_time": "2023-05-21T16:38:57.296Z"
   },
   {
    "duration": 4,
    "start_time": "2023-05-21T16:39:41.584Z"
   },
   {
    "duration": 25,
    "start_time": "2023-05-21T16:39:58.141Z"
   },
   {
    "duration": 15,
    "start_time": "2023-05-21T16:40:18.060Z"
   },
   {
    "duration": 170,
    "start_time": "2023-05-21T16:42:38.069Z"
   },
   {
    "duration": 198,
    "start_time": "2023-05-21T16:51:37.669Z"
   },
   {
    "duration": 141,
    "start_time": "2023-05-21T16:52:49.437Z"
   },
   {
    "duration": 220,
    "start_time": "2023-05-21T16:55:28.764Z"
   },
   {
    "duration": 133,
    "start_time": "2023-05-21T16:57:17.376Z"
   },
   {
    "duration": 152,
    "start_time": "2023-05-21T16:57:31.345Z"
   },
   {
    "duration": 129,
    "start_time": "2023-05-21T16:59:11.480Z"
   },
   {
    "duration": 145,
    "start_time": "2023-05-21T16:59:44.301Z"
   },
   {
    "duration": 152,
    "start_time": "2023-05-21T17:02:00.899Z"
   },
   {
    "duration": 126,
    "start_time": "2023-05-21T17:02:06.769Z"
   },
   {
    "duration": 139,
    "start_time": "2023-05-21T17:02:40.357Z"
   },
   {
    "duration": 179,
    "start_time": "2023-05-21T17:03:14.608Z"
   },
   {
    "duration": 121,
    "start_time": "2023-05-21T17:06:04.064Z"
   },
   {
    "duration": 153,
    "start_time": "2023-05-21T17:07:46.705Z"
   },
   {
    "duration": 125,
    "start_time": "2023-05-21T17:11:17.252Z"
   },
   {
    "duration": 176,
    "start_time": "2023-05-21T17:13:23.165Z"
   },
   {
    "duration": 201,
    "start_time": "2023-05-21T17:16:01.776Z"
   },
   {
    "duration": 189,
    "start_time": "2023-05-21T17:16:20.561Z"
   },
   {
    "duration": 159,
    "start_time": "2023-05-21T17:16:28.258Z"
   },
   {
    "duration": 192,
    "start_time": "2023-05-21T17:16:36.880Z"
   },
   {
    "duration": 168,
    "start_time": "2023-05-21T17:19:02.705Z"
   },
   {
    "duration": 173,
    "start_time": "2023-05-21T17:19:43.064Z"
   },
   {
    "duration": 142,
    "start_time": "2023-05-21T17:22:03.865Z"
   },
   {
    "duration": 180,
    "start_time": "2023-05-21T17:22:18.711Z"
   },
   {
    "duration": 822,
    "start_time": "2023-05-21T18:25:47.731Z"
   },
   {
    "duration": 28,
    "start_time": "2023-05-21T18:25:48.555Z"
   },
   {
    "duration": 15,
    "start_time": "2023-05-21T18:25:48.585Z"
   },
   {
    "duration": 38,
    "start_time": "2023-05-21T18:25:48.602Z"
   },
   {
    "duration": 1923,
    "start_time": "2023-05-21T18:25:48.642Z"
   },
   {
    "duration": 5,
    "start_time": "2023-05-21T18:25:50.567Z"
   },
   {
    "duration": 14,
    "start_time": "2023-05-21T18:25:50.573Z"
   },
   {
    "duration": 50,
    "start_time": "2023-05-21T18:25:50.588Z"
   },
   {
    "duration": 6,
    "start_time": "2023-05-21T18:25:50.645Z"
   },
   {
    "duration": 11,
    "start_time": "2023-05-21T18:25:50.655Z"
   },
   {
    "duration": 33,
    "start_time": "2023-05-21T18:25:50.668Z"
   },
   {
    "duration": 51,
    "start_time": "2023-05-21T18:25:50.703Z"
   },
   {
    "duration": 27,
    "start_time": "2023-05-21T18:25:50.756Z"
   },
   {
    "duration": 164,
    "start_time": "2023-05-21T18:25:50.785Z"
   },
   {
    "duration": 39,
    "start_time": "2023-05-21T18:25:50.950Z"
   },
   {
    "duration": 7,
    "start_time": "2023-05-21T18:25:50.990Z"
   },
   {
    "duration": 37,
    "start_time": "2023-05-21T18:25:50.998Z"
   },
   {
    "duration": 12,
    "start_time": "2023-05-21T18:25:51.040Z"
   },
   {
    "duration": 20,
    "start_time": "2023-05-21T18:25:51.054Z"
   },
   {
    "duration": 9,
    "start_time": "2023-05-21T18:25:51.075Z"
   },
   {
    "duration": 59,
    "start_time": "2023-05-21T18:25:51.085Z"
   },
   {
    "duration": 14,
    "start_time": "2023-05-21T18:25:51.146Z"
   },
   {
    "duration": 4,
    "start_time": "2023-05-21T18:25:51.161Z"
   },
   {
    "duration": 13,
    "start_time": "2023-05-21T18:25:51.166Z"
   },
   {
    "duration": 20,
    "start_time": "2023-05-21T18:25:51.180Z"
   },
   {
    "duration": 40,
    "start_time": "2023-05-21T18:25:51.202Z"
   },
   {
    "duration": 4,
    "start_time": "2023-05-21T18:25:51.244Z"
   },
   {
    "duration": 24,
    "start_time": "2023-05-21T18:25:51.252Z"
   },
   {
    "duration": 4,
    "start_time": "2023-05-21T18:25:51.278Z"
   },
   {
    "duration": 16,
    "start_time": "2023-05-21T18:25:51.283Z"
   },
   {
    "duration": 40,
    "start_time": "2023-05-21T18:25:51.300Z"
   },
   {
    "duration": 56,
    "start_time": "2023-05-21T18:25:51.341Z"
   },
   {
    "duration": 40,
    "start_time": "2023-05-21T18:25:51.398Z"
   },
   {
    "duration": 34,
    "start_time": "2023-05-21T18:25:51.440Z"
   },
   {
    "duration": 15,
    "start_time": "2023-05-21T18:25:51.475Z"
   },
   {
    "duration": 3,
    "start_time": "2023-05-21T18:25:51.492Z"
   },
   {
    "duration": 18,
    "start_time": "2023-05-21T18:25:51.497Z"
   },
   {
    "duration": 34,
    "start_time": "2023-05-21T18:25:51.516Z"
   },
   {
    "duration": 18,
    "start_time": "2023-05-21T18:25:51.551Z"
   },
   {
    "duration": 15,
    "start_time": "2023-05-21T18:25:51.570Z"
   },
   {
    "duration": 23,
    "start_time": "2023-05-21T18:25:51.586Z"
   },
   {
    "duration": 43,
    "start_time": "2023-05-21T18:25:51.610Z"
   },
   {
    "duration": 7,
    "start_time": "2023-05-21T18:25:51.655Z"
   },
   {
    "duration": 4,
    "start_time": "2023-05-21T18:25:51.663Z"
   },
   {
    "duration": 18,
    "start_time": "2023-05-21T18:25:51.668Z"
   },
   {
    "duration": 5,
    "start_time": "2023-05-21T18:25:51.687Z"
   },
   {
    "duration": 21,
    "start_time": "2023-05-21T18:25:51.694Z"
   },
   {
    "duration": 66,
    "start_time": "2023-05-21T18:25:51.716Z"
   },
   {
    "duration": 21,
    "start_time": "2023-05-21T18:25:51.784Z"
   },
   {
    "duration": 29,
    "start_time": "2023-05-21T18:25:51.806Z"
   },
   {
    "duration": 16,
    "start_time": "2023-05-21T18:25:51.837Z"
   },
   {
    "duration": 5,
    "start_time": "2023-05-21T18:25:51.855Z"
   },
   {
    "duration": 13,
    "start_time": "2023-05-21T18:25:51.861Z"
   },
   {
    "duration": 3,
    "start_time": "2023-05-21T18:25:51.875Z"
   },
   {
    "duration": 6,
    "start_time": "2023-05-21T18:25:51.880Z"
   },
   {
    "duration": 51,
    "start_time": "2023-05-21T18:25:51.887Z"
   },
   {
    "duration": 9,
    "start_time": "2023-05-21T18:25:51.939Z"
   },
   {
    "duration": 12,
    "start_time": "2023-05-21T18:25:51.950Z"
   },
   {
    "duration": 10,
    "start_time": "2023-05-21T18:25:51.964Z"
   },
   {
    "duration": 8,
    "start_time": "2023-05-21T18:25:51.976Z"
   },
   {
    "duration": 50,
    "start_time": "2023-05-21T18:25:51.985Z"
   },
   {
    "duration": 15,
    "start_time": "2023-05-21T18:25:52.037Z"
   },
   {
    "duration": 10,
    "start_time": "2023-05-21T18:25:52.054Z"
   },
   {
    "duration": 19,
    "start_time": "2023-05-21T18:25:52.066Z"
   },
   {
    "duration": 24,
    "start_time": "2023-05-21T18:25:52.086Z"
   },
   {
    "duration": 27,
    "start_time": "2023-05-21T18:25:52.112Z"
   },
   {
    "duration": 16,
    "start_time": "2023-05-21T18:25:52.147Z"
   },
   {
    "duration": 15,
    "start_time": "2023-05-21T18:25:52.164Z"
   },
   {
    "duration": 13,
    "start_time": "2023-05-21T18:25:52.181Z"
   },
   {
    "duration": 3,
    "start_time": "2023-05-21T18:25:52.196Z"
   },
   {
    "duration": 12,
    "start_time": "2023-05-21T18:25:52.200Z"
   },
   {
    "duration": 58,
    "start_time": "2023-05-21T18:25:52.213Z"
   },
   {
    "duration": 10,
    "start_time": "2023-05-21T18:25:52.272Z"
   },
   {
    "duration": 8,
    "start_time": "2023-05-21T18:25:52.283Z"
   },
   {
    "duration": 8,
    "start_time": "2023-05-21T18:25:52.292Z"
   },
   {
    "duration": 313,
    "start_time": "2023-05-21T18:25:52.301Z"
   },
   {
    "duration": 16,
    "start_time": "2023-05-21T18:25:52.616Z"
   },
   {
    "duration": 39,
    "start_time": "2023-05-21T18:25:52.633Z"
   },
   {
    "duration": 13,
    "start_time": "2023-05-21T18:25:52.673Z"
   },
   {
    "duration": 146,
    "start_time": "2023-05-21T18:25:52.688Z"
   },
   {
    "duration": 122,
    "start_time": "2023-05-21T18:25:52.840Z"
   },
   {
    "duration": 202,
    "start_time": "2023-05-21T18:25:52.967Z"
   },
   {
    "duration": 123,
    "start_time": "2023-05-21T18:25:53.170Z"
   },
   {
    "duration": 148,
    "start_time": "2023-05-21T18:25:53.295Z"
   },
   {
    "duration": 151,
    "start_time": "2023-05-21T18:25:53.445Z"
   },
   {
    "duration": 146,
    "start_time": "2023-05-21T18:25:53.598Z"
   },
   {
    "duration": 153,
    "start_time": "2023-05-21T18:25:53.746Z"
   },
   {
    "duration": 126,
    "start_time": "2023-05-21T18:25:53.901Z"
   },
   {
    "duration": 132,
    "start_time": "2023-05-21T18:25:54.028Z"
   },
   {
    "duration": 142,
    "start_time": "2023-05-21T18:25:54.162Z"
   },
   {
    "duration": 159,
    "start_time": "2023-05-21T18:25:54.306Z"
   },
   {
    "duration": 142,
    "start_time": "2023-05-21T18:25:54.466Z"
   },
   {
    "duration": 235,
    "start_time": "2023-05-21T18:25:54.609Z"
   },
   {
    "duration": 19,
    "start_time": "2023-05-21T18:31:16.812Z"
   },
   {
    "duration": 21,
    "start_time": "2023-05-21T18:46:06.481Z"
   },
   {
    "duration": 218,
    "start_time": "2023-05-21T18:53:31.642Z"
   },
   {
    "duration": 5,
    "start_time": "2023-05-21T18:53:36.974Z"
   },
   {
    "duration": 17,
    "start_time": "2023-05-21T18:59:13.642Z"
   },
   {
    "duration": 149,
    "start_time": "2023-05-21T18:59:17.917Z"
   },
   {
    "duration": 5,
    "start_time": "2023-05-21T18:59:21.499Z"
   },
   {
    "duration": 19,
    "start_time": "2023-05-21T19:03:56.319Z"
   },
   {
    "duration": 136,
    "start_time": "2023-05-21T19:03:59.546Z"
   },
   {
    "duration": 5,
    "start_time": "2023-05-21T19:04:04.072Z"
   },
   {
    "duration": 24,
    "start_time": "2023-05-21T19:07:54.305Z"
   },
   {
    "duration": 137,
    "start_time": "2023-05-21T19:07:58.377Z"
   },
   {
    "duration": 11,
    "start_time": "2023-05-21T19:08:03.652Z"
   },
   {
    "duration": 17,
    "start_time": "2023-05-21T19:25:30.097Z"
   },
   {
    "duration": 173,
    "start_time": "2023-05-21T19:25:40.805Z"
   },
   {
    "duration": 5,
    "start_time": "2023-05-21T19:25:53.304Z"
   },
   {
    "duration": 15,
    "start_time": "2023-05-21T19:28:58.958Z"
   },
   {
    "duration": 128,
    "start_time": "2023-05-21T19:29:01.840Z"
   },
   {
    "duration": 19,
    "start_time": "2023-05-21T19:31:48.794Z"
   },
   {
    "duration": 293,
    "start_time": "2023-05-21T19:31:51.303Z"
   },
   {
    "duration": 100,
    "start_time": "2023-05-21T19:31:55.644Z"
   },
   {
    "duration": 16,
    "start_time": "2023-05-21T19:33:33.042Z"
   },
   {
    "duration": 148,
    "start_time": "2023-05-21T19:33:35.661Z"
   },
   {
    "duration": 4,
    "start_time": "2023-05-21T19:33:38.463Z"
   },
   {
    "duration": 15,
    "start_time": "2023-05-21T19:39:42.456Z"
   },
   {
    "duration": 157,
    "start_time": "2023-05-21T19:39:44.714Z"
   },
   {
    "duration": 5,
    "start_time": "2023-05-21T19:39:47.465Z"
   },
   {
    "duration": 15,
    "start_time": "2023-05-21T19:42:48.085Z"
   },
   {
    "duration": 127,
    "start_time": "2023-05-21T19:42:50.587Z"
   },
   {
    "duration": 5,
    "start_time": "2023-05-21T19:42:53.238Z"
   },
   {
    "duration": 6,
    "start_time": "2023-05-21T19:47:46.754Z"
   },
   {
    "duration": 17,
    "start_time": "2023-05-21T19:48:40.410Z"
   },
   {
    "duration": 23,
    "start_time": "2023-05-21T19:49:19.920Z"
   },
   {
    "duration": 16,
    "start_time": "2023-05-21T19:50:17.272Z"
   },
   {
    "duration": 17,
    "start_time": "2023-05-21T19:52:39.916Z"
   },
   {
    "duration": 5,
    "start_time": "2023-05-21T19:53:40.250Z"
   },
   {
    "duration": 24,
    "start_time": "2023-05-21T19:53:50.080Z"
   },
   {
    "duration": 5,
    "start_time": "2023-05-21T19:54:07.170Z"
   },
   {
    "duration": 234,
    "start_time": "2023-05-21T19:54:59.061Z"
   },
   {
    "duration": 5,
    "start_time": "2023-05-21T19:55:41.214Z"
   },
   {
    "duration": 9,
    "start_time": "2023-05-21T19:59:38.569Z"
   },
   {
    "duration": 724,
    "start_time": "2023-05-21T19:59:47.255Z"
   },
   {
    "duration": 109,
    "start_time": "2023-05-21T20:00:03.176Z"
   },
   {
    "duration": 8,
    "start_time": "2023-05-21T20:01:03.995Z"
   },
   {
    "duration": 6,
    "start_time": "2023-05-21T20:02:34.468Z"
   },
   {
    "duration": 4,
    "start_time": "2023-05-21T20:02:59.077Z"
   },
   {
    "duration": 130,
    "start_time": "2023-05-21T20:03:44.042Z"
   },
   {
    "duration": 22,
    "start_time": "2023-05-21T20:03:44.174Z"
   },
   {
    "duration": 30,
    "start_time": "2023-05-21T20:03:44.198Z"
   },
   {
    "duration": 3,
    "start_time": "2023-05-21T20:03:44.230Z"
   },
   {
    "duration": 1828,
    "start_time": "2023-05-21T20:03:44.235Z"
   },
   {
    "duration": 5,
    "start_time": "2023-05-21T20:03:46.065Z"
   },
   {
    "duration": 19,
    "start_time": "2023-05-21T20:03:46.072Z"
   },
   {
    "duration": 32,
    "start_time": "2023-05-21T20:03:46.092Z"
   },
   {
    "duration": 114,
    "start_time": "2023-05-21T20:03:46.126Z"
   },
   {
    "duration": 6,
    "start_time": "2023-05-21T20:03:46.243Z"
   },
   {
    "duration": 5,
    "start_time": "2023-05-21T20:03:46.251Z"
   },
   {
    "duration": 5,
    "start_time": "2023-05-21T20:03:46.257Z"
   },
   {
    "duration": 8,
    "start_time": "2023-05-21T20:03:46.263Z"
   },
   {
    "duration": 113,
    "start_time": "2023-05-21T20:03:46.272Z"
   },
   {
    "duration": 45,
    "start_time": "2023-05-21T20:03:46.386Z"
   },
   {
    "duration": 7,
    "start_time": "2023-05-21T20:03:46.432Z"
   },
   {
    "duration": 8,
    "start_time": "2023-05-21T20:03:46.440Z"
   },
   {
    "duration": 12,
    "start_time": "2023-05-21T20:03:46.450Z"
   },
   {
    "duration": 16,
    "start_time": "2023-05-21T20:03:46.464Z"
   },
   {
    "duration": 36,
    "start_time": "2023-05-21T20:03:46.482Z"
   },
   {
    "duration": 20,
    "start_time": "2023-05-21T20:03:46.520Z"
   },
   {
    "duration": 15,
    "start_time": "2023-05-21T20:03:46.542Z"
   },
   {
    "duration": 4,
    "start_time": "2023-05-21T20:03:46.558Z"
   },
   {
    "duration": 9,
    "start_time": "2023-05-21T20:03:46.563Z"
   },
   {
    "duration": 16,
    "start_time": "2023-05-21T20:03:46.573Z"
   },
   {
    "duration": 45,
    "start_time": "2023-05-21T20:03:46.591Z"
   },
   {
    "duration": 4,
    "start_time": "2023-05-21T20:03:46.637Z"
   },
   {
    "duration": 18,
    "start_time": "2023-05-21T20:03:46.645Z"
   },
   {
    "duration": 4,
    "start_time": "2023-05-21T20:03:46.664Z"
   },
   {
    "duration": 13,
    "start_time": "2023-05-21T20:03:46.670Z"
   },
   {
    "duration": 10,
    "start_time": "2023-05-21T20:03:46.685Z"
   },
   {
    "duration": 30,
    "start_time": "2023-05-21T20:03:46.696Z"
   },
   {
    "duration": 18,
    "start_time": "2023-05-21T20:03:46.727Z"
   },
   {
    "duration": 34,
    "start_time": "2023-05-21T20:03:46.747Z"
   },
   {
    "duration": 36,
    "start_time": "2023-05-21T20:03:46.783Z"
   },
   {
    "duration": 4,
    "start_time": "2023-05-21T20:03:46.821Z"
   },
   {
    "duration": 8,
    "start_time": "2023-05-21T20:03:46.827Z"
   },
   {
    "duration": 6,
    "start_time": "2023-05-21T20:03:46.836Z"
   },
   {
    "duration": 21,
    "start_time": "2023-05-21T20:03:46.844Z"
   },
   {
    "duration": 7,
    "start_time": "2023-05-21T20:03:46.867Z"
   },
   {
    "duration": 44,
    "start_time": "2023-05-21T20:03:46.876Z"
   },
   {
    "duration": 42,
    "start_time": "2023-05-21T20:03:46.921Z"
   },
   {
    "duration": 8,
    "start_time": "2023-05-21T20:03:46.965Z"
   },
   {
    "duration": 10,
    "start_time": "2023-05-21T20:03:46.975Z"
   },
   {
    "duration": 16,
    "start_time": "2023-05-21T20:03:46.987Z"
   },
   {
    "duration": 3,
    "start_time": "2023-05-21T20:03:47.017Z"
   },
   {
    "duration": 7,
    "start_time": "2023-05-21T20:03:47.022Z"
   },
   {
    "duration": 33,
    "start_time": "2023-05-21T20:03:47.030Z"
   },
   {
    "duration": 23,
    "start_time": "2023-05-21T20:03:47.065Z"
   },
   {
    "duration": 43,
    "start_time": "2023-05-21T20:03:47.090Z"
   },
   {
    "duration": 15,
    "start_time": "2023-05-21T20:03:47.135Z"
   },
   {
    "duration": 6,
    "start_time": "2023-05-21T20:03:47.152Z"
   },
   {
    "duration": 10,
    "start_time": "2023-05-21T20:03:47.160Z"
   },
   {
    "duration": 6,
    "start_time": "2023-05-21T20:03:47.172Z"
   },
   {
    "duration": 38,
    "start_time": "2023-05-21T20:03:47.179Z"
   },
   {
    "duration": 34,
    "start_time": "2023-05-21T20:03:47.219Z"
   },
   {
    "duration": 9,
    "start_time": "2023-05-21T20:03:47.255Z"
   },
   {
    "duration": 8,
    "start_time": "2023-05-21T20:03:47.266Z"
   },
   {
    "duration": 19,
    "start_time": "2023-05-21T20:03:47.276Z"
   },
   {
    "duration": 9,
    "start_time": "2023-05-21T20:03:47.318Z"
   },
   {
    "duration": 24,
    "start_time": "2023-05-21T20:03:47.329Z"
   },
   {
    "duration": 16,
    "start_time": "2023-05-21T20:03:47.355Z"
   },
   {
    "duration": 5,
    "start_time": "2023-05-21T20:03:47.372Z"
   },
   {
    "duration": 9,
    "start_time": "2023-05-21T20:03:47.378Z"
   },
   {
    "duration": 32,
    "start_time": "2023-05-21T20:03:47.389Z"
   },
   {
    "duration": 8,
    "start_time": "2023-05-21T20:03:47.422Z"
   },
   {
    "duration": 6,
    "start_time": "2023-05-21T20:03:47.431Z"
   },
   {
    "duration": 18,
    "start_time": "2023-05-21T20:03:47.438Z"
   },
   {
    "duration": 14,
    "start_time": "2023-05-21T20:03:47.458Z"
   },
   {
    "duration": 4,
    "start_time": "2023-05-21T20:03:47.473Z"
   },
   {
    "duration": 16,
    "start_time": "2023-05-21T20:03:47.478Z"
   },
   {
    "duration": 40,
    "start_time": "2023-05-21T20:03:47.495Z"
   },
   {
    "duration": 4,
    "start_time": "2023-05-21T20:03:47.537Z"
   },
   {
    "duration": 5,
    "start_time": "2023-05-21T20:03:47.542Z"
   },
   {
    "duration": 4,
    "start_time": "2023-05-21T20:03:47.548Z"
   },
   {
    "duration": 305,
    "start_time": "2023-05-21T20:03:47.553Z"
   },
   {
    "duration": 3,
    "start_time": "2023-05-21T20:03:47.860Z"
   },
   {
    "duration": 28,
    "start_time": "2023-05-21T20:03:47.864Z"
   },
   {
    "duration": 13,
    "start_time": "2023-05-21T20:03:47.893Z"
   },
   {
    "duration": 149,
    "start_time": "2023-05-21T20:03:47.907Z"
   },
   {
    "duration": 128,
    "start_time": "2023-05-21T20:03:48.058Z"
   },
   {
    "duration": 140,
    "start_time": "2023-05-21T20:03:48.193Z"
   },
   {
    "duration": 134,
    "start_time": "2023-05-21T20:03:48.335Z"
   },
   {
    "duration": 131,
    "start_time": "2023-05-21T20:03:48.470Z"
   },
   {
    "duration": 142,
    "start_time": "2023-05-21T20:03:48.602Z"
   },
   {
    "duration": 107,
    "start_time": "2023-05-21T20:03:48.745Z"
   },
   {
    "duration": 141,
    "start_time": "2023-05-21T20:03:48.853Z"
   },
   {
    "duration": 134,
    "start_time": "2023-05-21T20:03:48.995Z"
   },
   {
    "duration": 108,
    "start_time": "2023-05-21T20:03:49.131Z"
   },
   {
    "duration": 159,
    "start_time": "2023-05-21T20:03:49.241Z"
   },
   {
    "duration": 128,
    "start_time": "2023-05-21T20:03:49.402Z"
   },
   {
    "duration": 126,
    "start_time": "2023-05-21T20:03:49.532Z"
   },
   {
    "duration": 175,
    "start_time": "2023-05-21T20:03:49.659Z"
   },
   {
    "duration": 8,
    "start_time": "2023-05-21T20:03:49.835Z"
   },
   {
    "duration": 17,
    "start_time": "2023-05-21T20:03:49.844Z"
   },
   {
    "duration": 133,
    "start_time": "2023-05-21T20:03:49.863Z"
   },
   {
    "duration": 4,
    "start_time": "2023-05-21T20:03:49.998Z"
   },
   {
    "duration": 38,
    "start_time": "2023-05-21T20:03:50.003Z"
   },
   {
    "duration": 257,
    "start_time": "2023-05-21T20:03:50.043Z"
   },
   {
    "duration": 5,
    "start_time": "2023-05-21T20:03:50.302Z"
   },
   {
    "duration": 36,
    "start_time": "2023-05-21T20:03:50.308Z"
   },
   {
    "duration": 131,
    "start_time": "2023-05-21T20:03:50.346Z"
   },
   {
    "duration": 5,
    "start_time": "2023-05-21T20:03:50.478Z"
   },
   {
    "duration": 45,
    "start_time": "2023-05-21T20:03:50.484Z"
   },
   {
    "duration": 132,
    "start_time": "2023-05-21T20:03:50.531Z"
   },
   {
    "duration": 5,
    "start_time": "2023-05-21T20:03:50.665Z"
   },
   {
    "duration": 18,
    "start_time": "2023-05-21T20:03:50.671Z"
   },
   {
    "duration": 161,
    "start_time": "2023-05-21T20:03:50.690Z"
   },
   {
    "duration": 5,
    "start_time": "2023-05-21T20:03:50.853Z"
   },
   {
    "duration": 28,
    "start_time": "2023-05-21T20:03:50.860Z"
   },
   {
    "duration": 135,
    "start_time": "2023-05-21T20:03:50.890Z"
   },
   {
    "duration": 14,
    "start_time": "2023-05-21T20:03:51.027Z"
   },
   {
    "duration": 157,
    "start_time": "2023-05-21T20:03:51.042Z"
   },
   {
    "duration": 4,
    "start_time": "2023-05-21T20:03:51.200Z"
   },
   {
    "duration": 20,
    "start_time": "2023-05-21T20:03:51.205Z"
   },
   {
    "duration": 149,
    "start_time": "2023-05-21T20:03:51.226Z"
   },
   {
    "duration": 4,
    "start_time": "2023-05-21T20:03:51.377Z"
   },
   {
    "duration": 15,
    "start_time": "2023-05-21T20:03:51.382Z"
   },
   {
    "duration": 150,
    "start_time": "2023-05-21T20:03:51.399Z"
   },
   {
    "duration": 4,
    "start_time": "2023-05-21T20:03:51.551Z"
   },
   {
    "duration": 12,
    "start_time": "2023-05-21T20:03:51.556Z"
   },
   {
    "duration": 11,
    "start_time": "2023-05-21T20:03:51.570Z"
   },
   {
    "duration": 36,
    "start_time": "2023-05-21T20:03:51.582Z"
   },
   {
    "duration": 15,
    "start_time": "2023-05-21T20:03:51.620Z"
   },
   {
    "duration": 10,
    "start_time": "2023-05-21T20:03:51.636Z"
   },
   {
    "duration": 13,
    "start_time": "2023-05-21T20:03:51.647Z"
   },
   {
    "duration": 21,
    "start_time": "2023-05-21T20:03:51.662Z"
   },
   {
    "duration": 239,
    "start_time": "2023-05-21T20:03:51.684Z"
   },
   {
    "duration": 5,
    "start_time": "2023-05-21T20:03:51.924Z"
   },
   {
    "duration": 123,
    "start_time": "2023-05-21T20:03:51.930Z"
   },
   {
    "duration": 7,
    "start_time": "2023-05-21T20:03:52.055Z"
   },
   {
    "duration": 5,
    "start_time": "2023-05-21T20:03:52.063Z"
   },
   {
    "duration": 8,
    "start_time": "2023-05-21T20:03:52.069Z"
   },
   {
    "duration": 230,
    "start_time": "2023-05-21T20:04:20.251Z"
   },
   {
    "duration": 5,
    "start_time": "2023-05-21T20:04:28.985Z"
   },
   {
    "duration": 106,
    "start_time": "2023-05-21T20:04:41.100Z"
   },
   {
    "duration": 154,
    "start_time": "2023-05-21T20:05:50.291Z"
   },
   {
    "duration": 23,
    "start_time": "2023-05-21T20:05:50.447Z"
   },
   {
    "duration": 22,
    "start_time": "2023-05-21T20:05:50.472Z"
   },
   {
    "duration": 5,
    "start_time": "2023-05-21T20:05:50.517Z"
   },
   {
    "duration": 1816,
    "start_time": "2023-05-21T20:05:50.524Z"
   },
   {
    "duration": 3,
    "start_time": "2023-05-21T20:05:52.342Z"
   },
   {
    "duration": 10,
    "start_time": "2023-05-21T20:05:52.347Z"
   },
   {
    "duration": 20,
    "start_time": "2023-05-21T20:05:52.358Z"
   },
   {
    "duration": 177,
    "start_time": "2023-05-21T20:05:52.380Z"
   },
   {
    "duration": 5,
    "start_time": "2023-05-21T20:05:52.560Z"
   },
   {
    "duration": 7,
    "start_time": "2023-05-21T20:05:52.567Z"
   },
   {
    "duration": 9,
    "start_time": "2023-05-21T20:05:52.575Z"
   },
   {
    "duration": 7,
    "start_time": "2023-05-21T20:05:52.586Z"
   },
   {
    "duration": 100,
    "start_time": "2023-05-21T20:05:52.595Z"
   },
   {
    "duration": 47,
    "start_time": "2023-05-21T20:05:52.697Z"
   },
   {
    "duration": 6,
    "start_time": "2023-05-21T20:05:52.745Z"
   },
   {
    "duration": 7,
    "start_time": "2023-05-21T20:05:52.752Z"
   },
   {
    "duration": 11,
    "start_time": "2023-05-21T20:05:52.761Z"
   },
   {
    "duration": 12,
    "start_time": "2023-05-21T20:05:52.773Z"
   },
   {
    "duration": 35,
    "start_time": "2023-05-21T20:05:52.787Z"
   },
   {
    "duration": 19,
    "start_time": "2023-05-21T20:05:52.823Z"
   },
   {
    "duration": 13,
    "start_time": "2023-05-21T20:05:52.843Z"
   },
   {
    "duration": 4,
    "start_time": "2023-05-21T20:05:52.857Z"
   },
   {
    "duration": 7,
    "start_time": "2023-05-21T20:05:52.863Z"
   },
   {
    "duration": 15,
    "start_time": "2023-05-21T20:05:52.872Z"
   },
   {
    "duration": 19,
    "start_time": "2023-05-21T20:05:52.918Z"
   },
   {
    "duration": 3,
    "start_time": "2023-05-21T20:05:52.939Z"
   },
   {
    "duration": 16,
    "start_time": "2023-05-21T20:05:52.947Z"
   },
   {
    "duration": 4,
    "start_time": "2023-05-21T20:05:52.965Z"
   },
   {
    "duration": 12,
    "start_time": "2023-05-21T20:05:52.970Z"
   },
   {
    "duration": 5,
    "start_time": "2023-05-21T20:05:52.984Z"
   },
   {
    "duration": 40,
    "start_time": "2023-05-21T20:05:52.990Z"
   },
   {
    "duration": 22,
    "start_time": "2023-05-21T20:05:53.031Z"
   },
   {
    "duration": 34,
    "start_time": "2023-05-21T20:05:53.054Z"
   },
   {
    "duration": 36,
    "start_time": "2023-05-21T20:05:53.090Z"
   },
   {
    "duration": 4,
    "start_time": "2023-05-21T20:05:53.128Z"
   },
   {
    "duration": 14,
    "start_time": "2023-05-21T20:05:53.133Z"
   },
   {
    "duration": 4,
    "start_time": "2023-05-21T20:05:53.149Z"
   },
   {
    "duration": 13,
    "start_time": "2023-05-21T20:05:53.154Z"
   },
   {
    "duration": 10,
    "start_time": "2023-05-21T20:05:53.169Z"
   },
   {
    "duration": 46,
    "start_time": "2023-05-21T20:05:53.181Z"
   },
   {
    "duration": 37,
    "start_time": "2023-05-21T20:05:53.228Z"
   },
   {
    "duration": 7,
    "start_time": "2023-05-21T20:05:53.266Z"
   },
   {
    "duration": 3,
    "start_time": "2023-05-21T20:05:53.275Z"
   },
   {
    "duration": 6,
    "start_time": "2023-05-21T20:05:53.280Z"
   },
   {
    "duration": 31,
    "start_time": "2023-05-21T20:05:53.287Z"
   },
   {
    "duration": 5,
    "start_time": "2023-05-21T20:05:53.320Z"
   },
   {
    "duration": 32,
    "start_time": "2023-05-21T20:05:53.326Z"
   },
   {
    "duration": 20,
    "start_time": "2023-05-21T20:05:53.360Z"
   },
   {
    "duration": 47,
    "start_time": "2023-05-21T20:05:53.382Z"
   },
   {
    "duration": 15,
    "start_time": "2023-05-21T20:05:53.431Z"
   },
   {
    "duration": 7,
    "start_time": "2023-05-21T20:05:53.447Z"
   },
   {
    "duration": 11,
    "start_time": "2023-05-21T20:05:53.456Z"
   },
   {
    "duration": 4,
    "start_time": "2023-05-21T20:05:53.469Z"
   },
   {
    "duration": 8,
    "start_time": "2023-05-21T20:05:53.474Z"
   },
   {
    "duration": 63,
    "start_time": "2023-05-21T20:05:53.484Z"
   },
   {
    "duration": 13,
    "start_time": "2023-05-21T20:05:53.549Z"
   },
   {
    "duration": 17,
    "start_time": "2023-05-21T20:05:53.564Z"
   },
   {
    "duration": 8,
    "start_time": "2023-05-21T20:05:53.582Z"
   },
   {
    "duration": 7,
    "start_time": "2023-05-21T20:05:53.592Z"
   },
   {
    "duration": 28,
    "start_time": "2023-05-21T20:05:53.600Z"
   },
   {
    "duration": 13,
    "start_time": "2023-05-21T20:05:53.629Z"
   },
   {
    "duration": 3,
    "start_time": "2023-05-21T20:05:53.644Z"
   },
   {
    "duration": 10,
    "start_time": "2023-05-21T20:05:53.649Z"
   },
   {
    "duration": 8,
    "start_time": "2023-05-21T20:05:53.661Z"
   },
   {
    "duration": 8,
    "start_time": "2023-05-21T20:05:53.670Z"
   },
   {
    "duration": 4,
    "start_time": "2023-05-21T20:05:53.679Z"
   },
   {
    "duration": 43,
    "start_time": "2023-05-21T20:05:53.684Z"
   },
   {
    "duration": 13,
    "start_time": "2023-05-21T20:05:53.729Z"
   },
   {
    "duration": 3,
    "start_time": "2023-05-21T20:05:53.744Z"
   },
   {
    "duration": 12,
    "start_time": "2023-05-21T20:05:53.749Z"
   },
   {
    "duration": 23,
    "start_time": "2023-05-21T20:05:53.762Z"
   },
   {
    "duration": 31,
    "start_time": "2023-05-21T20:05:53.787Z"
   },
   {
    "duration": 5,
    "start_time": "2023-05-21T20:05:53.819Z"
   },
   {
    "duration": 6,
    "start_time": "2023-05-21T20:05:53.825Z"
   },
   {
    "duration": 309,
    "start_time": "2023-05-21T20:05:53.832Z"
   },
   {
    "duration": 4,
    "start_time": "2023-05-21T20:05:54.142Z"
   },
   {
    "duration": 26,
    "start_time": "2023-05-21T20:05:54.148Z"
   },
   {
    "duration": 12,
    "start_time": "2023-05-21T20:05:54.175Z"
   },
   {
    "duration": 153,
    "start_time": "2023-05-21T20:05:54.189Z"
   },
   {
    "duration": 139,
    "start_time": "2023-05-21T20:05:54.343Z"
   },
   {
    "duration": 174,
    "start_time": "2023-05-21T20:05:54.489Z"
   },
   {
    "duration": 136,
    "start_time": "2023-05-21T20:05:54.664Z"
   },
   {
    "duration": 136,
    "start_time": "2023-05-21T20:05:54.801Z"
   },
   {
    "duration": 143,
    "start_time": "2023-05-21T20:05:54.938Z"
   },
   {
    "duration": 117,
    "start_time": "2023-05-21T20:05:55.083Z"
   },
   {
    "duration": 161,
    "start_time": "2023-05-21T20:05:55.202Z"
   },
   {
    "duration": 127,
    "start_time": "2023-05-21T20:05:55.364Z"
   },
   {
    "duration": 109,
    "start_time": "2023-05-21T20:05:55.492Z"
   },
   {
    "duration": 148,
    "start_time": "2023-05-21T20:05:55.602Z"
   },
   {
    "duration": 138,
    "start_time": "2023-05-21T20:05:55.752Z"
   },
   {
    "duration": 114,
    "start_time": "2023-05-21T20:05:55.891Z"
   },
   {
    "duration": 182,
    "start_time": "2023-05-21T20:05:56.006Z"
   },
   {
    "duration": 9,
    "start_time": "2023-05-21T20:05:56.190Z"
   },
   {
    "duration": 27,
    "start_time": "2023-05-21T20:05:56.201Z"
   },
   {
    "duration": 142,
    "start_time": "2023-05-21T20:05:56.230Z"
   },
   {
    "duration": 5,
    "start_time": "2023-05-21T20:05:56.373Z"
   },
   {
    "duration": 17,
    "start_time": "2023-05-21T20:05:56.379Z"
   },
   {
    "duration": 161,
    "start_time": "2023-05-21T20:05:56.398Z"
   },
   {
    "duration": 5,
    "start_time": "2023-05-21T20:05:56.560Z"
   },
   {
    "duration": 17,
    "start_time": "2023-05-21T20:05:56.567Z"
   },
   {
    "duration": 153,
    "start_time": "2023-05-21T20:05:56.585Z"
   },
   {
    "duration": 4,
    "start_time": "2023-05-21T20:05:56.740Z"
   },
   {
    "duration": 22,
    "start_time": "2023-05-21T20:05:56.746Z"
   },
   {
    "duration": 142,
    "start_time": "2023-05-21T20:05:56.769Z"
   },
   {
    "duration": 7,
    "start_time": "2023-05-21T20:05:56.913Z"
   },
   {
    "duration": 21,
    "start_time": "2023-05-21T20:05:56.921Z"
   },
   {
    "duration": 157,
    "start_time": "2023-05-21T20:05:56.943Z"
   },
   {
    "duration": 5,
    "start_time": "2023-05-21T20:05:57.101Z"
   },
   {
    "duration": 22,
    "start_time": "2023-05-21T20:05:57.107Z"
   },
   {
    "duration": 128,
    "start_time": "2023-05-21T20:05:57.131Z"
   },
   {
    "duration": 13,
    "start_time": "2023-05-21T20:05:57.261Z"
   },
   {
    "duration": 157,
    "start_time": "2023-05-21T20:05:57.275Z"
   },
   {
    "duration": 4,
    "start_time": "2023-05-21T20:05:57.433Z"
   },
   {
    "duration": 16,
    "start_time": "2023-05-21T20:05:57.438Z"
   },
   {
    "duration": 152,
    "start_time": "2023-05-21T20:05:57.456Z"
   },
   {
    "duration": 4,
    "start_time": "2023-05-21T20:05:57.617Z"
   },
   {
    "duration": 23,
    "start_time": "2023-05-21T20:05:57.623Z"
   },
   {
    "duration": 141,
    "start_time": "2023-05-21T20:05:57.648Z"
   },
   {
    "duration": 5,
    "start_time": "2023-05-21T20:05:57.790Z"
   },
   {
    "duration": 9,
    "start_time": "2023-05-21T20:05:57.796Z"
   },
   {
    "duration": 17,
    "start_time": "2023-05-21T20:05:57.806Z"
   },
   {
    "duration": 22,
    "start_time": "2023-05-21T20:05:57.825Z"
   },
   {
    "duration": 23,
    "start_time": "2023-05-21T20:05:57.848Z"
   },
   {
    "duration": 9,
    "start_time": "2023-05-21T20:05:57.873Z"
   },
   {
    "duration": 6,
    "start_time": "2023-05-21T20:05:57.884Z"
   },
   {
    "duration": 26,
    "start_time": "2023-05-21T20:05:57.892Z"
   },
   {
    "duration": 256,
    "start_time": "2023-05-21T20:05:57.920Z"
   },
   {
    "duration": 5,
    "start_time": "2023-05-21T20:05:58.178Z"
   },
   {
    "duration": 120,
    "start_time": "2023-05-21T20:05:58.184Z"
   },
   {
    "duration": 18,
    "start_time": "2023-05-21T20:05:58.306Z"
   },
   {
    "duration": 39,
    "start_time": "2023-05-21T20:05:58.326Z"
   },
   {
    "duration": 7,
    "start_time": "2023-05-21T20:05:58.367Z"
   },
   {
    "duration": 245,
    "start_time": "2023-05-21T20:05:58.376Z"
   },
   {
    "duration": 5,
    "start_time": "2023-05-21T20:05:58.622Z"
   },
   {
    "duration": 296,
    "start_time": "2023-05-21T20:05:58.628Z"
   },
   {
    "duration": 29,
    "start_time": "2023-05-21T20:06:26.680Z"
   },
   {
    "duration": 121,
    "start_time": "2023-05-21T20:06:38.395Z"
   },
   {
    "duration": 23,
    "start_time": "2023-05-21T20:06:38.518Z"
   },
   {
    "duration": 41,
    "start_time": "2023-05-21T20:06:38.542Z"
   },
   {
    "duration": 3,
    "start_time": "2023-05-21T20:06:38.585Z"
   },
   {
    "duration": 1700,
    "start_time": "2023-05-21T20:06:38.589Z"
   },
   {
    "duration": 4,
    "start_time": "2023-05-21T20:06:40.290Z"
   },
   {
    "duration": 22,
    "start_time": "2023-05-21T20:06:40.295Z"
   },
   {
    "duration": 22,
    "start_time": "2023-05-21T20:06:40.318Z"
   },
   {
    "duration": 6,
    "start_time": "2023-05-21T20:06:40.347Z"
   },
   {
    "duration": 7,
    "start_time": "2023-05-21T20:06:40.356Z"
   },
   {
    "duration": 5,
    "start_time": "2023-05-21T20:06:40.364Z"
   },
   {
    "duration": 6,
    "start_time": "2023-05-21T20:06:40.371Z"
   },
   {
    "duration": 8,
    "start_time": "2023-05-21T20:06:40.379Z"
   },
   {
    "duration": 109,
    "start_time": "2023-05-21T20:06:40.388Z"
   },
   {
    "duration": 49,
    "start_time": "2023-05-21T20:06:40.499Z"
   },
   {
    "duration": 7,
    "start_time": "2023-05-21T20:06:40.549Z"
   },
   {
    "duration": 9,
    "start_time": "2023-05-21T20:06:40.558Z"
   },
   {
    "duration": 17,
    "start_time": "2023-05-21T20:06:40.568Z"
   },
   {
    "duration": 34,
    "start_time": "2023-05-21T20:06:40.587Z"
   },
   {
    "duration": 9,
    "start_time": "2023-05-21T20:06:40.623Z"
   },
   {
    "duration": 22,
    "start_time": "2023-05-21T20:06:40.634Z"
   },
   {
    "duration": 14,
    "start_time": "2023-05-21T20:06:40.658Z"
   },
   {
    "duration": 4,
    "start_time": "2023-05-21T20:06:40.674Z"
   },
   {
    "duration": 7,
    "start_time": "2023-05-21T20:06:40.680Z"
   },
   {
    "duration": 39,
    "start_time": "2023-05-21T20:06:40.689Z"
   },
   {
    "duration": 18,
    "start_time": "2023-05-21T20:06:40.729Z"
   },
   {
    "duration": 2,
    "start_time": "2023-05-21T20:06:40.749Z"
   },
   {
    "duration": 15,
    "start_time": "2023-05-21T20:06:40.755Z"
   },
   {
    "duration": 3,
    "start_time": "2023-05-21T20:06:40.772Z"
   },
   {
    "duration": 6,
    "start_time": "2023-05-21T20:06:40.777Z"
   },
   {
    "duration": 33,
    "start_time": "2023-05-21T20:06:40.786Z"
   },
   {
    "duration": 13,
    "start_time": "2023-05-21T20:06:40.821Z"
   },
   {
    "duration": 26,
    "start_time": "2023-05-21T20:06:40.835Z"
   },
   {
    "duration": 66,
    "start_time": "2023-05-21T20:06:40.863Z"
   },
   {
    "duration": 14,
    "start_time": "2023-05-21T20:06:40.931Z"
   },
   {
    "duration": 4,
    "start_time": "2023-05-21T20:06:40.947Z"
   },
   {
    "duration": 9,
    "start_time": "2023-05-21T20:06:40.952Z"
   },
   {
    "duration": 3,
    "start_time": "2023-05-21T20:06:40.963Z"
   },
   {
    "duration": 14,
    "start_time": "2023-05-21T20:06:40.968Z"
   },
   {
    "duration": 34,
    "start_time": "2023-05-21T20:06:40.984Z"
   },
   {
    "duration": 22,
    "start_time": "2023-05-21T20:06:41.019Z"
   },
   {
    "duration": 39,
    "start_time": "2023-05-21T20:06:41.043Z"
   },
   {
    "duration": 7,
    "start_time": "2023-05-21T20:06:41.083Z"
   },
   {
    "duration": 4,
    "start_time": "2023-05-21T20:06:41.091Z"
   },
   {
    "duration": 6,
    "start_time": "2023-05-21T20:06:41.117Z"
   },
   {
    "duration": 3,
    "start_time": "2023-05-21T20:06:41.125Z"
   },
   {
    "duration": 7,
    "start_time": "2023-05-21T20:06:41.130Z"
   },
   {
    "duration": 30,
    "start_time": "2023-05-21T20:06:41.139Z"
   },
   {
    "duration": 20,
    "start_time": "2023-05-21T20:06:41.170Z"
   },
   {
    "duration": 39,
    "start_time": "2023-05-21T20:06:41.192Z"
   },
   {
    "duration": 13,
    "start_time": "2023-05-21T20:06:41.233Z"
   },
   {
    "duration": 5,
    "start_time": "2023-05-21T20:06:41.247Z"
   },
   {
    "duration": 10,
    "start_time": "2023-05-21T20:06:41.253Z"
   },
   {
    "duration": 3,
    "start_time": "2023-05-21T20:06:41.264Z"
   },
   {
    "duration": 6,
    "start_time": "2023-05-21T20:06:41.269Z"
   },
   {
    "duration": 61,
    "start_time": "2023-05-21T20:06:41.276Z"
   },
   {
    "duration": 7,
    "start_time": "2023-05-21T20:06:41.339Z"
   },
   {
    "duration": 7,
    "start_time": "2023-05-21T20:06:41.347Z"
   },
   {
    "duration": 9,
    "start_time": "2023-05-21T20:06:41.355Z"
   },
   {
    "duration": 9,
    "start_time": "2023-05-21T20:06:41.365Z"
   },
   {
    "duration": 52,
    "start_time": "2023-05-21T20:06:41.376Z"
   },
   {
    "duration": 13,
    "start_time": "2023-05-21T20:06:41.430Z"
   },
   {
    "duration": 4,
    "start_time": "2023-05-21T20:06:41.445Z"
   },
   {
    "duration": 4,
    "start_time": "2023-05-21T20:06:41.450Z"
   },
   {
    "duration": 6,
    "start_time": "2023-05-21T20:06:41.456Z"
   },
   {
    "duration": 7,
    "start_time": "2023-05-21T20:06:41.464Z"
   },
   {
    "duration": 5,
    "start_time": "2023-05-21T20:06:41.472Z"
   },
   {
    "duration": 9,
    "start_time": "2023-05-21T20:06:41.478Z"
   },
   {
    "duration": 41,
    "start_time": "2023-05-21T20:06:41.488Z"
   },
   {
    "duration": 3,
    "start_time": "2023-05-21T20:06:41.530Z"
   },
   {
    "duration": 10,
    "start_time": "2023-05-21T20:06:41.535Z"
   },
   {
    "duration": 21,
    "start_time": "2023-05-21T20:06:41.546Z"
   },
   {
    "duration": 4,
    "start_time": "2023-05-21T20:06:41.568Z"
   },
   {
    "duration": 4,
    "start_time": "2023-05-21T20:06:41.574Z"
   },
   {
    "duration": 3,
    "start_time": "2023-05-21T20:06:41.580Z"
   },
   {
    "duration": 282,
    "start_time": "2023-05-21T20:06:41.618Z"
   },
   {
    "duration": 4,
    "start_time": "2023-05-21T20:06:41.902Z"
   },
   {
    "duration": 27,
    "start_time": "2023-05-21T20:06:41.907Z"
   },
   {
    "duration": 12,
    "start_time": "2023-05-21T20:06:41.935Z"
   },
   {
    "duration": 141,
    "start_time": "2023-05-21T20:06:41.949Z"
   },
   {
    "duration": 120,
    "start_time": "2023-05-21T20:06:42.091Z"
   },
   {
    "duration": 129,
    "start_time": "2023-05-21T20:06:42.222Z"
   },
   {
    "duration": 141,
    "start_time": "2023-05-21T20:06:42.353Z"
   },
   {
    "duration": 134,
    "start_time": "2023-05-21T20:06:42.495Z"
   },
   {
    "duration": 135,
    "start_time": "2023-05-21T20:06:42.631Z"
   },
   {
    "duration": 112,
    "start_time": "2023-05-21T20:06:42.768Z"
   },
   {
    "duration": 141,
    "start_time": "2023-05-21T20:06:42.882Z"
   },
   {
    "duration": 122,
    "start_time": "2023-05-21T20:06:43.025Z"
   },
   {
    "duration": 110,
    "start_time": "2023-05-21T20:06:43.148Z"
   },
   {
    "duration": 139,
    "start_time": "2023-05-21T20:06:43.259Z"
   },
   {
    "duration": 134,
    "start_time": "2023-05-21T20:06:43.399Z"
   },
   {
    "duration": 118,
    "start_time": "2023-05-21T20:06:43.535Z"
   },
   {
    "duration": 173,
    "start_time": "2023-05-21T20:06:43.654Z"
   },
   {
    "duration": 7,
    "start_time": "2023-05-21T20:06:43.829Z"
   },
   {
    "duration": 17,
    "start_time": "2023-05-21T20:06:43.838Z"
   },
   {
    "duration": 348,
    "start_time": "2023-05-21T20:06:43.856Z"
   },
   {
    "duration": 14,
    "start_time": "2023-05-21T20:06:44.206Z"
   },
   {
    "duration": 27,
    "start_time": "2023-05-21T20:06:44.221Z"
   },
   {
    "duration": 130,
    "start_time": "2023-05-21T20:06:44.250Z"
   },
   {
    "duration": 4,
    "start_time": "2023-05-21T20:06:44.382Z"
   },
   {
    "duration": 31,
    "start_time": "2023-05-21T20:06:44.388Z"
   },
   {
    "duration": 160,
    "start_time": "2023-05-21T20:06:44.421Z"
   },
   {
    "duration": 5,
    "start_time": "2023-05-21T20:06:44.583Z"
   },
   {
    "duration": 35,
    "start_time": "2023-05-21T20:06:44.590Z"
   },
   {
    "duration": 146,
    "start_time": "2023-05-21T20:06:44.626Z"
   },
   {
    "duration": 4,
    "start_time": "2023-05-21T20:06:44.774Z"
   },
   {
    "duration": 17,
    "start_time": "2023-05-21T20:06:44.779Z"
   },
   {
    "duration": 148,
    "start_time": "2023-05-21T20:06:44.798Z"
   },
   {
    "duration": 4,
    "start_time": "2023-05-21T20:06:44.948Z"
   },
   {
    "duration": 20,
    "start_time": "2023-05-21T20:06:44.953Z"
   },
   {
    "duration": 143,
    "start_time": "2023-05-21T20:06:44.974Z"
   },
   {
    "duration": 14,
    "start_time": "2023-05-21T20:06:45.119Z"
   },
   {
    "duration": 154,
    "start_time": "2023-05-21T20:06:45.135Z"
   },
   {
    "duration": 5,
    "start_time": "2023-05-21T20:06:45.290Z"
   },
   {
    "duration": 27,
    "start_time": "2023-05-21T20:06:45.296Z"
   },
   {
    "duration": 147,
    "start_time": "2023-05-21T20:06:45.325Z"
   },
   {
    "duration": 4,
    "start_time": "2023-05-21T20:06:45.474Z"
   },
   {
    "duration": 26,
    "start_time": "2023-05-21T20:06:45.479Z"
   },
   {
    "duration": 137,
    "start_time": "2023-05-21T20:06:45.507Z"
   },
   {
    "duration": 4,
    "start_time": "2023-05-21T20:06:45.646Z"
   },
   {
    "duration": 19,
    "start_time": "2023-05-21T20:06:45.652Z"
   },
   {
    "duration": 11,
    "start_time": "2023-05-21T20:06:45.673Z"
   },
   {
    "duration": 33,
    "start_time": "2023-05-21T20:06:45.685Z"
   },
   {
    "duration": 78,
    "start_time": "2023-05-21T20:06:45.720Z"
   },
   {
    "duration": 12,
    "start_time": "2023-05-21T20:06:45.800Z"
   },
   {
    "duration": 7,
    "start_time": "2023-05-21T20:06:45.814Z"
   },
   {
    "duration": 14,
    "start_time": "2023-05-21T20:06:45.823Z"
   },
   {
    "duration": 243,
    "start_time": "2023-05-21T20:06:45.839Z"
   },
   {
    "duration": 5,
    "start_time": "2023-05-21T20:06:46.084Z"
   },
   {
    "duration": 133,
    "start_time": "2023-05-21T20:06:46.091Z"
   },
   {
    "duration": 8,
    "start_time": "2023-05-21T20:06:46.225Z"
   },
   {
    "duration": 37,
    "start_time": "2023-05-21T20:06:54.520Z"
   },
   {
    "duration": 4,
    "start_time": "2023-05-21T20:08:35.573Z"
   },
   {
    "duration": 175,
    "start_time": "2023-05-21T20:08:41.150Z"
   },
   {
    "duration": 112,
    "start_time": "2023-05-21T20:08:57.266Z"
   },
   {
    "duration": 13,
    "start_time": "2023-05-21T20:09:25.315Z"
   },
   {
    "duration": 138,
    "start_time": "2023-05-21T20:09:44.579Z"
   },
   {
    "duration": 22,
    "start_time": "2023-05-21T20:09:44.719Z"
   },
   {
    "duration": 13,
    "start_time": "2023-05-21T20:09:44.742Z"
   },
   {
    "duration": 4,
    "start_time": "2023-05-21T20:09:44.757Z"
   },
   {
    "duration": 1755,
    "start_time": "2023-05-21T20:09:44.762Z"
   },
   {
    "duration": 3,
    "start_time": "2023-05-21T20:09:46.519Z"
   },
   {
    "duration": 14,
    "start_time": "2023-05-21T20:09:46.524Z"
   },
   {
    "duration": 20,
    "start_time": "2023-05-21T20:09:46.540Z"
   },
   {
    "duration": 5,
    "start_time": "2023-05-21T20:09:46.562Z"
   },
   {
    "duration": 8,
    "start_time": "2023-05-21T20:09:46.569Z"
   },
   {
    "duration": 13,
    "start_time": "2023-05-21T20:09:46.578Z"
   },
   {
    "duration": 32,
    "start_time": "2023-05-21T20:09:46.592Z"
   },
   {
    "duration": 7,
    "start_time": "2023-05-21T20:09:46.626Z"
   },
   {
    "duration": 91,
    "start_time": "2023-05-21T20:09:46.635Z"
   },
   {
    "duration": 39,
    "start_time": "2023-05-21T20:09:46.727Z"
   },
   {
    "duration": 6,
    "start_time": "2023-05-21T20:09:46.767Z"
   },
   {
    "duration": 9,
    "start_time": "2023-05-21T20:09:46.775Z"
   },
   {
    "duration": 36,
    "start_time": "2023-05-21T20:09:46.785Z"
   },
   {
    "duration": 14,
    "start_time": "2023-05-21T20:09:46.822Z"
   },
   {
    "duration": 8,
    "start_time": "2023-05-21T20:09:46.838Z"
   },
   {
    "duration": 22,
    "start_time": "2023-05-21T20:09:46.848Z"
   },
   {
    "duration": 13,
    "start_time": "2023-05-21T20:09:46.872Z"
   },
   {
    "duration": 3,
    "start_time": "2023-05-21T20:09:46.887Z"
   },
   {
    "duration": 7,
    "start_time": "2023-05-21T20:09:46.918Z"
   },
   {
    "duration": 23,
    "start_time": "2023-05-21T20:09:46.926Z"
   },
   {
    "duration": 19,
    "start_time": "2023-05-21T20:09:46.950Z"
   },
   {
    "duration": 3,
    "start_time": "2023-05-21T20:09:46.971Z"
   },
   {
    "duration": 15,
    "start_time": "2023-05-21T20:09:46.979Z"
   },
   {
    "duration": 22,
    "start_time": "2023-05-21T20:09:46.995Z"
   },
   {
    "duration": 6,
    "start_time": "2023-05-21T20:09:47.019Z"
   },
   {
    "duration": 4,
    "start_time": "2023-05-21T20:09:47.027Z"
   },
   {
    "duration": 19,
    "start_time": "2023-05-21T20:09:47.033Z"
   },
   {
    "duration": 23,
    "start_time": "2023-05-21T20:09:47.053Z"
   },
   {
    "duration": 59,
    "start_time": "2023-05-21T20:09:47.077Z"
   },
   {
    "duration": 14,
    "start_time": "2023-05-21T20:09:47.138Z"
   },
   {
    "duration": 4,
    "start_time": "2023-05-21T20:09:47.154Z"
   },
   {
    "duration": 8,
    "start_time": "2023-05-21T20:09:47.159Z"
   },
   {
    "duration": 15,
    "start_time": "2023-05-21T20:09:47.169Z"
   },
   {
    "duration": 14,
    "start_time": "2023-05-21T20:09:47.185Z"
   },
   {
    "duration": 7,
    "start_time": "2023-05-21T20:09:47.218Z"
   },
   {
    "duration": 23,
    "start_time": "2023-05-21T20:09:47.227Z"
   },
   {
    "duration": 38,
    "start_time": "2023-05-21T20:09:47.251Z"
   },
   {
    "duration": 29,
    "start_time": "2023-05-21T20:09:47.290Z"
   },
   {
    "duration": 3,
    "start_time": "2023-05-21T20:09:47.321Z"
   },
   {
    "duration": 8,
    "start_time": "2023-05-21T20:09:47.326Z"
   },
   {
    "duration": 3,
    "start_time": "2023-05-21T20:09:47.336Z"
   },
   {
    "duration": 7,
    "start_time": "2023-05-21T20:09:47.341Z"
   },
   {
    "duration": 36,
    "start_time": "2023-05-21T20:09:47.349Z"
   },
   {
    "duration": 40,
    "start_time": "2023-05-21T20:09:47.387Z"
   },
   {
    "duration": 16,
    "start_time": "2023-05-21T20:09:47.429Z"
   },
   {
    "duration": 17,
    "start_time": "2023-05-21T20:09:47.447Z"
   },
   {
    "duration": 6,
    "start_time": "2023-05-21T20:09:47.465Z"
   },
   {
    "duration": 11,
    "start_time": "2023-05-21T20:09:47.472Z"
   },
   {
    "duration": 34,
    "start_time": "2023-05-21T20:09:47.484Z"
   },
   {
    "duration": 18,
    "start_time": "2023-05-21T20:09:47.520Z"
   },
   {
    "duration": 47,
    "start_time": "2023-05-21T20:09:47.541Z"
   },
   {
    "duration": 9,
    "start_time": "2023-05-21T20:09:47.590Z"
   },
   {
    "duration": 8,
    "start_time": "2023-05-21T20:09:47.600Z"
   },
   {
    "duration": 15,
    "start_time": "2023-05-21T20:09:47.610Z"
   },
   {
    "duration": 8,
    "start_time": "2023-05-21T20:09:47.627Z"
   },
   {
    "duration": 22,
    "start_time": "2023-05-21T20:09:47.636Z"
   },
   {
    "duration": 19,
    "start_time": "2023-05-21T20:09:47.660Z"
   },
   {
    "duration": 5,
    "start_time": "2023-05-21T20:09:47.681Z"
   },
   {
    "duration": 9,
    "start_time": "2023-05-21T20:09:47.718Z"
   },
   {
    "duration": 8,
    "start_time": "2023-05-21T20:09:47.729Z"
   },
   {
    "duration": 10,
    "start_time": "2023-05-21T20:09:47.739Z"
   },
   {
    "duration": 3,
    "start_time": "2023-05-21T20:09:47.751Z"
   },
   {
    "duration": 21,
    "start_time": "2023-05-21T20:09:47.756Z"
   },
   {
    "duration": 40,
    "start_time": "2023-05-21T20:09:47.778Z"
   },
   {
    "duration": 3,
    "start_time": "2023-05-21T20:09:47.820Z"
   },
   {
    "duration": 18,
    "start_time": "2023-05-21T20:09:47.824Z"
   },
   {
    "duration": 24,
    "start_time": "2023-05-21T20:09:47.843Z"
   },
   {
    "duration": 9,
    "start_time": "2023-05-21T20:09:47.868Z"
   },
   {
    "duration": 5,
    "start_time": "2023-05-21T20:09:47.878Z"
   },
   {
    "duration": 7,
    "start_time": "2023-05-21T20:09:47.884Z"
   },
   {
    "duration": 321,
    "start_time": "2023-05-21T20:09:47.893Z"
   },
   {
    "duration": 4,
    "start_time": "2023-05-21T20:09:48.215Z"
   },
   {
    "duration": 23,
    "start_time": "2023-05-21T20:09:48.220Z"
   },
   {
    "duration": 14,
    "start_time": "2023-05-21T20:09:48.244Z"
   },
   {
    "duration": 157,
    "start_time": "2023-05-21T20:09:48.260Z"
   },
   {
    "duration": 127,
    "start_time": "2023-05-21T20:09:48.419Z"
   },
   {
    "duration": 135,
    "start_time": "2023-05-21T20:09:48.552Z"
   },
   {
    "duration": 130,
    "start_time": "2023-05-21T20:09:48.689Z"
   },
   {
    "duration": 134,
    "start_time": "2023-05-21T20:09:48.820Z"
   },
   {
    "duration": 136,
    "start_time": "2023-05-21T20:09:48.955Z"
   },
   {
    "duration": 112,
    "start_time": "2023-05-21T20:09:49.093Z"
   },
   {
    "duration": 150,
    "start_time": "2023-05-21T20:09:49.206Z"
   },
   {
    "duration": 127,
    "start_time": "2023-05-21T20:09:49.358Z"
   },
   {
    "duration": 111,
    "start_time": "2023-05-21T20:09:49.487Z"
   },
   {
    "duration": 401,
    "start_time": "2023-05-21T20:09:49.600Z"
   },
   {
    "duration": 136,
    "start_time": "2023-05-21T20:09:50.003Z"
   },
   {
    "duration": 123,
    "start_time": "2023-05-21T20:09:50.141Z"
   },
   {
    "duration": 174,
    "start_time": "2023-05-21T20:09:50.266Z"
   },
   {
    "duration": 8,
    "start_time": "2023-05-21T20:09:50.441Z"
   },
   {
    "duration": 21,
    "start_time": "2023-05-21T20:09:50.450Z"
   },
   {
    "duration": 129,
    "start_time": "2023-05-21T20:09:50.472Z"
   },
   {
    "duration": 4,
    "start_time": "2023-05-21T20:09:50.603Z"
   },
   {
    "duration": 16,
    "start_time": "2023-05-21T20:09:50.618Z"
   },
   {
    "duration": 149,
    "start_time": "2023-05-21T20:09:50.635Z"
   },
   {
    "duration": 5,
    "start_time": "2023-05-21T20:09:50.786Z"
   },
   {
    "duration": 37,
    "start_time": "2023-05-21T20:09:50.793Z"
   },
   {
    "duration": 135,
    "start_time": "2023-05-21T20:09:50.831Z"
   },
   {
    "duration": 5,
    "start_time": "2023-05-21T20:09:50.968Z"
   },
   {
    "duration": 36,
    "start_time": "2023-05-21T20:09:50.974Z"
   },
   {
    "duration": 132,
    "start_time": "2023-05-21T20:09:51.011Z"
   },
   {
    "duration": 4,
    "start_time": "2023-05-21T20:09:51.145Z"
   },
   {
    "duration": 22,
    "start_time": "2023-05-21T20:09:51.150Z"
   },
   {
    "duration": 151,
    "start_time": "2023-05-21T20:09:51.174Z"
   },
   {
    "duration": 5,
    "start_time": "2023-05-21T20:09:51.327Z"
   },
   {
    "duration": 32,
    "start_time": "2023-05-21T20:09:51.333Z"
   },
   {
    "duration": 130,
    "start_time": "2023-05-21T20:09:51.367Z"
   },
   {
    "duration": 20,
    "start_time": "2023-05-21T20:09:51.498Z"
   },
   {
    "duration": 157,
    "start_time": "2023-05-21T20:09:51.519Z"
   },
   {
    "duration": 4,
    "start_time": "2023-05-21T20:09:51.677Z"
   },
   {
    "duration": 36,
    "start_time": "2023-05-21T20:09:51.683Z"
   },
   {
    "duration": 147,
    "start_time": "2023-05-21T20:09:51.720Z"
   },
   {
    "duration": 5,
    "start_time": "2023-05-21T20:09:51.868Z"
   },
   {
    "duration": 31,
    "start_time": "2023-05-21T20:09:51.874Z"
   },
   {
    "duration": 136,
    "start_time": "2023-05-21T20:09:51.906Z"
   },
   {
    "duration": 4,
    "start_time": "2023-05-21T20:09:52.044Z"
   },
   {
    "duration": 10,
    "start_time": "2023-05-21T20:09:52.049Z"
   },
   {
    "duration": 28,
    "start_time": "2023-05-21T20:09:52.061Z"
   },
   {
    "duration": 36,
    "start_time": "2023-05-21T20:09:52.090Z"
   },
   {
    "duration": 16,
    "start_time": "2023-05-21T20:09:52.127Z"
   },
   {
    "duration": 10,
    "start_time": "2023-05-21T20:09:52.146Z"
   },
   {
    "duration": 6,
    "start_time": "2023-05-21T20:09:52.157Z"
   },
   {
    "duration": 25,
    "start_time": "2023-05-21T20:09:52.164Z"
   },
   {
    "duration": 245,
    "start_time": "2023-05-21T20:09:52.190Z"
   },
   {
    "duration": 5,
    "start_time": "2023-05-21T20:09:52.436Z"
   },
   {
    "duration": 129,
    "start_time": "2023-05-21T20:09:52.442Z"
   },
   {
    "duration": 8,
    "start_time": "2023-05-21T20:09:52.572Z"
   },
   {
    "duration": 37,
    "start_time": "2023-05-21T20:09:52.582Z"
   },
   {
    "duration": 3,
    "start_time": "2023-05-21T20:09:59.949Z"
   },
   {
    "duration": 13,
    "start_time": "2023-05-21T20:10:01.695Z"
   },
   {
    "duration": 15,
    "start_time": "2023-05-21T20:10:58.421Z"
   },
   {
    "duration": 200,
    "start_time": "2023-05-21T20:11:03.374Z"
   },
   {
    "duration": 22,
    "start_time": "2023-05-21T20:11:03.576Z"
   },
   {
    "duration": 29,
    "start_time": "2023-05-21T20:11:03.600Z"
   },
   {
    "duration": 4,
    "start_time": "2023-05-21T20:11:03.632Z"
   },
   {
    "duration": 1788,
    "start_time": "2023-05-21T20:11:03.637Z"
   },
   {
    "duration": 4,
    "start_time": "2023-05-21T20:11:05.426Z"
   },
   {
    "duration": 12,
    "start_time": "2023-05-21T20:11:05.432Z"
   },
   {
    "duration": 38,
    "start_time": "2023-05-21T20:11:05.446Z"
   },
   {
    "duration": 6,
    "start_time": "2023-05-21T20:11:05.485Z"
   },
   {
    "duration": 19,
    "start_time": "2023-05-21T20:11:05.493Z"
   },
   {
    "duration": 20,
    "start_time": "2023-05-21T20:11:05.514Z"
   },
   {
    "duration": 26,
    "start_time": "2023-05-21T20:11:05.536Z"
   },
   {
    "duration": 19,
    "start_time": "2023-05-21T20:11:05.564Z"
   },
   {
    "duration": 88,
    "start_time": "2023-05-21T20:11:05.585Z"
   },
   {
    "duration": 38,
    "start_time": "2023-05-21T20:11:05.675Z"
   },
   {
    "duration": 7,
    "start_time": "2023-05-21T20:11:05.715Z"
   },
   {
    "duration": 24,
    "start_time": "2023-05-21T20:11:05.724Z"
   },
   {
    "duration": 22,
    "start_time": "2023-05-21T20:11:05.750Z"
   },
   {
    "duration": 28,
    "start_time": "2023-05-21T20:11:05.773Z"
   },
   {
    "duration": 15,
    "start_time": "2023-05-21T20:11:05.802Z"
   },
   {
    "duration": 43,
    "start_time": "2023-05-21T20:11:05.818Z"
   },
   {
    "duration": 29,
    "start_time": "2023-05-21T20:11:05.863Z"
   },
   {
    "duration": 4,
    "start_time": "2023-05-21T20:11:05.893Z"
   },
   {
    "duration": 7,
    "start_time": "2023-05-21T20:11:05.899Z"
   },
   {
    "duration": 17,
    "start_time": "2023-05-21T20:11:05.908Z"
   },
   {
    "duration": 20,
    "start_time": "2023-05-21T20:11:05.927Z"
   },
   {
    "duration": 3,
    "start_time": "2023-05-21T20:11:05.948Z"
   },
   {
    "duration": 38,
    "start_time": "2023-05-21T20:11:05.956Z"
   },
   {
    "duration": 10,
    "start_time": "2023-05-21T20:11:05.996Z"
   },
   {
    "duration": 19,
    "start_time": "2023-05-21T20:11:06.007Z"
   },
   {
    "duration": 18,
    "start_time": "2023-05-21T20:11:06.028Z"
   },
   {
    "duration": 24,
    "start_time": "2023-05-21T20:11:06.048Z"
   },
   {
    "duration": 31,
    "start_time": "2023-05-21T20:11:06.073Z"
   },
   {
    "duration": 38,
    "start_time": "2023-05-21T20:11:06.106Z"
   },
   {
    "duration": 14,
    "start_time": "2023-05-21T20:11:06.146Z"
   },
   {
    "duration": 6,
    "start_time": "2023-05-21T20:11:06.161Z"
   },
   {
    "duration": 10,
    "start_time": "2023-05-21T20:11:06.169Z"
   },
   {
    "duration": 7,
    "start_time": "2023-05-21T20:11:06.181Z"
   },
   {
    "duration": 28,
    "start_time": "2023-05-21T20:11:06.190Z"
   },
   {
    "duration": 12,
    "start_time": "2023-05-21T20:11:06.220Z"
   },
   {
    "duration": 24,
    "start_time": "2023-05-21T20:11:06.233Z"
   },
   {
    "duration": 39,
    "start_time": "2023-05-21T20:11:06.258Z"
   },
   {
    "duration": 9,
    "start_time": "2023-05-21T20:11:06.317Z"
   },
   {
    "duration": 8,
    "start_time": "2023-05-21T20:11:06.328Z"
   },
   {
    "duration": 7,
    "start_time": "2023-05-21T20:11:06.338Z"
   },
   {
    "duration": 15,
    "start_time": "2023-05-21T20:11:06.347Z"
   },
   {
    "duration": 9,
    "start_time": "2023-05-21T20:11:06.364Z"
   },
   {
    "duration": 49,
    "start_time": "2023-05-21T20:11:06.375Z"
   },
   {
    "duration": 22,
    "start_time": "2023-05-21T20:11:06.426Z"
   },
   {
    "duration": 19,
    "start_time": "2023-05-21T20:11:06.450Z"
   },
   {
    "duration": 16,
    "start_time": "2023-05-21T20:11:06.471Z"
   },
   {
    "duration": 7,
    "start_time": "2023-05-21T20:11:06.517Z"
   },
   {
    "duration": 11,
    "start_time": "2023-05-21T20:11:06.526Z"
   },
   {
    "duration": 4,
    "start_time": "2023-05-21T20:11:06.538Z"
   },
   {
    "duration": 6,
    "start_time": "2023-05-21T20:11:06.544Z"
   },
   {
    "duration": 37,
    "start_time": "2023-05-21T20:11:06.552Z"
   },
   {
    "duration": 10,
    "start_time": "2023-05-21T20:11:06.617Z"
   },
   {
    "duration": 9,
    "start_time": "2023-05-21T20:11:06.629Z"
   },
   {
    "duration": 8,
    "start_time": "2023-05-21T20:11:06.639Z"
   },
   {
    "duration": 10,
    "start_time": "2023-05-21T20:11:06.649Z"
   },
   {
    "duration": 20,
    "start_time": "2023-05-21T20:11:06.660Z"
   },
   {
    "duration": 48,
    "start_time": "2023-05-21T20:11:06.682Z"
   },
   {
    "duration": 7,
    "start_time": "2023-05-21T20:11:06.732Z"
   },
   {
    "duration": 24,
    "start_time": "2023-05-21T20:11:06.740Z"
   },
   {
    "duration": 28,
    "start_time": "2023-05-21T20:11:06.766Z"
   },
   {
    "duration": 9,
    "start_time": "2023-05-21T20:11:06.796Z"
   },
   {
    "duration": 6,
    "start_time": "2023-05-21T20:11:06.807Z"
   },
   {
    "duration": 11,
    "start_time": "2023-05-21T20:11:06.815Z"
   },
   {
    "duration": 14,
    "start_time": "2023-05-21T20:11:06.828Z"
   },
   {
    "duration": 4,
    "start_time": "2023-05-21T20:11:06.844Z"
   },
   {
    "duration": 16,
    "start_time": "2023-05-21T20:11:06.850Z"
   },
   {
    "duration": 46,
    "start_time": "2023-05-21T20:11:06.868Z"
   },
   {
    "duration": 37,
    "start_time": "2023-05-21T20:11:06.916Z"
   },
   {
    "duration": 23,
    "start_time": "2023-05-21T20:11:06.954Z"
   },
   {
    "duration": 12,
    "start_time": "2023-05-21T20:11:06.979Z"
   },
   {
    "duration": 305,
    "start_time": "2023-05-21T20:11:06.993Z"
   },
   {
    "duration": 3,
    "start_time": "2023-05-21T20:11:07.300Z"
   },
   {
    "duration": 42,
    "start_time": "2023-05-21T20:11:07.304Z"
   },
   {
    "duration": 25,
    "start_time": "2023-05-21T20:11:07.347Z"
   },
   {
    "duration": 143,
    "start_time": "2023-05-21T20:11:07.374Z"
   },
   {
    "duration": 122,
    "start_time": "2023-05-21T20:11:07.519Z"
   },
   {
    "duration": 144,
    "start_time": "2023-05-21T20:11:07.647Z"
   },
   {
    "duration": 134,
    "start_time": "2023-05-21T20:11:07.792Z"
   },
   {
    "duration": 132,
    "start_time": "2023-05-21T20:11:07.928Z"
   },
   {
    "duration": 158,
    "start_time": "2023-05-21T20:11:08.062Z"
   },
   {
    "duration": 110,
    "start_time": "2023-05-21T20:11:08.222Z"
   },
   {
    "duration": 153,
    "start_time": "2023-05-21T20:11:08.333Z"
   },
   {
    "duration": 139,
    "start_time": "2023-05-21T20:11:08.488Z"
   },
   {
    "duration": 113,
    "start_time": "2023-05-21T20:11:08.628Z"
   },
   {
    "duration": 148,
    "start_time": "2023-05-21T20:11:08.743Z"
   },
   {
    "duration": 130,
    "start_time": "2023-05-21T20:11:08.892Z"
   },
   {
    "duration": 127,
    "start_time": "2023-05-21T20:11:09.024Z"
   },
   {
    "duration": 183,
    "start_time": "2023-05-21T20:11:09.153Z"
   },
   {
    "duration": 8,
    "start_time": "2023-05-21T20:11:09.338Z"
   },
   {
    "duration": 22,
    "start_time": "2023-05-21T20:11:09.347Z"
   },
   {
    "duration": 454,
    "start_time": "2023-05-21T20:11:09.371Z"
   },
   {
    "duration": 5,
    "start_time": "2023-05-21T20:11:09.827Z"
   },
   {
    "duration": 18,
    "start_time": "2023-05-21T20:11:09.834Z"
   },
   {
    "duration": 166,
    "start_time": "2023-05-21T20:11:09.853Z"
   },
   {
    "duration": 5,
    "start_time": "2023-05-21T20:11:10.021Z"
   },
   {
    "duration": 26,
    "start_time": "2023-05-21T20:11:10.028Z"
   },
   {
    "duration": 147,
    "start_time": "2023-05-21T20:11:10.056Z"
   },
   {
    "duration": 16,
    "start_time": "2023-05-21T20:11:10.205Z"
   },
   {
    "duration": 18,
    "start_time": "2023-05-21T20:11:10.222Z"
   },
   {
    "duration": 143,
    "start_time": "2023-05-21T20:11:10.241Z"
   },
   {
    "duration": 4,
    "start_time": "2023-05-21T20:11:10.386Z"
   },
   {
    "duration": 39,
    "start_time": "2023-05-21T20:11:10.391Z"
   },
   {
    "duration": 142,
    "start_time": "2023-05-21T20:11:10.432Z"
   },
   {
    "duration": 5,
    "start_time": "2023-05-21T20:11:10.576Z"
   },
   {
    "duration": 49,
    "start_time": "2023-05-21T20:11:10.582Z"
   },
   {
    "duration": 122,
    "start_time": "2023-05-21T20:11:10.632Z"
   },
   {
    "duration": 14,
    "start_time": "2023-05-21T20:11:10.756Z"
   },
   {
    "duration": 300,
    "start_time": "2023-05-21T20:11:10.771Z"
   },
   {
    "duration": 47,
    "start_time": "2023-05-21T20:11:11.073Z"
   },
   {
    "duration": 25,
    "start_time": "2023-05-21T20:11:11.122Z"
   },
   {
    "duration": 209,
    "start_time": "2023-05-21T20:11:11.149Z"
   },
   {
    "duration": 4,
    "start_time": "2023-05-21T20:11:11.360Z"
   },
   {
    "duration": 19,
    "start_time": "2023-05-21T20:11:11.366Z"
   },
   {
    "duration": 147,
    "start_time": "2023-05-21T20:11:11.387Z"
   },
   {
    "duration": 5,
    "start_time": "2023-05-21T20:11:11.536Z"
   },
   {
    "duration": 12,
    "start_time": "2023-05-21T20:11:11.543Z"
   },
   {
    "duration": 31,
    "start_time": "2023-05-21T20:11:11.556Z"
   },
   {
    "duration": 23,
    "start_time": "2023-05-21T20:11:11.589Z"
   },
   {
    "duration": 16,
    "start_time": "2023-05-21T20:11:11.614Z"
   },
   {
    "duration": 10,
    "start_time": "2023-05-21T20:11:11.632Z"
   },
   {
    "duration": 6,
    "start_time": "2023-05-21T20:11:11.644Z"
   },
   {
    "duration": 7,
    "start_time": "2023-05-21T20:11:11.651Z"
   },
   {
    "duration": 264,
    "start_time": "2023-05-21T20:11:11.659Z"
   },
   {
    "duration": 6,
    "start_time": "2023-05-21T20:11:11.925Z"
   },
   {
    "duration": 128,
    "start_time": "2023-05-21T20:11:11.933Z"
   },
   {
    "duration": 9,
    "start_time": "2023-05-21T20:11:12.062Z"
   },
   {
    "duration": 38,
    "start_time": "2023-05-21T20:11:12.072Z"
   },
   {
    "duration": 13,
    "start_time": "2023-05-21T20:11:18.983Z"
   },
   {
    "duration": 14,
    "start_time": "2023-05-21T20:11:26.359Z"
   },
   {
    "duration": 37,
    "start_time": "2023-05-21T20:14:19.966Z"
   },
   {
    "duration": 5,
    "start_time": "2023-05-21T20:14:31.078Z"
   },
   {
    "duration": 22,
    "start_time": "2023-05-21T20:14:34.262Z"
   },
   {
    "duration": 171,
    "start_time": "2023-05-21T20:14:36.492Z"
   },
   {
    "duration": 228,
    "start_time": "2023-05-21T20:14:53.288Z"
   },
   {
    "duration": 7,
    "start_time": "2023-05-21T20:14:57.031Z"
   },
   {
    "duration": 119,
    "start_time": "2023-05-21T20:14:59.578Z"
   },
   {
    "duration": 28,
    "start_time": "2023-05-21T20:15:58.950Z"
   },
   {
    "duration": 164,
    "start_time": "2023-05-21T20:16:34.363Z"
   },
   {
    "duration": 29,
    "start_time": "2023-05-21T20:16:34.530Z"
   },
   {
    "duration": 36,
    "start_time": "2023-05-21T20:16:34.561Z"
   },
   {
    "duration": 5,
    "start_time": "2023-05-21T20:16:34.617Z"
   },
   {
    "duration": 1730,
    "start_time": "2023-05-21T20:16:34.624Z"
   },
   {
    "duration": 4,
    "start_time": "2023-05-21T20:16:36.355Z"
   },
   {
    "duration": 21,
    "start_time": "2023-05-21T20:16:36.360Z"
   },
   {
    "duration": 30,
    "start_time": "2023-05-21T20:16:36.383Z"
   },
   {
    "duration": 8,
    "start_time": "2023-05-21T20:16:36.415Z"
   },
   {
    "duration": 8,
    "start_time": "2023-05-21T20:16:36.425Z"
   },
   {
    "duration": 18,
    "start_time": "2023-05-21T20:16:36.434Z"
   },
   {
    "duration": 14,
    "start_time": "2023-05-21T20:16:36.454Z"
   },
   {
    "duration": 27,
    "start_time": "2023-05-21T20:16:36.470Z"
   },
   {
    "duration": 93,
    "start_time": "2023-05-21T20:16:36.499Z"
   },
   {
    "duration": 44,
    "start_time": "2023-05-21T20:16:36.594Z"
   },
   {
    "duration": 5,
    "start_time": "2023-05-21T20:16:36.640Z"
   },
   {
    "duration": 24,
    "start_time": "2023-05-21T20:16:36.647Z"
   },
   {
    "duration": 18,
    "start_time": "2023-05-21T20:16:36.672Z"
   },
   {
    "duration": 23,
    "start_time": "2023-05-21T20:16:36.692Z"
   },
   {
    "duration": 7,
    "start_time": "2023-05-21T20:16:36.716Z"
   },
   {
    "duration": 18,
    "start_time": "2023-05-21T20:16:36.725Z"
   },
   {
    "duration": 13,
    "start_time": "2023-05-21T20:16:36.745Z"
   },
   {
    "duration": 3,
    "start_time": "2023-05-21T20:16:36.760Z"
   },
   {
    "duration": 8,
    "start_time": "2023-05-21T20:16:36.765Z"
   },
   {
    "duration": 12,
    "start_time": "2023-05-21T20:16:36.774Z"
   },
   {
    "duration": 19,
    "start_time": "2023-05-21T20:16:36.818Z"
   },
   {
    "duration": 4,
    "start_time": "2023-05-21T20:16:36.839Z"
   },
   {
    "duration": 14,
    "start_time": "2023-05-21T20:16:36.847Z"
   },
   {
    "duration": 4,
    "start_time": "2023-05-21T20:16:36.863Z"
   },
   {
    "duration": 6,
    "start_time": "2023-05-21T20:16:36.868Z"
   },
   {
    "duration": 5,
    "start_time": "2023-05-21T20:16:36.876Z"
   },
   {
    "duration": 42,
    "start_time": "2023-05-21T20:16:36.882Z"
   },
   {
    "duration": 41,
    "start_time": "2023-05-21T20:16:36.926Z"
   },
   {
    "duration": 32,
    "start_time": "2023-05-21T20:16:36.968Z"
   },
   {
    "duration": 14,
    "start_time": "2023-05-21T20:16:37.002Z"
   },
   {
    "duration": 3,
    "start_time": "2023-05-21T20:16:37.018Z"
   },
   {
    "duration": 6,
    "start_time": "2023-05-21T20:16:37.023Z"
   },
   {
    "duration": 5,
    "start_time": "2023-05-21T20:16:37.030Z"
   },
   {
    "duration": 16,
    "start_time": "2023-05-21T20:16:37.037Z"
   },
   {
    "duration": 8,
    "start_time": "2023-05-21T20:16:37.055Z"
   },
   {
    "duration": 98,
    "start_time": "2023-05-21T20:16:37.065Z"
   },
   {
    "duration": 37,
    "start_time": "2023-05-21T20:16:37.164Z"
   },
   {
    "duration": 56,
    "start_time": "2023-05-21T20:16:37.202Z"
   },
   {
    "duration": 7,
    "start_time": "2023-05-21T20:16:37.260Z"
   },
   {
    "duration": 9,
    "start_time": "2023-05-21T20:16:37.268Z"
   },
   {
    "duration": 5,
    "start_time": "2023-05-21T20:16:37.279Z"
   },
   {
    "duration": 5,
    "start_time": "2023-05-21T20:16:37.286Z"
   },
   {
    "duration": 41,
    "start_time": "2023-05-21T20:16:37.292Z"
   },
   {
    "duration": 20,
    "start_time": "2023-05-21T20:16:37.335Z"
   },
   {
    "duration": 17,
    "start_time": "2023-05-21T20:16:37.357Z"
   },
   {
    "duration": 14,
    "start_time": "2023-05-21T20:16:37.376Z"
   },
   {
    "duration": 25,
    "start_time": "2023-05-21T20:16:37.392Z"
   },
   {
    "duration": 32,
    "start_time": "2023-05-21T20:16:37.419Z"
   },
   {
    "duration": 3,
    "start_time": "2023-05-21T20:16:37.452Z"
   },
   {
    "duration": 7,
    "start_time": "2023-05-21T20:16:37.457Z"
   },
   {
    "duration": 34,
    "start_time": "2023-05-21T20:16:37.465Z"
   },
   {
    "duration": 8,
    "start_time": "2023-05-21T20:16:37.500Z"
   },
   {
    "duration": 7,
    "start_time": "2023-05-21T20:16:37.517Z"
   },
   {
    "duration": 10,
    "start_time": "2023-05-21T20:16:37.525Z"
   },
   {
    "duration": 10,
    "start_time": "2023-05-21T20:16:37.537Z"
   },
   {
    "duration": 22,
    "start_time": "2023-05-21T20:16:37.549Z"
   },
   {
    "duration": 12,
    "start_time": "2023-05-21T20:16:37.573Z"
   },
   {
    "duration": 30,
    "start_time": "2023-05-21T20:16:37.587Z"
   },
   {
    "duration": 5,
    "start_time": "2023-05-21T20:16:37.619Z"
   },
   {
    "duration": 7,
    "start_time": "2023-05-21T20:16:37.626Z"
   },
   {
    "duration": 8,
    "start_time": "2023-05-21T20:16:37.634Z"
   },
   {
    "duration": 3,
    "start_time": "2023-05-21T20:16:37.644Z"
   },
   {
    "duration": 8,
    "start_time": "2023-05-21T20:16:37.649Z"
   },
   {
    "duration": 12,
    "start_time": "2023-05-21T20:16:37.658Z"
   },
   {
    "duration": 4,
    "start_time": "2023-05-21T20:16:37.672Z"
   },
   {
    "duration": 47,
    "start_time": "2023-05-21T20:16:37.678Z"
   },
   {
    "duration": 28,
    "start_time": "2023-05-21T20:16:37.726Z"
   },
   {
    "duration": 5,
    "start_time": "2023-05-21T20:16:37.756Z"
   },
   {
    "duration": 5,
    "start_time": "2023-05-21T20:16:37.762Z"
   },
   {
    "duration": 5,
    "start_time": "2023-05-21T20:16:37.769Z"
   },
   {
    "duration": 316,
    "start_time": "2023-05-21T20:16:37.775Z"
   },
   {
    "duration": 5,
    "start_time": "2023-05-21T20:16:38.092Z"
   },
   {
    "duration": 30,
    "start_time": "2023-05-21T20:16:38.099Z"
   },
   {
    "duration": 15,
    "start_time": "2023-05-21T20:16:38.130Z"
   },
   {
    "duration": 160,
    "start_time": "2023-05-21T20:16:38.146Z"
   },
   {
    "duration": 118,
    "start_time": "2023-05-21T20:16:38.308Z"
   },
   {
    "duration": 129,
    "start_time": "2023-05-21T20:16:38.432Z"
   },
   {
    "duration": 128,
    "start_time": "2023-05-21T20:16:38.562Z"
   },
   {
    "duration": 128,
    "start_time": "2023-05-21T20:16:38.691Z"
   },
   {
    "duration": 140,
    "start_time": "2023-05-21T20:16:38.820Z"
   },
   {
    "duration": 107,
    "start_time": "2023-05-21T20:16:38.962Z"
   },
   {
    "duration": 134,
    "start_time": "2023-05-21T20:16:39.071Z"
   },
   {
    "duration": 150,
    "start_time": "2023-05-21T20:16:39.207Z"
   },
   {
    "duration": 120,
    "start_time": "2023-05-21T20:16:39.359Z"
   },
   {
    "duration": 146,
    "start_time": "2023-05-21T20:16:39.480Z"
   },
   {
    "duration": 135,
    "start_time": "2023-05-21T20:16:39.627Z"
   },
   {
    "duration": 116,
    "start_time": "2023-05-21T20:16:39.763Z"
   },
   {
    "duration": 173,
    "start_time": "2023-05-21T20:16:39.881Z"
   },
   {
    "duration": 7,
    "start_time": "2023-05-21T20:16:40.056Z"
   },
   {
    "duration": 18,
    "start_time": "2023-05-21T20:16:40.064Z"
   },
   {
    "duration": 140,
    "start_time": "2023-05-21T20:16:40.083Z"
   },
   {
    "duration": 4,
    "start_time": "2023-05-21T20:16:40.224Z"
   },
   {
    "duration": 16,
    "start_time": "2023-05-21T20:16:40.230Z"
   },
   {
    "duration": 146,
    "start_time": "2023-05-21T20:16:40.248Z"
   },
   {
    "duration": 4,
    "start_time": "2023-05-21T20:16:40.396Z"
   },
   {
    "duration": 27,
    "start_time": "2023-05-21T20:16:40.401Z"
   },
   {
    "duration": 121,
    "start_time": "2023-05-21T20:16:40.429Z"
   },
   {
    "duration": 5,
    "start_time": "2023-05-21T20:16:40.552Z"
   },
   {
    "duration": 15,
    "start_time": "2023-05-21T20:16:40.559Z"
   },
   {
    "duration": 145,
    "start_time": "2023-05-21T20:16:40.576Z"
   },
   {
    "duration": 4,
    "start_time": "2023-05-21T20:16:40.723Z"
   },
   {
    "duration": 19,
    "start_time": "2023-05-21T20:16:40.728Z"
   },
   {
    "duration": 156,
    "start_time": "2023-05-21T20:16:40.748Z"
   },
   {
    "duration": 14,
    "start_time": "2023-05-21T20:16:40.906Z"
   },
   {
    "duration": 17,
    "start_time": "2023-05-21T20:16:40.922Z"
   },
   {
    "duration": 131,
    "start_time": "2023-05-21T20:16:40.941Z"
   },
   {
    "duration": 15,
    "start_time": "2023-05-21T20:16:41.074Z"
   },
   {
    "duration": 161,
    "start_time": "2023-05-21T20:16:41.091Z"
   },
   {
    "duration": 6,
    "start_time": "2023-05-21T20:16:41.253Z"
   },
   {
    "duration": 16,
    "start_time": "2023-05-21T20:16:41.261Z"
   },
   {
    "duration": 164,
    "start_time": "2023-05-21T20:16:41.279Z"
   },
   {
    "duration": 5,
    "start_time": "2023-05-21T20:16:41.445Z"
   },
   {
    "duration": 15,
    "start_time": "2023-05-21T20:16:41.452Z"
   },
   {
    "duration": 151,
    "start_time": "2023-05-21T20:16:41.468Z"
   },
   {
    "duration": 4,
    "start_time": "2023-05-21T20:16:41.621Z"
   },
   {
    "duration": 13,
    "start_time": "2023-05-21T20:16:41.626Z"
   },
   {
    "duration": 7,
    "start_time": "2023-05-21T20:16:41.640Z"
   },
   {
    "duration": 20,
    "start_time": "2023-05-21T20:16:41.648Z"
   },
   {
    "duration": 16,
    "start_time": "2023-05-21T20:16:41.670Z"
   },
   {
    "duration": 30,
    "start_time": "2023-05-21T20:16:41.687Z"
   },
   {
    "duration": 4,
    "start_time": "2023-05-21T20:16:41.719Z"
   },
   {
    "duration": 9,
    "start_time": "2023-05-21T20:16:41.725Z"
   },
   {
    "duration": 250,
    "start_time": "2023-05-21T20:16:41.736Z"
   },
   {
    "duration": 5,
    "start_time": "2023-05-21T20:16:41.988Z"
   },
   {
    "duration": 128,
    "start_time": "2023-05-21T20:16:41.994Z"
   },
   {
    "duration": 13,
    "start_time": "2023-05-21T20:16:42.123Z"
   },
   {
    "duration": 30,
    "start_time": "2023-05-21T20:16:42.138Z"
   },
   {
    "duration": 41,
    "start_time": "2023-05-21T20:16:47.264Z"
   },
   {
    "duration": 26,
    "start_time": "2023-05-21T20:16:58.516Z"
   },
   {
    "duration": 33,
    "start_time": "2023-05-21T20:17:18.743Z"
   },
   {
    "duration": 5,
    "start_time": "2023-05-21T20:17:34.067Z"
   },
   {
    "duration": 30,
    "start_time": "2023-05-21T20:17:36.189Z"
   },
   {
    "duration": 290,
    "start_time": "2023-05-21T20:17:40.770Z"
   },
   {
    "duration": 6,
    "start_time": "2023-05-21T20:17:45.354Z"
   },
   {
    "duration": 115,
    "start_time": "2023-05-21T20:17:47.645Z"
   },
   {
    "duration": 8,
    "start_time": "2023-05-21T20:19:03.590Z"
   },
   {
    "duration": 770,
    "start_time": "2023-05-21T20:24:51.872Z"
   },
   {
    "duration": 26,
    "start_time": "2023-05-21T20:24:52.644Z"
   },
   {
    "duration": 15,
    "start_time": "2023-05-21T20:24:52.671Z"
   },
   {
    "duration": 7,
    "start_time": "2023-05-21T20:24:52.688Z"
   },
   {
    "duration": 1857,
    "start_time": "2023-05-21T20:24:52.696Z"
   },
   {
    "duration": 7,
    "start_time": "2023-05-21T20:24:54.555Z"
   },
   {
    "duration": 27,
    "start_time": "2023-05-21T20:24:54.564Z"
   },
   {
    "duration": 60,
    "start_time": "2023-05-21T20:24:54.593Z"
   },
   {
    "duration": 5,
    "start_time": "2023-05-21T20:24:54.655Z"
   },
   {
    "duration": 13,
    "start_time": "2023-05-21T20:24:54.663Z"
   },
   {
    "duration": 12,
    "start_time": "2023-05-21T20:24:54.678Z"
   },
   {
    "duration": 15,
    "start_time": "2023-05-21T20:24:54.692Z"
   },
   {
    "duration": 47,
    "start_time": "2023-05-21T20:24:54.709Z"
   },
   {
    "duration": 107,
    "start_time": "2023-05-21T20:24:54.758Z"
   },
   {
    "duration": 40,
    "start_time": "2023-05-21T20:24:54.867Z"
   },
   {
    "duration": 21,
    "start_time": "2023-05-21T20:24:54.909Z"
   },
   {
    "duration": 16,
    "start_time": "2023-05-21T20:24:54.933Z"
   },
   {
    "duration": 37,
    "start_time": "2023-05-21T20:24:54.950Z"
   },
   {
    "duration": 35,
    "start_time": "2023-05-21T20:24:54.989Z"
   },
   {
    "duration": 29,
    "start_time": "2023-05-21T20:24:55.029Z"
   },
   {
    "duration": 24,
    "start_time": "2023-05-21T20:24:55.060Z"
   },
   {
    "duration": 13,
    "start_time": "2023-05-21T20:24:55.086Z"
   },
   {
    "duration": 8,
    "start_time": "2023-05-21T20:24:55.100Z"
   },
   {
    "duration": 33,
    "start_time": "2023-05-21T20:24:55.109Z"
   },
   {
    "duration": 17,
    "start_time": "2023-05-21T20:24:55.144Z"
   },
   {
    "duration": 31,
    "start_time": "2023-05-21T20:24:55.163Z"
   },
   {
    "duration": 3,
    "start_time": "2023-05-21T20:24:55.196Z"
   },
   {
    "duration": 27,
    "start_time": "2023-05-21T20:24:55.204Z"
   },
   {
    "duration": 8,
    "start_time": "2023-05-21T20:24:55.233Z"
   },
   {
    "duration": 14,
    "start_time": "2023-05-21T20:24:55.243Z"
   },
   {
    "duration": 26,
    "start_time": "2023-05-21T20:24:55.259Z"
   },
   {
    "duration": 42,
    "start_time": "2023-05-21T20:24:55.287Z"
   },
   {
    "duration": 25,
    "start_time": "2023-05-21T20:24:55.331Z"
   },
   {
    "duration": 34,
    "start_time": "2023-05-21T20:24:55.358Z"
   },
   {
    "duration": 29,
    "start_time": "2023-05-21T20:24:55.394Z"
   },
   {
    "duration": 6,
    "start_time": "2023-05-21T20:24:55.425Z"
   },
   {
    "duration": 19,
    "start_time": "2023-05-21T20:24:55.433Z"
   },
   {
    "duration": 5,
    "start_time": "2023-05-21T20:24:55.453Z"
   },
   {
    "duration": 16,
    "start_time": "2023-05-21T20:24:55.459Z"
   },
   {
    "duration": 9,
    "start_time": "2023-05-21T20:24:55.477Z"
   },
   {
    "duration": 21,
    "start_time": "2023-05-21T20:24:55.487Z"
   },
   {
    "duration": 37,
    "start_time": "2023-05-21T20:24:55.523Z"
   },
   {
    "duration": 8,
    "start_time": "2023-05-21T20:24:55.561Z"
   },
   {
    "duration": 5,
    "start_time": "2023-05-21T20:24:55.570Z"
   },
   {
    "duration": 6,
    "start_time": "2023-05-21T20:24:55.577Z"
   },
   {
    "duration": 5,
    "start_time": "2023-05-21T20:24:55.584Z"
   },
   {
    "duration": 37,
    "start_time": "2023-05-21T20:24:55.591Z"
   },
   {
    "duration": 31,
    "start_time": "2023-05-21T20:24:55.630Z"
   },
   {
    "duration": 19,
    "start_time": "2023-05-21T20:24:55.663Z"
   },
   {
    "duration": 19,
    "start_time": "2023-05-21T20:24:55.683Z"
   },
   {
    "duration": 37,
    "start_time": "2023-05-21T20:24:55.704Z"
   },
   {
    "duration": 5,
    "start_time": "2023-05-21T20:24:55.743Z"
   },
   {
    "duration": 31,
    "start_time": "2023-05-21T20:24:55.749Z"
   },
   {
    "duration": 2,
    "start_time": "2023-05-21T20:24:55.782Z"
   },
   {
    "duration": 8,
    "start_time": "2023-05-21T20:24:55.786Z"
   },
   {
    "duration": 40,
    "start_time": "2023-05-21T20:24:55.795Z"
   },
   {
    "duration": 7,
    "start_time": "2023-05-21T20:24:55.837Z"
   },
   {
    "duration": 7,
    "start_time": "2023-05-21T20:24:55.845Z"
   },
   {
    "duration": 11,
    "start_time": "2023-05-21T20:24:55.853Z"
   },
   {
    "duration": 12,
    "start_time": "2023-05-21T20:24:55.865Z"
   },
   {
    "duration": 18,
    "start_time": "2023-05-21T20:24:55.878Z"
   },
   {
    "duration": 33,
    "start_time": "2023-05-21T20:24:55.898Z"
   },
   {
    "duration": 6,
    "start_time": "2023-05-21T20:24:55.933Z"
   },
   {
    "duration": 6,
    "start_time": "2023-05-21T20:24:55.940Z"
   },
   {
    "duration": 7,
    "start_time": "2023-05-21T20:24:55.948Z"
   },
   {
    "duration": 9,
    "start_time": "2023-05-21T20:24:55.956Z"
   },
   {
    "duration": 13,
    "start_time": "2023-05-21T20:24:55.966Z"
   },
   {
    "duration": 24,
    "start_time": "2023-05-21T20:24:55.980Z"
   },
   {
    "duration": 21,
    "start_time": "2023-05-21T20:24:56.006Z"
   },
   {
    "duration": 5,
    "start_time": "2023-05-21T20:24:56.029Z"
   },
   {
    "duration": 14,
    "start_time": "2023-05-21T20:24:56.035Z"
   },
   {
    "duration": 25,
    "start_time": "2023-05-21T20:24:56.050Z"
   },
   {
    "duration": 4,
    "start_time": "2023-05-21T20:24:56.077Z"
   },
   {
    "duration": 16,
    "start_time": "2023-05-21T20:24:56.082Z"
   },
   {
    "duration": 42,
    "start_time": "2023-05-21T20:24:56.099Z"
   },
   {
    "duration": 307,
    "start_time": "2023-05-21T20:24:56.143Z"
   },
   {
    "duration": 3,
    "start_time": "2023-05-21T20:24:56.452Z"
   },
   {
    "duration": 34,
    "start_time": "2023-05-21T20:24:56.457Z"
   },
   {
    "duration": 12,
    "start_time": "2023-05-21T20:24:56.492Z"
   },
   {
    "duration": 137,
    "start_time": "2023-05-21T20:24:56.505Z"
   },
   {
    "duration": 128,
    "start_time": "2023-05-21T20:24:56.643Z"
   },
   {
    "duration": 193,
    "start_time": "2023-05-21T20:24:56.776Z"
   },
   {
    "duration": 128,
    "start_time": "2023-05-21T20:24:56.971Z"
   },
   {
    "duration": 137,
    "start_time": "2023-05-21T20:24:57.100Z"
   },
   {
    "duration": 141,
    "start_time": "2023-05-21T20:24:57.238Z"
   },
   {
    "duration": 124,
    "start_time": "2023-05-21T20:24:57.380Z"
   },
   {
    "duration": 144,
    "start_time": "2023-05-21T20:24:57.505Z"
   },
   {
    "duration": 140,
    "start_time": "2023-05-21T20:24:57.650Z"
   },
   {
    "duration": 136,
    "start_time": "2023-05-21T20:24:57.792Z"
   },
   {
    "duration": 147,
    "start_time": "2023-05-21T20:24:57.930Z"
   },
   {
    "duration": 148,
    "start_time": "2023-05-21T20:24:58.078Z"
   },
   {
    "duration": 114,
    "start_time": "2023-05-21T20:24:58.233Z"
   },
   {
    "duration": 189,
    "start_time": "2023-05-21T20:24:58.348Z"
   },
   {
    "duration": 8,
    "start_time": "2023-05-21T20:24:58.539Z"
   },
   {
    "duration": 25,
    "start_time": "2023-05-21T20:24:58.548Z"
   },
   {
    "duration": 206,
    "start_time": "2023-05-21T20:24:58.575Z"
   },
   {
    "duration": 6,
    "start_time": "2023-05-21T20:24:58.783Z"
   },
   {
    "duration": 46,
    "start_time": "2023-05-21T20:24:58.791Z"
   },
   {
    "duration": 134,
    "start_time": "2023-05-21T20:24:58.838Z"
   },
   {
    "duration": 5,
    "start_time": "2023-05-21T20:24:58.974Z"
   },
   {
    "duration": 18,
    "start_time": "2023-05-21T20:24:58.981Z"
   },
   {
    "duration": 145,
    "start_time": "2023-05-21T20:24:59.000Z"
   },
   {
    "duration": 5,
    "start_time": "2023-05-21T20:24:59.147Z"
   },
   {
    "duration": 18,
    "start_time": "2023-05-21T20:24:59.153Z"
   },
   {
    "duration": 146,
    "start_time": "2023-05-21T20:24:59.173Z"
   },
   {
    "duration": 9,
    "start_time": "2023-05-21T20:24:59.321Z"
   },
   {
    "duration": 20,
    "start_time": "2023-05-21T20:24:59.332Z"
   },
   {
    "duration": 150,
    "start_time": "2023-05-21T20:24:59.353Z"
   },
   {
    "duration": 19,
    "start_time": "2023-05-21T20:24:59.504Z"
   },
   {
    "duration": 28,
    "start_time": "2023-05-21T20:24:59.525Z"
   },
   {
    "duration": 128,
    "start_time": "2023-05-21T20:24:59.554Z"
   },
   {
    "duration": 14,
    "start_time": "2023-05-21T20:24:59.684Z"
   },
   {
    "duration": 156,
    "start_time": "2023-05-21T20:24:59.699Z"
   },
   {
    "duration": 4,
    "start_time": "2023-05-21T20:24:59.857Z"
   },
   {
    "duration": 16,
    "start_time": "2023-05-21T20:24:59.862Z"
   },
   {
    "duration": 169,
    "start_time": "2023-05-21T20:24:59.880Z"
   },
   {
    "duration": 5,
    "start_time": "2023-05-21T20:25:00.050Z"
   },
   {
    "duration": 100,
    "start_time": "2023-05-21T20:25:00.057Z"
   },
   {
    "duration": 169,
    "start_time": "2023-05-21T20:25:00.159Z"
   },
   {
    "duration": 6,
    "start_time": "2023-05-21T20:25:00.330Z"
   },
   {
    "duration": 64,
    "start_time": "2023-05-21T20:25:00.337Z"
   },
   {
    "duration": 48,
    "start_time": "2023-05-21T20:25:00.402Z"
   },
   {
    "duration": 62,
    "start_time": "2023-05-21T20:25:00.452Z"
   },
   {
    "duration": 47,
    "start_time": "2023-05-21T20:25:00.515Z"
   },
   {
    "duration": 27,
    "start_time": "2023-05-21T20:25:00.563Z"
   },
   {
    "duration": 42,
    "start_time": "2023-05-21T20:25:00.592Z"
   },
   {
    "duration": 35,
    "start_time": "2023-05-21T20:25:00.636Z"
   },
   {
    "duration": 256,
    "start_time": "2023-05-21T20:25:04.530Z"
   },
   {
    "duration": 7,
    "start_time": "2023-05-21T20:25:20.858Z"
   },
   {
    "duration": 109,
    "start_time": "2023-05-21T20:25:26.160Z"
   },
   {
    "duration": 10,
    "start_time": "2023-05-21T20:25:29.879Z"
   },
   {
    "duration": 28,
    "start_time": "2023-05-21T20:36:58.603Z"
   },
   {
    "duration": 28,
    "start_time": "2023-05-21T20:37:00.644Z"
   },
   {
    "duration": 6,
    "start_time": "2023-05-21T20:37:03.449Z"
   },
   {
    "duration": 31,
    "start_time": "2023-05-21T20:37:16.407Z"
   },
   {
    "duration": 229,
    "start_time": "2023-05-21T20:37:22.469Z"
   },
   {
    "duration": 6,
    "start_time": "2023-05-21T20:37:34.185Z"
   },
   {
    "duration": 113,
    "start_time": "2023-05-21T20:37:37.686Z"
   },
   {
    "duration": 10,
    "start_time": "2023-05-21T20:37:40.116Z"
   },
   {
    "duration": 1129,
    "start_time": "2023-05-22T05:29:37.928Z"
   },
   {
    "duration": 12,
    "start_time": "2023-05-22T05:29:39.059Z"
   },
   {
    "duration": 15,
    "start_time": "2023-05-22T05:29:39.073Z"
   },
   {
    "duration": 8,
    "start_time": "2023-05-22T05:29:39.090Z"
   },
   {
    "duration": 101,
    "start_time": "2023-05-22T05:29:39.099Z"
   },
   {
    "duration": 0,
    "start_time": "2023-05-22T05:29:39.205Z"
   },
   {
    "duration": 0,
    "start_time": "2023-05-22T05:29:39.206Z"
   },
   {
    "duration": 0,
    "start_time": "2023-05-22T05:29:39.208Z"
   },
   {
    "duration": 0,
    "start_time": "2023-05-22T05:29:39.209Z"
   },
   {
    "duration": 0,
    "start_time": "2023-05-22T05:29:39.210Z"
   },
   {
    "duration": 0,
    "start_time": "2023-05-22T05:29:39.211Z"
   },
   {
    "duration": 0,
    "start_time": "2023-05-22T05:29:39.214Z"
   },
   {
    "duration": 0,
    "start_time": "2023-05-22T05:29:39.215Z"
   },
   {
    "duration": 0,
    "start_time": "2023-05-22T05:29:39.217Z"
   },
   {
    "duration": 0,
    "start_time": "2023-05-22T05:29:39.218Z"
   },
   {
    "duration": 0,
    "start_time": "2023-05-22T05:29:39.219Z"
   },
   {
    "duration": 0,
    "start_time": "2023-05-22T05:29:39.231Z"
   },
   {
    "duration": 0,
    "start_time": "2023-05-22T05:29:39.256Z"
   },
   {
    "duration": 0,
    "start_time": "2023-05-22T05:29:39.258Z"
   },
   {
    "duration": 0,
    "start_time": "2023-05-22T05:29:39.259Z"
   },
   {
    "duration": 0,
    "start_time": "2023-05-22T05:29:39.261Z"
   },
   {
    "duration": 0,
    "start_time": "2023-05-22T05:29:39.262Z"
   },
   {
    "duration": 0,
    "start_time": "2023-05-22T05:29:39.263Z"
   },
   {
    "duration": 0,
    "start_time": "2023-05-22T05:29:39.264Z"
   },
   {
    "duration": 0,
    "start_time": "2023-05-22T05:29:39.265Z"
   },
   {
    "duration": 0,
    "start_time": "2023-05-22T05:29:39.266Z"
   },
   {
    "duration": 0,
    "start_time": "2023-05-22T05:29:39.267Z"
   },
   {
    "duration": 0,
    "start_time": "2023-05-22T05:29:39.269Z"
   },
   {
    "duration": 0,
    "start_time": "2023-05-22T05:29:39.269Z"
   },
   {
    "duration": 0,
    "start_time": "2023-05-22T05:29:39.270Z"
   },
   {
    "duration": 0,
    "start_time": "2023-05-22T05:29:39.271Z"
   },
   {
    "duration": 0,
    "start_time": "2023-05-22T05:29:39.272Z"
   },
   {
    "duration": 0,
    "start_time": "2023-05-22T05:29:39.273Z"
   },
   {
    "duration": 0,
    "start_time": "2023-05-22T05:29:39.274Z"
   },
   {
    "duration": 0,
    "start_time": "2023-05-22T05:29:39.275Z"
   },
   {
    "duration": 0,
    "start_time": "2023-05-22T05:29:39.276Z"
   },
   {
    "duration": 0,
    "start_time": "2023-05-22T05:29:39.277Z"
   },
   {
    "duration": 0,
    "start_time": "2023-05-22T05:29:39.278Z"
   },
   {
    "duration": 0,
    "start_time": "2023-05-22T05:29:39.279Z"
   },
   {
    "duration": 0,
    "start_time": "2023-05-22T05:29:39.280Z"
   },
   {
    "duration": 0,
    "start_time": "2023-05-22T05:29:39.281Z"
   },
   {
    "duration": 0,
    "start_time": "2023-05-22T05:29:39.282Z"
   },
   {
    "duration": 0,
    "start_time": "2023-05-22T05:29:39.283Z"
   },
   {
    "duration": 0,
    "start_time": "2023-05-22T05:29:39.284Z"
   },
   {
    "duration": 0,
    "start_time": "2023-05-22T05:29:39.285Z"
   },
   {
    "duration": 0,
    "start_time": "2023-05-22T05:29:39.286Z"
   },
   {
    "duration": 0,
    "start_time": "2023-05-22T05:29:39.287Z"
   },
   {
    "duration": 0,
    "start_time": "2023-05-22T05:29:39.288Z"
   },
   {
    "duration": 0,
    "start_time": "2023-05-22T05:29:39.289Z"
   },
   {
    "duration": 0,
    "start_time": "2023-05-22T05:29:39.290Z"
   },
   {
    "duration": 0,
    "start_time": "2023-05-22T05:29:39.291Z"
   },
   {
    "duration": 0,
    "start_time": "2023-05-22T05:29:39.292Z"
   },
   {
    "duration": 0,
    "start_time": "2023-05-22T05:29:39.357Z"
   },
   {
    "duration": 0,
    "start_time": "2023-05-22T05:29:39.358Z"
   },
   {
    "duration": 0,
    "start_time": "2023-05-22T05:29:39.359Z"
   },
   {
    "duration": 0,
    "start_time": "2023-05-22T05:29:39.360Z"
   },
   {
    "duration": 0,
    "start_time": "2023-05-22T05:29:39.361Z"
   },
   {
    "duration": 0,
    "start_time": "2023-05-22T05:29:39.362Z"
   },
   {
    "duration": 0,
    "start_time": "2023-05-22T05:29:39.363Z"
   },
   {
    "duration": 0,
    "start_time": "2023-05-22T05:29:39.364Z"
   },
   {
    "duration": 0,
    "start_time": "2023-05-22T05:29:39.365Z"
   },
   {
    "duration": 0,
    "start_time": "2023-05-22T05:29:39.367Z"
   },
   {
    "duration": 0,
    "start_time": "2023-05-22T05:29:39.368Z"
   },
   {
    "duration": 0,
    "start_time": "2023-05-22T05:29:39.369Z"
   },
   {
    "duration": 0,
    "start_time": "2023-05-22T05:29:39.370Z"
   },
   {
    "duration": 0,
    "start_time": "2023-05-22T05:29:39.372Z"
   },
   {
    "duration": 0,
    "start_time": "2023-05-22T05:29:39.372Z"
   },
   {
    "duration": 0,
    "start_time": "2023-05-22T05:29:39.373Z"
   },
   {
    "duration": 0,
    "start_time": "2023-05-22T05:29:39.374Z"
   },
   {
    "duration": 0,
    "start_time": "2023-05-22T05:29:39.375Z"
   },
   {
    "duration": 0,
    "start_time": "2023-05-22T05:29:39.376Z"
   },
   {
    "duration": 0,
    "start_time": "2023-05-22T05:29:39.377Z"
   },
   {
    "duration": 0,
    "start_time": "2023-05-22T05:29:39.379Z"
   },
   {
    "duration": 0,
    "start_time": "2023-05-22T05:29:39.379Z"
   },
   {
    "duration": 0,
    "start_time": "2023-05-22T05:29:39.380Z"
   },
   {
    "duration": 0,
    "start_time": "2023-05-22T05:29:39.381Z"
   },
   {
    "duration": 0,
    "start_time": "2023-05-22T05:29:39.382Z"
   },
   {
    "duration": 0,
    "start_time": "2023-05-22T05:29:39.383Z"
   },
   {
    "duration": 0,
    "start_time": "2023-05-22T05:29:39.385Z"
   },
   {
    "duration": 0,
    "start_time": "2023-05-22T05:29:39.385Z"
   },
   {
    "duration": 0,
    "start_time": "2023-05-22T05:29:39.386Z"
   },
   {
    "duration": 0,
    "start_time": "2023-05-22T05:29:39.387Z"
   },
   {
    "duration": 0,
    "start_time": "2023-05-22T05:29:39.388Z"
   },
   {
    "duration": 0,
    "start_time": "2023-05-22T05:29:39.389Z"
   },
   {
    "duration": 0,
    "start_time": "2023-05-22T05:29:39.390Z"
   },
   {
    "duration": 0,
    "start_time": "2023-05-22T05:29:39.391Z"
   },
   {
    "duration": 0,
    "start_time": "2023-05-22T05:29:39.392Z"
   },
   {
    "duration": 0,
    "start_time": "2023-05-22T05:29:39.456Z"
   },
   {
    "duration": 0,
    "start_time": "2023-05-22T05:29:39.458Z"
   },
   {
    "duration": 0,
    "start_time": "2023-05-22T05:29:39.460Z"
   },
   {
    "duration": 0,
    "start_time": "2023-05-22T05:29:39.462Z"
   },
   {
    "duration": 0,
    "start_time": "2023-05-22T05:29:39.462Z"
   },
   {
    "duration": 0,
    "start_time": "2023-05-22T05:29:39.464Z"
   },
   {
    "duration": 0,
    "start_time": "2023-05-22T05:29:39.465Z"
   },
   {
    "duration": 0,
    "start_time": "2023-05-22T05:29:39.466Z"
   },
   {
    "duration": 0,
    "start_time": "2023-05-22T05:29:39.467Z"
   },
   {
    "duration": 0,
    "start_time": "2023-05-22T05:29:39.468Z"
   },
   {
    "duration": 0,
    "start_time": "2023-05-22T05:29:39.469Z"
   },
   {
    "duration": 0,
    "start_time": "2023-05-22T05:29:39.469Z"
   },
   {
    "duration": 0,
    "start_time": "2023-05-22T05:29:39.470Z"
   },
   {
    "duration": 0,
    "start_time": "2023-05-22T05:29:39.472Z"
   },
   {
    "duration": 0,
    "start_time": "2023-05-22T05:29:39.472Z"
   },
   {
    "duration": 0,
    "start_time": "2023-05-22T05:29:39.474Z"
   },
   {
    "duration": 0,
    "start_time": "2023-05-22T05:29:39.474Z"
   },
   {
    "duration": 0,
    "start_time": "2023-05-22T05:29:39.475Z"
   },
   {
    "duration": 0,
    "start_time": "2023-05-22T05:29:39.477Z"
   },
   {
    "duration": 0,
    "start_time": "2023-05-22T05:29:39.478Z"
   },
   {
    "duration": 0,
    "start_time": "2023-05-22T05:29:39.479Z"
   },
   {
    "duration": 0,
    "start_time": "2023-05-22T05:29:39.480Z"
   },
   {
    "duration": 0,
    "start_time": "2023-05-22T05:29:39.481Z"
   },
   {
    "duration": 0,
    "start_time": "2023-05-22T05:29:39.482Z"
   },
   {
    "duration": 0,
    "start_time": "2023-05-22T05:29:39.483Z"
   },
   {
    "duration": 0,
    "start_time": "2023-05-22T05:29:39.484Z"
   },
   {
    "duration": 0,
    "start_time": "2023-05-22T05:29:39.485Z"
   },
   {
    "duration": 0,
    "start_time": "2023-05-22T05:29:39.486Z"
   },
   {
    "duration": 0,
    "start_time": "2023-05-22T05:29:39.487Z"
   },
   {
    "duration": 0,
    "start_time": "2023-05-22T05:29:39.488Z"
   },
   {
    "duration": 0,
    "start_time": "2023-05-22T05:29:39.489Z"
   },
   {
    "duration": 0,
    "start_time": "2023-05-22T05:29:39.490Z"
   },
   {
    "duration": 0,
    "start_time": "2023-05-22T05:29:39.491Z"
   },
   {
    "duration": 0,
    "start_time": "2023-05-22T05:29:39.562Z"
   },
   {
    "duration": 0,
    "start_time": "2023-05-22T05:29:39.563Z"
   },
   {
    "duration": 0,
    "start_time": "2023-05-22T05:29:39.564Z"
   },
   {
    "duration": 0,
    "start_time": "2023-05-22T05:29:39.565Z"
   },
   {
    "duration": 0,
    "start_time": "2023-05-22T05:29:39.566Z"
   },
   {
    "duration": 0,
    "start_time": "2023-05-22T05:29:39.567Z"
   },
   {
    "duration": 0,
    "start_time": "2023-05-22T05:29:39.568Z"
   },
   {
    "duration": 0,
    "start_time": "2023-05-22T05:29:39.569Z"
   },
   {
    "duration": 0,
    "start_time": "2023-05-22T05:29:39.570Z"
   },
   {
    "duration": 0,
    "start_time": "2023-05-22T05:29:39.571Z"
   },
   {
    "duration": 0,
    "start_time": "2023-05-22T05:29:39.572Z"
   },
   {
    "duration": 0,
    "start_time": "2023-05-22T05:29:39.573Z"
   },
   {
    "duration": 0,
    "start_time": "2023-05-22T05:29:39.574Z"
   },
   {
    "duration": 0,
    "start_time": "2023-05-22T05:29:39.575Z"
   },
   {
    "duration": 0,
    "start_time": "2023-05-22T05:29:39.576Z"
   },
   {
    "duration": 0,
    "start_time": "2023-05-22T05:29:39.577Z"
   },
   {
    "duration": 0,
    "start_time": "2023-05-22T05:29:39.578Z"
   },
   {
    "duration": 0,
    "start_time": "2023-05-22T05:29:39.579Z"
   },
   {
    "duration": 790,
    "start_time": "2023-05-22T05:30:22.247Z"
   },
   {
    "duration": 27,
    "start_time": "2023-05-22T05:30:23.039Z"
   },
   {
    "duration": 14,
    "start_time": "2023-05-22T05:30:23.067Z"
   },
   {
    "duration": 4,
    "start_time": "2023-05-22T05:30:23.082Z"
   },
   {
    "duration": 1901,
    "start_time": "2023-05-22T05:30:23.088Z"
   },
   {
    "duration": 5,
    "start_time": "2023-05-22T05:30:24.991Z"
   },
   {
    "duration": 10,
    "start_time": "2023-05-22T05:30:24.997Z"
   },
   {
    "duration": 26,
    "start_time": "2023-05-22T05:30:25.009Z"
   },
   {
    "duration": 20,
    "start_time": "2023-05-22T05:30:25.037Z"
   },
   {
    "duration": 10,
    "start_time": "2023-05-22T05:30:25.058Z"
   },
   {
    "duration": 9,
    "start_time": "2023-05-22T05:30:25.070Z"
   },
   {
    "duration": 6,
    "start_time": "2023-05-22T05:30:25.080Z"
   },
   {
    "duration": 6,
    "start_time": "2023-05-22T05:30:25.088Z"
   },
   {
    "duration": 101,
    "start_time": "2023-05-22T05:30:25.096Z"
   },
   {
    "duration": 44,
    "start_time": "2023-05-22T05:30:25.199Z"
   },
   {
    "duration": 15,
    "start_time": "2023-05-22T05:30:25.245Z"
   },
   {
    "duration": 9,
    "start_time": "2023-05-22T05:30:25.261Z"
   },
   {
    "duration": 19,
    "start_time": "2023-05-22T05:30:25.271Z"
   },
   {
    "duration": 12,
    "start_time": "2023-05-22T05:30:25.292Z"
   },
   {
    "duration": 7,
    "start_time": "2023-05-22T05:30:25.306Z"
   },
   {
    "duration": 43,
    "start_time": "2023-05-22T05:30:25.314Z"
   },
   {
    "duration": 14,
    "start_time": "2023-05-22T05:30:25.359Z"
   },
   {
    "duration": 3,
    "start_time": "2023-05-22T05:30:25.375Z"
   },
   {
    "duration": 11,
    "start_time": "2023-05-22T05:30:25.380Z"
   },
   {
    "duration": 31,
    "start_time": "2023-05-22T05:30:25.392Z"
   },
   {
    "duration": 20,
    "start_time": "2023-05-22T05:30:25.425Z"
   },
   {
    "duration": 12,
    "start_time": "2023-05-22T05:30:25.447Z"
   },
   {
    "duration": 26,
    "start_time": "2023-05-22T05:30:25.461Z"
   },
   {
    "duration": 5,
    "start_time": "2023-05-22T05:30:25.488Z"
   },
   {
    "duration": 7,
    "start_time": "2023-05-22T05:30:25.495Z"
   },
   {
    "duration": 4,
    "start_time": "2023-05-22T05:30:25.504Z"
   },
   {
    "duration": 19,
    "start_time": "2023-05-22T05:30:25.509Z"
   },
   {
    "duration": 41,
    "start_time": "2023-05-22T05:30:25.530Z"
   },
   {
    "duration": 34,
    "start_time": "2023-05-22T05:30:25.572Z"
   },
   {
    "duration": 21,
    "start_time": "2023-05-22T05:30:25.608Z"
   },
   {
    "duration": 27,
    "start_time": "2023-05-22T05:30:25.631Z"
   },
   {
    "duration": 10,
    "start_time": "2023-05-22T05:30:25.660Z"
   },
   {
    "duration": 7,
    "start_time": "2023-05-22T05:30:25.672Z"
   },
   {
    "duration": 14,
    "start_time": "2023-05-22T05:30:25.680Z"
   },
   {
    "duration": 10,
    "start_time": "2023-05-22T05:30:25.695Z"
   },
   {
    "duration": 49,
    "start_time": "2023-05-22T05:30:25.710Z"
   },
   {
    "duration": 35,
    "start_time": "2023-05-22T05:30:25.761Z"
   },
   {
    "duration": 8,
    "start_time": "2023-05-22T05:30:25.797Z"
   },
   {
    "duration": 3,
    "start_time": "2023-05-22T05:30:25.807Z"
   },
   {
    "duration": 6,
    "start_time": "2023-05-22T05:30:25.812Z"
   },
   {
    "duration": 3,
    "start_time": "2023-05-22T05:30:25.820Z"
   },
   {
    "duration": 4,
    "start_time": "2023-05-22T05:30:25.856Z"
   },
   {
    "duration": 33,
    "start_time": "2023-05-22T05:30:25.862Z"
   },
   {
    "duration": 21,
    "start_time": "2023-05-22T05:30:25.897Z"
   },
   {
    "duration": 48,
    "start_time": "2023-05-22T05:30:25.919Z"
   },
   {
    "duration": 18,
    "start_time": "2023-05-22T05:30:25.972Z"
   },
   {
    "duration": 6,
    "start_time": "2023-05-22T05:30:25.992Z"
   },
   {
    "duration": 13,
    "start_time": "2023-05-22T05:30:25.999Z"
   },
   {
    "duration": 4,
    "start_time": "2023-05-22T05:30:26.014Z"
   },
   {
    "duration": 37,
    "start_time": "2023-05-22T05:30:26.019Z"
   },
   {
    "duration": 40,
    "start_time": "2023-05-22T05:30:26.058Z"
   },
   {
    "duration": 10,
    "start_time": "2023-05-22T05:30:26.099Z"
   },
   {
    "duration": 8,
    "start_time": "2023-05-22T05:30:26.111Z"
   },
   {
    "duration": 41,
    "start_time": "2023-05-22T05:30:26.121Z"
   },
   {
    "duration": 11,
    "start_time": "2023-05-22T05:30:26.164Z"
   },
   {
    "duration": 23,
    "start_time": "2023-05-22T05:30:26.177Z"
   },
   {
    "duration": 18,
    "start_time": "2023-05-22T05:30:26.202Z"
   },
   {
    "duration": 4,
    "start_time": "2023-05-22T05:30:26.222Z"
   },
   {
    "duration": 7,
    "start_time": "2023-05-22T05:30:26.257Z"
   },
   {
    "duration": 8,
    "start_time": "2023-05-22T05:30:26.266Z"
   },
   {
    "duration": 10,
    "start_time": "2023-05-22T05:30:26.276Z"
   },
   {
    "duration": 3,
    "start_time": "2023-05-22T05:30:26.288Z"
   },
   {
    "duration": 13,
    "start_time": "2023-05-22T05:30:26.292Z"
   },
   {
    "duration": 53,
    "start_time": "2023-05-22T05:30:26.307Z"
   },
   {
    "duration": 4,
    "start_time": "2023-05-22T05:30:26.362Z"
   },
   {
    "duration": 11,
    "start_time": "2023-05-22T05:30:26.368Z"
   },
   {
    "duration": 27,
    "start_time": "2023-05-22T05:30:26.381Z"
   },
   {
    "duration": 5,
    "start_time": "2023-05-22T05:30:26.410Z"
   },
   {
    "duration": 6,
    "start_time": "2023-05-22T05:30:26.417Z"
   },
   {
    "duration": 20,
    "start_time": "2023-05-22T05:30:26.456Z"
   },
   {
    "duration": 306,
    "start_time": "2023-05-22T05:30:26.478Z"
   },
   {
    "duration": 4,
    "start_time": "2023-05-22T05:30:26.785Z"
   },
   {
    "duration": 28,
    "start_time": "2023-05-22T05:30:26.790Z"
   },
   {
    "duration": 17,
    "start_time": "2023-05-22T05:30:26.819Z"
   },
   {
    "duration": 164,
    "start_time": "2023-05-22T05:30:26.838Z"
   },
   {
    "duration": 132,
    "start_time": "2023-05-22T05:30:27.004Z"
   },
   {
    "duration": 243,
    "start_time": "2023-05-22T05:30:27.138Z"
   },
   {
    "duration": 163,
    "start_time": "2023-05-22T05:30:27.383Z"
   },
   {
    "duration": 155,
    "start_time": "2023-05-22T05:30:27.548Z"
   },
   {
    "duration": 161,
    "start_time": "2023-05-22T05:30:27.705Z"
   },
   {
    "duration": 122,
    "start_time": "2023-05-22T05:30:27.868Z"
   },
   {
    "duration": 166,
    "start_time": "2023-05-22T05:30:27.992Z"
   },
   {
    "duration": 138,
    "start_time": "2023-05-22T05:30:28.159Z"
   },
   {
    "duration": 123,
    "start_time": "2023-05-22T05:30:28.299Z"
   },
   {
    "duration": 153,
    "start_time": "2023-05-22T05:30:28.424Z"
   },
   {
    "duration": 129,
    "start_time": "2023-05-22T05:30:28.578Z"
   },
   {
    "duration": 130,
    "start_time": "2023-05-22T05:30:28.709Z"
   },
   {
    "duration": 220,
    "start_time": "2023-05-22T05:30:28.841Z"
   },
   {
    "duration": 8,
    "start_time": "2023-05-22T05:30:29.063Z"
   },
   {
    "duration": 26,
    "start_time": "2023-05-22T05:30:29.072Z"
   },
   {
    "duration": 240,
    "start_time": "2023-05-22T05:30:29.099Z"
   },
   {
    "duration": 6,
    "start_time": "2023-05-22T05:30:29.341Z"
   },
   {
    "duration": 18,
    "start_time": "2023-05-22T05:30:29.357Z"
   },
   {
    "duration": 154,
    "start_time": "2023-05-22T05:30:29.377Z"
   },
   {
    "duration": 5,
    "start_time": "2023-05-22T05:30:29.533Z"
   },
   {
    "duration": 31,
    "start_time": "2023-05-22T05:30:29.539Z"
   },
   {
    "duration": 136,
    "start_time": "2023-05-22T05:30:29.572Z"
   },
   {
    "duration": 5,
    "start_time": "2023-05-22T05:30:29.710Z"
   },
   {
    "duration": 29,
    "start_time": "2023-05-22T05:30:29.717Z"
   },
   {
    "duration": 151,
    "start_time": "2023-05-22T05:30:29.747Z"
   },
   {
    "duration": 5,
    "start_time": "2023-05-22T05:30:29.900Z"
   },
   {
    "duration": 16,
    "start_time": "2023-05-22T05:30:29.906Z"
   },
   {
    "duration": 161,
    "start_time": "2023-05-22T05:30:29.924Z"
   },
   {
    "duration": 4,
    "start_time": "2023-05-22T05:30:30.087Z"
   },
   {
    "duration": 28,
    "start_time": "2023-05-22T05:30:30.093Z"
   },
   {
    "duration": 142,
    "start_time": "2023-05-22T05:30:30.123Z"
   },
   {
    "duration": 16,
    "start_time": "2023-05-22T05:30:30.267Z"
   },
   {
    "duration": 168,
    "start_time": "2023-05-22T05:30:30.285Z"
   },
   {
    "duration": 6,
    "start_time": "2023-05-22T05:30:30.457Z"
   },
   {
    "duration": 48,
    "start_time": "2023-05-22T05:30:30.465Z"
   },
   {
    "duration": 195,
    "start_time": "2023-05-22T05:30:30.515Z"
   },
   {
    "duration": 5,
    "start_time": "2023-05-22T05:30:30.712Z"
   },
   {
    "duration": 25,
    "start_time": "2023-05-22T05:30:30.719Z"
   },
   {
    "duration": 164,
    "start_time": "2023-05-22T05:30:30.746Z"
   },
   {
    "duration": 5,
    "start_time": "2023-05-22T05:30:30.912Z"
   },
   {
    "duration": 67,
    "start_time": "2023-05-22T05:30:30.919Z"
   },
   {
    "duration": 53,
    "start_time": "2023-05-22T05:30:30.993Z"
   },
   {
    "duration": 68,
    "start_time": "2023-05-22T05:30:31.048Z"
   },
   {
    "duration": 38,
    "start_time": "2023-05-22T05:30:31.119Z"
   },
   {
    "duration": 26,
    "start_time": "2023-05-22T05:30:31.160Z"
   },
   {
    "duration": 25,
    "start_time": "2023-05-22T05:30:31.187Z"
   },
   {
    "duration": 40,
    "start_time": "2023-05-22T05:30:31.214Z"
   },
   {
    "duration": 273,
    "start_time": "2023-05-22T05:30:31.255Z"
   },
   {
    "duration": 6,
    "start_time": "2023-05-22T05:30:31.529Z"
   },
   {
    "duration": 140,
    "start_time": "2023-05-22T05:30:31.536Z"
   },
   {
    "duration": 11,
    "start_time": "2023-05-22T05:30:31.678Z"
   },
   {
    "duration": 36,
    "start_time": "2023-05-22T05:30:31.690Z"
   },
   {
    "duration": 30,
    "start_time": "2023-05-22T05:30:31.728Z"
   },
   {
    "duration": 33,
    "start_time": "2023-05-22T05:30:31.759Z"
   },
   {
    "duration": 258,
    "start_time": "2023-05-22T05:30:31.793Z"
   },
   {
    "duration": 6,
    "start_time": "2023-05-22T05:30:32.056Z"
   },
   {
    "duration": 139,
    "start_time": "2023-05-22T05:30:32.064Z"
   },
   {
    "duration": 9,
    "start_time": "2023-05-22T05:30:32.205Z"
   },
   {
    "duration": 846,
    "start_time": "2023-05-22T07:58:37.836Z"
   },
   {
    "duration": 30,
    "start_time": "2023-05-22T07:58:38.684Z"
   },
   {
    "duration": 15,
    "start_time": "2023-05-22T07:58:38.716Z"
   },
   {
    "duration": 23,
    "start_time": "2023-05-22T07:58:38.733Z"
   },
   {
    "duration": 3346,
    "start_time": "2023-05-22T07:58:38.758Z"
   },
   {
    "duration": 6,
    "start_time": "2023-05-22T07:58:42.157Z"
   },
   {
    "duration": 11,
    "start_time": "2023-05-22T07:58:42.164Z"
   },
   {
    "duration": 88,
    "start_time": "2023-05-22T07:58:42.176Z"
   },
   {
    "duration": 6,
    "start_time": "2023-05-22T07:58:42.266Z"
   },
   {
    "duration": 7,
    "start_time": "2023-05-22T07:58:42.274Z"
   },
   {
    "duration": 6,
    "start_time": "2023-05-22T07:58:42.283Z"
   },
   {
    "duration": 6,
    "start_time": "2023-05-22T07:58:42.290Z"
   },
   {
    "duration": 14,
    "start_time": "2023-05-22T07:58:42.298Z"
   },
   {
    "duration": 174,
    "start_time": "2023-05-22T07:58:42.314Z"
   },
   {
    "duration": 92,
    "start_time": "2023-05-22T07:58:42.490Z"
   },
   {
    "duration": 6,
    "start_time": "2023-05-22T07:58:42.584Z"
   },
   {
    "duration": 65,
    "start_time": "2023-05-22T07:58:42.592Z"
   },
   {
    "duration": 14,
    "start_time": "2023-05-22T07:58:42.659Z"
   },
   {
    "duration": 17,
    "start_time": "2023-05-22T07:58:42.674Z"
   },
   {
    "duration": 70,
    "start_time": "2023-05-22T07:58:42.693Z"
   },
   {
    "duration": 20,
    "start_time": "2023-05-22T07:58:42.764Z"
   },
   {
    "duration": 16,
    "start_time": "2023-05-22T07:58:42.785Z"
   },
   {
    "duration": 54,
    "start_time": "2023-05-22T07:58:42.803Z"
   },
   {
    "duration": 9,
    "start_time": "2023-05-22T07:58:42.859Z"
   },
   {
    "duration": 23,
    "start_time": "2023-05-22T07:58:42.870Z"
   },
   {
    "duration": 92,
    "start_time": "2023-05-22T07:58:42.895Z"
   },
   {
    "duration": 4,
    "start_time": "2023-05-22T07:58:42.989Z"
   },
   {
    "duration": 22,
    "start_time": "2023-05-22T07:58:43.056Z"
   },
   {
    "duration": 6,
    "start_time": "2023-05-22T07:58:43.079Z"
   },
   {
    "duration": 78,
    "start_time": "2023-05-22T07:58:43.086Z"
   },
   {
    "duration": 90,
    "start_time": "2023-05-22T07:58:43.166Z"
   },
   {
    "duration": 20,
    "start_time": "2023-05-22T07:58:43.259Z"
   },
   {
    "duration": 82,
    "start_time": "2023-05-22T07:58:43.281Z"
   },
   {
    "duration": 97,
    "start_time": "2023-05-22T07:58:43.365Z"
   },
   {
    "duration": 18,
    "start_time": "2023-05-22T07:58:43.463Z"
   },
   {
    "duration": 10,
    "start_time": "2023-05-22T07:58:43.483Z"
   },
   {
    "duration": 67,
    "start_time": "2023-05-22T07:58:43.495Z"
   },
   {
    "duration": 9,
    "start_time": "2023-05-22T07:58:43.564Z"
   },
   {
    "duration": 88,
    "start_time": "2023-05-22T07:58:43.575Z"
   },
   {
    "duration": 16,
    "start_time": "2023-05-22T07:58:43.665Z"
   },
   {
    "duration": 93,
    "start_time": "2023-05-22T07:58:43.683Z"
   },
   {
    "duration": 99,
    "start_time": "2023-05-22T07:58:43.778Z"
   },
   {
    "duration": 9,
    "start_time": "2023-05-22T07:58:43.878Z"
   },
   {
    "duration": 76,
    "start_time": "2023-05-22T07:58:43.888Z"
   },
   {
    "duration": 9,
    "start_time": "2023-05-22T07:58:43.966Z"
   },
   {
    "duration": 6,
    "start_time": "2023-05-22T07:58:43.977Z"
   },
   {
    "duration": 8,
    "start_time": "2023-05-22T07:58:43.985Z"
   },
   {
    "duration": 97,
    "start_time": "2023-05-22T07:58:43.994Z"
   },
   {
    "duration": 76,
    "start_time": "2023-05-22T07:58:44.093Z"
   },
   {
    "duration": 21,
    "start_time": "2023-05-22T07:58:44.171Z"
   },
   {
    "duration": 79,
    "start_time": "2023-05-22T07:58:44.193Z"
   },
   {
    "duration": 7,
    "start_time": "2023-05-22T07:58:44.274Z"
   },
   {
    "duration": 17,
    "start_time": "2023-05-22T07:58:44.282Z"
   },
   {
    "duration": 66,
    "start_time": "2023-05-22T07:58:44.301Z"
   },
   {
    "duration": 6,
    "start_time": "2023-05-22T07:58:44.369Z"
   },
   {
    "duration": 93,
    "start_time": "2023-05-22T07:58:44.376Z"
   },
   {
    "duration": 8,
    "start_time": "2023-05-22T07:58:44.470Z"
   },
   {
    "duration": 77,
    "start_time": "2023-05-22T07:58:44.480Z"
   },
   {
    "duration": 10,
    "start_time": "2023-05-22T07:58:44.559Z"
   },
   {
    "duration": 11,
    "start_time": "2023-05-22T07:58:44.571Z"
   },
   {
    "duration": 85,
    "start_time": "2023-05-22T07:58:44.583Z"
   },
   {
    "duration": 16,
    "start_time": "2023-05-22T07:58:44.669Z"
   },
   {
    "duration": 128,
    "start_time": "2023-05-22T07:58:44.687Z"
   },
   {
    "duration": 10,
    "start_time": "2023-05-22T07:58:44.817Z"
   },
   {
    "duration": 8,
    "start_time": "2023-05-22T07:58:44.857Z"
   },
   {
    "duration": 13,
    "start_time": "2023-05-22T07:58:44.867Z"
   },
   {
    "duration": 5,
    "start_time": "2023-05-22T07:58:44.881Z"
   },
   {
    "duration": 74,
    "start_time": "2023-05-22T07:58:44.887Z"
   },
   {
    "duration": 14,
    "start_time": "2023-05-22T07:58:44.962Z"
   },
   {
    "duration": 4,
    "start_time": "2023-05-22T07:58:44.978Z"
   },
   {
    "duration": 81,
    "start_time": "2023-05-22T07:58:44.984Z"
   },
   {
    "duration": 33,
    "start_time": "2023-05-22T07:58:45.067Z"
   },
   {
    "duration": 64,
    "start_time": "2023-05-22T07:58:45.157Z"
   },
   {
    "duration": 6,
    "start_time": "2023-05-22T07:58:45.257Z"
   },
   {
    "duration": 3,
    "start_time": "2023-05-22T07:58:45.265Z"
   },
   {
    "duration": 709,
    "start_time": "2023-05-22T07:58:45.270Z"
   },
   {
    "duration": 6,
    "start_time": "2023-05-22T07:58:45.981Z"
   },
   {
    "duration": 86,
    "start_time": "2023-05-22T07:58:45.991Z"
   },
   {
    "duration": 85,
    "start_time": "2023-05-22T07:58:46.078Z"
   },
   {
    "duration": 396,
    "start_time": "2023-05-22T07:58:46.165Z"
   },
   {
    "duration": 297,
    "start_time": "2023-05-22T07:58:46.563Z"
   },
   {
    "duration": 511,
    "start_time": "2023-05-22T07:58:46.866Z"
   },
   {
    "duration": 311,
    "start_time": "2023-05-22T07:58:47.379Z"
   },
   {
    "duration": 371,
    "start_time": "2023-05-22T07:58:47.691Z"
   },
   {
    "duration": 322,
    "start_time": "2023-05-22T07:58:48.064Z"
   },
   {
    "duration": 284,
    "start_time": "2023-05-22T07:58:48.388Z"
   },
   {
    "duration": 398,
    "start_time": "2023-05-22T07:58:48.674Z"
   },
   {
    "duration": 225,
    "start_time": "2023-05-22T07:58:49.074Z"
   },
   {
    "duration": 236,
    "start_time": "2023-05-22T07:58:49.357Z"
   },
   {
    "duration": 363,
    "start_time": "2023-05-22T07:58:49.595Z"
   },
   {
    "duration": 302,
    "start_time": "2023-05-22T07:58:49.960Z"
   },
   {
    "duration": 240,
    "start_time": "2023-05-22T07:58:50.264Z"
   },
   {
    "duration": 435,
    "start_time": "2023-05-22T07:58:50.557Z"
   },
   {
    "duration": 65,
    "start_time": "2023-05-22T07:58:50.994Z"
   },
   {
    "duration": 22,
    "start_time": "2023-05-22T07:58:51.061Z"
   },
   {
    "duration": 505,
    "start_time": "2023-05-22T07:58:51.084Z"
   },
   {
    "duration": 6,
    "start_time": "2023-05-22T07:58:51.591Z"
   },
   {
    "duration": 118,
    "start_time": "2023-05-22T07:58:51.658Z"
   },
   {
    "duration": 317,
    "start_time": "2023-05-22T07:58:51.778Z"
   },
   {
    "duration": 61,
    "start_time": "2023-05-22T07:58:52.097Z"
   },
   {
    "duration": 26,
    "start_time": "2023-05-22T07:58:52.160Z"
   },
   {
    "duration": 299,
    "start_time": "2023-05-22T07:58:52.188Z"
   },
   {
    "duration": 6,
    "start_time": "2023-05-22T07:58:52.489Z"
   },
   {
    "duration": 20,
    "start_time": "2023-05-22T07:58:52.557Z"
   },
   {
    "duration": 303,
    "start_time": "2023-05-22T07:58:52.578Z"
   },
   {
    "duration": 5,
    "start_time": "2023-05-22T07:58:52.883Z"
   },
   {
    "duration": 78,
    "start_time": "2023-05-22T07:58:52.889Z"
   },
   {
    "duration": 316,
    "start_time": "2023-05-22T07:58:52.969Z"
   },
   {
    "duration": 5,
    "start_time": "2023-05-22T07:58:53.286Z"
   },
   {
    "duration": 83,
    "start_time": "2023-05-22T07:58:53.293Z"
   },
   {
    "duration": 312,
    "start_time": "2023-05-22T07:58:53.378Z"
   },
   {
    "duration": 72,
    "start_time": "2023-05-22T07:58:53.692Z"
   },
   {
    "duration": 327,
    "start_time": "2023-05-22T07:58:53.766Z"
   },
   {
    "duration": 5,
    "start_time": "2023-05-22T07:58:54.095Z"
   },
   {
    "duration": 14,
    "start_time": "2023-05-22T07:58:54.156Z"
   },
   {
    "duration": 305,
    "start_time": "2023-05-22T07:58:54.172Z"
   },
   {
    "duration": 5,
    "start_time": "2023-05-22T07:58:54.479Z"
   },
   {
    "duration": 82,
    "start_time": "2023-05-22T07:58:54.486Z"
   },
   {
    "duration": 309,
    "start_time": "2023-05-22T07:58:54.571Z"
   },
   {
    "duration": 5,
    "start_time": "2023-05-22T07:58:54.882Z"
   },
   {
    "duration": 73,
    "start_time": "2023-05-22T07:58:54.889Z"
   },
   {
    "duration": 25,
    "start_time": "2023-05-22T07:58:54.964Z"
   },
   {
    "duration": 75,
    "start_time": "2023-05-22T07:58:54.991Z"
   },
   {
    "duration": 36,
    "start_time": "2023-05-22T07:58:55.067Z"
   },
   {
    "duration": 58,
    "start_time": "2023-05-22T07:58:55.105Z"
   },
   {
    "duration": 6,
    "start_time": "2023-05-22T07:58:55.165Z"
   },
   {
    "duration": 21,
    "start_time": "2023-05-22T07:58:55.172Z"
   },
   {
    "duration": 562,
    "start_time": "2023-05-22T07:58:55.194Z"
   },
   {
    "duration": 6,
    "start_time": "2023-05-22T07:58:55.759Z"
   },
   {
    "duration": 229,
    "start_time": "2023-05-22T07:58:55.767Z"
   },
   {
    "duration": 62,
    "start_time": "2023-05-22T07:58:55.998Z"
   },
   {
    "duration": 30,
    "start_time": "2023-05-22T07:58:56.062Z"
   },
   {
    "duration": 66,
    "start_time": "2023-05-22T07:58:56.094Z"
   },
   {
    "duration": 95,
    "start_time": "2023-05-22T07:58:56.162Z"
   },
   {
    "duration": 539,
    "start_time": "2023-05-22T07:58:56.259Z"
   },
   {
    "duration": 5,
    "start_time": "2023-05-22T07:58:56.856Z"
   },
   {
    "duration": 228,
    "start_time": "2023-05-22T07:58:56.862Z"
   },
   {
    "duration": 66,
    "start_time": "2023-05-22T07:58:57.092Z"
   },
   {
    "duration": 1487,
    "start_time": "2023-05-22T08:15:03.406Z"
   },
   {
    "duration": 83,
    "start_time": "2023-05-22T08:15:04.896Z"
   },
   {
    "duration": 18,
    "start_time": "2023-05-22T08:15:04.981Z"
   },
   {
    "duration": 6,
    "start_time": "2023-05-22T08:15:05.058Z"
   },
   {
    "duration": 4996,
    "start_time": "2023-05-22T08:15:05.067Z"
   },
   {
    "duration": 6,
    "start_time": "2023-05-22T08:15:10.065Z"
   },
   {
    "duration": 21,
    "start_time": "2023-05-22T08:15:10.073Z"
   },
   {
    "duration": 84,
    "start_time": "2023-05-22T08:15:10.096Z"
   },
   {
    "duration": 7,
    "start_time": "2023-05-22T08:15:10.182Z"
   },
   {
    "duration": 69,
    "start_time": "2023-05-22T08:15:10.191Z"
   },
   {
    "duration": 19,
    "start_time": "2023-05-22T08:15:10.262Z"
   },
   {
    "duration": 13,
    "start_time": "2023-05-22T08:15:10.283Z"
   },
   {
    "duration": 63,
    "start_time": "2023-05-22T08:15:10.298Z"
   },
   {
    "duration": 205,
    "start_time": "2023-05-22T08:15:10.363Z"
   },
   {
    "duration": 98,
    "start_time": "2023-05-22T08:15:10.570Z"
   },
   {
    "duration": 6,
    "start_time": "2023-05-22T08:15:10.670Z"
   },
   {
    "duration": 7,
    "start_time": "2023-05-22T08:15:10.678Z"
   },
   {
    "duration": 79,
    "start_time": "2023-05-22T08:15:10.687Z"
   },
   {
    "duration": 16,
    "start_time": "2023-05-22T08:15:10.768Z"
   },
   {
    "duration": 70,
    "start_time": "2023-05-22T08:15:10.786Z"
   },
   {
    "duration": 31,
    "start_time": "2023-05-22T08:15:10.859Z"
   },
   {
    "duration": 80,
    "start_time": "2023-05-22T08:15:10.892Z"
   },
   {
    "duration": 6,
    "start_time": "2023-05-22T08:15:10.975Z"
   },
   {
    "duration": 7,
    "start_time": "2023-05-22T08:15:10.984Z"
   },
   {
    "duration": 17,
    "start_time": "2023-05-22T08:15:11.057Z"
   },
   {
    "duration": 103,
    "start_time": "2023-05-22T08:15:11.076Z"
   },
   {
    "duration": 4,
    "start_time": "2023-05-22T08:15:11.181Z"
   },
   {
    "duration": 85,
    "start_time": "2023-05-22T08:15:11.191Z"
   },
   {
    "duration": 14,
    "start_time": "2023-05-22T08:15:11.279Z"
   },
   {
    "duration": 70,
    "start_time": "2023-05-22T08:15:11.295Z"
   },
   {
    "duration": 35,
    "start_time": "2023-05-22T08:15:11.367Z"
   },
   {
    "duration": 67,
    "start_time": "2023-05-22T08:15:11.404Z"
   },
   {
    "duration": 24,
    "start_time": "2023-05-22T08:15:11.473Z"
   },
   {
    "duration": 39,
    "start_time": "2023-05-22T08:15:11.558Z"
   },
   {
    "duration": 75,
    "start_time": "2023-05-22T08:15:11.599Z"
   },
   {
    "duration": 4,
    "start_time": "2023-05-22T08:15:11.676Z"
   },
   {
    "duration": 76,
    "start_time": "2023-05-22T08:15:11.681Z"
   },
   {
    "duration": 15,
    "start_time": "2023-05-22T08:15:11.759Z"
   },
   {
    "duration": 25,
    "start_time": "2023-05-22T08:15:11.776Z"
   },
   {
    "duration": 67,
    "start_time": "2023-05-22T08:15:11.802Z"
   },
   {
    "duration": 29,
    "start_time": "2023-05-22T08:15:11.871Z"
   },
   {
    "duration": 102,
    "start_time": "2023-05-22T08:15:11.957Z"
   },
   {
    "duration": 10,
    "start_time": "2023-05-22T08:15:12.061Z"
   },
   {
    "duration": 7,
    "start_time": "2023-05-22T08:15:12.072Z"
   },
   {
    "duration": 11,
    "start_time": "2023-05-22T08:15:12.081Z"
   },
   {
    "duration": 73,
    "start_time": "2023-05-22T08:15:12.094Z"
   },
   {
    "duration": 7,
    "start_time": "2023-05-22T08:15:12.168Z"
   },
   {
    "duration": 224,
    "start_time": "2023-05-22T08:15:12.177Z"
   },
   {
    "duration": 81,
    "start_time": "2023-05-22T08:15:12.403Z"
   },
   {
    "duration": 72,
    "start_time": "2023-05-22T08:15:12.486Z"
   },
   {
    "duration": 20,
    "start_time": "2023-05-22T08:15:12.560Z"
   },
   {
    "duration": 79,
    "start_time": "2023-05-22T08:15:12.582Z"
   },
   {
    "duration": 19,
    "start_time": "2023-05-22T08:15:12.663Z"
   },
   {
    "duration": 4,
    "start_time": "2023-05-22T08:15:12.684Z"
   },
   {
    "duration": 68,
    "start_time": "2023-05-22T08:15:12.690Z"
   },
   {
    "duration": 102,
    "start_time": "2023-05-22T08:15:12.760Z"
   },
   {
    "duration": 9,
    "start_time": "2023-05-22T08:15:12.864Z"
   },
   {
    "duration": 8,
    "start_time": "2023-05-22T08:15:12.875Z"
   },
   {
    "duration": 78,
    "start_time": "2023-05-22T08:15:12.885Z"
   },
   {
    "duration": 18,
    "start_time": "2023-05-22T08:15:12.966Z"
   },
   {
    "duration": 97,
    "start_time": "2023-05-22T08:15:12.986Z"
   },
   {
    "duration": 78,
    "start_time": "2023-05-22T08:15:13.085Z"
   },
   {
    "duration": 6,
    "start_time": "2023-05-22T08:15:13.166Z"
   },
   {
    "duration": 82,
    "start_time": "2023-05-22T08:15:13.175Z"
   },
   {
    "duration": 8,
    "start_time": "2023-05-22T08:15:13.259Z"
   },
   {
    "duration": 12,
    "start_time": "2023-05-22T08:15:13.269Z"
   },
   {
    "duration": 5,
    "start_time": "2023-05-22T08:15:13.282Z"
   },
   {
    "duration": 86,
    "start_time": "2023-05-22T08:15:13.289Z"
   },
   {
    "duration": 13,
    "start_time": "2023-05-22T08:15:13.377Z"
   },
   {
    "duration": 4,
    "start_time": "2023-05-22T08:15:13.392Z"
   },
   {
    "duration": 13,
    "start_time": "2023-05-22T08:15:13.457Z"
   },
   {
    "duration": 86,
    "start_time": "2023-05-22T08:15:13.471Z"
   },
   {
    "duration": 6,
    "start_time": "2023-05-22T08:15:13.559Z"
   },
   {
    "duration": 14,
    "start_time": "2023-05-22T08:15:13.566Z"
   },
   {
    "duration": 3,
    "start_time": "2023-05-22T08:15:13.582Z"
   },
   {
    "duration": 613,
    "start_time": "2023-05-22T08:15:13.586Z"
   },
   {
    "duration": 57,
    "start_time": "2023-05-22T08:15:14.201Z"
   },
   {
    "duration": 36,
    "start_time": "2023-05-22T08:15:14.260Z"
   },
   {
    "duration": 25,
    "start_time": "2023-05-22T08:15:14.357Z"
   },
   {
    "duration": 319,
    "start_time": "2023-05-22T08:15:14.384Z"
   },
   {
    "duration": 233,
    "start_time": "2023-05-22T08:15:14.757Z"
   },
   {
    "duration": 577,
    "start_time": "2023-05-22T08:15:14.997Z"
   },
   {
    "duration": 309,
    "start_time": "2023-05-22T08:15:15.576Z"
   },
   {
    "duration": 408,
    "start_time": "2023-05-22T08:15:15.887Z"
   },
   {
    "duration": 389,
    "start_time": "2023-05-22T08:15:16.298Z"
   },
   {
    "duration": 296,
    "start_time": "2023-05-22T08:15:16.689Z"
   },
   {
    "duration": 311,
    "start_time": "2023-05-22T08:15:16.987Z"
   },
   {
    "duration": 360,
    "start_time": "2023-05-22T08:15:17.300Z"
   },
   {
    "duration": 231,
    "start_time": "2023-05-22T08:15:17.661Z"
   },
   {
    "duration": 386,
    "start_time": "2023-05-22T08:15:17.895Z"
   },
   {
    "duration": 315,
    "start_time": "2023-05-22T08:15:18.283Z"
   },
   {
    "duration": 310,
    "start_time": "2023-05-22T08:15:18.655Z"
   },
   {
    "duration": 497,
    "start_time": "2023-05-22T08:15:18.968Z"
   },
   {
    "duration": 10,
    "start_time": "2023-05-22T08:15:19.467Z"
   },
   {
    "duration": 86,
    "start_time": "2023-05-22T08:15:19.478Z"
   },
   {
    "duration": 527,
    "start_time": "2023-05-22T08:15:19.566Z"
   },
   {
    "duration": 62,
    "start_time": "2023-05-22T08:15:20.095Z"
   },
   {
    "duration": 22,
    "start_time": "2023-05-22T08:15:20.159Z"
   },
   {
    "duration": 376,
    "start_time": "2023-05-22T08:15:20.183Z"
   },
   {
    "duration": 5,
    "start_time": "2023-05-22T08:15:20.561Z"
   },
   {
    "duration": 22,
    "start_time": "2023-05-22T08:15:20.568Z"
   },
   {
    "duration": 367,
    "start_time": "2023-05-22T08:15:20.592Z"
   },
   {
    "duration": 5,
    "start_time": "2023-05-22T08:15:20.961Z"
   },
   {
    "duration": 23,
    "start_time": "2023-05-22T08:15:20.968Z"
   },
   {
    "duration": 310,
    "start_time": "2023-05-22T08:15:20.992Z"
   },
   {
    "duration": 56,
    "start_time": "2023-05-22T08:15:21.304Z"
   },
   {
    "duration": 23,
    "start_time": "2023-05-22T08:15:21.362Z"
   },
   {
    "duration": 385,
    "start_time": "2023-05-22T08:15:21.387Z"
   },
   {
    "duration": 6,
    "start_time": "2023-05-22T08:15:21.774Z"
   },
   {
    "duration": 79,
    "start_time": "2023-05-22T08:15:21.781Z"
   },
   {
    "duration": 318,
    "start_time": "2023-05-22T08:15:21.862Z"
   },
   {
    "duration": 76,
    "start_time": "2023-05-22T08:15:22.182Z"
   },
   {
    "duration": 900,
    "start_time": "2023-05-22T08:16:38.938Z"
   },
   {
    "duration": 31,
    "start_time": "2023-05-22T08:16:39.840Z"
   },
   {
    "duration": 17,
    "start_time": "2023-05-22T08:16:39.872Z"
   },
   {
    "duration": 4,
    "start_time": "2023-05-22T08:16:39.891Z"
   },
   {
    "duration": 2093,
    "start_time": "2023-05-22T08:16:39.897Z"
   },
   {
    "duration": 5,
    "start_time": "2023-05-22T08:16:41.992Z"
   },
   {
    "duration": 13,
    "start_time": "2023-05-22T08:16:41.999Z"
   },
   {
    "duration": 50,
    "start_time": "2023-05-22T08:16:42.013Z"
   },
   {
    "duration": 6,
    "start_time": "2023-05-22T08:16:42.064Z"
   },
   {
    "duration": 7,
    "start_time": "2023-05-22T08:16:42.073Z"
   },
   {
    "duration": 6,
    "start_time": "2023-05-22T08:16:42.082Z"
   },
   {
    "duration": 9,
    "start_time": "2023-05-22T08:16:42.089Z"
   },
   {
    "duration": 9,
    "start_time": "2023-05-22T08:16:42.100Z"
   },
   {
    "duration": 116,
    "start_time": "2023-05-22T08:16:42.110Z"
   },
   {
    "duration": 45,
    "start_time": "2023-05-22T08:16:42.228Z"
   },
   {
    "duration": 6,
    "start_time": "2023-05-22T08:16:42.274Z"
   },
   {
    "duration": 12,
    "start_time": "2023-05-22T08:16:42.282Z"
   },
   {
    "duration": 17,
    "start_time": "2023-05-22T08:16:42.296Z"
   },
   {
    "duration": 15,
    "start_time": "2023-05-22T08:16:42.314Z"
   },
   {
    "duration": 31,
    "start_time": "2023-05-22T08:16:42.330Z"
   },
   {
    "duration": 21,
    "start_time": "2023-05-22T08:16:42.363Z"
   },
   {
    "duration": 15,
    "start_time": "2023-05-22T08:16:42.385Z"
   },
   {
    "duration": 4,
    "start_time": "2023-05-22T08:16:42.402Z"
   },
   {
    "duration": 7,
    "start_time": "2023-05-22T08:16:42.408Z"
   },
   {
    "duration": 45,
    "start_time": "2023-05-22T08:16:42.417Z"
   },
   {
    "duration": 24,
    "start_time": "2023-05-22T08:16:42.464Z"
   },
   {
    "duration": 5,
    "start_time": "2023-05-22T08:16:42.490Z"
   },
   {
    "duration": 28,
    "start_time": "2023-05-22T08:16:42.499Z"
   },
   {
    "duration": 5,
    "start_time": "2023-05-22T08:16:42.529Z"
   },
   {
    "duration": 25,
    "start_time": "2023-05-22T08:16:42.535Z"
   },
   {
    "duration": 7,
    "start_time": "2023-05-22T08:16:42.561Z"
   },
   {
    "duration": 17,
    "start_time": "2023-05-22T08:16:42.569Z"
   },
   {
    "duration": 26,
    "start_time": "2023-05-22T08:16:42.588Z"
   },
   {
    "duration": 65,
    "start_time": "2023-05-22T08:16:42.616Z"
   },
   {
    "duration": 18,
    "start_time": "2023-05-22T08:16:42.683Z"
   },
   {
    "duration": 5,
    "start_time": "2023-05-22T08:16:42.703Z"
   },
   {
    "duration": 7,
    "start_time": "2023-05-22T08:16:42.710Z"
   },
   {
    "duration": 5,
    "start_time": "2023-05-22T08:16:42.719Z"
   },
   {
    "duration": 15,
    "start_time": "2023-05-22T08:16:42.757Z"
   },
   {
    "duration": 12,
    "start_time": "2023-05-22T08:16:42.773Z"
   },
   {
    "duration": 27,
    "start_time": "2023-05-22T08:16:42.787Z"
   },
   {
    "duration": 65,
    "start_time": "2023-05-22T08:16:42.816Z"
   },
   {
    "duration": 9,
    "start_time": "2023-05-22T08:16:42.883Z"
   },
   {
    "duration": 19,
    "start_time": "2023-05-22T08:16:42.894Z"
   },
   {
    "duration": 45,
    "start_time": "2023-05-22T08:16:42.915Z"
   },
   {
    "duration": 5,
    "start_time": "2023-05-22T08:16:42.961Z"
   },
   {
    "duration": 16,
    "start_time": "2023-05-22T08:16:42.968Z"
   },
   {
    "duration": 36,
    "start_time": "2023-05-22T08:16:42.986Z"
   },
   {
    "duration": 34,
    "start_time": "2023-05-22T08:16:43.024Z"
   },
   {
    "duration": 22,
    "start_time": "2023-05-22T08:16:43.060Z"
   },
   {
    "duration": 18,
    "start_time": "2023-05-22T08:16:43.084Z"
   },
   {
    "duration": 14,
    "start_time": "2023-05-22T08:16:43.104Z"
   },
   {
    "duration": 37,
    "start_time": "2023-05-22T08:16:43.120Z"
   },
   {
    "duration": 33,
    "start_time": "2023-05-22T08:16:43.159Z"
   },
   {
    "duration": 33,
    "start_time": "2023-05-22T08:16:43.194Z"
   },
   {
    "duration": 50,
    "start_time": "2023-05-22T08:16:43.229Z"
   },
   {
    "duration": 9,
    "start_time": "2023-05-22T08:16:43.281Z"
   },
   {
    "duration": 7,
    "start_time": "2023-05-22T08:16:43.291Z"
   },
   {
    "duration": 14,
    "start_time": "2023-05-22T08:16:43.300Z"
   },
   {
    "duration": 8,
    "start_time": "2023-05-22T08:16:43.316Z"
   },
   {
    "duration": 49,
    "start_time": "2023-05-22T08:16:43.326Z"
   },
   {
    "duration": 16,
    "start_time": "2023-05-22T08:16:43.377Z"
   },
   {
    "duration": 5,
    "start_time": "2023-05-22T08:16:43.394Z"
   },
   {
    "duration": 11,
    "start_time": "2023-05-22T08:16:43.400Z"
   },
   {
    "duration": 12,
    "start_time": "2023-05-22T08:16:43.413Z"
   },
   {
    "duration": 33,
    "start_time": "2023-05-22T08:16:43.426Z"
   },
   {
    "duration": 4,
    "start_time": "2023-05-22T08:16:43.461Z"
   },
   {
    "duration": 30,
    "start_time": "2023-05-22T08:16:43.467Z"
   },
   {
    "duration": 23,
    "start_time": "2023-05-22T08:16:43.499Z"
   },
   {
    "duration": 5,
    "start_time": "2023-05-22T08:16:43.524Z"
   },
   {
    "duration": 31,
    "start_time": "2023-05-22T08:16:43.530Z"
   },
   {
    "duration": 44,
    "start_time": "2023-05-22T08:16:43.563Z"
   },
   {
    "duration": 7,
    "start_time": "2023-05-22T08:16:43.609Z"
   },
   {
    "duration": 7,
    "start_time": "2023-05-22T08:16:43.618Z"
   },
   {
    "duration": 6,
    "start_time": "2023-05-22T08:16:43.627Z"
   },
   {
    "duration": 299,
    "start_time": "2023-05-22T08:16:43.635Z"
   },
   {
    "duration": 4,
    "start_time": "2023-05-22T08:16:43.935Z"
   },
   {
    "duration": 71,
    "start_time": "2023-05-22T08:16:43.941Z"
   },
   {
    "duration": 14,
    "start_time": "2023-05-22T08:16:44.014Z"
   },
   {
    "duration": 152,
    "start_time": "2023-05-22T08:16:44.030Z"
   },
   {
    "duration": 162,
    "start_time": "2023-05-22T08:16:44.184Z"
   },
   {
    "duration": 241,
    "start_time": "2023-05-22T08:16:44.356Z"
   },
   {
    "duration": 159,
    "start_time": "2023-05-22T08:16:44.599Z"
   },
   {
    "duration": 156,
    "start_time": "2023-05-22T08:16:44.760Z"
   },
   {
    "duration": 176,
    "start_time": "2023-05-22T08:16:44.918Z"
   },
   {
    "duration": 134,
    "start_time": "2023-05-22T08:16:45.096Z"
   },
   {
    "duration": 171,
    "start_time": "2023-05-22T08:16:45.232Z"
   },
   {
    "duration": 148,
    "start_time": "2023-05-22T08:16:45.404Z"
   },
   {
    "duration": 132,
    "start_time": "2023-05-22T08:16:45.557Z"
   },
   {
    "duration": 172,
    "start_time": "2023-05-22T08:16:45.691Z"
   },
   {
    "duration": 160,
    "start_time": "2023-05-22T08:16:45.865Z"
   },
   {
    "duration": 148,
    "start_time": "2023-05-22T08:16:46.027Z"
   },
   {
    "duration": 215,
    "start_time": "2023-05-22T08:16:46.177Z"
   },
   {
    "duration": 10,
    "start_time": "2023-05-22T08:16:46.395Z"
   },
   {
    "duration": 25,
    "start_time": "2023-05-22T08:16:46.408Z"
   },
   {
    "duration": 263,
    "start_time": "2023-05-22T08:16:46.457Z"
   },
   {
    "duration": 5,
    "start_time": "2023-05-22T08:16:46.722Z"
   },
   {
    "duration": 32,
    "start_time": "2023-05-22T08:16:46.729Z"
   },
   {
    "duration": 174,
    "start_time": "2023-05-22T08:16:46.763Z"
   },
   {
    "duration": 6,
    "start_time": "2023-05-22T08:16:46.939Z"
   },
   {
    "duration": 21,
    "start_time": "2023-05-22T08:16:46.957Z"
   },
   {
    "duration": 168,
    "start_time": "2023-05-22T08:16:46.980Z"
   },
   {
    "duration": 10,
    "start_time": "2023-05-22T08:16:47.150Z"
   },
   {
    "duration": 19,
    "start_time": "2023-05-22T08:16:47.161Z"
   },
   {
    "duration": 190,
    "start_time": "2023-05-22T08:16:47.182Z"
   },
   {
    "duration": 7,
    "start_time": "2023-05-22T08:16:47.374Z"
   },
   {
    "duration": 29,
    "start_time": "2023-05-22T08:16:47.382Z"
   },
   {
    "duration": 184,
    "start_time": "2023-05-22T08:16:47.413Z"
   },
   {
    "duration": 6,
    "start_time": "2023-05-22T08:16:47.599Z"
   },
   {
    "duration": 22,
    "start_time": "2023-05-22T08:16:47.607Z"
   },
   {
    "duration": 168,
    "start_time": "2023-05-22T08:16:47.630Z"
   },
   {
    "duration": 16,
    "start_time": "2023-05-22T08:16:47.800Z"
   },
   {
    "duration": 197,
    "start_time": "2023-05-22T08:16:47.818Z"
   },
   {
    "duration": 6,
    "start_time": "2023-05-22T08:16:48.017Z"
   },
   {
    "duration": 32,
    "start_time": "2023-05-22T08:16:48.024Z"
   },
   {
    "duration": 177,
    "start_time": "2023-05-22T08:16:48.058Z"
   },
   {
    "duration": 6,
    "start_time": "2023-05-22T08:16:48.237Z"
   },
   {
    "duration": 84,
    "start_time": "2023-05-22T08:16:48.245Z"
   },
   {
    "duration": 168,
    "start_time": "2023-05-22T08:16:48.331Z"
   },
   {
    "duration": 5,
    "start_time": "2023-05-22T08:16:48.501Z"
   },
   {
    "duration": 29,
    "start_time": "2023-05-22T08:16:48.508Z"
   },
   {
    "duration": 18,
    "start_time": "2023-05-22T08:16:48.539Z"
   },
   {
    "duration": 57,
    "start_time": "2023-05-22T08:16:48.559Z"
   },
   {
    "duration": 22,
    "start_time": "2023-05-22T08:16:48.618Z"
   },
   {
    "duration": 28,
    "start_time": "2023-05-22T08:16:48.642Z"
   },
   {
    "duration": 7,
    "start_time": "2023-05-22T08:16:48.672Z"
   },
   {
    "duration": 6,
    "start_time": "2023-05-22T08:16:48.681Z"
   },
   {
    "duration": 303,
    "start_time": "2023-05-22T08:16:48.689Z"
   },
   {
    "duration": 9,
    "start_time": "2023-05-22T08:16:48.994Z"
   },
   {
    "duration": 179,
    "start_time": "2023-05-22T08:16:49.005Z"
   },
   {
    "duration": 9,
    "start_time": "2023-05-22T08:16:49.186Z"
   },
   {
    "duration": 42,
    "start_time": "2023-05-22T08:16:49.197Z"
   },
   {
    "duration": 6,
    "start_time": "2023-05-22T08:16:49.257Z"
   },
   {
    "duration": 54,
    "start_time": "2023-05-22T08:16:49.264Z"
   },
   {
    "duration": 310,
    "start_time": "2023-05-22T08:16:49.320Z"
   },
   {
    "duration": 7,
    "start_time": "2023-05-22T08:16:49.632Z"
   },
   {
    "duration": 161,
    "start_time": "2023-05-22T08:16:49.641Z"
   },
   {
    "duration": 10,
    "start_time": "2023-05-22T08:16:49.804Z"
   },
   {
    "duration": 14,
    "start_time": "2023-05-22T09:14:41.290Z"
   },
   {
    "duration": 85,
    "start_time": "2023-05-22T09:14:48.078Z"
   },
   {
    "duration": 7,
    "start_time": "2023-05-22T09:15:04.480Z"
   },
   {
    "duration": 380,
    "start_time": "2023-05-22T20:23:12.850Z"
   },
   {
    "duration": 371,
    "start_time": "2023-05-22T20:23:14.640Z"
   },
   {
    "duration": 43,
    "start_time": "2023-05-22T20:23:44.404Z"
   },
   {
    "duration": 24,
    "start_time": "2023-05-22T20:24:04.934Z"
   },
   {
    "duration": 5,
    "start_time": "2023-05-22T20:25:10.410Z"
   },
   {
    "duration": 2559,
    "start_time": "2023-05-22T20:25:26.542Z"
   },
   {
    "duration": 6,
    "start_time": "2023-05-22T20:25:51.977Z"
   },
   {
    "duration": 8,
    "start_time": "2023-05-22T20:25:57.693Z"
   },
   {
    "duration": 26,
    "start_time": "2023-05-22T20:26:02.781Z"
   },
   {
    "duration": 6,
    "start_time": "2023-05-22T20:26:11.566Z"
   },
   {
    "duration": 12,
    "start_time": "2023-05-22T20:26:18.234Z"
   },
   {
    "duration": 7,
    "start_time": "2023-05-22T20:26:19.696Z"
   },
   {
    "duration": 10,
    "start_time": "2023-05-22T20:26:24.773Z"
   },
   {
    "duration": 9,
    "start_time": "2023-05-22T20:26:33.934Z"
   },
   {
    "duration": 113,
    "start_time": "2023-05-22T20:26:39.286Z"
   },
   {
    "duration": 71,
    "start_time": "2023-05-22T20:26:40.989Z"
   },
   {
    "duration": 6,
    "start_time": "2023-05-22T20:26:43.671Z"
   },
   {
    "duration": 8,
    "start_time": "2023-05-22T20:26:54.166Z"
   },
   {
    "duration": 12,
    "start_time": "2023-05-22T20:27:09.584Z"
   },
   {
    "duration": 32,
    "start_time": "2023-05-22T20:27:18.642Z"
   },
   {
    "duration": 8,
    "start_time": "2023-05-22T20:27:27.162Z"
   },
   {
    "duration": 27,
    "start_time": "2023-05-22T20:27:43.142Z"
   },
   {
    "duration": 14,
    "start_time": "2023-05-22T20:27:48.801Z"
   },
   {
    "duration": 5,
    "start_time": "2023-05-22T20:27:49.297Z"
   },
   {
    "duration": 7,
    "start_time": "2023-05-22T20:27:49.780Z"
   },
   {
    "duration": 13,
    "start_time": "2023-05-22T20:27:50.895Z"
   },
   {
    "duration": 29,
    "start_time": "2023-05-22T20:27:59.108Z"
   },
   {
    "duration": 4,
    "start_time": "2023-05-22T20:28:02.339Z"
   },
   {
    "duration": 15,
    "start_time": "2023-05-22T20:28:03.475Z"
   },
   {
    "duration": 4,
    "start_time": "2023-05-22T20:28:03.957Z"
   },
   {
    "duration": 7,
    "start_time": "2023-05-22T20:28:04.646Z"
   },
   {
    "duration": 4,
    "start_time": "2023-05-22T20:28:07.260Z"
   },
   {
    "duration": 12,
    "start_time": "2023-05-22T20:28:07.717Z"
   },
   {
    "duration": 27,
    "start_time": "2023-05-22T20:28:19.413Z"
   },
   {
    "duration": 35,
    "start_time": "2023-05-22T20:28:23.638Z"
   },
   {
    "duration": 15,
    "start_time": "2023-05-22T20:28:33.490Z"
   },
   {
    "duration": 5,
    "start_time": "2023-05-22T20:28:34.802Z"
   },
   {
    "duration": 7,
    "start_time": "2023-05-22T20:28:36.185Z"
   },
   {
    "duration": 5,
    "start_time": "2023-05-22T20:28:45.995Z"
   },
   {
    "duration": 24,
    "start_time": "2023-05-22T20:28:47.207Z"
   },
   {
    "duration": 11,
    "start_time": "2023-05-22T20:28:49.947Z"
   },
   {
    "duration": 138,
    "start_time": "2023-05-22T20:34:16.042Z"
   },
   {
    "duration": 12,
    "start_time": "2023-05-22T20:36:56.702Z"
   },
   {
    "duration": 4,
    "start_time": "2023-05-22T20:39:35.642Z"
   },
   {
    "duration": 7,
    "start_time": "2023-05-22T20:40:43.430Z"
   },
   {
    "duration": 5,
    "start_time": "2023-05-22T20:41:39.342Z"
   },
   {
    "duration": 6,
    "start_time": "2023-05-22T20:42:36.098Z"
   },
   {
    "duration": 139,
    "start_time": "2023-05-22T20:44:06.165Z"
   },
   {
    "duration": 5,
    "start_time": "2023-05-22T20:47:06.190Z"
   },
   {
    "duration": 7,
    "start_time": "2023-05-22T20:49:36.280Z"
   },
   {
    "duration": 8,
    "start_time": "2023-05-22T20:49:52.636Z"
   },
   {
    "duration": 4,
    "start_time": "2023-05-22T20:50:35.965Z"
   },
   {
    "duration": 112,
    "start_time": "2023-05-22T20:51:16.146Z"
   },
   {
    "duration": 104,
    "start_time": "2023-05-22T20:51:28.729Z"
   },
   {
    "duration": 145,
    "start_time": "2023-05-22T20:51:37.807Z"
   },
   {
    "duration": 17,
    "start_time": "2023-05-22T20:53:01.714Z"
   },
   {
    "duration": 11,
    "start_time": "2023-05-22T20:53:11.882Z"
   },
   {
    "duration": 6,
    "start_time": "2023-05-22T20:54:00.979Z"
   },
   {
    "duration": 4,
    "start_time": "2023-05-22T20:54:20.185Z"
   },
   {
    "duration": 4,
    "start_time": "2023-05-22T20:55:23.488Z"
   },
   {
    "duration": 4,
    "start_time": "2023-05-22T20:55:32.033Z"
   },
   {
    "duration": 8,
    "start_time": "2023-05-22T20:55:41.138Z"
   },
   {
    "duration": 13,
    "start_time": "2023-05-22T20:55:44.729Z"
   },
   {
    "duration": 3,
    "start_time": "2023-05-22T20:57:47.558Z"
   },
   {
    "duration": 75,
    "start_time": "2023-05-22T20:57:54.082Z"
   },
   {
    "duration": 19,
    "start_time": "2023-05-22T20:57:57.952Z"
   },
   {
    "duration": 5,
    "start_time": "2023-05-22T20:58:10.832Z"
   },
   {
    "duration": 4,
    "start_time": "2023-05-22T20:58:13.491Z"
   },
   {
    "duration": 6,
    "start_time": "2023-05-22T20:58:23.415Z"
   },
   {
    "duration": 296,
    "start_time": "2023-05-22T20:58:29.678Z"
   },
   {
    "duration": 4,
    "start_time": "2023-05-22T20:58:53.953Z"
   },
   {
    "duration": 27,
    "start_time": "2023-05-22T21:00:34.640Z"
   },
   {
    "duration": 14,
    "start_time": "2023-05-22T21:00:43.137Z"
   },
   {
    "duration": 130,
    "start_time": "2023-05-22T21:01:19.604Z"
   },
   {
    "duration": 115,
    "start_time": "2023-05-22T21:03:09.646Z"
   },
   {
    "duration": 114,
    "start_time": "2023-05-22T21:04:08.997Z"
   },
   {
    "duration": 222,
    "start_time": "2023-05-22T21:04:59.940Z"
   },
   {
    "duration": 138,
    "start_time": "2023-05-22T21:11:39.009Z"
   },
   {
    "duration": 114,
    "start_time": "2023-05-22T21:11:58.693Z"
   },
   {
    "duration": 135,
    "start_time": "2023-05-22T21:13:14.736Z"
   },
   {
    "duration": 152,
    "start_time": "2023-05-22T21:13:38.743Z"
   },
   {
    "duration": 146,
    "start_time": "2023-05-22T21:13:48.348Z"
   },
   {
    "duration": 118,
    "start_time": "2023-05-22T21:13:59.011Z"
   },
   {
    "duration": 100,
    "start_time": "2023-05-22T21:14:09.911Z"
   },
   {
    "duration": 133,
    "start_time": "2023-05-22T21:14:23.062Z"
   },
   {
    "duration": 122,
    "start_time": "2023-05-22T21:14:33.658Z"
   },
   {
    "duration": 104,
    "start_time": "2023-05-22T21:14:42.652Z"
   },
   {
    "duration": 162,
    "start_time": "2023-05-22T21:15:09.010Z"
   },
   {
    "duration": 190,
    "start_time": "2023-05-22T21:18:05.712Z"
   },
   {
    "duration": 17,
    "start_time": "2023-05-22T21:22:27.113Z"
   },
   {
    "duration": 19,
    "start_time": "2023-05-22T21:23:09.570Z"
   },
   {
    "duration": 205,
    "start_time": "2023-05-22T21:23:19.196Z"
   },
   {
    "duration": 7,
    "start_time": "2023-05-22T21:23:26.162Z"
   },
   {
    "duration": 15,
    "start_time": "2023-05-22T21:23:42.052Z"
   },
   {
    "duration": 130,
    "start_time": "2023-05-22T21:23:48.336Z"
   },
   {
    "duration": 5,
    "start_time": "2023-05-22T21:23:51.517Z"
   },
   {
    "duration": 17,
    "start_time": "2023-05-22T21:24:11.070Z"
   },
   {
    "duration": 132,
    "start_time": "2023-05-22T21:24:15.544Z"
   },
   {
    "duration": 5,
    "start_time": "2023-05-22T21:24:21.511Z"
   },
   {
    "duration": 15,
    "start_time": "2023-05-22T21:25:19.070Z"
   },
   {
    "duration": 129,
    "start_time": "2023-05-22T21:25:25.326Z"
   },
   {
    "duration": 5,
    "start_time": "2023-05-22T21:25:28.129Z"
   },
   {
    "duration": 16,
    "start_time": "2023-05-22T21:27:56.197Z"
   },
   {
    "duration": 129,
    "start_time": "2023-05-22T21:28:07.470Z"
   },
   {
    "duration": 15,
    "start_time": "2023-05-22T21:28:12.079Z"
   },
   {
    "duration": 135,
    "start_time": "2023-05-22T21:28:15.458Z"
   },
   {
    "duration": 15,
    "start_time": "2023-05-22T21:29:01.555Z"
   },
   {
    "duration": 142,
    "start_time": "2023-05-22T21:29:06.514Z"
   },
   {
    "duration": 18,
    "start_time": "2023-05-22T21:29:19.816Z"
   },
   {
    "duration": 124,
    "start_time": "2023-05-22T21:29:24.811Z"
   },
   {
    "duration": 6,
    "start_time": "2023-05-22T21:32:35.469Z"
   },
   {
    "duration": 6,
    "start_time": "2023-05-22T21:32:37.942Z"
   },
   {
    "duration": 21,
    "start_time": "2023-05-22T21:32:39.028Z"
   },
   {
    "duration": 16,
    "start_time": "2023-05-22T21:32:45.747Z"
   },
   {
    "duration": 11,
    "start_time": "2023-05-22T21:33:27.584Z"
   },
   {
    "duration": 4,
    "start_time": "2023-05-22T21:33:45.765Z"
   },
   {
    "duration": 249,
    "start_time": "2023-05-22T21:33:55.851Z"
   },
   {
    "duration": 17,
    "start_time": "2023-05-22T21:35:00.620Z"
   },
   {
    "duration": 202,
    "start_time": "2023-05-22T21:35:14.889Z"
   },
   {
    "duration": 5,
    "start_time": "2023-05-22T21:35:27.477Z"
   },
   {
    "duration": 148,
    "start_time": "2023-05-22T21:35:34.597Z"
   },
   {
    "duration": 98,
    "start_time": "2023-05-22T21:35:42.560Z"
   },
   {
    "duration": 15,
    "start_time": "2023-05-22T21:36:37.241Z"
   },
   {
    "duration": 193,
    "start_time": "2023-05-22T21:36:55.847Z"
   },
   {
    "duration": 5,
    "start_time": "2023-05-22T21:37:07.573Z"
   },
   {
    "duration": 90,
    "start_time": "2023-05-22T21:37:22.928Z"
   },
   {
    "duration": 90,
    "start_time": "2023-05-22T21:37:28.551Z"
   },
   {
    "duration": 388,
    "start_time": "2023-05-22T21:59:40.740Z"
   },
   {
    "duration": 92,
    "start_time": "2023-05-22T21:59:41.130Z"
   },
   {
    "duration": 26,
    "start_time": "2023-05-22T21:59:41.223Z"
   },
   {
    "duration": 15,
    "start_time": "2023-05-22T21:59:41.251Z"
   },
   {
    "duration": 3,
    "start_time": "2023-05-22T21:59:41.267Z"
   },
   {
    "duration": 2077,
    "start_time": "2023-05-22T21:59:41.272Z"
   },
   {
    "duration": 6,
    "start_time": "2023-05-22T21:59:43.350Z"
   },
   {
    "duration": 10,
    "start_time": "2023-05-22T21:59:43.357Z"
   },
   {
    "duration": 25,
    "start_time": "2023-05-22T21:59:43.369Z"
   },
   {
    "duration": 5,
    "start_time": "2023-05-22T21:59:43.397Z"
   },
   {
    "duration": 5,
    "start_time": "2023-05-22T21:59:43.417Z"
   },
   {
    "duration": 5,
    "start_time": "2023-05-22T21:59:43.424Z"
   },
   {
    "duration": 8,
    "start_time": "2023-05-22T21:59:43.430Z"
   },
   {
    "duration": 9,
    "start_time": "2023-05-22T21:59:43.439Z"
   },
   {
    "duration": 110,
    "start_time": "2023-05-22T21:59:43.449Z"
   },
   {
    "duration": 41,
    "start_time": "2023-05-22T21:59:43.560Z"
   },
   {
    "duration": 14,
    "start_time": "2023-05-22T21:59:43.603Z"
   },
   {
    "duration": 7,
    "start_time": "2023-05-22T21:59:43.619Z"
   },
   {
    "duration": 14,
    "start_time": "2023-05-22T21:59:43.627Z"
   },
   {
    "duration": 15,
    "start_time": "2023-05-22T21:59:43.643Z"
   },
   {
    "duration": 7,
    "start_time": "2023-05-22T21:59:43.660Z"
   },
   {
    "duration": 18,
    "start_time": "2023-05-22T21:59:43.669Z"
   },
   {
    "duration": 14,
    "start_time": "2023-05-22T21:59:43.718Z"
   },
   {
    "duration": 5,
    "start_time": "2023-05-22T21:59:43.733Z"
   },
   {
    "duration": 10,
    "start_time": "2023-05-22T21:59:43.739Z"
   },
   {
    "duration": 9,
    "start_time": "2023-05-22T21:59:43.751Z"
   },
   {
    "duration": 20,
    "start_time": "2023-05-22T21:59:43.761Z"
   },
   {
    "duration": 4,
    "start_time": "2023-05-22T21:59:43.785Z"
   },
   {
    "duration": 16,
    "start_time": "2023-05-22T21:59:43.817Z"
   },
   {
    "duration": 4,
    "start_time": "2023-05-22T21:59:43.835Z"
   },
   {
    "duration": 12,
    "start_time": "2023-05-22T21:59:43.840Z"
   },
   {
    "duration": 7,
    "start_time": "2023-05-22T21:59:43.853Z"
   },
   {
    "duration": 11,
    "start_time": "2023-05-22T21:59:43.861Z"
   },
   {
    "duration": 21,
    "start_time": "2023-05-22T21:59:43.874Z"
   },
   {
    "duration": 32,
    "start_time": "2023-05-22T21:59:43.918Z"
   },
   {
    "duration": 14,
    "start_time": "2023-05-22T21:59:43.951Z"
   },
   {
    "duration": 3,
    "start_time": "2023-05-22T21:59:43.967Z"
   },
   {
    "duration": 7,
    "start_time": "2023-05-22T21:59:43.972Z"
   },
   {
    "duration": 5,
    "start_time": "2023-05-22T21:59:43.980Z"
   },
   {
    "duration": 40,
    "start_time": "2023-05-22T21:59:43.986Z"
   },
   {
    "duration": 11,
    "start_time": "2023-05-22T21:59:44.027Z"
   },
   {
    "duration": 137,
    "start_time": "2023-05-22T21:59:44.039Z"
   },
   {
    "duration": 11,
    "start_time": "2023-05-22T21:59:44.177Z"
   },
   {
    "duration": 3,
    "start_time": "2023-05-22T21:59:44.189Z"
   },
   {
    "duration": 23,
    "start_time": "2023-05-22T21:59:44.194Z"
   },
   {
    "duration": 3,
    "start_time": "2023-05-22T21:59:44.219Z"
   },
   {
    "duration": 7,
    "start_time": "2023-05-22T21:59:44.224Z"
   },
   {
    "duration": 6,
    "start_time": "2023-05-22T21:59:44.232Z"
   },
   {
    "duration": 14,
    "start_time": "2023-05-22T21:59:44.240Z"
   },
   {
    "duration": 3,
    "start_time": "2023-05-22T21:59:44.256Z"
   },
   {
    "duration": 5,
    "start_time": "2023-05-22T21:59:44.261Z"
   },
   {
    "duration": 122,
    "start_time": "2023-05-22T21:59:44.268Z"
   },
   {
    "duration": 11,
    "start_time": "2023-05-22T21:59:44.392Z"
   },
   {
    "duration": 16,
    "start_time": "2023-05-22T21:59:44.405Z"
   },
   {
    "duration": 8,
    "start_time": "2023-05-22T21:59:44.423Z"
   },
   {
    "duration": 5,
    "start_time": "2023-05-22T21:59:44.433Z"
   },
   {
    "duration": 7,
    "start_time": "2023-05-22T21:59:44.440Z"
   },
   {
    "duration": 16,
    "start_time": "2023-05-22T21:59:44.449Z"
   },
   {
    "duration": 16,
    "start_time": "2023-05-22T21:59:44.467Z"
   },
   {
    "duration": 32,
    "start_time": "2023-05-22T21:59:44.486Z"
   },
   {
    "duration": 12,
    "start_time": "2023-05-22T21:59:44.520Z"
   },
   {
    "duration": 27,
    "start_time": "2023-05-22T21:59:44.534Z"
   },
   {
    "duration": 10,
    "start_time": "2023-05-22T21:59:44.564Z"
   },
   {
    "duration": 5,
    "start_time": "2023-05-22T21:59:44.576Z"
   },
   {
    "duration": 3,
    "start_time": "2023-05-22T21:59:44.583Z"
   },
   {
    "duration": 318,
    "start_time": "2023-05-22T21:59:44.587Z"
   },
   {
    "duration": 3,
    "start_time": "2023-05-22T21:59:44.907Z"
   },
   {
    "duration": 25,
    "start_time": "2023-05-22T21:59:44.912Z"
   },
   {
    "duration": 15,
    "start_time": "2023-05-22T21:59:44.938Z"
   },
   {
    "duration": 209,
    "start_time": "2023-05-22T21:59:44.955Z"
   },
   {
    "duration": 137,
    "start_time": "2023-05-22T21:59:45.165Z"
   },
   {
    "duration": 120,
    "start_time": "2023-05-22T21:59:45.303Z"
   },
   {
    "duration": 224,
    "start_time": "2023-05-22T21:59:45.424Z"
   },
   {
    "duration": 132,
    "start_time": "2023-05-22T21:59:45.649Z"
   },
   {
    "duration": 124,
    "start_time": "2023-05-22T21:59:45.782Z"
   },
   {
    "duration": 150,
    "start_time": "2023-05-22T21:59:45.908Z"
   },
   {
    "duration": 121,
    "start_time": "2023-05-22T21:59:46.059Z"
   },
   {
    "duration": 133,
    "start_time": "2023-05-22T21:59:46.181Z"
   },
   {
    "duration": 118,
    "start_time": "2023-05-22T21:59:46.317Z"
   },
   {
    "duration": 166,
    "start_time": "2023-05-22T21:59:46.436Z"
   },
   {
    "duration": 135,
    "start_time": "2023-05-22T21:59:46.603Z"
   },
   {
    "duration": 137,
    "start_time": "2023-05-22T21:59:46.744Z"
   },
   {
    "duration": 116,
    "start_time": "2023-05-22T21:59:46.882Z"
   },
   {
    "duration": 173,
    "start_time": "2023-05-22T21:59:46.999Z"
   },
   {
    "duration": 193,
    "start_time": "2023-05-22T21:59:47.174Z"
   },
   {
    "duration": 9,
    "start_time": "2023-05-22T21:59:47.368Z"
   },
   {
    "duration": 21,
    "start_time": "2023-05-22T21:59:47.378Z"
   },
   {
    "duration": 154,
    "start_time": "2023-05-22T21:59:47.401Z"
   },
   {
    "duration": 4,
    "start_time": "2023-05-22T21:59:47.557Z"
   },
   {
    "duration": 19,
    "start_time": "2023-05-22T21:59:47.562Z"
   },
   {
    "duration": 152,
    "start_time": "2023-05-22T21:59:47.582Z"
   },
   {
    "duration": 4,
    "start_time": "2023-05-22T21:59:47.735Z"
   },
   {
    "duration": 29,
    "start_time": "2023-05-22T21:59:47.740Z"
   },
   {
    "duration": 129,
    "start_time": "2023-05-22T21:59:47.770Z"
   },
   {
    "duration": 5,
    "start_time": "2023-05-22T21:59:47.900Z"
   },
   {
    "duration": 23,
    "start_time": "2023-05-22T21:59:47.906Z"
   },
   {
    "duration": 203,
    "start_time": "2023-05-22T21:59:47.931Z"
   },
   {
    "duration": 5,
    "start_time": "2023-05-22T21:59:48.135Z"
   },
   {
    "duration": 16,
    "start_time": "2023-05-22T21:59:48.141Z"
   },
   {
    "duration": 137,
    "start_time": "2023-05-22T21:59:48.159Z"
   },
   {
    "duration": 21,
    "start_time": "2023-05-22T21:59:48.297Z"
   },
   {
    "duration": 146,
    "start_time": "2023-05-22T21:59:48.320Z"
   },
   {
    "duration": 14,
    "start_time": "2023-05-22T21:59:48.468Z"
   },
   {
    "duration": 147,
    "start_time": "2023-05-22T21:59:48.483Z"
   },
   {
    "duration": 14,
    "start_time": "2023-05-22T21:59:48.631Z"
   },
   {
    "duration": 140,
    "start_time": "2023-05-22T21:59:48.646Z"
   },
   {
    "duration": 8,
    "start_time": "2023-05-22T21:59:48.787Z"
   },
   {
    "duration": 21,
    "start_time": "2023-05-22T21:59:48.796Z"
   },
   {
    "duration": 22,
    "start_time": "2023-05-22T21:59:48.819Z"
   },
   {
    "duration": 14,
    "start_time": "2023-05-22T21:59:48.843Z"
   },
   {
    "duration": 10,
    "start_time": "2023-05-22T21:59:48.858Z"
   },
   {
    "duration": 3,
    "start_time": "2023-05-22T21:59:48.870Z"
   },
   {
    "duration": 247,
    "start_time": "2023-05-22T21:59:48.874Z"
   },
   {
    "duration": 16,
    "start_time": "2023-05-22T21:59:49.123Z"
   },
   {
    "duration": 218,
    "start_time": "2023-05-22T21:59:49.140Z"
   },
   {
    "duration": 4,
    "start_time": "2023-05-22T21:59:49.360Z"
   },
   {
    "duration": 114,
    "start_time": "2023-05-22T21:59:49.365Z"
   },
   {
    "duration": 16,
    "start_time": "2023-05-22T21:59:49.480Z"
   },
   {
    "duration": 220,
    "start_time": "2023-05-22T21:59:49.497Z"
   },
   {
    "duration": 6,
    "start_time": "2023-05-22T21:59:49.719Z"
   },
   {
    "duration": 105,
    "start_time": "2023-05-22T21:59:49.727Z"
   },
   {
    "duration": 468,
    "start_time": "2023-05-23T09:04:26.243Z"
   },
   {
    "duration": 692,
    "start_time": "2023-05-23T09:04:26.713Z"
   },
   {
    "duration": 30,
    "start_time": "2023-05-23T09:04:27.407Z"
   },
   {
    "duration": 23,
    "start_time": "2023-05-23T09:04:27.439Z"
   },
   {
    "duration": 88,
    "start_time": "2023-05-23T09:04:27.471Z"
   },
   {
    "duration": 2644,
    "start_time": "2023-05-23T09:04:27.561Z"
   },
   {
    "duration": 6,
    "start_time": "2023-05-23T09:04:30.208Z"
   },
   {
    "duration": 62,
    "start_time": "2023-05-23T09:04:30.216Z"
   },
   {
    "duration": 123,
    "start_time": "2023-05-23T09:04:30.280Z"
   },
   {
    "duration": 81,
    "start_time": "2023-05-23T09:04:30.406Z"
   },
   {
    "duration": 83,
    "start_time": "2023-05-23T09:04:30.489Z"
   },
   {
    "duration": 71,
    "start_time": "2023-05-23T09:04:30.574Z"
   },
   {
    "duration": 81,
    "start_time": "2023-05-23T09:04:30.647Z"
   },
   {
    "duration": 70,
    "start_time": "2023-05-23T09:04:30.729Z"
   },
   {
    "duration": 109,
    "start_time": "2023-05-23T09:04:30.801Z"
   },
   {
    "duration": 41,
    "start_time": "2023-05-23T09:04:30.912Z"
   },
   {
    "duration": 27,
    "start_time": "2023-05-23T09:04:30.955Z"
   },
   {
    "duration": 46,
    "start_time": "2023-05-23T09:04:30.984Z"
   },
   {
    "duration": 60,
    "start_time": "2023-05-23T09:04:31.031Z"
   },
   {
    "duration": 56,
    "start_time": "2023-05-23T09:04:31.093Z"
   },
   {
    "duration": 50,
    "start_time": "2023-05-23T09:04:31.151Z"
   },
   {
    "duration": 52,
    "start_time": "2023-05-23T09:04:31.203Z"
   },
   {
    "duration": 37,
    "start_time": "2023-05-23T09:04:31.257Z"
   },
   {
    "duration": 25,
    "start_time": "2023-05-23T09:04:31.296Z"
   },
   {
    "duration": 62,
    "start_time": "2023-05-23T09:04:31.323Z"
   },
   {
    "duration": 80,
    "start_time": "2023-05-23T09:04:31.387Z"
   },
   {
    "duration": 95,
    "start_time": "2023-05-23T09:04:31.469Z"
   },
   {
    "duration": 39,
    "start_time": "2023-05-23T09:04:31.570Z"
   },
   {
    "duration": 52,
    "start_time": "2023-05-23T09:04:31.611Z"
   },
   {
    "duration": 27,
    "start_time": "2023-05-23T09:04:31.665Z"
   },
   {
    "duration": 23,
    "start_time": "2023-05-23T09:04:31.694Z"
   },
   {
    "duration": 21,
    "start_time": "2023-05-23T09:04:31.719Z"
   },
   {
    "duration": 25,
    "start_time": "2023-05-23T09:04:31.742Z"
   },
   {
    "duration": 33,
    "start_time": "2023-05-23T09:04:31.769Z"
   },
   {
    "duration": 37,
    "start_time": "2023-05-23T09:04:31.804Z"
   },
   {
    "duration": 20,
    "start_time": "2023-05-23T09:04:31.843Z"
   },
   {
    "duration": 4,
    "start_time": "2023-05-23T09:04:31.872Z"
   },
   {
    "duration": 15,
    "start_time": "2023-05-23T09:04:31.878Z"
   },
   {
    "duration": 17,
    "start_time": "2023-05-23T09:04:31.895Z"
   },
   {
    "duration": 30,
    "start_time": "2023-05-23T09:04:31.914Z"
   },
   {
    "duration": 43,
    "start_time": "2023-05-23T09:04:31.946Z"
   },
   {
    "duration": 156,
    "start_time": "2023-05-23T09:04:31.991Z"
   },
   {
    "duration": 12,
    "start_time": "2023-05-23T09:04:32.149Z"
   },
   {
    "duration": 9,
    "start_time": "2023-05-23T09:04:32.163Z"
   },
   {
    "duration": 20,
    "start_time": "2023-05-23T09:04:32.174Z"
   },
   {
    "duration": 14,
    "start_time": "2023-05-23T09:04:32.196Z"
   },
   {
    "duration": 15,
    "start_time": "2023-05-23T09:04:32.212Z"
   },
   {
    "duration": 27,
    "start_time": "2023-05-23T09:04:32.229Z"
   },
   {
    "duration": 14,
    "start_time": "2023-05-23T09:04:32.258Z"
   },
   {
    "duration": 4,
    "start_time": "2023-05-23T09:04:32.274Z"
   },
   {
    "duration": 17,
    "start_time": "2023-05-23T09:04:32.280Z"
   },
   {
    "duration": 153,
    "start_time": "2023-05-23T09:04:32.299Z"
   },
   {
    "duration": 15,
    "start_time": "2023-05-23T09:04:32.455Z"
   },
   {
    "duration": 8,
    "start_time": "2023-05-23T09:04:32.472Z"
   },
   {
    "duration": 21,
    "start_time": "2023-05-23T09:04:32.481Z"
   },
   {
    "duration": 18,
    "start_time": "2023-05-23T09:04:32.504Z"
   },
   {
    "duration": 11,
    "start_time": "2023-05-23T09:04:32.524Z"
   },
   {
    "duration": 12,
    "start_time": "2023-05-23T09:04:32.537Z"
   },
   {
    "duration": 19,
    "start_time": "2023-05-23T09:04:32.552Z"
   },
   {
    "duration": 5,
    "start_time": "2023-05-23T09:04:32.574Z"
   },
   {
    "duration": 25,
    "start_time": "2023-05-23T09:04:32.581Z"
   },
   {
    "duration": 27,
    "start_time": "2023-05-23T09:04:32.609Z"
   },
   {
    "duration": 17,
    "start_time": "2023-05-23T09:04:32.638Z"
   },
   {
    "duration": 15,
    "start_time": "2023-05-23T09:04:32.657Z"
   },
   {
    "duration": 8,
    "start_time": "2023-05-23T09:04:32.674Z"
   },
   {
    "duration": 418,
    "start_time": "2023-05-23T09:04:32.683Z"
   },
   {
    "duration": 5,
    "start_time": "2023-05-23T09:04:33.104Z"
   },
   {
    "duration": 40,
    "start_time": "2023-05-23T09:04:33.111Z"
   },
   {
    "duration": 24,
    "start_time": "2023-05-23T09:04:33.153Z"
   },
   {
    "duration": 155,
    "start_time": "2023-05-23T09:04:33.178Z"
   },
   {
    "duration": 162,
    "start_time": "2023-05-23T09:04:33.335Z"
   },
   {
    "duration": 141,
    "start_time": "2023-05-23T09:04:33.498Z"
   },
   {
    "duration": 272,
    "start_time": "2023-05-23T09:04:33.641Z"
   },
   {
    "duration": 169,
    "start_time": "2023-05-23T09:04:33.915Z"
   },
   {
    "duration": 153,
    "start_time": "2023-05-23T09:04:34.087Z"
   },
   {
    "duration": 182,
    "start_time": "2023-05-23T09:04:34.242Z"
   },
   {
    "duration": 125,
    "start_time": "2023-05-23T09:04:34.426Z"
   },
   {
    "duration": 168,
    "start_time": "2023-05-23T09:04:34.553Z"
   },
   {
    "duration": 240,
    "start_time": "2023-05-23T09:04:34.723Z"
   },
   {
    "duration": 129,
    "start_time": "2023-05-23T09:04:34.964Z"
   },
   {
    "duration": 158,
    "start_time": "2023-05-23T09:04:35.095Z"
   },
   {
    "duration": 149,
    "start_time": "2023-05-23T09:04:35.259Z"
   },
   {
    "duration": 134,
    "start_time": "2023-05-23T09:04:35.409Z"
   },
   {
    "duration": 232,
    "start_time": "2023-05-23T09:04:35.545Z"
   },
   {
    "duration": 286,
    "start_time": "2023-05-23T09:04:35.779Z"
   },
   {
    "duration": 10,
    "start_time": "2023-05-23T09:04:36.071Z"
   },
   {
    "duration": 156,
    "start_time": "2023-05-23T09:04:36.083Z"
   },
   {
    "duration": 222,
    "start_time": "2023-05-23T09:04:36.240Z"
   },
   {
    "duration": 11,
    "start_time": "2023-05-23T09:04:36.464Z"
   },
   {
    "duration": 23,
    "start_time": "2023-05-23T09:04:36.477Z"
   },
   {
    "duration": 175,
    "start_time": "2023-05-23T09:04:36.502Z"
   },
   {
    "duration": 7,
    "start_time": "2023-05-23T09:04:36.679Z"
   },
   {
    "duration": 69,
    "start_time": "2023-05-23T09:04:36.688Z"
   },
   {
    "duration": 247,
    "start_time": "2023-05-23T09:04:36.758Z"
   },
   {
    "duration": 7,
    "start_time": "2023-05-23T09:04:37.006Z"
   },
   {
    "duration": 40,
    "start_time": "2023-05-23T09:04:37.014Z"
   },
   {
    "duration": 184,
    "start_time": "2023-05-23T09:04:37.056Z"
   },
   {
    "duration": 6,
    "start_time": "2023-05-23T09:04:37.242Z"
   },
   {
    "duration": 31,
    "start_time": "2023-05-23T09:04:37.250Z"
   },
   {
    "duration": 144,
    "start_time": "2023-05-23T09:04:37.283Z"
   },
   {
    "duration": 16,
    "start_time": "2023-05-23T09:04:37.429Z"
   },
   {
    "duration": 197,
    "start_time": "2023-05-23T09:04:37.447Z"
   },
   {
    "duration": 18,
    "start_time": "2023-05-23T09:04:37.646Z"
   },
   {
    "duration": 175,
    "start_time": "2023-05-23T09:04:37.672Z"
   },
   {
    "duration": 24,
    "start_time": "2023-05-23T09:04:37.849Z"
   },
   {
    "duration": 181,
    "start_time": "2023-05-23T09:04:37.875Z"
   },
   {
    "duration": 15,
    "start_time": "2023-05-23T09:04:38.058Z"
   },
   {
    "duration": 115,
    "start_time": "2023-05-23T09:04:38.075Z"
   },
   {
    "duration": 42,
    "start_time": "2023-05-23T09:04:38.192Z"
   },
   {
    "duration": 25,
    "start_time": "2023-05-23T09:04:38.236Z"
   },
   {
    "duration": 30,
    "start_time": "2023-05-23T09:04:38.263Z"
   },
   {
    "duration": 24,
    "start_time": "2023-05-23T09:04:38.295Z"
   },
   {
    "duration": 238,
    "start_time": "2023-05-23T09:04:38.321Z"
   },
   {
    "duration": 22,
    "start_time": "2023-05-23T09:04:38.561Z"
   },
   {
    "duration": 238,
    "start_time": "2023-05-23T09:04:38.585Z"
   },
   {
    "duration": 5,
    "start_time": "2023-05-23T09:04:38.825Z"
   },
   {
    "duration": 130,
    "start_time": "2023-05-23T09:04:38.831Z"
   },
   {
    "duration": 21,
    "start_time": "2023-05-23T09:04:38.963Z"
   },
   {
    "duration": 243,
    "start_time": "2023-05-23T09:04:38.986Z"
   },
   {
    "duration": 5,
    "start_time": "2023-05-23T09:04:39.231Z"
   },
   {
    "duration": 207,
    "start_time": "2023-05-23T09:04:39.238Z"
   },
   {
    "duration": 17,
    "start_time": "2023-05-23T09:05:49.808Z"
   },
   {
    "duration": 95,
    "start_time": "2023-05-23T09:05:53.450Z"
   }
  ],
  "kernelspec": {
   "display_name": "Python 3 (ipykernel)",
   "language": "python",
   "name": "python3"
  },
  "language_info": {
   "codemirror_mode": {
    "name": "ipython",
    "version": 3
   },
   "file_extension": ".py",
   "mimetype": "text/x-python",
   "name": "python",
   "nbconvert_exporter": "python",
   "pygments_lexer": "ipython3",
   "version": "3.10.9"
  },
  "toc": {
   "base_numbering": 1,
   "nav_menu": {},
   "number_sections": true,
   "sideBar": true,
   "skip_h1_title": true,
   "title_cell": "Table of Contents",
   "title_sidebar": "Contents",
   "toc_cell": false,
   "toc_position": {
    "height": "calc(100% - 180px)",
    "left": "10px",
    "top": "150px",
    "width": "165px"
   },
   "toc_section_display": true,
   "toc_window_display": true
  }
 },
 "nbformat": 4,
 "nbformat_minor": 2
}
