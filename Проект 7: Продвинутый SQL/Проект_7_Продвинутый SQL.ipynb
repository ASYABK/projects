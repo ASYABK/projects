{
 "cells": [
  {
   "cell_type": "markdown",
   "id": "8b8f9380",
   "metadata": {},
   "source": [
    "# Исследование базы данных StackOverflow"
   ]
  },
  {
   "cell_type": "markdown",
   "id": "ff071f79",
   "metadata": {},
   "source": [
    "Для анализа были выделена база данных StackOverflow — сервиса вопросов и ответов о программировании. StackOverflow похож на социальную сеть — пользователи сервиса задают вопросы, отвечают на посты, оставляют комментарии и ставят оценки другим ответам.\n",
    "Мы будем работать с версией базы, где хранятся данные о постах за 2008 год, но в таблицах также есть информация и о более поздних оценках, которые эти посты получили. "
   ]
  },
  {
   "cell_type": "markdown",
   "id": "ec0c04cb",
   "metadata": {},
   "source": [
    "## Задание 1\n",
    "\n",
    "Найдите количество вопросов, которые набрали больше 300 очков или как минимум 100 раз были добавлены в «Закладки»."
   ]
  },
  {
   "cell_type": "code",
   "execution_count": null,
   "id": "94e0ace4",
   "metadata": {},
   "outputs": [],
   "source": [
    "'''\n",
    "    SELECT COUNT(id)\n",
    "    FROM stackoverflow.posts \n",
    "    WHERE (score>300 OR favorites_count >=100) AND post_type_id = 1\n",
    "\n",
    "'''"
   ]
  },
  {
   "cell_type": "markdown",
   "id": "5d436e59",
   "metadata": {},
   "source": [
    "## Задание 2\n",
    "\n",
    "Сколько в среднем в день задавали вопросов с 1 по 18 ноября 2008 включительно? Результат округлите до целого числа."
   ]
  },
  {
   "cell_type": "code",
   "execution_count": null,
   "id": "004cfc7a",
   "metadata": {},
   "outputs": [],
   "source": [
    "'''\n",
    "    WITH full_data AS (SELECT CAST(DATE_TRUNC('day', p.creation_date) AS date) AS date, COUNT(p.id)\n",
    "                        FROM stackoverflow.posts p\n",
    "                        WHERE post_type_id = 1\n",
    "                        GROUP BY CAST(DATE_TRUNC('day', p.creation_date) AS date)\n",
    "                        HAVING CAST(DATE_TRUNC('day', p.creation_date) AS date) BETWEEN '2008-11-01' AND '2008-11-18')\n",
    "\n",
    "    SELECT ROUND(AVG(count)) \n",
    "    FROM full_data\n",
    "\n",
    "'''"
   ]
  },
  {
   "cell_type": "markdown",
   "id": "bff08301",
   "metadata": {},
   "source": [
    "## Задание 3\n",
    "\n",
    "Сколько пользователей получили значки сразу в день регистрации? Выведите количество уникальных пользователей."
   ]
  },
  {
   "cell_type": "code",
   "execution_count": null,
   "id": "73981871",
   "metadata": {},
   "outputs": [],
   "source": [
    "'''\n",
    "    SELECT COUNT(DISTINCT(u.id))\n",
    "    FROM stackoverflow.users u JOIN stackoverflow.badges b ON u.id = b.user_id\n",
    "    WHERE CAST(DATE_TRUNC('day', u.creation_date) AS date) = CAST(DATE_TRUNC('day', b.creation_date) AS date)\n",
    "\n",
    "'''"
   ]
  },
  {
   "cell_type": "markdown",
   "id": "15803c43",
   "metadata": {},
   "source": [
    "## Задание 4\n",
    "\n",
    "Сколько уникальных постов пользователя с именем Joel Coehoorn получили хотя бы один голос?"
   ]
  },
  {
   "cell_type": "code",
   "execution_count": null,
   "id": "65cbaffc",
   "metadata": {},
   "outputs": [],
   "source": [
    "'''\n",
    "    SELECT COUNT(DISTINCT(p.id))\n",
    "    FROM stackoverflow.posts p JOIN stackoverflow.users u ON p.user_id = u.id RIGHT JOIN stackoverflow.votes v ON p.id = v.post_id\n",
    "    WHERE u.display_name LIKE 'Joel Coehoorn'\n",
    "\n",
    "'''"
   ]
  },
  {
   "cell_type": "markdown",
   "id": "a6b449c1",
   "metadata": {},
   "source": [
    "## Задание 5\n",
    "\n",
    "Выгрузите все поля таблицы vote_types. Добавьте к таблице поле rank, в которое войдут номера записей в обратном порядке. Таблица должна быть отсортирована по полю id."
   ]
  },
  {
   "cell_type": "code",
   "execution_count": null,
   "id": "4901aa37",
   "metadata": {},
   "outputs": [],
   "source": [
    "'''\n",
    "    SELECT *, RANK() OVER (ORDER BY id DESC) AS rank\n",
    "    FROM stackoverflow.vote_types\n",
    "    ORDER BY id\n",
    "\n",
    "'''"
   ]
  },
  {
   "cell_type": "markdown",
   "id": "58e3b9b6",
   "metadata": {},
   "source": [
    "## Задание 6\n",
    "\n",
    "Отберите 10 пользователей, которые поставили больше всего голосов типа Close. Отобразите таблицу из двух полей: идентификатором пользователя и количеством голосов. Отсортируйте данные сначала по убыванию количества голосов, потом по убыванию значения идентификатора пользователя."
   ]
  },
  {
   "cell_type": "code",
   "execution_count": null,
   "id": "51a39303",
   "metadata": {},
   "outputs": [],
   "source": [
    "'''\n",
    "    SELECT user_id, COUNT(id)\n",
    "    FROM stackoverflow.votes\n",
    "    WHERE vote_type_id = 6\n",
    "    GROUP BY user_id\n",
    "    ORDER BY COUNT(id) DESC, user_id DESC\n",
    "    LIMIT 10\n",
    "\n",
    "'''"
   ]
  },
  {
   "cell_type": "markdown",
   "id": "b098ad97",
   "metadata": {},
   "source": [
    "## Задание 7\n",
    "\n",
    "Отберите 10 пользователей по количеству значков, полученных в период с 15 ноября по 15 декабря 2008 года включительно. Отобразите несколько полей:\n",
    "\n",
    "- идентификатор пользователя;\n",
    "- число значков;\n",
    "- место в рейтинге — чем больше значков, тем выше рейтинг.\n",
    "\n",
    "Пользователям, которые набрали одинаковое количество значков, присвойте одно и то же место в рейтинге.\n",
    "Отсортируйте записи по количеству значков по убыванию, а затем по возрастанию значения идентификатора пользователя.\n"
   ]
  },
  {
   "cell_type": "code",
   "execution_count": null,
   "id": "9c8c1e89",
   "metadata": {},
   "outputs": [],
   "source": [
    "'''\n",
    "    SELECT user_id, COUNT(id), DENSE_RANK() OVER (ORDER BY COUNT(id) DESC)\n",
    "    FROM stackoverflow.badges\n",
    "    WHERE CAST(creation_date AS date) BETWEEN '2008-11-15' AND '2008-12-15'\n",
    "    GROUP BY user_id\n",
    "    ORDER BY COUNT(id) DESC, user_id\n",
    "    LIMIT 10\n",
    "\n",
    "'''"
   ]
  },
  {
   "cell_type": "markdown",
   "id": "5c84e722",
   "metadata": {},
   "source": [
    "## Задание 8\n",
    "\n",
    "Сколько в среднем очков получает пост каждого пользователя?\n",
    "Сформируйте таблицу из следующих полей:\n",
    "\n",
    "- заголовок поста;\n",
    "- идентификатор пользователя;\n",
    "- число очков поста;\n",
    "- среднее число очков пользователя за пост, округлённое до целого числа.\n",
    "\n",
    "Не учитывайте посты без заголовка, а также те, что набрали ноль очков.\n"
   ]
  },
  {
   "cell_type": "code",
   "execution_count": null,
   "id": "b7104b62",
   "metadata": {},
   "outputs": [],
   "source": [
    "'''\n",
    "    SELECT title, \n",
    "            user_id, \n",
    "            score,\n",
    "            ROUND(AVG(score) OVER (PARTITION BY user_id))\n",
    "    FROM stackoverflow.posts\n",
    "    WHERE score <> 0 AND title IS NOT NULL\n",
    "\n",
    "'''"
   ]
  },
  {
   "cell_type": "markdown",
   "id": "5f6d8036",
   "metadata": {},
   "source": [
    "## Задание 9\n",
    "\n",
    "Отобразите заголовки постов, которые были написаны пользователями, получившими более 1000 значков. Посты без заголовков не должны попасть в список."
   ]
  },
  {
   "cell_type": "code",
   "execution_count": null,
   "id": "16455527",
   "metadata": {},
   "outputs": [],
   "source": [
    "'''\n",
    "    SELECT title\n",
    "    FROM stackoverflow.posts\n",
    "    WHERE user_id IN (SELECT user_id\n",
    "                      FROM stackoverflow.badges  \n",
    "                      GROUP BY user_id \n",
    "                      HAVING COUNT(id)>1000)\n",
    "    AND title IS NOT NULL\n",
    "\n",
    "'''"
   ]
  },
  {
   "cell_type": "markdown",
   "id": "eadaa701",
   "metadata": {},
   "source": [
    "## Задание 10\n",
    "\n",
    "Напишите запрос, который выгрузит данные о пользователях из Канады (англ. Canada). Разделите пользователей на три группы в зависимости от количества просмотров их профилей:\n",
    "\n",
    "- пользователям с числом просмотров больше либо равным 350 присвойте группу 1;\n",
    "- пользователям с числом просмотров меньше 350, но больше либо равно 100 — группу 2;\n",
    "- пользователям с числом просмотров меньше 100 — группу 3.\n",
    "\n",
    "Отобразите в итоговой таблице идентификатор пользователя, количество просмотров профиля и группу. Пользователи с количеством просмотров меньше либо равным нулю не должны войти в итоговую таблицу.\n"
   ]
  },
  {
   "cell_type": "code",
   "execution_count": null,
   "id": "def1d22f",
   "metadata": {},
   "outputs": [],
   "source": [
    "'''\n",
    "    SELECT id, \n",
    "           views,\n",
    "            CASE\n",
    "               WHEN views <100 THEN 3\n",
    "               WHEN views <350 THEN 2\n",
    "               WHEN views>=350 THEN 1\n",
    "            END\n",
    "    FROM stackoverflow.users\n",
    "    WHERE location LIKE '%Canada%' AND views > 0\n",
    "\n",
    "'''"
   ]
  },
  {
   "cell_type": "markdown",
   "id": "5b23513e",
   "metadata": {},
   "source": [
    "## Задание 11\n",
    "\n",
    "Дополните предыдущий запрос. Отобразите лидеров каждой группы — пользователей, которые набрали максимальное число просмотров в своей группе. Выведите поля с идентификатором пользователя, группой и количеством просмотров. Отсортируйте таблицу по убыванию просмотров, а затем по возрастанию значения идентификатора."
   ]
  },
  {
   "cell_type": "code",
   "execution_count": null,
   "id": "3c6e4f86",
   "metadata": {},
   "outputs": [],
   "source": [
    "'''\n",
    "    WITH user_canada AS (SELECT id, \n",
    "                           views,\n",
    "                            CASE\n",
    "                               WHEN views <100 THEN 3\n",
    "                               WHEN views <350 THEN 2\n",
    "                               WHEN views>=350 THEN 1\n",
    "                            END AS CASE_DATA\n",
    "                        FROM stackoverflow.users\n",
    "                        WHERE location LIKE '%Canada%' AND views > 0),\n",
    "    case_data AS (SELECT \n",
    "                   MAX(views),\n",
    "                   CASE_DATA\n",
    "            FROM user_canada\n",
    "            GROUP BY CASE_DATA)\n",
    "    SELECT *\n",
    "    FROM user_canada\n",
    "    WHERE (views = 21991 AND CASE_DATA = 1) OR (views = 349 AND CASE_DATA = 2) OR (views = 99 AND CASE_DATA = 3)\n",
    "    ORDER BY views DESC, id\n",
    "\n",
    "'''"
   ]
  },
  {
   "cell_type": "markdown",
   "id": "107292e1",
   "metadata": {},
   "source": [
    "## Задание 12\n",
    "\n",
    "Посчитайте ежедневный прирост новых пользователей в ноябре 2008 года. Сформируйте таблицу с полями:\n",
    "\n",
    "- номер дня;\n",
    "- число пользователей, зарегистрированных в этот день;\n",
    "- сумму пользователей с накоплением."
   ]
  },
  {
   "cell_type": "code",
   "execution_count": null,
   "id": "bfac5b96",
   "metadata": {},
   "outputs": [],
   "source": [
    "'''\n",
    "    WITH data as (SELECT CAST(DATE_TRUNC('day', creation_date) AS date) AS dt, \n",
    "                        COUNT(id) AS value\n",
    "                FROM stackoverflow.users\n",
    "                GROUP BY CAST(DATE_TRUNC('day', creation_date) AS date)\n",
    "                ORDER BY CAST(DATE_TRUNC('day', creation_date) AS date))\n",
    "\n",
    "    SELECT RANK() OVER(ORDER BY dt),\n",
    "            value,\n",
    "            SUM(value) OVER (ORDER BY dt) AS sum_value\n",
    "    FROM data\n",
    "    WHERE CAST(DATE_TRUNC('day', dt) AS date) BETWEEN '2008-11-01' AND '2008-11-30'\n",
    "\n",
    "'''"
   ]
  },
  {
   "cell_type": "markdown",
   "id": "260e7cf7",
   "metadata": {},
   "source": [
    "## Задание 13\n",
    "\n",
    "Для каждого пользователя, который написал хотя бы один пост, найдите интервал между регистрацией и временем создания первого поста. Отобразите:\n",
    "- идентификатор пользователя;\n",
    "- разницу во времени между регистрацией и первым постом."
   ]
  },
  {
   "cell_type": "code",
   "execution_count": null,
   "id": "33489239",
   "metadata": {},
   "outputs": [],
   "source": [
    "'''\n",
    "    WITH users AS (SELECT user_id, \n",
    "                        creation_date,\n",
    "                        RANK() OVER (PARTITION BY user_id ORDER BY creation_date)  AS first_pub\n",
    "                FROM stackoverflow.posts \n",
    "                ORDER BY user_id)\n",
    "    SELECT user_id,\n",
    "            us.creation_date - u.creation_date\n",
    "    FROM users us JOIN stackoverflow.users u ON us.user_id = u.id\n",
    "    WHERE first_pub = 1\n",
    "\n",
    "'''"
   ]
  },
  {
   "cell_type": "markdown",
   "id": "5b060018",
   "metadata": {},
   "source": [
    "## Задание 14\n",
    "\n",
    "Выведите общую сумму просмотров у постов, опубликованных в каждый месяц 2008 года. Если данных за какой-либо месяц в базе нет, такой месяц можно пропустить. Результат отсортируйте по убыванию общего количества просмотров."
   ]
  },
  {
   "cell_type": "code",
   "execution_count": null,
   "id": "3bc3e004",
   "metadata": {},
   "outputs": [],
   "source": [
    "'''\n",
    "    SELECT CAST(DATE_TRUNC('month', creation_date) AS date) AS month, \n",
    "            SUM(views_count) AS sum\n",
    "    FROM stackoverflow.posts\n",
    "    GROUP BY CAST(DATE_TRUNC('month', creation_date) AS date)\n",
    "    ORDER BY sum DESC\n",
    "\n",
    "'''"
   ]
  },
  {
   "cell_type": "markdown",
   "id": "d6e9d84d",
   "metadata": {},
   "source": [
    "## Задание 15\n",
    "\n",
    "Выведите имена самых активных пользователей, которые в первый месяц после регистрации (включая день регистрации) дали больше 100 ответов. Вопросы, которые задавали пользователи, не учитывайте. Для каждого имени пользователя выведите количество уникальных значений user_id. Отсортируйте результат по полю с именами в лексикографическом порядке."
   ]
  },
  {
   "cell_type": "code",
   "execution_count": null,
   "id": "29eb55f9",
   "metadata": {},
   "outputs": [],
   "source": [
    "'''\n",
    "    SELECT display_name,\n",
    "           COUNT(DISTINCT(user_id))\n",
    "    FROM stackoverflow.users AS u JOIN stackoverflow.posts AS p ON u.id=p.user_id\n",
    "    JOIN stackoverflow.post_types AS t ON p.post_type_id=t.id\n",
    "    WHERE (DATE_TRUNC('day', p.creation_date) <= DATE_TRUNC('day', u.creation_date) + INTERVAL '1 month') AND (p.post_type_id=2)\n",
    "    GROUP BY display_name\n",
    "    HAVING COUNT(p.id) > 100      \n",
    "\n",
    "'''"
   ]
  },
  {
   "cell_type": "markdown",
   "id": "9992d408",
   "metadata": {},
   "source": [
    "## Задание 16\n",
    "\n",
    "Выведите количество постов за 2008 год по месяцам. Отберите посты от пользователей, которые зарегистрировались в сентябре 2008 года и сделали хотя бы один пост в декабре того же года. Отсортируйте таблицу по значению месяца по убыванию."
   ]
  },
  {
   "cell_type": "code",
   "execution_count": null,
   "id": "520cfa50",
   "metadata": {},
   "outputs": [],
   "source": [
    "'''\n",
    "    WITH users_2008 AS (SELECT u.id\n",
    "                        FROM stackoverflow.users AS u JOIN stackoverflow.posts AS p ON u.id=p.user_id\n",
    "                        WHERE (u.creation_date::date BETWEEN '2008-09-01' AND '2008-09-30')\n",
    "                        AND ((p.creation_date::date BETWEEN '2008-12-01' AND '2008-12-31'))\n",
    "                        GROUP BY u.id)\n",
    "\n",
    "    SELECT CAST(DATE_TRUNC('month', p.creation_date) AS date) AS month, \n",
    "            COUNT(p.id) AS count\n",
    "    FROM stackoverflow.users AS u JOIN stackoverflow.posts AS p ON u.id=p.user_id\n",
    "    WHERE (p.creation_date::date BETWEEN '2008-01-01' AND '2008-12-31')\n",
    "    AND p.user_id IN (SELECT * FROM users_2008)\n",
    "    GROUP BY CAST(DATE_TRUNC('month', p.creation_date) AS date)\n",
    "    ORDER BY CAST(DATE_TRUNC('month', p.creation_date) AS date) DESC\n",
    "\n",
    "'''"
   ]
  },
  {
   "cell_type": "markdown",
   "id": "10c1470e",
   "metadata": {},
   "source": [
    "## Задание 17\n",
    "\n",
    "Используя данные о постах, выведите несколько полей:\n",
    "- идентификатор пользователя, который написал пост;\n",
    "- дата создания поста;\n",
    "- количество просмотров у текущего поста;\n",
    "- сумма просмотров постов автора с накоплением.\n",
    "\n",
    "Данные в таблице должны быть отсортированы по возрастанию идентификаторов пользователей, а данные об одном и том же пользователе — по возрастанию даты создания поста.\n"
   ]
  },
  {
   "cell_type": "code",
   "execution_count": null,
   "id": "3038dce5",
   "metadata": {},
   "outputs": [],
   "source": [
    "'''\n",
    "    SELECT user_id, \n",
    "            creation_date, \n",
    "            views_count,\n",
    "            SUM(views_count) OVER (PARTITION BY user_id ORDER BY creation_date)\n",
    "    FROM stackoverflow.posts \n",
    "    ORDER BY user_id, creation_date\n",
    "\n",
    "'''"
   ]
  },
  {
   "cell_type": "markdown",
   "id": "b7e13da3",
   "metadata": {},
   "source": [
    "## Задание 18\n",
    "\n",
    "Сколько в среднем дней в период с 1 по 7 декабря 2008 года включительно пользователи взаимодействовали с платформой? Для каждого пользователя отберите дни, в которые он или она опубликовали хотя бы один пост. Нужно получить одно целое число — не забудьте округлить результат."
   ]
  },
  {
   "cell_type": "code",
   "execution_count": null,
   "id": "4feb03f4",
   "metadata": {},
   "outputs": [],
   "source": [
    "'''\n",
    "    WITH users AS (SELECT p.user_id, \n",
    "                      COUNT(distinct p.creation_date::date)\n",
    "                FROM stackoverflow.posts AS p\n",
    "                WHERE CAST(creation_date AS date) BETWEEN '2008-12-1' AND '2008-12-7' \n",
    "                GROUP BY p.user_id\n",
    "                HAVING COUNT(p.id)>=1)\n",
    "\n",
    "    SELECT ROUND(AVG(count))\n",
    "    FROM users\n",
    "\n",
    "'''"
   ]
  },
  {
   "cell_type": "markdown",
   "id": "88852083",
   "metadata": {},
   "source": [
    "## Задание 19\n",
    "\n",
    "На сколько процентов менялось количество постов ежемесячно с 1 сентября по 31 декабря 2008 года? Отобразите таблицу со следующими полями:\n",
    "- Номер месяца.\n",
    "- Количество постов за месяц.\n",
    "- Процент, который показывает, насколько изменилось количество постов в текущем месяце по сравнению с предыдущим.\n",
    "\n",
    "Если постов стало меньше, значение процента должно быть отрицательным, если больше — положительным. Округлите значение процента до двух знаков после запятой."
   ]
  },
  {
   "cell_type": "code",
   "execution_count": null,
   "id": "0e9a472e",
   "metadata": {},
   "outputs": [],
   "source": [
    "'''\n",
    "    WITH POSTS AS (SELECT  EXTRACT(month from creation_date) AS num_month, \n",
    "            COUNT(id) AS cnt_posts\n",
    "    FROM stackoverflow.posts\n",
    "    WHERE  creation_date::date BETWEEN '2008-09-01' AND '2008-12-31'\n",
    "    GROUP BY 1)\n",
    "\n",
    "    SELECT num_month, \n",
    "            cnt_posts, \n",
    "            ROUND(((cnt_posts::numeric/LAG(cnt_posts) OVER (ORDER BY num_month))-1)*100,2)\n",
    "    FROM POSTS\n",
    "\n",
    "'''"
   ]
  },
  {
   "cell_type": "markdown",
   "id": "c4a1f3fd",
   "metadata": {},
   "source": [
    "## Задание 20\n",
    "\n",
    "Найдите пользователя, который опубликовал больше всего постов за всё время с момента регистрации. Выведите данные его активности за октябрь 2008 года в таком виде:\n",
    "- номер недели;\n",
    "- дата и время последнего поста, опубликованного на этой неделе.\n"
   ]
  },
  {
   "cell_type": "code",
   "execution_count": null,
   "id": "5cca8fe8",
   "metadata": {},
   "outputs": [],
   "source": [
    "'''\n",
    "    WITH\n",
    "    count_posts AS (SELECT U.id,\n",
    "                        COUNT(P.ID) AS MAXIMUM\n",
    "    FROM stackoverflow.posts P JOIN stackoverflow.users U ON P.USER_ID = U.ID\n",
    "    GROUP BY U.id\n",
    "    ORDER BY MAXIMUM DESC),\n",
    "\n",
    "    MAX AS (SELECT DISTINCT(EXTRACT(week FROM creation_date::date)) AS NUM,\n",
    "            MAX(creation_date) OVER (ORDER BY EXTRACT(week FROM creation_date::date)) AS DATE,\n",
    "            maximum\n",
    "    FROM count_posts C JOIN stackoverflow.posts P ON P.USER_ID = C.ID\n",
    "    WHERE creation_date::date BETWEEN '2008-10-01' AND '2008-10-31' AND maximum = 1174\n",
    "    ORDER BY maximum DESC)\n",
    "\n",
    "    SELECT NUM,\n",
    "            DATE\n",
    "    FROM MAX\n",
    "\n",
    "'''"
   ]
  }
 ],
 "metadata": {
  "kernelspec": {
   "display_name": "Python 3 (ipykernel)",
   "language": "python",
   "name": "python3"
  },
  "language_info": {
   "codemirror_mode": {
    "name": "ipython",
    "version": 3
   },
   "file_extension": ".py",
   "mimetype": "text/x-python",
   "name": "python",
   "nbconvert_exporter": "python",
   "pygments_lexer": "ipython3",
   "version": "3.10.9"
  }
 },
 "nbformat": 4,
 "nbformat_minor": 5
}
