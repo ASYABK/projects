{
 "cells": [
  {
   "cell_type": "markdown",
   "id": "11f476d6",
   "metadata": {},
   "source": [
    "# SQL-проект Исследование данных об инвестиции венчурных фондов в компании-стартапы"
   ]
  },
  {
   "cell_type": "markdown",
   "id": "f74d222f",
   "metadata": {},
   "source": [
    "Для анализа выделена база данных, которая хранит информацию о венчурных фондах и инвестициях в компании-стартапы. Эта база данных основана на датасете Startup Investments, опубликованном на популярной платформе для соревнований по исследованию данных Kaggle. \n",
    "Нужно проанализировать данные о фондах и инвестициях и написать запросы к базе. "
   ]
  },
  {
   "cell_type": "markdown",
   "id": "b8ee2d1d",
   "metadata": {},
   "source": [
    "## Задание 1\n",
    "\n",
    "Отобразите все записи из таблицы company по компаниям, которые закрылись."
   ]
  },
  {
   "cell_type": "code",
   "execution_count": null,
   "id": "816cfaea",
   "metadata": {
    "scrolled": true
   },
   "outputs": [],
   "source": [
    "''' \n",
    "    SELECT COUNT(id)\n",
    "    FROM company\n",
    "    WHERE status = 'closed'\n",
    "\n",
    "'''"
   ]
  },
  {
   "cell_type": "markdown",
   "id": "7682e60b",
   "metadata": {},
   "source": [
    "## Задание 2\n",
    "\n",
    "Отобразите количество привлечённых средств для новостных компаний США. Используйте данные из таблицы company. Отсортируйте таблицу по убыванию значений в поле funding_total."
   ]
  },
  {
   "cell_type": "code",
   "execution_count": null,
   "id": "055f684b",
   "metadata": {},
   "outputs": [],
   "source": [
    "'''\n",
    "    SELECT FUNDING_TOTAL\n",
    "    FROM company\n",
    "    WHERE category_code = 'news' AND \n",
    "        country_code = 'USA'\n",
    "    ORDER BY funding_total DESC\n",
    "\n",
    "'''"
   ]
  },
  {
   "cell_type": "markdown",
   "id": "6a646f78",
   "metadata": {},
   "source": [
    "## Задание 3\n",
    "\n",
    "Найдите общую сумму сделок по покупке одних компаний другими в долларах. Отберите сделки, которые осуществлялись только за наличные с 2011 по 2013 год включительно."
   ]
  },
  {
   "cell_type": "code",
   "execution_count": null,
   "id": "f11a0a21",
   "metadata": {},
   "outputs": [],
   "source": [
    "'''\n",
    "    SELECT SUM(price_amount)\n",
    "    FROM acquisition\n",
    "    WHERE EXTRACT(YEAR FROM ACQUIRED_AT)BETWEEN 2011 AND 2013 \n",
    "        AND term_code = 'cash'\n",
    "\n",
    "'''"
   ]
  },
  {
   "cell_type": "markdown",
   "id": "ed65227a",
   "metadata": {},
   "source": [
    "## Задание 4\n",
    "\n",
    "Отобразите имя, фамилию и названия аккаунтов людей в поле network_username, у которых названия аккаунтов начинаются на 'Silver'."
   ]
  },
  {
   "cell_type": "code",
   "execution_count": null,
   "id": "6aca2bd8",
   "metadata": {},
   "outputs": [],
   "source": [
    "'''\n",
    "    SELECT FIRST_NAME, \n",
    "            LAST_NAME,\n",
    "            NETWORK_USERNAME\n",
    "    FROM PEOPLE\n",
    "    WHERE NETWORK_USERNAME LIKE 'Silver%'\n",
    "\n",
    "'''"
   ]
  },
  {
   "cell_type": "markdown",
   "id": "b55b0311",
   "metadata": {},
   "source": [
    "## Задание 5\n",
    "\n",
    "Выведите на экран всю информацию о людях, у которых названия аккаунтов в поле network_username содержат подстроку 'money', а фамилия начинается на 'K'."
   ]
  },
  {
   "cell_type": "code",
   "execution_count": null,
   "id": "1192b601",
   "metadata": {},
   "outputs": [],
   "source": [
    "'''\n",
    "    SELECT *\n",
    "    FROM PEOPLE\n",
    "    WHERE NETWORK_USERNAME LIKE '%money%' \n",
    "        AND LAST_NAME LIKE 'K%'\n",
    "\n",
    "'''"
   ]
  },
  {
   "cell_type": "markdown",
   "id": "6e44e3d1",
   "metadata": {},
   "source": [
    "## Задание 6\n",
    "\n",
    "Для каждой страны отобразите общую сумму привлечённых инвестиций, которые получили компании, зарегистрированные в этой стране. Страну, в которой зарегистрирована компания, можно определить по коду страны. Отсортируйте данные по убыванию суммы."
   ]
  },
  {
   "cell_type": "code",
   "execution_count": null,
   "id": "39220c5d",
   "metadata": {},
   "outputs": [],
   "source": [
    "'''\n",
    "    SELECT country_code, \n",
    "            SUM(funding_total)\n",
    "    FROM company\n",
    "    GROUP BY country_code\n",
    "    ORDER BY SUM(funding_total) DESC\n",
    "\n",
    "'''"
   ]
  },
  {
   "cell_type": "markdown",
   "id": "10981b99",
   "metadata": {},
   "source": [
    "## Задание 7\n",
    "\n",
    "Составьте таблицу, в которую войдёт дата проведения раунда, а также минимальное и максимальное значения суммы инвестиций, привлечённых в эту дату.\n",
    "Оставьте в итоговой таблице только те записи, в которых минимальное значение суммы инвестиций не равно нулю и не равно максимальному значению.\n"
   ]
  },
  {
   "cell_type": "code",
   "execution_count": null,
   "id": "2c1d2f69",
   "metadata": {},
   "outputs": [],
   "source": [
    "'''\n",
    "    SELECT funded_at,\n",
    "            MIN(raised_amount),\n",
    "            MAX (raised_amount)\n",
    "    FROM funding_round\n",
    "    GROUP BY funded_at\n",
    "    HAVING (MIN(raised_amount) <> 0) \n",
    "        AND (MIN(raised_amount) <> MAX (raised_amount))\n",
    "\n",
    "'''"
   ]
  },
  {
   "cell_type": "markdown",
   "id": "bcf2f99d",
   "metadata": {},
   "source": [
    "## Задание 8\n",
    "\n",
    "Создайте поле с категориями:\n",
    "\n",
    "- Для фондов, которые инвестируют в 100 и более компаний, назначьте категорию high_activity.\n",
    "- Для фондов, которые инвестируют в 20 и более компаний до 100, назначьте категорию middle_activity.\n",
    "- Если количество инвестируемых компаний фонда не достигает 20, назначьте категорию low_activity.\n",
    "\n",
    "Отобразите все поля таблицы fund и новое поле с категориями.\n"
   ]
  },
  {
   "cell_type": "code",
   "execution_count": null,
   "id": "da3094b3",
   "metadata": {},
   "outputs": [],
   "source": [
    "'''\n",
    "    SELECT *,\n",
    "            CASE\n",
    "                WHEN 100 <= invested_companies THEN 'high_activity'\n",
    "                WHEN 20 <= invested_companies AND invested_companies < 100 THEN 'middle_activity'\n",
    "                WHEN 20 > invested_companies THEN 'low_activity'\n",
    "            END\n",
    "    FROM fund;\n",
    "\n",
    "'''"
   ]
  },
  {
   "cell_type": "markdown",
   "id": "a2051e26",
   "metadata": {},
   "source": [
    "## Задание 9\n",
    "\n",
    "Для каждой из категорий, назначенных в предыдущем задании, посчитайте округлённое до ближайшего целого числа среднее количество инвестиционных раундов, в которых фонд принимал участие. Выведите на экран категории и среднее число инвестиционных раундов. Отсортируйте таблицу по возрастанию среднего."
   ]
  },
  {
   "cell_type": "code",
   "execution_count": null,
   "id": "be2d81f6",
   "metadata": {},
   "outputs": [],
   "source": [
    "'''\n",
    "    SELECT *,\n",
    "           CASE\n",
    "               WHEN invested_companies>=100 THEN 'high_activity'\n",
    "               WHEN invested_companies>=20 THEN 'middle_activity'\n",
    "               ELSE 'low_activity'\n",
    "           END AS activity\n",
    "    FROM fund;\n",
    "\n",
    "'''"
   ]
  },
  {
   "cell_type": "markdown",
   "id": "e46fcd0c",
   "metadata": {},
   "source": [
    "## Задание 10\n",
    "\n",
    "Проанализируйте, в каких странах находятся фонды, которые чаще всего инвестируют в стартапы. \n",
    "Для каждой страны посчитайте минимальное, максимальное и среднее число компаний, в которые инвестировали фонды этой страны, основанные с 2010 по 2012 год включительно. Исключите страны с фондами, у которых минимальное число компаний, получивших инвестиции, равно нулю. \n",
    "Выгрузите десять самых активных стран-инвесторов: отсортируйте таблицу по среднему количеству компаний от большего к меньшему. Затем добавьте сортировку по коду страны в лексикографическом порядке."
   ]
  },
  {
   "cell_type": "code",
   "execution_count": null,
   "id": "06f7b779",
   "metadata": {},
   "outputs": [],
   "source": [
    "'''\n",
    "    SELECT country_code,\n",
    "            MIN(invested_companies),\n",
    "            MAX(invested_companies),\n",
    "            AVG(invested_companies)\n",
    "    FROM fund\n",
    "    WHERE EXTRACT(YEAR FROM founded_at) BETWEEN 2010 AND 2012 \n",
    "    GROUP BY country_code\n",
    "    HAVING MIN(invested_companies) <> 0\n",
    "    ORDER BY AVG(invested_companies) DESC, country_code\n",
    "    LIMIT 10\n",
    "\n",
    "'''"
   ]
  },
  {
   "cell_type": "markdown",
   "id": "c9278c5d",
   "metadata": {},
   "source": [
    "## Задание 11\n",
    "\n",
    "Отобразите имя и фамилию всех сотрудников стартапов. Добавьте поле с названием учебного заведения, которое окончил сотрудник, если эта информация известна."
   ]
  },
  {
   "cell_type": "code",
   "execution_count": null,
   "id": "9ac89b5b",
   "metadata": {},
   "outputs": [],
   "source": [
    "'''\n",
    "    SELECT P.first_name,\n",
    "            P.last_name,\n",
    "            E.instituition\n",
    "    FROM people AS P \n",
    "    LEFT JOIN education AS E ON P.ID = E.PERSON_ID\n",
    "\n",
    "'''"
   ]
  },
  {
   "cell_type": "markdown",
   "id": "869654f8",
   "metadata": {},
   "source": [
    "## Задание 12\n",
    "\n",
    "Для каждой компании найдите количество учебных заведений, которые окончили её сотрудники. Выведите название компании и число уникальных названий учебных заведений. Составьте топ-5 компаний по количеству университетов."
   ]
  },
  {
   "cell_type": "code",
   "execution_count": null,
   "id": "b3a7ec7e",
   "metadata": {},
   "outputs": [],
   "source": [
    "'''\n",
    "    WITH \n",
    "    U AS (SELECT *\n",
    "            FROM COMPANY AS C \n",
    "            LEFT JOIN PEOPLE AS P ON C.ID = P.COMPANY_ID\n",
    "            LEFT JOIN EDUCATION AS E ON P.ID = E.PERSON_ID)\n",
    "\n",
    "    SELECT NAME,\n",
    "        COUNT(DISTINCT INSTITUITION)\n",
    "    FROM U\n",
    "    GROUP BY NAME\n",
    "    ORDER BY COUNT(DISTINCT INSTITUITION) DESC\n",
    "    LIMIT 5\n",
    "\n",
    "'''"
   ]
  },
  {
   "cell_type": "markdown",
   "id": "c44fd851",
   "metadata": {},
   "source": [
    "## Задание 13\n",
    "\n",
    "Составьте список с уникальными названиями закрытых компаний, для которых первый раунд финансирования оказался последним."
   ]
  },
  {
   "cell_type": "code",
   "execution_count": null,
   "id": "d43b9bf0",
   "metadata": {},
   "outputs": [],
   "source": [
    "'''\n",
    "    SELECT DISTINCT C.NAME\n",
    "    FROM COMPANY AS C \n",
    "    LEFT JOIN funding_round AS F ON C.ID = F.COMPANY_ID \n",
    "    WHERE C.STATUS = 'closed' and f.is_last_round = 1 AND f.is_first_round = 1\n",
    "\n",
    "'''"
   ]
  },
  {
   "cell_type": "markdown",
   "id": "767a4449",
   "metadata": {},
   "source": [
    "## Задание 14\n",
    "\n",
    "Составьте список уникальных номеров сотрудников, которые работают в компаниях, отобранных в предыдущем задании."
   ]
  },
  {
   "cell_type": "code",
   "execution_count": null,
   "id": "823e7729",
   "metadata": {},
   "outputs": [],
   "source": [
    "'''\n",
    "    WITH \n",
    "    A AS (SELECT DISTINCT C.NAME AS COMPANY_NAME\n",
    "            FROM COMPANY AS C \n",
    "            LEFT JOIN funding_round AS F ON C.ID = F.COMPANY_ID \n",
    "            WHERE C.STATUS = 'closed' and f.is_last_round = 1 AND f.is_first_round = 1)\n",
    "\n",
    "    SELECT P.ID\n",
    "    FROM A LEFT JOIN COMPANY AS C ON A.COMPANY_NAME = C.NAME\n",
    "    LEFT JOIN PEOPLE AS P ON C.ID = P.COMPANY_ID\n",
    "    GROUP BY P.ID\n",
    "    HAVING COUNT(DISTINCT P.ID) = 1\n",
    "\n",
    "'''"
   ]
  },
  {
   "cell_type": "markdown",
   "id": "8635433d",
   "metadata": {},
   "source": [
    "## Задание 15\n",
    "\n",
    "Составьте таблицу, куда войдут уникальные пары с номерами сотрудников из предыдущей задачи и учебным заведением, которое окончил сотрудник."
   ]
  },
  {
   "cell_type": "code",
   "execution_count": null,
   "id": "71f46436",
   "metadata": {},
   "outputs": [],
   "source": [
    "'''\n",
    "    WITH \n",
    "    A AS (SELECT DISTINCT C.NAME AS COMPANY_NAME\n",
    "            FROM COMPANY AS C \n",
    "            LEFT JOIN funding_round AS F ON C.ID = F.COMPANY_ID \n",
    "            WHERE C.STATUS = 'closed' and f.is_last_round = 1 AND f.is_first_round = 1)\n",
    "\n",
    "\n",
    "\n",
    "    SELECT DISTINCT B.ID_NAME,\n",
    "            E.INSTITUITION\n",
    "    FROM (SELECT P.ID AS ID_NAME\n",
    "            FROM A LEFT JOIN COMPANY AS C ON A.COMPANY_NAME = C.NAME\n",
    "            LEFT JOIN PEOPLE AS P ON C.ID = P.COMPANY_ID\n",
    "            GROUP BY P.ID\n",
    "            HAVING COUNT(DISTINCT P.ID) = 1) AS B \n",
    "            LEFT JOIN EDUCATION AS E ON B.ID_NAME = E.PERSON_ID\n",
    "    WHERE E.INSTITUITION IS NOT NULL\n",
    "\n",
    "'''"
   ]
  },
  {
   "cell_type": "markdown",
   "id": "0c4f1603",
   "metadata": {},
   "source": [
    "## Задание 16\n",
    "\n",
    "Посчитайте количество учебных заведений для каждого сотрудника из предыдущего задания. При подсчёте учитывайте, что некоторые сотрудники могли окончить одно и то же заведение дважды."
   ]
  },
  {
   "cell_type": "code",
   "execution_count": null,
   "id": "c3a890db",
   "metadata": {},
   "outputs": [],
   "source": [
    "'''\n",
    "    WITH \n",
    "    A AS (SELECT DISTINCT C.NAME AS COMPANY_NAME\n",
    "            FROM COMPANY AS C \n",
    "            LEFT JOIN funding_round AS F ON C.ID = F.COMPANY_ID \n",
    "            WHERE C.STATUS = 'closed' and f.is_last_round = 1 AND f.is_first_round = 1)\n",
    "\n",
    "    SELECT B.ID_NAME,\n",
    "            COUNT(E.INSTITUITION)\n",
    "    FROM (SELECT P.ID AS ID_NAME\n",
    "            FROM A LEFT JOIN COMPANY AS C ON A.COMPANY_NAME = C.NAME\n",
    "            LEFT JOIN PEOPLE AS P ON C.ID = P.COMPANY_ID\n",
    "            GROUP BY P.ID\n",
    "            HAVING COUNT(DISTINCT P.ID) = 1) AS B \n",
    "        LEFT JOIN EDUCATION AS E ON B.ID_NAME = E.PERSON_ID\n",
    "    WHERE E.INSTITUITION IS NOT NULL\n",
    "    GROUP BY B.ID_NAME\n",
    "\n",
    "'''"
   ]
  },
  {
   "cell_type": "markdown",
   "id": "4e05c0bd",
   "metadata": {},
   "source": [
    "## Задание 17\n",
    "\n",
    "Дополните предыдущий запрос и выведите среднее число учебных заведений (всех, не только уникальных), которые окончили сотрудники разных компаний. Нужно вывести только одну запись, группировка здесь не понадобится."
   ]
  },
  {
   "cell_type": "code",
   "execution_count": null,
   "id": "a7de11a2",
   "metadata": {},
   "outputs": [],
   "source": [
    "'''\n",
    "    WITH \n",
    "    A AS (SELECT DISTINCT C.NAME AS COMPANY_NAME\n",
    "            FROM COMPANY AS C \n",
    "            LEFT JOIN funding_round AS F ON C.ID = F.COMPANY_ID \n",
    "            WHERE C.STATUS = 'closed' and f.is_last_round = 1 AND f.is_first_round = 1)\n",
    "\n",
    "    SELECT AVG(COUNT)\n",
    "    FROM (SELECT B.ID_NAME,\n",
    "                COUNT(E.INSTITUITION) AS COUNT\n",
    "            FROM (SELECT P.ID AS ID_NAME\n",
    "                FROM A LEFT JOIN COMPANY AS C ON A.COMPANY_NAME = C.NAME\n",
    "                LEFT JOIN PEOPLE AS P ON C.ID = P.COMPANY_ID\n",
    "                GROUP BY P.ID\n",
    "                HAVING COUNT(DISTINCT P.ID) = 1) AS B \n",
    "        LEFT JOIN EDUCATION AS E ON B.ID_NAME = E.PERSON_ID\n",
    "        WHERE E.INSTITUITION IS NOT NULL\n",
    "        GROUP BY B.ID_NAME) AS Z\n",
    "\n",
    "'''"
   ]
  },
  {
   "cell_type": "markdown",
   "id": "569c794b",
   "metadata": {},
   "source": [
    "## Задание 18\n",
    "\n",
    "Напишите похожий запрос: выведите среднее число учебных заведений (всех, не только уникальных), которые окончили сотрудники Socialnet."
   ]
  },
  {
   "cell_type": "code",
   "execution_count": null,
   "id": "247ac9f1",
   "metadata": {},
   "outputs": [],
   "source": [
    "'''\n",
    "    WITH \n",
    "    A AS (SELECT DISTINCT C.NAME AS COMPANY_NAME\n",
    "            FROM COMPANY AS C \n",
    "            LEFT JOIN funding_round AS F ON C.ID = F.COMPANY_ID \n",
    "            WHERE C.NAME = 'Socialnet')\n",
    "\n",
    "    SELECT AVG(COUNT)\n",
    "    FROM (SELECT B.ID_NAME,\n",
    "                COUNT(E.INSTITUITION) AS COUNT\n",
    "            FROM (SELECT P.ID AS ID_NAME\n",
    "                FROM A LEFT JOIN COMPANY AS C ON A.COMPANY_NAME = C.NAME\n",
    "                LEFT JOIN PEOPLE AS P ON C.ID = P.COMPANY_ID\n",
    "                GROUP BY P.ID\n",
    "                HAVING COUNT(DISTINCT P.ID) = 1) AS B \n",
    "        LEFT JOIN EDUCATION AS E ON B.ID_NAME = E.PERSON_ID\n",
    "        WHERE E.INSTITUITION IS NOT NULL\n",
    "        GROUP BY B.ID_NAME) AS Z\n",
    "\n",
    "'''"
   ]
  },
  {
   "cell_type": "markdown",
   "id": "fb8944c5",
   "metadata": {},
   "source": [
    "## Задание 19\n",
    "\n",
    "Составьте таблицу из полей:\n",
    "\n",
    "- name_of_fund — название фонда;\n",
    "- name_of_company — название компании;\n",
    "- amount — сумма инвестиций, которую привлекла компания в раунде.\n",
    "\n",
    "В таблицу войдут данные о компаниях, в истории которых было больше шести важных этапов, а раунды финансирования проходили с 2012 по 2013 год включительно.\n"
   ]
  },
  {
   "cell_type": "code",
   "execution_count": null,
   "id": "c90ced2f",
   "metadata": {},
   "outputs": [],
   "source": [
    "'''\n",
    "    WITH \n",
    "    A AS (SELECT id, \n",
    "          NAME,\n",
    "          MAX(milestones)\n",
    "         FROM company\n",
    "         GROUP BY id, NAME\n",
    "         HAVING MAX(milestones) > 6)\n",
    "\n",
    "    SELECT F.NAME AS name_of_fund,\n",
    "            A.NAME AS name_of_company,\n",
    "            FR.raised_amount AS amount\n",
    "    FROM A LEFT JOIN INVESTMENT AS I ON I.COMPANY_ID = A.ID\n",
    "    LEFT JOIN FUND AS F ON F.ID = I.FUND_ID\n",
    "    LEFT JOIN FUNDING_ROUND AS FR ON I.FUNDING_ROUND_ID = FR.ID\n",
    "    WHERE (EXTRACT(YEAR FROM FR.funded_at) BETWEEN 2012 AND 2013)\n",
    "\n",
    "'''"
   ]
  },
  {
   "cell_type": "markdown",
   "id": "95335bcd",
   "metadata": {},
   "source": [
    "## Задание 20\n",
    "\n",
    "Выгрузите таблицу, в которой будут такие поля:\n",
    "\n",
    "- название компании-покупателя;\n",
    "- сумма сделки;\n",
    "- название компании, которую купили;\n",
    "- сумма инвестиций, вложенных в купленную компанию;\n",
    "- доля, которая отображает, во сколько раз сумма покупки превысила сумму вложенных в компанию инвестиций, округлённая до ближайшего целого числа.\n",
    "\n",
    "Не учитывайте те сделки, в которых сумма покупки равна нулю. Если сумма инвестиций в компанию равна нулю, исключите такую компанию из таблицы. \n",
    "Отсортируйте таблицу по сумме сделки от большей к меньшей, а затем по названию купленной компании в лексикографическом порядке. Ограничьте таблицу первыми десятью записями.\n"
   ]
  },
  {
   "cell_type": "code",
   "execution_count": null,
   "id": "0813879e",
   "metadata": {},
   "outputs": [],
   "source": [
    "'''\n",
    "    WITH\n",
    "    A AS (SELECT A.ID,\n",
    "                B.NAME AS BUYER,\n",
    "                A.acquiring_company_id,\n",
    "                A.acquired_company_id,\n",
    "                A.price_amount\n",
    "         FROM acquisition AS A LEFT JOIN COMPANY AS B ON A.acquiring_company_id = B.ID\n",
    "         WHERE price_amount <> 0),\n",
    "\n",
    "    B AS (SELECT A.ID,\n",
    "                B.NAME AS BOUGHT,\n",
    "                A.acquiring_company_id,\n",
    "                A.acquired_company_id,\n",
    "                B.funding_total\n",
    "         FROM acquisition AS A LEFT JOIN COMPANY AS B ON A.acquired_company_id = B.ID\n",
    "         WHERE funding_total > 0)  \n",
    "\n",
    "    SELECT A.BUYER,\n",
    "            A.price_amount,\n",
    "            B.BOUGHT,\n",
    "            B.funding_total,\n",
    "            ROUND(A.price_amount/B.funding_total)\n",
    "    FROM A JOIN B ON A.id = B.ID\n",
    "    ORDER BY A.price_amount DESC, B.BOUGHT\n",
    "    LIMIT 10;\n",
    "\n",
    "'''"
   ]
  },
  {
   "cell_type": "markdown",
   "id": "0e8ef24c",
   "metadata": {},
   "source": [
    "## Задание 21\n",
    "\n",
    "Выгрузите таблицу, в которую войдут названия компаний из категории social, получившие финансирование с 2010 по 2013 год включительно. Проверьте, что сумма инвестиций не равна нулю. Выведите также номер месяца, в котором проходил раунд финансирования."
   ]
  },
  {
   "cell_type": "code",
   "execution_count": null,
   "id": "9198f520",
   "metadata": {},
   "outputs": [],
   "source": [
    "'''\n",
    "    SELECT C.NAME,\n",
    "            EXTRACT(MONTH FROM funded_at)\n",
    "    FROM company AS C LEFT JOIN funding_round AS FR ON C.ID = FR.COMPANY_ID\n",
    "    WHERE C.category_code = 'social' \n",
    "        AND (EXTRACT(YEAR FROM funded_at) BETWEEN 2010 AND 2013)\n",
    "        AND raised_amount <> 0\n",
    "\n",
    "'''"
   ]
  },
  {
   "cell_type": "markdown",
   "id": "863f81f5",
   "metadata": {},
   "source": [
    "## Задание 22\n",
    "\n",
    "Отберите данные по месяцам с 2010 по 2013 год, когда проходили инвестиционные раунды. Сгруппируйте данные по номеру месяца и получите таблицу, в которой будут поля:\n",
    "\n",
    "- номер месяца, в котором проходили раунды;\n",
    "- количество уникальных названий фондов из США, которые инвестировали в этом месяце;\n",
    "- количество компаний, купленных за этот месяц;\n",
    "- общая сумма сделок по покупкам в этом месяце."
   ]
  },
  {
   "cell_type": "code",
   "execution_count": null,
   "id": "85cddf0f",
   "metadata": {},
   "outputs": [],
   "source": [
    "'''\n",
    "    WITH \n",
    "    funding AS (SELECT month,\n",
    "                        COUNT(DISTINCT NAME) AS NAME\n",
    "                FROM (SELECT C.ID,\n",
    "                             C.NAME,\n",
    "                             EXTRACT(MONTH FROM funded_at) AS MONTH\n",
    "                     FROM funding_round AS F LEFT JOIN INVESTMENT AS I ON I.FUNDING_ROUND_ID = F.ID\n",
    "                     LEFT JOIN FUND AS C ON I.FUND_ID = C.ID\n",
    "                     WHERE (EXTRACT(YEAR FROM F.funded_at) BETWEEN 2010 AND 2013)\n",
    "                     AND C.country_code = 'USA') AS F\n",
    "                 GROUP BY month),\n",
    "\n",
    "    bought AS (SELECT COUNT(acquired_company_id) AS COUNT,\n",
    "                     SUM(price_amount) AS SUM,\n",
    "                    EXTRACT(MONTH FROM acquired_at) AS MONTH\n",
    "                FROM acquisition\n",
    "                WHERE (EXTRACT(YEAR FROM acquired_at) BETWEEN 2010 AND 2013)\n",
    "                GROUP BY EXTRACT(MONTH FROM acquired_at))\n",
    "\n",
    "\n",
    "   SELECT funding.MONTH,\n",
    "            funding.NAME,\n",
    "            bought.COUNT,\n",
    "            bought.SUM\n",
    "    FROM funding LEFT JOIN bought ON bought.MONTH = funding.MONTH\n",
    "\n",
    "'''"
   ]
  },
  {
   "cell_type": "markdown",
   "id": "05210c22",
   "metadata": {},
   "source": [
    "## Задание 23\n",
    "\n",
    "Составьте сводную таблицу и выведите среднюю сумму инвестиций для стран, в которых есть стартапы, зарегистрированные в 2011, 2012 и 2013 годах. Данные за каждый год должны быть в отдельном поле. Отсортируйте таблицу по среднему значению инвестиций за 2011 год от большего к меньшему."
   ]
  },
  {
   "cell_type": "code",
   "execution_count": null,
   "id": "79f25d41",
   "metadata": {},
   "outputs": [],
   "source": [
    "'''\n",
    "    WITH\n",
    "         inv_2011 AS (SELECT country_code,\n",
    "                              AVG(funding_total) AS SUM_2011\n",
    "                        FROM company\n",
    "                        WHERE EXTRACT(YEAR FROM founded_at) = 2011\n",
    "                        GROUP BY country_code),\n",
    "         inv_2012 AS (SELECT country_code,\n",
    "                              AVG(funding_total) AS SUM_2012\n",
    "                         FROM company\n",
    "                         WHERE EXTRACT(YEAR FROM founded_at) = 2012\n",
    "                         GROUP BY country_code),\n",
    "         inv_2013 AS (SELECT country_code,\n",
    "                              AVG(funding_total) AS SUM_2013\n",
    "                         FROM company\n",
    "                         WHERE EXTRACT(YEAR FROM founded_at) = 2013\n",
    "                         GROUP BY country_code)-- сформируйте первую временную таблицу\n",
    "\n",
    "    SELECT inv_2011.country_code,\n",
    "            SUM_2011,\n",
    "            SUM_2012,\n",
    "            SUM_2013\n",
    "    FROM inv_2011 \n",
    "    INNER JOIN inv_2012 ON inv_2011.country_code = inv_2012.country_code\n",
    "    INNER JOIN inv_2013 ON inv_2011.country_code = inv_2013.country_code\n",
    "    ORDER BY SUM_2011 DESC\n",
    "\n",
    "'''"
   ]
  }
 ],
 "metadata": {
  "kernelspec": {
   "display_name": "Python 3 (ipykernel)",
   "language": "python",
   "name": "python3"
  },
  "language_info": {
   "codemirror_mode": {
    "name": "ipython",
    "version": 3
   },
   "file_extension": ".py",
   "mimetype": "text/x-python",
   "name": "python",
   "nbconvert_exporter": "python",
   "pygments_lexer": "ipython3",
   "version": "3.10.9"
  }
 },
 "nbformat": 4,
 "nbformat_minor": 5
}
