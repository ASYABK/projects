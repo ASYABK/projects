{
 "cells": [
  {
   "cell_type": "markdown",
   "metadata": {},
   "source": [
    "# Исследование возможных подходов увеличения выручки интернет-магазина\n",
    "\n",
    "В имеющихся таблицах представлены данные крупного интернет-магазина. Вместе с отделом маркетинга был подготовлен список гипотез для увеличения выручки.\n",
    "В данном проекте неоходимо приоритизировать гипотезы, запустить A/B-тест и проанализировать полученные результаты. "
   ]
  },
  {
   "cell_type": "markdown",
   "metadata": {},
   "source": [
    "**Описание данных**\n",
    "\n",
    "***Данные для первой части***\n",
    "\n",
    "***таблица hypothesis.csv***\n",
    "- Hypothesis — краткое описание гипотезы;\n",
    "- Reach — охват пользователей по 10-балльной шкале;\n",
    "- Impact — влияние на пользователей по 10-балльной шкале;\n",
    "- Confidence — уверенность в гипотезе по 10-балльной шкале;\n",
    "- Efforts — затраты ресурсов на проверку гипотезы по 10-балльной шкале. Чем больше значение Efforts, тем дороже проверка гипотезы.\n",
    "\n",
    "***Данные для второй части*** \n",
    "\n",
    "***таблица orders.csv***\n",
    "\n",
    "- transactionId — идентификатор заказа;\n",
    "- visitorId — идентификатор пользователя, совершившего заказ;\n",
    "- date — дата, когда был совершён заказ;\n",
    "- revenue — выручка заказа;\n",
    "- group — группа A/B-теста, в которую попал заказ.\n",
    "\n",
    "***таблица visitors.csv***\n",
    "\n",
    "- date — дата;\n",
    "- group — группа A/B-теста;\n",
    "- visitors — количество пользователей в указанную дату в указанной группе A/B-теста"
   ]
  },
  {
   "cell_type": "markdown",
   "metadata": {},
   "source": [
    "Для проверки гипотез для увеличения выручки интерне-магазина необходимо выполнить следующие задачи:\n",
    "\n",
    "1. проверить и преобразовать исходные данные, сделать соответствие с реальными данными\n",
    "2. приоритизировать гипотезы, на основе которого будем делать выводы\n",
    "3. запустить A/B-тест\n",
    "4. проанализировать полученные результаты\n",
    "5. сделать выводы"
   ]
  },
  {
   "cell_type": "markdown",
   "metadata": {},
   "source": [
    "### Часть 1. Предобработка данных."
   ]
  },
  {
   "cell_type": "markdown",
   "metadata": {},
   "source": [
    "#### Открыть файл с данными и изучить общую информацию"
   ]
  },
  {
   "cell_type": "code",
   "execution_count": 1,
   "metadata": {},
   "outputs": [],
   "source": [
    "#Импортируем необходимые для анализа библиотеки\n",
    "import pandas as pd\n",
    "import matplotlib.pyplot as plt\n",
    "from scipy import stats\n",
    "import numpy as np\n",
    "import datetime as dt"
   ]
  },
  {
   "cell_type": "code",
   "execution_count": 2,
   "metadata": {},
   "outputs": [],
   "source": [
    "#Откроем файлы hypothesis.csv, orders.csv, visitors.csv\n",
    "try:\n",
    "    hypothesis = pd.read_csv('/datasets/hypothesis.csv')\n",
    "    orders = pd.read_csv('/datasets/orders.csv')\n",
    "    visitors = pd.read_csv('/datasets/visitors.csv')\n",
    "except:\n",
    "    hypothesis = pd.read_csv('hypothesis.csv')\n",
    "    orders = pd.read_csv('orders.csv')\n",
    "    visitors = pd.read_csv('visitors.csv')"
   ]
  },
  {
   "cell_type": "markdown",
   "metadata": {},
   "source": [
    "#### Предобработка данных hypothesis"
   ]
  },
  {
   "cell_type": "code",
   "execution_count": 3,
   "metadata": {
    "scrolled": true
   },
   "outputs": [
    {
     "data": {
      "text/html": [
       "<div>\n",
       "<style scoped>\n",
       "    .dataframe tbody tr th:only-of-type {\n",
       "        vertical-align: middle;\n",
       "    }\n",
       "\n",
       "    .dataframe tbody tr th {\n",
       "        vertical-align: top;\n",
       "    }\n",
       "\n",
       "    .dataframe thead th {\n",
       "        text-align: right;\n",
       "    }\n",
       "</style>\n",
       "<table border=\"1\" class=\"dataframe\">\n",
       "  <thead>\n",
       "    <tr style=\"text-align: right;\">\n",
       "      <th></th>\n",
       "      <th>Hypothesis</th>\n",
       "      <th>Reach</th>\n",
       "      <th>Impact</th>\n",
       "      <th>Confidence</th>\n",
       "      <th>Efforts</th>\n",
       "    </tr>\n",
       "  </thead>\n",
       "  <tbody>\n",
       "    <tr>\n",
       "      <th>0</th>\n",
       "      <td>Добавить два новых канала привлечения трафика, что позволит привлекать на 30% больше пользователей</td>\n",
       "      <td>3</td>\n",
       "      <td>10</td>\n",
       "      <td>8</td>\n",
       "      <td>6</td>\n",
       "    </tr>\n",
       "    <tr>\n",
       "      <th>1</th>\n",
       "      <td>Запустить собственную службу доставки, что сократит срок доставки заказов</td>\n",
       "      <td>2</td>\n",
       "      <td>5</td>\n",
       "      <td>4</td>\n",
       "      <td>10</td>\n",
       "    </tr>\n",
       "    <tr>\n",
       "      <th>2</th>\n",
       "      <td>Добавить блоки рекомендаций товаров на сайт интернет магазина, чтобы повысить конверсию и средний чек заказа</td>\n",
       "      <td>8</td>\n",
       "      <td>3</td>\n",
       "      <td>7</td>\n",
       "      <td>3</td>\n",
       "    </tr>\n",
       "    <tr>\n",
       "      <th>3</th>\n",
       "      <td>Изменить структура категорий, что увеличит конверсию, т.к. пользователи быстрее найдут нужный товар</td>\n",
       "      <td>8</td>\n",
       "      <td>3</td>\n",
       "      <td>3</td>\n",
       "      <td>8</td>\n",
       "    </tr>\n",
       "    <tr>\n",
       "      <th>4</th>\n",
       "      <td>Изменить цвет фона главной страницы, чтобы увеличить вовлеченность пользователей</td>\n",
       "      <td>3</td>\n",
       "      <td>1</td>\n",
       "      <td>1</td>\n",
       "      <td>1</td>\n",
       "    </tr>\n",
       "  </tbody>\n",
       "</table>\n",
       "</div>"
      ],
      "text/plain": [
       "                                                                                                     Hypothesis  \\\n",
       "0            Добавить два новых канала привлечения трафика, что позволит привлекать на 30% больше пользователей   \n",
       "1                                     Запустить собственную службу доставки, что сократит срок доставки заказов   \n",
       "2  Добавить блоки рекомендаций товаров на сайт интернет магазина, чтобы повысить конверсию и средний чек заказа   \n",
       "3           Изменить структура категорий, что увеличит конверсию, т.к. пользователи быстрее найдут нужный товар   \n",
       "4                              Изменить цвет фона главной страницы, чтобы увеличить вовлеченность пользователей   \n",
       "\n",
       "   Reach  Impact  Confidence  Efforts  \n",
       "0      3      10           8        6  \n",
       "1      2       5           4       10  \n",
       "2      8       3           7        3  \n",
       "3      8       3           3        8  \n",
       "4      3       1           1        1  "
      ]
     },
     "execution_count": 3,
     "metadata": {},
     "output_type": "execute_result"
    }
   ],
   "source": [
    "#Выведем первые строки датафрейма hypothesis.csv\n",
    "pd.set_option('display.max_colwidth', None)\n",
    "hypothesis.head(5)"
   ]
  },
  {
   "cell_type": "code",
   "execution_count": 4,
   "metadata": {},
   "outputs": [
    {
     "name": "stdout",
     "output_type": "stream",
     "text": [
      "<class 'pandas.core.frame.DataFrame'>\n",
      "RangeIndex: 9 entries, 0 to 8\n",
      "Data columns (total 5 columns):\n",
      " #   Column      Non-Null Count  Dtype \n",
      "---  ------      --------------  ----- \n",
      " 0   Hypothesis  9 non-null      object\n",
      " 1   Reach       9 non-null      int64 \n",
      " 2   Impact      9 non-null      int64 \n",
      " 3   Confidence  9 non-null      int64 \n",
      " 4   Efforts     9 non-null      int64 \n",
      "dtypes: int64(4), object(1)\n",
      "memory usage: 488.0+ bytes\n"
     ]
    }
   ],
   "source": [
    "#Рассмотрм основную информацию\n",
    "hypothesis.info()"
   ]
  },
  {
   "cell_type": "code",
   "execution_count": 5,
   "metadata": {},
   "outputs": [
    {
     "data": {
      "text/plain": [
       "Hypothesis    0\n",
       "Reach         0\n",
       "Impact        0\n",
       "Confidence    0\n",
       "Efforts       0\n",
       "dtype: int64"
      ]
     },
     "execution_count": 5,
     "metadata": {},
     "output_type": "execute_result"
    }
   ],
   "source": [
    "#Проверим наличие пустых ячеек\n",
    "hypothesis.isna().sum()"
   ]
  },
  {
   "cell_type": "code",
   "execution_count": 6,
   "metadata": {},
   "outputs": [],
   "source": [
    "#Приведем данные к змеинному регистру\n",
    "hypothesis = hypothesis.rename(columns={'Hypothesis' : 'hypothesis',\n",
    "                                        'Reach' : 'reach',\n",
    "                                        'Impact' : 'impact',\n",
    "                                        'Confidence' : 'confidence',\n",
    "                                        'Efforts' : 'efforts'})"
   ]
  },
  {
   "cell_type": "code",
   "execution_count": 7,
   "metadata": {
    "scrolled": true
   },
   "outputs": [
    {
     "name": "stdout",
     "output_type": "stream",
     "text": [
      "<class 'pandas.core.frame.DataFrame'>\n",
      "RangeIndex: 9 entries, 0 to 8\n",
      "Data columns (total 5 columns):\n",
      " #   Column      Non-Null Count  Dtype \n",
      "---  ------      --------------  ----- \n",
      " 0   hypothesis  9 non-null      object\n",
      " 1   reach       9 non-null      int64 \n",
      " 2   impact      9 non-null      int64 \n",
      " 3   confidence  9 non-null      int64 \n",
      " 4   efforts     9 non-null      int64 \n",
      "dtypes: int64(4), object(1)\n",
      "memory usage: 488.0+ bytes\n"
     ]
    }
   ],
   "source": [
    "#Рассмотрм основную информацию\n",
    "hypothesis.info()"
   ]
  },
  {
   "cell_type": "markdown",
   "metadata": {},
   "source": [
    "#### Предобработка данных orders"
   ]
  },
  {
   "cell_type": "code",
   "execution_count": 8,
   "metadata": {
    "scrolled": true
   },
   "outputs": [
    {
     "data": {
      "text/html": [
       "<div>\n",
       "<style scoped>\n",
       "    .dataframe tbody tr th:only-of-type {\n",
       "        vertical-align: middle;\n",
       "    }\n",
       "\n",
       "    .dataframe tbody tr th {\n",
       "        vertical-align: top;\n",
       "    }\n",
       "\n",
       "    .dataframe thead th {\n",
       "        text-align: right;\n",
       "    }\n",
       "</style>\n",
       "<table border=\"1\" class=\"dataframe\">\n",
       "  <thead>\n",
       "    <tr style=\"text-align: right;\">\n",
       "      <th></th>\n",
       "      <th>transactionId</th>\n",
       "      <th>visitorId</th>\n",
       "      <th>date</th>\n",
       "      <th>revenue</th>\n",
       "      <th>group</th>\n",
       "    </tr>\n",
       "  </thead>\n",
       "  <tbody>\n",
       "    <tr>\n",
       "      <th>0</th>\n",
       "      <td>3667963787</td>\n",
       "      <td>3312258926</td>\n",
       "      <td>2019-08-15</td>\n",
       "      <td>1650</td>\n",
       "      <td>B</td>\n",
       "    </tr>\n",
       "    <tr>\n",
       "      <th>1</th>\n",
       "      <td>2804400009</td>\n",
       "      <td>3642806036</td>\n",
       "      <td>2019-08-15</td>\n",
       "      <td>730</td>\n",
       "      <td>B</td>\n",
       "    </tr>\n",
       "    <tr>\n",
       "      <th>2</th>\n",
       "      <td>2961555356</td>\n",
       "      <td>4069496402</td>\n",
       "      <td>2019-08-15</td>\n",
       "      <td>400</td>\n",
       "      <td>A</td>\n",
       "    </tr>\n",
       "    <tr>\n",
       "      <th>3</th>\n",
       "      <td>3797467345</td>\n",
       "      <td>1196621759</td>\n",
       "      <td>2019-08-15</td>\n",
       "      <td>9759</td>\n",
       "      <td>B</td>\n",
       "    </tr>\n",
       "    <tr>\n",
       "      <th>4</th>\n",
       "      <td>2282983706</td>\n",
       "      <td>2322279887</td>\n",
       "      <td>2019-08-15</td>\n",
       "      <td>2308</td>\n",
       "      <td>B</td>\n",
       "    </tr>\n",
       "  </tbody>\n",
       "</table>\n",
       "</div>"
      ],
      "text/plain": [
       "   transactionId   visitorId        date  revenue group\n",
       "0     3667963787  3312258926  2019-08-15     1650     B\n",
       "1     2804400009  3642806036  2019-08-15      730     B\n",
       "2     2961555356  4069496402  2019-08-15      400     A\n",
       "3     3797467345  1196621759  2019-08-15     9759     B\n",
       "4     2282983706  2322279887  2019-08-15     2308     B"
      ]
     },
     "execution_count": 8,
     "metadata": {},
     "output_type": "execute_result"
    }
   ],
   "source": [
    "#Выведем первые строки датафрейма orders.csv\n",
    "orders.head(5)"
   ]
  },
  {
   "cell_type": "code",
   "execution_count": 9,
   "metadata": {},
   "outputs": [
    {
     "name": "stdout",
     "output_type": "stream",
     "text": [
      "<class 'pandas.core.frame.DataFrame'>\n",
      "RangeIndex: 1197 entries, 0 to 1196\n",
      "Data columns (total 5 columns):\n",
      " #   Column         Non-Null Count  Dtype \n",
      "---  ------         --------------  ----- \n",
      " 0   transactionId  1197 non-null   int64 \n",
      " 1   visitorId      1197 non-null   int64 \n",
      " 2   date           1197 non-null   object\n",
      " 3   revenue        1197 non-null   int64 \n",
      " 4   group          1197 non-null   object\n",
      "dtypes: int64(3), object(2)\n",
      "memory usage: 46.9+ KB\n"
     ]
    }
   ],
   "source": [
    "#Рассмотрм основную информацию\n",
    "orders.info()"
   ]
  },
  {
   "cell_type": "code",
   "execution_count": 10,
   "metadata": {
    "scrolled": true
   },
   "outputs": [
    {
     "data": {
      "text/plain": [
       "transactionId    0\n",
       "visitorId        0\n",
       "date             0\n",
       "revenue          0\n",
       "group            0\n",
       "dtype: int64"
      ]
     },
     "execution_count": 10,
     "metadata": {},
     "output_type": "execute_result"
    }
   ],
   "source": [
    "#Проверим наличие пустых ячеек\n",
    "orders.isna().sum()"
   ]
  },
  {
   "cell_type": "code",
   "execution_count": 11,
   "metadata": {},
   "outputs": [],
   "source": [
    "#Преобразуем данные\n",
    "orders['date'] = pd.to_datetime(orders['date'])\n",
    "orders['revenue'] = orders['revenue'].astype('float')"
   ]
  },
  {
   "cell_type": "code",
   "execution_count": 12,
   "metadata": {
    "scrolled": true
   },
   "outputs": [
    {
     "name": "stdout",
     "output_type": "stream",
     "text": [
      "<class 'pandas.core.frame.DataFrame'>\n",
      "RangeIndex: 1197 entries, 0 to 1196\n",
      "Data columns (total 5 columns):\n",
      " #   Column         Non-Null Count  Dtype         \n",
      "---  ------         --------------  -----         \n",
      " 0   transactionId  1197 non-null   int64         \n",
      " 1   visitorId      1197 non-null   int64         \n",
      " 2   date           1197 non-null   datetime64[ns]\n",
      " 3   revenue        1197 non-null   float64       \n",
      " 4   group          1197 non-null   object        \n",
      "dtypes: datetime64[ns](1), float64(1), int64(2), object(1)\n",
      "memory usage: 46.9+ KB\n"
     ]
    }
   ],
   "source": [
    "#Рассмотрм основную информацию\n",
    "orders.info()"
   ]
  },
  {
   "cell_type": "markdown",
   "metadata": {},
   "source": [
    "#### Предобработка данных visitors"
   ]
  },
  {
   "cell_type": "code",
   "execution_count": 13,
   "metadata": {
    "scrolled": true
   },
   "outputs": [
    {
     "data": {
      "text/html": [
       "<div>\n",
       "<style scoped>\n",
       "    .dataframe tbody tr th:only-of-type {\n",
       "        vertical-align: middle;\n",
       "    }\n",
       "\n",
       "    .dataframe tbody tr th {\n",
       "        vertical-align: top;\n",
       "    }\n",
       "\n",
       "    .dataframe thead th {\n",
       "        text-align: right;\n",
       "    }\n",
       "</style>\n",
       "<table border=\"1\" class=\"dataframe\">\n",
       "  <thead>\n",
       "    <tr style=\"text-align: right;\">\n",
       "      <th></th>\n",
       "      <th>date</th>\n",
       "      <th>group</th>\n",
       "      <th>visitors</th>\n",
       "    </tr>\n",
       "  </thead>\n",
       "  <tbody>\n",
       "    <tr>\n",
       "      <th>0</th>\n",
       "      <td>2019-08-01</td>\n",
       "      <td>A</td>\n",
       "      <td>719</td>\n",
       "    </tr>\n",
       "    <tr>\n",
       "      <th>1</th>\n",
       "      <td>2019-08-02</td>\n",
       "      <td>A</td>\n",
       "      <td>619</td>\n",
       "    </tr>\n",
       "    <tr>\n",
       "      <th>2</th>\n",
       "      <td>2019-08-03</td>\n",
       "      <td>A</td>\n",
       "      <td>507</td>\n",
       "    </tr>\n",
       "    <tr>\n",
       "      <th>3</th>\n",
       "      <td>2019-08-04</td>\n",
       "      <td>A</td>\n",
       "      <td>717</td>\n",
       "    </tr>\n",
       "    <tr>\n",
       "      <th>4</th>\n",
       "      <td>2019-08-05</td>\n",
       "      <td>A</td>\n",
       "      <td>756</td>\n",
       "    </tr>\n",
       "  </tbody>\n",
       "</table>\n",
       "</div>"
      ],
      "text/plain": [
       "         date group  visitors\n",
       "0  2019-08-01     A       719\n",
       "1  2019-08-02     A       619\n",
       "2  2019-08-03     A       507\n",
       "3  2019-08-04     A       717\n",
       "4  2019-08-05     A       756"
      ]
     },
     "execution_count": 13,
     "metadata": {},
     "output_type": "execute_result"
    }
   ],
   "source": [
    "#Выведем первые строки датафрейма visitors.csv\n",
    "visitors.head(5)"
   ]
  },
  {
   "cell_type": "code",
   "execution_count": 14,
   "metadata": {
    "scrolled": true
   },
   "outputs": [
    {
     "name": "stdout",
     "output_type": "stream",
     "text": [
      "<class 'pandas.core.frame.DataFrame'>\n",
      "RangeIndex: 62 entries, 0 to 61\n",
      "Data columns (total 3 columns):\n",
      " #   Column    Non-Null Count  Dtype \n",
      "---  ------    --------------  ----- \n",
      " 0   date      62 non-null     object\n",
      " 1   group     62 non-null     object\n",
      " 2   visitors  62 non-null     int64 \n",
      "dtypes: int64(1), object(2)\n",
      "memory usage: 1.6+ KB\n"
     ]
    }
   ],
   "source": [
    "#Рассмотрм основную информацию\n",
    "visitors.info()"
   ]
  },
  {
   "cell_type": "code",
   "execution_count": 15,
   "metadata": {
    "scrolled": false
   },
   "outputs": [
    {
     "data": {
      "text/plain": [
       "date        0\n",
       "group       0\n",
       "visitors    0\n",
       "dtype: int64"
      ]
     },
     "execution_count": 15,
     "metadata": {},
     "output_type": "execute_result"
    }
   ],
   "source": [
    "#Проверим наличие пустых ячеек\n",
    "visitors.isna().sum()"
   ]
  },
  {
   "cell_type": "code",
   "execution_count": 16,
   "metadata": {},
   "outputs": [],
   "source": [
    "#Преобразуем данные\n",
    "visitors['date'] = pd.to_datetime(visitors['date'])"
   ]
  },
  {
   "cell_type": "code",
   "execution_count": 17,
   "metadata": {},
   "outputs": [
    {
     "name": "stdout",
     "output_type": "stream",
     "text": [
      "<class 'pandas.core.frame.DataFrame'>\n",
      "RangeIndex: 62 entries, 0 to 61\n",
      "Data columns (total 3 columns):\n",
      " #   Column    Non-Null Count  Dtype         \n",
      "---  ------    --------------  -----         \n",
      " 0   date      62 non-null     datetime64[ns]\n",
      " 1   group     62 non-null     object        \n",
      " 2   visitors  62 non-null     int64         \n",
      "dtypes: datetime64[ns](1), int64(1), object(1)\n",
      "memory usage: 1.6+ KB\n"
     ]
    }
   ],
   "source": [
    "#Рассмотрм основную информацию\n",
    "visitors.info()"
   ]
  },
  {
   "cell_type": "markdown",
   "metadata": {},
   "source": [
    "Вывод: данные в полной мере соответствуют требованиям для выполнения анализа проведенного теста.\n",
    "\n",
    "Таблица hypothesis используется для приоритизации гипотез.\n",
    "Таблицы visitors и orders используются для анализа полученных в результатае тестирования данных и формирования выводов о успешности/неуспешности теста.\n",
    "\n",
    "Данные в таблицах приведены к нужным форматам и регистрам, проверены на наличие пропусков."
   ]
  },
  {
   "cell_type": "markdown",
   "metadata": {},
   "source": [
    "### Часть 2. Приоритизация гипотез."
   ]
  },
  {
   "cell_type": "markdown",
   "metadata": {},
   "source": [
    "***ICE и RICE***\n",
    "\n",
    "ICE (от англ. impact, confidence, effort / ease «влияние, уверенность, усилия / простота») — один из самых популярных способов приоритизации задач:\n",
    "ICE = (Impact * Confidence) / Efforts\n",
    "\n",
    "У этого метода есть модификация RICE (R от англ. reach, «охват»):\n",
    "\n",
    "RICE = (Reach * Impact * Confidence) / Efforts\n"
   ]
  },
  {
   "cell_type": "markdown",
   "metadata": {},
   "source": [
    "#### Применим фреймворк ICE для приоритизации гипотез. Отсортируем их по убыванию приоритета."
   ]
  },
  {
   "cell_type": "code",
   "execution_count": 18,
   "metadata": {
    "scrolled": true
   },
   "outputs": [
    {
     "data": {
      "text/html": [
       "<div>\n",
       "<style scoped>\n",
       "    .dataframe tbody tr th:only-of-type {\n",
       "        vertical-align: middle;\n",
       "    }\n",
       "\n",
       "    .dataframe tbody tr th {\n",
       "        vertical-align: top;\n",
       "    }\n",
       "\n",
       "    .dataframe thead th {\n",
       "        text-align: right;\n",
       "    }\n",
       "</style>\n",
       "<table border=\"1\" class=\"dataframe\">\n",
       "  <thead>\n",
       "    <tr style=\"text-align: right;\">\n",
       "      <th></th>\n",
       "      <th>hypothesis</th>\n",
       "      <th>ICE</th>\n",
       "    </tr>\n",
       "  </thead>\n",
       "  <tbody>\n",
       "    <tr>\n",
       "      <th>9</th>\n",
       "      <td>Запустить акцию, дающую скидку на товар в день рождения</td>\n",
       "      <td>16.20</td>\n",
       "    </tr>\n",
       "    <tr>\n",
       "      <th>1</th>\n",
       "      <td>Добавить два новых канала привлечения трафика, что позволит привлекать на 30% больше пользователей</td>\n",
       "      <td>13.33</td>\n",
       "    </tr>\n",
       "    <tr>\n",
       "      <th>8</th>\n",
       "      <td>Добавить форму подписки на все основные страницы, чтобы собрать базу клиентов для email-рассылок</td>\n",
       "      <td>11.20</td>\n",
       "    </tr>\n",
       "    <tr>\n",
       "      <th>7</th>\n",
       "      <td>Показать на главной странице баннеры с актуальными акциями и распродажами, чтобы увеличить конверсию</td>\n",
       "      <td>8.00</td>\n",
       "    </tr>\n",
       "    <tr>\n",
       "      <th>3</th>\n",
       "      <td>Добавить блоки рекомендаций товаров на сайт интернет магазина, чтобы повысить конверсию и средний чек заказа</td>\n",
       "      <td>7.00</td>\n",
       "    </tr>\n",
       "    <tr>\n",
       "      <th>2</th>\n",
       "      <td>Запустить собственную службу доставки, что сократит срок доставки заказов</td>\n",
       "      <td>2.00</td>\n",
       "    </tr>\n",
       "    <tr>\n",
       "      <th>6</th>\n",
       "      <td>Добавить страницу отзывов клиентов о магазине, что позволит увеличить количество заказов</td>\n",
       "      <td>1.33</td>\n",
       "    </tr>\n",
       "    <tr>\n",
       "      <th>4</th>\n",
       "      <td>Изменить структура категорий, что увеличит конверсию, т.к. пользователи быстрее найдут нужный товар</td>\n",
       "      <td>1.12</td>\n",
       "    </tr>\n",
       "    <tr>\n",
       "      <th>5</th>\n",
       "      <td>Изменить цвет фона главной страницы, чтобы увеличить вовлеченность пользователей</td>\n",
       "      <td>1.00</td>\n",
       "    </tr>\n",
       "  </tbody>\n",
       "</table>\n",
       "</div>"
      ],
      "text/plain": [
       "                                                                                                     hypothesis  \\\n",
       "9                                                       Запустить акцию, дающую скидку на товар в день рождения   \n",
       "1            Добавить два новых канала привлечения трафика, что позволит привлекать на 30% больше пользователей   \n",
       "8              Добавить форму подписки на все основные страницы, чтобы собрать базу клиентов для email-рассылок   \n",
       "7          Показать на главной странице баннеры с актуальными акциями и распродажами, чтобы увеличить конверсию   \n",
       "3  Добавить блоки рекомендаций товаров на сайт интернет магазина, чтобы повысить конверсию и средний чек заказа   \n",
       "2                                     Запустить собственную службу доставки, что сократит срок доставки заказов   \n",
       "6                      Добавить страницу отзывов клиентов о магазине, что позволит увеличить количество заказов   \n",
       "4           Изменить структура категорий, что увеличит конверсию, т.к. пользователи быстрее найдут нужный товар   \n",
       "5                              Изменить цвет фона главной страницы, чтобы увеличить вовлеченность пользователей   \n",
       "\n",
       "     ICE  \n",
       "9  16.20  \n",
       "1  13.33  \n",
       "8  11.20  \n",
       "7   8.00  \n",
       "3   7.00  \n",
       "2   2.00  \n",
       "6   1.33  \n",
       "4   1.12  \n",
       "5   1.00  "
      ]
     },
     "metadata": {},
     "output_type": "display_data"
    }
   ],
   "source": [
    "hypothesis.index = np.arange(1, len(hypothesis) + 1)\n",
    "hypothesis['ICE'] = round(((hypothesis['impact'] * hypothesis['confidence']) / hypothesis['efforts']),2)\n",
    "\n",
    "display(hypothesis[['hypothesis', 'ICE']].sort_values(by='ICE', ascending=False))"
   ]
  },
  {
   "cell_type": "markdown",
   "metadata": {},
   "source": [
    "Наиболее перспективные гипотезы: 9, 1, 8\n",
    "\n",
    "9) Запустить акцию, дающую скидку на товар в день рождения,\n",
    "\n",
    "1) Добавить два новых канала привлечения трафика, что позволит привлекать на 30% больше пользователей,\n",
    "\n",
    "8) Добавить форму подписки на все основные страницы, чтобы собрать базу клиентов для email-рассылок. "
   ]
  },
  {
   "cell_type": "markdown",
   "metadata": {},
   "source": [
    "#### Применим фреймворк RICE для приоритизации гипотез. Отсортируем их по убыванию приоритета."
   ]
  },
  {
   "cell_type": "code",
   "execution_count": 19,
   "metadata": {
    "scrolled": true
   },
   "outputs": [
    {
     "data": {
      "text/html": [
       "<div>\n",
       "<style scoped>\n",
       "    .dataframe tbody tr th:only-of-type {\n",
       "        vertical-align: middle;\n",
       "    }\n",
       "\n",
       "    .dataframe tbody tr th {\n",
       "        vertical-align: top;\n",
       "    }\n",
       "\n",
       "    .dataframe thead th {\n",
       "        text-align: right;\n",
       "    }\n",
       "</style>\n",
       "<table border=\"1\" class=\"dataframe\">\n",
       "  <thead>\n",
       "    <tr style=\"text-align: right;\">\n",
       "      <th></th>\n",
       "      <th>hypothesis</th>\n",
       "      <th>RICE</th>\n",
       "    </tr>\n",
       "  </thead>\n",
       "  <tbody>\n",
       "    <tr>\n",
       "      <th>8</th>\n",
       "      <td>Добавить форму подписки на все основные страницы, чтобы собрать базу клиентов для email-рассылок</td>\n",
       "      <td>112.0</td>\n",
       "    </tr>\n",
       "    <tr>\n",
       "      <th>3</th>\n",
       "      <td>Добавить блоки рекомендаций товаров на сайт интернет магазина, чтобы повысить конверсию и средний чек заказа</td>\n",
       "      <td>56.0</td>\n",
       "    </tr>\n",
       "    <tr>\n",
       "      <th>1</th>\n",
       "      <td>Добавить два новых канала привлечения трафика, что позволит привлекать на 30% больше пользователей</td>\n",
       "      <td>40.0</td>\n",
       "    </tr>\n",
       "    <tr>\n",
       "      <th>7</th>\n",
       "      <td>Показать на главной странице баннеры с актуальными акциями и распродажами, чтобы увеличить конверсию</td>\n",
       "      <td>40.0</td>\n",
       "    </tr>\n",
       "    <tr>\n",
       "      <th>9</th>\n",
       "      <td>Запустить акцию, дающую скидку на товар в день рождения</td>\n",
       "      <td>16.2</td>\n",
       "    </tr>\n",
       "    <tr>\n",
       "      <th>4</th>\n",
       "      <td>Изменить структура категорий, что увеличит конверсию, т.к. пользователи быстрее найдут нужный товар</td>\n",
       "      <td>9.0</td>\n",
       "    </tr>\n",
       "    <tr>\n",
       "      <th>2</th>\n",
       "      <td>Запустить собственную службу доставки, что сократит срок доставки заказов</td>\n",
       "      <td>4.0</td>\n",
       "    </tr>\n",
       "    <tr>\n",
       "      <th>6</th>\n",
       "      <td>Добавить страницу отзывов клиентов о магазине, что позволит увеличить количество заказов</td>\n",
       "      <td>4.0</td>\n",
       "    </tr>\n",
       "    <tr>\n",
       "      <th>5</th>\n",
       "      <td>Изменить цвет фона главной страницы, чтобы увеличить вовлеченность пользователей</td>\n",
       "      <td>3.0</td>\n",
       "    </tr>\n",
       "  </tbody>\n",
       "</table>\n",
       "</div>"
      ],
      "text/plain": [
       "                                                                                                     hypothesis  \\\n",
       "8              Добавить форму подписки на все основные страницы, чтобы собрать базу клиентов для email-рассылок   \n",
       "3  Добавить блоки рекомендаций товаров на сайт интернет магазина, чтобы повысить конверсию и средний чек заказа   \n",
       "1            Добавить два новых канала привлечения трафика, что позволит привлекать на 30% больше пользователей   \n",
       "7          Показать на главной странице баннеры с актуальными акциями и распродажами, чтобы увеличить конверсию   \n",
       "9                                                       Запустить акцию, дающую скидку на товар в день рождения   \n",
       "4           Изменить структура категорий, что увеличит конверсию, т.к. пользователи быстрее найдут нужный товар   \n",
       "2                                     Запустить собственную службу доставки, что сократит срок доставки заказов   \n",
       "6                      Добавить страницу отзывов клиентов о магазине, что позволит увеличить количество заказов   \n",
       "5                              Изменить цвет фона главной страницы, чтобы увеличить вовлеченность пользователей   \n",
       "\n",
       "    RICE  \n",
       "8  112.0  \n",
       "3   56.0  \n",
       "1   40.0  \n",
       "7   40.0  \n",
       "9   16.2  \n",
       "4    9.0  \n",
       "2    4.0  \n",
       "6    4.0  \n",
       "5    3.0  "
      ]
     },
     "metadata": {},
     "output_type": "display_data"
    }
   ],
   "source": [
    "hypothesis['RICE'] = (hypothesis['reach'] * hypothesis['impact'] * hypothesis['confidence']) / hypothesis['efforts']\n",
    "\n",
    "display(hypothesis[['hypothesis', 'RICE']].sort_values(by='RICE', ascending=False))"
   ]
  },
  {
   "cell_type": "markdown",
   "metadata": {},
   "source": [
    "Наиболее перспективные гипотезы: 8, 3, 1, 7\n",
    "\n",
    "8) Добавить форму подписки на все основные страницы, чтобы собрать базу клиентов для email-рассылок,\n",
    "\n",
    "3) Добавить блоки рекомендаций товаров на сайт интернет магазина, чтобы повысить конверсию и средний чек заказа,\n",
    "\n",
    "1) Добавить два новых канала привлечения трафика, что позволит привлекать на 30% больше пользователей,\n",
    "\n",
    "7) Показать на главной странице баннеры с актуальными акциями и распродажами, чтобы увеличить конверсию. "
   ]
  },
  {
   "cell_type": "markdown",
   "metadata": {},
   "source": [
    "#### Изменение приоритизации гипотез при применении RICE вместо ICE"
   ]
  },
  {
   "cell_type": "code",
   "execution_count": 20,
   "metadata": {},
   "outputs": [
    {
     "data": {
      "text/html": [
       "<div>\n",
       "<style scoped>\n",
       "    .dataframe tbody tr th:only-of-type {\n",
       "        vertical-align: middle;\n",
       "    }\n",
       "\n",
       "    .dataframe tbody tr th {\n",
       "        vertical-align: top;\n",
       "    }\n",
       "\n",
       "    .dataframe thead th {\n",
       "        text-align: right;\n",
       "    }\n",
       "</style>\n",
       "<table border=\"1\" class=\"dataframe\">\n",
       "  <thead>\n",
       "    <tr style=\"text-align: right;\">\n",
       "      <th></th>\n",
       "      <th>hypothesis</th>\n",
       "      <th>reach</th>\n",
       "      <th>impact</th>\n",
       "      <th>confidence</th>\n",
       "      <th>efforts</th>\n",
       "      <th>ICE</th>\n",
       "      <th>RICE</th>\n",
       "    </tr>\n",
       "  </thead>\n",
       "  <tbody>\n",
       "    <tr>\n",
       "      <th>1</th>\n",
       "      <td>Добавить два новых канала привлечения трафика, что позволит привлекать на 30% больше пользователей</td>\n",
       "      <td>3</td>\n",
       "      <td>10</td>\n",
       "      <td>8</td>\n",
       "      <td>6</td>\n",
       "      <td>13.33</td>\n",
       "      <td>40.0</td>\n",
       "    </tr>\n",
       "    <tr>\n",
       "      <th>2</th>\n",
       "      <td>Запустить собственную службу доставки, что сократит срок доставки заказов</td>\n",
       "      <td>2</td>\n",
       "      <td>5</td>\n",
       "      <td>4</td>\n",
       "      <td>10</td>\n",
       "      <td>2.00</td>\n",
       "      <td>4.0</td>\n",
       "    </tr>\n",
       "    <tr>\n",
       "      <th>3</th>\n",
       "      <td>Добавить блоки рекомендаций товаров на сайт интернет магазина, чтобы повысить конверсию и средний чек заказа</td>\n",
       "      <td>8</td>\n",
       "      <td>3</td>\n",
       "      <td>7</td>\n",
       "      <td>3</td>\n",
       "      <td>7.00</td>\n",
       "      <td>56.0</td>\n",
       "    </tr>\n",
       "    <tr>\n",
       "      <th>4</th>\n",
       "      <td>Изменить структура категорий, что увеличит конверсию, т.к. пользователи быстрее найдут нужный товар</td>\n",
       "      <td>8</td>\n",
       "      <td>3</td>\n",
       "      <td>3</td>\n",
       "      <td>8</td>\n",
       "      <td>1.12</td>\n",
       "      <td>9.0</td>\n",
       "    </tr>\n",
       "    <tr>\n",
       "      <th>5</th>\n",
       "      <td>Изменить цвет фона главной страницы, чтобы увеличить вовлеченность пользователей</td>\n",
       "      <td>3</td>\n",
       "      <td>1</td>\n",
       "      <td>1</td>\n",
       "      <td>1</td>\n",
       "      <td>1.00</td>\n",
       "      <td>3.0</td>\n",
       "    </tr>\n",
       "    <tr>\n",
       "      <th>6</th>\n",
       "      <td>Добавить страницу отзывов клиентов о магазине, что позволит увеличить количество заказов</td>\n",
       "      <td>3</td>\n",
       "      <td>2</td>\n",
       "      <td>2</td>\n",
       "      <td>3</td>\n",
       "      <td>1.33</td>\n",
       "      <td>4.0</td>\n",
       "    </tr>\n",
       "    <tr>\n",
       "      <th>7</th>\n",
       "      <td>Показать на главной странице баннеры с актуальными акциями и распродажами, чтобы увеличить конверсию</td>\n",
       "      <td>5</td>\n",
       "      <td>3</td>\n",
       "      <td>8</td>\n",
       "      <td>3</td>\n",
       "      <td>8.00</td>\n",
       "      <td>40.0</td>\n",
       "    </tr>\n",
       "    <tr>\n",
       "      <th>8</th>\n",
       "      <td>Добавить форму подписки на все основные страницы, чтобы собрать базу клиентов для email-рассылок</td>\n",
       "      <td>10</td>\n",
       "      <td>7</td>\n",
       "      <td>8</td>\n",
       "      <td>5</td>\n",
       "      <td>11.20</td>\n",
       "      <td>112.0</td>\n",
       "    </tr>\n",
       "    <tr>\n",
       "      <th>9</th>\n",
       "      <td>Запустить акцию, дающую скидку на товар в день рождения</td>\n",
       "      <td>1</td>\n",
       "      <td>9</td>\n",
       "      <td>9</td>\n",
       "      <td>5</td>\n",
       "      <td>16.20</td>\n",
       "      <td>16.2</td>\n",
       "    </tr>\n",
       "  </tbody>\n",
       "</table>\n",
       "</div>"
      ],
      "text/plain": [
       "                                                                                                     hypothesis  \\\n",
       "1            Добавить два новых канала привлечения трафика, что позволит привлекать на 30% больше пользователей   \n",
       "2                                     Запустить собственную службу доставки, что сократит срок доставки заказов   \n",
       "3  Добавить блоки рекомендаций товаров на сайт интернет магазина, чтобы повысить конверсию и средний чек заказа   \n",
       "4           Изменить структура категорий, что увеличит конверсию, т.к. пользователи быстрее найдут нужный товар   \n",
       "5                              Изменить цвет фона главной страницы, чтобы увеличить вовлеченность пользователей   \n",
       "6                      Добавить страницу отзывов клиентов о магазине, что позволит увеличить количество заказов   \n",
       "7          Показать на главной странице баннеры с актуальными акциями и распродажами, чтобы увеличить конверсию   \n",
       "8              Добавить форму подписки на все основные страницы, чтобы собрать базу клиентов для email-рассылок   \n",
       "9                                                       Запустить акцию, дающую скидку на товар в день рождения   \n",
       "\n",
       "   reach  impact  confidence  efforts    ICE   RICE  \n",
       "1      3      10           8        6  13.33   40.0  \n",
       "2      2       5           4       10   2.00    4.0  \n",
       "3      8       3           7        3   7.00   56.0  \n",
       "4      8       3           3        8   1.12    9.0  \n",
       "5      3       1           1        1   1.00    3.0  \n",
       "6      3       2           2        3   1.33    4.0  \n",
       "7      5       3           8        3   8.00   40.0  \n",
       "8     10       7           8        5  11.20  112.0  \n",
       "9      1       9           9        5  16.20   16.2  "
      ]
     },
     "execution_count": 20,
     "metadata": {},
     "output_type": "execute_result"
    }
   ],
   "source": [
    "hypothesis"
   ]
  },
  {
   "cell_type": "markdown",
   "metadata": {},
   "source": [
    "Наиболее перспективные гипотезы по ICE: \n",
    "\n",
    "- Запустить акцию, дающую скидку на товар в день рождения (9 гипотеза),\n",
    "\n",
    "- Добавить два новых канала привлечения трафика, что позволит привлекать на 30% больше пользователей (1 гипотеза),\n",
    "\n",
    "- Добавить форму подписки на все основные страницы, чтобы собрать базу клиентов для email-рассылок (8 гипотеза). \n",
    "\n",
    "Наиболее перспективные гипотезы по RICE: \n",
    "\n",
    "- Добавить форму подписки на все основные страницы, чтобы собрать базу клиентов для email-рассылок (8 гипотеза),\n",
    "\n",
    "- Добавить блоки рекомендаций товаров на сайт интернет магазина, чтобы повысить конверсию и средний чек заказа (3 гипотеза),\n",
    "\n",
    "- Добавить два новых канала привлечения трафика, что позволит привлекать на 30% больше пользователей (1 гипотеза),\n",
    "\n",
    "- Показать на главной странице баннеры с актуальными акциями и распродажами, чтобы увеличить конверсию (7 гипотеза). \n",
    "\n",
    "По RICE имеются значительные различия с ICE. Так получилось, потому что \n",
    "- параметр Reach для гипотезы \"Добавить форму подписки на все основные страницы, чтобы собрать базу клиентов для email-рассылок\"  равен 10, \n",
    "- Reach для \"Показать на главной странице баннеры с актуальными акциями и распродажами, чтобы увеличить конверсию\" равен 5 при этом наблюдается высокий уровнень уверенности в гипотезе, \n",
    "- Reach для \"Добавить блоки рекомендаций товаров на сайт интернет магазина, чтобы повысить конверсию и средний чек заказа\" равен 8, \n",
    "- Reach для \"Запустить акцию, дающую скидку на товар в день рождения\" равен 1, при этом и влияние рано 9, и уверенность в результате равна 9, \n",
    "- а для \"Добавить два новых канала привлечения трафика, что позволит привлекать на 30% больше пользователей\" Reach равен 3 в то время как влияние равно 10\n",
    "\n",
    "Для выбора конкретной гипотезы для тестирования лучше выбирать ее из гипотез:\n",
    "\n",
    "\"Добавить два новых канала привлечения трафика, что позволит привлекать на 30% больше пользователей\" (имеет высокий уровеь влияния) и \"Добавить форму подписки на все основные страницы, чтобы собрать базу клиентов для email-рассылок\" (имеет достаточно высокий уровень охвата)."
   ]
  },
  {
   "cell_type": "markdown",
   "metadata": {},
   "source": [
    "### Часть 3. Анализ A/B-теста"
   ]
  },
  {
   "cell_type": "markdown",
   "metadata": {},
   "source": [
    "#### Построим график кумулятивной выручки по группам. Сделать выводы и предположения."
   ]
  },
  {
   "cell_type": "code",
   "execution_count": 21,
   "metadata": {},
   "outputs": [],
   "source": [
    "# создаем массив уникальных пар значений дат и групп теста\n",
    "datesGroups = orders[['date','group']].drop_duplicates() "
   ]
  },
  {
   "cell_type": "code",
   "execution_count": 22,
   "metadata": {},
   "outputs": [],
   "source": [
    "#  агрегированные кумулятивные по дням данные о заказах\n",
    "ordersAggregated = (datesGroups\n",
    "                    .apply(lambda x: orders[np.logical_and(orders['date'] <= x['date'], \n",
    "                                                           orders['group'] == x['group'])]\\\n",
    "                           .agg({'date' : 'max', \n",
    "                                 'group' : 'max', \n",
    "                                 'transactionId' : 'nunique', \n",
    "                                 'visitorId' : 'nunique', \n",
    "                                 'revenue' : 'sum'}), axis=1)\n",
    "                    .sort_values(by=['date','group'])\n",
    "                   )"
   ]
  },
  {
   "cell_type": "code",
   "execution_count": 23,
   "metadata": {},
   "outputs": [],
   "source": [
    "# агрегированные кумулятивные по дням данные о посетителях интернет-магазина\n",
    "visitorsAggregated = (datesGroups\n",
    "                      .apply(lambda x: visitors[np.logical_and(visitors['date'] <= x['date'], \n",
    "                                                               visitors['group'] == x['group'])]\n",
    "                             .agg({'date' : 'max', \n",
    "                                   'group' : 'max', \n",
    "                                   'visitors' : 'sum'}), axis=1)\n",
    "                      .sort_values(by=['date','group'])\n",
    "                     )"
   ]
  },
  {
   "cell_type": "code",
   "execution_count": 24,
   "metadata": {},
   "outputs": [
    {
     "data": {
      "text/html": [
       "<div>\n",
       "<style scoped>\n",
       "    .dataframe tbody tr th:only-of-type {\n",
       "        vertical-align: middle;\n",
       "    }\n",
       "\n",
       "    .dataframe tbody tr th {\n",
       "        vertical-align: top;\n",
       "    }\n",
       "\n",
       "    .dataframe thead th {\n",
       "        text-align: right;\n",
       "    }\n",
       "</style>\n",
       "<table border=\"1\" class=\"dataframe\">\n",
       "  <thead>\n",
       "    <tr style=\"text-align: right;\">\n",
       "      <th></th>\n",
       "      <th>date</th>\n",
       "      <th>group</th>\n",
       "      <th>orders</th>\n",
       "      <th>buyers</th>\n",
       "      <th>revenue</th>\n",
       "      <th>visitors</th>\n",
       "    </tr>\n",
       "  </thead>\n",
       "  <tbody>\n",
       "    <tr>\n",
       "      <th>0</th>\n",
       "      <td>2019-08-01</td>\n",
       "      <td>A</td>\n",
       "      <td>24</td>\n",
       "      <td>20</td>\n",
       "      <td>148579.0</td>\n",
       "      <td>719</td>\n",
       "    </tr>\n",
       "    <tr>\n",
       "      <th>1</th>\n",
       "      <td>2019-08-01</td>\n",
       "      <td>B</td>\n",
       "      <td>21</td>\n",
       "      <td>20</td>\n",
       "      <td>101217.0</td>\n",
       "      <td>713</td>\n",
       "    </tr>\n",
       "    <tr>\n",
       "      <th>2</th>\n",
       "      <td>2019-08-02</td>\n",
       "      <td>A</td>\n",
       "      <td>44</td>\n",
       "      <td>38</td>\n",
       "      <td>242401.0</td>\n",
       "      <td>1338</td>\n",
       "    </tr>\n",
       "    <tr>\n",
       "      <th>3</th>\n",
       "      <td>2019-08-02</td>\n",
       "      <td>B</td>\n",
       "      <td>45</td>\n",
       "      <td>43</td>\n",
       "      <td>266748.0</td>\n",
       "      <td>1294</td>\n",
       "    </tr>\n",
       "    <tr>\n",
       "      <th>4</th>\n",
       "      <td>2019-08-03</td>\n",
       "      <td>A</td>\n",
       "      <td>68</td>\n",
       "      <td>62</td>\n",
       "      <td>354874.0</td>\n",
       "      <td>1845</td>\n",
       "    </tr>\n",
       "  </tbody>\n",
       "</table>\n",
       "</div>"
      ],
      "text/plain": [
       "        date group  orders  buyers   revenue  visitors\n",
       "0 2019-08-01     A      24      20  148579.0       719\n",
       "1 2019-08-01     B      21      20  101217.0       713\n",
       "2 2019-08-02     A      44      38  242401.0      1338\n",
       "3 2019-08-02     B      45      43  266748.0      1294\n",
       "4 2019-08-03     A      68      62  354874.0      1845"
      ]
     },
     "metadata": {},
     "output_type": "display_data"
    }
   ],
   "source": [
    "# объединяем кумулятивные данные в одной таблице и присваиваем ее столбцам понятные названия\n",
    "cumulativeData = ordersAggregated.merge(visitorsAggregated, left_on=['date', 'group'], right_on=['date', 'group'])\n",
    "cumulativeData.columns = ['date', 'group', 'orders', 'buyers', 'revenue', 'visitors']\n",
    "\n",
    "display(cumulativeData.head(5))"
   ]
  },
  {
   "cell_type": "code",
   "execution_count": 25,
   "metadata": {},
   "outputs": [
    {
     "name": "stdout",
     "output_type": "stream",
     "text": [
      "2019-08-01\n",
      "2019-08-31\n"
     ]
    }
   ],
   "source": [
    "#Определим минимальную и максимальную даты исходной таблицы orders\n",
    "print((orders['date'].min()).date())\n",
    "print(orders['date'].max().date())"
   ]
  },
  {
   "cell_type": "code",
   "execution_count": 26,
   "metadata": {},
   "outputs": [
    {
     "name": "stdout",
     "output_type": "stream",
     "text": [
      "2019-08-01\n",
      "2019-08-31\n"
     ]
    }
   ],
   "source": [
    "#Определим минимальную и максимальную даты исходной таблицы visitors\n",
    "print(visitors['date'].min().date())\n",
    "print(visitors['date'].max().date())"
   ]
  },
  {
   "cell_type": "code",
   "execution_count": 27,
   "metadata": {
    "scrolled": true
   },
   "outputs": [
    {
     "name": "stdout",
     "output_type": "stream",
     "text": [
      "2019-08-01\n",
      "2019-08-31\n"
     ]
    }
   ],
   "source": [
    "#Сравним полученные данные о минимальной и максимальной датах с датами cummulativeData\n",
    "print(cumulativeData['date'].min().date())\n",
    "print(cumulativeData['date'].max().date())"
   ]
  },
  {
   "cell_type": "markdown",
   "metadata": {},
   "source": [
    "Исходные данные представлены за период с 2019-08-01 по 2019-08-31 при формировании датафрейма cummulativeData записи соответствуют \"сырым\" данным."
   ]
  },
  {
   "cell_type": "code",
   "execution_count": 28,
   "metadata": {
    "scrolled": false
   },
   "outputs": [
    {
     "data": {
      "image/png": "[encoded data removed]",
      "text/plain": [
       "<Figure size 1000x500 with 1 Axes>"
      ]
     },
     "metadata": {},
     "output_type": "display_data"
    }
   ],
   "source": [
    "# датафрейм с кумулятивным количеством заказов и кумулятивной выручкой по дням в группе А\n",
    "cumulativeRevenueA = cumulativeData[cumulativeData['group']=='A'][['date','revenue', 'orders']]\n",
    "\n",
    "# датафрейм с кумулятивным количеством заказов и кумулятивной выручкой по дням в группе B\n",
    "cumulativeRevenueB = cumulativeData[cumulativeData['group']=='B'][['date','revenue', 'orders']]\n",
    "\n",
    "plt.figure(figsize=(10, 5))\n",
    "# Строим график выручки группы А\n",
    "plt.plot(cumulativeRevenueA['date'], cumulativeRevenueA['revenue'], label='A')\n",
    "\n",
    "# Строим график выручки группы B\n",
    "\n",
    "plt.plot(cumulativeRevenueB['date'], cumulativeRevenueB['revenue'], label='B')\n",
    "\n",
    "plt.title('График кумулятивной выручки по группам')  # название графика\n",
    "plt.xlabel('Дата')  # название оси X\n",
    "plt.xticks(rotation=45)  # угол наклона подписей на оси X\n",
    "plt.ylabel('Выручка')   # название оси Y\n",
    "plt.legend();"
   ]
  },
  {
   "cell_type": "markdown",
   "metadata": {},
   "source": [
    "Выручка увеличивается в течение всего теста. Для теста А выручка увеличивается равномерно.\n",
    "\n",
    "Однако для теста В наблюдается резкий скачек.  Это может сигнализировать о всплесках числа заказов, либо о появлении очень дорогих заказов в выборке. \n",
    "\n",
    "Необходимо проанализировать выбросы."
   ]
  },
  {
   "cell_type": "markdown",
   "metadata": {},
   "source": [
    "#### Построить график кумулятивного среднего чека по группам. Сделать выводы и предположения."
   ]
  },
  {
   "cell_type": "code",
   "execution_count": 29,
   "metadata": {
    "scrolled": false
   },
   "outputs": [
    {
     "data": {
      "image/png": "[encoded data removed]",
      "text/plain": [
       "<Figure size 1000x500 with 1 Axes>"
      ]
     },
     "metadata": {},
     "output_type": "display_data"
    }
   ],
   "source": [
    "plt.figure(figsize=(10, 5))\n",
    "plt.plot(cumulativeRevenueA['date'], cumulativeRevenueA['revenue']/cumulativeRevenueA['orders'], label='A')\n",
    "plt.plot(cumulativeRevenueB['date'], cumulativeRevenueB['revenue']/cumulativeRevenueB['orders'], label='B')\n",
    "plt.title('График кумулятивного среднего чека по группам')  # название графика\n",
    "plt.xlabel('Дата')  # название оси X\n",
    "plt.xticks(rotation=45)  # угол наклона подписей на оси X\n",
    "plt.ylabel('Средний чек')   # название оси Y\n",
    "plt.legend();"
   ]
  },
  {
   "cell_type": "markdown",
   "metadata": {},
   "source": [
    "Средний чек имеет значительное расхождение ближе к концу теста: установился для группы A и продолжает падать для группы B. \n",
    "\n",
    "Данная ситуация получается из значительного всплеска по данным о выручке, который мог произойти из-за наличия аномалий в данных. Также возможно, в группу B во второй половине теста попали крупные заказы (резкий всплеск на графике). Тогда ей нужно больше данных, чтобы прийти к реальному среднему чеку и установиться на его уровне. \n",
    "\n",
    "Для обоих графиков наблюдаются увеличиения и падение значения среднего чека. "
   ]
  },
  {
   "cell_type": "markdown",
   "metadata": {},
   "source": [
    "#### Построить график относительного изменения кумулятивного среднего чека группы B к группе A. Сделать выводы и предположения."
   ]
  },
  {
   "cell_type": "code",
   "execution_count": 30,
   "metadata": {},
   "outputs": [
    {
     "data": {
      "image/png": "[encoded data removed]",
      "text/plain": [
       "<Figure size 1000x500 with 1 Axes>"
      ]
     },
     "metadata": {},
     "output_type": "display_data"
    }
   ],
   "source": [
    "# собираем данные в одном датафрейме\n",
    "mergedCumulativeRevenue = cumulativeRevenueA.merge(cumulativeRevenueB, \n",
    "                                                   left_on='date', \n",
    "                                                   right_on='date', \n",
    "                                                   how='left', \n",
    "                                                   suffixes=['A', 'B'])\n",
    "\n",
    "plt.figure(figsize=(10, 5))\n",
    "# cтроим отношение средних чеков\n",
    "plt.plot(mergedCumulativeRevenue['date'], (mergedCumulativeRevenue['revenueB']/\n",
    "                                           mergedCumulativeRevenue['ordersB'])/(mergedCumulativeRevenue['revenueA']\n",
    "                                                                                /mergedCumulativeRevenue['ordersA'])-1)\n",
    "plt.title('График относительного изменения кумулятивного среднего чека группы B к группе A')  # название графика\n",
    "plt.xlabel('Дата')  # название оси X\n",
    "plt.xticks(rotation=45)  # угол наклона подписей на оси X\n",
    "plt.ylabel('Изменение')   # название оси Y\n",
    "# добавляем ось X\n",
    "plt.axhline(y=0, color='black', linestyle='--');"
   ]
  },
  {
   "cell_type": "markdown",
   "metadata": {},
   "source": [
    "В нескольких точках график различия между сегментами резко «скачет». Средниий чек для группы тестирования В имеет сильные скачки и перепады, чем обусловлен полученный график. Также можно сказать, что средний чек по группе тестирования В был выше практически на всем промежутке тестирования, за исключением начала и резкого раста среднего чека группы А в середине теста.\n",
    "\n",
    "Необходимо провести анализ анамалий."
   ]
  },
  {
   "cell_type": "markdown",
   "metadata": {},
   "source": [
    "#### Построить график кумулятивного среднего количества заказов на посетителя по группам. Сделать выводы и предположения."
   ]
  },
  {
   "cell_type": "code",
   "execution_count": 31,
   "metadata": {},
   "outputs": [
    {
     "name": "stdout",
     "output_type": "stream",
     "text": [
      "        date  ordersPerDateA  revenuePerDateA  ordersPerDateB  \\\n",
      "0 2019-08-01              24         148579.0              21   \n",
      "1 2019-08-02              20          93822.0              24   \n",
      "2 2019-08-03              24         112473.0              16   \n",
      "3 2019-08-04              16          70825.0              17   \n",
      "4 2019-08-05              25         124218.0              23   \n",
      "\n",
      "   revenuePerDateB  ordersCummulativeA  revenueCummulativeA  \\\n",
      "0         101217.0                  24             148579.0   \n",
      "1         165531.0                  44             242401.0   \n",
      "2         114248.0                  68             354874.0   \n",
      "3         108571.0                  84             425699.0   \n",
      "4          92428.0                 109             549917.0   \n",
      "\n",
      "   ordersCummulativeB  revenueCummulativeB  visitorsPerDateA  \\\n",
      "0                  21             101217.0               719   \n",
      "1                  45             266748.0               619   \n",
      "2                  61             380996.0               507   \n",
      "3                  78             489567.0               717   \n",
      "4                 101             581995.0               756   \n",
      "\n",
      "   visitorsPerDateB  visitorsCummulativeA  visitorsCummulativeB  \n",
      "0               713                   719                   713  \n",
      "1               581                  1338                  1294  \n",
      "2               509                  1845                  1803  \n",
      "3               770                  2562                  2573  \n",
      "4               707                  3318                  3280  \n"
     ]
    }
   ],
   "source": [
    "#Сформируем данные для гафика и дальнейшего применения при проведении проверки гипотез.\n",
    "visitorsADaily = visitors[visitors['group'] == 'A'][['date', 'visitors']]\n",
    "visitorsADaily.columns = ['date', 'visitorsPerDateA']\n",
    "\n",
    "visitorsACummulative = visitorsADaily.apply(\n",
    "    lambda x: visitorsADaily[visitorsADaily['date'] <= x['date']].agg(\n",
    "        {'date': 'max', 'visitorsPerDateA': 'sum'}\n",
    "    ),\n",
    "    axis=1,\n",
    ")\n",
    "visitorsACummulative.columns = ['date', 'visitorsCummulativeA']\n",
    "\n",
    "visitorsBDaily = visitors[visitors['group'] == 'B'][['date', 'visitors']]\n",
    "visitorsBDaily.columns = ['date', 'visitorsPerDateB']\n",
    "\n",
    "visitorsBCummulative = visitorsBDaily.apply(\n",
    "    lambda x: visitorsBDaily[visitorsBDaily['date'] <= x['date']].agg(\n",
    "        {'date': 'max', 'visitorsPerDateB': 'sum'}\n",
    "    ),\n",
    "    axis=1,\n",
    ")\n",
    "visitorsBCummulative.columns = ['date', 'visitorsCummulativeB']\n",
    "\n",
    "ordersADaily = (\n",
    "    orders[orders['group'] == 'A'][['date', 'transactionId', 'visitorId', 'revenue']]\n",
    "    .groupby('date', as_index=False)\n",
    "    .agg({'transactionId': pd.Series.nunique, 'revenue': 'sum'})\n",
    ")\n",
    "ordersADaily.columns = ['date', 'ordersPerDateA', 'revenuePerDateA']\n",
    "\n",
    "ordersACummulative = ordersADaily.apply(\n",
    "    lambda x: ordersADaily[ordersADaily['date'] <= x['date']].agg(\n",
    "        {'date': 'max', 'ordersPerDateA': 'sum', 'revenuePerDateA': 'sum'}\n",
    "    ),\n",
    "    axis=1,\n",
    ").sort_values(by=['date'])\n",
    "ordersACummulative.columns = [\n",
    "    'date',\n",
    "    'ordersCummulativeA',\n",
    "    'revenueCummulativeA',\n",
    "]\n",
    "\n",
    "ordersBDaily = (\n",
    "    orders[orders['group'] == 'B'][['date', 'transactionId', 'visitorId', 'revenue']]\n",
    "    .groupby('date', as_index=False)\n",
    "    .agg({'transactionId': pd.Series.nunique, 'revenue': 'sum'})\n",
    ")\n",
    "ordersBDaily.columns = ['date', 'ordersPerDateB', 'revenuePerDateB']\n",
    "\n",
    "ordersBCummulative = ordersBDaily.apply(\n",
    "    lambda x: ordersBDaily[ordersBDaily['date'] <= x['date']].agg(\n",
    "        {'date': 'max', 'ordersPerDateB': 'sum', 'revenuePerDateB': 'sum'}\n",
    "    ),\n",
    "    axis=1,\n",
    ").sort_values(by=['date'])\n",
    "ordersBCummulative.columns = [\n",
    "    'date',\n",
    "    'ordersCummulativeB',\n",
    "    'revenueCummulativeB',\n",
    "]\n",
    "\n",
    "data = (\n",
    "    ordersADaily.merge(\n",
    "        ordersBDaily, left_on='date', right_on='date', how='left'\n",
    "    )\n",
    "    .merge(ordersACummulative, left_on='date', right_on='date', how='left')\n",
    "    .merge(ordersBCummulative, left_on='date', right_on='date', how='left')\n",
    "    .merge(visitorsADaily, left_on='date', right_on='date', how='left')\n",
    "    .merge(visitorsBDaily, left_on='date', right_on='date', how='left')\n",
    "    .merge(visitorsACummulative, left_on='date', right_on='date', how='left')\n",
    "    .merge(visitorsBCummulative, left_on='date', right_on='date', how='left')\n",
    ")\n",
    "\n",
    "print(data.head(5)) "
   ]
  },
  {
   "cell_type": "code",
   "execution_count": 32,
   "metadata": {},
   "outputs": [],
   "source": [
    "# Формируем данные по пользователям \n",
    "ordersByUsersA = (\n",
    "    orders[orders['group'] == 'A']\n",
    "    .groupby('visitorId', as_index=False)\n",
    "    .agg({'transactionId': pd.Series.nunique})\n",
    ")\n",
    "ordersByUsersA.columns = ['userId', 'orders']\n",
    "\n",
    "ordersByUsersB = (\n",
    "    orders[orders['group'] == 'B']\n",
    "    .groupby('visitorId', as_index=False)\n",
    "    .agg({'transactionId': pd.Series.nunique})\n",
    ")\n",
    "ordersByUsersB.columns = ['userId', 'orders'] "
   ]
  },
  {
   "cell_type": "code",
   "execution_count": 33,
   "metadata": {},
   "outputs": [],
   "source": [
    "# Объединяем полученные данные\n",
    "categoryA = pd.concat(\n",
    "    [\n",
    "        ordersByUsersA['orders'],\n",
    "        pd.Series(\n",
    "            0,\n",
    "            index=np.arange(\n",
    "                data['visitorsPerDateA'].sum() - len(ordersByUsersA['orders'])\n",
    "            ),\n",
    "            name='orders',\n",
    "        ),\n",
    "    ],\n",
    "    axis=0,\n",
    ")\n",
    "\n",
    "categoryB = pd.concat(\n",
    "    [\n",
    "        ordersByUsersB['orders'],\n",
    "        pd.Series(\n",
    "            0,\n",
    "            index=np.arange(\n",
    "                data['visitorsPerDateB'].sum() - len(ordersByUsersB['orders'])\n",
    "            ),\n",
    "            name='orders',\n",
    "        ),\n",
    "    ],\n",
    "    axis=0,\n",
    ")\n"
   ]
  },
  {
   "cell_type": "code",
   "execution_count": 34,
   "metadata": {
    "scrolled": false
   },
   "outputs": [
    {
     "data": {
      "image/png": "[encoded data removed]",
      "text/plain": [
       "<Figure size 1000x500 with 1 Axes>"
      ]
     },
     "metadata": {},
     "output_type": "display_data"
    }
   ],
   "source": [
    "plt.figure(figsize=(10, 5))\n",
    "\n",
    "# Строим график среднего количества заказов на посетителя группы А\n",
    "plt.plot(data['date'], data['ordersCummulativeA'] / data['visitorsCummulativeA'], label='A')\n",
    "\n",
    "# Строим график среднего количества заказов на посетителя выручки группы B\n",
    "plt.plot(data['date'], data['ordersCummulativeB'] / data['visitorsCummulativeB'], label='B')\n",
    "\n",
    "plt.title('График кумулятивного среднего количества заказов на посетителя по группам')  # название графика\n",
    "plt.xlabel('Дата')  # название оси X\n",
    "plt.xticks(rotation=45)  # угол наклона подписей на оси X\n",
    "plt.ylabel('Изменение')   # название оси Y\n",
    "\n",
    "plt.legend();"
   ]
  },
  {
   "cell_type": "markdown",
   "metadata": {},
   "source": [
    "По полученным даннм можно сказать, что для группы тетирования В среднее количество заказов на пользователя выше на большей части графика, что может быть результатом некорректных данных или наличия выбросов. Также наблюдается сильный скачек для группы А в начале тестирования (для группы В также замечен скачек, но показатель значительно меньше), возможными причинами могут быть сезонные потребности (допустим как канцелярия к 1 сентября) или же наличие аномалий.\n",
    "\n",
    "Необходимо изучить данные в разрезе по количеству заказов на пользователя и при наличии аномалий их исключить."
   ]
  },
  {
   "cell_type": "markdown",
   "metadata": {},
   "source": [
    "#### Построить график относительного изменения кумулятивного среднего количества заказов на посетителя группы B к группе A. Сделать выводы и предположения."
   ]
  },
  {
   "cell_type": "code",
   "execution_count": 35,
   "metadata": {
    "scrolled": false
   },
   "outputs": [
    {
     "data": {
      "image/png": "[encoded data removed]",
      "text/plain": [
       "<Figure size 1000x500 with 1 Axes>"
      ]
     },
     "metadata": {},
     "output_type": "display_data"
    }
   ],
   "source": [
    "plt.figure(figsize=(10, 5))\n",
    "\n",
    "# cтроим отношение среднего количества заказов \n",
    "plt.plot(data['date'], (data['ordersCummulativeB'] / data['visitorsCummulativeB'])/\n",
    "         (data['ordersCummulativeA'] / data['visitorsCummulativeA'])-1)\n",
    "\n",
    "plt.title('График относительного изменения кумулятивного среднего количества заказов на посетителя группы B к группе A') # название графика\n",
    "plt.xlabel('Дата')  # название оси X\n",
    "plt.xticks(rotation=45)  # угол наклона подписей на оси X\n",
    "plt.ylabel('Изменение')   # название оси Y\n",
    "\n",
    "# добавляем ось X\n",
    "plt.axhline(y=0, color='black', linestyle='--');"
   ]
  },
  {
   "cell_type": "markdown",
   "metadata": {},
   "source": [
    "Как было отмечено ранее, для группы В показатель среднего количества заказов на пользователя в среднем значительно привышает показатель по группе А, который выше только на промежутке резкого падения показателей обоих графиков в первой половине тестирования."
   ]
  },
  {
   "cell_type": "markdown",
   "metadata": {},
   "source": [
    "#### Построить точечный график количества заказов по пользователям. Сделать выводы и предположения."
   ]
  },
  {
   "cell_type": "code",
   "execution_count": 36,
   "metadata": {},
   "outputs": [
    {
     "data": {
      "text/html": [
       "<div>\n",
       "<style scoped>\n",
       "    .dataframe tbody tr th:only-of-type {\n",
       "        vertical-align: middle;\n",
       "    }\n",
       "\n",
       "    .dataframe tbody tr th {\n",
       "        vertical-align: top;\n",
       "    }\n",
       "\n",
       "    .dataframe thead th {\n",
       "        text-align: right;\n",
       "    }\n",
       "</style>\n",
       "<table border=\"1\" class=\"dataframe\">\n",
       "  <thead>\n",
       "    <tr style=\"text-align: right;\">\n",
       "      <th></th>\n",
       "      <th>userId</th>\n",
       "      <th>orders</th>\n",
       "    </tr>\n",
       "  </thead>\n",
       "  <tbody>\n",
       "    <tr>\n",
       "      <th>1023</th>\n",
       "      <td>4256040402</td>\n",
       "      <td>11</td>\n",
       "    </tr>\n",
       "    <tr>\n",
       "      <th>591</th>\n",
       "      <td>2458001652</td>\n",
       "      <td>11</td>\n",
       "    </tr>\n",
       "    <tr>\n",
       "      <th>569</th>\n",
       "      <td>2378935119</td>\n",
       "      <td>9</td>\n",
       "    </tr>\n",
       "    <tr>\n",
       "      <th>487</th>\n",
       "      <td>2038680547</td>\n",
       "      <td>8</td>\n",
       "    </tr>\n",
       "    <tr>\n",
       "      <th>44</th>\n",
       "      <td>199603092</td>\n",
       "      <td>5</td>\n",
       "    </tr>\n",
       "    <tr>\n",
       "      <th>744</th>\n",
       "      <td>3062433592</td>\n",
       "      <td>5</td>\n",
       "    </tr>\n",
       "    <tr>\n",
       "      <th>55</th>\n",
       "      <td>237748145</td>\n",
       "      <td>5</td>\n",
       "    </tr>\n",
       "    <tr>\n",
       "      <th>917</th>\n",
       "      <td>3803269165</td>\n",
       "      <td>5</td>\n",
       "    </tr>\n",
       "    <tr>\n",
       "      <th>299</th>\n",
       "      <td>1230306981</td>\n",
       "      <td>5</td>\n",
       "    </tr>\n",
       "    <tr>\n",
       "      <th>897</th>\n",
       "      <td>3717692402</td>\n",
       "      <td>5</td>\n",
       "    </tr>\n",
       "  </tbody>\n",
       "</table>\n",
       "</div>"
      ],
      "text/plain": [
       "          userId  orders\n",
       "1023  4256040402      11\n",
       "591   2458001652      11\n",
       "569   2378935119       9\n",
       "487   2038680547       8\n",
       "44     199603092       5\n",
       "744   3062433592       5\n",
       "55     237748145       5\n",
       "917   3803269165       5\n",
       "299   1230306981       5\n",
       "897   3717692402       5"
      ]
     },
     "metadata": {},
     "output_type": "display_data"
    }
   ],
   "source": [
    "#Подсчитаем количество заказов по пользователям и посмотрим на результат:\n",
    "\n",
    "ordersByUsers = (\n",
    "    orders.groupby('visitorId', as_index=False)\n",
    "    .agg({'transactionId': 'nunique'})\n",
    ")\n",
    "\n",
    "ordersByUsers.columns = ['userId', 'orders']\n",
    "\n",
    "display(ordersByUsers.sort_values(by='orders', ascending=False).head(10)) "
   ]
  },
  {
   "cell_type": "code",
   "execution_count": 37,
   "metadata": {},
   "outputs": [
    {
     "data": {
      "image/png": "[encoded data removed]",
      "text/plain": [
       "<Figure size 1000x500 with 1 Axes>"
      ]
     },
     "metadata": {},
     "output_type": "display_data"
    }
   ],
   "source": [
    "# Рассмотрим количкство заказов на пользователя на графике\n",
    "plt.figure(figsize=(10, 5))\n",
    "plt.title('Точечный график количества заказов по пользователям') # название графика\n",
    "plt.xlabel('Пользователи')  # название оси X\n",
    "plt.xticks(rotation=45)  # угол наклона подписей на оси X\n",
    "plt.ylabel('Количество заказов')   # название оси Y\n",
    "x_values = pd.Series(range(0,len(ordersByUsers['orders'])))\n",
    "plt.scatter(x_values, ordersByUsers['orders']);"
   ]
  },
  {
   "cell_type": "markdown",
   "metadata": {},
   "source": [
    "Для некоторых пользователей имеются 8, 9 и 11 заказов, что является аномалиями. В дальнейшем анализе исключим эти значения для получения более корретного вида данных."
   ]
  },
  {
   "cell_type": "markdown",
   "metadata": {},
   "source": [
    "#### Посчитать 95-й и 99-й перцентили количества заказов на пользователя. Выбрать границу для определения аномальных пользователей."
   ]
  },
  {
   "cell_type": "code",
   "execution_count": 38,
   "metadata": {},
   "outputs": [
    {
     "data": {
      "text/plain": [
       "array([2., 4.])"
      ]
     },
     "execution_count": 38,
     "metadata": {},
     "output_type": "execute_result"
    }
   ],
   "source": [
    "np.percentile(ordersByUsers['orders'], [95, 99])"
   ]
  },
  {
   "cell_type": "markdown",
   "metadata": {},
   "source": [
    "Для дальнейшего рассмотрения считаю более корректным взять данные по 95 процентилю. При рассмотрении 95 процентиля будет урезано количество заказов 3 и 4, которые в свою очередь могут быть истинными и не относится к аномалиям. Но будем отталкиваться от данных, что пользователь не делает более 2 заказов за коротки промежуток времени."
   ]
  },
  {
   "cell_type": "markdown",
   "metadata": {},
   "source": [
    "#### Построить точечный график стоимостей заказов. Сделать выводы и предположения."
   ]
  },
  {
   "cell_type": "code",
   "execution_count": 39,
   "metadata": {
    "scrolled": false
   },
   "outputs": [
    {
     "data": {
      "image/png": "[encoded data removed]",
      "text/plain": [
       "<Figure size 1000x500 with 1 Axes>"
      ]
     },
     "metadata": {},
     "output_type": "display_data"
    }
   ],
   "source": [
    "# Рассмотрим стоимости заказов на графике\n",
    "plt.figure(figsize=(10, 5))\n",
    "plt.title('Точечный график стоимостей заказов') # название графика\n",
    "plt.xlabel('Пользователи')  # название оси X\n",
    "plt.xticks(rotation=45)  # угол наклона подписей на оси X\n",
    "plt.ylabel('Стоимость заказов')   # название оси Y\n",
    "x_values = pd.Series(range(0,len(orders['revenue'])))\n",
    "plt.scatter(x_values, orders['revenue']);"
   ]
  },
  {
   "cell_type": "code",
   "execution_count": 40,
   "metadata": {},
   "outputs": [
    {
     "data": {
      "text/html": [
       "<div>\n",
       "<style scoped>\n",
       "    .dataframe tbody tr th:only-of-type {\n",
       "        vertical-align: middle;\n",
       "    }\n",
       "\n",
       "    .dataframe tbody tr th {\n",
       "        vertical-align: top;\n",
       "    }\n",
       "\n",
       "    .dataframe thead th {\n",
       "        text-align: right;\n",
       "    }\n",
       "</style>\n",
       "<table border=\"1\" class=\"dataframe\">\n",
       "  <thead>\n",
       "    <tr style=\"text-align: right;\">\n",
       "      <th></th>\n",
       "      <th>transactionId</th>\n",
       "      <th>visitorId</th>\n",
       "      <th>date</th>\n",
       "      <th>revenue</th>\n",
       "      <th>group</th>\n",
       "    </tr>\n",
       "  </thead>\n",
       "  <tbody>\n",
       "    <tr>\n",
       "      <th>425</th>\n",
       "      <td>590470918</td>\n",
       "      <td>1920142716</td>\n",
       "      <td>2019-08-19</td>\n",
       "      <td>1294500.0</td>\n",
       "      <td>B</td>\n",
       "    </tr>\n",
       "    <tr>\n",
       "      <th>1196</th>\n",
       "      <td>3936777065</td>\n",
       "      <td>2108080724</td>\n",
       "      <td>2019-08-15</td>\n",
       "      <td>202740.0</td>\n",
       "      <td>B</td>\n",
       "    </tr>\n",
       "    <tr>\n",
       "      <th>858</th>\n",
       "      <td>192721366</td>\n",
       "      <td>1316129916</td>\n",
       "      <td>2019-08-27</td>\n",
       "      <td>93940.0</td>\n",
       "      <td>A</td>\n",
       "    </tr>\n",
       "    <tr>\n",
       "      <th>1136</th>\n",
       "      <td>666610489</td>\n",
       "      <td>1307669133</td>\n",
       "      <td>2019-08-13</td>\n",
       "      <td>92550.0</td>\n",
       "      <td>A</td>\n",
       "    </tr>\n",
       "    <tr>\n",
       "      <th>744</th>\n",
       "      <td>3668308183</td>\n",
       "      <td>888512513</td>\n",
       "      <td>2019-08-27</td>\n",
       "      <td>86620.0</td>\n",
       "      <td>B</td>\n",
       "    </tr>\n",
       "  </tbody>\n",
       "</table>\n",
       "</div>"
      ],
      "text/plain": [
       "      transactionId   visitorId       date    revenue group\n",
       "425       590470918  1920142716 2019-08-19  1294500.0     B\n",
       "1196     3936777065  2108080724 2019-08-15   202740.0     B\n",
       "858       192721366  1316129916 2019-08-27    93940.0     A\n",
       "1136      666610489  1307669133 2019-08-13    92550.0     A\n",
       "744      3668308183   888512513 2019-08-27    86620.0     B"
      ]
     },
     "execution_count": 40,
     "metadata": {},
     "output_type": "execute_result"
    }
   ],
   "source": [
    "orders.sort_values(by='revenue', ascending=False).head(5)"
   ]
  },
  {
   "cell_type": "markdown",
   "metadata": {},
   "source": [
    "На графике явно выражены аномалии 1294500.0 и 202740.0 которые при дальнейшем рассмотрении следует исключить. "
   ]
  },
  {
   "cell_type": "markdown",
   "metadata": {},
   "source": [
    "#### Посчитать 95-й и 99-й перцентили стоимости заказов. Выбрать границу для определения аномальных заказов."
   ]
  },
  {
   "cell_type": "code",
   "execution_count": 41,
   "metadata": {},
   "outputs": [
    {
     "data": {
      "text/plain": [
       "array([28000. , 58233.2])"
      ]
     },
     "execution_count": 41,
     "metadata": {},
     "output_type": "execute_result"
    }
   ],
   "source": [
    "np.percentile(orders['revenue'], [95, 99])"
   ]
  },
  {
   "cell_type": "markdown",
   "metadata": {},
   "source": [
    "Для дальнейшего рассмотрения возьмем 95 процентиль, который исключает выявленные на прошлом этапе аномалии. "
   ]
  },
  {
   "cell_type": "markdown",
   "metadata": {},
   "source": [
    "#### Посчитать статистическую значимость различий в среднем количестве заказов на посетителя между группами по «сырым» данным. Сделать выводы и предположения."
   ]
  },
  {
   "cell_type": "markdown",
   "metadata": {},
   "source": [
    "Сформулируем гипотезы. \n",
    "\n",
    "Нулевая: различий в среднем количестве заказов на посетителя между группами нет. \n",
    "\n",
    "Альтернативная: различия в среднем между группами есть."
   ]
  },
  {
   "cell_type": "code",
   "execution_count": 42,
   "metadata": {
    "scrolled": false
   },
   "outputs": [
    {
     "name": "stdout",
     "output_type": "stream",
     "text": [
      "P-value = 0.017\n",
      "Относительные различия = 0.138\n"
     ]
    }
   ],
   "source": [
    "print(\"P-value = {0:.3f}\".format(stats.mannwhitneyu(categoryA, categoryB)[1]))\n",
    "\n",
    "print(\"Относительные различия = {0:.3f}\".format(categoryB.mean() / categoryA.mean() - 1))"
   ]
  },
  {
   "cell_type": "markdown",
   "metadata": {},
   "source": [
    "Вывод: По «сырым» данным есть различия в среднем числе заказов групп A и B. \n",
    "Первое число — p-value = 0.017.\n",
    "При рассмотрении с показателем стат значимости 0.05 (не включающим в себя данные по количеству заказаов 3-4) разница между группами наблюдается.\n",
    "\n",
    "Так как ранее была определена значимость в 0.05, значит, принимаем альтернативную гипотезу о том, что различия в среднем между группами есть. Относительный проигрыш группы А равен 13.8% — второе число в выводе."
   ]
  },
  {
   "cell_type": "markdown",
   "metadata": {},
   "source": [
    "#### Посчитать статистическую значимость различий в среднем чеке заказа между группами по «сырым» данным. Сделать выводы и предположения."
   ]
  },
  {
   "cell_type": "markdown",
   "metadata": {},
   "source": [
    "Нулевая гипотеза: различий в среднем чеке между группами нет. \n",
    "\n",
    "Альтернативная гипотеза: различия в среднем чеке между группами есть."
   ]
  },
  {
   "cell_type": "code",
   "execution_count": 43,
   "metadata": {},
   "outputs": [
    {
     "name": "stdout",
     "output_type": "stream",
     "text": [
      "P-value = 0.729\n",
      "Относительные различия = 0.259\n"
     ]
    }
   ],
   "source": [
    "print('P-value = {0:.3f}'.format(stats.mannwhitneyu(orders[orders['group']=='A']['revenue'], orders[orders['group']=='B']['revenue'])[1]))\n",
    "print('Относительные различия = {0:.3f}'.format(orders[orders['group']=='B']['revenue'].mean()/orders[orders['group']=='A']['revenue'].mean()-1))"
   ]
  },
  {
   "cell_type": "markdown",
   "metadata": {},
   "source": [
    "P-value значительно больше 0.05. Значит, причин отвергать нулевую гипотезу и считать, что в среднем чеке есть различия, нет. Впрочем, средний чек группы А значительно ниже среднего чека группы В.\n",
    "\n",
    "95-й и 99-й перцентили средних чеков равны 28 000 и 58 233.2 рублям. А 95-й и 99-й перцентили количества заказов на одного пользователя равны 2 и 4 заказа на пользователя."
   ]
  },
  {
   "cell_type": "markdown",
   "metadata": {},
   "source": [
    "#### Посчитать статистическую значимость различий в среднем количестве заказов на посетителя между группами по «очищенным» данным. Сделать выводы и предположения."
   ]
  },
  {
   "cell_type": "markdown",
   "metadata": {},
   "source": [
    "Нулевая: различий в среднем количестве заказов на посетителя между группами нет. \n",
    "\n",
    "Альтернативная: различия в среднем между группами есть."
   ]
  },
  {
   "cell_type": "markdown",
   "metadata": {},
   "source": [
    "Примем за аномальных пользователей тех, кто совершил от 5 заказов или совершил заказ дороже 28 000 рублей. Так мы уберём 5% пользователей с наибольшим числом заказов и от 1% до 5% пользователей с дорогими заказами. Сделаем срезы пользователей с числом заказов больше 4 — usersWithManyOrders и пользователей, совершивших заказы дороже 28 000 — usersWithExpensiveOrders. Объединим их в таблице abnormalUsers. \n",
    "Узнаем, сколько всего аномальных пользователей атрибутом shape."
   ]
  },
  {
   "cell_type": "code",
   "execution_count": 44,
   "metadata": {
    "scrolled": true
   },
   "outputs": [
    {
     "name": "stdout",
     "output_type": "stream",
     "text": [
      "1099    148427295\n",
      "18      199603092\n",
      "928     204675465\n",
      "23      237748145\n",
      "37      249864742\n",
      "dtype: int64\n",
      "74\n"
     ]
    }
   ],
   "source": [
    "# отфильтруем данные\n",
    "usersWithManyOrders = pd.concat(\n",
    "    [\n",
    "        ordersByUsersA[ordersByUsersA['orders'] > 2]['userId'],\n",
    "        ordersByUsersB[ordersByUsersB['orders'] > 2]['userId'],\n",
    "    ],\n",
    "    axis=0,\n",
    ")\n",
    "usersWithExpensiveOrders = orders[orders['revenue'] > 28000]['visitorId']\n",
    "abnormalUsers = (\n",
    "    pd.concat([usersWithManyOrders, usersWithExpensiveOrders], axis=0)\n",
    "    .drop_duplicates()\n",
    "    .sort_values()\n",
    ")\n",
    "print(abnormalUsers.head(5))\n",
    "print(abnormalUsers.shape[0])"
   ]
  },
  {
   "cell_type": "markdown",
   "metadata": {},
   "source": [
    "Всего 74 аномальных пользователей. \n",
    "Узнаем, как их действия повлияли на результаты теста. Посчитаем статистическую значимость различий в среднем количестве заказов между группами теста по очищенным данным. Сначала подготовим выборки количества заказов по пользователям по группам теста:"
   ]
  },
  {
   "cell_type": "code",
   "execution_count": 45,
   "metadata": {},
   "outputs": [],
   "source": [
    "categoryAFiltered = pd.concat(\n",
    "    [\n",
    "        ordersByUsersA[\n",
    "            np.logical_not(ordersByUsersA['userId'].isin(abnormalUsers))\n",
    "        ]['orders'],\n",
    "        pd.Series(\n",
    "            0,\n",
    "            index=np.arange(\n",
    "                data['visitorsPerDateA'].sum() - len(ordersByUsersA['orders'])\n",
    "            ),\n",
    "            name='orders',\n",
    "        ),\n",
    "    ],\n",
    "    axis=0,\n",
    ")\n",
    "\n",
    "categoryBFiltered = pd.concat(\n",
    "    [\n",
    "        ordersByUsersB[\n",
    "            np.logical_not(ordersByUsersB['userId'].isin(abnormalUsers))\n",
    "        ]['orders'],\n",
    "        pd.Series(\n",
    "            0,\n",
    "            index=np.arange(\n",
    "                data['visitorsPerDateB'].sum() - len(ordersByUsersB['orders'])\n",
    "            ),\n",
    "            name='orders',\n",
    "        ),\n",
    "    ],\n",
    "    axis=0,\n",
    ")"
   ]
  },
  {
   "cell_type": "markdown",
   "metadata": {},
   "source": [
    "Применим статистический критерий Манна-Уитни к полученным выборкам:"
   ]
  },
  {
   "cell_type": "code",
   "execution_count": 46,
   "metadata": {},
   "outputs": [
    {
     "name": "stdout",
     "output_type": "stream",
     "text": [
      "P-value = 0.013\n",
      "Относительные различия = 0.173\n"
     ]
    }
   ],
   "source": [
    "print('P-value = {0:.3f}'.format(stats.mannwhitneyu(categoryAFiltered, categoryBFiltered)[1]))\n",
    "print('Относительные различия = {0:.3f}'.format(categoryBFiltered.mean()/categoryAFiltered.mean()-1))"
   ]
  },
  {
   "cell_type": "markdown",
   "metadata": {},
   "source": [
    "Вывод: Данные после фильтрации практически не изменились. По «очищенным» данным также наблюдаются различия в среднем числе заказов групп A и B. \n",
    "Первое число — p-value = 0.013.\n",
    "При рассмотрении с показателем стат значимости 0.05 (не включающим в себя данные по количеству заказаов 3-4) разница между группами наблюдается.\n",
    "\n",
    "Так как ранее была определена значимость в 0.05, значит, принимаем альтернативную гипотезу о том, что различия в среднем между группами есть. Относительный проигрыш группы А равен 17.3% — второе число в выводе."
   ]
  },
  {
   "cell_type": "markdown",
   "metadata": {},
   "source": [
    "#### Посчитать статистическую значимость различий в среднем чеке заказа между группами по «очищенным» данным. Сделать выводы и предположения."
   ]
  },
  {
   "cell_type": "markdown",
   "metadata": {},
   "source": [
    "Нулевая гипотеза: различий в среднем чеке между группами нет. \n",
    "\n",
    "Альтернативная гипотеза: различия в среднем чеке между группами есть."
   ]
  },
  {
   "cell_type": "code",
   "execution_count": 47,
   "metadata": {},
   "outputs": [
    {
     "name": "stdout",
     "output_type": "stream",
     "text": [
      "P-value = 0.738\n",
      "Относительные различия = -0.020\n"
     ]
    }
   ],
   "source": [
    "print(\n",
    "    'P-value = {0:.3f}'.format(\n",
    "        stats.mannwhitneyu(\n",
    "            orders[\n",
    "                np.logical_and(\n",
    "                    orders['group'] == 'A',\n",
    "                    np.logical_not(orders['visitorId'].isin(abnormalUsers)),\n",
    "                )\n",
    "            ]['revenue'],\n",
    "            orders[\n",
    "                np.logical_and(\n",
    "                    orders['group'] == 'B',\n",
    "                    np.logical_not(orders['visitorId'].isin(abnormalUsers)),\n",
    "                )\n",
    "            ]['revenue'],\n",
    "        )[1]\n",
    "    )\n",
    ")\n",
    "\n",
    "print(\n",
    "    \"Относительные различия = {0:.3f}\".format(\n",
    "        orders[\n",
    "            np.logical_and(\n",
    "                orders['group'] == 'B',\n",
    "                np.logical_not(orders['visitorId'].isin(abnormalUsers)),\n",
    "            )\n",
    "        ]['revenue'].mean()\n",
    "        / orders[\n",
    "            np.logical_and(\n",
    "                orders['group'] == 'A',\n",
    "                np.logical_not(orders['visitorId'].isin(abnormalUsers)),\n",
    "            )\n",
    "        ]['revenue'].mean()\n",
    "        - 1\n",
    "    )\n",
    ")"
   ]
  },
  {
   "cell_type": "markdown",
   "metadata": {},
   "source": [
    "P-value уменьшился, но и разница между сегментами уменьшилась с 26% до 2%.\n",
    "\n",
    "Общие выводы по результатам теста не изменились, но можно отметить большое влияние наличия аномалий в тесте.\n",
    "Имеющиеся факты:\n",
    "\n",
    "- Есть статистически значимое различие по среднему количеству заказов между группами и по «сырым», и по данным после фильтрации аномалий;\n",
    "- Нет статистически значимого различия по среднему чеку между группами ни по «сырым», ни по данным после фильтрации аномалий;\n",
    "- По составленным графика различия среднего количества заказов между группами сообщает, что результаты группы А хуже группы В и нет значительной тенденции к улучшению."
   ]
  },
  {
   "cell_type": "markdown",
   "metadata": {},
   "source": [
    "#### Принять решение по результатам теста и объяснить его. Варианты решений:\n",
    "1. Остановить тест, зафиксировать победу одной из групп.\n",
    "2. Остановить тест, зафиксировать отсутствие различий между группами.\n",
    "3. Продолжить тест."
   ]
  },
  {
   "cell_type": "markdown",
   "metadata": {},
   "source": [
    "По полученным данным продолжение теста не возымеет результата, так как нет значительной тенденции между группами к выравниванию значений, поэтому необходимо принять решение об остановке теста.\n",
    "\n",
    "Разлиячия между группами наблюдаются в части количества заказов на пользователя. Фильтрация данных не дала альтерналивного результата. (Если бы при рассмотрении количества заказов на пользователя был взят показатель стат значимости равный 0.01, данные также отличались незначительно, при этом не была отвергнута нулевая гипотеза, что различий нет, хотя значения бы находились в непосредственной близости к показателю стат значимости).\n",
    "\n",
    "В связи со всем вышеизложенным, по результатам теста следует остановить тест и зафиксировать победу группы В (пункт 1)."
   ]
  }
 ],
 "metadata": {
  "ExecuteTimeLog": [
   {
    "duration": 1293,
    "start_time": "2023-08-10T16:09:14.506Z"
   },
   {
    "duration": 316,
    "start_time": "2023-08-10T16:09:16.898Z"
   },
   {
    "duration": 25,
    "start_time": "2023-08-10T16:18:51.063Z"
   },
   {
    "duration": 10,
    "start_time": "2023-08-10T16:20:09.623Z"
   },
   {
    "duration": 8,
    "start_time": "2023-08-10T16:20:18.726Z"
   },
   {
    "duration": 29,
    "start_time": "2023-08-10T16:21:45.259Z"
   },
   {
    "duration": 7,
    "start_time": "2023-08-10T16:21:54.787Z"
   },
   {
    "duration": 5,
    "start_time": "2023-08-10T16:23:32.980Z"
   },
   {
    "duration": 12,
    "start_time": "2023-08-10T16:23:44.214Z"
   },
   {
    "duration": 8,
    "start_time": "2023-08-10T16:29:45.519Z"
   },
   {
    "duration": 12,
    "start_time": "2023-08-10T16:29:47.305Z"
   },
   {
    "duration": 6,
    "start_time": "2023-08-10T16:29:48.929Z"
   },
   {
    "duration": 4,
    "start_time": "2023-08-10T16:29:50.464Z"
   },
   {
    "duration": 11,
    "start_time": "2023-08-10T16:29:52.364Z"
   },
   {
    "duration": 13,
    "start_time": "2023-08-10T16:29:55.965Z"
   },
   {
    "duration": 25,
    "start_time": "2023-08-10T16:29:59.445Z"
   },
   {
    "duration": 25,
    "start_time": "2023-08-10T16:30:05.232Z"
   },
   {
    "duration": 6,
    "start_time": "2023-08-10T16:35:00.090Z"
   },
   {
    "duration": 11,
    "start_time": "2023-08-10T16:41:08.073Z"
   },
   {
    "duration": 10,
    "start_time": "2023-08-10T16:41:16.386Z"
   },
   {
    "duration": 9,
    "start_time": "2023-08-10T16:41:28.219Z"
   },
   {
    "duration": 6,
    "start_time": "2023-08-10T16:43:15.905Z"
   },
   {
    "duration": 13,
    "start_time": "2023-08-10T16:43:17.301Z"
   },
   {
    "duration": 10,
    "start_time": "2023-08-10T16:43:19.896Z"
   },
   {
    "duration": 14,
    "start_time": "2023-08-10T16:45:29.570Z"
   },
   {
    "duration": 31,
    "start_time": "2023-08-10T16:45:31.529Z"
   },
   {
    "duration": 11,
    "start_time": "2023-08-10T16:45:35.590Z"
   },
   {
    "duration": 7,
    "start_time": "2023-08-10T16:46:27.261Z"
   },
   {
    "duration": 5,
    "start_time": "2023-08-10T16:46:40.014Z"
   },
   {
    "duration": 22,
    "start_time": "2023-08-10T16:46:45.666Z"
   },
   {
    "duration": 18,
    "start_time": "2023-08-10T16:48:02.566Z"
   },
   {
    "duration": 18,
    "start_time": "2023-08-10T16:48:34.177Z"
   },
   {
    "duration": 1499,
    "start_time": "2023-08-12T12:42:58.605Z"
   },
   {
    "duration": 244,
    "start_time": "2023-08-12T12:43:02.213Z"
   },
   {
    "duration": 12,
    "start_time": "2023-08-12T12:43:05.042Z"
   },
   {
    "duration": 13,
    "start_time": "2023-08-12T12:43:07.784Z"
   },
   {
    "duration": 7,
    "start_time": "2023-08-12T12:43:09.747Z"
   },
   {
    "duration": 4,
    "start_time": "2023-08-12T12:43:11.309Z"
   },
   {
    "duration": 11,
    "start_time": "2023-08-12T12:43:14.329Z"
   },
   {
    "duration": 8,
    "start_time": "2023-08-12T12:43:18.046Z"
   },
   {
    "duration": 12,
    "start_time": "2023-08-12T12:43:19.920Z"
   },
   {
    "duration": 9,
    "start_time": "2023-08-12T12:43:21.782Z"
   },
   {
    "duration": 7,
    "start_time": "2023-08-12T12:43:23.321Z"
   },
   {
    "duration": 11,
    "start_time": "2023-08-12T12:43:24.486Z"
   },
   {
    "duration": 9,
    "start_time": "2023-08-12T12:43:29.943Z"
   },
   {
    "duration": 10,
    "start_time": "2023-08-12T12:43:45.535Z"
   },
   {
    "duration": 18,
    "start_time": "2023-08-12T12:43:47.575Z"
   },
   {
    "duration": 8,
    "start_time": "2023-08-12T12:43:49.792Z"
   },
   {
    "duration": 5,
    "start_time": "2023-08-12T12:43:51.345Z"
   },
   {
    "duration": 11,
    "start_time": "2023-08-12T12:43:54.417Z"
   },
   {
    "duration": 11,
    "start_time": "2023-08-12T12:47:32.339Z"
   },
   {
    "duration": 18,
    "start_time": "2023-08-12T12:47:55.573Z"
   },
   {
    "duration": 14,
    "start_time": "2023-08-12T12:48:52.502Z"
   },
   {
    "duration": 6,
    "start_time": "2023-08-12T13:16:48.047Z"
   },
   {
    "duration": 11,
    "start_time": "2023-08-12T13:16:54.852Z"
   },
   {
    "duration": 155,
    "start_time": "2023-08-12T13:17:49.832Z"
   },
   {
    "duration": 26,
    "start_time": "2023-08-12T13:18:19.207Z"
   },
   {
    "duration": 13,
    "start_time": "2023-08-12T13:25:31.903Z"
   },
   {
    "duration": 21,
    "start_time": "2023-08-12T13:26:40.807Z"
   },
   {
    "duration": 18,
    "start_time": "2023-08-12T13:29:53.227Z"
   },
   {
    "duration": 9,
    "start_time": "2023-08-12T13:30:05.824Z"
   },
   {
    "duration": 8,
    "start_time": "2023-08-12T13:30:25.947Z"
   },
   {
    "duration": 16,
    "start_time": "2023-08-12T13:31:32.128Z"
   },
   {
    "duration": 8,
    "start_time": "2023-08-12T13:32:09.605Z"
   },
   {
    "duration": 21,
    "start_time": "2023-08-12T13:32:19.873Z"
   },
   {
    "duration": 25,
    "start_time": "2023-08-12T13:32:55.776Z"
   },
   {
    "duration": 314,
    "start_time": "2023-08-12T13:33:45.412Z"
   },
   {
    "duration": 231,
    "start_time": "2023-08-12T13:33:53.900Z"
   },
   {
    "duration": 227,
    "start_time": "2023-08-12T13:34:04.209Z"
   },
   {
    "duration": 234,
    "start_time": "2023-08-12T13:34:15.384Z"
   },
   {
    "duration": 16,
    "start_time": "2023-08-12T13:36:10.659Z"
   },
   {
    "duration": 1361,
    "start_time": "2023-08-12T13:38:31.761Z"
   },
   {
    "duration": 155,
    "start_time": "2023-08-12T13:38:33.124Z"
   },
   {
    "duration": 24,
    "start_time": "2023-08-12T13:38:33.283Z"
   },
   {
    "duration": 19,
    "start_time": "2023-08-12T13:38:33.312Z"
   },
   {
    "duration": 9,
    "start_time": "2023-08-12T13:38:33.335Z"
   },
   {
    "duration": 5,
    "start_time": "2023-08-12T13:38:33.347Z"
   },
   {
    "duration": 29,
    "start_time": "2023-08-12T13:38:33.354Z"
   },
   {
    "duration": 18,
    "start_time": "2023-08-12T13:38:33.388Z"
   },
   {
    "duration": 18,
    "start_time": "2023-08-12T13:38:33.408Z"
   },
   {
    "duration": 11,
    "start_time": "2023-08-12T13:38:33.428Z"
   },
   {
    "duration": 11,
    "start_time": "2023-08-12T13:38:33.441Z"
   },
   {
    "duration": 21,
    "start_time": "2023-08-12T13:38:33.454Z"
   },
   {
    "duration": 34,
    "start_time": "2023-08-12T13:38:33.480Z"
   },
   {
    "duration": 21,
    "start_time": "2023-08-12T13:38:33.519Z"
   },
   {
    "duration": 10,
    "start_time": "2023-08-12T13:38:33.542Z"
   },
   {
    "duration": 18,
    "start_time": "2023-08-12T13:38:33.553Z"
   },
   {
    "duration": 5,
    "start_time": "2023-08-12T13:38:33.573Z"
   },
   {
    "duration": 14,
    "start_time": "2023-08-12T13:38:33.589Z"
   },
   {
    "duration": 13,
    "start_time": "2023-08-12T13:38:33.606Z"
   },
   {
    "duration": 12,
    "start_time": "2023-08-12T13:38:33.621Z"
   },
   {
    "duration": 36,
    "start_time": "2023-08-12T13:38:33.635Z"
   },
   {
    "duration": 215,
    "start_time": "2023-08-12T13:38:33.673Z"
   },
   {
    "duration": 158,
    "start_time": "2023-08-12T13:38:33.890Z"
   },
   {
    "duration": 128,
    "start_time": "2023-08-12T13:38:34.063Z"
   },
   {
    "duration": 0,
    "start_time": "2023-08-12T13:38:34.193Z"
   },
   {
    "duration": 0,
    "start_time": "2023-08-12T13:38:34.198Z"
   },
   {
    "duration": 0,
    "start_time": "2023-08-12T13:38:34.199Z"
   },
   {
    "duration": 0,
    "start_time": "2023-08-12T13:38:34.201Z"
   },
   {
    "duration": 0,
    "start_time": "2023-08-12T13:38:34.202Z"
   },
   {
    "duration": 0,
    "start_time": "2023-08-12T13:38:34.204Z"
   },
   {
    "duration": 0,
    "start_time": "2023-08-12T13:38:34.205Z"
   },
   {
    "duration": 0,
    "start_time": "2023-08-12T13:38:34.206Z"
   },
   {
    "duration": 0,
    "start_time": "2023-08-12T13:38:34.208Z"
   },
   {
    "duration": 0,
    "start_time": "2023-08-12T13:38:34.209Z"
   },
   {
    "duration": 0,
    "start_time": "2023-08-12T13:38:34.210Z"
   },
   {
    "duration": 0,
    "start_time": "2023-08-12T13:38:34.211Z"
   },
   {
    "duration": 0,
    "start_time": "2023-08-12T13:38:34.212Z"
   },
   {
    "duration": 0,
    "start_time": "2023-08-12T13:38:34.213Z"
   },
   {
    "duration": 0,
    "start_time": "2023-08-12T13:38:34.216Z"
   },
   {
    "duration": 0,
    "start_time": "2023-08-12T13:38:34.216Z"
   },
   {
    "duration": 0,
    "start_time": "2023-08-12T13:38:34.217Z"
   },
   {
    "duration": 0,
    "start_time": "2023-08-12T13:38:34.220Z"
   },
   {
    "duration": 0,
    "start_time": "2023-08-12T13:38:34.221Z"
   },
   {
    "duration": 3,
    "start_time": "2023-08-12T13:43:30.218Z"
   },
   {
    "duration": 6,
    "start_time": "2023-08-12T13:44:14.813Z"
   },
   {
    "duration": 23,
    "start_time": "2023-08-12T13:44:19.974Z"
   },
   {
    "duration": 6,
    "start_time": "2023-08-12T13:44:29.601Z"
   },
   {
    "duration": 204,
    "start_time": "2023-08-12T13:44:31.678Z"
   },
   {
    "duration": 146,
    "start_time": "2023-08-12T13:44:34.031Z"
   },
   {
    "duration": 14,
    "start_time": "2023-08-12T13:44:36.312Z"
   },
   {
    "duration": 5,
    "start_time": "2023-08-12T13:45:24.742Z"
   },
   {
    "duration": 12,
    "start_time": "2023-08-12T13:45:29.038Z"
   },
   {
    "duration": 34,
    "start_time": "2023-08-12T13:45:32.467Z"
   },
   {
    "duration": 11,
    "start_time": "2023-08-12T13:45:34.738Z"
   },
   {
    "duration": 8,
    "start_time": "2023-08-12T13:45:38.238Z"
   },
   {
    "duration": 208,
    "start_time": "2023-08-12T13:45:40.782Z"
   },
   {
    "duration": 147,
    "start_time": "2023-08-12T13:45:42.511Z"
   },
   {
    "duration": 25,
    "start_time": "2023-08-12T13:45:44.682Z"
   },
   {
    "duration": 380,
    "start_time": "2023-08-12T13:45:49.109Z"
   },
   {
    "duration": 22,
    "start_time": "2023-08-12T13:46:05.979Z"
   },
   {
    "duration": 23,
    "start_time": "2023-08-12T13:46:14.054Z"
   },
   {
    "duration": 1343,
    "start_time": "2023-08-12T13:46:50.508Z"
   },
   {
    "duration": 105,
    "start_time": "2023-08-12T13:46:51.856Z"
   },
   {
    "duration": 23,
    "start_time": "2023-08-12T13:46:51.965Z"
   },
   {
    "duration": 16,
    "start_time": "2023-08-12T13:46:51.993Z"
   },
   {
    "duration": 7,
    "start_time": "2023-08-12T13:46:52.012Z"
   },
   {
    "duration": 13,
    "start_time": "2023-08-12T13:46:52.021Z"
   },
   {
    "duration": 28,
    "start_time": "2023-08-12T13:46:52.036Z"
   },
   {
    "duration": 34,
    "start_time": "2023-08-12T13:46:52.068Z"
   },
   {
    "duration": 10,
    "start_time": "2023-08-12T13:46:52.104Z"
   },
   {
    "duration": 28,
    "start_time": "2023-08-12T13:46:52.117Z"
   },
   {
    "duration": 45,
    "start_time": "2023-08-12T13:46:52.147Z"
   },
   {
    "duration": 19,
    "start_time": "2023-08-12T13:46:52.194Z"
   },
   {
    "duration": 162,
    "start_time": "2023-08-12T13:46:52.215Z"
   },
   {
    "duration": 44,
    "start_time": "2023-08-12T13:46:52.379Z"
   },
   {
    "duration": 23,
    "start_time": "2023-08-12T13:46:52.425Z"
   },
   {
    "duration": 33,
    "start_time": "2023-08-12T13:46:52.450Z"
   },
   {
    "duration": 24,
    "start_time": "2023-08-12T13:46:52.486Z"
   },
   {
    "duration": 11,
    "start_time": "2023-08-12T13:46:52.513Z"
   },
   {
    "duration": 19,
    "start_time": "2023-08-12T13:46:52.526Z"
   },
   {
    "duration": 19,
    "start_time": "2023-08-12T13:46:52.547Z"
   },
   {
    "duration": 15,
    "start_time": "2023-08-12T13:46:52.575Z"
   },
   {
    "duration": 117,
    "start_time": "2023-08-12T13:46:52.598Z"
   },
   {
    "duration": 0,
    "start_time": "2023-08-12T13:46:52.717Z"
   },
   {
    "duration": 0,
    "start_time": "2023-08-12T13:46:52.718Z"
   },
   {
    "duration": 0,
    "start_time": "2023-08-12T13:46:52.719Z"
   },
   {
    "duration": 0,
    "start_time": "2023-08-12T13:46:52.719Z"
   },
   {
    "duration": 216,
    "start_time": "2023-08-12T13:47:13.905Z"
   },
   {
    "duration": 147,
    "start_time": "2023-08-12T13:47:17.460Z"
   },
   {
    "duration": 11,
    "start_time": "2023-08-12T13:47:19.825Z"
   },
   {
    "duration": 24,
    "start_time": "2023-08-12T13:47:23.409Z"
   },
   {
    "duration": 340,
    "start_time": "2023-08-12T13:47:26.416Z"
   },
   {
    "duration": 210,
    "start_time": "2023-08-12T13:48:38.678Z"
   },
   {
    "duration": 262,
    "start_time": "2023-08-12T13:48:46.454Z"
   },
   {
    "duration": 287,
    "start_time": "2023-08-12T13:50:40.197Z"
   },
   {
    "duration": 290,
    "start_time": "2023-08-12T13:50:44.084Z"
   },
   {
    "duration": 194,
    "start_time": "2023-08-12T13:52:29.587Z"
   },
   {
    "duration": 26,
    "start_time": "2023-08-12T13:58:20.643Z"
   },
   {
    "duration": 21,
    "start_time": "2023-08-12T13:58:50.151Z"
   },
   {
    "duration": 20,
    "start_time": "2023-08-12T14:03:07.295Z"
   },
   {
    "duration": 1848,
    "start_time": "2023-08-12T14:13:18.780Z"
   },
   {
    "duration": 20,
    "start_time": "2023-08-12T14:14:11.991Z"
   },
   {
    "duration": 13,
    "start_time": "2023-08-12T14:14:46.802Z"
   },
   {
    "duration": 22,
    "start_time": "2023-08-12T14:17:36.480Z"
   },
   {
    "duration": 314,
    "start_time": "2023-08-12T14:19:12.342Z"
   },
   {
    "duration": 253,
    "start_time": "2023-08-12T14:20:50.141Z"
   },
   {
    "duration": 446,
    "start_time": "2023-08-12T14:21:08.578Z"
   },
   {
    "duration": 256,
    "start_time": "2023-08-12T14:22:30.126Z"
   },
   {
    "duration": 269,
    "start_time": "2023-08-12T14:22:49.218Z"
   },
   {
    "duration": 285,
    "start_time": "2023-08-12T14:28:43.103Z"
   },
   {
    "duration": 287,
    "start_time": "2023-08-12T14:29:10.559Z"
   },
   {
    "duration": 11,
    "start_time": "2023-08-12T14:35:16.590Z"
   },
   {
    "duration": 13,
    "start_time": "2023-08-12T14:36:03.114Z"
   },
   {
    "duration": 16,
    "start_time": "2023-08-12T14:38:41.378Z"
   },
   {
    "duration": 19,
    "start_time": "2023-08-12T14:41:20.407Z"
   },
   {
    "duration": 55,
    "start_time": "2023-08-12T14:41:47.045Z"
   },
   {
    "duration": 131,
    "start_time": "2023-08-12T14:42:47.389Z"
   },
   {
    "duration": 129,
    "start_time": "2023-08-12T14:43:00.783Z"
   },
   {
    "duration": 8,
    "start_time": "2023-08-12T14:45:16.478Z"
   },
   {
    "duration": 23,
    "start_time": "2023-08-12T14:47:10.284Z"
   },
   {
    "duration": 25,
    "start_time": "2023-08-12T14:47:54.485Z"
   },
   {
    "duration": 19,
    "start_time": "2023-08-12T14:50:04.248Z"
   },
   {
    "duration": 115,
    "start_time": "2023-08-12T14:50:36.288Z"
   },
   {
    "duration": 12,
    "start_time": "2023-08-12T14:51:32.282Z"
   },
   {
    "duration": 11,
    "start_time": "2023-08-12T14:51:42.812Z"
   },
   {
    "duration": 12,
    "start_time": "2023-08-12T14:55:42.242Z"
   },
   {
    "duration": 118,
    "start_time": "2023-08-12T14:56:05.293Z"
   },
   {
    "duration": 6,
    "start_time": "2023-08-12T14:57:05.493Z"
   },
   {
    "duration": 10,
    "start_time": "2023-08-12T14:57:20.080Z"
   },
   {
    "duration": 139,
    "start_time": "2023-08-12T14:59:23.996Z"
   },
   {
    "duration": 13,
    "start_time": "2023-08-12T15:00:02.106Z"
   },
   {
    "duration": 160,
    "start_time": "2023-08-12T15:00:18.737Z"
   },
   {
    "duration": 6,
    "start_time": "2023-08-12T15:00:41.902Z"
   },
   {
    "duration": 3,
    "start_time": "2023-08-12T15:02:02.804Z"
   },
   {
    "duration": 1112,
    "start_time": "2023-08-12T15:44:26.417Z"
   },
   {
    "duration": 80,
    "start_time": "2023-08-12T15:44:27.531Z"
   },
   {
    "duration": 11,
    "start_time": "2023-08-12T15:44:27.613Z"
   },
   {
    "duration": 34,
    "start_time": "2023-08-12T15:44:27.626Z"
   },
   {
    "duration": 12,
    "start_time": "2023-08-12T15:44:27.662Z"
   },
   {
    "duration": 10,
    "start_time": "2023-08-12T15:44:27.676Z"
   },
   {
    "duration": 21,
    "start_time": "2023-08-12T15:44:27.688Z"
   },
   {
    "duration": 11,
    "start_time": "2023-08-12T15:44:27.711Z"
   },
   {
    "duration": 7,
    "start_time": "2023-08-12T15:44:27.723Z"
   },
   {
    "duration": 10,
    "start_time": "2023-08-12T15:44:27.733Z"
   },
   {
    "duration": 10,
    "start_time": "2023-08-12T15:44:27.757Z"
   },
   {
    "duration": 7,
    "start_time": "2023-08-12T15:44:27.769Z"
   },
   {
    "duration": 19,
    "start_time": "2023-08-12T15:44:27.778Z"
   },
   {
    "duration": 13,
    "start_time": "2023-08-12T15:44:27.799Z"
   },
   {
    "duration": 31,
    "start_time": "2023-08-12T15:44:27.814Z"
   },
   {
    "duration": 8,
    "start_time": "2023-08-12T15:44:27.846Z"
   },
   {
    "duration": 16,
    "start_time": "2023-08-12T15:44:27.855Z"
   },
   {
    "duration": 38,
    "start_time": "2023-08-12T15:44:27.872Z"
   },
   {
    "duration": 11,
    "start_time": "2023-08-12T15:44:27.912Z"
   },
   {
    "duration": 11,
    "start_time": "2023-08-12T15:44:27.924Z"
   },
   {
    "duration": 22,
    "start_time": "2023-08-12T15:44:27.936Z"
   },
   {
    "duration": 180,
    "start_time": "2023-08-12T15:44:27.959Z"
   },
   {
    "duration": 130,
    "start_time": "2023-08-12T15:44:28.141Z"
   },
   {
    "duration": 14,
    "start_time": "2023-08-12T15:44:28.273Z"
   },
   {
    "duration": 276,
    "start_time": "2023-08-12T15:44:28.289Z"
   },
   {
    "duration": 183,
    "start_time": "2023-08-12T15:44:28.567Z"
   },
   {
    "duration": 321,
    "start_time": "2023-08-12T15:44:28.751Z"
   },
   {
    "duration": 217,
    "start_time": "2023-08-12T15:44:29.077Z"
   },
   {
    "duration": 192,
    "start_time": "2023-08-12T15:44:29.296Z"
   },
   {
    "duration": 282,
    "start_time": "2023-08-12T15:44:29.490Z"
   },
   {
    "duration": 259,
    "start_time": "2023-08-12T15:44:29.774Z"
   },
   {
    "duration": 23,
    "start_time": "2023-08-12T15:44:30.035Z"
   },
   {
    "duration": 116,
    "start_time": "2023-08-12T15:44:30.060Z"
   },
   {
    "duration": 6,
    "start_time": "2023-08-12T15:44:30.178Z"
   },
   {
    "duration": 29,
    "start_time": "2023-08-12T15:44:30.185Z"
   },
   {
    "duration": 224,
    "start_time": "2023-08-12T15:44:30.216Z"
   },
   {
    "duration": 16,
    "start_time": "2023-08-12T15:44:30.441Z"
   },
   {
    "duration": 113,
    "start_time": "2023-08-12T16:25:02.176Z"
   },
   {
    "duration": 1152,
    "start_time": "2023-08-12T16:25:57.070Z"
   },
   {
    "duration": 83,
    "start_time": "2023-08-12T16:25:58.224Z"
   },
   {
    "duration": 12,
    "start_time": "2023-08-12T16:25:58.309Z"
   },
   {
    "duration": 13,
    "start_time": "2023-08-12T16:25:58.322Z"
   },
   {
    "duration": 8,
    "start_time": "2023-08-12T16:25:58.337Z"
   },
   {
    "duration": 18,
    "start_time": "2023-08-12T16:25:58.347Z"
   },
   {
    "duration": 12,
    "start_time": "2023-08-12T16:25:58.367Z"
   },
   {
    "duration": 12,
    "start_time": "2023-08-12T16:25:58.381Z"
   },
   {
    "duration": 15,
    "start_time": "2023-08-12T16:25:58.395Z"
   },
   {
    "duration": 6,
    "start_time": "2023-08-12T16:25:58.412Z"
   },
   {
    "duration": 7,
    "start_time": "2023-08-12T16:25:58.420Z"
   },
   {
    "duration": 36,
    "start_time": "2023-08-12T16:25:58.429Z"
   },
   {
    "duration": 10,
    "start_time": "2023-08-12T16:25:58.469Z"
   },
   {
    "duration": 11,
    "start_time": "2023-08-12T16:25:58.483Z"
   },
   {
    "duration": 18,
    "start_time": "2023-08-12T16:25:58.496Z"
   },
   {
    "duration": 5,
    "start_time": "2023-08-12T16:25:58.516Z"
   },
   {
    "duration": 12,
    "start_time": "2023-08-12T16:25:58.523Z"
   },
   {
    "duration": 37,
    "start_time": "2023-08-12T16:25:58.537Z"
   },
   {
    "duration": 14,
    "start_time": "2023-08-12T16:25:58.576Z"
   },
   {
    "duration": 6,
    "start_time": "2023-08-12T16:25:58.591Z"
   },
   {
    "duration": 190,
    "start_time": "2023-08-12T16:25:58.599Z"
   },
   {
    "duration": 177,
    "start_time": "2023-08-12T16:25:58.791Z"
   },
   {
    "duration": 20,
    "start_time": "2023-08-12T16:25:58.970Z"
   },
   {
    "duration": 320,
    "start_time": "2023-08-12T16:25:58.992Z"
   },
   {
    "duration": 187,
    "start_time": "2023-08-12T16:25:59.314Z"
   },
   {
    "duration": 259,
    "start_time": "2023-08-12T16:25:59.502Z"
   },
   {
    "duration": 204,
    "start_time": "2023-08-12T16:25:59.763Z"
   },
   {
    "duration": 205,
    "start_time": "2023-08-12T16:25:59.970Z"
   },
   {
    "duration": 272,
    "start_time": "2023-08-12T16:26:00.177Z"
   },
   {
    "duration": 294,
    "start_time": "2023-08-12T16:26:00.451Z"
   },
   {
    "duration": 26,
    "start_time": "2023-08-12T16:26:00.747Z"
   },
   {
    "duration": 142,
    "start_time": "2023-08-12T16:26:00.775Z"
   },
   {
    "duration": 6,
    "start_time": "2023-08-12T16:26:00.919Z"
   },
   {
    "duration": 34,
    "start_time": "2023-08-12T16:26:00.926Z"
   },
   {
    "duration": 222,
    "start_time": "2023-08-12T16:26:00.973Z"
   },
   {
    "duration": 6,
    "start_time": "2023-08-12T16:26:01.197Z"
   },
   {
    "duration": 150,
    "start_time": "2023-08-12T16:26:01.205Z"
   },
   {
    "duration": 0,
    "start_time": "2023-08-12T16:26:01.369Z"
   },
   {
    "duration": 0,
    "start_time": "2023-08-12T16:26:01.371Z"
   },
   {
    "duration": 0,
    "start_time": "2023-08-12T16:26:01.372Z"
   },
   {
    "duration": 0,
    "start_time": "2023-08-12T16:26:01.373Z"
   },
   {
    "duration": 0,
    "start_time": "2023-08-12T16:26:01.374Z"
   },
   {
    "duration": 0,
    "start_time": "2023-08-12T16:26:01.375Z"
   },
   {
    "duration": 0,
    "start_time": "2023-08-12T16:26:01.376Z"
   },
   {
    "duration": 1,
    "start_time": "2023-08-12T16:26:01.377Z"
   },
   {
    "duration": 8,
    "start_time": "2023-08-12T16:26:26.791Z"
   },
   {
    "duration": 17,
    "start_time": "2023-08-12T16:26:55.272Z"
   },
   {
    "duration": 112,
    "start_time": "2023-08-12T16:27:28.228Z"
   },
   {
    "duration": 112,
    "start_time": "2023-08-12T16:31:36.024Z"
   },
   {
    "duration": 257,
    "start_time": "2023-08-12T16:32:14.190Z"
   },
   {
    "duration": 17,
    "start_time": "2023-08-12T16:33:12.588Z"
   },
   {
    "duration": 129,
    "start_time": "2023-08-12T16:33:31.274Z"
   },
   {
    "duration": 27,
    "start_time": "2023-08-12T16:34:40.732Z"
   },
   {
    "duration": 4,
    "start_time": "2023-08-12T16:35:12.208Z"
   },
   {
    "duration": 257,
    "start_time": "2023-08-12T16:35:19.059Z"
   },
   {
    "duration": 124,
    "start_time": "2023-08-12T16:35:21.717Z"
   },
   {
    "duration": 223,
    "start_time": "2023-08-12T16:35:23.136Z"
   },
   {
    "duration": 190,
    "start_time": "2023-08-12T16:35:31.571Z"
   },
   {
    "duration": 8,
    "start_time": "2023-08-12T16:38:45.418Z"
   },
   {
    "duration": 16,
    "start_time": "2023-08-12T16:40:13.307Z"
   },
   {
    "duration": 263,
    "start_time": "2023-08-12T16:40:56.107Z"
   },
   {
    "duration": 260,
    "start_time": "2023-08-12T16:42:27.391Z"
   },
   {
    "duration": 128,
    "start_time": "2023-08-12T16:42:40.488Z"
   },
   {
    "duration": 28,
    "start_time": "2023-08-12T16:42:42.477Z"
   },
   {
    "duration": 52,
    "start_time": "2023-08-12T16:42:50.923Z"
   },
   {
    "duration": 6,
    "start_time": "2023-08-12T16:52:17.705Z"
   },
   {
    "duration": 5,
    "start_time": "2023-08-12T16:53:03.942Z"
   },
   {
    "duration": 12,
    "start_time": "2023-08-12T16:53:14.755Z"
   },
   {
    "duration": 1327,
    "start_time": "2023-08-12T16:56:31.643Z"
   },
   {
    "duration": 204,
    "start_time": "2023-08-12T16:57:13.105Z"
   },
   {
    "duration": 253,
    "start_time": "2023-08-12T16:58:51.194Z"
   },
   {
    "duration": 140,
    "start_time": "2023-08-12T16:59:05.874Z"
   },
   {
    "duration": 9,
    "start_time": "2023-08-12T16:59:21.382Z"
   },
   {
    "duration": 212,
    "start_time": "2023-08-12T16:59:47.980Z"
   },
   {
    "duration": 288,
    "start_time": "2023-08-12T17:04:54.271Z"
   },
   {
    "duration": 9,
    "start_time": "2023-08-12T17:10:46.433Z"
   },
   {
    "duration": 17,
    "start_time": "2023-08-12T17:15:59.128Z"
   },
   {
    "duration": 11,
    "start_time": "2023-08-12T17:17:05.074Z"
   },
   {
    "duration": 11,
    "start_time": "2023-08-12T17:17:13.179Z"
   },
   {
    "duration": 17,
    "start_time": "2023-08-12T17:17:28.818Z"
   },
   {
    "duration": 10,
    "start_time": "2023-08-12T17:17:32.169Z"
   },
   {
    "duration": 29,
    "start_time": "2023-08-12T17:19:28.032Z"
   },
   {
    "duration": 6,
    "start_time": "2023-08-12T17:21:20.406Z"
   },
   {
    "duration": 5,
    "start_time": "2023-08-12T17:21:26.408Z"
   },
   {
    "duration": 7,
    "start_time": "2023-08-12T17:22:55.644Z"
   },
   {
    "duration": 7,
    "start_time": "2023-08-12T17:22:57.870Z"
   },
   {
    "duration": 5,
    "start_time": "2023-08-12T17:23:19.922Z"
   },
   {
    "duration": 10,
    "start_time": "2023-08-12T17:23:58.154Z"
   },
   {
    "duration": 13,
    "start_time": "2023-08-12T17:28:36.261Z"
   },
   {
    "duration": 1126,
    "start_time": "2023-08-12T17:34:11.445Z"
   },
   {
    "duration": 1176,
    "start_time": "2023-08-12T17:34:45.272Z"
   },
   {
    "duration": 12,
    "start_time": "2023-08-12T17:35:01.487Z"
   },
   {
    "duration": 1193,
    "start_time": "2023-08-12T17:35:19.850Z"
   },
   {
    "duration": 7,
    "start_time": "2023-08-12T17:35:56.616Z"
   },
   {
    "duration": 15,
    "start_time": "2023-08-12T17:36:14.091Z"
   },
   {
    "duration": 10,
    "start_time": "2023-08-12T17:36:21.596Z"
   },
   {
    "duration": 8,
    "start_time": "2023-08-12T17:39:14.627Z"
   },
   {
    "duration": 10,
    "start_time": "2023-08-12T17:39:18.628Z"
   },
   {
    "duration": 23,
    "start_time": "2023-08-12T17:39:39.717Z"
   },
   {
    "duration": 1361,
    "start_time": "2023-08-12T17:41:37.287Z"
   },
   {
    "duration": 19,
    "start_time": "2023-08-12T17:42:24.156Z"
   },
   {
    "duration": 1299,
    "start_time": "2023-08-13T08:40:47.143Z"
   },
   {
    "duration": 206,
    "start_time": "2023-08-13T08:40:48.444Z"
   },
   {
    "duration": 13,
    "start_time": "2023-08-13T08:40:48.652Z"
   },
   {
    "duration": 20,
    "start_time": "2023-08-13T08:40:48.666Z"
   },
   {
    "duration": 8,
    "start_time": "2023-08-13T08:40:48.689Z"
   },
   {
    "duration": 6,
    "start_time": "2023-08-13T08:40:48.699Z"
   },
   {
    "duration": 16,
    "start_time": "2023-08-13T08:40:48.706Z"
   },
   {
    "duration": 10,
    "start_time": "2023-08-13T08:40:48.724Z"
   },
   {
    "duration": 27,
    "start_time": "2023-08-13T08:40:48.735Z"
   },
   {
    "duration": 11,
    "start_time": "2023-08-13T08:40:48.764Z"
   },
   {
    "duration": 8,
    "start_time": "2023-08-13T08:40:48.777Z"
   },
   {
    "duration": 16,
    "start_time": "2023-08-13T08:40:48.787Z"
   },
   {
    "duration": 17,
    "start_time": "2023-08-13T08:40:48.804Z"
   },
   {
    "duration": 13,
    "start_time": "2023-08-13T08:40:48.823Z"
   },
   {
    "duration": 12,
    "start_time": "2023-08-13T08:40:48.855Z"
   },
   {
    "duration": 10,
    "start_time": "2023-08-13T08:40:48.869Z"
   },
   {
    "duration": 20,
    "start_time": "2023-08-13T08:40:48.882Z"
   },
   {
    "duration": 15,
    "start_time": "2023-08-13T08:40:48.905Z"
   },
   {
    "duration": 13,
    "start_time": "2023-08-13T08:40:48.922Z"
   },
   {
    "duration": 11,
    "start_time": "2023-08-13T08:41:27.425Z"
   },
   {
    "duration": 7,
    "start_time": "2023-08-13T09:01:49.913Z"
   },
   {
    "duration": 185,
    "start_time": "2023-08-13T09:01:52.395Z"
   },
   {
    "duration": 121,
    "start_time": "2023-08-13T09:08:12.206Z"
   },
   {
    "duration": 18,
    "start_time": "2023-08-13T09:08:34.009Z"
   },
   {
    "duration": 276,
    "start_time": "2023-08-13T09:08:54.610Z"
   },
   {
    "duration": 183,
    "start_time": "2023-08-13T09:13:33.695Z"
   },
   {
    "duration": 306,
    "start_time": "2023-08-13T09:19:41.509Z"
   },
   {
    "duration": 247,
    "start_time": "2023-08-13T09:28:16.985Z"
   },
   {
    "duration": 182,
    "start_time": "2023-08-13T09:28:31.853Z"
   },
   {
    "duration": 9,
    "start_time": "2023-08-13T09:29:45.075Z"
   },
   {
    "duration": 231,
    "start_time": "2023-08-13T09:29:48.885Z"
   },
   {
    "duration": 248,
    "start_time": "2023-08-13T09:40:51.816Z"
   },
   {
    "duration": 11,
    "start_time": "2023-08-13T09:47:07.482Z"
   },
   {
    "duration": 110,
    "start_time": "2023-08-13T09:47:13.609Z"
   },
   {
    "duration": 6,
    "start_time": "2023-08-13T09:51:04.964Z"
   },
   {
    "duration": 143,
    "start_time": "2023-08-13T10:14:53.205Z"
   },
   {
    "duration": 104,
    "start_time": "2023-08-13T10:17:35.915Z"
   },
   {
    "duration": 14,
    "start_time": "2023-08-13T10:17:44.240Z"
   },
   {
    "duration": 9,
    "start_time": "2023-08-13T10:18:06.515Z"
   },
   {
    "duration": 5,
    "start_time": "2023-08-13T10:19:22.416Z"
   },
   {
    "duration": 62,
    "start_time": "2023-08-13T10:22:00.438Z"
   },
   {
    "duration": 24,
    "start_time": "2023-08-13T10:22:59.803Z"
   },
   {
    "duration": 13,
    "start_time": "2023-08-13T10:34:32.446Z"
   },
   {
    "duration": 10,
    "start_time": "2023-08-13T10:42:03.170Z"
   },
   {
    "duration": 10,
    "start_time": "2023-08-13T10:42:32.982Z"
   },
   {
    "duration": 22,
    "start_time": "2023-08-13T10:42:37.872Z"
   },
   {
    "duration": 9,
    "start_time": "2023-08-13T10:44:00.225Z"
   },
   {
    "duration": 9,
    "start_time": "2023-08-13T10:46:46.984Z"
   },
   {
    "duration": 24,
    "start_time": "2023-08-13T10:46:50.294Z"
   },
   {
    "duration": 103,
    "start_time": "2023-08-13T10:47:13.510Z"
   },
   {
    "duration": 12,
    "start_time": "2023-08-13T10:50:11.691Z"
   },
   {
    "duration": 12,
    "start_time": "2023-08-13T10:50:14.077Z"
   },
   {
    "duration": 24,
    "start_time": "2023-08-13T10:50:17.243Z"
   },
   {
    "duration": 11,
    "start_time": "2023-08-13T10:50:25.227Z"
   },
   {
    "duration": 10,
    "start_time": "2023-08-13T10:50:29.230Z"
   },
   {
    "duration": 33,
    "start_time": "2023-08-13T10:50:32.387Z"
   },
   {
    "duration": 15,
    "start_time": "2023-08-13T10:53:05.209Z"
   },
   {
    "duration": 1212,
    "start_time": "2023-08-13T11:12:39.738Z"
   },
   {
    "duration": 82,
    "start_time": "2023-08-13T11:12:40.952Z"
   },
   {
    "duration": 13,
    "start_time": "2023-08-13T11:12:41.037Z"
   },
   {
    "duration": 15,
    "start_time": "2023-08-13T11:12:41.052Z"
   },
   {
    "duration": 8,
    "start_time": "2023-08-13T11:12:41.070Z"
   },
   {
    "duration": 7,
    "start_time": "2023-08-13T11:12:41.080Z"
   },
   {
    "duration": 14,
    "start_time": "2023-08-13T11:12:41.089Z"
   },
   {
    "duration": 9,
    "start_time": "2023-08-13T11:12:41.106Z"
   },
   {
    "duration": 45,
    "start_time": "2023-08-13T11:12:41.118Z"
   },
   {
    "duration": 7,
    "start_time": "2023-08-13T11:12:41.166Z"
   },
   {
    "duration": 9,
    "start_time": "2023-08-13T11:12:41.174Z"
   },
   {
    "duration": 12,
    "start_time": "2023-08-13T11:12:41.184Z"
   },
   {
    "duration": 7,
    "start_time": "2023-08-13T11:12:41.198Z"
   },
   {
    "duration": 16,
    "start_time": "2023-08-13T11:12:41.207Z"
   },
   {
    "duration": 7,
    "start_time": "2023-08-13T11:12:41.256Z"
   },
   {
    "duration": 12,
    "start_time": "2023-08-13T11:12:41.265Z"
   },
   {
    "duration": 16,
    "start_time": "2023-08-13T11:12:41.278Z"
   },
   {
    "duration": 16,
    "start_time": "2023-08-13T11:12:41.296Z"
   },
   {
    "duration": 11,
    "start_time": "2023-08-13T11:12:41.313Z"
   },
   {
    "duration": 37,
    "start_time": "2023-08-13T11:12:41.326Z"
   },
   {
    "duration": 12,
    "start_time": "2023-08-13T11:12:41.365Z"
   },
   {
    "duration": 196,
    "start_time": "2023-08-13T11:12:41.378Z"
   },
   {
    "duration": 140,
    "start_time": "2023-08-13T11:12:41.576Z"
   },
   {
    "duration": 14,
    "start_time": "2023-08-13T11:12:41.718Z"
   },
   {
    "duration": 281,
    "start_time": "2023-08-13T11:12:41.734Z"
   },
   {
    "duration": 195,
    "start_time": "2023-08-13T11:12:42.017Z"
   },
   {
    "duration": 277,
    "start_time": "2023-08-13T11:12:42.214Z"
   },
   {
    "duration": 281,
    "start_time": "2023-08-13T11:12:42.496Z"
   },
   {
    "duration": 149,
    "start_time": "2023-08-13T11:12:42.780Z"
   },
   {
    "duration": 6,
    "start_time": "2023-08-13T11:12:42.930Z"
   },
   {
    "duration": 212,
    "start_time": "2023-08-13T11:12:42.937Z"
   },
   {
    "duration": 293,
    "start_time": "2023-08-13T11:12:43.150Z"
   },
   {
    "duration": 21,
    "start_time": "2023-08-13T11:12:43.445Z"
   },
   {
    "duration": 124,
    "start_time": "2023-08-13T11:12:43.468Z"
   },
   {
    "duration": 6,
    "start_time": "2023-08-13T11:12:43.593Z"
   },
   {
    "duration": 164,
    "start_time": "2023-08-13T11:12:43.600Z"
   },
   {
    "duration": 12,
    "start_time": "2023-08-13T11:12:43.766Z"
   },
   {
    "duration": 31,
    "start_time": "2023-08-13T11:12:43.779Z"
   },
   {
    "duration": 30,
    "start_time": "2023-08-13T11:12:43.813Z"
   },
   {
    "duration": 15,
    "start_time": "2023-08-13T11:12:43.845Z"
   },
   {
    "duration": 12,
    "start_time": "2023-08-13T11:12:43.862Z"
   },
   {
    "duration": 10,
    "start_time": "2023-08-13T11:12:43.876Z"
   },
   {
    "duration": 22,
    "start_time": "2023-08-13T11:12:43.887Z"
   },
   {
    "duration": 123,
    "start_time": "2023-08-13T11:12:43.911Z"
   },
   {
    "duration": 10,
    "start_time": "2023-08-13T11:15:47.983Z"
   },
   {
    "duration": 9,
    "start_time": "2023-08-13T11:15:50.471Z"
   },
   {
    "duration": 20,
    "start_time": "2023-08-13T11:15:53.657Z"
   },
   {
    "duration": 22,
    "start_time": "2023-08-13T11:15:57.302Z"
   },
   {
    "duration": 10,
    "start_time": "2023-08-13T11:16:12.722Z"
   },
   {
    "duration": 7,
    "start_time": "2023-08-13T11:16:15.705Z"
   },
   {
    "duration": 25,
    "start_time": "2023-08-13T11:16:18.889Z"
   },
   {
    "duration": 23,
    "start_time": "2023-08-13T11:16:22.173Z"
   },
   {
    "duration": 15,
    "start_time": "2023-08-13T11:16:24.965Z"
   },
   {
    "duration": 1163,
    "start_time": "2023-08-13T11:16:36.557Z"
   },
   {
    "duration": 81,
    "start_time": "2023-08-13T11:16:37.722Z"
   },
   {
    "duration": 13,
    "start_time": "2023-08-13T11:16:37.804Z"
   },
   {
    "duration": 12,
    "start_time": "2023-08-13T11:16:37.819Z"
   },
   {
    "duration": 14,
    "start_time": "2023-08-13T11:16:37.833Z"
   },
   {
    "duration": 5,
    "start_time": "2023-08-13T11:16:37.849Z"
   },
   {
    "duration": 19,
    "start_time": "2023-08-13T11:16:37.856Z"
   },
   {
    "duration": 15,
    "start_time": "2023-08-13T11:16:37.877Z"
   },
   {
    "duration": 13,
    "start_time": "2023-08-13T11:16:37.894Z"
   },
   {
    "duration": 8,
    "start_time": "2023-08-13T11:16:37.910Z"
   },
   {
    "duration": 21,
    "start_time": "2023-08-13T11:16:37.920Z"
   },
   {
    "duration": 21,
    "start_time": "2023-08-13T11:16:37.943Z"
   },
   {
    "duration": 15,
    "start_time": "2023-08-13T11:16:37.966Z"
   },
   {
    "duration": 13,
    "start_time": "2023-08-13T11:16:37.983Z"
   },
   {
    "duration": 6,
    "start_time": "2023-08-13T11:16:37.998Z"
   },
   {
    "duration": 11,
    "start_time": "2023-08-13T11:16:38.007Z"
   },
   {
    "duration": 39,
    "start_time": "2023-08-13T11:16:38.020Z"
   },
   {
    "duration": 19,
    "start_time": "2023-08-13T11:16:38.061Z"
   },
   {
    "duration": 13,
    "start_time": "2023-08-13T11:16:38.082Z"
   },
   {
    "duration": 11,
    "start_time": "2023-08-13T11:16:38.097Z"
   },
   {
    "duration": 7,
    "start_time": "2023-08-13T11:16:38.110Z"
   },
   {
    "duration": 223,
    "start_time": "2023-08-13T11:16:38.119Z"
   },
   {
    "duration": 164,
    "start_time": "2023-08-13T11:16:38.344Z"
   },
   {
    "duration": 14,
    "start_time": "2023-08-13T11:16:38.510Z"
   },
   {
    "duration": 334,
    "start_time": "2023-08-13T11:16:38.526Z"
   },
   {
    "duration": 250,
    "start_time": "2023-08-13T11:16:38.862Z"
   },
   {
    "duration": 333,
    "start_time": "2023-08-13T11:16:39.114Z"
   },
   {
    "duration": 234,
    "start_time": "2023-08-13T11:16:39.458Z"
   },
   {
    "duration": 198,
    "start_time": "2023-08-13T11:16:39.694Z"
   },
   {
    "duration": 7,
    "start_time": "2023-08-13T11:16:39.894Z"
   },
   {
    "duration": 200,
    "start_time": "2023-08-13T11:16:39.903Z"
   },
   {
    "duration": 317,
    "start_time": "2023-08-13T11:16:40.105Z"
   },
   {
    "duration": 12,
    "start_time": "2023-08-13T11:16:40.425Z"
   },
   {
    "duration": 121,
    "start_time": "2023-08-13T11:16:40.438Z"
   },
   {
    "duration": 6,
    "start_time": "2023-08-13T11:16:40.561Z"
   },
   {
    "duration": 141,
    "start_time": "2023-08-13T11:16:40.569Z"
   },
   {
    "duration": 10,
    "start_time": "2023-08-13T11:16:40.712Z"
   },
   {
    "duration": 5,
    "start_time": "2023-08-13T11:16:40.724Z"
   },
   {
    "duration": 45,
    "start_time": "2023-08-13T11:16:40.731Z"
   },
   {
    "duration": 10,
    "start_time": "2023-08-13T11:16:40.778Z"
   },
   {
    "duration": 11,
    "start_time": "2023-08-13T11:16:40.790Z"
   },
   {
    "duration": 8,
    "start_time": "2023-08-13T11:16:40.803Z"
   },
   {
    "duration": 46,
    "start_time": "2023-08-13T11:16:40.813Z"
   },
   {
    "duration": 112,
    "start_time": "2023-08-13T11:16:40.861Z"
   },
   {
    "duration": 3,
    "start_time": "2023-08-13T12:32:32.313Z"
   },
   {
    "duration": 80,
    "start_time": "2023-08-13T12:32:34.270Z"
   },
   {
    "duration": 10,
    "start_time": "2023-08-13T12:32:57.407Z"
   },
   {
    "duration": 14,
    "start_time": "2023-08-13T12:33:04.609Z"
   },
   {
    "duration": 7,
    "start_time": "2023-08-13T12:33:07.292Z"
   },
   {
    "duration": 4,
    "start_time": "2023-08-13T12:33:09.511Z"
   },
   {
    "duration": 15,
    "start_time": "2023-08-13T12:33:11.546Z"
   },
   {
    "duration": 9,
    "start_time": "2023-08-13T12:33:14.525Z"
   },
   {
    "duration": 10,
    "start_time": "2023-08-13T12:33:18.343Z"
   },
   {
    "duration": 6,
    "start_time": "2023-08-13T12:33:20.375Z"
   },
   {
    "duration": 7,
    "start_time": "2023-08-13T12:33:22.668Z"
   },
   {
    "duration": 11,
    "start_time": "2023-08-13T12:33:24.877Z"
   },
   {
    "duration": 7,
    "start_time": "2023-08-13T12:33:27.568Z"
   },
   {
    "duration": 20,
    "start_time": "2023-08-13T12:33:30.388Z"
   },
   {
    "duration": 6,
    "start_time": "2023-08-13T12:33:33.331Z"
   },
   {
    "duration": 4,
    "start_time": "2023-08-13T12:33:35.400Z"
   },
   {
    "duration": 11,
    "start_time": "2023-08-13T12:33:37.505Z"
   },
   {
    "duration": 12,
    "start_time": "2023-08-13T12:36:25.432Z"
   },
   {
    "duration": 13,
    "start_time": "2023-08-13T12:37:05.430Z"
   },
   {
    "duration": 14,
    "start_time": "2023-08-13T12:37:24.939Z"
   },
   {
    "duration": 12,
    "start_time": "2023-08-13T12:38:01.633Z"
   },
   {
    "duration": 12,
    "start_time": "2023-08-13T12:38:05.501Z"
   },
   {
    "duration": 17,
    "start_time": "2023-08-13T12:38:09.066Z"
   },
   {
    "duration": 10,
    "start_time": "2023-08-13T12:39:41.666Z"
   },
   {
    "duration": 199,
    "start_time": "2023-08-13T12:39:43.543Z"
   },
   {
    "duration": 160,
    "start_time": "2023-08-13T12:39:44.871Z"
   },
   {
    "duration": 16,
    "start_time": "2023-08-13T12:39:45.732Z"
   },
   {
    "duration": 189,
    "start_time": "2023-08-13T12:40:06.849Z"
   },
   {
    "duration": 64,
    "start_time": "2023-08-13T12:40:43.646Z"
   },
   {
    "duration": 11,
    "start_time": "2023-08-13T13:06:51.426Z"
   },
   {
    "duration": 18,
    "start_time": "2023-08-13T13:07:45.021Z"
   },
   {
    "duration": 11,
    "start_time": "2023-08-13T13:11:12.087Z"
   },
   {
    "duration": 4,
    "start_time": "2023-08-13T13:28:46.012Z"
   },
   {
    "duration": 5,
    "start_time": "2023-08-13T13:29:12.502Z"
   },
   {
    "duration": 4,
    "start_time": "2023-08-13T13:29:57.720Z"
   },
   {
    "duration": 4,
    "start_time": "2023-08-13T13:40:10.676Z"
   },
   {
    "duration": 5,
    "start_time": "2023-08-13T13:40:18.027Z"
   },
   {
    "duration": 5,
    "start_time": "2023-08-13T13:41:38.374Z"
   },
   {
    "duration": 4,
    "start_time": "2023-08-13T13:41:45.379Z"
   },
   {
    "duration": 4,
    "start_time": "2023-08-13T13:41:53.572Z"
   },
   {
    "duration": 5,
    "start_time": "2023-08-13T13:41:59.529Z"
   },
   {
    "duration": 196,
    "start_time": "2023-08-13T13:43:15.492Z"
   },
   {
    "duration": 202,
    "start_time": "2023-08-13T13:44:21.868Z"
   },
   {
    "duration": 372,
    "start_time": "2023-08-13T13:45:06.433Z"
   },
   {
    "duration": 444,
    "start_time": "2023-08-13T13:45:19.378Z"
   },
   {
    "duration": 301,
    "start_time": "2023-08-13T13:45:29.220Z"
   },
   {
    "duration": 270,
    "start_time": "2023-08-13T13:45:48.767Z"
   },
   {
    "duration": 185,
    "start_time": "2023-08-13T13:46:12.355Z"
   },
   {
    "duration": 220,
    "start_time": "2023-08-13T13:47:07.392Z"
   },
   {
    "duration": 283,
    "start_time": "2023-08-13T13:47:29.866Z"
   },
   {
    "duration": 323,
    "start_time": "2023-08-13T13:47:51.259Z"
   },
   {
    "duration": 416,
    "start_time": "2023-08-13T13:48:25.859Z"
   },
   {
    "duration": 226,
    "start_time": "2023-08-13T13:49:13.800Z"
   },
   {
    "duration": 312,
    "start_time": "2023-08-13T13:50:09.213Z"
   },
   {
    "duration": 123,
    "start_time": "2023-08-13T13:50:27.456Z"
   },
   {
    "duration": 203,
    "start_time": "2023-08-13T13:50:48.916Z"
   },
   {
    "duration": 139,
    "start_time": "2023-08-13T13:51:39.441Z"
   },
   {
    "duration": 157,
    "start_time": "2023-08-13T13:52:25.701Z"
   },
   {
    "duration": 1105,
    "start_time": "2023-08-13T13:52:44.616Z"
   },
   {
    "duration": 82,
    "start_time": "2023-08-13T13:52:45.723Z"
   },
   {
    "duration": 12,
    "start_time": "2023-08-13T13:52:45.807Z"
   },
   {
    "duration": 11,
    "start_time": "2023-08-13T13:52:45.821Z"
   },
   {
    "duration": 18,
    "start_time": "2023-08-13T13:52:45.834Z"
   },
   {
    "duration": 7,
    "start_time": "2023-08-13T13:52:45.854Z"
   },
   {
    "duration": 18,
    "start_time": "2023-08-13T13:52:45.863Z"
   },
   {
    "duration": 9,
    "start_time": "2023-08-13T13:52:45.883Z"
   },
   {
    "duration": 23,
    "start_time": "2023-08-13T13:52:45.894Z"
   },
   {
    "duration": 16,
    "start_time": "2023-08-13T13:52:45.920Z"
   },
   {
    "duration": 10,
    "start_time": "2023-08-13T13:52:45.938Z"
   },
   {
    "duration": 17,
    "start_time": "2023-08-13T13:52:45.957Z"
   },
   {
    "duration": 29,
    "start_time": "2023-08-13T13:52:45.976Z"
   },
   {
    "duration": 20,
    "start_time": "2023-08-13T13:52:46.007Z"
   },
   {
    "duration": 18,
    "start_time": "2023-08-13T13:52:46.029Z"
   },
   {
    "duration": 14,
    "start_time": "2023-08-13T13:52:46.049Z"
   },
   {
    "duration": 17,
    "start_time": "2023-08-13T13:52:46.066Z"
   },
   {
    "duration": 14,
    "start_time": "2023-08-13T13:52:46.085Z"
   },
   {
    "duration": 11,
    "start_time": "2023-08-13T13:52:46.100Z"
   },
   {
    "duration": 12,
    "start_time": "2023-08-13T13:52:46.113Z"
   },
   {
    "duration": 31,
    "start_time": "2023-08-13T13:52:46.127Z"
   },
   {
    "duration": 183,
    "start_time": "2023-08-13T13:52:46.160Z"
   },
   {
    "duration": 139,
    "start_time": "2023-08-13T13:52:46.345Z"
   },
   {
    "duration": 16,
    "start_time": "2023-08-13T13:52:46.486Z"
   },
   {
    "duration": 6,
    "start_time": "2023-08-13T13:52:46.503Z"
   },
   {
    "duration": 19,
    "start_time": "2023-08-13T13:52:46.511Z"
   },
   {
    "duration": 8,
    "start_time": "2023-08-13T13:52:46.532Z"
   },
   {
    "duration": 315,
    "start_time": "2023-08-13T13:52:46.563Z"
   },
   {
    "duration": 229,
    "start_time": "2023-08-13T13:52:46.880Z"
   },
   {
    "duration": 400,
    "start_time": "2023-08-13T13:52:47.110Z"
   },
   {
    "duration": 251,
    "start_time": "2023-08-13T13:52:47.512Z"
   },
   {
    "duration": 173,
    "start_time": "2023-08-13T13:52:47.767Z"
   },
   {
    "duration": 17,
    "start_time": "2023-08-13T13:52:47.941Z"
   },
   {
    "duration": 261,
    "start_time": "2023-08-13T13:52:47.961Z"
   },
   {
    "duration": 371,
    "start_time": "2023-08-13T13:52:48.224Z"
   },
   {
    "duration": 13,
    "start_time": "2023-08-13T13:52:48.597Z"
   },
   {
    "duration": 172,
    "start_time": "2023-08-13T13:52:48.612Z"
   },
   {
    "duration": 6,
    "start_time": "2023-08-13T13:52:48.787Z"
   },
   {
    "duration": 194,
    "start_time": "2023-08-13T13:52:48.795Z"
   },
   {
    "duration": 13,
    "start_time": "2023-08-13T13:52:48.992Z"
   },
   {
    "duration": 7,
    "start_time": "2023-08-13T13:52:49.008Z"
   },
   {
    "duration": 51,
    "start_time": "2023-08-13T13:52:49.017Z"
   },
   {
    "duration": 15,
    "start_time": "2023-08-13T13:52:49.071Z"
   },
   {
    "duration": 18,
    "start_time": "2023-08-13T13:52:49.088Z"
   },
   {
    "duration": 17,
    "start_time": "2023-08-13T13:52:49.108Z"
   },
   {
    "duration": 51,
    "start_time": "2023-08-13T13:52:49.128Z"
   },
   {
    "duration": 120,
    "start_time": "2023-08-13T13:52:49.182Z"
   },
   {
    "duration": 24,
    "start_time": "2023-08-13T13:59:21.128Z"
   },
   {
    "duration": 26,
    "start_time": "2023-08-13T14:00:23.791Z"
   },
   {
    "duration": 22,
    "start_time": "2023-08-13T14:01:32.915Z"
   },
   {
    "duration": 15,
    "start_time": "2023-08-13T14:01:37.743Z"
   },
   {
    "duration": 19,
    "start_time": "2023-08-13T14:01:47.656Z"
   },
   {
    "duration": 27,
    "start_time": "2023-08-13T14:04:27.618Z"
   },
   {
    "duration": 34,
    "start_time": "2023-08-13T14:10:17.015Z"
   },
   {
    "duration": 1189,
    "start_time": "2023-08-13T14:10:51.070Z"
   },
   {
    "duration": 81,
    "start_time": "2023-08-13T14:10:52.261Z"
   },
   {
    "duration": 15,
    "start_time": "2023-08-13T14:10:52.345Z"
   },
   {
    "duration": 28,
    "start_time": "2023-08-13T14:10:52.363Z"
   },
   {
    "duration": 24,
    "start_time": "2023-08-13T14:10:52.394Z"
   },
   {
    "duration": 17,
    "start_time": "2023-08-13T14:10:52.420Z"
   },
   {
    "duration": 29,
    "start_time": "2023-08-13T14:10:52.439Z"
   },
   {
    "duration": 35,
    "start_time": "2023-08-13T14:10:52.470Z"
   },
   {
    "duration": 30,
    "start_time": "2023-08-13T14:10:52.507Z"
   },
   {
    "duration": 20,
    "start_time": "2023-08-13T14:10:52.540Z"
   },
   {
    "duration": 38,
    "start_time": "2023-08-13T14:10:52.562Z"
   },
   {
    "duration": 27,
    "start_time": "2023-08-13T14:10:52.602Z"
   },
   {
    "duration": 22,
    "start_time": "2023-08-13T14:10:52.631Z"
   },
   {
    "duration": 32,
    "start_time": "2023-08-13T14:10:52.655Z"
   },
   {
    "duration": 23,
    "start_time": "2023-08-13T14:10:52.689Z"
   },
   {
    "duration": 38,
    "start_time": "2023-08-13T14:10:52.714Z"
   },
   {
    "duration": 26,
    "start_time": "2023-08-13T14:10:52.754Z"
   },
   {
    "duration": 35,
    "start_time": "2023-08-13T14:10:52.782Z"
   },
   {
    "duration": 12,
    "start_time": "2023-08-13T14:10:52.819Z"
   },
   {
    "duration": 39,
    "start_time": "2023-08-13T14:10:52.833Z"
   },
   {
    "duration": 13,
    "start_time": "2023-08-13T14:10:52.874Z"
   },
   {
    "duration": 190,
    "start_time": "2023-08-13T14:10:52.889Z"
   },
   {
    "duration": 132,
    "start_time": "2023-08-13T14:10:53.081Z"
   },
   {
    "duration": 17,
    "start_time": "2023-08-13T14:10:53.215Z"
   },
   {
    "duration": 24,
    "start_time": "2023-08-13T14:10:53.234Z"
   },
   {
    "duration": 6,
    "start_time": "2023-08-13T14:10:53.260Z"
   },
   {
    "duration": 30,
    "start_time": "2023-08-13T14:10:53.269Z"
   },
   {
    "duration": 309,
    "start_time": "2023-08-13T14:10:53.303Z"
   },
   {
    "duration": 222,
    "start_time": "2023-08-13T14:10:53.613Z"
   },
   {
    "duration": 348,
    "start_time": "2023-08-13T14:10:53.837Z"
   },
   {
    "duration": 241,
    "start_time": "2023-08-13T14:10:54.187Z"
   },
   {
    "duration": 151,
    "start_time": "2023-08-13T14:10:54.430Z"
   },
   {
    "duration": 10,
    "start_time": "2023-08-13T14:10:54.583Z"
   },
   {
    "duration": 256,
    "start_time": "2023-08-13T14:10:54.595Z"
   },
   {
    "duration": 327,
    "start_time": "2023-08-13T14:10:54.857Z"
   },
   {
    "duration": 13,
    "start_time": "2023-08-13T14:10:55.186Z"
   },
   {
    "duration": 161,
    "start_time": "2023-08-13T14:10:55.201Z"
   },
   {
    "duration": 6,
    "start_time": "2023-08-13T14:10:55.363Z"
   },
   {
    "duration": 171,
    "start_time": "2023-08-13T14:10:55.371Z"
   },
   {
    "duration": 16,
    "start_time": "2023-08-13T14:10:55.544Z"
   },
   {
    "duration": 5,
    "start_time": "2023-08-13T14:10:55.561Z"
   },
   {
    "duration": 25,
    "start_time": "2023-08-13T14:10:55.568Z"
   },
   {
    "duration": 12,
    "start_time": "2023-08-13T14:10:55.596Z"
   },
   {
    "duration": 29,
    "start_time": "2023-08-13T14:10:55.609Z"
   },
   {
    "duration": 10,
    "start_time": "2023-08-13T14:10:55.658Z"
   },
   {
    "duration": 60,
    "start_time": "2023-08-13T14:10:55.670Z"
   },
   {
    "duration": 116,
    "start_time": "2023-08-13T14:10:55.732Z"
   }
  ],
  "kernelspec": {
   "display_name": "Python 3 (ipykernel)",
   "language": "python",
   "name": "python3"
  },
  "language_info": {
   "codemirror_mode": {
    "name": "ipython",
    "version": 3
   },
   "file_extension": ".py",
   "mimetype": "text/x-python",
   "name": "python",
   "nbconvert_exporter": "python",
   "pygments_lexer": "ipython3",
   "version": "3.10.9"
  },
  "toc": {
   "base_numbering": 1,
   "nav_menu": {},
   "number_sections": true,
   "sideBar": true,
   "skip_h1_title": true,
   "title_cell": "Table of Contents",
   "title_sidebar": "Contents",
   "toc_cell": false,
   "toc_position": {},
   "toc_section_display": true,
   "toc_window_display": false
  }
 },
 "nbformat": 4,
 "nbformat_minor": 2
}
